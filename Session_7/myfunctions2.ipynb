{
 "cells": [
  {
   "cell_type": "markdown",
   "metadata": {},
   "source": [
    "# MyFunctions2 module"
   ]
  },
  {
   "cell_type": "code",
   "execution_count": null,
   "metadata": {},
   "outputs": [],
   "source": [
    "import multiprocessing as mp\n",
    "import numpy as np\n",
    "from multiprocessing import Semaphore, Lock, Process, Pool\n",
    "import ctypes\n",
    "import parallel_filters2 as my2"
   ]
  },
  {
   "cell_type": "code",
   "execution_count": null,
   "metadata": {},
   "outputs": [],
   "source": [
    "def withdraw(balance):     \n",
    "    for _ in range(10000): \n",
    "        balance.value = balance.value - 1\n",
    "  \n"
   ]
  },
  {
   "cell_type": "code",
   "execution_count": null,
   "metadata": {},
   "outputs": [],
   "source": [
    "def deposit(balance):     \n",
    "    for _ in range(10000): \n",
    "        balance.value = balance.value + 1"
   ]
  },
  {
   "cell_type": "code",
   "execution_count": null,
   "metadata": {},
   "outputs": [],
   "source": [
    "def withdraw2(balance, lock):     \n",
    "    for _ in range(10000): \n",
    "        lock.acquire() \n",
    "        balance.value = balance.value - 1\n",
    "        lock.release() "
   ]
  },
  {
   "cell_type": "code",
   "execution_count": null,
   "metadata": {},
   "outputs": [],
   "source": [
    "def deposit2(balance, lock):     \n",
    "    for _ in range(10000): \n",
    "        lock.acquire() \n",
    "        balance.value = balance.value + 1\n",
    "        lock.release() "
   ]
  },
  {
   "cell_type": "markdown",
   "metadata": {},
   "source": [
    "# Parallel image processing"
   ]
  },
  {
   "cell_type": "code",
   "execution_count": null,
   "metadata": {},
   "outputs": [],
   "source": [
    "def tonumpyarray(mp_arr):\n",
    "    #mp_array is a shared memory array with lock\n",
    "    \n",
    "    return np.frombuffer(mp_arr.get_obj(),dtype=np.uint8)"
   ]
  },
  {
   "cell_type": "code",
   "execution_count": null,
   "metadata": {},
   "outputs": [],
   "source": [
    "def parallel_filter1(image_src,image_dst,imgfilter,num_processes,global_lock):\n",
    "    #image_src is the original image\n",
    "    #image_dst is the shared memory where you will have to save the filtered image\n",
    "    rows = image.shape[0]\n",
    "    v = range(rows)\n",
    "    with mp.Pool(processes=num_process,initializer=my2.filter1_init,initargs=[image_src,image_dst,imgfilter.global_lock]) as p:\n",
    "        p.map(my2.filter1,v)\n",
    "    return"
   ]
  },
  {
   "cell_type": "code",
   "execution_count": null,
   "metadata": {},
   "outputs": [],
   "source": [
    "def parallel_filter2(image_src,image_dst,imgfilter,num_processes,global_lock):\n",
    "    rows = image.shape[0]\n",
    "    v = range(rows)\n",
    "    with mp.Pool(processes=num_process,initializer=my2.filter2_init,initargs=[image_src,image_dst,imgfilter,global_lock]) as p:\n",
    "        p.map(my2.filter2)\n",
    "    return"
   ]
  },
  {
   "cell_type": "code",
   "execution_count": null,
   "metadata": {},
   "outputs": [],
   "source": [
    "def parallel_postprocess(image1,image2, global_lock):\n",
    "    return"
   ]
  },
  {
   "cell_type": "code",
   "execution_count": null,
   "metadata": {},
   "outputs": [],
   "source": [
    "#This cell should be the last one\n",
    "#this avoid the execution of this script when is invoked directly.\n",
    "if __name__ == \"__main__\":\n",
    "    print(\"This is not an executable library\")"
   ]
  }
 ],
 "metadata": {
  "kernelspec": {
   "display_name": "Python 3",
   "language": "python",
   "name": "python3"
  },
  "language_info": {
   "codemirror_mode": {
    "name": "ipython",
    "version": 3
   },
   "file_extension": ".py",
   "mimetype": "text/x-python",
   "name": "python",
   "nbconvert_exporter": "python",
   "pygments_lexer": "ipython3",
   "version": "3.7.9"
  }
 },
 "nbformat": 4,
 "nbformat_minor": 4
}
