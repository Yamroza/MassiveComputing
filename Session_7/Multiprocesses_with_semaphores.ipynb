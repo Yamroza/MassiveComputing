{
 "cells": [
  {
   "cell_type": "markdown",
   "metadata": {},
   "source": [
    "# 4th Session: Parallel Processes with Semaphores and Memory Locks\n",
    "\n",
    "In this session we will implements a parallel proceses with sempahores and memory locks"
   ]
  },
  {
   "cell_type": "code",
   "execution_count": 1,
   "metadata": {},
   "outputs": [
    {
     "name": "stdout",
     "output_type": "stream",
     "text": [
      "%pylab is deprecated, use %matplotlib inline and import the required libraries.\n",
      "Populating the interactive namespace from numpy and matplotlib\n"
     ]
    }
   ],
   "source": [
    "%pylab inline\n",
    "import multiprocessing as mp\n",
    "import numpy as np\n",
    "from PIL import Image\n",
    "import matplotlib.pyplot as plt\n",
    "import matplotlib.image as mpimg\n",
    "from multiprocessing import Semaphore, Lock, Process, Pool\n",
    "import ctypes\n",
    "import myfunctions2 as my\n",
    "import time"
   ]
  },
  {
   "cell_type": "markdown",
   "metadata": {},
   "source": [
    "In the next cells, we import the importlib module, needed to reload tue updated myfunctions2 module\n",
    "evry time we change the functions"
   ]
  },
  {
   "cell_type": "code",
   "execution_count": 2,
   "metadata": {},
   "outputs": [],
   "source": [
    "import importlib"
   ]
  },
  {
   "cell_type": "code",
   "execution_count": 3,
   "metadata": {},
   "outputs": [
    {
     "data": {
      "text/plain": [
       "<module 'myfunctions2' from '/home/yamroza/Documents/SEMV/MassiveComputing/Session_7/myfunctions2.py'>"
      ]
     },
     "execution_count": 3,
     "metadata": {},
     "output_type": "execute_result"
    }
   ],
   "source": [
    "importlib.reload(my)"
   ]
  },
  {
   "cell_type": "markdown",
   "metadata": {},
   "source": [
    "This first parallel Multiple Instructions, Multiple Data (MIMD) parallel program will try to make deposits and withdraw over a shared memory value, called balance. \n",
    "It will start with value of 100.\n",
    "\n",
    "The use of Pool execution is oriented to Single Instruction, Multiple Data (SIMD) parallel processes: We define just one execution function, which will be applied to multiple data.\n",
    "\n",
    "Now, if we will execute a Multiple Instruction, Multiple Data (MIMD) program, we need to use the *multiprocessing.Process* class.\n",
    "\n",
    "In this case, we construct as many of multiprocessing.Process objects as we need, assigning which function will be executed in each one of the parallel processes, and passing their arguments values\n",
    "\n",
    "After defining the Process objects, we start those processes with the method start() and each one of them will start to run.\n",
    "\n",
    "To synchronize the execution, we can wait until one parallel process ends using the method join()\n",
    "\n"
   ]
  },
  {
   "cell_type": "code",
   "execution_count": 4,
   "metadata": {},
   "outputs": [],
   "source": [
    "# Python program to illustrate  \n",
    "# the concept of race condition \n",
    "# in multiprocessing \n",
    " \n",
    "  \n",
    "# function to withdraw from account \n",
    "\n",
    "  \n",
    "def perform_transactions(): \n",
    "  \n",
    "    # initial balance (in shared memory) \n",
    "    balance = mp.Value('i', 100) \n",
    "  \n",
    "    # creating new processes \n",
    "    p1 = mp.Process(target=my.withdraw, args=(balance,)) \n",
    "    p2 = mp.Process(target=my.deposit, args=(balance,)) \n",
    "  \n",
    "    # starting processes \n",
    "    p1.start() \n",
    "    p2.start() \n",
    "  \n",
    "    # wait until processes are finished \n",
    "    p1.join() \n",
    "    p2.join() \n",
    "  \n",
    "    # print final balance \n",
    "    print(\"Final balance = {}\".format(balance.value)) "
   ]
  },
  {
   "cell_type": "markdown",
   "metadata": {},
   "source": [
    "We will run 10 times the main function \"perform_transactions\".\n",
    "Check 2 things: final value and time used"
   ]
  },
  {
   "cell_type": "code",
   "execution_count": 5,
   "metadata": {},
   "outputs": [
    {
     "name": "stdout",
     "output_type": "stream",
     "text": [
      "Final balance = 365\n",
      "Final balance = -636\n",
      "Final balance = -363\n",
      "Final balance = 275\n",
      "Final balance = 330\n",
      "Final balance = 77\n",
      "Final balance = 138\n",
      "Final balance = 911\n",
      "Final balance = 134\n",
      "Final balance = -271\n",
      "--- 0.5092284679412842 seconds ---\n"
     ]
    }
   ],
   "source": [
    "start_time=time.time()\n",
    "for _ in range(10): \n",
    "    # perform same transaction process 10 times \n",
    "    perform_transactions()\n",
    "print(\"--- %s seconds ---\" % (time.time() - start_time))\n"
   ]
  },
  {
   "cell_type": "markdown",
   "metadata": {},
   "source": [
    "Here we have a race condition, making several hazzards. In this case, we says: we have a race condition\n",
    "\n",
    "We do not controls the state of the shared variable *balance*\n",
    "Check the execution time"
   ]
  },
  {
   "cell_type": "markdown",
   "metadata": {},
   "source": [
    "### Avoid Race conditions\n",
    "In order to avoid race conditions, we have to use locks.\n",
    "\n",
    "We can use the inner lock properties in the Value object o use a global lock object\n",
    "\n",
    "Now, we create, more or less the same code, using locks:"
   ]
  },
  {
   "cell_type": "code",
   "execution_count": 6,
   "metadata": {},
   "outputs": [],
   "source": [
    "def perform_transactions2(): \n",
    "  \n",
    "    # initial balance (in shared memory) \n",
    "    balance = mp.Value('i', 100) \n",
    "  \n",
    "    # creating a lock object \n",
    "    lock = mp.Lock() \n",
    "  \n",
    "    # creating new processes \n",
    "    p1 = mp.Process(target=my.withdraw2, args=(balance,lock)) \n",
    "    p2 = mp.Process(target=my.deposit2, args=(balance,lock)) \n",
    "  \n",
    "    # starting processes \n",
    "    p1.start() \n",
    "    p2.start() \n",
    "  \n",
    "    # wait until processes are finished \n",
    "    p1.join() \n",
    "    p2.join() \n",
    "  \n",
    "    # print final balance \n",
    "    print(\"Final balance = {}\".format(balance.value)) "
   ]
  },
  {
   "cell_type": "markdown",
   "metadata": {},
   "source": [
    "Check, again, the final balance value and the execution time."
   ]
  },
  {
   "cell_type": "code",
   "execution_count": 7,
   "metadata": {},
   "outputs": [
    {
     "name": "stdout",
     "output_type": "stream",
     "text": [
      "Final balance = 100\n",
      "Final balance = 100\n",
      "Final balance = 100\n",
      "Final balance = 100\n",
      "Final balance = 100\n",
      "Final balance = 100\n",
      "Final balance = 100\n",
      "Final balance = 100\n",
      "Final balance = 100\n",
      "Final balance = 100\n",
      "--- 0.680781364440918 seconds ---\n"
     ]
    }
   ],
   "source": [
    "start_time=time.time()\n",
    "for _ in range(10): \n",
    "    # perform same transaction process 10 times \n",
    "    perform_transactions2() \n",
    "print(\"--- %s seconds ---\" % (time.time() - start_time))"
   ]
  },
  {
   "cell_type": "markdown",
   "metadata": {},
   "source": [
    "## Practical Work:\n",
    "\n",
    "Using your previous coded programs, create a program which applies tow filters to an image, using an edge filter, two kinds of filters, dirst and second order, and writing it in a two shared memory allocations.\n",
    "\n",
    "Synchronize it to:\n",
    "* Avoid any memory hazzard\n",
    "* Wait until both filtering process end\n",
    "\n",
    "After ends both filtering processes, whe have to read the memory results and compare pixel to pixel both filtered images and select the maximum, to select where the borders were detected.\n",
    "\n",
    "Both filters are the following:"
   ]
  },
  {
   "cell_type": "code",
   "execution_count": null,
   "metadata": {},
   "outputs": [],
   "source": [
    "#This is the this is the diferential first order differential edge filter sobel operator\n",
    "my_filter1=np.zeros((3,3))\n",
    "my_filter1[0,0]=1\n",
    "my_filter1[1,0]=2\n",
    "my_filter1[2,0]=1\n",
    "my_filter1[0,2]=-1\n",
    "my_filter1[1,2]=-2\n",
    "my_filter1[2,2]=-1\n"
   ]
  },
  {
   "cell_type": "code",
   "execution_count": null,
   "metadata": {},
   "outputs": [],
   "source": [
    "#This is the this is the diferential first order differential edge filter sobel operator\n",
    "my_filter2=np.zeros((3,3))\n",
    "my_filter2[0,0]=1\n",
    "my_filter2[0,1]=2\n",
    "my_filter2[0,2]=1\n",
    "my_filter2[2,0]=-1\n",
    "my_filter2[2,1]=-2\n",
    "my_filter2[2,2]=-1"
   ]
  },
  {
   "cell_type": "code",
   "execution_count": null,
   "metadata": {},
   "outputs": [],
   "source": [
    "image= np.array(Image.open('cat2.jpg'))"
   ]
  },
  {
   "cell_type": "code",
   "execution_count": null,
   "metadata": {},
   "outputs": [],
   "source": [
    "print(image.dtype)"
   ]
  },
  {
   "cell_type": "code",
   "execution_count": null,
   "metadata": {},
   "outputs": [],
   "source": [
    "print(image.shape)"
   ]
  },
  {
   "cell_type": "code",
   "execution_count": null,
   "metadata": {},
   "outputs": [],
   "source": [
    "plt.figure()\n",
    "plt.imshow(image)"
   ]
  },
  {
   "cell_type": "code",
   "execution_count": null,
   "metadata": {},
   "outputs": [],
   "source": [
    "data_buffer_size=image.shape[0]*image.shape[1]*image.shape[2]\n",
    "print(data_buffer_size)"
   ]
  },
  {
   "cell_type": "code",
   "execution_count": null,
   "metadata": {},
   "outputs": [],
   "source": [
    "shared_space1= Array(ctypes.c_byte,data_buffer_size)"
   ]
  },
  {
   "cell_type": "code",
   "execution_count": null,
   "metadata": {},
   "outputs": [],
   "source": [
    "shared_data1=my.tonumpyarray(shared_space1)\n",
    "result_matrix1=shared_data.reshape(image.shape)"
   ]
  },
  {
   "cell_type": "code",
   "execution_count": null,
   "metadata": {},
   "outputs": [],
   "source": [
    "shared_space2= Array(ctypes.c_byte,data_buffer_size)"
   ]
  },
  {
   "cell_type": "code",
   "execution_count": null,
   "metadata": {},
   "outputs": [],
   "source": [
    "shared_data2=my.tonumpyarray(shared_space2)\n",
    "result_matrix2=shared_data2.reshape(image.shape)"
   ]
  },
  {
   "cell_type": "code",
   "execution_count": null,
   "metadata": {},
   "outputs": [],
   "source": [
    "def parallel_process(image,shared_space_1, shared_space_2):\n",
    "    #takes the number of processors and divide by 2, for fair play\n",
    "    numprocess = int(mp.cpu_count()/2)\n",
    "    #creates a lock instance\n",
    "    lock = mp.Lock()\n",
    "    #defines both processes\n",
    "    p1 = mp.Process(target=my.parallel_filter1, args=(image,shared_space1,my_filter1,numprocess,lock)) \n",
    "    p2 = mp.Process(target=my.parallel_filter2, args=(image,shared_space2,my_filter1,numprocess,lock))\n",
    "    #fires both processes in parallel\n",
    "    p1.start()\n",
    "    p2.start()\n",
    "    \n",
    "    #Now, whe have to wait until both parallel tasks\n",
    "    #<fill code here> to wait both processes end before continues\n",
    "    \n",
    "    p3 = mp.Process(target=my.parallel_postprocess, args=(image,shared_space1,shared_space2,numprocesslock))\n",
    "    \n",
    "    #<fill code here tho fire the third process and wait until it ends>\n",
    "    "
   ]
  },
  {
   "cell_type": "code",
   "execution_count": null,
   "metadata": {},
   "outputs": [],
   "source": [
    "parallel_process(image,shared_data1,shared_data2)"
   ]
  }
 ],
 "metadata": {
  "kernelspec": {
   "display_name": "Python 3.10.4 64-bit",
   "language": "python",
   "name": "python3"
  },
  "language_info": {
   "codemirror_mode": {
    "name": "ipython",
    "version": 3
   },
   "file_extension": ".py",
   "mimetype": "text/x-python",
   "name": "python",
   "nbconvert_exporter": "python",
   "pygments_lexer": "ipython3",
   "version": "3.10.4"
  },
  "vscode": {
   "interpreter": {
    "hash": "916dbcbb3f70747c44a77c7bcd40155683ae19c65e1c03b4aa3499c5328201f1"
   }
  }
 },
 "nbformat": 4,
 "nbformat_minor": 4
}
