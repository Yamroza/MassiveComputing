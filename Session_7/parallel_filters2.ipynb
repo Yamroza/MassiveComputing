{
 "cells": [
  {
   "cell_type": "markdown",
   "metadata": {},
   "source": [
    "# Nested parallel filters 2"
   ]
  },
  {
   "cell_type": "code",
   "execution_count": null,
   "metadata": {},
   "outputs": [],
   "source": [
    "def filter1_init(img_src,img_dst,imgfilter,glb_lock):\n",
    "    global image_src1\n",
    "    global image_dst1\n",
    "    global image_filter1\n",
    "    global global_lock1\n",
    "    \n",
    "    image_src1=img_src\n",
    "    image_dst1=img_dst\n",
    "    image_filter1=imgfilter\n",
    "    global_lock1=glb_lock\n",
    "    \n",
    "    #if you whish to handle image_dst1 as NumPy matrix, you should have to create a new global NumPy Matrix, and assign\n",
    "    #the image_dst1 shared array to the matrix buffer"
   ]
  },
  {
   "cell_type": "code",
   "execution_count": null,
   "metadata": {},
   "outputs": [],
   "source": [
    "def filter1(row):\n",
    "    #here the shared image is stored in image_src1,so:\n",
    "    row = image_src1[row,:,:]\n",
    "    return #you wish to return something?"
   ]
  },
  {
   "cell_type": "code",
   "execution_count": null,
   "metadata": {},
   "outputs": [],
   "source": [
    "def filter2_init(img_src,img_dst,imgfilter,glb_lock):\n",
    "    global image_src2\n",
    "    global image_dst2\n",
    "    global image_filter2\n",
    "    global global_lock2\n",
    "    \n",
    "    image_src1=img_src\n",
    "    image_dst1=img_dst\n",
    "    image_filter2=imgfilter\n",
    "    global_lock2=glb_lock\n",
    "    #if you whish to handle image_dst1 as NumPy matrix, you should have to create a new global NumPy Matrix, and assign\n",
    "    #the image_dst1 shared array to the matrix buffer"
   ]
  },
  {
   "cell_type": "code",
   "execution_count": null,
   "metadata": {},
   "outputs": [],
   "source": [
    "def filter2(row):\n",
    "    #here the shared image is stored in image_src1,so:\n",
    "    row = image_src2[row,:,:]\n",
    "    return #you wish to return something?"
   ]
  }
 ],
 "metadata": {
  "kernelspec": {
   "display_name": "Python 3",
   "language": "python",
   "name": "python3"
  },
  "language_info": {
   "codemirror_mode": {
    "name": "ipython",
    "version": 3
   },
   "file_extension": ".py",
   "mimetype": "text/x-python",
   "name": "python",
   "nbconvert_exporter": "python",
   "pygments_lexer": "ipython3",
   "version": "3.7.9"
  }
 },
 "nbformat": 4,
 "nbformat_minor": 4
}
