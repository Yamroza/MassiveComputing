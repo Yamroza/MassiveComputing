{
 "cells": [
  {
   "cell_type": "markdown",
   "metadata": {},
   "source": [
    "# First Practical Work\n",
    "\n",
    "## Data Science and Engineering\n",
    "\n",
    "### DESIGN OF AN IMAGE FILTER FUNCTION, PARALLELIZABLE AND SCALABLE"
   ]
  },
  {
   "cell_type": "markdown",
   "metadata": {},
   "source": [
    "## Authors:\n",
    "\n",
    "**Full name:** Mireia Alba Kesti Izquierdo \n",
    "    \n",
    "**NIA**:** 100406960\n",
    "\n",
    "**Full name:** Aleksandra Jamróz\n",
    "    \n",
    "**NIA**:** 100491363\n",
    "\n",
    "Python multiprocessing documentation https://docs.python.org/3/library/multiprocessing.html"
   ]
  },
  {
   "cell_type": "code",
   "execution_count": 1,
   "metadata": {},
   "outputs": [],
   "source": [
    "import numpy as np\n",
    "import multiprocessing as mp\n",
    "from PIL import Image               # pillow library - for image manipulation\n",
    "import matplotlib.pyplot as plt\n",
    "import matplotlib.image as mpimg\n",
    "import cProfile\n",
    "import ctypes"
   ]
  },
  {
   "cell_type": "code",
   "execution_count": 2,
   "metadata": {},
   "outputs": [
    {
     "data": {
      "text/plain": [
       "<module 'myfunctions' from '/home/yamroza/Documents/SEMV/MassiveComputing/project 1/Practical Work 01/myfunctions.py'>"
      ]
     },
     "execution_count": 2,
     "metadata": {},
     "output_type": "execute_result"
    }
   ],
   "source": [
    "# loading our own module\n",
    "import myfunctions as my\n",
    "import importlib\n",
    "importlib.reload(my)"
   ]
  },
  {
   "cell_type": "code",
   "execution_count": 3,
   "metadata": {},
   "outputs": [],
   "source": [
    "# opening the images for filtering\n",
    "F_IMAGE1 = Image.open(\"chess.jpg\")\n",
    "F_IMAGE2 = Image.open(\"fence.jpg\")"
   ]
  },
  {
   "cell_type": "code",
   "execution_count": 4,
   "metadata": {},
   "outputs": [
    {
     "name": "stdout",
     "output_type": "stream",
     "text": [
      "JPEG\n",
      "(216, 233)\n",
      "RGB\n"
     ]
    }
   ],
   "source": [
    "# get some information about image 1\n",
    "print(F_IMAGE1.format) #output: JPEG\n",
    "print(F_IMAGE1.size) #output: (216,233)\n",
    "print(F_IMAGE1.mode) #output: RGB"
   ]
  },
  {
   "cell_type": "code",
   "execution_count": 5,
   "metadata": {},
   "outputs": [
    {
     "name": "stdout",
     "output_type": "stream",
     "text": [
      "JPEG\n",
      "(1024, 623)\n",
      "RGB\n"
     ]
    }
   ],
   "source": [
    "# get some information about image 2\n",
    "print(F_IMAGE2.format) #output: JPEG\n",
    "print(F_IMAGE2.size) #output: (1024, 623)\n",
    "print(F_IMAGE2.mode) #output: RGB"
   ]
  },
  {
   "cell_type": "code",
   "execution_count": 6,
   "metadata": {},
   "outputs": [],
   "source": [
    "# load the images & convert them to numpy arrays\n",
    "image1 = np.array(F_IMAGE1)\n",
    "image2 = np.array(F_IMAGE2)"
   ]
  },
  {
   "cell_type": "code",
   "execution_count": 7,
   "metadata": {},
   "outputs": [
    {
     "name": "stdout",
     "output_type": "stream",
     "text": [
      "<class 'numpy.ndarray'>\n",
      "<class 'numpy.ndarray'>\n"
     ]
    }
   ],
   "source": [
    "# check that images were converted into numpy arrays correctly\n",
    "print(type(image1)) # --> output: <class 'numpy.ndarray'>\n",
    "print(type(image2)) # --> output: <class 'numpy.ndarray'>"
   ]
  },
  {
   "cell_type": "code",
   "execution_count": 8,
   "metadata": {},
   "outputs": [],
   "source": [
    "# get the value of each pixel of the numpy array image for image1 and image2\n",
    "# print(image1)\n",
    "# print(image2)"
   ]
  },
  {
   "cell_type": "code",
   "execution_count": 9,
   "metadata": {},
   "outputs": [],
   "source": [
    "# definitions of 5 available filters as numpy arrays\n",
    "\n",
    "filter1 = np.array([[0,0,0,0,0],\n",
    "                    [0,0,0,0,0],\n",
    "                    [0,0,1,0,0],\n",
    "                    [0,0,0,0,0],\n",
    "                    [0,0,0,0,0]])\n",
    "\n",
    "filter2 = np.array([0.5, 0 , -0.5])\n",
    "\n",
    "filter3 = np.array([[0.5],[0],[0.5]])\n",
    "\n",
    "filter4 = np.array([[1,0,-1],\n",
    "                    [2,0,-2],\n",
    "                    [1,0,-1]])\n",
    "\n",
    "filter5 = np.array([[0.00078633,0.00655965,0.01330373,0.00655965,0.00078633],\n",
    "                    [0.00655965,0.05472157,0.11098164,0.05472157,0.00655965],\n",
    "                    [0.01330373,0.11098164,0.22508352,0.11098164,0.01330373],\n",
    "                    [0.00655965,0.05472157,0.11098164,0.05472157,0.00655965],\n",
    "                    [0.00078633,0.00655965,0.01330373,0.00655965,0.00078633]])"
   ]
  },
  {
   "cell_type": "code",
   "execution_count": 10,
   "metadata": {},
   "outputs": [],
   "source": [
    "# setting the number of processes\n",
    "NUMPROCESS = 8"
   ]
  },
  {
   "cell_type": "code",
   "execution_count": 11,
   "metadata": {},
   "outputs": [],
   "source": [
    "# defining multiprocessing vectors (shared spaces)\n",
    "filtered_image1_VECTOR = mp.Array(ctypes.c_byte, (image1.shape[0] * image1.shape[1] * image1.shape[2]))\n",
    "filtered_image2_VECTOR = mp.Array(ctypes.c_byte, (image2.shape[0] * image2.shape[1] * image2.shape[2]))"
   ]
  },
  {
   "cell_type": "markdown",
   "metadata": {},
   "source": [
    "# AFTER THIS CELL YOU HAVE TO WRITE YOUR CODE\n",
    "\n",
    "After this cell you have to use the preloaded image defined in the F_IMAGE variable, select two of the 5 predefined filters, and using the NUMPROCESS processors, apply the filters to the image and check results.\n",
    "\n",
    "* The first filter is impulse response filter (the image output must be equal to the original one).\n",
    "* The second filter is an edge filter, first order in x axis,  \n",
    "* The third filter is an edge filter, first order in y axis,\n",
    "* the fourth filter is an edge filter, second order, bi-directional\n",
    "* the fifth filter is a blur gausian filter."
   ]
  },
  {
   "cell_type": "code",
   "execution_count": 12,
   "metadata": {},
   "outputs": [],
   "source": [
    "# GOES TO MAIN MODULE\n",
    "# SECOND OBLIGATORY FUNCTION FROM INSTRUCTION\n",
    "def filters_execution(image: np.array,  \n",
    "                      filter_mask1: np.array, \n",
    "                      filter_mask2: np.array,  \n",
    "                      numprocessors: int,\n",
    "                      filtered_image1: mp.Array,\n",
    "                      filtered_image2: mp.Array ):\n",
    "    \"\"\"\n",
    "    Function invoking 2 different parallel processes, each executing a filter\n",
    "    on the same image and saving the result to independent memory spaces. Uses\n",
    "    previous function for filtering.\n",
    "    \"\"\"\n",
    "\n",
    "    # creating two processes\n",
    "    p1 = mp.Process(target = my.image_filter, args = (image, filter_mask1, numprocessors, filtered_image1))\n",
    "    p2 = mp.Process(target = my.image_filter, args = (image, filter_mask2, numprocessors, filtered_image2))\n",
    "    \n",
    "    # starting processes \n",
    "    p1.start() \n",
    "    p2.start() \n",
    "  \n",
    "    # wait until processes are finished \n",
    "    p1.join() \n",
    "    p2.join()\n",
    "\n",
    "    return"
   ]
  },
  {
   "cell_type": "code",
   "execution_count": 13,
   "metadata": {},
   "outputs": [],
   "source": [
    "#YOUR CODE MUST BE START HERE\n",
    "# shared_data1 = my.tonumpyarray(filtered_image1_VECTOR)\n",
    "# shared_data2 = my.tonumpyarray(filtered_image2_VECTOR)\n",
    "# result_matrix1 = shared_data1.reshape(F_IMAGE1.shape)\n",
    "# result_matrix2 = shared_data2.reshape(F_IMAGE2.shape)"
   ]
  },
  {
   "cell_type": "code",
   "execution_count": 14,
   "metadata": {},
   "outputs": [
    {
     "ename": "AttributeError",
     "evalue": "module 'myfunctions' has no attribute 'filters_execution'",
     "output_type": "error",
     "traceback": [
      "\u001b[0;31m---------------------------------------------------------------------------\u001b[0m",
      "\u001b[0;31mAttributeError\u001b[0m                            Traceback (most recent call last)",
      "Cell \u001b[0;32mIn [14], line 3\u001b[0m\n\u001b[1;32m      1\u001b[0m \u001b[39m#YOUR CODE MUST END HERE\u001b[39;00m\n\u001b[1;32m      2\u001b[0m importlib\u001b[39m.\u001b[39mreload(my)\n\u001b[0;32m----> 3\u001b[0m my\u001b[39m.\u001b[39;49mfilters_execution(image1, filter1, filter2, \u001b[39m8\u001b[39m, filtered_image1_VECTOR, filtered_image2_VECTOR)\n",
      "\u001b[0;31mAttributeError\u001b[0m: module 'myfunctions' has no attribute 'filters_execution'"
     ]
    }
   ],
   "source": [
    "#YOUR CODE MUST END HERE\n",
    "importlib.reload(my)\n",
    "filters_execution(image1, filter1, filter2, 8, filtered_image1_VECTOR, filtered_image2_VECTOR)"
   ]
  },
  {
   "cell_type": "markdown",
   "metadata": {},
   "source": [
    "# Visualization\n",
    "In this last cells we take the filtered images stored in the multiprocessing.Vector variables filtered_image1_VECTOR and filtered_image2_VECTOR, converts to numpy array, with the same shape of the orginal images, and show the results."
   ]
  },
  {
   "cell_type": "code",
   "execution_count": null,
   "metadata": {},
   "outputs": [],
   "source": [
    "filtered_image1 = my.tonumpyarray(filtered_image1_VECTOR).reshape(image1.shape)\n",
    "filtered_image2 = my.tonumpyarray(filtered_image2_VECTOR).reshape(image2.shape)"
   ]
  },
  {
   "cell_type": "code",
   "execution_count": null,
   "metadata": {},
   "outputs": [],
   "source": [
    "plt.figure()\n",
    "plt.imshow(filtered_image1)"
   ]
  },
  {
   "cell_type": "code",
   "execution_count": null,
   "metadata": {},
   "outputs": [],
   "source": [
    "plt.figure()\n",
    "plt.imshow(filtered_image2)"
   ]
  }
 ],
 "metadata": {
  "kernelspec": {
   "display_name": "Python 3.10.6 64-bit",
   "language": "python",
   "name": "python3"
  },
  "language_info": {
   "codemirror_mode": {
    "name": "ipython",
    "version": 3
   },
   "file_extension": ".py",
   "mimetype": "text/x-python",
   "name": "python",
   "nbconvert_exporter": "python",
   "pygments_lexer": "ipython3",
   "version": "3.10.6"
  },
  "vscode": {
   "interpreter": {
    "hash": "916dbcbb3f70747c44a77c7bcd40155683ae19c65e1c03b4aa3499c5328201f1"
   }
  }
 },
 "nbformat": 4,
 "nbformat_minor": 4
}
