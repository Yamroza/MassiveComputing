{
 "cells": [
  {
   "cell_type": "markdown",
   "metadata": {},
   "source": [
    "# First Practical Work\n",
    "\n",
    "## Data Science and Engineering\n",
    "\n",
    "### DESIGN OF AN IMAGE FILTER FUNCTION, PARALLELIZABLE AND SCALABLE"
   ]
  },
  {
   "cell_type": "markdown",
   "metadata": {},
   "source": [
    "## Authors:\n",
    "\n",
    "**Full name:** Mireia Alba Kesti Izquierdo \n",
    "    \n",
    "**NIA**:** 100406960\n",
    "\n",
    "**Full name:** Aleksandra Jamróz\n",
    "    \n",
    "**NIA**:** 100491363\n",
    "\n",
    "Python multiprocessing documentation https://docs.python.org/3/library/multiprocessing.html"
   ]
  },
  {
   "cell_type": "code",
   "execution_count": null,
   "metadata": {},
   "outputs": [],
   "source": [
    "import numpy as np\n",
    "import multiprocessing as mp\n",
    "from PIL import Image\n",
    "import matplotlib.pyplot as plt\n",
    "import matplotlib.image as mpimg\n",
    "import cProfile\n",
    "import ctypes"
   ]
  },
  {
   "cell_type": "code",
   "execution_count": null,
   "metadata": {},
   "outputs": [],
   "source": [
    "# loading our own module\n",
    "import myfunctions as my\n",
    "import importlib\n",
    "importlib.reload(my)"
   ]
  },
  {
   "cell_type": "markdown",
   "metadata": {},
   "source": [
    "### Image preparation \n",
    "\n",
    "First we have to take care about our image. Choose the file, open it, convert to numpy array and check the dimentions."
   ]
  },
  {
   "cell_type": "code",
   "execution_count": null,
   "metadata": {},
   "outputs": [],
   "source": [
    "# defining the images for filtering\n",
    "chess_file = \"chess.jpg\"\n",
    "digits_file = \"digits.jpg\"\n",
    "fence_file = \"fence.jpg\"\n",
    "hand_x_ray_file = \"hand-x-ray.jpg\"\n",
    "jupiter_file = \"cloudsonjupi.jpg\"\n",
    "\n",
    "# opening chosen file\n",
    "F_IMAGE = Image.open(chess_file)\n",
    "\n",
    "# defining cmap (default is color image, if it's grayscale, cmap is changed later)\n",
    "cmap = None"
   ]
  },
  {
   "cell_type": "code",
   "execution_count": null,
   "metadata": {},
   "outputs": [],
   "source": [
    "# get some information about the image\n",
    "print(F_IMAGE.format)\n",
    "print(F_IMAGE.size)\n",
    "print(F_IMAGE.mode)"
   ]
  },
  {
   "cell_type": "code",
   "execution_count": null,
   "metadata": {},
   "outputs": [],
   "source": [
    "# load the image & convert it to numpy array\n",
    "image = np.array(F_IMAGE)\n",
    "\n",
    "# check that the image was converted into numpy array correctly\n",
    "print(type(image))"
   ]
  },
  {
   "cell_type": "code",
   "execution_count": null,
   "metadata": {},
   "outputs": [],
   "source": [
    "# checking if image is gray-scale, changing cmap and expanding one dimention if necessary\n",
    "if len(image.shape) == 2:\n",
    "    cmap = \"gray\"\n",
    "    image = np.expand_dims(image, axis=2)"
   ]
  },
  {
   "cell_type": "code",
   "execution_count": null,
   "metadata": {},
   "outputs": [],
   "source": [
    "# visualise the picture\n",
    "plt.figure()\n",
    "plt.imshow(image, cmap=cmap)"
   ]
  },
  {
   "cell_type": "code",
   "execution_count": null,
   "metadata": {},
   "outputs": [],
   "source": [
    "# get the value of each pixel of the numpy array image\n",
    "print(image)"
   ]
  },
  {
   "cell_type": "markdown",
   "metadata": {},
   "source": [
    "### Definitions of filters\n",
    "* The first filter is impulse response filter (the image output must be equal to the original one).\n",
    "* The second filter is an edge filter, first order in x axis,  \n",
    "* The third filter is an edge filter, first order in y axis,\n",
    "* the fourth filter is an edge filter, second order, bi-directional\n",
    "* the fifth filter is a blur gausian filter."
   ]
  },
  {
   "cell_type": "code",
   "execution_count": null,
   "metadata": {},
   "outputs": [],
   "source": [
    "# definitions of 5 available filters as numpy arrays\n",
    "\n",
    "filter1 = np.array([[0,0,0,0,0],\n",
    "                    [0,0,0,0,0],\n",
    "                    [0,0,1,0,0],\n",
    "                    [0,0,0,0,0],\n",
    "                    [0,0,0,0,0]])\n",
    "\n",
    "filter2 = np.array([[0.5, 0 , -0.5]])\n",
    "\n",
    "filter3 = np.array([[0.5],[0],[-0.5]])\n",
    "\n",
    "filter4 = np.array([[1,0,-1],\n",
    "                    [2,0,-2],\n",
    "                    [1,0,-1]])\n",
    "\n",
    "filter5 = np.array([[0.00078633,0.00655965,0.01330373,0.00655965,0.00078633],\n",
    "                    [0.00655965,0.05472157,0.11098164,0.05472157,0.00655965],\n",
    "                    [0.01330373,0.11098164,0.22508352,0.11098164,0.01330373],\n",
    "                    [0.00655965,0.05472157,0.11098164,0.05472157,0.00655965],\n",
    "                    [0.00078633,0.00655965,0.01330373,0.00655965,0.00078633]])"
   ]
  },
  {
   "cell_type": "markdown",
   "metadata": {},
   "source": [
    "### Preparation for filtering\n",
    "\n",
    "In order to filter the image, we have to define some variables: how many processes we want to start, how much space will each of filtered image take and then define shared spaces in which our filtered images will be stored."
   ]
  },
  {
   "cell_type": "code",
   "execution_count": null,
   "metadata": {},
   "outputs": [],
   "source": [
    "# setting the number of processes\n",
    "NUMPROCESS = 8"
   ]
  },
  {
   "cell_type": "code",
   "execution_count": null,
   "metadata": {},
   "outputs": [],
   "source": [
    "# calculating data size to allocate in memory for filtered image\n",
    "data_buffer_size = image.shape[0] * image.shape[1] * image.shape[2]\n",
    "print(\"Size of the image: \", data_buffer_size)\n"
   ]
  },
  {
   "cell_type": "code",
   "execution_count": null,
   "metadata": {},
   "outputs": [],
   "source": [
    "# defining multiprocessing vectors (shared spaces)\n",
    "filtered_image1_VECTOR = mp.Array(ctypes.c_byte, data_buffer_size)\n",
    "filtered_image2_VECTOR = mp.Array(ctypes.c_byte, data_buffer_size)"
   ]
  },
  {
   "cell_type": "markdown",
   "metadata": {},
   "source": [
    "### Applying 1 filter\n",
    "\n",
    "Let's check if filtering function implemented in first separate module works correctly. We will run it on an image with one filter and see the result."
   ]
  },
  {
   "cell_type": "code",
   "execution_count": null,
   "metadata": {},
   "outputs": [],
   "source": [
    "my.image_filter(image, filter2, NUMPROCESS, filtered_image1_VECTOR)  "
   ]
  },
  {
   "cell_type": "code",
   "execution_count": null,
   "metadata": {},
   "outputs": [],
   "source": [
    "filtered_image1 = my.tonumpyarray(filtered_image1_VECTOR).reshape(image.shape)"
   ]
  },
  {
   "cell_type": "code",
   "execution_count": null,
   "metadata": {},
   "outputs": [],
   "source": [
    "plt.figure()\n",
    "plt.imshow(filtered_image1, cmap=cmap)"
   ]
  },
  {
   "cell_type": "markdown",
   "metadata": {},
   "source": [
    "As we see, it works correctly. Now we can move to the second part."
   ]
  },
  {
   "cell_type": "markdown",
   "metadata": {},
   "source": [
    "### Applying 2 filters\n",
    "\n",
    "Here you can find a function which filters 1 image with 2 filters at the same time. Filtering functions are in the separate modules in order to create  separate memory spaces. Definitions of them can be found in myfunctions module and myfunctions2 file."
   ]
  },
  {
   "cell_type": "code",
   "execution_count": null,
   "metadata": {},
   "outputs": [],
   "source": [
    "def filters_execution(image: np.array,  \n",
    "                      filter_mask1: np.array, \n",
    "                      filter_mask2: np.array,  \n",
    "                      numprocessors: int,\n",
    "                      filtered_image1: mp.Array,\n",
    "                      filtered_image2: mp.Array ):\n",
    "    \"\"\"\n",
    "    Function invoking 2 different parallel processes, each executing a filter\n",
    "    on the same image and saving the result to independent memory spaces. Uses\n",
    "    previous function for filtering.\n",
    "    \"\"\"\n",
    "\n",
    "    # creating two processes\n",
    "    p1 = mp.Process(target = my.image_filter, args = (image, filter_mask1, numprocessors, filtered_image1))\n",
    "    p2 = mp.Process(target = my.image_filter, args = (image, filter_mask2, numprocessors, filtered_image2))\n",
    "    \n",
    "    # starting processes \n",
    "    p1.start() \n",
    "    p2.start() \n",
    "  \n",
    "    # wait until processes are finished \n",
    "    p1.join() \n",
    "    p2.join()\n",
    "\n",
    "    return"
   ]
  },
  {
   "cell_type": "code",
   "execution_count": null,
   "metadata": {},
   "outputs": [],
   "source": [
    "# Filters execution with chosen filters\n",
    "filters_execution(image, filter3, filter4, NUMPROCESS, filtered_image1_VECTOR, filtered_image2_VECTOR)"
   ]
  },
  {
   "cell_type": "markdown",
   "metadata": {},
   "source": [
    "### Visualization\n",
    "Here we take the filtered images stored in the multiprocessing.Vector variables filtered_image1_VECTOR and filtered_image2_VECTOR, convert to numpy array, with the same shape of the orginal image, and show the results."
   ]
  },
  {
   "cell_type": "code",
   "execution_count": null,
   "metadata": {},
   "outputs": [],
   "source": [
    "filtered_image1 = my.tonumpyarray(filtered_image1_VECTOR).reshape(image.shape)\n",
    "filtered_image2 = my.tonumpyarray(filtered_image2_VECTOR).reshape(image.shape)"
   ]
  },
  {
   "cell_type": "code",
   "execution_count": null,
   "metadata": {},
   "outputs": [],
   "source": [
    "plt.figure()\n",
    "plt.imshow(filtered_image1, cmap=cmap)"
   ]
  },
  {
   "cell_type": "code",
   "execution_count": null,
   "metadata": {},
   "outputs": [],
   "source": [
    "plt.figure()\n",
    "plt.imshow(filtered_image2, cmap=cmap)"
   ]
  }
 ],
 "metadata": {
  "kernelspec": {
   "display_name": "Python 3.10.6 64-bit",
   "language": "python",
   "name": "python3"
  },
  "language_info": {
   "codemirror_mode": {
    "name": "ipython",
    "version": 3
   },
   "file_extension": ".py",
   "mimetype": "text/x-python",
   "name": "python",
   "nbconvert_exporter": "python",
   "pygments_lexer": "ipython3",
   "version": "3.10.6"
  },
  "vscode": {
   "interpreter": {
    "hash": "916dbcbb3f70747c44a77c7bcd40155683ae19c65e1c03b4aa3499c5328201f1"
   }
  }
 },
 "nbformat": 4,
 "nbformat_minor": 4
}
