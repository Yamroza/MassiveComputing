{
 "cells": [
  {
   "cell_type": "markdown",
   "metadata": {
    "id": "RgiFzR-TVFrA"
   },
   "source": [
    "#Second Practical work\n",
    "\n",
    "This is second practical work skeleton.\n",
    "\n",
    "It is divided in 3 parts_\n",
    "\n",
    "1.   Python module load section: load all the needed modules\n",
    "2.   Google Drive access and mounting\n",
    "3.   Host load data\n",
    "4.   GPU load\n",
    "\n",
    "\n",
    "\n"
   ]
  },
  {
   "cell_type": "markdown",
   "metadata": {
    "id": "tfmxFIzPWszg"
   },
   "source": [
    "##Module load section\n",
    "We will install the pycuda module in the colaboratory environment, to combine python and CUDA in our code. Because pycuda is not available by default, this task can take a few minutes.\n",
    "\n",
    "As well we load numpy and matplotlib modules."
   ]
  },
  {
   "cell_type": "code",
   "execution_count": null,
   "metadata": {
    "id": "h5Q-ylEHHB2k"
   },
   "outputs": [],
   "source": [
    "!pip install pycuda"
   ]
  },
  {
   "cell_type": "markdown",
   "metadata": {
    "id": "hl4AhbSbW19W"
   },
   "source": [
    "We import the Python modules which we will use in the notebook (numpy, pycuda and time module) "
   ]
  },
  {
   "cell_type": "code",
   "execution_count": null,
   "metadata": {
    "id": "TLEg2Y41HFB3"
   },
   "outputs": [],
   "source": [
    "import  numpy  as  np\n",
    "import  pycuda.autoinit\n",
    "from    pycuda.compiler import SourceModule\n",
    "import  pycuda.driver as  drv\n",
    "import  pycuda.gpuarray as  gpuarray\n",
    "from sys import getsizeof\n",
    "import time"
   ]
  },
  {
   "cell_type": "code",
   "execution_count": null,
   "metadata": {
    "id": "JfOtyml91WNb"
   },
   "outputs": [],
   "source": [
    "%pylab inline\n",
    "from PIL import Image\n",
    "import matplotlib.pyplot as plt\n",
    "import matplotlib.image as mpimg\n",
    "import cProfile"
   ]
  },
  {
   "cell_type": "markdown",
   "metadata": {
    "id": "CHsvF9qH2G_u"
   },
   "source": [
    "##Mount Google Drive and access grant\n",
    "We use Google API to allow access to our Google Drive.\n",
    "\n",
    "For security and privacy reasons, this permission is temporally, and will be requested every time you restart the notebook. \n",
    "\n",
    "Your Google Drive will be mounted in the \"/content/drive\" folder. The first Folder will be \"My Drive\".\n",
    "\n",
    "You have to copy your images to a folder in the \"My Drive\" folder in your Google Drive.\n",
    "\n",
    "To check your available files, use the cell indicated as \"**List Files in Folder**\""
   ]
  },
  {
   "cell_type": "code",
   "execution_count": null,
   "metadata": {
    "id": "ykYa7-u8zDzk"
   },
   "outputs": [],
   "source": [
    "from os.path import join\n",
    "from google.colab import drive\n",
    "drive.mount(\"/content/drive\")"
   ]
  },
  {
   "cell_type": "code",
   "execution_count": null,
   "metadata": {
    "id": "RN-zy4mQzN-J"
   },
   "outputs": [],
   "source": [
    "MYDRIVE=\"/content/drive/My Drive/\""
   ]
  },
  {
   "cell_type": "markdown",
   "metadata": {
    "id": "ZtdarelZfv7Y"
   },
   "source": [
    "**List Files in Folders**"
   ]
  },
  {
   "cell_type": "code",
   "execution_count": null,
   "metadata": {
    "id": "IEkj24AFzdqw"
   },
   "outputs": [],
   "source": [
    "!ls /content/drive/My\\ Drive/images"
   ]
  },
  {
   "cell_type": "markdown",
   "metadata": {
    "id": "hQ9NrNYXf1Rg"
   },
   "source": [
    "We define a variable IMAGE which is constructed joining the \"MYDRIVE\" varible plus the final path to your image."
   ]
  },
  {
   "cell_type": "code",
   "execution_count": null,
   "metadata": {
    "id": "2TAhlCjS0YPw"
   },
   "outputs": [],
   "source": [
    "IMAGE=join(MYDRIVE,HERE YOU HAVE TO WRITE THE IMAGE TO LOAD)"
   ]
  },
  {
   "cell_type": "code",
   "execution_count": null,
   "metadata": {
    "id": "xVa1h0wr0fDJ"
   },
   "outputs": [],
   "source": [
    "print(\"Image to load: {0}\".format(IMAGE))"
   ]
  },
  {
   "cell_type": "markdown",
   "metadata": {
    "id": "otUSnNLOgilw"
   },
   "source": [
    "Loads an image in a numpy variable, and show."
   ]
  },
  {
   "cell_type": "code",
   "execution_count": null,
   "metadata": {
    "id": "K5MbuRm_1hdQ"
   },
   "outputs": [],
   "source": [
    "image=np.array(Image.open(IMAGE))\n",
    "plt.figure()\n",
    "plt.imshow(image)"
   ]
  },
  {
   "cell_type": "markdown",
   "metadata": {
    "id": "GhQwn2EMXDEY"
   },
   "source": [
    "#FILTER KERNEL\n",
    "\n",
    "Here you have to define your image_filter GPU kernel."
   ]
  },
  {
   "cell_type": "code",
   "execution_count": null,
   "metadata": {
    "id": "PY6Tlr-DHWU6"
   },
   "outputs": [],
   "source": [
    "kernel  =  SourceModule (\"\"\"\n",
    "__global__ void image_filter( float * image,          //Source GPU array floating point 32 bits,\n",
    "\t\t                          float * filter_mask,    //Filter Mask GPU array 2D floating point 32 bits\n",
    "                              float * filtered_image,  //Target GPU array 2D floating point 32 bits,\n",
    "                              int NumRowsImg,         //Image Numrows,\n",
    "                              int NumColsImg,         //Int32 Image Numcolumns,\n",
    "                              int NumRowsFilter,       //Int32 Image NumRows filter mask,\n",
    "                              int NumColsFilter       //Int32 Image NumCols filter mask\n",
    "                              ) \n",
    "{ \n",
    "    //This instruction calculate in the offset in the memory data, based on the block identificator blockIdx.x\n",
    "    // YOU HAVE TO WRITE HERE YOUR FILTER KERNEL USING TILED MEMORY ALGORITHMS\n",
    "\n",
    "    //THIS CODE JUST COPY THE SOURCE IMAGE IN THE TARGET VECTOR\n",
    "    int idxY;\n",
    "    int idxX;\n",
    "    int vX;\n",
    "\n",
    "    idxY = blockIdx.y*blockDim.y+threadIdx.y; //With this we calculate the row address in target matrix\n",
    "    idxX = blockIdx.x*blockDim.x+threadIdx.x;\n",
    "    if ((idxY<NumRowsImg) && (idxX<NumColsImg)){\n",
    "      vX=idxY*NumColsImg+idxX;\n",
    "      filtered_image[vX]=image[vX];\n",
    "    }\n",
    "}\n",
    "\n",
    "\"\"\")"
   ]
  },
  {
   "cell_type": "markdown",
   "metadata": {
    "id": "ovzzmuXBXYFH"
   },
   "source": [
    "And import the kernel definition to python"
   ]
  },
  {
   "cell_type": "code",
   "execution_count": null,
   "metadata": {
    "id": "cHkXntH0H2lL"
   },
   "outputs": [],
   "source": [
    "image_filter = kernel.get_function ('image_filter')"
   ]
  },
  {
   "cell_type": "code",
   "execution_count": null,
   "metadata": {
    "id": "N8y0LIU2hOd0"
   },
   "outputs": [],
   "source": []
  },
  {
   "cell_type": "markdown",
   "metadata": {
    "id": "N6NmxsN7X-02"
   },
   "source": [
    "Recover the image shape, and select the two first items (rows and columns)."
   ]
  },
  {
   "cell_type": "code",
   "execution_count": null,
   "metadata": {
    "id": "-9aWxHFFHxzT"
   },
   "outputs": [],
   "source": [
    "image_shape=image.shape[0:2]"
   ]
  },
  {
   "cell_type": "markdown",
   "metadata": {
    "id": "Txj67lrFYESV"
   },
   "source": [
    "Set block size and grid size."
   ]
  },
  {
   "cell_type": "code",
   "execution_count": null,
   "metadata": {
    "id": "sayAB5iQISs8"
   },
   "outputs": [],
   "source": [
    "block_s=16\n",
    "block_size=(block_s,block_s,1)\n",
    "grid_size=(int(np.ceil(image_shape[1]/block_s)),int(np.ceil(image_shape[0]/block_s)))"
   ]
  },
  {
   "cell_type": "markdown",
   "metadata": {
    "id": "4whAEkzPhvOC"
   },
   "source": [
    "Allocates the target image memory."
   ]
  },
  {
   "cell_type": "code",
   "execution_count": null,
   "metadata": {
    "id": "WnHTEzQXIw66"
   },
   "outputs": [],
   "source": [
    "result_image=np.zeros(image.shape,dtype=np.uint8)"
   ]
  },
  {
   "cell_type": "code",
   "execution_count": null,
   "metadata": {
    "id": "K8PcD3JeI-5K"
   },
   "outputs": [],
   "source": [
    "depth = image.shape[2]"
   ]
  },
  {
   "cell_type": "markdown",
   "metadata": {
    "id": "fV8ZVagpiI97"
   },
   "source": [
    "Here we defines our sample filter masks."
   ]
  },
  {
   "cell_type": "code",
   "execution_count": null,
   "metadata": {
    "id": "eWzJi8niPpuQ"
   },
   "outputs": [],
   "source": [
    "filter1=np.array([\n",
    "    [0,0,0,0,0],\n",
    "    [0,0,0,0,0],\n",
    "    [0,0,1,0,0],\n",
    "    [0,0,0,0,0],\n",
    "    [0,0,0,0,0]\n",
    "])\n",
    "filter2=np.array([[0.5, 0 , -0.5]])\n",
    "filter3=np.array([[0.5],[0],[-0.5]])\n",
    "\n",
    "filter4=np.array([\n",
    "    [1,0,-1],\n",
    "    [2,0,-2],\n",
    "    [1,0,-1]\n",
    "])\n",
    "filter5=np.array([\n",
    "    [0.00078633,0.00655965,0.01330373,0.00655965,0.00078633],\n",
    "    [0.00655965,0.05472157,0.11098164,0.05472157,0.00655965],\n",
    "    [0.01330373,0.11098164,0.22508352,0.11098164,0.01330373],\n",
    "    [0.00655965,0.05472157,0.11098164,0.05472157,0.00655965],\n",
    "    [0.00078633,0.00655965,0.01330373,0.00655965,0.00078633]\n",
    "])"
   ]
  },
  {
   "cell_type": "markdown",
   "metadata": {
    "id": "ZKu-1Eo7iSgz"
   },
   "source": [
    "We select the filter mask, and upload to the GPU device."
   ]
  },
  {
   "cell_type": "code",
   "execution_count": null,
   "metadata": {
    "id": "rxIm7BzdN8az"
   },
   "outputs": [],
   "source": [
    "filter_mask=filter1.astype(np.float32)\n",
    "filter_mask_gpu=gpuarray.to_gpu(filter_mask)"
   ]
  },
  {
   "cell_type": "markdown",
   "metadata": {
    "id": "IZ8gPCW0ijld"
   },
   "source": [
    "##Prepares the execution environment "
   ]
  },
  {
   "cell_type": "markdown",
   "metadata": {
    "id": "cdGCCI0PixrT"
   },
   "source": [
    "Allocate the temporal filtered memory layer, where will be store the filtered image."
   ]
  },
  {
   "cell_type": "code",
   "execution_count": null,
   "metadata": {
    "id": "7qK0LgeDWU27"
   },
   "outputs": [],
   "source": [
    "filtered_image_layer_gpu = gpuarray.zeros(image_shape,np.float32)"
   ]
  },
  {
   "cell_type": "markdown",
   "metadata": {
    "id": "-1oLCrqAYqED"
   },
   "source": [
    "Here defines the main block.\n",
    "Walk through the layers. Copying the selected layer to temporal image_layer, upload the layer to the GPU and invokes the image_filter kernel."
   ]
  },
  {
   "cell_type": "code",
   "execution_count": null,
   "metadata": {
    "id": "lvEsPtYFIUl3"
   },
   "outputs": [],
   "source": [
    "start_t = time.time()\n",
    "for layer in range(depth):\n",
    "  image_layer = np.zeros(image_shape,dtype=np.float32) #Allocate the temporal image layer\n",
    "  image_layer=(image[:,:,layer]).astype(np.float32)    #Copy from the orignal image the selected layer into the temporal memory\n",
    "  image_layer_gpu=gpuarray.to_gpu(image_layer)         #Uploads the image layer to the GPU\n",
    "  filtered_image_layer_gpu.fill(0.0)                   #Fills with 0 the target memory in the GPU\n",
    "  image_filter(                                        #invokes the kernel\n",
    "          image_layer_gpu,\n",
    "          filter_mask_gpu,\n",
    "          filtered_image_layer_gpu,\n",
    "          np.int32(image_shape[0]),\n",
    "          np.int32(image_shape[1]),\n",
    "          np.int32(filter_mask.shape[0]),\n",
    "          np.int32(filter_mask.shape[1]),\n",
    "          block=block_size,\n",
    "          grid=grid_size\n",
    "        )\n",
    "  filtered_image_layer=filtered_image_layer_gpu.get() #Download from the GPU the filtered image\n",
    "  result_image[:,:,layer] = filtered_image_layer.astype(np.uint8) #Copy the filtered image to the final image store, \n",
    "                                                                  #casting the data type from double to uint8\n",
    "end_t = time.time()"
   ]
  },
  {
   "cell_type": "markdown",
   "metadata": {
    "id": "uKz2XKjBkvgR"
   },
   "source": [
    "#Show results\n"
   ]
  },
  {
   "cell_type": "code",
   "execution_count": null,
   "metadata": {
    "id": "en0HMjtnk8uS"
   },
   "outputs": [],
   "source": [
    "print(\"Execution time is: {0} seconds.\".format(end_t-start_t))"
   ]
  },
  {
   "cell_type": "code",
   "execution_count": null,
   "metadata": {
    "id": "QnoPI5BCS9_o"
   },
   "outputs": [],
   "source": [
    "plt.figure()\n",
    "plt.imshow(result_image)"
   ]
  },
  {
   "cell_type": "code",
   "execution_count": null,
   "metadata": {
    "id": "6DbfqushTXBR"
   },
   "outputs": [],
   "source": []
  }
 ],
 "metadata": {
  "accelerator": "GPU",
  "colab": {
   "collapsed_sections": [],
   "name": "SecondPracticalWork.ipynb",
   "provenance": []
  },
  "kernelspec": {
   "display_name": "Python 3",
   "language": "python",
   "name": "python3"
  },
  "language_info": {
   "codemirror_mode": {
    "name": "ipython",
    "version": 3
   },
   "file_extension": ".py",
   "mimetype": "text/x-python",
   "name": "python",
   "nbconvert_exporter": "python",
   "pygments_lexer": "ipython3",
   "version": "3.8.8"
  }
 },
 "nbformat": 4,
 "nbformat_minor": 1
}
