{
 "cells": [
  {
   "cell_type": "markdown",
   "metadata": {
    "application/vnd.databricks.v1+cell": {
     "inputWidgets": {},
     "nuid": "9b71e48f-d338-43c8-baee-750a100f0eaa",
     "showTitle": false,
     "title": ""
    }
   },
   "source": [
    "# Wikipedia Analysis\n",
    "\n",
    "This notebook IS NOT an skeleton. Is a sample of instruccions to analyse in classroom the Wikipedia Dataset provided by Databricks\n",
    "\n",
    "During the class we will fill cells to implement the PageRank algorithm"
   ]
  },
  {
   "cell_type": "markdown",
   "metadata": {
    "application/vnd.databricks.v1+cell": {
     "inputWidgets": {},
     "nuid": "2264f219-b134-48e8-96f4-6e28acd97bc0",
     "showTitle": false,
     "title": ""
    }
   },
   "source": [
    "# Steps to implement **Page Rank Algorithm**\n",
    "* Check Data Raw structure\n",
    "* Extract relevant data: [Document ID, List of links]\n",
    "* Transform *List of links* to *List od Docuemts ID*: *Forward Links Table*\n",
    "* Calculate *Number of output links*\n",
    "* Construct *Reverse Links Table* from *Forward Links Table*\n",
    "* Initialize *Page Rank Table*\n",
    "* Recalculate *Page Rank Table* until:\n",
    " * All the *Page Rank* values are stable\n",
    " * Reach number of iterations (sugested value: 20 iterations)"
   ]
  },
  {
   "cell_type": "markdown",
   "metadata": {
    "application/vnd.databricks.v1+cell": {
     "inputWidgets": {},
     "nuid": "b429d52e-a2c6-427b-aa94-bde7eb5325e8",
     "showTitle": false,
     "title": ""
    }
   },
   "source": [
    "# A) Library configuration"
   ]
  },
  {
   "cell_type": "code",
   "execution_count": 1,
   "metadata": {
    "application/vnd.databricks.v1+cell": {
     "inputWidgets": {},
     "nuid": "000ae955-cd3b-4a52-9e0c-978241c38d5c",
     "showTitle": false,
     "title": ""
    }
   },
   "outputs": [],
   "source": [
    "import pandas as pd\n",
    "import re\n",
    "import math \n",
    "import warnings\n",
    "warnings.filterwarnings('ignore')"
   ]
  },
  {
   "cell_type": "code",
   "execution_count": 2,
   "metadata": {
    "application/vnd.databricks.v1+cell": {
     "inputWidgets": {},
     "nuid": "10865609-2787-4474-900b-54e4dd830765",
     "showTitle": false,
     "title": ""
    }
   },
   "outputs": [],
   "source": [
    "# from pyspark.sql.types import *\n",
    "from pyspark.sql.types import ArrayType, StringType,LongType, FloatType\n",
    "from pyspark.sql import functions as F\n",
    "from pyspark.sql import SparkSession\n",
    "from operator import add "
   ]
  },
  {
   "cell_type": "code",
   "execution_count": 3,
   "metadata": {
    "application/vnd.databricks.v1+cell": {
     "inputWidgets": {},
     "nuid": "7ae6143a-d173-4019-861b-e9955817c173",
     "showTitle": false,
     "title": ""
    }
   },
   "outputs": [
    {
     "name": "stderr",
     "output_type": "stream",
     "text": [
      "22/01/03 15:25:10 WARN SQLConf: The SQL config 'spark.sql.execution.arrow.enabled' has been deprecated in Spark v3.0 and may be removed in the future. Use 'spark.sql.execution.arrow.pyspark.enabled' instead of it.\n"
     ]
    }
   ],
   "source": [
    "spark.conf.set(\"spark.sql.execution.arrow.enabled\", \"false\")"
   ]
  },
  {
   "cell_type": "markdown",
   "metadata": {
    "application/vnd.databricks.v1+cell": {
     "inputWidgets": {},
     "nuid": "4dea502f-ce2d-4240-bfc7-237b98aedd3a",
     "showTitle": false,
     "title": ""
    }
   },
   "source": [
    "# 1) Check Data Raw Structure\n",
    "We will uses Databrics Wikipedia dataset, which contains 2012 Wikipedia Database in english"
   ]
  },
  {
   "cell_type": "code",
   "execution_count": 5,
   "metadata": {
    "application/vnd.databricks.v1+cell": {
     "inputWidgets": {},
     "nuid": "c3d78fa8-0b79-4931-b6ad-9a3f9b595d86",
     "showTitle": false,
     "title": ""
    }
   },
   "outputs": [
    {
     "name": "stderr",
     "output_type": "stream",
     "text": [
      "UsageError: Line magic function `%fs` not found.\n"
     ]
    }
   ],
   "source": [
    "%fs ls dbfs:/databricks-datasets/wikipedia-datasets/data-001/en_wikipedia"
   ]
  },
  {
   "cell_type": "code",
   "execution_count": 0,
   "metadata": {
    "application/vnd.databricks.v1+cell": {
     "inputWidgets": {},
     "nuid": "e60d44ac-70ba-4da5-a8e9-3d52a7133d42",
     "showTitle": false,
     "title": ""
    }
   },
   "outputs": [
    {
     "data": {
      "text/html": [
       "<style scoped>\n",
       "  .table-result-container {\n",
       "    max-height: 300px;\n",
       "    overflow: auto;\n",
       "  }\n",
       "  table, th, td {\n",
       "    border: 1px solid black;\n",
       "    border-collapse: collapse;\n",
       "  }\n",
       "  th, td {\n",
       "    padding: 5px;\n",
       "  }\n",
       "  th {\n",
       "    text-align: left;\n",
       "  }\n",
       "</style><div class='table-result-container'><table class='table-result'><thead style='background-color: white'><tr><th>path</th><th>name</th><th>size</th></tr></thead><tbody><tr><td>dbfs:/databricks-datasets/wikipedia-datasets/data-001/en_wikipedia/articles-only-parquet/_SUCCESS</td><td>_SUCCESS</td><td>0</td></tr><tr><td>dbfs:/databricks-datasets/wikipedia-datasets/data-001/en_wikipedia/articles-only-parquet/_common_metadata</td><td>_common_metadata</td><td>779</td></tr><tr><td>dbfs:/databricks-datasets/wikipedia-datasets/data-001/en_wikipedia/articles-only-parquet/_metadata</td><td>_metadata</td><td>15986429</td></tr><tr><td>dbfs:/databricks-datasets/wikipedia-datasets/data-001/en_wikipedia/articles-only-parquet/part-r-00000-ff5bbd4d-6518-4e17-8ff5-c8fd3d4a5b86.gz.parquet</td><td>part-r-00000-ff5bbd4d-6518-4e17-8ff5-c8fd3d4a5b86.gz.parquet</td><td>10085419</td></tr><tr><td>dbfs:/databricks-datasets/wikipedia-datasets/data-001/en_wikipedia/articles-only-parquet/part-r-00001-ff5bbd4d-6518-4e17-8ff5-c8fd3d4a5b86.gz.parquet</td><td>part-r-00001-ff5bbd4d-6518-4e17-8ff5-c8fd3d4a5b86.gz.parquet</td><td>15346826</td></tr><tr><td>dbfs:/databricks-datasets/wikipedia-datasets/data-001/en_wikipedia/articles-only-parquet/part-r-00002-ff5bbd4d-6518-4e17-8ff5-c8fd3d4a5b86.gz.parquet</td><td>part-r-00002-ff5bbd4d-6518-4e17-8ff5-c8fd3d4a5b86.gz.parquet</td><td>15762593</td></tr><tr><td>dbfs:/databricks-datasets/wikipedia-datasets/data-001/en_wikipedia/articles-only-parquet/part-r-00003-ff5bbd4d-6518-4e17-8ff5-c8fd3d4a5b86.gz.parquet</td><td>part-r-00003-ff5bbd4d-6518-4e17-8ff5-c8fd3d4a5b86.gz.parquet</td><td>8977575</td></tr><tr><td>dbfs:/databricks-datasets/wikipedia-datasets/data-001/en_wikipedia/articles-only-parquet/part-r-00004-ff5bbd4d-6518-4e17-8ff5-c8fd3d4a5b86.gz.parquet</td><td>part-r-00004-ff5bbd4d-6518-4e17-8ff5-c8fd3d4a5b86.gz.parquet</td><td>15739954</td></tr><tr><td>dbfs:/databricks-datasets/wikipedia-datasets/data-001/en_wikipedia/articles-only-parquet/part-r-00005-ff5bbd4d-6518-4e17-8ff5-c8fd3d4a5b86.gz.parquet</td><td>part-r-00005-ff5bbd4d-6518-4e17-8ff5-c8fd3d4a5b86.gz.parquet</td><td>9298525</td></tr><tr><td>dbfs:/databricks-datasets/wikipedia-datasets/data-001/en_wikipedia/articles-only-parquet/part-r-00006-ff5bbd4d-6518-4e17-8ff5-c8fd3d4a5b86.gz.parquet</td><td>part-r-00006-ff5bbd4d-6518-4e17-8ff5-c8fd3d4a5b86.gz.parquet</td><td>5532126</td></tr><tr><td>dbfs:/databricks-datasets/wikipedia-datasets/data-001/en_wikipedia/articles-only-parquet/part-r-00007-ff5bbd4d-6518-4e17-8ff5-c8fd3d4a5b86.gz.parquet</td><td>part-r-00007-ff5bbd4d-6518-4e17-8ff5-c8fd3d4a5b86.gz.parquet</td><td>10124180</td></tr><tr><td>dbfs:/databricks-datasets/wikipedia-datasets/data-001/en_wikipedia/articles-only-parquet/part-r-00008-ff5bbd4d-6518-4e17-8ff5-c8fd3d4a5b86.gz.parquet</td><td>part-r-00008-ff5bbd4d-6518-4e17-8ff5-c8fd3d4a5b86.gz.parquet</td><td>9319264</td></tr><tr><td>dbfs:/databricks-datasets/wikipedia-datasets/data-001/en_wikipedia/articles-only-parquet/part-r-00009-ff5bbd4d-6518-4e17-8ff5-c8fd3d4a5b86.gz.parquet</td><td>part-r-00009-ff5bbd4d-6518-4e17-8ff5-c8fd3d4a5b86.gz.parquet</td><td>6663381</td></tr><tr><td>dbfs:/databricks-datasets/wikipedia-datasets/data-001/en_wikipedia/articles-only-parquet/part-r-00010-ff5bbd4d-6518-4e17-8ff5-c8fd3d4a5b86.gz.parquet</td><td>part-r-00010-ff5bbd4d-6518-4e17-8ff5-c8fd3d4a5b86.gz.parquet</td><td>8875673</td></tr><tr><td>dbfs:/databricks-datasets/wikipedia-datasets/data-001/en_wikipedia/articles-only-parquet/part-r-00011-ff5bbd4d-6518-4e17-8ff5-c8fd3d4a5b86.gz.parquet</td><td>part-r-00011-ff5bbd4d-6518-4e17-8ff5-c8fd3d4a5b86.gz.parquet</td><td>8801854</td></tr><tr><td>dbfs:/databricks-datasets/wikipedia-datasets/data-001/en_wikipedia/articles-only-parquet/part-r-00012-ff5bbd4d-6518-4e17-8ff5-c8fd3d4a5b86.gz.parquet</td><td>part-r-00012-ff5bbd4d-6518-4e17-8ff5-c8fd3d4a5b86.gz.parquet</td><td>7750825</td></tr><tr><td>dbfs:/databricks-datasets/wikipedia-datasets/data-001/en_wikipedia/articles-only-parquet/part-r-00013-ff5bbd4d-6518-4e17-8ff5-c8fd3d4a5b86.gz.parquet</td><td>part-r-00013-ff5bbd4d-6518-4e17-8ff5-c8fd3d4a5b86.gz.parquet</td><td>10326586</td></tr><tr><td>dbfs:/databricks-datasets/wikipedia-datasets/data-001/en_wikipedia/articles-only-parquet/part-r-00014-ff5bbd4d-6518-4e17-8ff5-c8fd3d4a5b86.gz.parquet</td><td>part-r-00014-ff5bbd4d-6518-4e17-8ff5-c8fd3d4a5b86.gz.parquet</td><td>8771273</td></tr><tr><td>dbfs:/databricks-datasets/wikipedia-datasets/data-001/en_wikipedia/articles-only-parquet/part-r-00015-ff5bbd4d-6518-4e17-8ff5-c8fd3d4a5b86.gz.parquet</td><td>part-r-00015-ff5bbd4d-6518-4e17-8ff5-c8fd3d4a5b86.gz.parquet</td><td>8711949</td></tr><tr><td>dbfs:/databricks-datasets/wikipedia-datasets/data-001/en_wikipedia/articles-only-parquet/part-r-00016-ff5bbd4d-6518-4e17-8ff5-c8fd3d4a5b86.gz.parquet</td><td>part-r-00016-ff5bbd4d-6518-4e17-8ff5-c8fd3d4a5b86.gz.parquet</td><td>12047654</td></tr><tr><td>dbfs:/databricks-datasets/wikipedia-datasets/data-001/en_wikipedia/articles-only-parquet/part-r-00017-ff5bbd4d-6518-4e17-8ff5-c8fd3d4a5b86.gz.parquet</td><td>part-r-00017-ff5bbd4d-6518-4e17-8ff5-c8fd3d4a5b86.gz.parquet</td><td>1320773</td></tr><tr><td>dbfs:/databricks-datasets/wikipedia-datasets/data-001/en_wikipedia/articles-only-parquet/part-r-00018-ff5bbd4d-6518-4e17-8ff5-c8fd3d4a5b86.gz.parquet</td><td>part-r-00018-ff5bbd4d-6518-4e17-8ff5-c8fd3d4a5b86.gz.parquet</td><td>13176381</td></tr><tr><td>dbfs:/databricks-datasets/wikipedia-datasets/data-001/en_wikipedia/articles-only-parquet/part-r-00019-ff5bbd4d-6518-4e17-8ff5-c8fd3d4a5b86.gz.parquet</td><td>part-r-00019-ff5bbd4d-6518-4e17-8ff5-c8fd3d4a5b86.gz.parquet</td><td>7024243</td></tr><tr><td>dbfs:/databricks-datasets/wikipedia-datasets/data-001/en_wikipedia/articles-only-parquet/part-r-00020-ff5bbd4d-6518-4e17-8ff5-c8fd3d4a5b86.gz.parquet</td><td>part-r-00020-ff5bbd4d-6518-4e17-8ff5-c8fd3d4a5b86.gz.parquet</td><td>9427989</td></tr><tr><td>dbfs:/databricks-datasets/wikipedia-datasets/data-001/en_wikipedia/articles-only-parquet/part-r-00021-ff5bbd4d-6518-4e17-8ff5-c8fd3d4a5b86.gz.parquet</td><td>part-r-00021-ff5bbd4d-6518-4e17-8ff5-c8fd3d4a5b86.gz.parquet</td><td>9249458</td></tr><tr><td>dbfs:/databricks-datasets/wikipedia-datasets/data-001/en_wikipedia/articles-only-parquet/part-r-00022-ff5bbd4d-6518-4e17-8ff5-c8fd3d4a5b86.gz.parquet</td><td>part-r-00022-ff5bbd4d-6518-4e17-8ff5-c8fd3d4a5b86.gz.parquet</td><td>8569638</td></tr><tr><td>dbfs:/databricks-datasets/wikipedia-datasets/data-001/en_wikipedia/articles-only-parquet/part-r-00023-ff5bbd4d-6518-4e17-8ff5-c8fd3d4a5b86.gz.parquet</td><td>part-r-00023-ff5bbd4d-6518-4e17-8ff5-c8fd3d4a5b86.gz.parquet</td><td>12816037</td></tr><tr><td>dbfs:/databricks-datasets/wikipedia-datasets/data-001/en_wikipedia/articles-only-parquet/part-r-00024-ff5bbd4d-6518-4e17-8ff5-c8fd3d4a5b86.gz.parquet</td><td>part-r-00024-ff5bbd4d-6518-4e17-8ff5-c8fd3d4a5b86.gz.parquet</td><td>10100528</td></tr><tr><td>dbfs:/databricks-datasets/wikipedia-datasets/data-001/en_wikipedia/articles-only-parquet/part-r-00025-ff5bbd4d-6518-4e17-8ff5-c8fd3d4a5b86.gz.parquet</td><td>part-r-00025-ff5bbd4d-6518-4e17-8ff5-c8fd3d4a5b86.gz.parquet</td><td>15495908</td></tr><tr><td>dbfs:/databricks-datasets/wikipedia-datasets/data-001/en_wikipedia/articles-only-parquet/part-r-00026-ff5bbd4d-6518-4e17-8ff5-c8fd3d4a5b86.gz.parquet</td><td>part-r-00026-ff5bbd4d-6518-4e17-8ff5-c8fd3d4a5b86.gz.parquet</td><td>7355382</td></tr><tr><td>dbfs:/databricks-datasets/wikipedia-datasets/data-001/en_wikipedia/articles-only-parquet/part-r-00027-ff5bbd4d-6518-4e17-8ff5-c8fd3d4a5b86.gz.parquet</td><td>part-r-00027-ff5bbd4d-6518-4e17-8ff5-c8fd3d4a5b86.gz.parquet</td><td>14840074</td></tr><tr><td>dbfs:/databricks-datasets/wikipedia-datasets/data-001/en_wikipedia/articles-only-parquet/part-r-00028-ff5bbd4d-6518-4e17-8ff5-c8fd3d4a5b86.gz.parquet</td><td>part-r-00028-ff5bbd4d-6518-4e17-8ff5-c8fd3d4a5b86.gz.parquet</td><td>18585503</td></tr><tr><td>dbfs:/databricks-datasets/wikipedia-datasets/data-001/en_wikipedia/articles-only-parquet/part-r-00029-ff5bbd4d-6518-4e17-8ff5-c8fd3d4a5b86.gz.parquet</td><td>part-r-00029-ff5bbd4d-6518-4e17-8ff5-c8fd3d4a5b86.gz.parquet</td><td>9707241</td></tr><tr><td>dbfs:/databricks-datasets/wikipedia-datasets/data-001/en_wikipedia/articles-only-parquet/part-r-00030-ff5bbd4d-6518-4e17-8ff5-c8fd3d4a5b86.gz.parquet</td><td>part-r-00030-ff5bbd4d-6518-4e17-8ff5-c8fd3d4a5b86.gz.parquet</td><td>9978717</td></tr><tr><td>dbfs:/databricks-datasets/wikipedia-datasets/data-001/en_wikipedia/articles-only-parquet/part-r-00031-ff5bbd4d-6518-4e17-8ff5-c8fd3d4a5b86.gz.parquet</td><td>part-r-00031-ff5bbd4d-6518-4e17-8ff5-c8fd3d4a5b86.gz.parquet</td><td>9370800</td></tr><tr><td>dbfs:/databricks-datasets/wikipedia-datasets/data-001/en_wikipedia/articles-only-parquet/part-r-00032-ff5bbd4d-6518-4e17-8ff5-c8fd3d4a5b86.gz.parquet</td><td>part-r-00032-ff5bbd4d-6518-4e17-8ff5-c8fd3d4a5b86.gz.parquet</td><td>6745357</td></tr><tr><td>dbfs:/databricks-datasets/wikipedia-datasets/data-001/en_wikipedia/articles-only-parquet/part-r-00033-ff5bbd4d-6518-4e17-8ff5-c8fd3d4a5b86.gz.parquet</td><td>part-r-00033-ff5bbd4d-6518-4e17-8ff5-c8fd3d4a5b86.gz.parquet</td><td>9403839</td></tr><tr><td>dbfs:/databricks-datasets/wikipedia-datasets/data-001/en_wikipedia/articles-only-parquet/part-r-00034-ff5bbd4d-6518-4e17-8ff5-c8fd3d4a5b86.gz.parquet</td><td>part-r-00034-ff5bbd4d-6518-4e17-8ff5-c8fd3d4a5b86.gz.parquet</td><td>9206389</td></tr><tr><td>dbfs:/databricks-datasets/wikipedia-datasets/data-001/en_wikipedia/articles-only-parquet/part-r-00035-ff5bbd4d-6518-4e17-8ff5-c8fd3d4a5b86.gz.parquet</td><td>part-r-00035-ff5bbd4d-6518-4e17-8ff5-c8fd3d4a5b86.gz.parquet</td><td>6786218</td></tr><tr><td>dbfs:/databricks-datasets/wikipedia-datasets/data-001/en_wikipedia/articles-only-parquet/part-r-00036-ff5bbd4d-6518-4e17-8ff5-c8fd3d4a5b86.gz.parquet</td><td>part-r-00036-ff5bbd4d-6518-4e17-8ff5-c8fd3d4a5b86.gz.parquet</td><td>13798249</td></tr><tr><td>dbfs:/databricks-datasets/wikipedia-datasets/data-001/en_wikipedia/articles-only-parquet/part-r-00037-ff5bbd4d-6518-4e17-8ff5-c8fd3d4a5b86.gz.parquet</td><td>part-r-00037-ff5bbd4d-6518-4e17-8ff5-c8fd3d4a5b86.gz.parquet</td><td>9403377</td></tr><tr><td>dbfs:/databricks-datasets/wikipedia-datasets/data-001/en_wikipedia/articles-only-parquet/part-r-00038-ff5bbd4d-6518-4e17-8ff5-c8fd3d4a5b86.gz.parquet</td><td>part-r-00038-ff5bbd4d-6518-4e17-8ff5-c8fd3d4a5b86.gz.parquet</td><td>8700908</td></tr><tr><td>dbfs:/databricks-datasets/wikipedia-datasets/data-001/en_wikipedia/articles-only-parquet/part-r-00039-ff5bbd4d-6518-4e17-8ff5-c8fd3d4a5b86.gz.parquet</td><td>part-r-00039-ff5bbd4d-6518-4e17-8ff5-c8fd3d4a5b86.gz.parquet</td><td>10103705</td></tr><tr><td>dbfs:/databricks-datasets/wikipedia-datasets/data-001/en_wikipedia/articles-only-parquet/part-r-00040-ff5bbd4d-6518-4e17-8ff5-c8fd3d4a5b86.gz.parquet</td><td>part-r-00040-ff5bbd4d-6518-4e17-8ff5-c8fd3d4a5b86.gz.parquet</td><td>9137311</td></tr><tr><td>dbfs:/databricks-datasets/wikipedia-datasets/data-001/en_wikipedia/articles-only-parquet/part-r-00041-ff5bbd4d-6518-4e17-8ff5-c8fd3d4a5b86.gz.parquet</td><td>part-r-00041-ff5bbd4d-6518-4e17-8ff5-c8fd3d4a5b86.gz.parquet</td><td>9482414</td></tr><tr><td>dbfs:/databricks-datasets/wikipedia-datasets/data-001/en_wikipedia/articles-only-parquet/part-r-00042-ff5bbd4d-6518-4e17-8ff5-c8fd3d4a5b86.gz.parquet</td><td>part-r-00042-ff5bbd4d-6518-4e17-8ff5-c8fd3d4a5b86.gz.parquet</td><td>12142301</td></tr><tr><td>dbfs:/databricks-datasets/wikipedia-datasets/data-001/en_wikipedia/articles-only-parquet/part-r-00043-ff5bbd4d-6518-4e17-8ff5-c8fd3d4a5b86.gz.parquet</td><td>part-r-00043-ff5bbd4d-6518-4e17-8ff5-c8fd3d4a5b86.gz.parquet</td><td>14685712</td></tr><tr><td>dbfs:/databricks-datasets/wikipedia-datasets/data-001/en_wikipedia/articles-only-parquet/part-r-00044-ff5bbd4d-6518-4e17-8ff5-c8fd3d4a5b86.gz.parquet</td><td>part-r-00044-ff5bbd4d-6518-4e17-8ff5-c8fd3d4a5b86.gz.parquet</td><td>10159744</td></tr><tr><td>dbfs:/databricks-datasets/wikipedia-datasets/data-001/en_wikipedia/articles-only-parquet/part-r-00045-ff5bbd4d-6518-4e17-8ff5-c8fd3d4a5b86.gz.parquet</td><td>part-r-00045-ff5bbd4d-6518-4e17-8ff5-c8fd3d4a5b86.gz.parquet</td><td>15245029</td></tr><tr><td>dbfs:/databricks-datasets/wikipedia-datasets/data-001/en_wikipedia/articles-only-parquet/part-r-00046-ff5bbd4d-6518-4e17-8ff5-c8fd3d4a5b86.gz.parquet</td><td>part-r-00046-ff5bbd4d-6518-4e17-8ff5-c8fd3d4a5b86.gz.parquet</td><td>13498911</td></tr><tr><td>dbfs:/databricks-datasets/wikipedia-datasets/data-001/en_wikipedia/articles-only-parquet/part-r-00047-ff5bbd4d-6518-4e17-8ff5-c8fd3d4a5b86.gz.parquet</td><td>part-r-00047-ff5bbd4d-6518-4e17-8ff5-c8fd3d4a5b86.gz.parquet</td><td>8358915</td></tr><tr><td>dbfs:/databricks-datasets/wikipedia-datasets/data-001/en_wikipedia/articles-only-parquet/part-r-00048-ff5bbd4d-6518-4e17-8ff5-c8fd3d4a5b86.gz.parquet</td><td>part-r-00048-ff5bbd4d-6518-4e17-8ff5-c8fd3d4a5b86.gz.parquet</td><td>5848819</td></tr><tr><td>dbfs:/databricks-datasets/wikipedia-datasets/data-001/en_wikipedia/articles-only-parquet/part-r-00049-ff5bbd4d-6518-4e17-8ff5-c8fd3d4a5b86.gz.parquet</td><td>part-r-00049-ff5bbd4d-6518-4e17-8ff5-c8fd3d4a5b86.gz.parquet</td><td>13441517</td></tr><tr><td>dbfs:/databricks-datasets/wikipedia-datasets/data-001/en_wikipedia/articles-only-parquet/part-r-00050-ff5bbd4d-6518-4e17-8ff5-c8fd3d4a5b86.gz.parquet</td><td>part-r-00050-ff5bbd4d-6518-4e17-8ff5-c8fd3d4a5b86.gz.parquet</td><td>8356628</td></tr><tr><td>dbfs:/databricks-datasets/wikipedia-datasets/data-001/en_wikipedia/articles-only-parquet/part-r-00051-ff5bbd4d-6518-4e17-8ff5-c8fd3d4a5b86.gz.parquet</td><td>part-r-00051-ff5bbd4d-6518-4e17-8ff5-c8fd3d4a5b86.gz.parquet</td><td>11896716</td></tr><tr><td>dbfs:/databricks-datasets/wikipedia-datasets/data-001/en_wikipedia/articles-only-parquet/part-r-00052-ff5bbd4d-6518-4e17-8ff5-c8fd3d4a5b86.gz.parquet</td><td>part-r-00052-ff5bbd4d-6518-4e17-8ff5-c8fd3d4a5b86.gz.parquet</td><td>9187136</td></tr><tr><td>dbfs:/databricks-datasets/wikipedia-datasets/data-001/en_wikipedia/articles-only-parquet/part-r-00053-ff5bbd4d-6518-4e17-8ff5-c8fd3d4a5b86.gz.parquet</td><td>part-r-00053-ff5bbd4d-6518-4e17-8ff5-c8fd3d4a5b86.gz.parquet</td><td>8650522</td></tr><tr><td>dbfs:/databricks-datasets/wikipedia-datasets/data-001/en_wikipedia/articles-only-parquet/part-r-00054-ff5bbd4d-6518-4e17-8ff5-c8fd3d4a5b86.gz.parquet</td><td>part-r-00054-ff5bbd4d-6518-4e17-8ff5-c8fd3d4a5b86.gz.parquet</td><td>9063391</td></tr><tr><td>dbfs:/databricks-datasets/wikipedia-datasets/data-001/en_wikipedia/articles-only-parquet/part-r-00055-ff5bbd4d-6518-4e17-8ff5-c8fd3d4a5b86.gz.parquet</td><td>part-r-00055-ff5bbd4d-6518-4e17-8ff5-c8fd3d4a5b86.gz.parquet</td><td>9666579</td></tr><tr><td>dbfs:/databricks-datasets/wikipedia-datasets/data-001/en_wikipedia/articles-only-parquet/part-r-00056-ff5bbd4d-6518-4e17-8ff5-c8fd3d4a5b86.gz.parquet</td><td>part-r-00056-ff5bbd4d-6518-4e17-8ff5-c8fd3d4a5b86.gz.parquet</td><td>6198609</td></tr><tr><td>dbfs:/databricks-datasets/wikipedia-datasets/data-001/en_wikipedia/articles-only-parquet/part-r-00057-ff5bbd4d-6518-4e17-8ff5-c8fd3d4a5b86.gz.parquet</td><td>part-r-00057-ff5bbd4d-6518-4e17-8ff5-c8fd3d4a5b86.gz.parquet</td><td>10252200</td></tr><tr><td>dbfs:/databricks-datasets/wikipedia-datasets/data-001/en_wikipedia/articles-only-parquet/part-r-00058-ff5bbd4d-6518-4e17-8ff5-c8fd3d4a5b86.gz.parquet</td><td>part-r-00058-ff5bbd4d-6518-4e17-8ff5-c8fd3d4a5b86.gz.parquet</td><td>9707714</td></tr><tr><td>dbfs:/databricks-datasets/wikipedia-datasets/data-001/en_wikipedia/articles-only-parquet/part-r-00059-ff5bbd4d-6518-4e17-8ff5-c8fd3d4a5b86.gz.parquet</td><td>part-r-00059-ff5bbd4d-6518-4e17-8ff5-c8fd3d4a5b86.gz.parquet</td><td>9151242</td></tr><tr><td>dbfs:/databricks-datasets/wikipedia-datasets/data-001/en_wikipedia/articles-only-parquet/part-r-00060-ff5bbd4d-6518-4e17-8ff5-c8fd3d4a5b86.gz.parquet</td><td>part-r-00060-ff5bbd4d-6518-4e17-8ff5-c8fd3d4a5b86.gz.parquet</td><td>20740675</td></tr><tr><td>dbfs:/databricks-datasets/wikipedia-datasets/data-001/en_wikipedia/articles-only-parquet/part-r-00061-ff5bbd4d-6518-4e17-8ff5-c8fd3d4a5b86.gz.parquet</td><td>part-r-00061-ff5bbd4d-6518-4e17-8ff5-c8fd3d4a5b86.gz.parquet</td><td>13748805</td></tr><tr><td>dbfs:/databricks-datasets/wikipedia-datasets/data-001/en_wikipedia/articles-only-parquet/part-r-00062-ff5bbd4d-6518-4e17-8ff5-c8fd3d4a5b86.gz.parquet</td><td>part-r-00062-ff5bbd4d-6518-4e17-8ff5-c8fd3d4a5b86.gz.parquet</td><td>10053618</td></tr><tr><td>dbfs:/databricks-datasets/wikipedia-datasets/data-001/en_wikipedia/articles-only-parquet/part-r-00063-ff5bbd4d-6518-4e17-8ff5-c8fd3d4a5b86.gz.parquet</td><td>part-r-00063-ff5bbd4d-6518-4e17-8ff5-c8fd3d4a5b86.gz.parquet</td><td>9000818</td></tr><tr><td>dbfs:/databricks-datasets/wikipedia-datasets/data-001/en_wikipedia/articles-only-parquet/part-r-00064-ff5bbd4d-6518-4e17-8ff5-c8fd3d4a5b86.gz.parquet</td><td>part-r-00064-ff5bbd4d-6518-4e17-8ff5-c8fd3d4a5b86.gz.parquet</td><td>12016176</td></tr><tr><td>dbfs:/databricks-datasets/wikipedia-datasets/data-001/en_wikipedia/articles-only-parquet/part-r-00065-ff5bbd4d-6518-4e17-8ff5-c8fd3d4a5b86.gz.parquet</td><td>part-r-00065-ff5bbd4d-6518-4e17-8ff5-c8fd3d4a5b86.gz.parquet</td><td>7831153</td></tr><tr><td>dbfs:/databricks-datasets/wikipedia-datasets/data-001/en_wikipedia/articles-only-parquet/part-r-00066-ff5bbd4d-6518-4e17-8ff5-c8fd3d4a5b86.gz.parquet</td><td>part-r-00066-ff5bbd4d-6518-4e17-8ff5-c8fd3d4a5b86.gz.parquet</td><td>9772035</td></tr><tr><td>dbfs:/databricks-datasets/wikipedia-datasets/data-001/en_wikipedia/articles-only-parquet/part-r-00067-ff5bbd4d-6518-4e17-8ff5-c8fd3d4a5b86.gz.parquet</td><td>part-r-00067-ff5bbd4d-6518-4e17-8ff5-c8fd3d4a5b86.gz.parquet</td><td>10120662</td></tr><tr><td>dbfs:/databricks-datasets/wikipedia-datasets/data-001/en_wikipedia/articles-only-parquet/part-r-00068-ff5bbd4d-6518-4e17-8ff5-c8fd3d4a5b86.gz.parquet</td><td>part-r-00068-ff5bbd4d-6518-4e17-8ff5-c8fd3d4a5b86.gz.parquet</td><td>12922292</td></tr><tr><td>dbfs:/databricks-datasets/wikipedia-datasets/data-001/en_wikipedia/articles-only-parquet/part-r-00069-ff5bbd4d-6518-4e17-8ff5-c8fd3d4a5b86.gz.parquet</td><td>part-r-00069-ff5bbd4d-6518-4e17-8ff5-c8fd3d4a5b86.gz.parquet</td><td>6758985</td></tr><tr><td>dbfs:/databricks-datasets/wikipedia-datasets/data-001/en_wikipedia/articles-only-parquet/part-r-00070-ff5bbd4d-6518-4e17-8ff5-c8fd3d4a5b86.gz.parquet</td><td>part-r-00070-ff5bbd4d-6518-4e17-8ff5-c8fd3d4a5b86.gz.parquet</td><td>9641339</td></tr><tr><td>dbfs:/databricks-datasets/wikipedia-datasets/data-001/en_wikipedia/articles-only-parquet/part-r-00071-ff5bbd4d-6518-4e17-8ff5-c8fd3d4a5b86.gz.parquet</td><td>part-r-00071-ff5bbd4d-6518-4e17-8ff5-c8fd3d4a5b86.gz.parquet</td><td>10189622</td></tr><tr><td>dbfs:/databricks-datasets/wikipedia-datasets/data-001/en_wikipedia/articles-only-parquet/part-r-00072-ff5bbd4d-6518-4e17-8ff5-c8fd3d4a5b86.gz.parquet</td><td>part-r-00072-ff5bbd4d-6518-4e17-8ff5-c8fd3d4a5b86.gz.parquet</td><td>10063094</td></tr><tr><td>dbfs:/databricks-datasets/wikipedia-datasets/data-001/en_wikipedia/articles-only-parquet/part-r-00073-ff5bbd4d-6518-4e17-8ff5-c8fd3d4a5b86.gz.parquet</td><td>part-r-00073-ff5bbd4d-6518-4e17-8ff5-c8fd3d4a5b86.gz.parquet</td><td>16010717</td></tr><tr><td>dbfs:/databricks-datasets/wikipedia-datasets/data-001/en_wikipedia/articles-only-parquet/part-r-00074-ff5bbd4d-6518-4e17-8ff5-c8fd3d4a5b86.gz.parquet</td><td>part-r-00074-ff5bbd4d-6518-4e17-8ff5-c8fd3d4a5b86.gz.parquet</td><td>8292961</td></tr><tr><td>dbfs:/databricks-datasets/wikipedia-datasets/data-001/en_wikipedia/articles-only-parquet/part-r-00075-ff5bbd4d-6518-4e17-8ff5-c8fd3d4a5b86.gz.parquet</td><td>part-r-00075-ff5bbd4d-6518-4e17-8ff5-c8fd3d4a5b86.gz.parquet</td><td>12315139</td></tr><tr><td>dbfs:/databricks-datasets/wikipedia-datasets/data-001/en_wikipedia/articles-only-parquet/part-r-00076-ff5bbd4d-6518-4e17-8ff5-c8fd3d4a5b86.gz.parquet</td><td>part-r-00076-ff5bbd4d-6518-4e17-8ff5-c8fd3d4a5b86.gz.parquet</td><td>12860940</td></tr><tr><td>dbfs:/databricks-datasets/wikipedia-datasets/data-001/en_wikipedia/articles-only-parquet/part-r-00077-ff5bbd4d-6518-4e17-8ff5-c8fd3d4a5b86.gz.parquet</td><td>part-r-00077-ff5bbd4d-6518-4e17-8ff5-c8fd3d4a5b86.gz.parquet</td><td>9591424</td></tr><tr><td>dbfs:/databricks-datasets/wikipedia-datasets/data-001/en_wikipedia/articles-only-parquet/part-r-00078-ff5bbd4d-6518-4e17-8ff5-c8fd3d4a5b86.gz.parquet</td><td>part-r-00078-ff5bbd4d-6518-4e17-8ff5-c8fd3d4a5b86.gz.parquet</td><td>7387571</td></tr><tr><td>dbfs:/databricks-datasets/wikipedia-datasets/data-001/en_wikipedia/articles-only-parquet/part-r-00079-ff5bbd4d-6518-4e17-8ff5-c8fd3d4a5b86.gz.parquet</td><td>part-r-00079-ff5bbd4d-6518-4e17-8ff5-c8fd3d4a5b86.gz.parquet</td><td>11066598</td></tr><tr><td>dbfs:/databricks-datasets/wikipedia-datasets/data-001/en_wikipedia/articles-only-parquet/part-r-00080-ff5bbd4d-6518-4e17-8ff5-c8fd3d4a5b86.gz.parquet</td><td>part-r-00080-ff5bbd4d-6518-4e17-8ff5-c8fd3d4a5b86.gz.parquet</td><td>8813707</td></tr><tr><td>dbfs:/databricks-datasets/wikipedia-datasets/data-001/en_wikipedia/articles-only-parquet/part-r-00081-ff5bbd4d-6518-4e17-8ff5-c8fd3d4a5b86.gz.parquet</td><td>part-r-00081-ff5bbd4d-6518-4e17-8ff5-c8fd3d4a5b86.gz.parquet</td><td>9649834</td></tr><tr><td>dbfs:/databricks-datasets/wikipedia-datasets/data-001/en_wikipedia/articles-only-parquet/part-r-00082-ff5bbd4d-6518-4e17-8ff5-c8fd3d4a5b86.gz.parquet</td><td>part-r-00082-ff5bbd4d-6518-4e17-8ff5-c8fd3d4a5b86.gz.parquet</td><td>15814685</td></tr><tr><td>dbfs:/databricks-datasets/wikipedia-datasets/data-001/en_wikipedia/articles-only-parquet/part-r-00083-ff5bbd4d-6518-4e17-8ff5-c8fd3d4a5b86.gz.parquet</td><td>part-r-00083-ff5bbd4d-6518-4e17-8ff5-c8fd3d4a5b86.gz.parquet</td><td>15922058</td></tr><tr><td>dbfs:/databricks-datasets/wikipedia-datasets/data-001/en_wikipedia/articles-only-parquet/part-r-00084-ff5bbd4d-6518-4e17-8ff5-c8fd3d4a5b86.gz.parquet</td><td>part-r-00084-ff5bbd4d-6518-4e17-8ff5-c8fd3d4a5b86.gz.parquet</td><td>7876899</td></tr><tr><td>dbfs:/databricks-datasets/wikipedia-datasets/data-001/en_wikipedia/articles-only-parquet/part-r-00085-ff5bbd4d-6518-4e17-8ff5-c8fd3d4a5b86.gz.parquet</td><td>part-r-00085-ff5bbd4d-6518-4e17-8ff5-c8fd3d4a5b86.gz.parquet</td><td>9464299</td></tr><tr><td>dbfs:/databricks-datasets/wikipedia-datasets/data-001/en_wikipedia/articles-only-parquet/part-r-00086-ff5bbd4d-6518-4e17-8ff5-c8fd3d4a5b86.gz.parquet</td><td>part-r-00086-ff5bbd4d-6518-4e17-8ff5-c8fd3d4a5b86.gz.parquet</td><td>10379002</td></tr><tr><td>dbfs:/databricks-datasets/wikipedia-datasets/data-001/en_wikipedia/articles-only-parquet/part-r-00087-ff5bbd4d-6518-4e17-8ff5-c8fd3d4a5b86.gz.parquet</td><td>part-r-00087-ff5bbd4d-6518-4e17-8ff5-c8fd3d4a5b86.gz.parquet</td><td>9652840</td></tr><tr><td>dbfs:/databricks-datasets/wikipedia-datasets/data-001/en_wikipedia/articles-only-parquet/part-r-00088-ff5bbd4d-6518-4e17-8ff5-c8fd3d4a5b86.gz.parquet</td><td>part-r-00088-ff5bbd4d-6518-4e17-8ff5-c8fd3d4a5b86.gz.parquet</td><td>16516894</td></tr><tr><td>dbfs:/databricks-datasets/wikipedia-datasets/data-001/en_wikipedia/articles-only-parquet/part-r-00089-ff5bbd4d-6518-4e17-8ff5-c8fd3d4a5b86.gz.parquet</td><td>part-r-00089-ff5bbd4d-6518-4e17-8ff5-c8fd3d4a5b86.gz.parquet</td><td>9411479</td></tr><tr><td>dbfs:/databricks-datasets/wikipedia-datasets/data-001/en_wikipedia/articles-only-parquet/part-r-00090-ff5bbd4d-6518-4e17-8ff5-c8fd3d4a5b86.gz.parquet</td><td>part-r-00090-ff5bbd4d-6518-4e17-8ff5-c8fd3d4a5b86.gz.parquet</td><td>9269378</td></tr><tr><td>dbfs:/databricks-datasets/wikipedia-datasets/data-001/en_wikipedia/articles-only-parquet/part-r-00091-ff5bbd4d-6518-4e17-8ff5-c8fd3d4a5b86.gz.parquet</td><td>part-r-00091-ff5bbd4d-6518-4e17-8ff5-c8fd3d4a5b86.gz.parquet</td><td>9803791</td></tr><tr><td>dbfs:/databricks-datasets/wikipedia-datasets/data-001/en_wikipedia/articles-only-parquet/part-r-00092-ff5bbd4d-6518-4e17-8ff5-c8fd3d4a5b86.gz.parquet</td><td>part-r-00092-ff5bbd4d-6518-4e17-8ff5-c8fd3d4a5b86.gz.parquet</td><td>11538525</td></tr><tr><td>dbfs:/databricks-datasets/wikipedia-datasets/data-001/en_wikipedia/articles-only-parquet/part-r-00093-ff5bbd4d-6518-4e17-8ff5-c8fd3d4a5b86.gz.parquet</td><td>part-r-00093-ff5bbd4d-6518-4e17-8ff5-c8fd3d4a5b86.gz.parquet</td><td>10353161</td></tr><tr><td>dbfs:/databricks-datasets/wikipedia-datasets/data-001/en_wikipedia/articles-only-parquet/part-r-00094-ff5bbd4d-6518-4e17-8ff5-c8fd3d4a5b86.gz.parquet</td><td>part-r-00094-ff5bbd4d-6518-4e17-8ff5-c8fd3d4a5b86.gz.parquet</td><td>9993561</td></tr><tr><td>dbfs:/databricks-datasets/wikipedia-datasets/data-001/en_wikipedia/articles-only-parquet/part-r-00095-ff5bbd4d-6518-4e17-8ff5-c8fd3d4a5b86.gz.parquet</td><td>part-r-00095-ff5bbd4d-6518-4e17-8ff5-c8fd3d4a5b86.gz.parquet</td><td>9372724</td></tr><tr><td>dbfs:/databricks-datasets/wikipedia-datasets/data-001/en_wikipedia/articles-only-parquet/part-r-00096-ff5bbd4d-6518-4e17-8ff5-c8fd3d4a5b86.gz.parquet</td><td>part-r-00096-ff5bbd4d-6518-4e17-8ff5-c8fd3d4a5b86.gz.parquet</td><td>9510409</td></tr><tr><td>dbfs:/databricks-datasets/wikipedia-datasets/data-001/en_wikipedia/articles-only-parquet/part-r-00097-ff5bbd4d-6518-4e17-8ff5-c8fd3d4a5b86.gz.parquet</td><td>part-r-00097-ff5bbd4d-6518-4e17-8ff5-c8fd3d4a5b86.gz.parquet</td><td>12011827</td></tr><tr><td>dbfs:/databricks-datasets/wikipedia-datasets/data-001/en_wikipedia/articles-only-parquet/part-r-00098-ff5bbd4d-6518-4e17-8ff5-c8fd3d4a5b86.gz.parquet</td><td>part-r-00098-ff5bbd4d-6518-4e17-8ff5-c8fd3d4a5b86.gz.parquet</td><td>9208348</td></tr><tr><td>dbfs:/databricks-datasets/wikipedia-datasets/data-001/en_wikipedia/articles-only-parquet/part-r-00099-ff5bbd4d-6518-4e17-8ff5-c8fd3d4a5b86.gz.parquet</td><td>part-r-00099-ff5bbd4d-6518-4e17-8ff5-c8fd3d4a5b86.gz.parquet</td><td>10203688</td></tr><tr><td>dbfs:/databricks-datasets/wikipedia-datasets/data-001/en_wikipedia/articles-only-parquet/part-r-00100-ff5bbd4d-6518-4e17-8ff5-c8fd3d4a5b86.gz.parquet</td><td>part-r-00100-ff5bbd4d-6518-4e17-8ff5-c8fd3d4a5b86.gz.parquet</td><td>10302622</td></tr><tr><td>dbfs:/databricks-datasets/wikipedia-datasets/data-001/en_wikipedia/articles-only-parquet/part-r-00101-ff5bbd4d-6518-4e17-8ff5-c8fd3d4a5b86.gz.parquet</td><td>part-r-00101-ff5bbd4d-6518-4e17-8ff5-c8fd3d4a5b86.gz.parquet</td><td>9421290</td></tr><tr><td>dbfs:/databricks-datasets/wikipedia-datasets/data-001/en_wikipedia/articles-only-parquet/part-r-00102-ff5bbd4d-6518-4e17-8ff5-c8fd3d4a5b86.gz.parquet</td><td>part-r-00102-ff5bbd4d-6518-4e17-8ff5-c8fd3d4a5b86.gz.parquet</td><td>20452731</td></tr><tr><td>dbfs:/databricks-datasets/wikipedia-datasets/data-001/en_wikipedia/articles-only-parquet/part-r-00103-ff5bbd4d-6518-4e17-8ff5-c8fd3d4a5b86.gz.parquet</td><td>part-r-00103-ff5bbd4d-6518-4e17-8ff5-c8fd3d4a5b86.gz.parquet</td><td>7380724</td></tr><tr><td>dbfs:/databricks-datasets/wikipedia-datasets/data-001/en_wikipedia/articles-only-parquet/part-r-00104-ff5bbd4d-6518-4e17-8ff5-c8fd3d4a5b86.gz.parquet</td><td>part-r-00104-ff5bbd4d-6518-4e17-8ff5-c8fd3d4a5b86.gz.parquet</td><td>10108716</td></tr><tr><td>dbfs:/databricks-datasets/wikipedia-datasets/data-001/en_wikipedia/articles-only-parquet/part-r-00105-ff5bbd4d-6518-4e17-8ff5-c8fd3d4a5b86.gz.parquet</td><td>part-r-00105-ff5bbd4d-6518-4e17-8ff5-c8fd3d4a5b86.gz.parquet</td><td>7569930</td></tr><tr><td>dbfs:/databricks-datasets/wikipedia-datasets/data-001/en_wikipedia/articles-only-parquet/part-r-00106-ff5bbd4d-6518-4e17-8ff5-c8fd3d4a5b86.gz.parquet</td><td>part-r-00106-ff5bbd4d-6518-4e17-8ff5-c8fd3d4a5b86.gz.parquet</td><td>9614790</td></tr><tr><td>dbfs:/databricks-datasets/wikipedia-datasets/data-001/en_wikipedia/articles-only-parquet/part-r-00107-ff5bbd4d-6518-4e17-8ff5-c8fd3d4a5b86.gz.parquet</td><td>part-r-00107-ff5bbd4d-6518-4e17-8ff5-c8fd3d4a5b86.gz.parquet</td><td>15124351</td></tr><tr><td>dbfs:/databricks-datasets/wikipedia-datasets/data-001/en_wikipedia/articles-only-parquet/part-r-00108-ff5bbd4d-6518-4e17-8ff5-c8fd3d4a5b86.gz.parquet</td><td>part-r-00108-ff5bbd4d-6518-4e17-8ff5-c8fd3d4a5b86.gz.parquet</td><td>12982721</td></tr><tr><td>dbfs:/databricks-datasets/wikipedia-datasets/data-001/en_wikipedia/articles-only-parquet/part-r-00109-ff5bbd4d-6518-4e17-8ff5-c8fd3d4a5b86.gz.parquet</td><td>part-r-00109-ff5bbd4d-6518-4e17-8ff5-c8fd3d4a5b86.gz.parquet</td><td>9349720</td></tr><tr><td>dbfs:/databricks-datasets/wikipedia-datasets/data-001/en_wikipedia/articles-only-parquet/part-r-00110-ff5bbd4d-6518-4e17-8ff5-c8fd3d4a5b86.gz.parquet</td><td>part-r-00110-ff5bbd4d-6518-4e17-8ff5-c8fd3d4a5b86.gz.parquet</td><td>9675838</td></tr><tr><td>dbfs:/databricks-datasets/wikipedia-datasets/data-001/en_wikipedia/articles-only-parquet/part-r-00111-ff5bbd4d-6518-4e17-8ff5-c8fd3d4a5b86.gz.parquet</td><td>part-r-00111-ff5bbd4d-6518-4e17-8ff5-c8fd3d4a5b86.gz.parquet</td><td>9768545</td></tr><tr><td>dbfs:/databricks-datasets/wikipedia-datasets/data-001/en_wikipedia/articles-only-parquet/part-r-00112-ff5bbd4d-6518-4e17-8ff5-c8fd3d4a5b86.gz.parquet</td><td>part-r-00112-ff5bbd4d-6518-4e17-8ff5-c8fd3d4a5b86.gz.parquet</td><td>10296407</td></tr><tr><td>dbfs:/databricks-datasets/wikipedia-datasets/data-001/en_wikipedia/articles-only-parquet/part-r-00113-ff5bbd4d-6518-4e17-8ff5-c8fd3d4a5b86.gz.parquet</td><td>part-r-00113-ff5bbd4d-6518-4e17-8ff5-c8fd3d4a5b86.gz.parquet</td><td>7903675</td></tr><tr><td>dbfs:/databricks-datasets/wikipedia-datasets/data-001/en_wikipedia/articles-only-parquet/part-r-00114-ff5bbd4d-6518-4e17-8ff5-c8fd3d4a5b86.gz.parquet</td><td>part-r-00114-ff5bbd4d-6518-4e17-8ff5-c8fd3d4a5b86.gz.parquet</td><td>8610273</td></tr><tr><td>dbfs:/databricks-datasets/wikipedia-datasets/data-001/en_wikipedia/articles-only-parquet/part-r-00115-ff5bbd4d-6518-4e17-8ff5-c8fd3d4a5b86.gz.parquet</td><td>part-r-00115-ff5bbd4d-6518-4e17-8ff5-c8fd3d4a5b86.gz.parquet</td><td>7334038</td></tr><tr><td>dbfs:/databricks-datasets/wikipedia-datasets/data-001/en_wikipedia/articles-only-parquet/part-r-00116-ff5bbd4d-6518-4e17-8ff5-c8fd3d4a5b86.gz.parquet</td><td>part-r-00116-ff5bbd4d-6518-4e17-8ff5-c8fd3d4a5b86.gz.parquet</td><td>8775681</td></tr><tr><td>dbfs:/databricks-datasets/wikipedia-datasets/data-001/en_wikipedia/articles-only-parquet/part-r-00117-ff5bbd4d-6518-4e17-8ff5-c8fd3d4a5b86.gz.parquet</td><td>part-r-00117-ff5bbd4d-6518-4e17-8ff5-c8fd3d4a5b86.gz.parquet</td><td>10403183</td></tr><tr><td>dbfs:/databricks-datasets/wikipedia-datasets/data-001/en_wikipedia/articles-only-parquet/part-r-00118-ff5bbd4d-6518-4e17-8ff5-c8fd3d4a5b86.gz.parquet</td><td>part-r-00118-ff5bbd4d-6518-4e17-8ff5-c8fd3d4a5b86.gz.parquet</td><td>11498287</td></tr><tr><td>dbfs:/databricks-datasets/wikipedia-datasets/data-001/en_wikipedia/articles-only-parquet/part-r-00119-ff5bbd4d-6518-4e17-8ff5-c8fd3d4a5b86.gz.parquet</td><td>part-r-00119-ff5bbd4d-6518-4e17-8ff5-c8fd3d4a5b86.gz.parquet</td><td>15225779</td></tr><tr><td>dbfs:/databricks-datasets/wikipedia-datasets/data-001/en_wikipedia/articles-only-parquet/part-r-00120-ff5bbd4d-6518-4e17-8ff5-c8fd3d4a5b86.gz.parquet</td><td>part-r-00120-ff5bbd4d-6518-4e17-8ff5-c8fd3d4a5b86.gz.parquet</td><td>5705668</td></tr><tr><td>dbfs:/databricks-datasets/wikipedia-datasets/data-001/en_wikipedia/articles-only-parquet/part-r-00121-ff5bbd4d-6518-4e17-8ff5-c8fd3d4a5b86.gz.parquet</td><td>part-r-00121-ff5bbd4d-6518-4e17-8ff5-c8fd3d4a5b86.gz.parquet</td><td>9198779</td></tr><tr><td>dbfs:/databricks-datasets/wikipedia-datasets/data-001/en_wikipedia/articles-only-parquet/part-r-00122-ff5bbd4d-6518-4e17-8ff5-c8fd3d4a5b86.gz.parquet</td><td>part-r-00122-ff5bbd4d-6518-4e17-8ff5-c8fd3d4a5b86.gz.parquet</td><td>9339209</td></tr><tr><td>dbfs:/databricks-datasets/wikipedia-datasets/data-001/en_wikipedia/articles-only-parquet/part-r-00123-ff5bbd4d-6518-4e17-8ff5-c8fd3d4a5b86.gz.parquet</td><td>part-r-00123-ff5bbd4d-6518-4e17-8ff5-c8fd3d4a5b86.gz.parquet</td><td>8793499</td></tr><tr><td>dbfs:/databricks-datasets/wikipedia-datasets/data-001/en_wikipedia/articles-only-parquet/part-r-00124-ff5bbd4d-6518-4e17-8ff5-c8fd3d4a5b86.gz.parquet</td><td>part-r-00124-ff5bbd4d-6518-4e17-8ff5-c8fd3d4a5b86.gz.parquet</td><td>14096500</td></tr><tr><td>dbfs:/databricks-datasets/wikipedia-datasets/data-001/en_wikipedia/articles-only-parquet/part-r-00125-ff5bbd4d-6518-4e17-8ff5-c8fd3d4a5b86.gz.parquet</td><td>part-r-00125-ff5bbd4d-6518-4e17-8ff5-c8fd3d4a5b86.gz.parquet</td><td>9552658</td></tr><tr><td>dbfs:/databricks-datasets/wikipedia-datasets/data-001/en_wikipedia/articles-only-parquet/part-r-00126-ff5bbd4d-6518-4e17-8ff5-c8fd3d4a5b86.gz.parquet</td><td>part-r-00126-ff5bbd4d-6518-4e17-8ff5-c8fd3d4a5b86.gz.parquet</td><td>9114240</td></tr><tr><td>dbfs:/databricks-datasets/wikipedia-datasets/data-001/en_wikipedia/articles-only-parquet/part-r-00127-ff5bbd4d-6518-4e17-8ff5-c8fd3d4a5b86.gz.parquet</td><td>part-r-00127-ff5bbd4d-6518-4e17-8ff5-c8fd3d4a5b86.gz.parquet</td><td>9221401</td></tr><tr><td>dbfs:/databricks-datasets/wikipedia-datasets/data-001/en_wikipedia/articles-only-parquet/part-r-00128-ff5bbd4d-6518-4e17-8ff5-c8fd3d4a5b86.gz.parquet</td><td>part-r-00128-ff5bbd4d-6518-4e17-8ff5-c8fd3d4a5b86.gz.parquet</td><td>9546387</td></tr><tr><td>dbfs:/databricks-datasets/wikipedia-datasets/data-001/en_wikipedia/articles-only-parquet/part-r-00129-ff5bbd4d-6518-4e17-8ff5-c8fd3d4a5b86.gz.parquet</td><td>part-r-00129-ff5bbd4d-6518-4e17-8ff5-c8fd3d4a5b86.gz.parquet</td><td>9327881</td></tr><tr><td>dbfs:/databricks-datasets/wikipedia-datasets/data-001/en_wikipedia/articles-only-parquet/part-r-00130-ff5bbd4d-6518-4e17-8ff5-c8fd3d4a5b86.gz.parquet</td><td>part-r-00130-ff5bbd4d-6518-4e17-8ff5-c8fd3d4a5b86.gz.parquet</td><td>9183546</td></tr><tr><td>dbfs:/databricks-datasets/wikipedia-datasets/data-001/en_wikipedia/articles-only-parquet/part-r-00131-ff5bbd4d-6518-4e17-8ff5-c8fd3d4a5b86.gz.parquet</td><td>part-r-00131-ff5bbd4d-6518-4e17-8ff5-c8fd3d4a5b86.gz.parquet</td><td>6331265</td></tr><tr><td>dbfs:/databricks-datasets/wikipedia-datasets/data-001/en_wikipedia/articles-only-parquet/part-r-00132-ff5bbd4d-6518-4e17-8ff5-c8fd3d4a5b86.gz.parquet</td><td>part-r-00132-ff5bbd4d-6518-4e17-8ff5-c8fd3d4a5b86.gz.parquet</td><td>8650446</td></tr><tr><td>dbfs:/databricks-datasets/wikipedia-datasets/data-001/en_wikipedia/articles-only-parquet/part-r-00133-ff5bbd4d-6518-4e17-8ff5-c8fd3d4a5b86.gz.parquet</td><td>part-r-00133-ff5bbd4d-6518-4e17-8ff5-c8fd3d4a5b86.gz.parquet</td><td>9940226</td></tr><tr><td>dbfs:/databricks-datasets/wikipedia-datasets/data-001/en_wikipedia/articles-only-parquet/part-r-00134-ff5bbd4d-6518-4e17-8ff5-c8fd3d4a5b86.gz.parquet</td><td>part-r-00134-ff5bbd4d-6518-4e17-8ff5-c8fd3d4a5b86.gz.parquet</td><td>16022365</td></tr><tr><td>dbfs:/databricks-datasets/wikipedia-datasets/data-001/en_wikipedia/articles-only-parquet/part-r-00135-ff5bbd4d-6518-4e17-8ff5-c8fd3d4a5b86.gz.parquet</td><td>part-r-00135-ff5bbd4d-6518-4e17-8ff5-c8fd3d4a5b86.gz.parquet</td><td>9962111</td></tr><tr><td>dbfs:/databricks-datasets/wikipedia-datasets/data-001/en_wikipedia/articles-only-parquet/part-r-00136-ff5bbd4d-6518-4e17-8ff5-c8fd3d4a5b86.gz.parquet</td><td>part-r-00136-ff5bbd4d-6518-4e17-8ff5-c8fd3d4a5b86.gz.parquet</td><td>16916541</td></tr><tr><td>dbfs:/databricks-datasets/wikipedia-datasets/data-001/en_wikipedia/articles-only-parquet/part-r-00137-ff5bbd4d-6518-4e17-8ff5-c8fd3d4a5b86.gz.parquet</td><td>part-r-00137-ff5bbd4d-6518-4e17-8ff5-c8fd3d4a5b86.gz.parquet</td><td>8915418</td></tr><tr><td>dbfs:/databricks-datasets/wikipedia-datasets/data-001/en_wikipedia/articles-only-parquet/part-r-00138-ff5bbd4d-6518-4e17-8ff5-c8fd3d4a5b86.gz.parquet</td><td>part-r-00138-ff5bbd4d-6518-4e17-8ff5-c8fd3d4a5b86.gz.parquet</td><td>8987332</td></tr><tr><td>dbfs:/databricks-datasets/wikipedia-datasets/data-001/en_wikipedia/articles-only-parquet/part-r-00139-ff5bbd4d-6518-4e17-8ff5-c8fd3d4a5b86.gz.parquet</td><td>part-r-00139-ff5bbd4d-6518-4e17-8ff5-c8fd3d4a5b86.gz.parquet</td><td>6666494</td></tr><tr><td>dbfs:/databricks-datasets/wikipedia-datasets/data-001/en_wikipedia/articles-only-parquet/part-r-00140-ff5bbd4d-6518-4e17-8ff5-c8fd3d4a5b86.gz.parquet</td><td>part-r-00140-ff5bbd4d-6518-4e17-8ff5-c8fd3d4a5b86.gz.parquet</td><td>15904007</td></tr><tr><td>dbfs:/databricks-datasets/wikipedia-datasets/data-001/en_wikipedia/articles-only-parquet/part-r-00141-ff5bbd4d-6518-4e17-8ff5-c8fd3d4a5b86.gz.parquet</td><td>part-r-00141-ff5bbd4d-6518-4e17-8ff5-c8fd3d4a5b86.gz.parquet</td><td>8088088</td></tr><tr><td>dbfs:/databricks-datasets/wikipedia-datasets/data-001/en_wikipedia/articles-only-parquet/part-r-00142-ff5bbd4d-6518-4e17-8ff5-c8fd3d4a5b86.gz.parquet</td><td>part-r-00142-ff5bbd4d-6518-4e17-8ff5-c8fd3d4a5b86.gz.parquet</td><td>8086657</td></tr><tr><td>dbfs:/databricks-datasets/wikipedia-datasets/data-001/en_wikipedia/articles-only-parquet/part-r-00143-ff5bbd4d-6518-4e17-8ff5-c8fd3d4a5b86.gz.parquet</td><td>part-r-00143-ff5bbd4d-6518-4e17-8ff5-c8fd3d4a5b86.gz.parquet</td><td>11586873</td></tr><tr><td>dbfs:/databricks-datasets/wikipedia-datasets/data-001/en_wikipedia/articles-only-parquet/part-r-00144-ff5bbd4d-6518-4e17-8ff5-c8fd3d4a5b86.gz.parquet</td><td>part-r-00144-ff5bbd4d-6518-4e17-8ff5-c8fd3d4a5b86.gz.parquet</td><td>5293171</td></tr><tr><td>dbfs:/databricks-datasets/wikipedia-datasets/data-001/en_wikipedia/articles-only-parquet/part-r-00145-ff5bbd4d-6518-4e17-8ff5-c8fd3d4a5b86.gz.parquet</td><td>part-r-00145-ff5bbd4d-6518-4e17-8ff5-c8fd3d4a5b86.gz.parquet</td><td>7699970</td></tr><tr><td>dbfs:/databricks-datasets/wikipedia-datasets/data-001/en_wikipedia/articles-only-parquet/part-r-00146-ff5bbd4d-6518-4e17-8ff5-c8fd3d4a5b86.gz.parquet</td><td>part-r-00146-ff5bbd4d-6518-4e17-8ff5-c8fd3d4a5b86.gz.parquet</td><td>9067220</td></tr><tr><td>dbfs:/databricks-datasets/wikipedia-datasets/data-001/en_wikipedia/articles-only-parquet/part-r-00147-ff5bbd4d-6518-4e17-8ff5-c8fd3d4a5b86.gz.parquet</td><td>part-r-00147-ff5bbd4d-6518-4e17-8ff5-c8fd3d4a5b86.gz.parquet</td><td>9606936</td></tr><tr><td>dbfs:/databricks-datasets/wikipedia-datasets/data-001/en_wikipedia/articles-only-parquet/part-r-00148-ff5bbd4d-6518-4e17-8ff5-c8fd3d4a5b86.gz.parquet</td><td>part-r-00148-ff5bbd4d-6518-4e17-8ff5-c8fd3d4a5b86.gz.parquet</td><td>12325689</td></tr><tr><td>dbfs:/databricks-datasets/wikipedia-datasets/data-001/en_wikipedia/articles-only-parquet/part-r-00149-ff5bbd4d-6518-4e17-8ff5-c8fd3d4a5b86.gz.parquet</td><td>part-r-00149-ff5bbd4d-6518-4e17-8ff5-c8fd3d4a5b86.gz.parquet</td><td>14438945</td></tr><tr><td>dbfs:/databricks-datasets/wikipedia-datasets/data-001/en_wikipedia/articles-only-parquet/part-r-00150-ff5bbd4d-6518-4e17-8ff5-c8fd3d4a5b86.gz.parquet</td><td>part-r-00150-ff5bbd4d-6518-4e17-8ff5-c8fd3d4a5b86.gz.parquet</td><td>9651122</td></tr><tr><td>dbfs:/databricks-datasets/wikipedia-datasets/data-001/en_wikipedia/articles-only-parquet/part-r-00151-ff5bbd4d-6518-4e17-8ff5-c8fd3d4a5b86.gz.parquet</td><td>part-r-00151-ff5bbd4d-6518-4e17-8ff5-c8fd3d4a5b86.gz.parquet</td><td>9264025</td></tr><tr><td>dbfs:/databricks-datasets/wikipedia-datasets/data-001/en_wikipedia/articles-only-parquet/part-r-00152-ff5bbd4d-6518-4e17-8ff5-c8fd3d4a5b86.gz.parquet</td><td>part-r-00152-ff5bbd4d-6518-4e17-8ff5-c8fd3d4a5b86.gz.parquet</td><td>9439553</td></tr><tr><td>dbfs:/databricks-datasets/wikipedia-datasets/data-001/en_wikipedia/articles-only-parquet/part-r-00153-ff5bbd4d-6518-4e17-8ff5-c8fd3d4a5b86.gz.parquet</td><td>part-r-00153-ff5bbd4d-6518-4e17-8ff5-c8fd3d4a5b86.gz.parquet</td><td>7377705</td></tr><tr><td>dbfs:/databricks-datasets/wikipedia-datasets/data-001/en_wikipedia/articles-only-parquet/part-r-00154-ff5bbd4d-6518-4e17-8ff5-c8fd3d4a5b86.gz.parquet</td><td>part-r-00154-ff5bbd4d-6518-4e17-8ff5-c8fd3d4a5b86.gz.parquet</td><td>9419116</td></tr><tr><td>dbfs:/databricks-datasets/wikipedia-datasets/data-001/en_wikipedia/articles-only-parquet/part-r-00155-ff5bbd4d-6518-4e17-8ff5-c8fd3d4a5b86.gz.parquet</td><td>part-r-00155-ff5bbd4d-6518-4e17-8ff5-c8fd3d4a5b86.gz.parquet</td><td>10784706</td></tr><tr><td>dbfs:/databricks-datasets/wikipedia-datasets/data-001/en_wikipedia/articles-only-parquet/part-r-00156-ff5bbd4d-6518-4e17-8ff5-c8fd3d4a5b86.gz.parquet</td><td>part-r-00156-ff5bbd4d-6518-4e17-8ff5-c8fd3d4a5b86.gz.parquet</td><td>9364676</td></tr><tr><td>dbfs:/databricks-datasets/wikipedia-datasets/data-001/en_wikipedia/articles-only-parquet/part-r-00157-ff5bbd4d-6518-4e17-8ff5-c8fd3d4a5b86.gz.parquet</td><td>part-r-00157-ff5bbd4d-6518-4e17-8ff5-c8fd3d4a5b86.gz.parquet</td><td>12070118</td></tr><tr><td>dbfs:/databricks-datasets/wikipedia-datasets/data-001/en_wikipedia/articles-only-parquet/part-r-00158-ff5bbd4d-6518-4e17-8ff5-c8fd3d4a5b86.gz.parquet</td><td>part-r-00158-ff5bbd4d-6518-4e17-8ff5-c8fd3d4a5b86.gz.parquet</td><td>8537952</td></tr><tr><td>dbfs:/databricks-datasets/wikipedia-datasets/data-001/en_wikipedia/articles-only-parquet/part-r-00159-ff5bbd4d-6518-4e17-8ff5-c8fd3d4a5b86.gz.parquet</td><td>part-r-00159-ff5bbd4d-6518-4e17-8ff5-c8fd3d4a5b86.gz.parquet</td><td>7146853</td></tr><tr><td>dbfs:/databricks-datasets/wikipedia-datasets/data-001/en_wikipedia/articles-only-parquet/part-r-00160-ff5bbd4d-6518-4e17-8ff5-c8fd3d4a5b86.gz.parquet</td><td>part-r-00160-ff5bbd4d-6518-4e17-8ff5-c8fd3d4a5b86.gz.parquet</td><td>9510045</td></tr><tr><td>dbfs:/databricks-datasets/wikipedia-datasets/data-001/en_wikipedia/articles-only-parquet/part-r-00161-ff5bbd4d-6518-4e17-8ff5-c8fd3d4a5b86.gz.parquet</td><td>part-r-00161-ff5bbd4d-6518-4e17-8ff5-c8fd3d4a5b86.gz.parquet</td><td>9820709</td></tr><tr><td>dbfs:/databricks-datasets/wikipedia-datasets/data-001/en_wikipedia/articles-only-parquet/part-r-00162-ff5bbd4d-6518-4e17-8ff5-c8fd3d4a5b86.gz.parquet</td><td>part-r-00162-ff5bbd4d-6518-4e17-8ff5-c8fd3d4a5b86.gz.parquet</td><td>12594130</td></tr><tr><td>dbfs:/databricks-datasets/wikipedia-datasets/data-001/en_wikipedia/articles-only-parquet/part-r-00163-ff5bbd4d-6518-4e17-8ff5-c8fd3d4a5b86.gz.parquet</td><td>part-r-00163-ff5bbd4d-6518-4e17-8ff5-c8fd3d4a5b86.gz.parquet</td><td>8738189</td></tr><tr><td>dbfs:/databricks-datasets/wikipedia-datasets/data-001/en_wikipedia/articles-only-parquet/part-r-00164-ff5bbd4d-6518-4e17-8ff5-c8fd3d4a5b86.gz.parquet</td><td>part-r-00164-ff5bbd4d-6518-4e17-8ff5-c8fd3d4a5b86.gz.parquet</td><td>16652668</td></tr><tr><td>dbfs:/databricks-datasets/wikipedia-datasets/data-001/en_wikipedia/articles-only-parquet/part-r-00165-ff5bbd4d-6518-4e17-8ff5-c8fd3d4a5b86.gz.parquet</td><td>part-r-00165-ff5bbd4d-6518-4e17-8ff5-c8fd3d4a5b86.gz.parquet</td><td>10131941</td></tr><tr><td>dbfs:/databricks-datasets/wikipedia-datasets/data-001/en_wikipedia/articles-only-parquet/part-r-00166-ff5bbd4d-6518-4e17-8ff5-c8fd3d4a5b86.gz.parquet</td><td>part-r-00166-ff5bbd4d-6518-4e17-8ff5-c8fd3d4a5b86.gz.parquet</td><td>9352219</td></tr><tr><td>dbfs:/databricks-datasets/wikipedia-datasets/data-001/en_wikipedia/articles-only-parquet/part-r-00167-ff5bbd4d-6518-4e17-8ff5-c8fd3d4a5b86.gz.parquet</td><td>part-r-00167-ff5bbd4d-6518-4e17-8ff5-c8fd3d4a5b86.gz.parquet</td><td>9953318</td></tr><tr><td>dbfs:/databricks-datasets/wikipedia-datasets/data-001/en_wikipedia/articles-only-parquet/part-r-00168-ff5bbd4d-6518-4e17-8ff5-c8fd3d4a5b86.gz.parquet</td><td>part-r-00168-ff5bbd4d-6518-4e17-8ff5-c8fd3d4a5b86.gz.parquet</td><td>8238787</td></tr><tr><td>dbfs:/databricks-datasets/wikipedia-datasets/data-001/en_wikipedia/articles-only-parquet/part-r-00169-ff5bbd4d-6518-4e17-8ff5-c8fd3d4a5b86.gz.parquet</td><td>part-r-00169-ff5bbd4d-6518-4e17-8ff5-c8fd3d4a5b86.gz.parquet</td><td>4484281</td></tr><tr><td>dbfs:/databricks-datasets/wikipedia-datasets/data-001/en_wikipedia/articles-only-parquet/part-r-00170-ff5bbd4d-6518-4e17-8ff5-c8fd3d4a5b86.gz.parquet</td><td>part-r-00170-ff5bbd4d-6518-4e17-8ff5-c8fd3d4a5b86.gz.parquet</td><td>9565226</td></tr><tr><td>dbfs:/databricks-datasets/wikipedia-datasets/data-001/en_wikipedia/articles-only-parquet/part-r-00171-ff5bbd4d-6518-4e17-8ff5-c8fd3d4a5b86.gz.parquet</td><td>part-r-00171-ff5bbd4d-6518-4e17-8ff5-c8fd3d4a5b86.gz.parquet</td><td>10014929</td></tr><tr><td>dbfs:/databricks-datasets/wikipedia-datasets/data-001/en_wikipedia/articles-only-parquet/part-r-00172-ff5bbd4d-6518-4e17-8ff5-c8fd3d4a5b86.gz.parquet</td><td>part-r-00172-ff5bbd4d-6518-4e17-8ff5-c8fd3d4a5b86.gz.parquet</td><td>14930238</td></tr><tr><td>dbfs:/databricks-datasets/wikipedia-datasets/data-001/en_wikipedia/articles-only-parquet/part-r-00173-ff5bbd4d-6518-4e17-8ff5-c8fd3d4a5b86.gz.parquet</td><td>part-r-00173-ff5bbd4d-6518-4e17-8ff5-c8fd3d4a5b86.gz.parquet</td><td>7501655</td></tr><tr><td>dbfs:/databricks-datasets/wikipedia-datasets/data-001/en_wikipedia/articles-only-parquet/part-r-00174-ff5bbd4d-6518-4e17-8ff5-c8fd3d4a5b86.gz.parquet</td><td>part-r-00174-ff5bbd4d-6518-4e17-8ff5-c8fd3d4a5b86.gz.parquet</td><td>8761140</td></tr><tr><td>dbfs:/databricks-datasets/wikipedia-datasets/data-001/en_wikipedia/articles-only-parquet/part-r-00175-ff5bbd4d-6518-4e17-8ff5-c8fd3d4a5b86.gz.parquet</td><td>part-r-00175-ff5bbd4d-6518-4e17-8ff5-c8fd3d4a5b86.gz.parquet</td><td>20625935</td></tr><tr><td>dbfs:/databricks-datasets/wikipedia-datasets/data-001/en_wikipedia/articles-only-parquet/part-r-00176-ff5bbd4d-6518-4e17-8ff5-c8fd3d4a5b86.gz.parquet</td><td>part-r-00176-ff5bbd4d-6518-4e17-8ff5-c8fd3d4a5b86.gz.parquet</td><td>9516403</td></tr><tr><td>dbfs:/databricks-datasets/wikipedia-datasets/data-001/en_wikipedia/articles-only-parquet/part-r-00177-ff5bbd4d-6518-4e17-8ff5-c8fd3d4a5b86.gz.parquet</td><td>part-r-00177-ff5bbd4d-6518-4e17-8ff5-c8fd3d4a5b86.gz.parquet</td><td>5395450</td></tr><tr><td>dbfs:/databricks-datasets/wikipedia-datasets/data-001/en_wikipedia/articles-only-parquet/part-r-00178-ff5bbd4d-6518-4e17-8ff5-c8fd3d4a5b86.gz.parquet</td><td>part-r-00178-ff5bbd4d-6518-4e17-8ff5-c8fd3d4a5b86.gz.parquet</td><td>7650524</td></tr><tr><td>dbfs:/databricks-datasets/wikipedia-datasets/data-001/en_wikipedia/articles-only-parquet/part-r-00179-ff5bbd4d-6518-4e17-8ff5-c8fd3d4a5b86.gz.parquet</td><td>part-r-00179-ff5bbd4d-6518-4e17-8ff5-c8fd3d4a5b86.gz.parquet</td><td>11583442</td></tr><tr><td>dbfs:/databricks-datasets/wikipedia-datasets/data-001/en_wikipedia/articles-only-parquet/part-r-00180-ff5bbd4d-6518-4e17-8ff5-c8fd3d4a5b86.gz.parquet</td><td>part-r-00180-ff5bbd4d-6518-4e17-8ff5-c8fd3d4a5b86.gz.parquet</td><td>21880863</td></tr><tr><td>dbfs:/databricks-datasets/wikipedia-datasets/data-001/en_wikipedia/articles-only-parquet/part-r-00181-ff5bbd4d-6518-4e17-8ff5-c8fd3d4a5b86.gz.parquet</td><td>part-r-00181-ff5bbd4d-6518-4e17-8ff5-c8fd3d4a5b86.gz.parquet</td><td>9191859</td></tr><tr><td>dbfs:/databricks-datasets/wikipedia-datasets/data-001/en_wikipedia/articles-only-parquet/part-r-00182-ff5bbd4d-6518-4e17-8ff5-c8fd3d4a5b86.gz.parquet</td><td>part-r-00182-ff5bbd4d-6518-4e17-8ff5-c8fd3d4a5b86.gz.parquet</td><td>9879021</td></tr><tr><td>dbfs:/databricks-datasets/wikipedia-datasets/data-001/en_wikipedia/articles-only-parquet/part-r-00183-ff5bbd4d-6518-4e17-8ff5-c8fd3d4a5b86.gz.parquet</td><td>part-r-00183-ff5bbd4d-6518-4e17-8ff5-c8fd3d4a5b86.gz.parquet</td><td>9176539</td></tr><tr><td>dbfs:/databricks-datasets/wikipedia-datasets/data-001/en_wikipedia/articles-only-parquet/part-r-00184-ff5bbd4d-6518-4e17-8ff5-c8fd3d4a5b86.gz.parquet</td><td>part-r-00184-ff5bbd4d-6518-4e17-8ff5-c8fd3d4a5b86.gz.parquet</td><td>9322625</td></tr><tr><td>dbfs:/databricks-datasets/wikipedia-datasets/data-001/en_wikipedia/articles-only-parquet/part-r-00185-ff5bbd4d-6518-4e17-8ff5-c8fd3d4a5b86.gz.parquet</td><td>part-r-00185-ff5bbd4d-6518-4e17-8ff5-c8fd3d4a5b86.gz.parquet</td><td>9627246</td></tr><tr><td>dbfs:/databricks-datasets/wikipedia-datasets/data-001/en_wikipedia/articles-only-parquet/part-r-00186-ff5bbd4d-6518-4e17-8ff5-c8fd3d4a5b86.gz.parquet</td><td>part-r-00186-ff5bbd4d-6518-4e17-8ff5-c8fd3d4a5b86.gz.parquet</td><td>9922030</td></tr><tr><td>dbfs:/databricks-datasets/wikipedia-datasets/data-001/en_wikipedia/articles-only-parquet/part-r-00187-ff5bbd4d-6518-4e17-8ff5-c8fd3d4a5b86.gz.parquet</td><td>part-r-00187-ff5bbd4d-6518-4e17-8ff5-c8fd3d4a5b86.gz.parquet</td><td>9422632</td></tr><tr><td>dbfs:/databricks-datasets/wikipedia-datasets/data-001/en_wikipedia/articles-only-parquet/part-r-00188-ff5bbd4d-6518-4e17-8ff5-c8fd3d4a5b86.gz.parquet</td><td>part-r-00188-ff5bbd4d-6518-4e17-8ff5-c8fd3d4a5b86.gz.parquet</td><td>10840256</td></tr><tr><td>dbfs:/databricks-datasets/wikipedia-datasets/data-001/en_wikipedia/articles-only-parquet/part-r-00189-ff5bbd4d-6518-4e17-8ff5-c8fd3d4a5b86.gz.parquet</td><td>part-r-00189-ff5bbd4d-6518-4e17-8ff5-c8fd3d4a5b86.gz.parquet</td><td>18588823</td></tr><tr><td>dbfs:/databricks-datasets/wikipedia-datasets/data-001/en_wikipedia/articles-only-parquet/part-r-00190-ff5bbd4d-6518-4e17-8ff5-c8fd3d4a5b86.gz.parquet</td><td>part-r-00190-ff5bbd4d-6518-4e17-8ff5-c8fd3d4a5b86.gz.parquet</td><td>9585682</td></tr><tr><td>dbfs:/databricks-datasets/wikipedia-datasets/data-001/en_wikipedia/articles-only-parquet/part-r-00191-ff5bbd4d-6518-4e17-8ff5-c8fd3d4a5b86.gz.parquet</td><td>part-r-00191-ff5bbd4d-6518-4e17-8ff5-c8fd3d4a5b86.gz.parquet</td><td>8723540</td></tr><tr><td>dbfs:/databricks-datasets/wikipedia-datasets/data-001/en_wikipedia/articles-only-parquet/part-r-00192-ff5bbd4d-6518-4e17-8ff5-c8fd3d4a5b86.gz.parquet</td><td>part-r-00192-ff5bbd4d-6518-4e17-8ff5-c8fd3d4a5b86.gz.parquet</td><td>15435111</td></tr><tr><td>dbfs:/databricks-datasets/wikipedia-datasets/data-001/en_wikipedia/articles-only-parquet/part-r-00193-ff5bbd4d-6518-4e17-8ff5-c8fd3d4a5b86.gz.parquet</td><td>part-r-00193-ff5bbd4d-6518-4e17-8ff5-c8fd3d4a5b86.gz.parquet</td><td>8617882</td></tr><tr><td>dbfs:/databricks-datasets/wikipedia-datasets/data-001/en_wikipedia/articles-only-parquet/part-r-00194-ff5bbd4d-6518-4e17-8ff5-c8fd3d4a5b86.gz.parquet</td><td>part-r-00194-ff5bbd4d-6518-4e17-8ff5-c8fd3d4a5b86.gz.parquet</td><td>9232130</td></tr><tr><td>dbfs:/databricks-datasets/wikipedia-datasets/data-001/en_wikipedia/articles-only-parquet/part-r-00195-ff5bbd4d-6518-4e17-8ff5-c8fd3d4a5b86.gz.parquet</td><td>part-r-00195-ff5bbd4d-6518-4e17-8ff5-c8fd3d4a5b86.gz.parquet</td><td>9161547</td></tr><tr><td>dbfs:/databricks-datasets/wikipedia-datasets/data-001/en_wikipedia/articles-only-parquet/part-r-00196-ff5bbd4d-6518-4e17-8ff5-c8fd3d4a5b86.gz.parquet</td><td>part-r-00196-ff5bbd4d-6518-4e17-8ff5-c8fd3d4a5b86.gz.parquet</td><td>8011933</td></tr><tr><td>dbfs:/databricks-datasets/wikipedia-datasets/data-001/en_wikipedia/articles-only-parquet/part-r-00197-ff5bbd4d-6518-4e17-8ff5-c8fd3d4a5b86.gz.parquet</td><td>part-r-00197-ff5bbd4d-6518-4e17-8ff5-c8fd3d4a5b86.gz.parquet</td><td>9538801</td></tr><tr><td>dbfs:/databricks-datasets/wikipedia-datasets/data-001/en_wikipedia/articles-only-parquet/part-r-00198-ff5bbd4d-6518-4e17-8ff5-c8fd3d4a5b86.gz.parquet</td><td>part-r-00198-ff5bbd4d-6518-4e17-8ff5-c8fd3d4a5b86.gz.parquet</td><td>12597644</td></tr><tr><td>dbfs:/databricks-datasets/wikipedia-datasets/data-001/en_wikipedia/articles-only-parquet/part-r-00199-ff5bbd4d-6518-4e17-8ff5-c8fd3d4a5b86.gz.parquet</td><td>part-r-00199-ff5bbd4d-6518-4e17-8ff5-c8fd3d4a5b86.gz.parquet</td><td>9477056</td></tr><tr><td>dbfs:/databricks-datasets/wikipedia-datasets/data-001/en_wikipedia/articles-only-parquet/part-r-00200-ff5bbd4d-6518-4e17-8ff5-c8fd3d4a5b86.gz.parquet</td><td>part-r-00200-ff5bbd4d-6518-4e17-8ff5-c8fd3d4a5b86.gz.parquet</td><td>10144017</td></tr><tr><td>dbfs:/databricks-datasets/wikipedia-datasets/data-001/en_wikipedia/articles-only-parquet/part-r-00201-ff5bbd4d-6518-4e17-8ff5-c8fd3d4a5b86.gz.parquet</td><td>part-r-00201-ff5bbd4d-6518-4e17-8ff5-c8fd3d4a5b86.gz.parquet</td><td>11421451</td></tr><tr><td>dbfs:/databricks-datasets/wikipedia-datasets/data-001/en_wikipedia/articles-only-parquet/part-r-00202-ff5bbd4d-6518-4e17-8ff5-c8fd3d4a5b86.gz.parquet</td><td>part-r-00202-ff5bbd4d-6518-4e17-8ff5-c8fd3d4a5b86.gz.parquet</td><td>9667878</td></tr><tr><td>dbfs:/databricks-datasets/wikipedia-datasets/data-001/en_wikipedia/articles-only-parquet/part-r-00203-ff5bbd4d-6518-4e17-8ff5-c8fd3d4a5b86.gz.parquet</td><td>part-r-00203-ff5bbd4d-6518-4e17-8ff5-c8fd3d4a5b86.gz.parquet</td><td>9409955</td></tr><tr><td>dbfs:/databricks-datasets/wikipedia-datasets/data-001/en_wikipedia/articles-only-parquet/part-r-00204-ff5bbd4d-6518-4e17-8ff5-c8fd3d4a5b86.gz.parquet</td><td>part-r-00204-ff5bbd4d-6518-4e17-8ff5-c8fd3d4a5b86.gz.parquet</td><td>8816014</td></tr><tr><td>dbfs:/databricks-datasets/wikipedia-datasets/data-001/en_wikipedia/articles-only-parquet/part-r-00205-ff5bbd4d-6518-4e17-8ff5-c8fd3d4a5b86.gz.parquet</td><td>part-r-00205-ff5bbd4d-6518-4e17-8ff5-c8fd3d4a5b86.gz.parquet</td><td>13435234</td></tr><tr><td>dbfs:/databricks-datasets/wikipedia-datasets/data-001/en_wikipedia/articles-only-parquet/part-r-00206-ff5bbd4d-6518-4e17-8ff5-c8fd3d4a5b86.gz.parquet</td><td>part-r-00206-ff5bbd4d-6518-4e17-8ff5-c8fd3d4a5b86.gz.parquet</td><td>12449899</td></tr><tr><td>dbfs:/databricks-datasets/wikipedia-datasets/data-001/en_wikipedia/articles-only-parquet/part-r-00207-ff5bbd4d-6518-4e17-8ff5-c8fd3d4a5b86.gz.parquet</td><td>part-r-00207-ff5bbd4d-6518-4e17-8ff5-c8fd3d4a5b86.gz.parquet</td><td>8786917</td></tr><tr><td>dbfs:/databricks-datasets/wikipedia-datasets/data-001/en_wikipedia/articles-only-parquet/part-r-00208-ff5bbd4d-6518-4e17-8ff5-c8fd3d4a5b86.gz.parquet</td><td>part-r-00208-ff5bbd4d-6518-4e17-8ff5-c8fd3d4a5b86.gz.parquet</td><td>8705839</td></tr><tr><td>dbfs:/databricks-datasets/wikipedia-datasets/data-001/en_wikipedia/articles-only-parquet/part-r-00209-ff5bbd4d-6518-4e17-8ff5-c8fd3d4a5b86.gz.parquet</td><td>part-r-00209-ff5bbd4d-6518-4e17-8ff5-c8fd3d4a5b86.gz.parquet</td><td>9792118</td></tr><tr><td>dbfs:/databricks-datasets/wikipedia-datasets/data-001/en_wikipedia/articles-only-parquet/part-r-00210-ff5bbd4d-6518-4e17-8ff5-c8fd3d4a5b86.gz.parquet</td><td>part-r-00210-ff5bbd4d-6518-4e17-8ff5-c8fd3d4a5b86.gz.parquet</td><td>9307690</td></tr><tr><td>dbfs:/databricks-datasets/wikipedia-datasets/data-001/en_wikipedia/articles-only-parquet/part-r-00211-ff5bbd4d-6518-4e17-8ff5-c8fd3d4a5b86.gz.parquet</td><td>part-r-00211-ff5bbd4d-6518-4e17-8ff5-c8fd3d4a5b86.gz.parquet</td><td>14480807</td></tr><tr><td>dbfs:/databricks-datasets/wikipedia-datasets/data-001/en_wikipedia/articles-only-parquet/part-r-00212-ff5bbd4d-6518-4e17-8ff5-c8fd3d4a5b86.gz.parquet</td><td>part-r-00212-ff5bbd4d-6518-4e17-8ff5-c8fd3d4a5b86.gz.parquet</td><td>8270211</td></tr><tr><td>dbfs:/databricks-datasets/wikipedia-datasets/data-001/en_wikipedia/articles-only-parquet/part-r-00213-ff5bbd4d-6518-4e17-8ff5-c8fd3d4a5b86.gz.parquet</td><td>part-r-00213-ff5bbd4d-6518-4e17-8ff5-c8fd3d4a5b86.gz.parquet</td><td>10416653</td></tr><tr><td>dbfs:/databricks-datasets/wikipedia-datasets/data-001/en_wikipedia/articles-only-parquet/part-r-00214-ff5bbd4d-6518-4e17-8ff5-c8fd3d4a5b86.gz.parquet</td><td>part-r-00214-ff5bbd4d-6518-4e17-8ff5-c8fd3d4a5b86.gz.parquet</td><td>8983956</td></tr><tr><td>dbfs:/databricks-datasets/wikipedia-datasets/data-001/en_wikipedia/articles-only-parquet/part-r-00215-ff5bbd4d-6518-4e17-8ff5-c8fd3d4a5b86.gz.parquet</td><td>part-r-00215-ff5bbd4d-6518-4e17-8ff5-c8fd3d4a5b86.gz.parquet</td><td>12018830</td></tr><tr><td>dbfs:/databricks-datasets/wikipedia-datasets/data-001/en_wikipedia/articles-only-parquet/part-r-00216-ff5bbd4d-6518-4e17-8ff5-c8fd3d4a5b86.gz.parquet</td><td>part-r-00216-ff5bbd4d-6518-4e17-8ff5-c8fd3d4a5b86.gz.parquet</td><td>9380361</td></tr><tr><td>dbfs:/databricks-datasets/wikipedia-datasets/data-001/en_wikipedia/articles-only-parquet/part-r-00217-ff5bbd4d-6518-4e17-8ff5-c8fd3d4a5b86.gz.parquet</td><td>part-r-00217-ff5bbd4d-6518-4e17-8ff5-c8fd3d4a5b86.gz.parquet</td><td>8797910</td></tr><tr><td>dbfs:/databricks-datasets/wikipedia-datasets/data-001/en_wikipedia/articles-only-parquet/part-r-00218-ff5bbd4d-6518-4e17-8ff5-c8fd3d4a5b86.gz.parquet</td><td>part-r-00218-ff5bbd4d-6518-4e17-8ff5-c8fd3d4a5b86.gz.parquet</td><td>10643866</td></tr><tr><td>dbfs:/databricks-datasets/wikipedia-datasets/data-001/en_wikipedia/articles-only-parquet/part-r-00219-ff5bbd4d-6518-4e17-8ff5-c8fd3d4a5b86.gz.parquet</td><td>part-r-00219-ff5bbd4d-6518-4e17-8ff5-c8fd3d4a5b86.gz.parquet</td><td>13073491</td></tr><tr><td>dbfs:/databricks-datasets/wikipedia-datasets/data-001/en_wikipedia/articles-only-parquet/part-r-00220-ff5bbd4d-6518-4e17-8ff5-c8fd3d4a5b86.gz.parquet</td><td>part-r-00220-ff5bbd4d-6518-4e17-8ff5-c8fd3d4a5b86.gz.parquet</td><td>11611596</td></tr><tr><td>dbfs:/databricks-datasets/wikipedia-datasets/data-001/en_wikipedia/articles-only-parquet/part-r-00221-ff5bbd4d-6518-4e17-8ff5-c8fd3d4a5b86.gz.parquet</td><td>part-r-00221-ff5bbd4d-6518-4e17-8ff5-c8fd3d4a5b86.gz.parquet</td><td>6302304</td></tr><tr><td>dbfs:/databricks-datasets/wikipedia-datasets/data-001/en_wikipedia/articles-only-parquet/part-r-00222-ff5bbd4d-6518-4e17-8ff5-c8fd3d4a5b86.gz.parquet</td><td>part-r-00222-ff5bbd4d-6518-4e17-8ff5-c8fd3d4a5b86.gz.parquet</td><td>9440074</td></tr><tr><td>dbfs:/databricks-datasets/wikipedia-datasets/data-001/en_wikipedia/articles-only-parquet/part-r-00223-ff5bbd4d-6518-4e17-8ff5-c8fd3d4a5b86.gz.parquet</td><td>part-r-00223-ff5bbd4d-6518-4e17-8ff5-c8fd3d4a5b86.gz.parquet</td><td>10509037</td></tr><tr><td>dbfs:/databricks-datasets/wikipedia-datasets/data-001/en_wikipedia/articles-only-parquet/part-r-00224-ff5bbd4d-6518-4e17-8ff5-c8fd3d4a5b86.gz.parquet</td><td>part-r-00224-ff5bbd4d-6518-4e17-8ff5-c8fd3d4a5b86.gz.parquet</td><td>9772268</td></tr><tr><td>dbfs:/databricks-datasets/wikipedia-datasets/data-001/en_wikipedia/articles-only-parquet/part-r-00225-ff5bbd4d-6518-4e17-8ff5-c8fd3d4a5b86.gz.parquet</td><td>part-r-00225-ff5bbd4d-6518-4e17-8ff5-c8fd3d4a5b86.gz.parquet</td><td>9047678</td></tr><tr><td>dbfs:/databricks-datasets/wikipedia-datasets/data-001/en_wikipedia/articles-only-parquet/part-r-00226-ff5bbd4d-6518-4e17-8ff5-c8fd3d4a5b86.gz.parquet</td><td>part-r-00226-ff5bbd4d-6518-4e17-8ff5-c8fd3d4a5b86.gz.parquet</td><td>9553641</td></tr><tr><td>dbfs:/databricks-datasets/wikipedia-datasets/data-001/en_wikipedia/articles-only-parquet/part-r-00227-ff5bbd4d-6518-4e17-8ff5-c8fd3d4a5b86.gz.parquet</td><td>part-r-00227-ff5bbd4d-6518-4e17-8ff5-c8fd3d4a5b86.gz.parquet</td><td>8457227</td></tr><tr><td>dbfs:/databricks-datasets/wikipedia-datasets/data-001/en_wikipedia/articles-only-parquet/part-r-00228-ff5bbd4d-6518-4e17-8ff5-c8fd3d4a5b86.gz.parquet</td><td>part-r-00228-ff5bbd4d-6518-4e17-8ff5-c8fd3d4a5b86.gz.parquet</td><td>10007589</td></tr><tr><td>dbfs:/databricks-datasets/wikipedia-datasets/data-001/en_wikipedia/articles-only-parquet/part-r-00229-ff5bbd4d-6518-4e17-8ff5-c8fd3d4a5b86.gz.parquet</td><td>part-r-00229-ff5bbd4d-6518-4e17-8ff5-c8fd3d4a5b86.gz.parquet</td><td>20526355</td></tr><tr><td>dbfs:/databricks-datasets/wikipedia-datasets/data-001/en_wikipedia/articles-only-parquet/part-r-00230-ff5bbd4d-6518-4e17-8ff5-c8fd3d4a5b86.gz.parquet</td><td>part-r-00230-ff5bbd4d-6518-4e17-8ff5-c8fd3d4a5b86.gz.parquet</td><td>6561983</td></tr><tr><td>dbfs:/databricks-datasets/wikipedia-datasets/data-001/en_wikipedia/articles-only-parquet/part-r-00231-ff5bbd4d-6518-4e17-8ff5-c8fd3d4a5b86.gz.parquet</td><td>part-r-00231-ff5bbd4d-6518-4e17-8ff5-c8fd3d4a5b86.gz.parquet</td><td>8219948</td></tr><tr><td>dbfs:/databricks-datasets/wikipedia-datasets/data-001/en_wikipedia/articles-only-parquet/part-r-00232-ff5bbd4d-6518-4e17-8ff5-c8fd3d4a5b86.gz.parquet</td><td>part-r-00232-ff5bbd4d-6518-4e17-8ff5-c8fd3d4a5b86.gz.parquet</td><td>18161304</td></tr><tr><td>dbfs:/databricks-datasets/wikipedia-datasets/data-001/en_wikipedia/articles-only-parquet/part-r-00233-ff5bbd4d-6518-4e17-8ff5-c8fd3d4a5b86.gz.parquet</td><td>part-r-00233-ff5bbd4d-6518-4e17-8ff5-c8fd3d4a5b86.gz.parquet</td><td>7654021</td></tr><tr><td>dbfs:/databricks-datasets/wikipedia-datasets/data-001/en_wikipedia/articles-only-parquet/part-r-00234-ff5bbd4d-6518-4e17-8ff5-c8fd3d4a5b86.gz.parquet</td><td>part-r-00234-ff5bbd4d-6518-4e17-8ff5-c8fd3d4a5b86.gz.parquet</td><td>7420462</td></tr><tr><td>dbfs:/databricks-datasets/wikipedia-datasets/data-001/en_wikipedia/articles-only-parquet/part-r-00235-ff5bbd4d-6518-4e17-8ff5-c8fd3d4a5b86.gz.parquet</td><td>part-r-00235-ff5bbd4d-6518-4e17-8ff5-c8fd3d4a5b86.gz.parquet</td><td>9827864</td></tr><tr><td>dbfs:/databricks-datasets/wikipedia-datasets/data-001/en_wikipedia/articles-only-parquet/part-r-00236-ff5bbd4d-6518-4e17-8ff5-c8fd3d4a5b86.gz.parquet</td><td>part-r-00236-ff5bbd4d-6518-4e17-8ff5-c8fd3d4a5b86.gz.parquet</td><td>9634741</td></tr><tr><td>dbfs:/databricks-datasets/wikipedia-datasets/data-001/en_wikipedia/articles-only-parquet/part-r-00237-ff5bbd4d-6518-4e17-8ff5-c8fd3d4a5b86.gz.parquet</td><td>part-r-00237-ff5bbd4d-6518-4e17-8ff5-c8fd3d4a5b86.gz.parquet</td><td>17974866</td></tr><tr><td>dbfs:/databricks-datasets/wikipedia-datasets/data-001/en_wikipedia/articles-only-parquet/part-r-00238-ff5bbd4d-6518-4e17-8ff5-c8fd3d4a5b86.gz.parquet</td><td>part-r-00238-ff5bbd4d-6518-4e17-8ff5-c8fd3d4a5b86.gz.parquet</td><td>16939325</td></tr><tr><td>dbfs:/databricks-datasets/wikipedia-datasets/data-001/en_wikipedia/articles-only-parquet/part-r-00239-ff5bbd4d-6518-4e17-8ff5-c8fd3d4a5b86.gz.parquet</td><td>part-r-00239-ff5bbd4d-6518-4e17-8ff5-c8fd3d4a5b86.gz.parquet</td><td>9306348</td></tr><tr><td>dbfs:/databricks-datasets/wikipedia-datasets/data-001/en_wikipedia/articles-only-parquet/part-r-00240-ff5bbd4d-6518-4e17-8ff5-c8fd3d4a5b86.gz.parquet</td><td>part-r-00240-ff5bbd4d-6518-4e17-8ff5-c8fd3d4a5b86.gz.parquet</td><td>11737737</td></tr><tr><td>dbfs:/databricks-datasets/wikipedia-datasets/data-001/en_wikipedia/articles-only-parquet/part-r-00241-ff5bbd4d-6518-4e17-8ff5-c8fd3d4a5b86.gz.parquet</td><td>part-r-00241-ff5bbd4d-6518-4e17-8ff5-c8fd3d4a5b86.gz.parquet</td><td>9429086</td></tr><tr><td>dbfs:/databricks-datasets/wikipedia-datasets/data-001/en_wikipedia/articles-only-parquet/part-r-00242-ff5bbd4d-6518-4e17-8ff5-c8fd3d4a5b86.gz.parquet</td><td>part-r-00242-ff5bbd4d-6518-4e17-8ff5-c8fd3d4a5b86.gz.parquet</td><td>17440156</td></tr><tr><td>dbfs:/databricks-datasets/wikipedia-datasets/data-001/en_wikipedia/articles-only-parquet/part-r-00243-ff5bbd4d-6518-4e17-8ff5-c8fd3d4a5b86.gz.parquet</td><td>part-r-00243-ff5bbd4d-6518-4e17-8ff5-c8fd3d4a5b86.gz.parquet</td><td>9509237</td></tr><tr><td>dbfs:/databricks-datasets/wikipedia-datasets/data-001/en_wikipedia/articles-only-parquet/part-r-00244-ff5bbd4d-6518-4e17-8ff5-c8fd3d4a5b86.gz.parquet</td><td>part-r-00244-ff5bbd4d-6518-4e17-8ff5-c8fd3d4a5b86.gz.parquet</td><td>9591996</td></tr><tr><td>dbfs:/databricks-datasets/wikipedia-datasets/data-001/en_wikipedia/articles-only-parquet/part-r-00245-ff5bbd4d-6518-4e17-8ff5-c8fd3d4a5b86.gz.parquet</td><td>part-r-00245-ff5bbd4d-6518-4e17-8ff5-c8fd3d4a5b86.gz.parquet</td><td>9203143</td></tr><tr><td>dbfs:/databricks-datasets/wikipedia-datasets/data-001/en_wikipedia/articles-only-parquet/part-r-00246-ff5bbd4d-6518-4e17-8ff5-c8fd3d4a5b86.gz.parquet</td><td>part-r-00246-ff5bbd4d-6518-4e17-8ff5-c8fd3d4a5b86.gz.parquet</td><td>10167941</td></tr><tr><td>dbfs:/databricks-datasets/wikipedia-datasets/data-001/en_wikipedia/articles-only-parquet/part-r-00247-ff5bbd4d-6518-4e17-8ff5-c8fd3d4a5b86.gz.parquet</td><td>part-r-00247-ff5bbd4d-6518-4e17-8ff5-c8fd3d4a5b86.gz.parquet</td><td>9384083</td></tr><tr><td>dbfs:/databricks-datasets/wikipedia-datasets/data-001/en_wikipedia/articles-only-parquet/part-r-00248-ff5bbd4d-6518-4e17-8ff5-c8fd3d4a5b86.gz.parquet</td><td>part-r-00248-ff5bbd4d-6518-4e17-8ff5-c8fd3d4a5b86.gz.parquet</td><td>13683943</td></tr><tr><td>dbfs:/databricks-datasets/wikipedia-datasets/data-001/en_wikipedia/articles-only-parquet/part-r-00249-ff5bbd4d-6518-4e17-8ff5-c8fd3d4a5b86.gz.parquet</td><td>part-r-00249-ff5bbd4d-6518-4e17-8ff5-c8fd3d4a5b86.gz.parquet</td><td>8167168</td></tr><tr><td>dbfs:/databricks-datasets/wikipedia-datasets/data-001/en_wikipedia/articles-only-parquet/part-r-00250-ff5bbd4d-6518-4e17-8ff5-c8fd3d4a5b86.gz.parquet</td><td>part-r-00250-ff5bbd4d-6518-4e17-8ff5-c8fd3d4a5b86.gz.parquet</td><td>9338217</td></tr><tr><td>dbfs:/databricks-datasets/wikipedia-datasets/data-001/en_wikipedia/articles-only-parquet/part-r-00251-ff5bbd4d-6518-4e17-8ff5-c8fd3d4a5b86.gz.parquet</td><td>part-r-00251-ff5bbd4d-6518-4e17-8ff5-c8fd3d4a5b86.gz.parquet</td><td>9434760</td></tr><tr><td>dbfs:/databricks-datasets/wikipedia-datasets/data-001/en_wikipedia/articles-only-parquet/part-r-00252-ff5bbd4d-6518-4e17-8ff5-c8fd3d4a5b86.gz.parquet</td><td>part-r-00252-ff5bbd4d-6518-4e17-8ff5-c8fd3d4a5b86.gz.parquet</td><td>9661376</td></tr><tr><td>dbfs:/databricks-datasets/wikipedia-datasets/data-001/en_wikipedia/articles-only-parquet/part-r-00253-ff5bbd4d-6518-4e17-8ff5-c8fd3d4a5b86.gz.parquet</td><td>part-r-00253-ff5bbd4d-6518-4e17-8ff5-c8fd3d4a5b86.gz.parquet</td><td>9095405</td></tr><tr><td>dbfs:/databricks-datasets/wikipedia-datasets/data-001/en_wikipedia/articles-only-parquet/part-r-00254-ff5bbd4d-6518-4e17-8ff5-c8fd3d4a5b86.gz.parquet</td><td>part-r-00254-ff5bbd4d-6518-4e17-8ff5-c8fd3d4a5b86.gz.parquet</td><td>18365640</td></tr><tr><td>dbfs:/databricks-datasets/wikipedia-datasets/data-001/en_wikipedia/articles-only-parquet/part-r-00255-ff5bbd4d-6518-4e17-8ff5-c8fd3d4a5b86.gz.parquet</td><td>part-r-00255-ff5bbd4d-6518-4e17-8ff5-c8fd3d4a5b86.gz.parquet</td><td>9514347</td></tr><tr><td>dbfs:/databricks-datasets/wikipedia-datasets/data-001/en_wikipedia/articles-only-parquet/part-r-00256-ff5bbd4d-6518-4e17-8ff5-c8fd3d4a5b86.gz.parquet</td><td>part-r-00256-ff5bbd4d-6518-4e17-8ff5-c8fd3d4a5b86.gz.parquet</td><td>13167429</td></tr><tr><td>dbfs:/databricks-datasets/wikipedia-datasets/data-001/en_wikipedia/articles-only-parquet/part-r-00257-ff5bbd4d-6518-4e17-8ff5-c8fd3d4a5b86.gz.parquet</td><td>part-r-00257-ff5bbd4d-6518-4e17-8ff5-c8fd3d4a5b86.gz.parquet</td><td>14914542</td></tr><tr><td>dbfs:/databricks-datasets/wikipedia-datasets/data-001/en_wikipedia/articles-only-parquet/part-r-00258-ff5bbd4d-6518-4e17-8ff5-c8fd3d4a5b86.gz.parquet</td><td>part-r-00258-ff5bbd4d-6518-4e17-8ff5-c8fd3d4a5b86.gz.parquet</td><td>13335048</td></tr><tr><td>dbfs:/databricks-datasets/wikipedia-datasets/data-001/en_wikipedia/articles-only-parquet/part-r-00259-ff5bbd4d-6518-4e17-8ff5-c8fd3d4a5b86.gz.parquet</td><td>part-r-00259-ff5bbd4d-6518-4e17-8ff5-c8fd3d4a5b86.gz.parquet</td><td>17382225</td></tr><tr><td>dbfs:/databricks-datasets/wikipedia-datasets/data-001/en_wikipedia/articles-only-parquet/part-r-00260-ff5bbd4d-6518-4e17-8ff5-c8fd3d4a5b86.gz.parquet</td><td>part-r-00260-ff5bbd4d-6518-4e17-8ff5-c8fd3d4a5b86.gz.parquet</td><td>9909901</td></tr><tr><td>dbfs:/databricks-datasets/wikipedia-datasets/data-001/en_wikipedia/articles-only-parquet/part-r-00261-ff5bbd4d-6518-4e17-8ff5-c8fd3d4a5b86.gz.parquet</td><td>part-r-00261-ff5bbd4d-6518-4e17-8ff5-c8fd3d4a5b86.gz.parquet</td><td>8414362</td></tr><tr><td>dbfs:/databricks-datasets/wikipedia-datasets/data-001/en_wikipedia/articles-only-parquet/part-r-00262-ff5bbd4d-6518-4e17-8ff5-c8fd3d4a5b86.gz.parquet</td><td>part-r-00262-ff5bbd4d-6518-4e17-8ff5-c8fd3d4a5b86.gz.parquet</td><td>10254872</td></tr><tr><td>dbfs:/databricks-datasets/wikipedia-datasets/data-001/en_wikipedia/articles-only-parquet/part-r-00263-ff5bbd4d-6518-4e17-8ff5-c8fd3d4a5b86.gz.parquet</td><td>part-r-00263-ff5bbd4d-6518-4e17-8ff5-c8fd3d4a5b86.gz.parquet</td><td>8600351</td></tr><tr><td>dbfs:/databricks-datasets/wikipedia-datasets/data-001/en_wikipedia/articles-only-parquet/part-r-00264-ff5bbd4d-6518-4e17-8ff5-c8fd3d4a5b86.gz.parquet</td><td>part-r-00264-ff5bbd4d-6518-4e17-8ff5-c8fd3d4a5b86.gz.parquet</td><td>9286041</td></tr><tr><td>dbfs:/databricks-datasets/wikipedia-datasets/data-001/en_wikipedia/articles-only-parquet/part-r-00265-ff5bbd4d-6518-4e17-8ff5-c8fd3d4a5b86.gz.parquet</td><td>part-r-00265-ff5bbd4d-6518-4e17-8ff5-c8fd3d4a5b86.gz.parquet</td><td>7444259</td></tr><tr><td>dbfs:/databricks-datasets/wikipedia-datasets/data-001/en_wikipedia/articles-only-parquet/part-r-00266-ff5bbd4d-6518-4e17-8ff5-c8fd3d4a5b86.gz.parquet</td><td>part-r-00266-ff5bbd4d-6518-4e17-8ff5-c8fd3d4a5b86.gz.parquet</td><td>8461184</td></tr><tr><td>dbfs:/databricks-datasets/wikipedia-datasets/data-001/en_wikipedia/articles-only-parquet/part-r-00267-ff5bbd4d-6518-4e17-8ff5-c8fd3d4a5b86.gz.parquet</td><td>part-r-00267-ff5bbd4d-6518-4e17-8ff5-c8fd3d4a5b86.gz.parquet</td><td>8887882</td></tr><tr><td>dbfs:/databricks-datasets/wikipedia-datasets/data-001/en_wikipedia/articles-only-parquet/part-r-00268-ff5bbd4d-6518-4e17-8ff5-c8fd3d4a5b86.gz.parquet</td><td>part-r-00268-ff5bbd4d-6518-4e17-8ff5-c8fd3d4a5b86.gz.parquet</td><td>18971758</td></tr><tr><td>dbfs:/databricks-datasets/wikipedia-datasets/data-001/en_wikipedia/articles-only-parquet/part-r-00269-ff5bbd4d-6518-4e17-8ff5-c8fd3d4a5b86.gz.parquet</td><td>part-r-00269-ff5bbd4d-6518-4e17-8ff5-c8fd3d4a5b86.gz.parquet</td><td>7095819</td></tr><tr><td>dbfs:/databricks-datasets/wikipedia-datasets/data-001/en_wikipedia/articles-only-parquet/part-r-00270-ff5bbd4d-6518-4e17-8ff5-c8fd3d4a5b86.gz.parquet</td><td>part-r-00270-ff5bbd4d-6518-4e17-8ff5-c8fd3d4a5b86.gz.parquet</td><td>11194437</td></tr><tr><td>dbfs:/databricks-datasets/wikipedia-datasets/data-001/en_wikipedia/articles-only-parquet/part-r-00271-ff5bbd4d-6518-4e17-8ff5-c8fd3d4a5b86.gz.parquet</td><td>part-r-00271-ff5bbd4d-6518-4e17-8ff5-c8fd3d4a5b86.gz.parquet</td><td>17730079</td></tr><tr><td>dbfs:/databricks-datasets/wikipedia-datasets/data-001/en_wikipedia/articles-only-parquet/part-r-00272-ff5bbd4d-6518-4e17-8ff5-c8fd3d4a5b86.gz.parquet</td><td>part-r-00272-ff5bbd4d-6518-4e17-8ff5-c8fd3d4a5b86.gz.parquet</td><td>10222696</td></tr><tr><td>dbfs:/databricks-datasets/wikipedia-datasets/data-001/en_wikipedia/articles-only-parquet/part-r-00273-ff5bbd4d-6518-4e17-8ff5-c8fd3d4a5b86.gz.parquet</td><td>part-r-00273-ff5bbd4d-6518-4e17-8ff5-c8fd3d4a5b86.gz.parquet</td><td>8838253</td></tr><tr><td>dbfs:/databricks-datasets/wikipedia-datasets/data-001/en_wikipedia/articles-only-parquet/part-r-00274-ff5bbd4d-6518-4e17-8ff5-c8fd3d4a5b86.gz.parquet</td><td>part-r-00274-ff5bbd4d-6518-4e17-8ff5-c8fd3d4a5b86.gz.parquet</td><td>8407190</td></tr><tr><td>dbfs:/databricks-datasets/wikipedia-datasets/data-001/en_wikipedia/articles-only-parquet/part-r-00275-ff5bbd4d-6518-4e17-8ff5-c8fd3d4a5b86.gz.parquet</td><td>part-r-00275-ff5bbd4d-6518-4e17-8ff5-c8fd3d4a5b86.gz.parquet</td><td>9926334</td></tr><tr><td>dbfs:/databricks-datasets/wikipedia-datasets/data-001/en_wikipedia/articles-only-parquet/part-r-00276-ff5bbd4d-6518-4e17-8ff5-c8fd3d4a5b86.gz.parquet</td><td>part-r-00276-ff5bbd4d-6518-4e17-8ff5-c8fd3d4a5b86.gz.parquet</td><td>14096621</td></tr><tr><td>dbfs:/databricks-datasets/wikipedia-datasets/data-001/en_wikipedia/articles-only-parquet/part-r-00277-ff5bbd4d-6518-4e17-8ff5-c8fd3d4a5b86.gz.parquet</td><td>part-r-00277-ff5bbd4d-6518-4e17-8ff5-c8fd3d4a5b86.gz.parquet</td><td>9104928</td></tr><tr><td>dbfs:/databricks-datasets/wikipedia-datasets/data-001/en_wikipedia/articles-only-parquet/part-r-00278-ff5bbd4d-6518-4e17-8ff5-c8fd3d4a5b86.gz.parquet</td><td>part-r-00278-ff5bbd4d-6518-4e17-8ff5-c8fd3d4a5b86.gz.parquet</td><td>8701631</td></tr><tr><td>dbfs:/databricks-datasets/wikipedia-datasets/data-001/en_wikipedia/articles-only-parquet/part-r-00279-ff5bbd4d-6518-4e17-8ff5-c8fd3d4a5b86.gz.parquet</td><td>part-r-00279-ff5bbd4d-6518-4e17-8ff5-c8fd3d4a5b86.gz.parquet</td><td>8195719</td></tr><tr><td>dbfs:/databricks-datasets/wikipedia-datasets/data-001/en_wikipedia/articles-only-parquet/part-r-00280-ff5bbd4d-6518-4e17-8ff5-c8fd3d4a5b86.gz.parquet</td><td>part-r-00280-ff5bbd4d-6518-4e17-8ff5-c8fd3d4a5b86.gz.parquet</td><td>13552473</td></tr><tr><td>dbfs:/databricks-datasets/wikipedia-datasets/data-001/en_wikipedia/articles-only-parquet/part-r-00281-ff5bbd4d-6518-4e17-8ff5-c8fd3d4a5b86.gz.parquet</td><td>part-r-00281-ff5bbd4d-6518-4e17-8ff5-c8fd3d4a5b86.gz.parquet</td><td>9544979</td></tr><tr><td>dbfs:/databricks-datasets/wikipedia-datasets/data-001/en_wikipedia/articles-only-parquet/part-r-00282-ff5bbd4d-6518-4e17-8ff5-c8fd3d4a5b86.gz.parquet</td><td>part-r-00282-ff5bbd4d-6518-4e17-8ff5-c8fd3d4a5b86.gz.parquet</td><td>8317082</td></tr><tr><td>dbfs:/databricks-datasets/wikipedia-datasets/data-001/en_wikipedia/articles-only-parquet/part-r-00283-ff5bbd4d-6518-4e17-8ff5-c8fd3d4a5b86.gz.parquet</td><td>part-r-00283-ff5bbd4d-6518-4e17-8ff5-c8fd3d4a5b86.gz.parquet</td><td>9026473</td></tr><tr><td>dbfs:/databricks-datasets/wikipedia-datasets/data-001/en_wikipedia/articles-only-parquet/part-r-00284-ff5bbd4d-6518-4e17-8ff5-c8fd3d4a5b86.gz.parquet</td><td>part-r-00284-ff5bbd4d-6518-4e17-8ff5-c8fd3d4a5b86.gz.parquet</td><td>14767407</td></tr><tr><td>dbfs:/databricks-datasets/wikipedia-datasets/data-001/en_wikipedia/articles-only-parquet/part-r-00285-ff5bbd4d-6518-4e17-8ff5-c8fd3d4a5b86.gz.parquet</td><td>part-r-00285-ff5bbd4d-6518-4e17-8ff5-c8fd3d4a5b86.gz.parquet</td><td>6262954</td></tr><tr><td>dbfs:/databricks-datasets/wikipedia-datasets/data-001/en_wikipedia/articles-only-parquet/part-r-00286-ff5bbd4d-6518-4e17-8ff5-c8fd3d4a5b86.gz.parquet</td><td>part-r-00286-ff5bbd4d-6518-4e17-8ff5-c8fd3d4a5b86.gz.parquet</td><td>10001188</td></tr><tr><td>dbfs:/databricks-datasets/wikipedia-datasets/data-001/en_wikipedia/articles-only-parquet/part-r-00287-ff5bbd4d-6518-4e17-8ff5-c8fd3d4a5b86.gz.parquet</td><td>part-r-00287-ff5bbd4d-6518-4e17-8ff5-c8fd3d4a5b86.gz.parquet</td><td>14329316</td></tr><tr><td>dbfs:/databricks-datasets/wikipedia-datasets/data-001/en_wikipedia/articles-only-parquet/part-r-00288-ff5bbd4d-6518-4e17-8ff5-c8fd3d4a5b86.gz.parquet</td><td>part-r-00288-ff5bbd4d-6518-4e17-8ff5-c8fd3d4a5b86.gz.parquet</td><td>9903115</td></tr><tr><td>dbfs:/databricks-datasets/wikipedia-datasets/data-001/en_wikipedia/articles-only-parquet/part-r-00289-ff5bbd4d-6518-4e17-8ff5-c8fd3d4a5b86.gz.parquet</td><td>part-r-00289-ff5bbd4d-6518-4e17-8ff5-c8fd3d4a5b86.gz.parquet</td><td>9524729</td></tr><tr><td>dbfs:/databricks-datasets/wikipedia-datasets/data-001/en_wikipedia/articles-only-parquet/part-r-00290-ff5bbd4d-6518-4e17-8ff5-c8fd3d4a5b86.gz.parquet</td><td>part-r-00290-ff5bbd4d-6518-4e17-8ff5-c8fd3d4a5b86.gz.parquet</td><td>9915005</td></tr><tr><td>dbfs:/databricks-datasets/wikipedia-datasets/data-001/en_wikipedia/articles-only-parquet/part-r-00291-ff5bbd4d-6518-4e17-8ff5-c8fd3d4a5b86.gz.parquet</td><td>part-r-00291-ff5bbd4d-6518-4e17-8ff5-c8fd3d4a5b86.gz.parquet</td><td>10222163</td></tr><tr><td>dbfs:/databricks-datasets/wikipedia-datasets/data-001/en_wikipedia/articles-only-parquet/part-r-00292-ff5bbd4d-6518-4e17-8ff5-c8fd3d4a5b86.gz.parquet</td><td>part-r-00292-ff5bbd4d-6518-4e17-8ff5-c8fd3d4a5b86.gz.parquet</td><td>14276391</td></tr><tr><td>dbfs:/databricks-datasets/wikipedia-datasets/data-001/en_wikipedia/articles-only-parquet/part-r-00293-ff5bbd4d-6518-4e17-8ff5-c8fd3d4a5b86.gz.parquet</td><td>part-r-00293-ff5bbd4d-6518-4e17-8ff5-c8fd3d4a5b86.gz.parquet</td><td>9906747</td></tr><tr><td>dbfs:/databricks-datasets/wikipedia-datasets/data-001/en_wikipedia/articles-only-parquet/part-r-00294-ff5bbd4d-6518-4e17-8ff5-c8fd3d4a5b86.gz.parquet</td><td>part-r-00294-ff5bbd4d-6518-4e17-8ff5-c8fd3d4a5b86.gz.parquet</td><td>14938591</td></tr><tr><td>dbfs:/databricks-datasets/wikipedia-datasets/data-001/en_wikipedia/articles-only-parquet/part-r-00295-ff5bbd4d-6518-4e17-8ff5-c8fd3d4a5b86.gz.parquet</td><td>part-r-00295-ff5bbd4d-6518-4e17-8ff5-c8fd3d4a5b86.gz.parquet</td><td>8278033</td></tr><tr><td>dbfs:/databricks-datasets/wikipedia-datasets/data-001/en_wikipedia/articles-only-parquet/part-r-00296-ff5bbd4d-6518-4e17-8ff5-c8fd3d4a5b86.gz.parquet</td><td>part-r-00296-ff5bbd4d-6518-4e17-8ff5-c8fd3d4a5b86.gz.parquet</td><td>7904464</td></tr><tr><td>dbfs:/databricks-datasets/wikipedia-datasets/data-001/en_wikipedia/articles-only-parquet/part-r-00297-ff5bbd4d-6518-4e17-8ff5-c8fd3d4a5b86.gz.parquet</td><td>part-r-00297-ff5bbd4d-6518-4e17-8ff5-c8fd3d4a5b86.gz.parquet</td><td>9456887</td></tr><tr><td>dbfs:/databricks-datasets/wikipedia-datasets/data-001/en_wikipedia/articles-only-parquet/part-r-00298-ff5bbd4d-6518-4e17-8ff5-c8fd3d4a5b86.gz.parquet</td><td>part-r-00298-ff5bbd4d-6518-4e17-8ff5-c8fd3d4a5b86.gz.parquet</td><td>9283976</td></tr><tr><td>dbfs:/databricks-datasets/wikipedia-datasets/data-001/en_wikipedia/articles-only-parquet/part-r-00299-ff5bbd4d-6518-4e17-8ff5-c8fd3d4a5b86.gz.parquet</td><td>part-r-00299-ff5bbd4d-6518-4e17-8ff5-c8fd3d4a5b86.gz.parquet</td><td>11744592</td></tr><tr><td>dbfs:/databricks-datasets/wikipedia-datasets/data-001/en_wikipedia/articles-only-parquet/part-r-00300-ff5bbd4d-6518-4e17-8ff5-c8fd3d4a5b86.gz.parquet</td><td>part-r-00300-ff5bbd4d-6518-4e17-8ff5-c8fd3d4a5b86.gz.parquet</td><td>9017702</td></tr><tr><td>dbfs:/databricks-datasets/wikipedia-datasets/data-001/en_wikipedia/articles-only-parquet/part-r-00301-ff5bbd4d-6518-4e17-8ff5-c8fd3d4a5b86.gz.parquet</td><td>part-r-00301-ff5bbd4d-6518-4e17-8ff5-c8fd3d4a5b86.gz.parquet</td><td>8255889</td></tr><tr><td>dbfs:/databricks-datasets/wikipedia-datasets/data-001/en_wikipedia/articles-only-parquet/part-r-00302-ff5bbd4d-6518-4e17-8ff5-c8fd3d4a5b86.gz.parquet</td><td>part-r-00302-ff5bbd4d-6518-4e17-8ff5-c8fd3d4a5b86.gz.parquet</td><td>9563635</td></tr><tr><td>dbfs:/databricks-datasets/wikipedia-datasets/data-001/en_wikipedia/articles-only-parquet/part-r-00303-ff5bbd4d-6518-4e17-8ff5-c8fd3d4a5b86.gz.parquet</td><td>part-r-00303-ff5bbd4d-6518-4e17-8ff5-c8fd3d4a5b86.gz.parquet</td><td>9309651</td></tr><tr><td>dbfs:/databricks-datasets/wikipedia-datasets/data-001/en_wikipedia/articles-only-parquet/part-r-00304-ff5bbd4d-6518-4e17-8ff5-c8fd3d4a5b86.gz.parquet</td><td>part-r-00304-ff5bbd4d-6518-4e17-8ff5-c8fd3d4a5b86.gz.parquet</td><td>11448884</td></tr><tr><td>dbfs:/databricks-datasets/wikipedia-datasets/data-001/en_wikipedia/articles-only-parquet/part-r-00305-ff5bbd4d-6518-4e17-8ff5-c8fd3d4a5b86.gz.parquet</td><td>part-r-00305-ff5bbd4d-6518-4e17-8ff5-c8fd3d4a5b86.gz.parquet</td><td>15915100</td></tr><tr><td>dbfs:/databricks-datasets/wikipedia-datasets/data-001/en_wikipedia/articles-only-parquet/part-r-00306-ff5bbd4d-6518-4e17-8ff5-c8fd3d4a5b86.gz.parquet</td><td>part-r-00306-ff5bbd4d-6518-4e17-8ff5-c8fd3d4a5b86.gz.parquet</td><td>8848053</td></tr><tr><td>dbfs:/databricks-datasets/wikipedia-datasets/data-001/en_wikipedia/articles-only-parquet/part-r-00307-ff5bbd4d-6518-4e17-8ff5-c8fd3d4a5b86.gz.parquet</td><td>part-r-00307-ff5bbd4d-6518-4e17-8ff5-c8fd3d4a5b86.gz.parquet</td><td>12028728</td></tr><tr><td>dbfs:/databricks-datasets/wikipedia-datasets/data-001/en_wikipedia/articles-only-parquet/part-r-00308-ff5bbd4d-6518-4e17-8ff5-c8fd3d4a5b86.gz.parquet</td><td>part-r-00308-ff5bbd4d-6518-4e17-8ff5-c8fd3d4a5b86.gz.parquet</td><td>3939606</td></tr><tr><td>dbfs:/databricks-datasets/wikipedia-datasets/data-001/en_wikipedia/articles-only-parquet/part-r-00309-ff5bbd4d-6518-4e17-8ff5-c8fd3d4a5b86.gz.parquet</td><td>part-r-00309-ff5bbd4d-6518-4e17-8ff5-c8fd3d4a5b86.gz.parquet</td><td>9062118</td></tr><tr><td>dbfs:/databricks-datasets/wikipedia-datasets/data-001/en_wikipedia/articles-only-parquet/part-r-00310-ff5bbd4d-6518-4e17-8ff5-c8fd3d4a5b86.gz.parquet</td><td>part-r-00310-ff5bbd4d-6518-4e17-8ff5-c8fd3d4a5b86.gz.parquet</td><td>9213122</td></tr><tr><td>dbfs:/databricks-datasets/wikipedia-datasets/data-001/en_wikipedia/articles-only-parquet/part-r-00311-ff5bbd4d-6518-4e17-8ff5-c8fd3d4a5b86.gz.parquet</td><td>part-r-00311-ff5bbd4d-6518-4e17-8ff5-c8fd3d4a5b86.gz.parquet</td><td>7558032</td></tr><tr><td>dbfs:/databricks-datasets/wikipedia-datasets/data-001/en_wikipedia/articles-only-parquet/part-r-00312-ff5bbd4d-6518-4e17-8ff5-c8fd3d4a5b86.gz.parquet</td><td>part-r-00312-ff5bbd4d-6518-4e17-8ff5-c8fd3d4a5b86.gz.parquet</td><td>9875737</td></tr><tr><td>dbfs:/databricks-datasets/wikipedia-datasets/data-001/en_wikipedia/articles-only-parquet/part-r-00313-ff5bbd4d-6518-4e17-8ff5-c8fd3d4a5b86.gz.parquet</td><td>part-r-00313-ff5bbd4d-6518-4e17-8ff5-c8fd3d4a5b86.gz.parquet</td><td>8060599</td></tr><tr><td>dbfs:/databricks-datasets/wikipedia-datasets/data-001/en_wikipedia/articles-only-parquet/part-r-00314-ff5bbd4d-6518-4e17-8ff5-c8fd3d4a5b86.gz.parquet</td><td>part-r-00314-ff5bbd4d-6518-4e17-8ff5-c8fd3d4a5b86.gz.parquet</td><td>9359649</td></tr><tr><td>dbfs:/databricks-datasets/wikipedia-datasets/data-001/en_wikipedia/articles-only-parquet/part-r-00315-ff5bbd4d-6518-4e17-8ff5-c8fd3d4a5b86.gz.parquet</td><td>part-r-00315-ff5bbd4d-6518-4e17-8ff5-c8fd3d4a5b86.gz.parquet</td><td>8394302</td></tr><tr><td>dbfs:/databricks-datasets/wikipedia-datasets/data-001/en_wikipedia/articles-only-parquet/part-r-00316-ff5bbd4d-6518-4e17-8ff5-c8fd3d4a5b86.gz.parquet</td><td>part-r-00316-ff5bbd4d-6518-4e17-8ff5-c8fd3d4a5b86.gz.parquet</td><td>9110349</td></tr><tr><td>dbfs:/databricks-datasets/wikipedia-datasets/data-001/en_wikipedia/articles-only-parquet/part-r-00317-ff5bbd4d-6518-4e17-8ff5-c8fd3d4a5b86.gz.parquet</td><td>part-r-00317-ff5bbd4d-6518-4e17-8ff5-c8fd3d4a5b86.gz.parquet</td><td>6318563</td></tr><tr><td>dbfs:/databricks-datasets/wikipedia-datasets/data-001/en_wikipedia/articles-only-parquet/part-r-00318-ff5bbd4d-6518-4e17-8ff5-c8fd3d4a5b86.gz.parquet</td><td>part-r-00318-ff5bbd4d-6518-4e17-8ff5-c8fd3d4a5b86.gz.parquet</td><td>9334425</td></tr><tr><td>dbfs:/databricks-datasets/wikipedia-datasets/data-001/en_wikipedia/articles-only-parquet/part-r-00319-ff5bbd4d-6518-4e17-8ff5-c8fd3d4a5b86.gz.parquet</td><td>part-r-00319-ff5bbd4d-6518-4e17-8ff5-c8fd3d4a5b86.gz.parquet</td><td>9401736</td></tr><tr><td>dbfs:/databricks-datasets/wikipedia-datasets/data-001/en_wikipedia/articles-only-parquet/part-r-00320-ff5bbd4d-6518-4e17-8ff5-c8fd3d4a5b86.gz.parquet</td><td>part-r-00320-ff5bbd4d-6518-4e17-8ff5-c8fd3d4a5b86.gz.parquet</td><td>9493519</td></tr><tr><td>dbfs:/databricks-datasets/wikipedia-datasets/data-001/en_wikipedia/articles-only-parquet/part-r-00321-ff5bbd4d-6518-4e17-8ff5-c8fd3d4a5b86.gz.parquet</td><td>part-r-00321-ff5bbd4d-6518-4e17-8ff5-c8fd3d4a5b86.gz.parquet</td><td>8888485</td></tr><tr><td>dbfs:/databricks-datasets/wikipedia-datasets/data-001/en_wikipedia/articles-only-parquet/part-r-00322-ff5bbd4d-6518-4e17-8ff5-c8fd3d4a5b86.gz.parquet</td><td>part-r-00322-ff5bbd4d-6518-4e17-8ff5-c8fd3d4a5b86.gz.parquet</td><td>13947528</td></tr><tr><td>dbfs:/databricks-datasets/wikipedia-datasets/data-001/en_wikipedia/articles-only-parquet/part-r-00323-ff5bbd4d-6518-4e17-8ff5-c8fd3d4a5b86.gz.parquet</td><td>part-r-00323-ff5bbd4d-6518-4e17-8ff5-c8fd3d4a5b86.gz.parquet</td><td>5517313</td></tr><tr><td>dbfs:/databricks-datasets/wikipedia-datasets/data-001/en_wikipedia/articles-only-parquet/part-r-00324-ff5bbd4d-6518-4e17-8ff5-c8fd3d4a5b86.gz.parquet</td><td>part-r-00324-ff5bbd4d-6518-4e17-8ff5-c8fd3d4a5b86.gz.parquet</td><td>2994312</td></tr><tr><td>dbfs:/databricks-datasets/wikipedia-datasets/data-001/en_wikipedia/articles-only-parquet/part-r-00325-ff5bbd4d-6518-4e17-8ff5-c8fd3d4a5b86.gz.parquet</td><td>part-r-00325-ff5bbd4d-6518-4e17-8ff5-c8fd3d4a5b86.gz.parquet</td><td>9686311</td></tr><tr><td>dbfs:/databricks-datasets/wikipedia-datasets/data-001/en_wikipedia/articles-only-parquet/part-r-00326-ff5bbd4d-6518-4e17-8ff5-c8fd3d4a5b86.gz.parquet</td><td>part-r-00326-ff5bbd4d-6518-4e17-8ff5-c8fd3d4a5b86.gz.parquet</td><td>9963534</td></tr><tr><td>dbfs:/databricks-datasets/wikipedia-datasets/data-001/en_wikipedia/articles-only-parquet/part-r-00327-ff5bbd4d-6518-4e17-8ff5-c8fd3d4a5b86.gz.parquet</td><td>part-r-00327-ff5bbd4d-6518-4e17-8ff5-c8fd3d4a5b86.gz.parquet</td><td>10594140</td></tr><tr><td>dbfs:/databricks-datasets/wikipedia-datasets/data-001/en_wikipedia/articles-only-parquet/part-r-00328-ff5bbd4d-6518-4e17-8ff5-c8fd3d4a5b86.gz.parquet</td><td>part-r-00328-ff5bbd4d-6518-4e17-8ff5-c8fd3d4a5b86.gz.parquet</td><td>9826029</td></tr><tr><td>dbfs:/databricks-datasets/wikipedia-datasets/data-001/en_wikipedia/articles-only-parquet/part-r-00329-ff5bbd4d-6518-4e17-8ff5-c8fd3d4a5b86.gz.parquet</td><td>part-r-00329-ff5bbd4d-6518-4e17-8ff5-c8fd3d4a5b86.gz.parquet</td><td>7991022</td></tr><tr><td>dbfs:/databricks-datasets/wikipedia-datasets/data-001/en_wikipedia/articles-only-parquet/part-r-00330-ff5bbd4d-6518-4e17-8ff5-c8fd3d4a5b86.gz.parquet</td><td>part-r-00330-ff5bbd4d-6518-4e17-8ff5-c8fd3d4a5b86.gz.parquet</td><td>14167950</td></tr><tr><td>dbfs:/databricks-datasets/wikipedia-datasets/data-001/en_wikipedia/articles-only-parquet/part-r-00331-ff5bbd4d-6518-4e17-8ff5-c8fd3d4a5b86.gz.parquet</td><td>part-r-00331-ff5bbd4d-6518-4e17-8ff5-c8fd3d4a5b86.gz.parquet</td><td>13070227</td></tr><tr><td>dbfs:/databricks-datasets/wikipedia-datasets/data-001/en_wikipedia/articles-only-parquet/part-r-00332-ff5bbd4d-6518-4e17-8ff5-c8fd3d4a5b86.gz.parquet</td><td>part-r-00332-ff5bbd4d-6518-4e17-8ff5-c8fd3d4a5b86.gz.parquet</td><td>9160629</td></tr><tr><td>dbfs:/databricks-datasets/wikipedia-datasets/data-001/en_wikipedia/articles-only-parquet/part-r-00333-ff5bbd4d-6518-4e17-8ff5-c8fd3d4a5b86.gz.parquet</td><td>part-r-00333-ff5bbd4d-6518-4e17-8ff5-c8fd3d4a5b86.gz.parquet</td><td>8931087</td></tr><tr><td>dbfs:/databricks-datasets/wikipedia-datasets/data-001/en_wikipedia/articles-only-parquet/part-r-00334-ff5bbd4d-6518-4e17-8ff5-c8fd3d4a5b86.gz.parquet</td><td>part-r-00334-ff5bbd4d-6518-4e17-8ff5-c8fd3d4a5b86.gz.parquet</td><td>9503210</td></tr><tr><td>dbfs:/databricks-datasets/wikipedia-datasets/data-001/en_wikipedia/articles-only-parquet/part-r-00335-ff5bbd4d-6518-4e17-8ff5-c8fd3d4a5b86.gz.parquet</td><td>part-r-00335-ff5bbd4d-6518-4e17-8ff5-c8fd3d4a5b86.gz.parquet</td><td>9174925</td></tr><tr><td>dbfs:/databricks-datasets/wikipedia-datasets/data-001/en_wikipedia/articles-only-parquet/part-r-00336-ff5bbd4d-6518-4e17-8ff5-c8fd3d4a5b86.gz.parquet</td><td>part-r-00336-ff5bbd4d-6518-4e17-8ff5-c8fd3d4a5b86.gz.parquet</td><td>8013782</td></tr><tr><td>dbfs:/databricks-datasets/wikipedia-datasets/data-001/en_wikipedia/articles-only-parquet/part-r-00337-ff5bbd4d-6518-4e17-8ff5-c8fd3d4a5b86.gz.parquet</td><td>part-r-00337-ff5bbd4d-6518-4e17-8ff5-c8fd3d4a5b86.gz.parquet</td><td>9485931</td></tr><tr><td>dbfs:/databricks-datasets/wikipedia-datasets/data-001/en_wikipedia/articles-only-parquet/part-r-00338-ff5bbd4d-6518-4e17-8ff5-c8fd3d4a5b86.gz.parquet</td><td>part-r-00338-ff5bbd4d-6518-4e17-8ff5-c8fd3d4a5b86.gz.parquet</td><td>9299300</td></tr><tr><td>dbfs:/databricks-datasets/wikipedia-datasets/data-001/en_wikipedia/articles-only-parquet/part-r-00339-ff5bbd4d-6518-4e17-8ff5-c8fd3d4a5b86.gz.parquet</td><td>part-r-00339-ff5bbd4d-6518-4e17-8ff5-c8fd3d4a5b86.gz.parquet</td><td>3848049</td></tr><tr><td>dbfs:/databricks-datasets/wikipedia-datasets/data-001/en_wikipedia/articles-only-parquet/part-r-00340-ff5bbd4d-6518-4e17-8ff5-c8fd3d4a5b86.gz.parquet</td><td>part-r-00340-ff5bbd4d-6518-4e17-8ff5-c8fd3d4a5b86.gz.parquet</td><td>9186785</td></tr><tr><td>dbfs:/databricks-datasets/wikipedia-datasets/data-001/en_wikipedia/articles-only-parquet/part-r-00341-ff5bbd4d-6518-4e17-8ff5-c8fd3d4a5b86.gz.parquet</td><td>part-r-00341-ff5bbd4d-6518-4e17-8ff5-c8fd3d4a5b86.gz.parquet</td><td>13657041</td></tr><tr><td>dbfs:/databricks-datasets/wikipedia-datasets/data-001/en_wikipedia/articles-only-parquet/part-r-00342-ff5bbd4d-6518-4e17-8ff5-c8fd3d4a5b86.gz.parquet</td><td>part-r-00342-ff5bbd4d-6518-4e17-8ff5-c8fd3d4a5b86.gz.parquet</td><td>9779784</td></tr><tr><td>dbfs:/databricks-datasets/wikipedia-datasets/data-001/en_wikipedia/articles-only-parquet/part-r-00343-ff5bbd4d-6518-4e17-8ff5-c8fd3d4a5b86.gz.parquet</td><td>part-r-00343-ff5bbd4d-6518-4e17-8ff5-c8fd3d4a5b86.gz.parquet</td><td>8032704</td></tr><tr><td>dbfs:/databricks-datasets/wikipedia-datasets/data-001/en_wikipedia/articles-only-parquet/part-r-00344-ff5bbd4d-6518-4e17-8ff5-c8fd3d4a5b86.gz.parquet</td><td>part-r-00344-ff5bbd4d-6518-4e17-8ff5-c8fd3d4a5b86.gz.parquet</td><td>9263917</td></tr><tr><td>dbfs:/databricks-datasets/wikipedia-datasets/data-001/en_wikipedia/articles-only-parquet/part-r-00345-ff5bbd4d-6518-4e17-8ff5-c8fd3d4a5b86.gz.parquet</td><td>part-r-00345-ff5bbd4d-6518-4e17-8ff5-c8fd3d4a5b86.gz.parquet</td><td>5733629</td></tr><tr><td>dbfs:/databricks-datasets/wikipedia-datasets/data-001/en_wikipedia/articles-only-parquet/part-r-00346-ff5bbd4d-6518-4e17-8ff5-c8fd3d4a5b86.gz.parquet</td><td>part-r-00346-ff5bbd4d-6518-4e17-8ff5-c8fd3d4a5b86.gz.parquet</td><td>9468026</td></tr><tr><td>dbfs:/databricks-datasets/wikipedia-datasets/data-001/en_wikipedia/articles-only-parquet/part-r-00347-ff5bbd4d-6518-4e17-8ff5-c8fd3d4a5b86.gz.parquet</td><td>part-r-00347-ff5bbd4d-6518-4e17-8ff5-c8fd3d4a5b86.gz.parquet</td><td>14236950</td></tr><tr><td>dbfs:/databricks-datasets/wikipedia-datasets/data-001/en_wikipedia/articles-only-parquet/part-r-00348-ff5bbd4d-6518-4e17-8ff5-c8fd3d4a5b86.gz.parquet</td><td>part-r-00348-ff5bbd4d-6518-4e17-8ff5-c8fd3d4a5b86.gz.parquet</td><td>10233410</td></tr><tr><td>dbfs:/databricks-datasets/wikipedia-datasets/data-001/en_wikipedia/articles-only-parquet/part-r-00349-ff5bbd4d-6518-4e17-8ff5-c8fd3d4a5b86.gz.parquet</td><td>part-r-00349-ff5bbd4d-6518-4e17-8ff5-c8fd3d4a5b86.gz.parquet</td><td>5419120</td></tr><tr><td>dbfs:/databricks-datasets/wikipedia-datasets/data-001/en_wikipedia/articles-only-parquet/part-r-00350-ff5bbd4d-6518-4e17-8ff5-c8fd3d4a5b86.gz.parquet</td><td>part-r-00350-ff5bbd4d-6518-4e17-8ff5-c8fd3d4a5b86.gz.parquet</td><td>15219164</td></tr><tr><td>dbfs:/databricks-datasets/wikipedia-datasets/data-001/en_wikipedia/articles-only-parquet/part-r-00351-ff5bbd4d-6518-4e17-8ff5-c8fd3d4a5b86.gz.parquet</td><td>part-r-00351-ff5bbd4d-6518-4e17-8ff5-c8fd3d4a5b86.gz.parquet</td><td>16777923</td></tr><tr><td>dbfs:/databricks-datasets/wikipedia-datasets/data-001/en_wikipedia/articles-only-parquet/part-r-00352-ff5bbd4d-6518-4e17-8ff5-c8fd3d4a5b86.gz.parquet</td><td>part-r-00352-ff5bbd4d-6518-4e17-8ff5-c8fd3d4a5b86.gz.parquet</td><td>13969172</td></tr><tr><td>dbfs:/databricks-datasets/wikipedia-datasets/data-001/en_wikipedia/articles-only-parquet/part-r-00353-ff5bbd4d-6518-4e17-8ff5-c8fd3d4a5b86.gz.parquet</td><td>part-r-00353-ff5bbd4d-6518-4e17-8ff5-c8fd3d4a5b86.gz.parquet</td><td>12773609</td></tr><tr><td>dbfs:/databricks-datasets/wikipedia-datasets/data-001/en_wikipedia/articles-only-parquet/part-r-00354-ff5bbd4d-6518-4e17-8ff5-c8fd3d4a5b86.gz.parquet</td><td>part-r-00354-ff5bbd4d-6518-4e17-8ff5-c8fd3d4a5b86.gz.parquet</td><td>9709072</td></tr><tr><td>dbfs:/databricks-datasets/wikipedia-datasets/data-001/en_wikipedia/articles-only-parquet/part-r-00355-ff5bbd4d-6518-4e17-8ff5-c8fd3d4a5b86.gz.parquet</td><td>part-r-00355-ff5bbd4d-6518-4e17-8ff5-c8fd3d4a5b86.gz.parquet</td><td>8622849</td></tr><tr><td>dbfs:/databricks-datasets/wikipedia-datasets/data-001/en_wikipedia/articles-only-parquet/part-r-00356-ff5bbd4d-6518-4e17-8ff5-c8fd3d4a5b86.gz.parquet</td><td>part-r-00356-ff5bbd4d-6518-4e17-8ff5-c8fd3d4a5b86.gz.parquet</td><td>16079615</td></tr><tr><td>dbfs:/databricks-datasets/wikipedia-datasets/data-001/en_wikipedia/articles-only-parquet/part-r-00357-ff5bbd4d-6518-4e17-8ff5-c8fd3d4a5b86.gz.parquet</td><td>part-r-00357-ff5bbd4d-6518-4e17-8ff5-c8fd3d4a5b86.gz.parquet</td><td>8517936</td></tr><tr><td>dbfs:/databricks-datasets/wikipedia-datasets/data-001/en_wikipedia/articles-only-parquet/part-r-00358-ff5bbd4d-6518-4e17-8ff5-c8fd3d4a5b86.gz.parquet</td><td>part-r-00358-ff5bbd4d-6518-4e17-8ff5-c8fd3d4a5b86.gz.parquet</td><td>9880952</td></tr><tr><td>dbfs:/databricks-datasets/wikipedia-datasets/data-001/en_wikipedia/articles-only-parquet/part-r-00359-ff5bbd4d-6518-4e17-8ff5-c8fd3d4a5b86.gz.parquet</td><td>part-r-00359-ff5bbd4d-6518-4e17-8ff5-c8fd3d4a5b86.gz.parquet</td><td>9422502</td></tr><tr><td>dbfs:/databricks-datasets/wikipedia-datasets/data-001/en_wikipedia/articles-only-parquet/part-r-00360-ff5bbd4d-6518-4e17-8ff5-c8fd3d4a5b86.gz.parquet</td><td>part-r-00360-ff5bbd4d-6518-4e17-8ff5-c8fd3d4a5b86.gz.parquet</td><td>10429736</td></tr><tr><td>dbfs:/databricks-datasets/wikipedia-datasets/data-001/en_wikipedia/articles-only-parquet/part-r-00361-ff5bbd4d-6518-4e17-8ff5-c8fd3d4a5b86.gz.parquet</td><td>part-r-00361-ff5bbd4d-6518-4e17-8ff5-c8fd3d4a5b86.gz.parquet</td><td>8065364</td></tr><tr><td>dbfs:/databricks-datasets/wikipedia-datasets/data-001/en_wikipedia/articles-only-parquet/part-r-00362-ff5bbd4d-6518-4e17-8ff5-c8fd3d4a5b86.gz.parquet</td><td>part-r-00362-ff5bbd4d-6518-4e17-8ff5-c8fd3d4a5b86.gz.parquet</td><td>8993458</td></tr><tr><td>dbfs:/databricks-datasets/wikipedia-datasets/data-001/en_wikipedia/articles-only-parquet/part-r-00363-ff5bbd4d-6518-4e17-8ff5-c8fd3d4a5b86.gz.parquet</td><td>part-r-00363-ff5bbd4d-6518-4e17-8ff5-c8fd3d4a5b86.gz.parquet</td><td>10515946</td></tr><tr><td>dbfs:/databricks-datasets/wikipedia-datasets/data-001/en_wikipedia/articles-only-parquet/part-r-00364-ff5bbd4d-6518-4e17-8ff5-c8fd3d4a5b86.gz.parquet</td><td>part-r-00364-ff5bbd4d-6518-4e17-8ff5-c8fd3d4a5b86.gz.parquet</td><td>9138805</td></tr><tr><td>dbfs:/databricks-datasets/wikipedia-datasets/data-001/en_wikipedia/articles-only-parquet/part-r-00365-ff5bbd4d-6518-4e17-8ff5-c8fd3d4a5b86.gz.parquet</td><td>part-r-00365-ff5bbd4d-6518-4e17-8ff5-c8fd3d4a5b86.gz.parquet</td><td>10517830</td></tr><tr><td>dbfs:/databricks-datasets/wikipedia-datasets/data-001/en_wikipedia/articles-only-parquet/part-r-00366-ff5bbd4d-6518-4e17-8ff5-c8fd3d4a5b86.gz.parquet</td><td>part-r-00366-ff5bbd4d-6518-4e17-8ff5-c8fd3d4a5b86.gz.parquet</td><td>9365433</td></tr><tr><td>dbfs:/databricks-datasets/wikipedia-datasets/data-001/en_wikipedia/articles-only-parquet/part-r-00367-ff5bbd4d-6518-4e17-8ff5-c8fd3d4a5b86.gz.parquet</td><td>part-r-00367-ff5bbd4d-6518-4e17-8ff5-c8fd3d4a5b86.gz.parquet</td><td>14595561</td></tr><tr><td>dbfs:/databricks-datasets/wikipedia-datasets/data-001/en_wikipedia/articles-only-parquet/part-r-00368-ff5bbd4d-6518-4e17-8ff5-c8fd3d4a5b86.gz.parquet</td><td>part-r-00368-ff5bbd4d-6518-4e17-8ff5-c8fd3d4a5b86.gz.parquet</td><td>9404904</td></tr><tr><td>dbfs:/databricks-datasets/wikipedia-datasets/data-001/en_wikipedia/articles-only-parquet/part-r-00369-ff5bbd4d-6518-4e17-8ff5-c8fd3d4a5b86.gz.parquet</td><td>part-r-00369-ff5bbd4d-6518-4e17-8ff5-c8fd3d4a5b86.gz.parquet</td><td>10085610</td></tr><tr><td>dbfs:/databricks-datasets/wikipedia-datasets/data-001/en_wikipedia/articles-only-parquet/part-r-00370-ff5bbd4d-6518-4e17-8ff5-c8fd3d4a5b86.gz.parquet</td><td>part-r-00370-ff5bbd4d-6518-4e17-8ff5-c8fd3d4a5b86.gz.parquet</td><td>13738049</td></tr><tr><td>dbfs:/databricks-datasets/wikipedia-datasets/data-001/en_wikipedia/articles-only-parquet/part-r-00371-ff5bbd4d-6518-4e17-8ff5-c8fd3d4a5b86.gz.parquet</td><td>part-r-00371-ff5bbd4d-6518-4e17-8ff5-c8fd3d4a5b86.gz.parquet</td><td>9029736</td></tr><tr><td>dbfs:/databricks-datasets/wikipedia-datasets/data-001/en_wikipedia/articles-only-parquet/part-r-00372-ff5bbd4d-6518-4e17-8ff5-c8fd3d4a5b86.gz.parquet</td><td>part-r-00372-ff5bbd4d-6518-4e17-8ff5-c8fd3d4a5b86.gz.parquet</td><td>15273934</td></tr><tr><td>dbfs:/databricks-datasets/wikipedia-datasets/data-001/en_wikipedia/articles-only-parquet/part-r-00373-ff5bbd4d-6518-4e17-8ff5-c8fd3d4a5b86.gz.parquet</td><td>part-r-00373-ff5bbd4d-6518-4e17-8ff5-c8fd3d4a5b86.gz.parquet</td><td>8285047</td></tr><tr><td>dbfs:/databricks-datasets/wikipedia-datasets/data-001/en_wikipedia/articles-only-parquet/part-r-00374-ff5bbd4d-6518-4e17-8ff5-c8fd3d4a5b86.gz.parquet</td><td>part-r-00374-ff5bbd4d-6518-4e17-8ff5-c8fd3d4a5b86.gz.parquet</td><td>9589103</td></tr><tr><td>dbfs:/databricks-datasets/wikipedia-datasets/data-001/en_wikipedia/articles-only-parquet/part-r-00375-ff5bbd4d-6518-4e17-8ff5-c8fd3d4a5b86.gz.parquet</td><td>part-r-00375-ff5bbd4d-6518-4e17-8ff5-c8fd3d4a5b86.gz.parquet</td><td>12250633</td></tr><tr><td>dbfs:/databricks-datasets/wikipedia-datasets/data-001/en_wikipedia/articles-only-parquet/part-r-00376-ff5bbd4d-6518-4e17-8ff5-c8fd3d4a5b86.gz.parquet</td><td>part-r-00376-ff5bbd4d-6518-4e17-8ff5-c8fd3d4a5b86.gz.parquet</td><td>9525539</td></tr><tr><td>dbfs:/databricks-datasets/wikipedia-datasets/data-001/en_wikipedia/articles-only-parquet/part-r-00377-ff5bbd4d-6518-4e17-8ff5-c8fd3d4a5b86.gz.parquet</td><td>part-r-00377-ff5bbd4d-6518-4e17-8ff5-c8fd3d4a5b86.gz.parquet</td><td>14587429</td></tr><tr><td>dbfs:/databricks-datasets/wikipedia-datasets/data-001/en_wikipedia/articles-only-parquet/part-r-00378-ff5bbd4d-6518-4e17-8ff5-c8fd3d4a5b86.gz.parquet</td><td>part-r-00378-ff5bbd4d-6518-4e17-8ff5-c8fd3d4a5b86.gz.parquet</td><td>9385891</td></tr><tr><td>dbfs:/databricks-datasets/wikipedia-datasets/data-001/en_wikipedia/articles-only-parquet/part-r-00379-ff5bbd4d-6518-4e17-8ff5-c8fd3d4a5b86.gz.parquet</td><td>part-r-00379-ff5bbd4d-6518-4e17-8ff5-c8fd3d4a5b86.gz.parquet</td><td>8895127</td></tr><tr><td>dbfs:/databricks-datasets/wikipedia-datasets/data-001/en_wikipedia/articles-only-parquet/part-r-00380-ff5bbd4d-6518-4e17-8ff5-c8fd3d4a5b86.gz.parquet</td><td>part-r-00380-ff5bbd4d-6518-4e17-8ff5-c8fd3d4a5b86.gz.parquet</td><td>8801953</td></tr><tr><td>dbfs:/databricks-datasets/wikipedia-datasets/data-001/en_wikipedia/articles-only-parquet/part-r-00381-ff5bbd4d-6518-4e17-8ff5-c8fd3d4a5b86.gz.parquet</td><td>part-r-00381-ff5bbd4d-6518-4e17-8ff5-c8fd3d4a5b86.gz.parquet</td><td>7328751</td></tr><tr><td>dbfs:/databricks-datasets/wikipedia-datasets/data-001/en_wikipedia/articles-only-parquet/part-r-00382-ff5bbd4d-6518-4e17-8ff5-c8fd3d4a5b86.gz.parquet</td><td>part-r-00382-ff5bbd4d-6518-4e17-8ff5-c8fd3d4a5b86.gz.parquet</td><td>13627603</td></tr><tr><td>dbfs:/databricks-datasets/wikipedia-datasets/data-001/en_wikipedia/articles-only-parquet/part-r-00383-ff5bbd4d-6518-4e17-8ff5-c8fd3d4a5b86.gz.parquet</td><td>part-r-00383-ff5bbd4d-6518-4e17-8ff5-c8fd3d4a5b86.gz.parquet</td><td>8620140</td></tr><tr><td>dbfs:/databricks-datasets/wikipedia-datasets/data-001/en_wikipedia/articles-only-parquet/part-r-00384-ff5bbd4d-6518-4e17-8ff5-c8fd3d4a5b86.gz.parquet</td><td>part-r-00384-ff5bbd4d-6518-4e17-8ff5-c8fd3d4a5b86.gz.parquet</td><td>9129240</td></tr><tr><td>dbfs:/databricks-datasets/wikipedia-datasets/data-001/en_wikipedia/articles-only-parquet/part-r-00385-ff5bbd4d-6518-4e17-8ff5-c8fd3d4a5b86.gz.parquet</td><td>part-r-00385-ff5bbd4d-6518-4e17-8ff5-c8fd3d4a5b86.gz.parquet</td><td>8527913</td></tr><tr><td>dbfs:/databricks-datasets/wikipedia-datasets/data-001/en_wikipedia/articles-only-parquet/part-r-00386-ff5bbd4d-6518-4e17-8ff5-c8fd3d4a5b86.gz.parquet</td><td>part-r-00386-ff5bbd4d-6518-4e17-8ff5-c8fd3d4a5b86.gz.parquet</td><td>9185784</td></tr><tr><td>dbfs:/databricks-datasets/wikipedia-datasets/data-001/en_wikipedia/articles-only-parquet/part-r-00387-ff5bbd4d-6518-4e17-8ff5-c8fd3d4a5b86.gz.parquet</td><td>part-r-00387-ff5bbd4d-6518-4e17-8ff5-c8fd3d4a5b86.gz.parquet</td><td>10629375</td></tr><tr><td>dbfs:/databricks-datasets/wikipedia-datasets/data-001/en_wikipedia/articles-only-parquet/part-r-00388-ff5bbd4d-6518-4e17-8ff5-c8fd3d4a5b86.gz.parquet</td><td>part-r-00388-ff5bbd4d-6518-4e17-8ff5-c8fd3d4a5b86.gz.parquet</td><td>9189793</td></tr><tr><td>dbfs:/databricks-datasets/wikipedia-datasets/data-001/en_wikipedia/articles-only-parquet/part-r-00389-ff5bbd4d-6518-4e17-8ff5-c8fd3d4a5b86.gz.parquet</td><td>part-r-00389-ff5bbd4d-6518-4e17-8ff5-c8fd3d4a5b86.gz.parquet</td><td>9248894</td></tr><tr><td>dbfs:/databricks-datasets/wikipedia-datasets/data-001/en_wikipedia/articles-only-parquet/part-r-00390-ff5bbd4d-6518-4e17-8ff5-c8fd3d4a5b86.gz.parquet</td><td>part-r-00390-ff5bbd4d-6518-4e17-8ff5-c8fd3d4a5b86.gz.parquet</td><td>8948639</td></tr><tr><td>dbfs:/databricks-datasets/wikipedia-datasets/data-001/en_wikipedia/articles-only-parquet/part-r-00391-ff5bbd4d-6518-4e17-8ff5-c8fd3d4a5b86.gz.parquet</td><td>part-r-00391-ff5bbd4d-6518-4e17-8ff5-c8fd3d4a5b86.gz.parquet</td><td>13152618</td></tr><tr><td>dbfs:/databricks-datasets/wikipedia-datasets/data-001/en_wikipedia/articles-only-parquet/part-r-00392-ff5bbd4d-6518-4e17-8ff5-c8fd3d4a5b86.gz.parquet</td><td>part-r-00392-ff5bbd4d-6518-4e17-8ff5-c8fd3d4a5b86.gz.parquet</td><td>12658735</td></tr><tr><td>dbfs:/databricks-datasets/wikipedia-datasets/data-001/en_wikipedia/articles-only-parquet/part-r-00393-ff5bbd4d-6518-4e17-8ff5-c8fd3d4a5b86.gz.parquet</td><td>part-r-00393-ff5bbd4d-6518-4e17-8ff5-c8fd3d4a5b86.gz.parquet</td><td>8671060</td></tr><tr><td>dbfs:/databricks-datasets/wikipedia-datasets/data-001/en_wikipedia/articles-only-parquet/part-r-00394-ff5bbd4d-6518-4e17-8ff5-c8fd3d4a5b86.gz.parquet</td><td>part-r-00394-ff5bbd4d-6518-4e17-8ff5-c8fd3d4a5b86.gz.parquet</td><td>9014633</td></tr><tr><td>dbfs:/databricks-datasets/wikipedia-datasets/data-001/en_wikipedia/articles-only-parquet/part-r-00395-ff5bbd4d-6518-4e17-8ff5-c8fd3d4a5b86.gz.parquet</td><td>part-r-00395-ff5bbd4d-6518-4e17-8ff5-c8fd3d4a5b86.gz.parquet</td><td>10594474</td></tr><tr><td>dbfs:/databricks-datasets/wikipedia-datasets/data-001/en_wikipedia/articles-only-parquet/part-r-00396-ff5bbd4d-6518-4e17-8ff5-c8fd3d4a5b86.gz.parquet</td><td>part-r-00396-ff5bbd4d-6518-4e17-8ff5-c8fd3d4a5b86.gz.parquet</td><td>9307451</td></tr><tr><td>dbfs:/databricks-datasets/wikipedia-datasets/data-001/en_wikipedia/articles-only-parquet/part-r-00397-ff5bbd4d-6518-4e17-8ff5-c8fd3d4a5b86.gz.parquet</td><td>part-r-00397-ff5bbd4d-6518-4e17-8ff5-c8fd3d4a5b86.gz.parquet</td><td>8257656</td></tr><tr><td>dbfs:/databricks-datasets/wikipedia-datasets/data-001/en_wikipedia/articles-only-parquet/part-r-00398-ff5bbd4d-6518-4e17-8ff5-c8fd3d4a5b86.gz.parquet</td><td>part-r-00398-ff5bbd4d-6518-4e17-8ff5-c8fd3d4a5b86.gz.parquet</td><td>7274695</td></tr><tr><td>dbfs:/databricks-datasets/wikipedia-datasets/data-001/en_wikipedia/articles-only-parquet/part-r-00399-ff5bbd4d-6518-4e17-8ff5-c8fd3d4a5b86.gz.parquet</td><td>part-r-00399-ff5bbd4d-6518-4e17-8ff5-c8fd3d4a5b86.gz.parquet</td><td>17554403</td></tr><tr><td>dbfs:/databricks-datasets/wikipedia-datasets/data-001/en_wikipedia/articles-only-parquet/part-r-00400-ff5bbd4d-6518-4e17-8ff5-c8fd3d4a5b86.gz.parquet</td><td>part-r-00400-ff5bbd4d-6518-4e17-8ff5-c8fd3d4a5b86.gz.parquet</td><td>9201348</td></tr><tr><td>dbfs:/databricks-datasets/wikipedia-datasets/data-001/en_wikipedia/articles-only-parquet/part-r-00401-ff5bbd4d-6518-4e17-8ff5-c8fd3d4a5b86.gz.parquet</td><td>part-r-00401-ff5bbd4d-6518-4e17-8ff5-c8fd3d4a5b86.gz.parquet</td><td>8050259</td></tr><tr><td>dbfs:/databricks-datasets/wikipedia-datasets/data-001/en_wikipedia/articles-only-parquet/part-r-00402-ff5bbd4d-6518-4e17-8ff5-c8fd3d4a5b86.gz.parquet</td><td>part-r-00402-ff5bbd4d-6518-4e17-8ff5-c8fd3d4a5b86.gz.parquet</td><td>9603793</td></tr><tr><td>dbfs:/databricks-datasets/wikipedia-datasets/data-001/en_wikipedia/articles-only-parquet/part-r-00403-ff5bbd4d-6518-4e17-8ff5-c8fd3d4a5b86.gz.parquet</td><td>part-r-00403-ff5bbd4d-6518-4e17-8ff5-c8fd3d4a5b86.gz.parquet</td><td>10222479</td></tr><tr><td>dbfs:/databricks-datasets/wikipedia-datasets/data-001/en_wikipedia/articles-only-parquet/part-r-00404-ff5bbd4d-6518-4e17-8ff5-c8fd3d4a5b86.gz.parquet</td><td>part-r-00404-ff5bbd4d-6518-4e17-8ff5-c8fd3d4a5b86.gz.parquet</td><td>9453908</td></tr><tr><td>dbfs:/databricks-datasets/wikipedia-datasets/data-001/en_wikipedia/articles-only-parquet/part-r-00405-ff5bbd4d-6518-4e17-8ff5-c8fd3d4a5b86.gz.parquet</td><td>part-r-00405-ff5bbd4d-6518-4e17-8ff5-c8fd3d4a5b86.gz.parquet</td><td>12900378</td></tr><tr><td>dbfs:/databricks-datasets/wikipedia-datasets/data-001/en_wikipedia/articles-only-parquet/part-r-00406-ff5bbd4d-6518-4e17-8ff5-c8fd3d4a5b86.gz.parquet</td><td>part-r-00406-ff5bbd4d-6518-4e17-8ff5-c8fd3d4a5b86.gz.parquet</td><td>8812441</td></tr><tr><td>dbfs:/databricks-datasets/wikipedia-datasets/data-001/en_wikipedia/articles-only-parquet/part-r-00407-ff5bbd4d-6518-4e17-8ff5-c8fd3d4a5b86.gz.parquet</td><td>part-r-00407-ff5bbd4d-6518-4e17-8ff5-c8fd3d4a5b86.gz.parquet</td><td>8720956</td></tr><tr><td>dbfs:/databricks-datasets/wikipedia-datasets/data-001/en_wikipedia/articles-only-parquet/part-r-00408-ff5bbd4d-6518-4e17-8ff5-c8fd3d4a5b86.gz.parquet</td><td>part-r-00408-ff5bbd4d-6518-4e17-8ff5-c8fd3d4a5b86.gz.parquet</td><td>8330859</td></tr><tr><td>dbfs:/databricks-datasets/wikipedia-datasets/data-001/en_wikipedia/articles-only-parquet/part-r-00409-ff5bbd4d-6518-4e17-8ff5-c8fd3d4a5b86.gz.parquet</td><td>part-r-00409-ff5bbd4d-6518-4e17-8ff5-c8fd3d4a5b86.gz.parquet</td><td>9079007</td></tr><tr><td>dbfs:/databricks-datasets/wikipedia-datasets/data-001/en_wikipedia/articles-only-parquet/part-r-00410-ff5bbd4d-6518-4e17-8ff5-c8fd3d4a5b86.gz.parquet</td><td>part-r-00410-ff5bbd4d-6518-4e17-8ff5-c8fd3d4a5b86.gz.parquet</td><td>13638167</td></tr><tr><td>dbfs:/databricks-datasets/wikipedia-datasets/data-001/en_wikipedia/articles-only-parquet/part-r-00411-ff5bbd4d-6518-4e17-8ff5-c8fd3d4a5b86.gz.parquet</td><td>part-r-00411-ff5bbd4d-6518-4e17-8ff5-c8fd3d4a5b86.gz.parquet</td><td>9727017</td></tr><tr><td>dbfs:/databricks-datasets/wikipedia-datasets/data-001/en_wikipedia/articles-only-parquet/part-r-00412-ff5bbd4d-6518-4e17-8ff5-c8fd3d4a5b86.gz.parquet</td><td>part-r-00412-ff5bbd4d-6518-4e17-8ff5-c8fd3d4a5b86.gz.parquet</td><td>11399100</td></tr><tr><td>dbfs:/databricks-datasets/wikipedia-datasets/data-001/en_wikipedia/articles-only-parquet/part-r-00413-ff5bbd4d-6518-4e17-8ff5-c8fd3d4a5b86.gz.parquet</td><td>part-r-00413-ff5bbd4d-6518-4e17-8ff5-c8fd3d4a5b86.gz.parquet</td><td>8899482</td></tr><tr><td>dbfs:/databricks-datasets/wikipedia-datasets/data-001/en_wikipedia/articles-only-parquet/part-r-00414-ff5bbd4d-6518-4e17-8ff5-c8fd3d4a5b86.gz.parquet</td><td>part-r-00414-ff5bbd4d-6518-4e17-8ff5-c8fd3d4a5b86.gz.parquet</td><td>10429724</td></tr><tr><td>dbfs:/databricks-datasets/wikipedia-datasets/data-001/en_wikipedia/articles-only-parquet/part-r-00415-ff5bbd4d-6518-4e17-8ff5-c8fd3d4a5b86.gz.parquet</td><td>part-r-00415-ff5bbd4d-6518-4e17-8ff5-c8fd3d4a5b86.gz.parquet</td><td>2306934</td></tr><tr><td>dbfs:/databricks-datasets/wikipedia-datasets/data-001/en_wikipedia/articles-only-parquet/part-r-00416-ff5bbd4d-6518-4e17-8ff5-c8fd3d4a5b86.gz.parquet</td><td>part-r-00416-ff5bbd4d-6518-4e17-8ff5-c8fd3d4a5b86.gz.parquet</td><td>8740714</td></tr><tr><td>dbfs:/databricks-datasets/wikipedia-datasets/data-001/en_wikipedia/articles-only-parquet/part-r-00417-ff5bbd4d-6518-4e17-8ff5-c8fd3d4a5b86.gz.parquet</td><td>part-r-00417-ff5bbd4d-6518-4e17-8ff5-c8fd3d4a5b86.gz.parquet</td><td>9637912</td></tr><tr><td>dbfs:/databricks-datasets/wikipedia-datasets/data-001/en_wikipedia/articles-only-parquet/part-r-00418-ff5bbd4d-6518-4e17-8ff5-c8fd3d4a5b86.gz.parquet</td><td>part-r-00418-ff5bbd4d-6518-4e17-8ff5-c8fd3d4a5b86.gz.parquet</td><td>11293456</td></tr><tr><td>dbfs:/databricks-datasets/wikipedia-datasets/data-001/en_wikipedia/articles-only-parquet/part-r-00419-ff5bbd4d-6518-4e17-8ff5-c8fd3d4a5b86.gz.parquet</td><td>part-r-00419-ff5bbd4d-6518-4e17-8ff5-c8fd3d4a5b86.gz.parquet</td><td>10276357</td></tr><tr><td>dbfs:/databricks-datasets/wikipedia-datasets/data-001/en_wikipedia/articles-only-parquet/part-r-00420-ff5bbd4d-6518-4e17-8ff5-c8fd3d4a5b86.gz.parquet</td><td>part-r-00420-ff5bbd4d-6518-4e17-8ff5-c8fd3d4a5b86.gz.parquet</td><td>9910009</td></tr><tr><td>dbfs:/databricks-datasets/wikipedia-datasets/data-001/en_wikipedia/articles-only-parquet/part-r-00421-ff5bbd4d-6518-4e17-8ff5-c8fd3d4a5b86.gz.parquet</td><td>part-r-00421-ff5bbd4d-6518-4e17-8ff5-c8fd3d4a5b86.gz.parquet</td><td>9840078</td></tr><tr><td>dbfs:/databricks-datasets/wikipedia-datasets/data-001/en_wikipedia/articles-only-parquet/part-r-00422-ff5bbd4d-6518-4e17-8ff5-c8fd3d4a5b86.gz.parquet</td><td>part-r-00422-ff5bbd4d-6518-4e17-8ff5-c8fd3d4a5b86.gz.parquet</td><td>8987167</td></tr><tr><td>dbfs:/databricks-datasets/wikipedia-datasets/data-001/en_wikipedia/articles-only-parquet/part-r-00423-ff5bbd4d-6518-4e17-8ff5-c8fd3d4a5b86.gz.parquet</td><td>part-r-00423-ff5bbd4d-6518-4e17-8ff5-c8fd3d4a5b86.gz.parquet</td><td>12031540</td></tr><tr><td>dbfs:/databricks-datasets/wikipedia-datasets/data-001/en_wikipedia/articles-only-parquet/part-r-00424-ff5bbd4d-6518-4e17-8ff5-c8fd3d4a5b86.gz.parquet</td><td>part-r-00424-ff5bbd4d-6518-4e17-8ff5-c8fd3d4a5b86.gz.parquet</td><td>8378300</td></tr><tr><td>dbfs:/databricks-datasets/wikipedia-datasets/data-001/en_wikipedia/articles-only-parquet/part-r-00425-ff5bbd4d-6518-4e17-8ff5-c8fd3d4a5b86.gz.parquet</td><td>part-r-00425-ff5bbd4d-6518-4e17-8ff5-c8fd3d4a5b86.gz.parquet</td><td>8750537</td></tr><tr><td>dbfs:/databricks-datasets/wikipedia-datasets/data-001/en_wikipedia/articles-only-parquet/part-r-00426-ff5bbd4d-6518-4e17-8ff5-c8fd3d4a5b86.gz.parquet</td><td>part-r-00426-ff5bbd4d-6518-4e17-8ff5-c8fd3d4a5b86.gz.parquet</td><td>7742718</td></tr><tr><td>dbfs:/databricks-datasets/wikipedia-datasets/data-001/en_wikipedia/articles-only-parquet/part-r-00427-ff5bbd4d-6518-4e17-8ff5-c8fd3d4a5b86.gz.parquet</td><td>part-r-00427-ff5bbd4d-6518-4e17-8ff5-c8fd3d4a5b86.gz.parquet</td><td>11881374</td></tr><tr><td>dbfs:/databricks-datasets/wikipedia-datasets/data-001/en_wikipedia/articles-only-parquet/part-r-00428-ff5bbd4d-6518-4e17-8ff5-c8fd3d4a5b86.gz.parquet</td><td>part-r-00428-ff5bbd4d-6518-4e17-8ff5-c8fd3d4a5b86.gz.parquet</td><td>7274130</td></tr><tr><td>dbfs:/databricks-datasets/wikipedia-datasets/data-001/en_wikipedia/articles-only-parquet/part-r-00429-ff5bbd4d-6518-4e17-8ff5-c8fd3d4a5b86.gz.parquet</td><td>part-r-00429-ff5bbd4d-6518-4e17-8ff5-c8fd3d4a5b86.gz.parquet</td><td>12107346</td></tr><tr><td>dbfs:/databricks-datasets/wikipedia-datasets/data-001/en_wikipedia/articles-only-parquet/part-r-00430-ff5bbd4d-6518-4e17-8ff5-c8fd3d4a5b86.gz.parquet</td><td>part-r-00430-ff5bbd4d-6518-4e17-8ff5-c8fd3d4a5b86.gz.parquet</td><td>5441639</td></tr><tr><td>dbfs:/databricks-datasets/wikipedia-datasets/data-001/en_wikipedia/articles-only-parquet/part-r-00431-ff5bbd4d-6518-4e17-8ff5-c8fd3d4a5b86.gz.parquet</td><td>part-r-00431-ff5bbd4d-6518-4e17-8ff5-c8fd3d4a5b86.gz.parquet</td><td>8727496</td></tr><tr><td>dbfs:/databricks-datasets/wikipedia-datasets/data-001/en_wikipedia/articles-only-parquet/part-r-00432-ff5bbd4d-6518-4e17-8ff5-c8fd3d4a5b86.gz.parquet</td><td>part-r-00432-ff5bbd4d-6518-4e17-8ff5-c8fd3d4a5b86.gz.parquet</td><td>9422624</td></tr><tr><td>dbfs:/databricks-datasets/wikipedia-datasets/data-001/en_wikipedia/articles-only-parquet/part-r-00433-ff5bbd4d-6518-4e17-8ff5-c8fd3d4a5b86.gz.parquet</td><td>part-r-00433-ff5bbd4d-6518-4e17-8ff5-c8fd3d4a5b86.gz.parquet</td><td>10950332</td></tr><tr><td>dbfs:/databricks-datasets/wikipedia-datasets/data-001/en_wikipedia/articles-only-parquet/part-r-00434-ff5bbd4d-6518-4e17-8ff5-c8fd3d4a5b86.gz.parquet</td><td>part-r-00434-ff5bbd4d-6518-4e17-8ff5-c8fd3d4a5b86.gz.parquet</td><td>11108823</td></tr><tr><td>dbfs:/databricks-datasets/wikipedia-datasets/data-001/en_wikipedia/articles-only-parquet/part-r-00435-ff5bbd4d-6518-4e17-8ff5-c8fd3d4a5b86.gz.parquet</td><td>part-r-00435-ff5bbd4d-6518-4e17-8ff5-c8fd3d4a5b86.gz.parquet</td><td>9044781</td></tr><tr><td>dbfs:/databricks-datasets/wikipedia-datasets/data-001/en_wikipedia/articles-only-parquet/part-r-00436-ff5bbd4d-6518-4e17-8ff5-c8fd3d4a5b86.gz.parquet</td><td>part-r-00436-ff5bbd4d-6518-4e17-8ff5-c8fd3d4a5b86.gz.parquet</td><td>8640443</td></tr><tr><td>dbfs:/databricks-datasets/wikipedia-datasets/data-001/en_wikipedia/articles-only-parquet/part-r-00437-ff5bbd4d-6518-4e17-8ff5-c8fd3d4a5b86.gz.parquet</td><td>part-r-00437-ff5bbd4d-6518-4e17-8ff5-c8fd3d4a5b86.gz.parquet</td><td>19220433</td></tr><tr><td>dbfs:/databricks-datasets/wikipedia-datasets/data-001/en_wikipedia/articles-only-parquet/part-r-00438-ff5bbd4d-6518-4e17-8ff5-c8fd3d4a5b86.gz.parquet</td><td>part-r-00438-ff5bbd4d-6518-4e17-8ff5-c8fd3d4a5b86.gz.parquet</td><td>9457322</td></tr><tr><td>dbfs:/databricks-datasets/wikipedia-datasets/data-001/en_wikipedia/articles-only-parquet/part-r-00439-ff5bbd4d-6518-4e17-8ff5-c8fd3d4a5b86.gz.parquet</td><td>part-r-00439-ff5bbd4d-6518-4e17-8ff5-c8fd3d4a5b86.gz.parquet</td><td>4443341</td></tr><tr><td>dbfs:/databricks-datasets/wikipedia-datasets/data-001/en_wikipedia/articles-only-parquet/part-r-00440-ff5bbd4d-6518-4e17-8ff5-c8fd3d4a5b86.gz.parquet</td><td>part-r-00440-ff5bbd4d-6518-4e17-8ff5-c8fd3d4a5b86.gz.parquet</td><td>13641053</td></tr><tr><td>dbfs:/databricks-datasets/wikipedia-datasets/data-001/en_wikipedia/articles-only-parquet/part-r-00441-ff5bbd4d-6518-4e17-8ff5-c8fd3d4a5b86.gz.parquet</td><td>part-r-00441-ff5bbd4d-6518-4e17-8ff5-c8fd3d4a5b86.gz.parquet</td><td>13533640</td></tr><tr><td>dbfs:/databricks-datasets/wikipedia-datasets/data-001/en_wikipedia/articles-only-parquet/part-r-00442-ff5bbd4d-6518-4e17-8ff5-c8fd3d4a5b86.gz.parquet</td><td>part-r-00442-ff5bbd4d-6518-4e17-8ff5-c8fd3d4a5b86.gz.parquet</td><td>13672428</td></tr><tr><td>dbfs:/databricks-datasets/wikipedia-datasets/data-001/en_wikipedia/articles-only-parquet/part-r-00443-ff5bbd4d-6518-4e17-8ff5-c8fd3d4a5b86.gz.parquet</td><td>part-r-00443-ff5bbd4d-6518-4e17-8ff5-c8fd3d4a5b86.gz.parquet</td><td>9084841</td></tr><tr><td>dbfs:/databricks-datasets/wikipedia-datasets/data-001/en_wikipedia/articles-only-parquet/part-r-00444-ff5bbd4d-6518-4e17-8ff5-c8fd3d4a5b86.gz.parquet</td><td>part-r-00444-ff5bbd4d-6518-4e17-8ff5-c8fd3d4a5b86.gz.parquet</td><td>9650962</td></tr><tr><td>dbfs:/databricks-datasets/wikipedia-datasets/data-001/en_wikipedia/articles-only-parquet/part-r-00445-ff5bbd4d-6518-4e17-8ff5-c8fd3d4a5b86.gz.parquet</td><td>part-r-00445-ff5bbd4d-6518-4e17-8ff5-c8fd3d4a5b86.gz.parquet</td><td>8810399</td></tr><tr><td>dbfs:/databricks-datasets/wikipedia-datasets/data-001/en_wikipedia/articles-only-parquet/part-r-00446-ff5bbd4d-6518-4e17-8ff5-c8fd3d4a5b86.gz.parquet</td><td>part-r-00446-ff5bbd4d-6518-4e17-8ff5-c8fd3d4a5b86.gz.parquet</td><td>8463074</td></tr><tr><td>dbfs:/databricks-datasets/wikipedia-datasets/data-001/en_wikipedia/articles-only-parquet/part-r-00447-ff5bbd4d-6518-4e17-8ff5-c8fd3d4a5b86.gz.parquet</td><td>part-r-00447-ff5bbd4d-6518-4e17-8ff5-c8fd3d4a5b86.gz.parquet</td><td>9668779</td></tr><tr><td>dbfs:/databricks-datasets/wikipedia-datasets/data-001/en_wikipedia/articles-only-parquet/part-r-00448-ff5bbd4d-6518-4e17-8ff5-c8fd3d4a5b86.gz.parquet</td><td>part-r-00448-ff5bbd4d-6518-4e17-8ff5-c8fd3d4a5b86.gz.parquet</td><td>8019803</td></tr><tr><td>dbfs:/databricks-datasets/wikipedia-datasets/data-001/en_wikipedia/articles-only-parquet/part-r-00449-ff5bbd4d-6518-4e17-8ff5-c8fd3d4a5b86.gz.parquet</td><td>part-r-00449-ff5bbd4d-6518-4e17-8ff5-c8fd3d4a5b86.gz.parquet</td><td>9135499</td></tr><tr><td>dbfs:/databricks-datasets/wikipedia-datasets/data-001/en_wikipedia/articles-only-parquet/part-r-00450-ff5bbd4d-6518-4e17-8ff5-c8fd3d4a5b86.gz.parquet</td><td>part-r-00450-ff5bbd4d-6518-4e17-8ff5-c8fd3d4a5b86.gz.parquet</td><td>8111754</td></tr><tr><td>dbfs:/databricks-datasets/wikipedia-datasets/data-001/en_wikipedia/articles-only-parquet/part-r-00451-ff5bbd4d-6518-4e17-8ff5-c8fd3d4a5b86.gz.parquet</td><td>part-r-00451-ff5bbd4d-6518-4e17-8ff5-c8fd3d4a5b86.gz.parquet</td><td>14878988</td></tr><tr><td>dbfs:/databricks-datasets/wikipedia-datasets/data-001/en_wikipedia/articles-only-parquet/part-r-00452-ff5bbd4d-6518-4e17-8ff5-c8fd3d4a5b86.gz.parquet</td><td>part-r-00452-ff5bbd4d-6518-4e17-8ff5-c8fd3d4a5b86.gz.parquet</td><td>15969593</td></tr><tr><td>dbfs:/databricks-datasets/wikipedia-datasets/data-001/en_wikipedia/articles-only-parquet/part-r-00453-ff5bbd4d-6518-4e17-8ff5-c8fd3d4a5b86.gz.parquet</td><td>part-r-00453-ff5bbd4d-6518-4e17-8ff5-c8fd3d4a5b86.gz.parquet</td><td>17211960</td></tr><tr><td>dbfs:/databricks-datasets/wikipedia-datasets/data-001/en_wikipedia/articles-only-parquet/part-r-00454-ff5bbd4d-6518-4e17-8ff5-c8fd3d4a5b86.gz.parquet</td><td>part-r-00454-ff5bbd4d-6518-4e17-8ff5-c8fd3d4a5b86.gz.parquet</td><td>15715883</td></tr><tr><td>dbfs:/databricks-datasets/wikipedia-datasets/data-001/en_wikipedia/articles-only-parquet/part-r-00455-ff5bbd4d-6518-4e17-8ff5-c8fd3d4a5b86.gz.parquet</td><td>part-r-00455-ff5bbd4d-6518-4e17-8ff5-c8fd3d4a5b86.gz.parquet</td><td>16147930</td></tr><tr><td>dbfs:/databricks-datasets/wikipedia-datasets/data-001/en_wikipedia/articles-only-parquet/part-r-00456-ff5bbd4d-6518-4e17-8ff5-c8fd3d4a5b86.gz.parquet</td><td>part-r-00456-ff5bbd4d-6518-4e17-8ff5-c8fd3d4a5b86.gz.parquet</td><td>6281768</td></tr><tr><td>dbfs:/databricks-datasets/wikipedia-datasets/data-001/en_wikipedia/articles-only-parquet/part-r-00457-ff5bbd4d-6518-4e17-8ff5-c8fd3d4a5b86.gz.parquet</td><td>part-r-00457-ff5bbd4d-6518-4e17-8ff5-c8fd3d4a5b86.gz.parquet</td><td>10184889</td></tr><tr><td>dbfs:/databricks-datasets/wikipedia-datasets/data-001/en_wikipedia/articles-only-parquet/part-r-00458-ff5bbd4d-6518-4e17-8ff5-c8fd3d4a5b86.gz.parquet</td><td>part-r-00458-ff5bbd4d-6518-4e17-8ff5-c8fd3d4a5b86.gz.parquet</td><td>17819795</td></tr><tr><td>dbfs:/databricks-datasets/wikipedia-datasets/data-001/en_wikipedia/articles-only-parquet/part-r-00459-ff5bbd4d-6518-4e17-8ff5-c8fd3d4a5b86.gz.parquet</td><td>part-r-00459-ff5bbd4d-6518-4e17-8ff5-c8fd3d4a5b86.gz.parquet</td><td>8929361</td></tr><tr><td>dbfs:/databricks-datasets/wikipedia-datasets/data-001/en_wikipedia/articles-only-parquet/part-r-00460-ff5bbd4d-6518-4e17-8ff5-c8fd3d4a5b86.gz.parquet</td><td>part-r-00460-ff5bbd4d-6518-4e17-8ff5-c8fd3d4a5b86.gz.parquet</td><td>10093600</td></tr><tr><td>dbfs:/databricks-datasets/wikipedia-datasets/data-001/en_wikipedia/articles-only-parquet/part-r-00461-ff5bbd4d-6518-4e17-8ff5-c8fd3d4a5b86.gz.parquet</td><td>part-r-00461-ff5bbd4d-6518-4e17-8ff5-c8fd3d4a5b86.gz.parquet</td><td>808012</td></tr><tr><td>dbfs:/databricks-datasets/wikipedia-datasets/data-001/en_wikipedia/articles-only-parquet/part-r-00462-ff5bbd4d-6518-4e17-8ff5-c8fd3d4a5b86.gz.parquet</td><td>part-r-00462-ff5bbd4d-6518-4e17-8ff5-c8fd3d4a5b86.gz.parquet</td><td>9319149</td></tr><tr><td>dbfs:/databricks-datasets/wikipedia-datasets/data-001/en_wikipedia/articles-only-parquet/part-r-00463-ff5bbd4d-6518-4e17-8ff5-c8fd3d4a5b86.gz.parquet</td><td>part-r-00463-ff5bbd4d-6518-4e17-8ff5-c8fd3d4a5b86.gz.parquet</td><td>10116024</td></tr><tr><td>dbfs:/databricks-datasets/wikipedia-datasets/data-001/en_wikipedia/articles-only-parquet/part-r-00464-ff5bbd4d-6518-4e17-8ff5-c8fd3d4a5b86.gz.parquet</td><td>part-r-00464-ff5bbd4d-6518-4e17-8ff5-c8fd3d4a5b86.gz.parquet</td><td>13087880</td></tr><tr><td>dbfs:/databricks-datasets/wikipedia-datasets/data-001/en_wikipedia/articles-only-parquet/part-r-00465-ff5bbd4d-6518-4e17-8ff5-c8fd3d4a5b86.gz.parquet</td><td>part-r-00465-ff5bbd4d-6518-4e17-8ff5-c8fd3d4a5b86.gz.parquet</td><td>10230163</td></tr><tr><td>dbfs:/databricks-datasets/wikipedia-datasets/data-001/en_wikipedia/articles-only-parquet/part-r-00466-ff5bbd4d-6518-4e17-8ff5-c8fd3d4a5b86.gz.parquet</td><td>part-r-00466-ff5bbd4d-6518-4e17-8ff5-c8fd3d4a5b86.gz.parquet</td><td>12081847</td></tr><tr><td>dbfs:/databricks-datasets/wikipedia-datasets/data-001/en_wikipedia/articles-only-parquet/part-r-00467-ff5bbd4d-6518-4e17-8ff5-c8fd3d4a5b86.gz.parquet</td><td>part-r-00467-ff5bbd4d-6518-4e17-8ff5-c8fd3d4a5b86.gz.parquet</td><td>10189268</td></tr><tr><td>dbfs:/databricks-datasets/wikipedia-datasets/data-001/en_wikipedia/articles-only-parquet/part-r-00468-ff5bbd4d-6518-4e17-8ff5-c8fd3d4a5b86.gz.parquet</td><td>part-r-00468-ff5bbd4d-6518-4e17-8ff5-c8fd3d4a5b86.gz.parquet</td><td>5468811</td></tr><tr><td>dbfs:/databricks-datasets/wikipedia-datasets/data-001/en_wikipedia/articles-only-parquet/part-r-00469-ff5bbd4d-6518-4e17-8ff5-c8fd3d4a5b86.gz.parquet</td><td>part-r-00469-ff5bbd4d-6518-4e17-8ff5-c8fd3d4a5b86.gz.parquet</td><td>12302160</td></tr><tr><td>dbfs:/databricks-datasets/wikipedia-datasets/data-001/en_wikipedia/articles-only-parquet/part-r-00470-ff5bbd4d-6518-4e17-8ff5-c8fd3d4a5b86.gz.parquet</td><td>part-r-00470-ff5bbd4d-6518-4e17-8ff5-c8fd3d4a5b86.gz.parquet</td><td>9193259</td></tr><tr><td>dbfs:/databricks-datasets/wikipedia-datasets/data-001/en_wikipedia/articles-only-parquet/part-r-00471-ff5bbd4d-6518-4e17-8ff5-c8fd3d4a5b86.gz.parquet</td><td>part-r-00471-ff5bbd4d-6518-4e17-8ff5-c8fd3d4a5b86.gz.parquet</td><td>10979174</td></tr><tr><td>dbfs:/databricks-datasets/wikipedia-datasets/data-001/en_wikipedia/articles-only-parquet/part-r-00472-ff5bbd4d-6518-4e17-8ff5-c8fd3d4a5b86.gz.parquet</td><td>part-r-00472-ff5bbd4d-6518-4e17-8ff5-c8fd3d4a5b86.gz.parquet</td><td>8807421</td></tr><tr><td>dbfs:/databricks-datasets/wikipedia-datasets/data-001/en_wikipedia/articles-only-parquet/part-r-00473-ff5bbd4d-6518-4e17-8ff5-c8fd3d4a5b86.gz.parquet</td><td>part-r-00473-ff5bbd4d-6518-4e17-8ff5-c8fd3d4a5b86.gz.parquet</td><td>9536941</td></tr><tr><td>dbfs:/databricks-datasets/wikipedia-datasets/data-001/en_wikipedia/articles-only-parquet/part-r-00474-ff5bbd4d-6518-4e17-8ff5-c8fd3d4a5b86.gz.parquet</td><td>part-r-00474-ff5bbd4d-6518-4e17-8ff5-c8fd3d4a5b86.gz.parquet</td><td>11385132</td></tr><tr><td>dbfs:/databricks-datasets/wikipedia-datasets/data-001/en_wikipedia/articles-only-parquet/part-r-00475-ff5bbd4d-6518-4e17-8ff5-c8fd3d4a5b86.gz.parquet</td><td>part-r-00475-ff5bbd4d-6518-4e17-8ff5-c8fd3d4a5b86.gz.parquet</td><td>11105144</td></tr><tr><td>dbfs:/databricks-datasets/wikipedia-datasets/data-001/en_wikipedia/articles-only-parquet/part-r-00476-ff5bbd4d-6518-4e17-8ff5-c8fd3d4a5b86.gz.parquet</td><td>part-r-00476-ff5bbd4d-6518-4e17-8ff5-c8fd3d4a5b86.gz.parquet</td><td>8666359</td></tr><tr><td>dbfs:/databricks-datasets/wikipedia-datasets/data-001/en_wikipedia/articles-only-parquet/part-r-00477-ff5bbd4d-6518-4e17-8ff5-c8fd3d4a5b86.gz.parquet</td><td>part-r-00477-ff5bbd4d-6518-4e17-8ff5-c8fd3d4a5b86.gz.parquet</td><td>9191579</td></tr><tr><td>dbfs:/databricks-datasets/wikipedia-datasets/data-001/en_wikipedia/articles-only-parquet/part-r-00478-ff5bbd4d-6518-4e17-8ff5-c8fd3d4a5b86.gz.parquet</td><td>part-r-00478-ff5bbd4d-6518-4e17-8ff5-c8fd3d4a5b86.gz.parquet</td><td>10401315</td></tr><tr><td>dbfs:/databricks-datasets/wikipedia-datasets/data-001/en_wikipedia/articles-only-parquet/part-r-00479-ff5bbd4d-6518-4e17-8ff5-c8fd3d4a5b86.gz.parquet</td><td>part-r-00479-ff5bbd4d-6518-4e17-8ff5-c8fd3d4a5b86.gz.parquet</td><td>9059444</td></tr><tr><td>dbfs:/databricks-datasets/wikipedia-datasets/data-001/en_wikipedia/articles-only-parquet/part-r-00480-ff5bbd4d-6518-4e17-8ff5-c8fd3d4a5b86.gz.parquet</td><td>part-r-00480-ff5bbd4d-6518-4e17-8ff5-c8fd3d4a5b86.gz.parquet</td><td>8582215</td></tr><tr><td>dbfs:/databricks-datasets/wikipedia-datasets/data-001/en_wikipedia/articles-only-parquet/part-r-00481-ff5bbd4d-6518-4e17-8ff5-c8fd3d4a5b86.gz.parquet</td><td>part-r-00481-ff5bbd4d-6518-4e17-8ff5-c8fd3d4a5b86.gz.parquet</td><td>8467130</td></tr><tr><td>dbfs:/databricks-datasets/wikipedia-datasets/data-001/en_wikipedia/articles-only-parquet/part-r-00482-ff5bbd4d-6518-4e17-8ff5-c8fd3d4a5b86.gz.parquet</td><td>part-r-00482-ff5bbd4d-6518-4e17-8ff5-c8fd3d4a5b86.gz.parquet</td><td>8858830</td></tr><tr><td>dbfs:/databricks-datasets/wikipedia-datasets/data-001/en_wikipedia/articles-only-parquet/part-r-00483-ff5bbd4d-6518-4e17-8ff5-c8fd3d4a5b86.gz.parquet</td><td>part-r-00483-ff5bbd4d-6518-4e17-8ff5-c8fd3d4a5b86.gz.parquet</td><td>9587399</td></tr><tr><td>dbfs:/databricks-datasets/wikipedia-datasets/data-001/en_wikipedia/articles-only-parquet/part-r-00484-ff5bbd4d-6518-4e17-8ff5-c8fd3d4a5b86.gz.parquet</td><td>part-r-00484-ff5bbd4d-6518-4e17-8ff5-c8fd3d4a5b86.gz.parquet</td><td>9931784</td></tr><tr><td>dbfs:/databricks-datasets/wikipedia-datasets/data-001/en_wikipedia/articles-only-parquet/part-r-00485-ff5bbd4d-6518-4e17-8ff5-c8fd3d4a5b86.gz.parquet</td><td>part-r-00485-ff5bbd4d-6518-4e17-8ff5-c8fd3d4a5b86.gz.parquet</td><td>7695088</td></tr><tr><td>dbfs:/databricks-datasets/wikipedia-datasets/data-001/en_wikipedia/articles-only-parquet/part-r-00486-ff5bbd4d-6518-4e17-8ff5-c8fd3d4a5b86.gz.parquet</td><td>part-r-00486-ff5bbd4d-6518-4e17-8ff5-c8fd3d4a5b86.gz.parquet</td><td>8444006</td></tr><tr><td>dbfs:/databricks-datasets/wikipedia-datasets/data-001/en_wikipedia/articles-only-parquet/part-r-00487-ff5bbd4d-6518-4e17-8ff5-c8fd3d4a5b86.gz.parquet</td><td>part-r-00487-ff5bbd4d-6518-4e17-8ff5-c8fd3d4a5b86.gz.parquet</td><td>11477275</td></tr><tr><td>dbfs:/databricks-datasets/wikipedia-datasets/data-001/en_wikipedia/articles-only-parquet/part-r-00488-ff5bbd4d-6518-4e17-8ff5-c8fd3d4a5b86.gz.parquet</td><td>part-r-00488-ff5bbd4d-6518-4e17-8ff5-c8fd3d4a5b86.gz.parquet</td><td>9186221</td></tr><tr><td>dbfs:/databricks-datasets/wikipedia-datasets/data-001/en_wikipedia/articles-only-parquet/part-r-00489-ff5bbd4d-6518-4e17-8ff5-c8fd3d4a5b86.gz.parquet</td><td>part-r-00489-ff5bbd4d-6518-4e17-8ff5-c8fd3d4a5b86.gz.parquet</td><td>17006513</td></tr><tr><td>dbfs:/databricks-datasets/wikipedia-datasets/data-001/en_wikipedia/articles-only-parquet/part-r-00490-ff5bbd4d-6518-4e17-8ff5-c8fd3d4a5b86.gz.parquet</td><td>part-r-00490-ff5bbd4d-6518-4e17-8ff5-c8fd3d4a5b86.gz.parquet</td><td>12859221</td></tr><tr><td>dbfs:/databricks-datasets/wikipedia-datasets/data-001/en_wikipedia/articles-only-parquet/part-r-00491-ff5bbd4d-6518-4e17-8ff5-c8fd3d4a5b86.gz.parquet</td><td>part-r-00491-ff5bbd4d-6518-4e17-8ff5-c8fd3d4a5b86.gz.parquet</td><td>8675628</td></tr><tr><td>dbfs:/databricks-datasets/wikipedia-datasets/data-001/en_wikipedia/articles-only-parquet/part-r-00492-ff5bbd4d-6518-4e17-8ff5-c8fd3d4a5b86.gz.parquet</td><td>part-r-00492-ff5bbd4d-6518-4e17-8ff5-c8fd3d4a5b86.gz.parquet</td><td>10187801</td></tr><tr><td>dbfs:/databricks-datasets/wikipedia-datasets/data-001/en_wikipedia/articles-only-parquet/part-r-00493-ff5bbd4d-6518-4e17-8ff5-c8fd3d4a5b86.gz.parquet</td><td>part-r-00493-ff5bbd4d-6518-4e17-8ff5-c8fd3d4a5b86.gz.parquet</td><td>8283751</td></tr><tr><td>dbfs:/databricks-datasets/wikipedia-datasets/data-001/en_wikipedia/articles-only-parquet/part-r-00494-ff5bbd4d-6518-4e17-8ff5-c8fd3d4a5b86.gz.parquet</td><td>part-r-00494-ff5bbd4d-6518-4e17-8ff5-c8fd3d4a5b86.gz.parquet</td><td>9308178</td></tr><tr><td>dbfs:/databricks-datasets/wikipedia-datasets/data-001/en_wikipedia/articles-only-parquet/part-r-00495-ff5bbd4d-6518-4e17-8ff5-c8fd3d4a5b86.gz.parquet</td><td>part-r-00495-ff5bbd4d-6518-4e17-8ff5-c8fd3d4a5b86.gz.parquet</td><td>20719299</td></tr><tr><td>dbfs:/databricks-datasets/wikipedia-datasets/data-001/en_wikipedia/articles-only-parquet/part-r-00496-ff5bbd4d-6518-4e17-8ff5-c8fd3d4a5b86.gz.parquet</td><td>part-r-00496-ff5bbd4d-6518-4e17-8ff5-c8fd3d4a5b86.gz.parquet</td><td>9245035</td></tr><tr><td>dbfs:/databricks-datasets/wikipedia-datasets/data-001/en_wikipedia/articles-only-parquet/part-r-00497-ff5bbd4d-6518-4e17-8ff5-c8fd3d4a5b86.gz.parquet</td><td>part-r-00497-ff5bbd4d-6518-4e17-8ff5-c8fd3d4a5b86.gz.parquet</td><td>9715035</td></tr><tr><td>dbfs:/databricks-datasets/wikipedia-datasets/data-001/en_wikipedia/articles-only-parquet/part-r-00498-ff5bbd4d-6518-4e17-8ff5-c8fd3d4a5b86.gz.parquet</td><td>part-r-00498-ff5bbd4d-6518-4e17-8ff5-c8fd3d4a5b86.gz.parquet</td><td>17675640</td></tr><tr><td>dbfs:/databricks-datasets/wikipedia-datasets/data-001/en_wikipedia/articles-only-parquet/part-r-00499-ff5bbd4d-6518-4e17-8ff5-c8fd3d4a5b86.gz.parquet</td><td>part-r-00499-ff5bbd4d-6518-4e17-8ff5-c8fd3d4a5b86.gz.parquet</td><td>8955912</td></tr><tr><td>dbfs:/databricks-datasets/wikipedia-datasets/data-001/en_wikipedia/articles-only-parquet/part-r-00500-ff5bbd4d-6518-4e17-8ff5-c8fd3d4a5b86.gz.parquet</td><td>part-r-00500-ff5bbd4d-6518-4e17-8ff5-c8fd3d4a5b86.gz.parquet</td><td>17575533</td></tr><tr><td>dbfs:/databricks-datasets/wikipedia-datasets/data-001/en_wikipedia/articles-only-parquet/part-r-00501-ff5bbd4d-6518-4e17-8ff5-c8fd3d4a5b86.gz.parquet</td><td>part-r-00501-ff5bbd4d-6518-4e17-8ff5-c8fd3d4a5b86.gz.parquet</td><td>9218258</td></tr><tr><td>dbfs:/databricks-datasets/wikipedia-datasets/data-001/en_wikipedia/articles-only-parquet/part-r-00502-ff5bbd4d-6518-4e17-8ff5-c8fd3d4a5b86.gz.parquet</td><td>part-r-00502-ff5bbd4d-6518-4e17-8ff5-c8fd3d4a5b86.gz.parquet</td><td>8904809</td></tr><tr><td>dbfs:/databricks-datasets/wikipedia-datasets/data-001/en_wikipedia/articles-only-parquet/part-r-00503-ff5bbd4d-6518-4e17-8ff5-c8fd3d4a5b86.gz.parquet</td><td>part-r-00503-ff5bbd4d-6518-4e17-8ff5-c8fd3d4a5b86.gz.parquet</td><td>13886923</td></tr><tr><td>dbfs:/databricks-datasets/wikipedia-datasets/data-001/en_wikipedia/articles-only-parquet/part-r-00504-ff5bbd4d-6518-4e17-8ff5-c8fd3d4a5b86.gz.parquet</td><td>part-r-00504-ff5bbd4d-6518-4e17-8ff5-c8fd3d4a5b86.gz.parquet</td><td>9070059</td></tr><tr><td>dbfs:/databricks-datasets/wikipedia-datasets/data-001/en_wikipedia/articles-only-parquet/part-r-00505-ff5bbd4d-6518-4e17-8ff5-c8fd3d4a5b86.gz.parquet</td><td>part-r-00505-ff5bbd4d-6518-4e17-8ff5-c8fd3d4a5b86.gz.parquet</td><td>16453474</td></tr><tr><td>dbfs:/databricks-datasets/wikipedia-datasets/data-001/en_wikipedia/articles-only-parquet/part-r-00506-ff5bbd4d-6518-4e17-8ff5-c8fd3d4a5b86.gz.parquet</td><td>part-r-00506-ff5bbd4d-6518-4e17-8ff5-c8fd3d4a5b86.gz.parquet</td><td>9966121</td></tr><tr><td>dbfs:/databricks-datasets/wikipedia-datasets/data-001/en_wikipedia/articles-only-parquet/part-r-00507-ff5bbd4d-6518-4e17-8ff5-c8fd3d4a5b86.gz.parquet</td><td>part-r-00507-ff5bbd4d-6518-4e17-8ff5-c8fd3d4a5b86.gz.parquet</td><td>6012230</td></tr><tr><td>dbfs:/databricks-datasets/wikipedia-datasets/data-001/en_wikipedia/articles-only-parquet/part-r-00508-ff5bbd4d-6518-4e17-8ff5-c8fd3d4a5b86.gz.parquet</td><td>part-r-00508-ff5bbd4d-6518-4e17-8ff5-c8fd3d4a5b86.gz.parquet</td><td>8971525</td></tr><tr><td>dbfs:/databricks-datasets/wikipedia-datasets/data-001/en_wikipedia/articles-only-parquet/part-r-00509-ff5bbd4d-6518-4e17-8ff5-c8fd3d4a5b86.gz.parquet</td><td>part-r-00509-ff5bbd4d-6518-4e17-8ff5-c8fd3d4a5b86.gz.parquet</td><td>16136399</td></tr><tr><td>dbfs:/databricks-datasets/wikipedia-datasets/data-001/en_wikipedia/articles-only-parquet/part-r-00510-ff5bbd4d-6518-4e17-8ff5-c8fd3d4a5b86.gz.parquet</td><td>part-r-00510-ff5bbd4d-6518-4e17-8ff5-c8fd3d4a5b86.gz.parquet</td><td>8709304</td></tr><tr><td>dbfs:/databricks-datasets/wikipedia-datasets/data-001/en_wikipedia/articles-only-parquet/part-r-00511-ff5bbd4d-6518-4e17-8ff5-c8fd3d4a5b86.gz.parquet</td><td>part-r-00511-ff5bbd4d-6518-4e17-8ff5-c8fd3d4a5b86.gz.parquet</td><td>7204134</td></tr><tr><td>dbfs:/databricks-datasets/wikipedia-datasets/data-001/en_wikipedia/articles-only-parquet/part-r-00512-ff5bbd4d-6518-4e17-8ff5-c8fd3d4a5b86.gz.parquet</td><td>part-r-00512-ff5bbd4d-6518-4e17-8ff5-c8fd3d4a5b86.gz.parquet</td><td>15038631</td></tr><tr><td>dbfs:/databricks-datasets/wikipedia-datasets/data-001/en_wikipedia/articles-only-parquet/part-r-00513-ff5bbd4d-6518-4e17-8ff5-c8fd3d4a5b86.gz.parquet</td><td>part-r-00513-ff5bbd4d-6518-4e17-8ff5-c8fd3d4a5b86.gz.parquet</td><td>6303205</td></tr><tr><td>dbfs:/databricks-datasets/wikipedia-datasets/data-001/en_wikipedia/articles-only-parquet/part-r-00514-ff5bbd4d-6518-4e17-8ff5-c8fd3d4a5b86.gz.parquet</td><td>part-r-00514-ff5bbd4d-6518-4e17-8ff5-c8fd3d4a5b86.gz.parquet</td><td>9629803</td></tr><tr><td>dbfs:/databricks-datasets/wikipedia-datasets/data-001/en_wikipedia/articles-only-parquet/part-r-00515-ff5bbd4d-6518-4e17-8ff5-c8fd3d4a5b86.gz.parquet</td><td>part-r-00515-ff5bbd4d-6518-4e17-8ff5-c8fd3d4a5b86.gz.parquet</td><td>9734232</td></tr><tr><td>dbfs:/databricks-datasets/wikipedia-datasets/data-001/en_wikipedia/articles-only-parquet/part-r-00516-ff5bbd4d-6518-4e17-8ff5-c8fd3d4a5b86.gz.parquet</td><td>part-r-00516-ff5bbd4d-6518-4e17-8ff5-c8fd3d4a5b86.gz.parquet</td><td>8812392</td></tr><tr><td>dbfs:/databricks-datasets/wikipedia-datasets/data-001/en_wikipedia/articles-only-parquet/part-r-00517-ff5bbd4d-6518-4e17-8ff5-c8fd3d4a5b86.gz.parquet</td><td>part-r-00517-ff5bbd4d-6518-4e17-8ff5-c8fd3d4a5b86.gz.parquet</td><td>9594843</td></tr><tr><td>dbfs:/databricks-datasets/wikipedia-datasets/data-001/en_wikipedia/articles-only-parquet/part-r-00518-ff5bbd4d-6518-4e17-8ff5-c8fd3d4a5b86.gz.parquet</td><td>part-r-00518-ff5bbd4d-6518-4e17-8ff5-c8fd3d4a5b86.gz.parquet</td><td>9525912</td></tr><tr><td>dbfs:/databricks-datasets/wikipedia-datasets/data-001/en_wikipedia/articles-only-parquet/part-r-00519-ff5bbd4d-6518-4e17-8ff5-c8fd3d4a5b86.gz.parquet</td><td>part-r-00519-ff5bbd4d-6518-4e17-8ff5-c8fd3d4a5b86.gz.parquet</td><td>10111377</td></tr><tr><td>dbfs:/databricks-datasets/wikipedia-datasets/data-001/en_wikipedia/articles-only-parquet/part-r-00520-ff5bbd4d-6518-4e17-8ff5-c8fd3d4a5b86.gz.parquet</td><td>part-r-00520-ff5bbd4d-6518-4e17-8ff5-c8fd3d4a5b86.gz.parquet</td><td>8469775</td></tr><tr><td>dbfs:/databricks-datasets/wikipedia-datasets/data-001/en_wikipedia/articles-only-parquet/part-r-00521-ff5bbd4d-6518-4e17-8ff5-c8fd3d4a5b86.gz.parquet</td><td>part-r-00521-ff5bbd4d-6518-4e17-8ff5-c8fd3d4a5b86.gz.parquet</td><td>9703828</td></tr><tr><td>dbfs:/databricks-datasets/wikipedia-datasets/data-001/en_wikipedia/articles-only-parquet/part-r-00522-ff5bbd4d-6518-4e17-8ff5-c8fd3d4a5b86.gz.parquet</td><td>part-r-00522-ff5bbd4d-6518-4e17-8ff5-c8fd3d4a5b86.gz.parquet</td><td>9611187</td></tr><tr><td>dbfs:/databricks-datasets/wikipedia-datasets/data-001/en_wikipedia/articles-only-parquet/part-r-00523-ff5bbd4d-6518-4e17-8ff5-c8fd3d4a5b86.gz.parquet</td><td>part-r-00523-ff5bbd4d-6518-4e17-8ff5-c8fd3d4a5b86.gz.parquet</td><td>8826754</td></tr><tr><td>dbfs:/databricks-datasets/wikipedia-datasets/data-001/en_wikipedia/articles-only-parquet/part-r-00524-ff5bbd4d-6518-4e17-8ff5-c8fd3d4a5b86.gz.parquet</td><td>part-r-00524-ff5bbd4d-6518-4e17-8ff5-c8fd3d4a5b86.gz.parquet</td><td>7714628</td></tr><tr><td>dbfs:/databricks-datasets/wikipedia-datasets/data-001/en_wikipedia/articles-only-parquet/part-r-00525-ff5bbd4d-6518-4e17-8ff5-c8fd3d4a5b86.gz.parquet</td><td>part-r-00525-ff5bbd4d-6518-4e17-8ff5-c8fd3d4a5b86.gz.parquet</td><td>8841414</td></tr><tr><td>dbfs:/databricks-datasets/wikipedia-datasets/data-001/en_wikipedia/articles-only-parquet/part-r-00526-ff5bbd4d-6518-4e17-8ff5-c8fd3d4a5b86.gz.parquet</td><td>part-r-00526-ff5bbd4d-6518-4e17-8ff5-c8fd3d4a5b86.gz.parquet</td><td>8782078</td></tr><tr><td>dbfs:/databricks-datasets/wikipedia-datasets/data-001/en_wikipedia/articles-only-parquet/part-r-00527-ff5bbd4d-6518-4e17-8ff5-c8fd3d4a5b86.gz.parquet</td><td>part-r-00527-ff5bbd4d-6518-4e17-8ff5-c8fd3d4a5b86.gz.parquet</td><td>8560597</td></tr><tr><td>dbfs:/databricks-datasets/wikipedia-datasets/data-001/en_wikipedia/articles-only-parquet/part-r-00528-ff5bbd4d-6518-4e17-8ff5-c8fd3d4a5b86.gz.parquet</td><td>part-r-00528-ff5bbd4d-6518-4e17-8ff5-c8fd3d4a5b86.gz.parquet</td><td>13332256</td></tr><tr><td>dbfs:/databricks-datasets/wikipedia-datasets/data-001/en_wikipedia/articles-only-parquet/part-r-00529-ff5bbd4d-6518-4e17-8ff5-c8fd3d4a5b86.gz.parquet</td><td>part-r-00529-ff5bbd4d-6518-4e17-8ff5-c8fd3d4a5b86.gz.parquet</td><td>10290010</td></tr><tr><td>dbfs:/databricks-datasets/wikipedia-datasets/data-001/en_wikipedia/articles-only-parquet/part-r-00530-ff5bbd4d-6518-4e17-8ff5-c8fd3d4a5b86.gz.parquet</td><td>part-r-00530-ff5bbd4d-6518-4e17-8ff5-c8fd3d4a5b86.gz.parquet</td><td>15199524</td></tr><tr><td>dbfs:/databricks-datasets/wikipedia-datasets/data-001/en_wikipedia/articles-only-parquet/part-r-00531-ff5bbd4d-6518-4e17-8ff5-c8fd3d4a5b86.gz.parquet</td><td>part-r-00531-ff5bbd4d-6518-4e17-8ff5-c8fd3d4a5b86.gz.parquet</td><td>17661521</td></tr><tr><td>dbfs:/databricks-datasets/wikipedia-datasets/data-001/en_wikipedia/articles-only-parquet/part-r-00532-ff5bbd4d-6518-4e17-8ff5-c8fd3d4a5b86.gz.parquet</td><td>part-r-00532-ff5bbd4d-6518-4e17-8ff5-c8fd3d4a5b86.gz.parquet</td><td>9298473</td></tr><tr><td>dbfs:/databricks-datasets/wikipedia-datasets/data-001/en_wikipedia/articles-only-parquet/part-r-00533-ff5bbd4d-6518-4e17-8ff5-c8fd3d4a5b86.gz.parquet</td><td>part-r-00533-ff5bbd4d-6518-4e17-8ff5-c8fd3d4a5b86.gz.parquet</td><td>17909137</td></tr><tr><td>dbfs:/databricks-datasets/wikipedia-datasets/data-001/en_wikipedia/articles-only-parquet/part-r-00534-ff5bbd4d-6518-4e17-8ff5-c8fd3d4a5b86.gz.parquet</td><td>part-r-00534-ff5bbd4d-6518-4e17-8ff5-c8fd3d4a5b86.gz.parquet</td><td>10014043</td></tr><tr><td>dbfs:/databricks-datasets/wikipedia-datasets/data-001/en_wikipedia/articles-only-parquet/part-r-00535-ff5bbd4d-6518-4e17-8ff5-c8fd3d4a5b86.gz.parquet</td><td>part-r-00535-ff5bbd4d-6518-4e17-8ff5-c8fd3d4a5b86.gz.parquet</td><td>16282347</td></tr><tr><td>dbfs:/databricks-datasets/wikipedia-datasets/data-001/en_wikipedia/articles-only-parquet/part-r-00536-ff5bbd4d-6518-4e17-8ff5-c8fd3d4a5b86.gz.parquet</td><td>part-r-00536-ff5bbd4d-6518-4e17-8ff5-c8fd3d4a5b86.gz.parquet</td><td>8680827</td></tr><tr><td>dbfs:/databricks-datasets/wikipedia-datasets/data-001/en_wikipedia/articles-only-parquet/part-r-00537-ff5bbd4d-6518-4e17-8ff5-c8fd3d4a5b86.gz.parquet</td><td>part-r-00537-ff5bbd4d-6518-4e17-8ff5-c8fd3d4a5b86.gz.parquet</td><td>9636468</td></tr><tr><td>dbfs:/databricks-datasets/wikipedia-datasets/data-001/en_wikipedia/articles-only-parquet/part-r-00538-ff5bbd4d-6518-4e17-8ff5-c8fd3d4a5b86.gz.parquet</td><td>part-r-00538-ff5bbd4d-6518-4e17-8ff5-c8fd3d4a5b86.gz.parquet</td><td>8774418</td></tr><tr><td>dbfs:/databricks-datasets/wikipedia-datasets/data-001/en_wikipedia/articles-only-parquet/part-r-00539-ff5bbd4d-6518-4e17-8ff5-c8fd3d4a5b86.gz.parquet</td><td>part-r-00539-ff5bbd4d-6518-4e17-8ff5-c8fd3d4a5b86.gz.parquet</td><td>9891151</td></tr><tr><td>dbfs:/databricks-datasets/wikipedia-datasets/data-001/en_wikipedia/articles-only-parquet/part-r-00540-ff5bbd4d-6518-4e17-8ff5-c8fd3d4a5b86.gz.parquet</td><td>part-r-00540-ff5bbd4d-6518-4e17-8ff5-c8fd3d4a5b86.gz.parquet</td><td>8816597</td></tr><tr><td>dbfs:/databricks-datasets/wikipedia-datasets/data-001/en_wikipedia/articles-only-parquet/part-r-00541-ff5bbd4d-6518-4e17-8ff5-c8fd3d4a5b86.gz.parquet</td><td>part-r-00541-ff5bbd4d-6518-4e17-8ff5-c8fd3d4a5b86.gz.parquet</td><td>8812321</td></tr><tr><td>dbfs:/databricks-datasets/wikipedia-datasets/data-001/en_wikipedia/articles-only-parquet/part-r-00542-ff5bbd4d-6518-4e17-8ff5-c8fd3d4a5b86.gz.parquet</td><td>part-r-00542-ff5bbd4d-6518-4e17-8ff5-c8fd3d4a5b86.gz.parquet</td><td>12875599</td></tr><tr><td>dbfs:/databricks-datasets/wikipedia-datasets/data-001/en_wikipedia/articles-only-parquet/part-r-00543-ff5bbd4d-6518-4e17-8ff5-c8fd3d4a5b86.gz.parquet</td><td>part-r-00543-ff5bbd4d-6518-4e17-8ff5-c8fd3d4a5b86.gz.parquet</td><td>10137817</td></tr><tr><td>dbfs:/databricks-datasets/wikipedia-datasets/data-001/en_wikipedia/articles-only-parquet/part-r-00544-ff5bbd4d-6518-4e17-8ff5-c8fd3d4a5b86.gz.parquet</td><td>part-r-00544-ff5bbd4d-6518-4e17-8ff5-c8fd3d4a5b86.gz.parquet</td><td>5851185</td></tr><tr><td>dbfs:/databricks-datasets/wikipedia-datasets/data-001/en_wikipedia/articles-only-parquet/part-r-00545-ff5bbd4d-6518-4e17-8ff5-c8fd3d4a5b86.gz.parquet</td><td>part-r-00545-ff5bbd4d-6518-4e17-8ff5-c8fd3d4a5b86.gz.parquet</td><td>16609477</td></tr><tr><td>dbfs:/databricks-datasets/wikipedia-datasets/data-001/en_wikipedia/articles-only-parquet/part-r-00546-ff5bbd4d-6518-4e17-8ff5-c8fd3d4a5b86.gz.parquet</td><td>part-r-00546-ff5bbd4d-6518-4e17-8ff5-c8fd3d4a5b86.gz.parquet</td><td>8596613</td></tr><tr><td>dbfs:/databricks-datasets/wikipedia-datasets/data-001/en_wikipedia/articles-only-parquet/part-r-00547-ff5bbd4d-6518-4e17-8ff5-c8fd3d4a5b86.gz.parquet</td><td>part-r-00547-ff5bbd4d-6518-4e17-8ff5-c8fd3d4a5b86.gz.parquet</td><td>10123038</td></tr><tr><td>dbfs:/databricks-datasets/wikipedia-datasets/data-001/en_wikipedia/articles-only-parquet/part-r-00548-ff5bbd4d-6518-4e17-8ff5-c8fd3d4a5b86.gz.parquet</td><td>part-r-00548-ff5bbd4d-6518-4e17-8ff5-c8fd3d4a5b86.gz.parquet</td><td>8910501</td></tr><tr><td>dbfs:/databricks-datasets/wikipedia-datasets/data-001/en_wikipedia/articles-only-parquet/part-r-00549-ff5bbd4d-6518-4e17-8ff5-c8fd3d4a5b86.gz.parquet</td><td>part-r-00549-ff5bbd4d-6518-4e17-8ff5-c8fd3d4a5b86.gz.parquet</td><td>8888669</td></tr><tr><td>dbfs:/databricks-datasets/wikipedia-datasets/data-001/en_wikipedia/articles-only-parquet/part-r-00550-ff5bbd4d-6518-4e17-8ff5-c8fd3d4a5b86.gz.parquet</td><td>part-r-00550-ff5bbd4d-6518-4e17-8ff5-c8fd3d4a5b86.gz.parquet</td><td>12166077</td></tr><tr><td>dbfs:/databricks-datasets/wikipedia-datasets/data-001/en_wikipedia/articles-only-parquet/part-r-00551-ff5bbd4d-6518-4e17-8ff5-c8fd3d4a5b86.gz.parquet</td><td>part-r-00551-ff5bbd4d-6518-4e17-8ff5-c8fd3d4a5b86.gz.parquet</td><td>9731867</td></tr><tr><td>dbfs:/databricks-datasets/wikipedia-datasets/data-001/en_wikipedia/articles-only-parquet/part-r-00552-ff5bbd4d-6518-4e17-8ff5-c8fd3d4a5b86.gz.parquet</td><td>part-r-00552-ff5bbd4d-6518-4e17-8ff5-c8fd3d4a5b86.gz.parquet</td><td>3015870</td></tr><tr><td>dbfs:/databricks-datasets/wikipedia-datasets/data-001/en_wikipedia/articles-only-parquet/part-r-00553-ff5bbd4d-6518-4e17-8ff5-c8fd3d4a5b86.gz.parquet</td><td>part-r-00553-ff5bbd4d-6518-4e17-8ff5-c8fd3d4a5b86.gz.parquet</td><td>16275760</td></tr><tr><td>dbfs:/databricks-datasets/wikipedia-datasets/data-001/en_wikipedia/articles-only-parquet/part-r-00554-ff5bbd4d-6518-4e17-8ff5-c8fd3d4a5b86.gz.parquet</td><td>part-r-00554-ff5bbd4d-6518-4e17-8ff5-c8fd3d4a5b86.gz.parquet</td><td>11993007</td></tr><tr><td>dbfs:/databricks-datasets/wikipedia-datasets/data-001/en_wikipedia/articles-only-parquet/part-r-00555-ff5bbd4d-6518-4e17-8ff5-c8fd3d4a5b86.gz.parquet</td><td>part-r-00555-ff5bbd4d-6518-4e17-8ff5-c8fd3d4a5b86.gz.parquet</td><td>9573421</td></tr><tr><td>dbfs:/databricks-datasets/wikipedia-datasets/data-001/en_wikipedia/articles-only-parquet/part-r-00556-ff5bbd4d-6518-4e17-8ff5-c8fd3d4a5b86.gz.parquet</td><td>part-r-00556-ff5bbd4d-6518-4e17-8ff5-c8fd3d4a5b86.gz.parquet</td><td>12845669</td></tr><tr><td>dbfs:/databricks-datasets/wikipedia-datasets/data-001/en_wikipedia/articles-only-parquet/part-r-00557-ff5bbd4d-6518-4e17-8ff5-c8fd3d4a5b86.gz.parquet</td><td>part-r-00557-ff5bbd4d-6518-4e17-8ff5-c8fd3d4a5b86.gz.parquet</td><td>16896846</td></tr><tr><td>dbfs:/databricks-datasets/wikipedia-datasets/data-001/en_wikipedia/articles-only-parquet/part-r-00558-ff5bbd4d-6518-4e17-8ff5-c8fd3d4a5b86.gz.parquet</td><td>part-r-00558-ff5bbd4d-6518-4e17-8ff5-c8fd3d4a5b86.gz.parquet</td><td>8262571</td></tr><tr><td>dbfs:/databricks-datasets/wikipedia-datasets/data-001/en_wikipedia/articles-only-parquet/part-r-00559-ff5bbd4d-6518-4e17-8ff5-c8fd3d4a5b86.gz.parquet</td><td>part-r-00559-ff5bbd4d-6518-4e17-8ff5-c8fd3d4a5b86.gz.parquet</td><td>11803577</td></tr><tr><td>dbfs:/databricks-datasets/wikipedia-datasets/data-001/en_wikipedia/articles-only-parquet/part-r-00560-ff5bbd4d-6518-4e17-8ff5-c8fd3d4a5b86.gz.parquet</td><td>part-r-00560-ff5bbd4d-6518-4e17-8ff5-c8fd3d4a5b86.gz.parquet</td><td>8313902</td></tr><tr><td>dbfs:/databricks-datasets/wikipedia-datasets/data-001/en_wikipedia/articles-only-parquet/part-r-00561-ff5bbd4d-6518-4e17-8ff5-c8fd3d4a5b86.gz.parquet</td><td>part-r-00561-ff5bbd4d-6518-4e17-8ff5-c8fd3d4a5b86.gz.parquet</td><td>18583347</td></tr><tr><td>dbfs:/databricks-datasets/wikipedia-datasets/data-001/en_wikipedia/articles-only-parquet/part-r-00562-ff5bbd4d-6518-4e17-8ff5-c8fd3d4a5b86.gz.parquet</td><td>part-r-00562-ff5bbd4d-6518-4e17-8ff5-c8fd3d4a5b86.gz.parquet</td><td>9363042</td></tr><tr><td>dbfs:/databricks-datasets/wikipedia-datasets/data-001/en_wikipedia/articles-only-parquet/part-r-00563-ff5bbd4d-6518-4e17-8ff5-c8fd3d4a5b86.gz.parquet</td><td>part-r-00563-ff5bbd4d-6518-4e17-8ff5-c8fd3d4a5b86.gz.parquet</td><td>14425127</td></tr><tr><td>dbfs:/databricks-datasets/wikipedia-datasets/data-001/en_wikipedia/articles-only-parquet/part-r-00564-ff5bbd4d-6518-4e17-8ff5-c8fd3d4a5b86.gz.parquet</td><td>part-r-00564-ff5bbd4d-6518-4e17-8ff5-c8fd3d4a5b86.gz.parquet</td><td>8376444</td></tr><tr><td>dbfs:/databricks-datasets/wikipedia-datasets/data-001/en_wikipedia/articles-only-parquet/part-r-00565-ff5bbd4d-6518-4e17-8ff5-c8fd3d4a5b86.gz.parquet</td><td>part-r-00565-ff5bbd4d-6518-4e17-8ff5-c8fd3d4a5b86.gz.parquet</td><td>8870386</td></tr><tr><td>dbfs:/databricks-datasets/wikipedia-datasets/data-001/en_wikipedia/articles-only-parquet/part-r-00566-ff5bbd4d-6518-4e17-8ff5-c8fd3d4a5b86.gz.parquet</td><td>part-r-00566-ff5bbd4d-6518-4e17-8ff5-c8fd3d4a5b86.gz.parquet</td><td>14910661</td></tr><tr><td>dbfs:/databricks-datasets/wikipedia-datasets/data-001/en_wikipedia/articles-only-parquet/part-r-00567-ff5bbd4d-6518-4e17-8ff5-c8fd3d4a5b86.gz.parquet</td><td>part-r-00567-ff5bbd4d-6518-4e17-8ff5-c8fd3d4a5b86.gz.parquet</td><td>9021833</td></tr><tr><td>dbfs:/databricks-datasets/wikipedia-datasets/data-001/en_wikipedia/articles-only-parquet/part-r-00568-ff5bbd4d-6518-4e17-8ff5-c8fd3d4a5b86.gz.parquet</td><td>part-r-00568-ff5bbd4d-6518-4e17-8ff5-c8fd3d4a5b86.gz.parquet</td><td>12734995</td></tr><tr><td>dbfs:/databricks-datasets/wikipedia-datasets/data-001/en_wikipedia/articles-only-parquet/part-r-00569-ff5bbd4d-6518-4e17-8ff5-c8fd3d4a5b86.gz.parquet</td><td>part-r-00569-ff5bbd4d-6518-4e17-8ff5-c8fd3d4a5b86.gz.parquet</td><td>6928851</td></tr><tr><td>dbfs:/databricks-datasets/wikipedia-datasets/data-001/en_wikipedia/articles-only-parquet/part-r-00570-ff5bbd4d-6518-4e17-8ff5-c8fd3d4a5b86.gz.parquet</td><td>part-r-00570-ff5bbd4d-6518-4e17-8ff5-c8fd3d4a5b86.gz.parquet</td><td>8029855</td></tr><tr><td>dbfs:/databricks-datasets/wikipedia-datasets/data-001/en_wikipedia/articles-only-parquet/part-r-00571-ff5bbd4d-6518-4e17-8ff5-c8fd3d4a5b86.gz.parquet</td><td>part-r-00571-ff5bbd4d-6518-4e17-8ff5-c8fd3d4a5b86.gz.parquet</td><td>8682126</td></tr><tr><td>dbfs:/databricks-datasets/wikipedia-datasets/data-001/en_wikipedia/articles-only-parquet/part-r-00572-ff5bbd4d-6518-4e17-8ff5-c8fd3d4a5b86.gz.parquet</td><td>part-r-00572-ff5bbd4d-6518-4e17-8ff5-c8fd3d4a5b86.gz.parquet</td><td>10066005</td></tr><tr><td>dbfs:/databricks-datasets/wikipedia-datasets/data-001/en_wikipedia/articles-only-parquet/part-r-00573-ff5bbd4d-6518-4e17-8ff5-c8fd3d4a5b86.gz.parquet</td><td>part-r-00573-ff5bbd4d-6518-4e17-8ff5-c8fd3d4a5b86.gz.parquet</td><td>9172695</td></tr><tr><td>dbfs:/databricks-datasets/wikipedia-datasets/data-001/en_wikipedia/articles-only-parquet/part-r-00574-ff5bbd4d-6518-4e17-8ff5-c8fd3d4a5b86.gz.parquet</td><td>part-r-00574-ff5bbd4d-6518-4e17-8ff5-c8fd3d4a5b86.gz.parquet</td><td>7969168</td></tr><tr><td>dbfs:/databricks-datasets/wikipedia-datasets/data-001/en_wikipedia/articles-only-parquet/part-r-00575-ff5bbd4d-6518-4e17-8ff5-c8fd3d4a5b86.gz.parquet</td><td>part-r-00575-ff5bbd4d-6518-4e17-8ff5-c8fd3d4a5b86.gz.parquet</td><td>5996827</td></tr><tr><td>dbfs:/databricks-datasets/wikipedia-datasets/data-001/en_wikipedia/articles-only-parquet/part-r-00576-ff5bbd4d-6518-4e17-8ff5-c8fd3d4a5b86.gz.parquet</td><td>part-r-00576-ff5bbd4d-6518-4e17-8ff5-c8fd3d4a5b86.gz.parquet</td><td>15095528</td></tr><tr><td>dbfs:/databricks-datasets/wikipedia-datasets/data-001/en_wikipedia/articles-only-parquet/part-r-00577-ff5bbd4d-6518-4e17-8ff5-c8fd3d4a5b86.gz.parquet</td><td>part-r-00577-ff5bbd4d-6518-4e17-8ff5-c8fd3d4a5b86.gz.parquet</td><td>9005265</td></tr><tr><td>dbfs:/databricks-datasets/wikipedia-datasets/data-001/en_wikipedia/articles-only-parquet/part-r-00578-ff5bbd4d-6518-4e17-8ff5-c8fd3d4a5b86.gz.parquet</td><td>part-r-00578-ff5bbd4d-6518-4e17-8ff5-c8fd3d4a5b86.gz.parquet</td><td>12195102</td></tr><tr><td>dbfs:/databricks-datasets/wikipedia-datasets/data-001/en_wikipedia/articles-only-parquet/part-r-00579-ff5bbd4d-6518-4e17-8ff5-c8fd3d4a5b86.gz.parquet</td><td>part-r-00579-ff5bbd4d-6518-4e17-8ff5-c8fd3d4a5b86.gz.parquet</td><td>10297598</td></tr><tr><td>dbfs:/databricks-datasets/wikipedia-datasets/data-001/en_wikipedia/articles-only-parquet/part-r-00580-ff5bbd4d-6518-4e17-8ff5-c8fd3d4a5b86.gz.parquet</td><td>part-r-00580-ff5bbd4d-6518-4e17-8ff5-c8fd3d4a5b86.gz.parquet</td><td>11024480</td></tr><tr><td>dbfs:/databricks-datasets/wikipedia-datasets/data-001/en_wikipedia/articles-only-parquet/part-r-00581-ff5bbd4d-6518-4e17-8ff5-c8fd3d4a5b86.gz.parquet</td><td>part-r-00581-ff5bbd4d-6518-4e17-8ff5-c8fd3d4a5b86.gz.parquet</td><td>14371112</td></tr><tr><td>dbfs:/databricks-datasets/wikipedia-datasets/data-001/en_wikipedia/articles-only-parquet/part-r-00582-ff5bbd4d-6518-4e17-8ff5-c8fd3d4a5b86.gz.parquet</td><td>part-r-00582-ff5bbd4d-6518-4e17-8ff5-c8fd3d4a5b86.gz.parquet</td><td>9321209</td></tr><tr><td>dbfs:/databricks-datasets/wikipedia-datasets/data-001/en_wikipedia/articles-only-parquet/part-r-00583-ff5bbd4d-6518-4e17-8ff5-c8fd3d4a5b86.gz.parquet</td><td>part-r-00583-ff5bbd4d-6518-4e17-8ff5-c8fd3d4a5b86.gz.parquet</td><td>12140097</td></tr><tr><td>dbfs:/databricks-datasets/wikipedia-datasets/data-001/en_wikipedia/articles-only-parquet/part-r-00584-ff5bbd4d-6518-4e17-8ff5-c8fd3d4a5b86.gz.parquet</td><td>part-r-00584-ff5bbd4d-6518-4e17-8ff5-c8fd3d4a5b86.gz.parquet</td><td>8820778</td></tr><tr><td>dbfs:/databricks-datasets/wikipedia-datasets/data-001/en_wikipedia/articles-only-parquet/part-r-00585-ff5bbd4d-6518-4e17-8ff5-c8fd3d4a5b86.gz.parquet</td><td>part-r-00585-ff5bbd4d-6518-4e17-8ff5-c8fd3d4a5b86.gz.parquet</td><td>9456882</td></tr><tr><td>dbfs:/databricks-datasets/wikipedia-datasets/data-001/en_wikipedia/articles-only-parquet/part-r-00586-ff5bbd4d-6518-4e17-8ff5-c8fd3d4a5b86.gz.parquet</td><td>part-r-00586-ff5bbd4d-6518-4e17-8ff5-c8fd3d4a5b86.gz.parquet</td><td>17887308</td></tr><tr><td>dbfs:/databricks-datasets/wikipedia-datasets/data-001/en_wikipedia/articles-only-parquet/part-r-00587-ff5bbd4d-6518-4e17-8ff5-c8fd3d4a5b86.gz.parquet</td><td>part-r-00587-ff5bbd4d-6518-4e17-8ff5-c8fd3d4a5b86.gz.parquet</td><td>8059348</td></tr><tr><td>dbfs:/databricks-datasets/wikipedia-datasets/data-001/en_wikipedia/articles-only-parquet/part-r-00588-ff5bbd4d-6518-4e17-8ff5-c8fd3d4a5b86.gz.parquet</td><td>part-r-00588-ff5bbd4d-6518-4e17-8ff5-c8fd3d4a5b86.gz.parquet</td><td>8561217</td></tr><tr><td>dbfs:/databricks-datasets/wikipedia-datasets/data-001/en_wikipedia/articles-only-parquet/part-r-00589-ff5bbd4d-6518-4e17-8ff5-c8fd3d4a5b86.gz.parquet</td><td>part-r-00589-ff5bbd4d-6518-4e17-8ff5-c8fd3d4a5b86.gz.parquet</td><td>9308137</td></tr><tr><td>dbfs:/databricks-datasets/wikipedia-datasets/data-001/en_wikipedia/articles-only-parquet/part-r-00590-ff5bbd4d-6518-4e17-8ff5-c8fd3d4a5b86.gz.parquet</td><td>part-r-00590-ff5bbd4d-6518-4e17-8ff5-c8fd3d4a5b86.gz.parquet</td><td>9459964</td></tr><tr><td>dbfs:/databricks-datasets/wikipedia-datasets/data-001/en_wikipedia/articles-only-parquet/part-r-00591-ff5bbd4d-6518-4e17-8ff5-c8fd3d4a5b86.gz.parquet</td><td>part-r-00591-ff5bbd4d-6518-4e17-8ff5-c8fd3d4a5b86.gz.parquet</td><td>11800110</td></tr><tr><td>dbfs:/databricks-datasets/wikipedia-datasets/data-001/en_wikipedia/articles-only-parquet/part-r-00592-ff5bbd4d-6518-4e17-8ff5-c8fd3d4a5b86.gz.parquet</td><td>part-r-00592-ff5bbd4d-6518-4e17-8ff5-c8fd3d4a5b86.gz.parquet</td><td>8814099</td></tr><tr><td>dbfs:/databricks-datasets/wikipedia-datasets/data-001/en_wikipedia/articles-only-parquet/part-r-00593-ff5bbd4d-6518-4e17-8ff5-c8fd3d4a5b86.gz.parquet</td><td>part-r-00593-ff5bbd4d-6518-4e17-8ff5-c8fd3d4a5b86.gz.parquet</td><td>20443518</td></tr><tr><td>dbfs:/databricks-datasets/wikipedia-datasets/data-001/en_wikipedia/articles-only-parquet/part-r-00594-ff5bbd4d-6518-4e17-8ff5-c8fd3d4a5b86.gz.parquet</td><td>part-r-00594-ff5bbd4d-6518-4e17-8ff5-c8fd3d4a5b86.gz.parquet</td><td>9661187</td></tr><tr><td>dbfs:/databricks-datasets/wikipedia-datasets/data-001/en_wikipedia/articles-only-parquet/part-r-00595-ff5bbd4d-6518-4e17-8ff5-c8fd3d4a5b86.gz.parquet</td><td>part-r-00595-ff5bbd4d-6518-4e17-8ff5-c8fd3d4a5b86.gz.parquet</td><td>8579824</td></tr><tr><td>dbfs:/databricks-datasets/wikipedia-datasets/data-001/en_wikipedia/articles-only-parquet/part-r-00596-ff5bbd4d-6518-4e17-8ff5-c8fd3d4a5b86.gz.parquet</td><td>part-r-00596-ff5bbd4d-6518-4e17-8ff5-c8fd3d4a5b86.gz.parquet</td><td>9118402</td></tr><tr><td>dbfs:/databricks-datasets/wikipedia-datasets/data-001/en_wikipedia/articles-only-parquet/part-r-00597-ff5bbd4d-6518-4e17-8ff5-c8fd3d4a5b86.gz.parquet</td><td>part-r-00597-ff5bbd4d-6518-4e17-8ff5-c8fd3d4a5b86.gz.parquet</td><td>7065839</td></tr><tr><td>dbfs:/databricks-datasets/wikipedia-datasets/data-001/en_wikipedia/articles-only-parquet/part-r-00598-ff5bbd4d-6518-4e17-8ff5-c8fd3d4a5b86.gz.parquet</td><td>part-r-00598-ff5bbd4d-6518-4e17-8ff5-c8fd3d4a5b86.gz.parquet</td><td>14786749</td></tr><tr><td>dbfs:/databricks-datasets/wikipedia-datasets/data-001/en_wikipedia/articles-only-parquet/part-r-00599-ff5bbd4d-6518-4e17-8ff5-c8fd3d4a5b86.gz.parquet</td><td>part-r-00599-ff5bbd4d-6518-4e17-8ff5-c8fd3d4a5b86.gz.parquet</td><td>9299368</td></tr><tr><td>dbfs:/databricks-datasets/wikipedia-datasets/data-001/en_wikipedia/articles-only-parquet/part-r-00600-ff5bbd4d-6518-4e17-8ff5-c8fd3d4a5b86.gz.parquet</td><td>part-r-00600-ff5bbd4d-6518-4e17-8ff5-c8fd3d4a5b86.gz.parquet</td><td>9685138</td></tr><tr><td>dbfs:/databricks-datasets/wikipedia-datasets/data-001/en_wikipedia/articles-only-parquet/part-r-00601-ff5bbd4d-6518-4e17-8ff5-c8fd3d4a5b86.gz.parquet</td><td>part-r-00601-ff5bbd4d-6518-4e17-8ff5-c8fd3d4a5b86.gz.parquet</td><td>8865640</td></tr><tr><td>dbfs:/databricks-datasets/wikipedia-datasets/data-001/en_wikipedia/articles-only-parquet/part-r-00602-ff5bbd4d-6518-4e17-8ff5-c8fd3d4a5b86.gz.parquet</td><td>part-r-00602-ff5bbd4d-6518-4e17-8ff5-c8fd3d4a5b86.gz.parquet</td><td>10381925</td></tr><tr><td>dbfs:/databricks-datasets/wikipedia-datasets/data-001/en_wikipedia/articles-only-parquet/part-r-00603-ff5bbd4d-6518-4e17-8ff5-c8fd3d4a5b86.gz.parquet</td><td>part-r-00603-ff5bbd4d-6518-4e17-8ff5-c8fd3d4a5b86.gz.parquet</td><td>9946188</td></tr><tr><td>dbfs:/databricks-datasets/wikipedia-datasets/data-001/en_wikipedia/articles-only-parquet/part-r-00604-ff5bbd4d-6518-4e17-8ff5-c8fd3d4a5b86.gz.parquet</td><td>part-r-00604-ff5bbd4d-6518-4e17-8ff5-c8fd3d4a5b86.gz.parquet</td><td>9492988</td></tr><tr><td>dbfs:/databricks-datasets/wikipedia-datasets/data-001/en_wikipedia/articles-only-parquet/part-r-00605-ff5bbd4d-6518-4e17-8ff5-c8fd3d4a5b86.gz.parquet</td><td>part-r-00605-ff5bbd4d-6518-4e17-8ff5-c8fd3d4a5b86.gz.parquet</td><td>11177394</td></tr><tr><td>dbfs:/databricks-datasets/wikipedia-datasets/data-001/en_wikipedia/articles-only-parquet/part-r-00606-ff5bbd4d-6518-4e17-8ff5-c8fd3d4a5b86.gz.parquet</td><td>part-r-00606-ff5bbd4d-6518-4e17-8ff5-c8fd3d4a5b86.gz.parquet</td><td>11458283</td></tr><tr><td>dbfs:/databricks-datasets/wikipedia-datasets/data-001/en_wikipedia/articles-only-parquet/part-r-00607-ff5bbd4d-6518-4e17-8ff5-c8fd3d4a5b86.gz.parquet</td><td>part-r-00607-ff5bbd4d-6518-4e17-8ff5-c8fd3d4a5b86.gz.parquet</td><td>15745143</td></tr><tr><td>dbfs:/databricks-datasets/wikipedia-datasets/data-001/en_wikipedia/articles-only-parquet/part-r-00608-ff5bbd4d-6518-4e17-8ff5-c8fd3d4a5b86.gz.parquet</td><td>part-r-00608-ff5bbd4d-6518-4e17-8ff5-c8fd3d4a5b86.gz.parquet</td><td>10026194</td></tr><tr><td>dbfs:/databricks-datasets/wikipedia-datasets/data-001/en_wikipedia/articles-only-parquet/part-r-00609-ff5bbd4d-6518-4e17-8ff5-c8fd3d4a5b86.gz.parquet</td><td>part-r-00609-ff5bbd4d-6518-4e17-8ff5-c8fd3d4a5b86.gz.parquet</td><td>10366867</td></tr><tr><td>dbfs:/databricks-datasets/wikipedia-datasets/data-001/en_wikipedia/articles-only-parquet/part-r-00610-ff5bbd4d-6518-4e17-8ff5-c8fd3d4a5b86.gz.parquet</td><td>part-r-00610-ff5bbd4d-6518-4e17-8ff5-c8fd3d4a5b86.gz.parquet</td><td>9337068</td></tr><tr><td>dbfs:/databricks-datasets/wikipedia-datasets/data-001/en_wikipedia/articles-only-parquet/part-r-00611-ff5bbd4d-6518-4e17-8ff5-c8fd3d4a5b86.gz.parquet</td><td>part-r-00611-ff5bbd4d-6518-4e17-8ff5-c8fd3d4a5b86.gz.parquet</td><td>9848383</td></tr><tr><td>dbfs:/databricks-datasets/wikipedia-datasets/data-001/en_wikipedia/articles-only-parquet/part-r-00612-ff5bbd4d-6518-4e17-8ff5-c8fd3d4a5b86.gz.parquet</td><td>part-r-00612-ff5bbd4d-6518-4e17-8ff5-c8fd3d4a5b86.gz.parquet</td><td>9000866</td></tr><tr><td>dbfs:/databricks-datasets/wikipedia-datasets/data-001/en_wikipedia/articles-only-parquet/part-r-00613-ff5bbd4d-6518-4e17-8ff5-c8fd3d4a5b86.gz.parquet</td><td>part-r-00613-ff5bbd4d-6518-4e17-8ff5-c8fd3d4a5b86.gz.parquet</td><td>8464685</td></tr><tr><td>dbfs:/databricks-datasets/wikipedia-datasets/data-001/en_wikipedia/articles-only-parquet/part-r-00614-ff5bbd4d-6518-4e17-8ff5-c8fd3d4a5b86.gz.parquet</td><td>part-r-00614-ff5bbd4d-6518-4e17-8ff5-c8fd3d4a5b86.gz.parquet</td><td>10279631</td></tr><tr><td>dbfs:/databricks-datasets/wikipedia-datasets/data-001/en_wikipedia/articles-only-parquet/part-r-00615-ff5bbd4d-6518-4e17-8ff5-c8fd3d4a5b86.gz.parquet</td><td>part-r-00615-ff5bbd4d-6518-4e17-8ff5-c8fd3d4a5b86.gz.parquet</td><td>8750198</td></tr><tr><td>dbfs:/databricks-datasets/wikipedia-datasets/data-001/en_wikipedia/articles-only-parquet/part-r-00616-ff5bbd4d-6518-4e17-8ff5-c8fd3d4a5b86.gz.parquet</td><td>part-r-00616-ff5bbd4d-6518-4e17-8ff5-c8fd3d4a5b86.gz.parquet</td><td>9078788</td></tr><tr><td>dbfs:/databricks-datasets/wikipedia-datasets/data-001/en_wikipedia/articles-only-parquet/part-r-00617-ff5bbd4d-6518-4e17-8ff5-c8fd3d4a5b86.gz.parquet</td><td>part-r-00617-ff5bbd4d-6518-4e17-8ff5-c8fd3d4a5b86.gz.parquet</td><td>16126180</td></tr><tr><td>dbfs:/databricks-datasets/wikipedia-datasets/data-001/en_wikipedia/articles-only-parquet/part-r-00618-ff5bbd4d-6518-4e17-8ff5-c8fd3d4a5b86.gz.parquet</td><td>part-r-00618-ff5bbd4d-6518-4e17-8ff5-c8fd3d4a5b86.gz.parquet</td><td>7831508</td></tr><tr><td>dbfs:/databricks-datasets/wikipedia-datasets/data-001/en_wikipedia/articles-only-parquet/part-r-00619-ff5bbd4d-6518-4e17-8ff5-c8fd3d4a5b86.gz.parquet</td><td>part-r-00619-ff5bbd4d-6518-4e17-8ff5-c8fd3d4a5b86.gz.parquet</td><td>9532726</td></tr><tr><td>dbfs:/databricks-datasets/wikipedia-datasets/data-001/en_wikipedia/articles-only-parquet/part-r-00620-ff5bbd4d-6518-4e17-8ff5-c8fd3d4a5b86.gz.parquet</td><td>part-r-00620-ff5bbd4d-6518-4e17-8ff5-c8fd3d4a5b86.gz.parquet</td><td>8258444</td></tr><tr><td>dbfs:/databricks-datasets/wikipedia-datasets/data-001/en_wikipedia/articles-only-parquet/part-r-00621-ff5bbd4d-6518-4e17-8ff5-c8fd3d4a5b86.gz.parquet</td><td>part-r-00621-ff5bbd4d-6518-4e17-8ff5-c8fd3d4a5b86.gz.parquet</td><td>13825571</td></tr><tr><td>dbfs:/databricks-datasets/wikipedia-datasets/data-001/en_wikipedia/articles-only-parquet/part-r-00622-ff5bbd4d-6518-4e17-8ff5-c8fd3d4a5b86.gz.parquet</td><td>part-r-00622-ff5bbd4d-6518-4e17-8ff5-c8fd3d4a5b86.gz.parquet</td><td>5965952</td></tr><tr><td>dbfs:/databricks-datasets/wikipedia-datasets/data-001/en_wikipedia/articles-only-parquet/part-r-00623-ff5bbd4d-6518-4e17-8ff5-c8fd3d4a5b86.gz.parquet</td><td>part-r-00623-ff5bbd4d-6518-4e17-8ff5-c8fd3d4a5b86.gz.parquet</td><td>15057327</td></tr><tr><td>dbfs:/databricks-datasets/wikipedia-datasets/data-001/en_wikipedia/articles-only-parquet/part-r-00624-ff5bbd4d-6518-4e17-8ff5-c8fd3d4a5b86.gz.parquet</td><td>part-r-00624-ff5bbd4d-6518-4e17-8ff5-c8fd3d4a5b86.gz.parquet</td><td>6202726</td></tr><tr><td>dbfs:/databricks-datasets/wikipedia-datasets/data-001/en_wikipedia/articles-only-parquet/part-r-00625-ff5bbd4d-6518-4e17-8ff5-c8fd3d4a5b86.gz.parquet</td><td>part-r-00625-ff5bbd4d-6518-4e17-8ff5-c8fd3d4a5b86.gz.parquet</td><td>9017931</td></tr><tr><td>dbfs:/databricks-datasets/wikipedia-datasets/data-001/en_wikipedia/articles-only-parquet/part-r-00626-ff5bbd4d-6518-4e17-8ff5-c8fd3d4a5b86.gz.parquet</td><td>part-r-00626-ff5bbd4d-6518-4e17-8ff5-c8fd3d4a5b86.gz.parquet</td><td>14317630</td></tr><tr><td>dbfs:/databricks-datasets/wikipedia-datasets/data-001/en_wikipedia/articles-only-parquet/part-r-00627-ff5bbd4d-6518-4e17-8ff5-c8fd3d4a5b86.gz.parquet</td><td>part-r-00627-ff5bbd4d-6518-4e17-8ff5-c8fd3d4a5b86.gz.parquet</td><td>13826838</td></tr><tr><td>dbfs:/databricks-datasets/wikipedia-datasets/data-001/en_wikipedia/articles-only-parquet/part-r-00628-ff5bbd4d-6518-4e17-8ff5-c8fd3d4a5b86.gz.parquet</td><td>part-r-00628-ff5bbd4d-6518-4e17-8ff5-c8fd3d4a5b86.gz.parquet</td><td>11170845</td></tr><tr><td>dbfs:/databricks-datasets/wikipedia-datasets/data-001/en_wikipedia/articles-only-parquet/part-r-00629-ff5bbd4d-6518-4e17-8ff5-c8fd3d4a5b86.gz.parquet</td><td>part-r-00629-ff5bbd4d-6518-4e17-8ff5-c8fd3d4a5b86.gz.parquet</td><td>16820805</td></tr><tr><td>dbfs:/databricks-datasets/wikipedia-datasets/data-001/en_wikipedia/articles-only-parquet/part-r-00630-ff5bbd4d-6518-4e17-8ff5-c8fd3d4a5b86.gz.parquet</td><td>part-r-00630-ff5bbd4d-6518-4e17-8ff5-c8fd3d4a5b86.gz.parquet</td><td>8271798</td></tr><tr><td>dbfs:/databricks-datasets/wikipedia-datasets/data-001/en_wikipedia/articles-only-parquet/part-r-00631-ff5bbd4d-6518-4e17-8ff5-c8fd3d4a5b86.gz.parquet</td><td>part-r-00631-ff5bbd4d-6518-4e17-8ff5-c8fd3d4a5b86.gz.parquet</td><td>9634205</td></tr><tr><td>dbfs:/databricks-datasets/wikipedia-datasets/data-001/en_wikipedia/articles-only-parquet/part-r-00632-ff5bbd4d-6518-4e17-8ff5-c8fd3d4a5b86.gz.parquet</td><td>part-r-00632-ff5bbd4d-6518-4e17-8ff5-c8fd3d4a5b86.gz.parquet</td><td>9113399</td></tr><tr><td>dbfs:/databricks-datasets/wikipedia-datasets/data-001/en_wikipedia/articles-only-parquet/part-r-00633-ff5bbd4d-6518-4e17-8ff5-c8fd3d4a5b86.gz.parquet</td><td>part-r-00633-ff5bbd4d-6518-4e17-8ff5-c8fd3d4a5b86.gz.parquet</td><td>12860205</td></tr><tr><td>dbfs:/databricks-datasets/wikipedia-datasets/data-001/en_wikipedia/articles-only-parquet/part-r-00634-ff5bbd4d-6518-4e17-8ff5-c8fd3d4a5b86.gz.parquet</td><td>part-r-00634-ff5bbd4d-6518-4e17-8ff5-c8fd3d4a5b86.gz.parquet</td><td>11238320</td></tr><tr><td>dbfs:/databricks-datasets/wikipedia-datasets/data-001/en_wikipedia/articles-only-parquet/part-r-00635-ff5bbd4d-6518-4e17-8ff5-c8fd3d4a5b86.gz.parquet</td><td>part-r-00635-ff5bbd4d-6518-4e17-8ff5-c8fd3d4a5b86.gz.parquet</td><td>16084852</td></tr><tr><td>dbfs:/databricks-datasets/wikipedia-datasets/data-001/en_wikipedia/articles-only-parquet/part-r-00636-ff5bbd4d-6518-4e17-8ff5-c8fd3d4a5b86.gz.parquet</td><td>part-r-00636-ff5bbd4d-6518-4e17-8ff5-c8fd3d4a5b86.gz.parquet</td><td>9256493</td></tr><tr><td>dbfs:/databricks-datasets/wikipedia-datasets/data-001/en_wikipedia/articles-only-parquet/part-r-00637-ff5bbd4d-6518-4e17-8ff5-c8fd3d4a5b86.gz.parquet</td><td>part-r-00637-ff5bbd4d-6518-4e17-8ff5-c8fd3d4a5b86.gz.parquet</td><td>8226628</td></tr><tr><td>dbfs:/databricks-datasets/wikipedia-datasets/data-001/en_wikipedia/articles-only-parquet/part-r-00638-ff5bbd4d-6518-4e17-8ff5-c8fd3d4a5b86.gz.parquet</td><td>part-r-00638-ff5bbd4d-6518-4e17-8ff5-c8fd3d4a5b86.gz.parquet</td><td>6943701</td></tr><tr><td>dbfs:/databricks-datasets/wikipedia-datasets/data-001/en_wikipedia/articles-only-parquet/part-r-00639-ff5bbd4d-6518-4e17-8ff5-c8fd3d4a5b86.gz.parquet</td><td>part-r-00639-ff5bbd4d-6518-4e17-8ff5-c8fd3d4a5b86.gz.parquet</td><td>9472038</td></tr><tr><td>dbfs:/databricks-datasets/wikipedia-datasets/data-001/en_wikipedia/articles-only-parquet/part-r-00640-ff5bbd4d-6518-4e17-8ff5-c8fd3d4a5b86.gz.parquet</td><td>part-r-00640-ff5bbd4d-6518-4e17-8ff5-c8fd3d4a5b86.gz.parquet</td><td>11598615</td></tr><tr><td>dbfs:/databricks-datasets/wikipedia-datasets/data-001/en_wikipedia/articles-only-parquet/part-r-00641-ff5bbd4d-6518-4e17-8ff5-c8fd3d4a5b86.gz.parquet</td><td>part-r-00641-ff5bbd4d-6518-4e17-8ff5-c8fd3d4a5b86.gz.parquet</td><td>12189610</td></tr><tr><td>dbfs:/databricks-datasets/wikipedia-datasets/data-001/en_wikipedia/articles-only-parquet/part-r-00642-ff5bbd4d-6518-4e17-8ff5-c8fd3d4a5b86.gz.parquet</td><td>part-r-00642-ff5bbd4d-6518-4e17-8ff5-c8fd3d4a5b86.gz.parquet</td><td>9797147</td></tr><tr><td>dbfs:/databricks-datasets/wikipedia-datasets/data-001/en_wikipedia/articles-only-parquet/part-r-00643-ff5bbd4d-6518-4e17-8ff5-c8fd3d4a5b86.gz.parquet</td><td>part-r-00643-ff5bbd4d-6518-4e17-8ff5-c8fd3d4a5b86.gz.parquet</td><td>12263269</td></tr><tr><td>dbfs:/databricks-datasets/wikipedia-datasets/data-001/en_wikipedia/articles-only-parquet/part-r-00644-ff5bbd4d-6518-4e17-8ff5-c8fd3d4a5b86.gz.parquet</td><td>part-r-00644-ff5bbd4d-6518-4e17-8ff5-c8fd3d4a5b86.gz.parquet</td><td>8907246</td></tr><tr><td>dbfs:/databricks-datasets/wikipedia-datasets/data-001/en_wikipedia/articles-only-parquet/part-r-00645-ff5bbd4d-6518-4e17-8ff5-c8fd3d4a5b86.gz.parquet</td><td>part-r-00645-ff5bbd4d-6518-4e17-8ff5-c8fd3d4a5b86.gz.parquet</td><td>8793148</td></tr><tr><td>dbfs:/databricks-datasets/wikipedia-datasets/data-001/en_wikipedia/articles-only-parquet/part-r-00646-ff5bbd4d-6518-4e17-8ff5-c8fd3d4a5b86.gz.parquet</td><td>part-r-00646-ff5bbd4d-6518-4e17-8ff5-c8fd3d4a5b86.gz.parquet</td><td>15183783</td></tr><tr><td>dbfs:/databricks-datasets/wikipedia-datasets/data-001/en_wikipedia/articles-only-parquet/part-r-00647-ff5bbd4d-6518-4e17-8ff5-c8fd3d4a5b86.gz.parquet</td><td>part-r-00647-ff5bbd4d-6518-4e17-8ff5-c8fd3d4a5b86.gz.parquet</td><td>9958009</td></tr><tr><td>dbfs:/databricks-datasets/wikipedia-datasets/data-001/en_wikipedia/articles-only-parquet/part-r-00648-ff5bbd4d-6518-4e17-8ff5-c8fd3d4a5b86.gz.parquet</td><td>part-r-00648-ff5bbd4d-6518-4e17-8ff5-c8fd3d4a5b86.gz.parquet</td><td>9555265</td></tr><tr><td>dbfs:/databricks-datasets/wikipedia-datasets/data-001/en_wikipedia/articles-only-parquet/part-r-00649-ff5bbd4d-6518-4e17-8ff5-c8fd3d4a5b86.gz.parquet</td><td>part-r-00649-ff5bbd4d-6518-4e17-8ff5-c8fd3d4a5b86.gz.parquet</td><td>7417598</td></tr><tr><td>dbfs:/databricks-datasets/wikipedia-datasets/data-001/en_wikipedia/articles-only-parquet/part-r-00650-ff5bbd4d-6518-4e17-8ff5-c8fd3d4a5b86.gz.parquet</td><td>part-r-00650-ff5bbd4d-6518-4e17-8ff5-c8fd3d4a5b86.gz.parquet</td><td>8683492</td></tr><tr><td>dbfs:/databricks-datasets/wikipedia-datasets/data-001/en_wikipedia/articles-only-parquet/part-r-00651-ff5bbd4d-6518-4e17-8ff5-c8fd3d4a5b86.gz.parquet</td><td>part-r-00651-ff5bbd4d-6518-4e17-8ff5-c8fd3d4a5b86.gz.parquet</td><td>9215035</td></tr><tr><td>dbfs:/databricks-datasets/wikipedia-datasets/data-001/en_wikipedia/articles-only-parquet/part-r-00652-ff5bbd4d-6518-4e17-8ff5-c8fd3d4a5b86.gz.parquet</td><td>part-r-00652-ff5bbd4d-6518-4e17-8ff5-c8fd3d4a5b86.gz.parquet</td><td>11771801</td></tr><tr><td>dbfs:/databricks-datasets/wikipedia-datasets/data-001/en_wikipedia/articles-only-parquet/part-r-00653-ff5bbd4d-6518-4e17-8ff5-c8fd3d4a5b86.gz.parquet</td><td>part-r-00653-ff5bbd4d-6518-4e17-8ff5-c8fd3d4a5b86.gz.parquet</td><td>10255588</td></tr><tr><td>dbfs:/databricks-datasets/wikipedia-datasets/data-001/en_wikipedia/articles-only-parquet/part-r-00654-ff5bbd4d-6518-4e17-8ff5-c8fd3d4a5b86.gz.parquet</td><td>part-r-00654-ff5bbd4d-6518-4e17-8ff5-c8fd3d4a5b86.gz.parquet</td><td>8433300</td></tr><tr><td>dbfs:/databricks-datasets/wikipedia-datasets/data-001/en_wikipedia/articles-only-parquet/part-r-00655-ff5bbd4d-6518-4e17-8ff5-c8fd3d4a5b86.gz.parquet</td><td>part-r-00655-ff5bbd4d-6518-4e17-8ff5-c8fd3d4a5b86.gz.parquet</td><td>9123710</td></tr><tr><td>dbfs:/databricks-datasets/wikipedia-datasets/data-001/en_wikipedia/articles-only-parquet/part-r-00656-ff5bbd4d-6518-4e17-8ff5-c8fd3d4a5b86.gz.parquet</td><td>part-r-00656-ff5bbd4d-6518-4e17-8ff5-c8fd3d4a5b86.gz.parquet</td><td>9306733</td></tr><tr><td>dbfs:/databricks-datasets/wikipedia-datasets/data-001/en_wikipedia/articles-only-parquet/part-r-00657-ff5bbd4d-6518-4e17-8ff5-c8fd3d4a5b86.gz.parquet</td><td>part-r-00657-ff5bbd4d-6518-4e17-8ff5-c8fd3d4a5b86.gz.parquet</td><td>12699180</td></tr><tr><td>dbfs:/databricks-datasets/wikipedia-datasets/data-001/en_wikipedia/articles-only-parquet/part-r-00658-ff5bbd4d-6518-4e17-8ff5-c8fd3d4a5b86.gz.parquet</td><td>part-r-00658-ff5bbd4d-6518-4e17-8ff5-c8fd3d4a5b86.gz.parquet</td><td>6891164</td></tr><tr><td>dbfs:/databricks-datasets/wikipedia-datasets/data-001/en_wikipedia/articles-only-parquet/part-r-00659-ff5bbd4d-6518-4e17-8ff5-c8fd3d4a5b86.gz.parquet</td><td>part-r-00659-ff5bbd4d-6518-4e17-8ff5-c8fd3d4a5b86.gz.parquet</td><td>9026060</td></tr><tr><td>dbfs:/databricks-datasets/wikipedia-datasets/data-001/en_wikipedia/articles-only-parquet/part-r-00660-ff5bbd4d-6518-4e17-8ff5-c8fd3d4a5b86.gz.parquet</td><td>part-r-00660-ff5bbd4d-6518-4e17-8ff5-c8fd3d4a5b86.gz.parquet</td><td>10582582</td></tr><tr><td>dbfs:/databricks-datasets/wikipedia-datasets/data-001/en_wikipedia/articles-only-parquet/part-r-00661-ff5bbd4d-6518-4e17-8ff5-c8fd3d4a5b86.gz.parquet</td><td>part-r-00661-ff5bbd4d-6518-4e17-8ff5-c8fd3d4a5b86.gz.parquet</td><td>11408180</td></tr><tr><td>dbfs:/databricks-datasets/wikipedia-datasets/data-001/en_wikipedia/articles-only-parquet/part-r-00662-ff5bbd4d-6518-4e17-8ff5-c8fd3d4a5b86.gz.parquet</td><td>part-r-00662-ff5bbd4d-6518-4e17-8ff5-c8fd3d4a5b86.gz.parquet</td><td>9742687</td></tr><tr><td>dbfs:/databricks-datasets/wikipedia-datasets/data-001/en_wikipedia/articles-only-parquet/part-r-00663-ff5bbd4d-6518-4e17-8ff5-c8fd3d4a5b86.gz.parquet</td><td>part-r-00663-ff5bbd4d-6518-4e17-8ff5-c8fd3d4a5b86.gz.parquet</td><td>11662985</td></tr><tr><td>dbfs:/databricks-datasets/wikipedia-datasets/data-001/en_wikipedia/articles-only-parquet/part-r-00664-ff5bbd4d-6518-4e17-8ff5-c8fd3d4a5b86.gz.parquet</td><td>part-r-00664-ff5bbd4d-6518-4e17-8ff5-c8fd3d4a5b86.gz.parquet</td><td>11951116</td></tr><tr><td>dbfs:/databricks-datasets/wikipedia-datasets/data-001/en_wikipedia/articles-only-parquet/part-r-00665-ff5bbd4d-6518-4e17-8ff5-c8fd3d4a5b86.gz.parquet</td><td>part-r-00665-ff5bbd4d-6518-4e17-8ff5-c8fd3d4a5b86.gz.parquet</td><td>9205209</td></tr><tr><td>dbfs:/databricks-datasets/wikipedia-datasets/data-001/en_wikipedia/articles-only-parquet/part-r-00666-ff5bbd4d-6518-4e17-8ff5-c8fd3d4a5b86.gz.parquet</td><td>part-r-00666-ff5bbd4d-6518-4e17-8ff5-c8fd3d4a5b86.gz.parquet</td><td>6312511</td></tr><tr><td>dbfs:/databricks-datasets/wikipedia-datasets/data-001/en_wikipedia/articles-only-parquet/part-r-00667-ff5bbd4d-6518-4e17-8ff5-c8fd3d4a5b86.gz.parquet</td><td>part-r-00667-ff5bbd4d-6518-4e17-8ff5-c8fd3d4a5b86.gz.parquet</td><td>9510353</td></tr><tr><td>dbfs:/databricks-datasets/wikipedia-datasets/data-001/en_wikipedia/articles-only-parquet/part-r-00668-ff5bbd4d-6518-4e17-8ff5-c8fd3d4a5b86.gz.parquet</td><td>part-r-00668-ff5bbd4d-6518-4e17-8ff5-c8fd3d4a5b86.gz.parquet</td><td>9792901</td></tr><tr><td>dbfs:/databricks-datasets/wikipedia-datasets/data-001/en_wikipedia/articles-only-parquet/part-r-00669-ff5bbd4d-6518-4e17-8ff5-c8fd3d4a5b86.gz.parquet</td><td>part-r-00669-ff5bbd4d-6518-4e17-8ff5-c8fd3d4a5b86.gz.parquet</td><td>8143000</td></tr><tr><td>dbfs:/databricks-datasets/wikipedia-datasets/data-001/en_wikipedia/articles-only-parquet/part-r-00670-ff5bbd4d-6518-4e17-8ff5-c8fd3d4a5b86.gz.parquet</td><td>part-r-00670-ff5bbd4d-6518-4e17-8ff5-c8fd3d4a5b86.gz.parquet</td><td>9198336</td></tr><tr><td>dbfs:/databricks-datasets/wikipedia-datasets/data-001/en_wikipedia/articles-only-parquet/part-r-00671-ff5bbd4d-6518-4e17-8ff5-c8fd3d4a5b86.gz.parquet</td><td>part-r-00671-ff5bbd4d-6518-4e17-8ff5-c8fd3d4a5b86.gz.parquet</td><td>8434983</td></tr><tr><td>dbfs:/databricks-datasets/wikipedia-datasets/data-001/en_wikipedia/articles-only-parquet/part-r-00672-ff5bbd4d-6518-4e17-8ff5-c8fd3d4a5b86.gz.parquet</td><td>part-r-00672-ff5bbd4d-6518-4e17-8ff5-c8fd3d4a5b86.gz.parquet</td><td>11350462</td></tr><tr><td>dbfs:/databricks-datasets/wikipedia-datasets/data-001/en_wikipedia/articles-only-parquet/part-r-00673-ff5bbd4d-6518-4e17-8ff5-c8fd3d4a5b86.gz.parquet</td><td>part-r-00673-ff5bbd4d-6518-4e17-8ff5-c8fd3d4a5b86.gz.parquet</td><td>8837097</td></tr><tr><td>dbfs:/databricks-datasets/wikipedia-datasets/data-001/en_wikipedia/articles-only-parquet/part-r-00674-ff5bbd4d-6518-4e17-8ff5-c8fd3d4a5b86.gz.parquet</td><td>part-r-00674-ff5bbd4d-6518-4e17-8ff5-c8fd3d4a5b86.gz.parquet</td><td>12545034</td></tr><tr><td>dbfs:/databricks-datasets/wikipedia-datasets/data-001/en_wikipedia/articles-only-parquet/part-r-00675-ff5bbd4d-6518-4e17-8ff5-c8fd3d4a5b86.gz.parquet</td><td>part-r-00675-ff5bbd4d-6518-4e17-8ff5-c8fd3d4a5b86.gz.parquet</td><td>14485365</td></tr><tr><td>dbfs:/databricks-datasets/wikipedia-datasets/data-001/en_wikipedia/articles-only-parquet/part-r-00676-ff5bbd4d-6518-4e17-8ff5-c8fd3d4a5b86.gz.parquet</td><td>part-r-00676-ff5bbd4d-6518-4e17-8ff5-c8fd3d4a5b86.gz.parquet</td><td>16258109</td></tr><tr><td>dbfs:/databricks-datasets/wikipedia-datasets/data-001/en_wikipedia/articles-only-parquet/part-r-00677-ff5bbd4d-6518-4e17-8ff5-c8fd3d4a5b86.gz.parquet</td><td>part-r-00677-ff5bbd4d-6518-4e17-8ff5-c8fd3d4a5b86.gz.parquet</td><td>8441946</td></tr><tr><td>dbfs:/databricks-datasets/wikipedia-datasets/data-001/en_wikipedia/articles-only-parquet/part-r-00678-ff5bbd4d-6518-4e17-8ff5-c8fd3d4a5b86.gz.parquet</td><td>part-r-00678-ff5bbd4d-6518-4e17-8ff5-c8fd3d4a5b86.gz.parquet</td><td>8314694</td></tr><tr><td>dbfs:/databricks-datasets/wikipedia-datasets/data-001/en_wikipedia/articles-only-parquet/part-r-00679-ff5bbd4d-6518-4e17-8ff5-c8fd3d4a5b86.gz.parquet</td><td>part-r-00679-ff5bbd4d-6518-4e17-8ff5-c8fd3d4a5b86.gz.parquet</td><td>9953956</td></tr><tr><td>dbfs:/databricks-datasets/wikipedia-datasets/data-001/en_wikipedia/articles-only-parquet/part-r-00680-ff5bbd4d-6518-4e17-8ff5-c8fd3d4a5b86.gz.parquet</td><td>part-r-00680-ff5bbd4d-6518-4e17-8ff5-c8fd3d4a5b86.gz.parquet</td><td>15759063</td></tr><tr><td>dbfs:/databricks-datasets/wikipedia-datasets/data-001/en_wikipedia/articles-only-parquet/part-r-00681-ff5bbd4d-6518-4e17-8ff5-c8fd3d4a5b86.gz.parquet</td><td>part-r-00681-ff5bbd4d-6518-4e17-8ff5-c8fd3d4a5b86.gz.parquet</td><td>15311705</td></tr><tr><td>dbfs:/databricks-datasets/wikipedia-datasets/data-001/en_wikipedia/articles-only-parquet/part-r-00682-ff5bbd4d-6518-4e17-8ff5-c8fd3d4a5b86.gz.parquet</td><td>part-r-00682-ff5bbd4d-6518-4e17-8ff5-c8fd3d4a5b86.gz.parquet</td><td>9229187</td></tr><tr><td>dbfs:/databricks-datasets/wikipedia-datasets/data-001/en_wikipedia/articles-only-parquet/part-r-00683-ff5bbd4d-6518-4e17-8ff5-c8fd3d4a5b86.gz.parquet</td><td>part-r-00683-ff5bbd4d-6518-4e17-8ff5-c8fd3d4a5b86.gz.parquet</td><td>9042739</td></tr><tr><td>dbfs:/databricks-datasets/wikipedia-datasets/data-001/en_wikipedia/articles-only-parquet/part-r-00684-ff5bbd4d-6518-4e17-8ff5-c8fd3d4a5b86.gz.parquet</td><td>part-r-00684-ff5bbd4d-6518-4e17-8ff5-c8fd3d4a5b86.gz.parquet</td><td>14122897</td></tr><tr><td>dbfs:/databricks-datasets/wikipedia-datasets/data-001/en_wikipedia/articles-only-parquet/part-r-00685-ff5bbd4d-6518-4e17-8ff5-c8fd3d4a5b86.gz.parquet</td><td>part-r-00685-ff5bbd4d-6518-4e17-8ff5-c8fd3d4a5b86.gz.parquet</td><td>9271068</td></tr><tr><td>dbfs:/databricks-datasets/wikipedia-datasets/data-001/en_wikipedia/articles-only-parquet/part-r-00686-ff5bbd4d-6518-4e17-8ff5-c8fd3d4a5b86.gz.parquet</td><td>part-r-00686-ff5bbd4d-6518-4e17-8ff5-c8fd3d4a5b86.gz.parquet</td><td>14834375</td></tr><tr><td>dbfs:/databricks-datasets/wikipedia-datasets/data-001/en_wikipedia/articles-only-parquet/part-r-00687-ff5bbd4d-6518-4e17-8ff5-c8fd3d4a5b86.gz.parquet</td><td>part-r-00687-ff5bbd4d-6518-4e17-8ff5-c8fd3d4a5b86.gz.parquet</td><td>17334040</td></tr><tr><td>dbfs:/databricks-datasets/wikipedia-datasets/data-001/en_wikipedia/articles-only-parquet/part-r-00688-ff5bbd4d-6518-4e17-8ff5-c8fd3d4a5b86.gz.parquet</td><td>part-r-00688-ff5bbd4d-6518-4e17-8ff5-c8fd3d4a5b86.gz.parquet</td><td>16159435</td></tr><tr><td>dbfs:/databricks-datasets/wikipedia-datasets/data-001/en_wikipedia/articles-only-parquet/part-r-00689-ff5bbd4d-6518-4e17-8ff5-c8fd3d4a5b86.gz.parquet</td><td>part-r-00689-ff5bbd4d-6518-4e17-8ff5-c8fd3d4a5b86.gz.parquet</td><td>9710142</td></tr><tr><td>dbfs:/databricks-datasets/wikipedia-datasets/data-001/en_wikipedia/articles-only-parquet/part-r-00690-ff5bbd4d-6518-4e17-8ff5-c8fd3d4a5b86.gz.parquet</td><td>part-r-00690-ff5bbd4d-6518-4e17-8ff5-c8fd3d4a5b86.gz.parquet</td><td>8859391</td></tr><tr><td>dbfs:/databricks-datasets/wikipedia-datasets/data-001/en_wikipedia/articles-only-parquet/part-r-00691-ff5bbd4d-6518-4e17-8ff5-c8fd3d4a5b86.gz.parquet</td><td>part-r-00691-ff5bbd4d-6518-4e17-8ff5-c8fd3d4a5b86.gz.parquet</td><td>12836745</td></tr><tr><td>dbfs:/databricks-datasets/wikipedia-datasets/data-001/en_wikipedia/articles-only-parquet/part-r-00692-ff5bbd4d-6518-4e17-8ff5-c8fd3d4a5b86.gz.parquet</td><td>part-r-00692-ff5bbd4d-6518-4e17-8ff5-c8fd3d4a5b86.gz.parquet</td><td>7982352</td></tr><tr><td>dbfs:/databricks-datasets/wikipedia-datasets/data-001/en_wikipedia/articles-only-parquet/part-r-00693-ff5bbd4d-6518-4e17-8ff5-c8fd3d4a5b86.gz.parquet</td><td>part-r-00693-ff5bbd4d-6518-4e17-8ff5-c8fd3d4a5b86.gz.parquet</td><td>8497046</td></tr><tr><td>dbfs:/databricks-datasets/wikipedia-datasets/data-001/en_wikipedia/articles-only-parquet/part-r-00694-ff5bbd4d-6518-4e17-8ff5-c8fd3d4a5b86.gz.parquet</td><td>part-r-00694-ff5bbd4d-6518-4e17-8ff5-c8fd3d4a5b86.gz.parquet</td><td>3545194</td></tr><tr><td>dbfs:/databricks-datasets/wikipedia-datasets/data-001/en_wikipedia/articles-only-parquet/part-r-00695-ff5bbd4d-6518-4e17-8ff5-c8fd3d4a5b86.gz.parquet</td><td>part-r-00695-ff5bbd4d-6518-4e17-8ff5-c8fd3d4a5b86.gz.parquet</td><td>9276762</td></tr><tr><td>dbfs:/databricks-datasets/wikipedia-datasets/data-001/en_wikipedia/articles-only-parquet/part-r-00696-ff5bbd4d-6518-4e17-8ff5-c8fd3d4a5b86.gz.parquet</td><td>part-r-00696-ff5bbd4d-6518-4e17-8ff5-c8fd3d4a5b86.gz.parquet</td><td>8714825</td></tr><tr><td>dbfs:/databricks-datasets/wikipedia-datasets/data-001/en_wikipedia/articles-only-parquet/part-r-00697-ff5bbd4d-6518-4e17-8ff5-c8fd3d4a5b86.gz.parquet</td><td>part-r-00697-ff5bbd4d-6518-4e17-8ff5-c8fd3d4a5b86.gz.parquet</td><td>9991677</td></tr><tr><td>dbfs:/databricks-datasets/wikipedia-datasets/data-001/en_wikipedia/articles-only-parquet/part-r-00698-ff5bbd4d-6518-4e17-8ff5-c8fd3d4a5b86.gz.parquet</td><td>part-r-00698-ff5bbd4d-6518-4e17-8ff5-c8fd3d4a5b86.gz.parquet</td><td>17190283</td></tr><tr><td>dbfs:/databricks-datasets/wikipedia-datasets/data-001/en_wikipedia/articles-only-parquet/part-r-00699-ff5bbd4d-6518-4e17-8ff5-c8fd3d4a5b86.gz.parquet</td><td>part-r-00699-ff5bbd4d-6518-4e17-8ff5-c8fd3d4a5b86.gz.parquet</td><td>10038655</td></tr><tr><td>dbfs:/databricks-datasets/wikipedia-datasets/data-001/en_wikipedia/articles-only-parquet/part-r-00700-ff5bbd4d-6518-4e17-8ff5-c8fd3d4a5b86.gz.parquet</td><td>part-r-00700-ff5bbd4d-6518-4e17-8ff5-c8fd3d4a5b86.gz.parquet</td><td>9539128</td></tr><tr><td>dbfs:/databricks-datasets/wikipedia-datasets/data-001/en_wikipedia/articles-only-parquet/part-r-00701-ff5bbd4d-6518-4e17-8ff5-c8fd3d4a5b86.gz.parquet</td><td>part-r-00701-ff5bbd4d-6518-4e17-8ff5-c8fd3d4a5b86.gz.parquet</td><td>6999693</td></tr><tr><td>dbfs:/databricks-datasets/wikipedia-datasets/data-001/en_wikipedia/articles-only-parquet/part-r-00702-ff5bbd4d-6518-4e17-8ff5-c8fd3d4a5b86.gz.parquet</td><td>part-r-00702-ff5bbd4d-6518-4e17-8ff5-c8fd3d4a5b86.gz.parquet</td><td>10426714</td></tr><tr><td>dbfs:/databricks-datasets/wikipedia-datasets/data-001/en_wikipedia/articles-only-parquet/part-r-00703-ff5bbd4d-6518-4e17-8ff5-c8fd3d4a5b86.gz.parquet</td><td>part-r-00703-ff5bbd4d-6518-4e17-8ff5-c8fd3d4a5b86.gz.parquet</td><td>12424457</td></tr><tr><td>dbfs:/databricks-datasets/wikipedia-datasets/data-001/en_wikipedia/articles-only-parquet/part-r-00704-ff5bbd4d-6518-4e17-8ff5-c8fd3d4a5b86.gz.parquet</td><td>part-r-00704-ff5bbd4d-6518-4e17-8ff5-c8fd3d4a5b86.gz.parquet</td><td>11678720</td></tr><tr><td>dbfs:/databricks-datasets/wikipedia-datasets/data-001/en_wikipedia/articles-only-parquet/part-r-00705-ff5bbd4d-6518-4e17-8ff5-c8fd3d4a5b86.gz.parquet</td><td>part-r-00705-ff5bbd4d-6518-4e17-8ff5-c8fd3d4a5b86.gz.parquet</td><td>9423186</td></tr><tr><td>dbfs:/databricks-datasets/wikipedia-datasets/data-001/en_wikipedia/articles-only-parquet/part-r-00706-ff5bbd4d-6518-4e17-8ff5-c8fd3d4a5b86.gz.parquet</td><td>part-r-00706-ff5bbd4d-6518-4e17-8ff5-c8fd3d4a5b86.gz.parquet</td><td>7131400</td></tr><tr><td>dbfs:/databricks-datasets/wikipedia-datasets/data-001/en_wikipedia/articles-only-parquet/part-r-00707-ff5bbd4d-6518-4e17-8ff5-c8fd3d4a5b86.gz.parquet</td><td>part-r-00707-ff5bbd4d-6518-4e17-8ff5-c8fd3d4a5b86.gz.parquet</td><td>17448230</td></tr><tr><td>dbfs:/databricks-datasets/wikipedia-datasets/data-001/en_wikipedia/articles-only-parquet/part-r-00708-ff5bbd4d-6518-4e17-8ff5-c8fd3d4a5b86.gz.parquet</td><td>part-r-00708-ff5bbd4d-6518-4e17-8ff5-c8fd3d4a5b86.gz.parquet</td><td>16509340</td></tr><tr><td>dbfs:/databricks-datasets/wikipedia-datasets/data-001/en_wikipedia/articles-only-parquet/part-r-00709-ff5bbd4d-6518-4e17-8ff5-c8fd3d4a5b86.gz.parquet</td><td>part-r-00709-ff5bbd4d-6518-4e17-8ff5-c8fd3d4a5b86.gz.parquet</td><td>8372103</td></tr><tr><td>dbfs:/databricks-datasets/wikipedia-datasets/data-001/en_wikipedia/articles-only-parquet/part-r-00710-ff5bbd4d-6518-4e17-8ff5-c8fd3d4a5b86.gz.parquet</td><td>part-r-00710-ff5bbd4d-6518-4e17-8ff5-c8fd3d4a5b86.gz.parquet</td><td>9686117</td></tr><tr><td>dbfs:/databricks-datasets/wikipedia-datasets/data-001/en_wikipedia/articles-only-parquet/part-r-00711-ff5bbd4d-6518-4e17-8ff5-c8fd3d4a5b86.gz.parquet</td><td>part-r-00711-ff5bbd4d-6518-4e17-8ff5-c8fd3d4a5b86.gz.parquet</td><td>9753444</td></tr><tr><td>dbfs:/databricks-datasets/wikipedia-datasets/data-001/en_wikipedia/articles-only-parquet/part-r-00712-ff5bbd4d-6518-4e17-8ff5-c8fd3d4a5b86.gz.parquet</td><td>part-r-00712-ff5bbd4d-6518-4e17-8ff5-c8fd3d4a5b86.gz.parquet</td><td>9015885</td></tr><tr><td>dbfs:/databricks-datasets/wikipedia-datasets/data-001/en_wikipedia/articles-only-parquet/part-r-00713-ff5bbd4d-6518-4e17-8ff5-c8fd3d4a5b86.gz.parquet</td><td>part-r-00713-ff5bbd4d-6518-4e17-8ff5-c8fd3d4a5b86.gz.parquet</td><td>9227635</td></tr><tr><td>dbfs:/databricks-datasets/wikipedia-datasets/data-001/en_wikipedia/articles-only-parquet/part-r-00714-ff5bbd4d-6518-4e17-8ff5-c8fd3d4a5b86.gz.parquet</td><td>part-r-00714-ff5bbd4d-6518-4e17-8ff5-c8fd3d4a5b86.gz.parquet</td><td>9152704</td></tr><tr><td>dbfs:/databricks-datasets/wikipedia-datasets/data-001/en_wikipedia/articles-only-parquet/part-r-00715-ff5bbd4d-6518-4e17-8ff5-c8fd3d4a5b86.gz.parquet</td><td>part-r-00715-ff5bbd4d-6518-4e17-8ff5-c8fd3d4a5b86.gz.parquet</td><td>13462766</td></tr><tr><td>dbfs:/databricks-datasets/wikipedia-datasets/data-001/en_wikipedia/articles-only-parquet/part-r-00716-ff5bbd4d-6518-4e17-8ff5-c8fd3d4a5b86.gz.parquet</td><td>part-r-00716-ff5bbd4d-6518-4e17-8ff5-c8fd3d4a5b86.gz.parquet</td><td>7837638</td></tr><tr><td>dbfs:/databricks-datasets/wikipedia-datasets/data-001/en_wikipedia/articles-only-parquet/part-r-00717-ff5bbd4d-6518-4e17-8ff5-c8fd3d4a5b86.gz.parquet</td><td>part-r-00717-ff5bbd4d-6518-4e17-8ff5-c8fd3d4a5b86.gz.parquet</td><td>13490055</td></tr><tr><td>dbfs:/databricks-datasets/wikipedia-datasets/data-001/en_wikipedia/articles-only-parquet/part-r-00718-ff5bbd4d-6518-4e17-8ff5-c8fd3d4a5b86.gz.parquet</td><td>part-r-00718-ff5bbd4d-6518-4e17-8ff5-c8fd3d4a5b86.gz.parquet</td><td>8473429</td></tr><tr><td>dbfs:/databricks-datasets/wikipedia-datasets/data-001/en_wikipedia/articles-only-parquet/part-r-00719-ff5bbd4d-6518-4e17-8ff5-c8fd3d4a5b86.gz.parquet</td><td>part-r-00719-ff5bbd4d-6518-4e17-8ff5-c8fd3d4a5b86.gz.parquet</td><td>6631106</td></tr><tr><td>dbfs:/databricks-datasets/wikipedia-datasets/data-001/en_wikipedia/articles-only-parquet/part-r-00720-ff5bbd4d-6518-4e17-8ff5-c8fd3d4a5b86.gz.parquet</td><td>part-r-00720-ff5bbd4d-6518-4e17-8ff5-c8fd3d4a5b86.gz.parquet</td><td>9510178</td></tr><tr><td>dbfs:/databricks-datasets/wikipedia-datasets/data-001/en_wikipedia/articles-only-parquet/part-r-00721-ff5bbd4d-6518-4e17-8ff5-c8fd3d4a5b86.gz.parquet</td><td>part-r-00721-ff5bbd4d-6518-4e17-8ff5-c8fd3d4a5b86.gz.parquet</td><td>12695167</td></tr><tr><td>dbfs:/databricks-datasets/wikipedia-datasets/data-001/en_wikipedia/articles-only-parquet/part-r-00722-ff5bbd4d-6518-4e17-8ff5-c8fd3d4a5b86.gz.parquet</td><td>part-r-00722-ff5bbd4d-6518-4e17-8ff5-c8fd3d4a5b86.gz.parquet</td><td>8723279</td></tr><tr><td>dbfs:/databricks-datasets/wikipedia-datasets/data-001/en_wikipedia/articles-only-parquet/part-r-00723-ff5bbd4d-6518-4e17-8ff5-c8fd3d4a5b86.gz.parquet</td><td>part-r-00723-ff5bbd4d-6518-4e17-8ff5-c8fd3d4a5b86.gz.parquet</td><td>8579406</td></tr><tr><td>dbfs:/databricks-datasets/wikipedia-datasets/data-001/en_wikipedia/articles-only-parquet/part-r-00724-ff5bbd4d-6518-4e17-8ff5-c8fd3d4a5b86.gz.parquet</td><td>part-r-00724-ff5bbd4d-6518-4e17-8ff5-c8fd3d4a5b86.gz.parquet</td><td>10534580</td></tr><tr><td>dbfs:/databricks-datasets/wikipedia-datasets/data-001/en_wikipedia/articles-only-parquet/part-r-00725-ff5bbd4d-6518-4e17-8ff5-c8fd3d4a5b86.gz.parquet</td><td>part-r-00725-ff5bbd4d-6518-4e17-8ff5-c8fd3d4a5b86.gz.parquet</td><td>15292483</td></tr><tr><td>dbfs:/databricks-datasets/wikipedia-datasets/data-001/en_wikipedia/articles-only-parquet/part-r-00726-ff5bbd4d-6518-4e17-8ff5-c8fd3d4a5b86.gz.parquet</td><td>part-r-00726-ff5bbd4d-6518-4e17-8ff5-c8fd3d4a5b86.gz.parquet</td><td>14724101</td></tr><tr><td>dbfs:/databricks-datasets/wikipedia-datasets/data-001/en_wikipedia/articles-only-parquet/part-r-00727-ff5bbd4d-6518-4e17-8ff5-c8fd3d4a5b86.gz.parquet</td><td>part-r-00727-ff5bbd4d-6518-4e17-8ff5-c8fd3d4a5b86.gz.parquet</td><td>10196923</td></tr><tr><td>dbfs:/databricks-datasets/wikipedia-datasets/data-001/en_wikipedia/articles-only-parquet/part-r-00728-ff5bbd4d-6518-4e17-8ff5-c8fd3d4a5b86.gz.parquet</td><td>part-r-00728-ff5bbd4d-6518-4e17-8ff5-c8fd3d4a5b86.gz.parquet</td><td>15985561</td></tr><tr><td>dbfs:/databricks-datasets/wikipedia-datasets/data-001/en_wikipedia/articles-only-parquet/part-r-00729-ff5bbd4d-6518-4e17-8ff5-c8fd3d4a5b86.gz.parquet</td><td>part-r-00729-ff5bbd4d-6518-4e17-8ff5-c8fd3d4a5b86.gz.parquet</td><td>8684964</td></tr><tr><td>dbfs:/databricks-datasets/wikipedia-datasets/data-001/en_wikipedia/articles-only-parquet/part-r-00730-ff5bbd4d-6518-4e17-8ff5-c8fd3d4a5b86.gz.parquet</td><td>part-r-00730-ff5bbd4d-6518-4e17-8ff5-c8fd3d4a5b86.gz.parquet</td><td>11230208</td></tr><tr><td>dbfs:/databricks-datasets/wikipedia-datasets/data-001/en_wikipedia/articles-only-parquet/part-r-00731-ff5bbd4d-6518-4e17-8ff5-c8fd3d4a5b86.gz.parquet</td><td>part-r-00731-ff5bbd4d-6518-4e17-8ff5-c8fd3d4a5b86.gz.parquet</td><td>9326932</td></tr><tr><td>dbfs:/databricks-datasets/wikipedia-datasets/data-001/en_wikipedia/articles-only-parquet/part-r-00732-ff5bbd4d-6518-4e17-8ff5-c8fd3d4a5b86.gz.parquet</td><td>part-r-00732-ff5bbd4d-6518-4e17-8ff5-c8fd3d4a5b86.gz.parquet</td><td>7361208</td></tr><tr><td>dbfs:/databricks-datasets/wikipedia-datasets/data-001/en_wikipedia/articles-only-parquet/part-r-00733-ff5bbd4d-6518-4e17-8ff5-c8fd3d4a5b86.gz.parquet</td><td>part-r-00733-ff5bbd4d-6518-4e17-8ff5-c8fd3d4a5b86.gz.parquet</td><td>9029489</td></tr><tr><td>dbfs:/databricks-datasets/wikipedia-datasets/data-001/en_wikipedia/articles-only-parquet/part-r-00734-ff5bbd4d-6518-4e17-8ff5-c8fd3d4a5b86.gz.parquet</td><td>part-r-00734-ff5bbd4d-6518-4e17-8ff5-c8fd3d4a5b86.gz.parquet</td><td>8901676</td></tr><tr><td>dbfs:/databricks-datasets/wikipedia-datasets/data-001/en_wikipedia/articles-only-parquet/part-r-00735-ff5bbd4d-6518-4e17-8ff5-c8fd3d4a5b86.gz.parquet</td><td>part-r-00735-ff5bbd4d-6518-4e17-8ff5-c8fd3d4a5b86.gz.parquet</td><td>8811394</td></tr><tr><td>dbfs:/databricks-datasets/wikipedia-datasets/data-001/en_wikipedia/articles-only-parquet/part-r-00736-ff5bbd4d-6518-4e17-8ff5-c8fd3d4a5b86.gz.parquet</td><td>part-r-00736-ff5bbd4d-6518-4e17-8ff5-c8fd3d4a5b86.gz.parquet</td><td>11095041</td></tr><tr><td>dbfs:/databricks-datasets/wikipedia-datasets/data-001/en_wikipedia/articles-only-parquet/part-r-00737-ff5bbd4d-6518-4e17-8ff5-c8fd3d4a5b86.gz.parquet</td><td>part-r-00737-ff5bbd4d-6518-4e17-8ff5-c8fd3d4a5b86.gz.parquet</td><td>9612495</td></tr><tr><td>dbfs:/databricks-datasets/wikipedia-datasets/data-001/en_wikipedia/articles-only-parquet/part-r-00738-ff5bbd4d-6518-4e17-8ff5-c8fd3d4a5b86.gz.parquet</td><td>part-r-00738-ff5bbd4d-6518-4e17-8ff5-c8fd3d4a5b86.gz.parquet</td><td>8977218</td></tr><tr><td>dbfs:/databricks-datasets/wikipedia-datasets/data-001/en_wikipedia/articles-only-parquet/part-r-00739-ff5bbd4d-6518-4e17-8ff5-c8fd3d4a5b86.gz.parquet</td><td>part-r-00739-ff5bbd4d-6518-4e17-8ff5-c8fd3d4a5b86.gz.parquet</td><td>8487700</td></tr><tr><td>dbfs:/databricks-datasets/wikipedia-datasets/data-001/en_wikipedia/articles-only-parquet/part-r-00740-ff5bbd4d-6518-4e17-8ff5-c8fd3d4a5b86.gz.parquet</td><td>part-r-00740-ff5bbd4d-6518-4e17-8ff5-c8fd3d4a5b86.gz.parquet</td><td>13776872</td></tr><tr><td>dbfs:/databricks-datasets/wikipedia-datasets/data-001/en_wikipedia/articles-only-parquet/part-r-00741-ff5bbd4d-6518-4e17-8ff5-c8fd3d4a5b86.gz.parquet</td><td>part-r-00741-ff5bbd4d-6518-4e17-8ff5-c8fd3d4a5b86.gz.parquet</td><td>9392699</td></tr><tr><td>dbfs:/databricks-datasets/wikipedia-datasets/data-001/en_wikipedia/articles-only-parquet/part-r-00742-ff5bbd4d-6518-4e17-8ff5-c8fd3d4a5b86.gz.parquet</td><td>part-r-00742-ff5bbd4d-6518-4e17-8ff5-c8fd3d4a5b86.gz.parquet</td><td>14465517</td></tr><tr><td>dbfs:/databricks-datasets/wikipedia-datasets/data-001/en_wikipedia/articles-only-parquet/part-r-00743-ff5bbd4d-6518-4e17-8ff5-c8fd3d4a5b86.gz.parquet</td><td>part-r-00743-ff5bbd4d-6518-4e17-8ff5-c8fd3d4a5b86.gz.parquet</td><td>9315073</td></tr><tr><td>dbfs:/databricks-datasets/wikipedia-datasets/data-001/en_wikipedia/articles-only-parquet/part-r-00744-ff5bbd4d-6518-4e17-8ff5-c8fd3d4a5b86.gz.parquet</td><td>part-r-00744-ff5bbd4d-6518-4e17-8ff5-c8fd3d4a5b86.gz.parquet</td><td>9141673</td></tr><tr><td>dbfs:/databricks-datasets/wikipedia-datasets/data-001/en_wikipedia/articles-only-parquet/part-r-00745-ff5bbd4d-6518-4e17-8ff5-c8fd3d4a5b86.gz.parquet</td><td>part-r-00745-ff5bbd4d-6518-4e17-8ff5-c8fd3d4a5b86.gz.parquet</td><td>9045862</td></tr><tr><td>dbfs:/databricks-datasets/wikipedia-datasets/data-001/en_wikipedia/articles-only-parquet/part-r-00746-ff5bbd4d-6518-4e17-8ff5-c8fd3d4a5b86.gz.parquet</td><td>part-r-00746-ff5bbd4d-6518-4e17-8ff5-c8fd3d4a5b86.gz.parquet</td><td>9410650</td></tr><tr><td>dbfs:/databricks-datasets/wikipedia-datasets/data-001/en_wikipedia/articles-only-parquet/part-r-00747-ff5bbd4d-6518-4e17-8ff5-c8fd3d4a5b86.gz.parquet</td><td>part-r-00747-ff5bbd4d-6518-4e17-8ff5-c8fd3d4a5b86.gz.parquet</td><td>12349398</td></tr><tr><td>dbfs:/databricks-datasets/wikipedia-datasets/data-001/en_wikipedia/articles-only-parquet/part-r-00748-ff5bbd4d-6518-4e17-8ff5-c8fd3d4a5b86.gz.parquet</td><td>part-r-00748-ff5bbd4d-6518-4e17-8ff5-c8fd3d4a5b86.gz.parquet</td><td>10060725</td></tr><tr><td>dbfs:/databricks-datasets/wikipedia-datasets/data-001/en_wikipedia/articles-only-parquet/part-r-00749-ff5bbd4d-6518-4e17-8ff5-c8fd3d4a5b86.gz.parquet</td><td>part-r-00749-ff5bbd4d-6518-4e17-8ff5-c8fd3d4a5b86.gz.parquet</td><td>16081801</td></tr><tr><td>dbfs:/databricks-datasets/wikipedia-datasets/data-001/en_wikipedia/articles-only-parquet/part-r-00750-ff5bbd4d-6518-4e17-8ff5-c8fd3d4a5b86.gz.parquet</td><td>part-r-00750-ff5bbd4d-6518-4e17-8ff5-c8fd3d4a5b86.gz.parquet</td><td>9300719</td></tr><tr><td>dbfs:/databricks-datasets/wikipedia-datasets/data-001/en_wikipedia/articles-only-parquet/part-r-00751-ff5bbd4d-6518-4e17-8ff5-c8fd3d4a5b86.gz.parquet</td><td>part-r-00751-ff5bbd4d-6518-4e17-8ff5-c8fd3d4a5b86.gz.parquet</td><td>8248842</td></tr><tr><td>dbfs:/databricks-datasets/wikipedia-datasets/data-001/en_wikipedia/articles-only-parquet/part-r-00752-ff5bbd4d-6518-4e17-8ff5-c8fd3d4a5b86.gz.parquet</td><td>part-r-00752-ff5bbd4d-6518-4e17-8ff5-c8fd3d4a5b86.gz.parquet</td><td>8434990</td></tr><tr><td>dbfs:/databricks-datasets/wikipedia-datasets/data-001/en_wikipedia/articles-only-parquet/part-r-00753-ff5bbd4d-6518-4e17-8ff5-c8fd3d4a5b86.gz.parquet</td><td>part-r-00753-ff5bbd4d-6518-4e17-8ff5-c8fd3d4a5b86.gz.parquet</td><td>8405334</td></tr><tr><td>dbfs:/databricks-datasets/wikipedia-datasets/data-001/en_wikipedia/articles-only-parquet/part-r-00754-ff5bbd4d-6518-4e17-8ff5-c8fd3d4a5b86.gz.parquet</td><td>part-r-00754-ff5bbd4d-6518-4e17-8ff5-c8fd3d4a5b86.gz.parquet</td><td>19882164</td></tr><tr><td>dbfs:/databricks-datasets/wikipedia-datasets/data-001/en_wikipedia/articles-only-parquet/part-r-00755-ff5bbd4d-6518-4e17-8ff5-c8fd3d4a5b86.gz.parquet</td><td>part-r-00755-ff5bbd4d-6518-4e17-8ff5-c8fd3d4a5b86.gz.parquet</td><td>4845988</td></tr><tr><td>dbfs:/databricks-datasets/wikipedia-datasets/data-001/en_wikipedia/articles-only-parquet/part-r-00756-ff5bbd4d-6518-4e17-8ff5-c8fd3d4a5b86.gz.parquet</td><td>part-r-00756-ff5bbd4d-6518-4e17-8ff5-c8fd3d4a5b86.gz.parquet</td><td>7741004</td></tr><tr><td>dbfs:/databricks-datasets/wikipedia-datasets/data-001/en_wikipedia/articles-only-parquet/part-r-00757-ff5bbd4d-6518-4e17-8ff5-c8fd3d4a5b86.gz.parquet</td><td>part-r-00757-ff5bbd4d-6518-4e17-8ff5-c8fd3d4a5b86.gz.parquet</td><td>9409767</td></tr><tr><td>dbfs:/databricks-datasets/wikipedia-datasets/data-001/en_wikipedia/articles-only-parquet/part-r-00758-ff5bbd4d-6518-4e17-8ff5-c8fd3d4a5b86.gz.parquet</td><td>part-r-00758-ff5bbd4d-6518-4e17-8ff5-c8fd3d4a5b86.gz.parquet</td><td>9212147</td></tr><tr><td>dbfs:/databricks-datasets/wikipedia-datasets/data-001/en_wikipedia/articles-only-parquet/part-r-00759-ff5bbd4d-6518-4e17-8ff5-c8fd3d4a5b86.gz.parquet</td><td>part-r-00759-ff5bbd4d-6518-4e17-8ff5-c8fd3d4a5b86.gz.parquet</td><td>8636346</td></tr><tr><td>dbfs:/databricks-datasets/wikipedia-datasets/data-001/en_wikipedia/articles-only-parquet/part-r-00760-ff5bbd4d-6518-4e17-8ff5-c8fd3d4a5b86.gz.parquet</td><td>part-r-00760-ff5bbd4d-6518-4e17-8ff5-c8fd3d4a5b86.gz.parquet</td><td>9926257</td></tr><tr><td>dbfs:/databricks-datasets/wikipedia-datasets/data-001/en_wikipedia/articles-only-parquet/part-r-00761-ff5bbd4d-6518-4e17-8ff5-c8fd3d4a5b86.gz.parquet</td><td>part-r-00761-ff5bbd4d-6518-4e17-8ff5-c8fd3d4a5b86.gz.parquet</td><td>8528378</td></tr><tr><td>dbfs:/databricks-datasets/wikipedia-datasets/data-001/en_wikipedia/articles-only-parquet/part-r-00762-ff5bbd4d-6518-4e17-8ff5-c8fd3d4a5b86.gz.parquet</td><td>part-r-00762-ff5bbd4d-6518-4e17-8ff5-c8fd3d4a5b86.gz.parquet</td><td>9580876</td></tr><tr><td>dbfs:/databricks-datasets/wikipedia-datasets/data-001/en_wikipedia/articles-only-parquet/part-r-00763-ff5bbd4d-6518-4e17-8ff5-c8fd3d4a5b86.gz.parquet</td><td>part-r-00763-ff5bbd4d-6518-4e17-8ff5-c8fd3d4a5b86.gz.parquet</td><td>8322051</td></tr><tr><td>dbfs:/databricks-datasets/wikipedia-datasets/data-001/en_wikipedia/articles-only-parquet/part-r-00764-ff5bbd4d-6518-4e17-8ff5-c8fd3d4a5b86.gz.parquet</td><td>part-r-00764-ff5bbd4d-6518-4e17-8ff5-c8fd3d4a5b86.gz.parquet</td><td>9632798</td></tr><tr><td>dbfs:/databricks-datasets/wikipedia-datasets/data-001/en_wikipedia/articles-only-parquet/part-r-00765-ff5bbd4d-6518-4e17-8ff5-c8fd3d4a5b86.gz.parquet</td><td>part-r-00765-ff5bbd4d-6518-4e17-8ff5-c8fd3d4a5b86.gz.parquet</td><td>10357188</td></tr><tr><td>dbfs:/databricks-datasets/wikipedia-datasets/data-001/en_wikipedia/articles-only-parquet/part-r-00766-ff5bbd4d-6518-4e17-8ff5-c8fd3d4a5b86.gz.parquet</td><td>part-r-00766-ff5bbd4d-6518-4e17-8ff5-c8fd3d4a5b86.gz.parquet</td><td>11283932</td></tr><tr><td>dbfs:/databricks-datasets/wikipedia-datasets/data-001/en_wikipedia/articles-only-parquet/part-r-00767-ff5bbd4d-6518-4e17-8ff5-c8fd3d4a5b86.gz.parquet</td><td>part-r-00767-ff5bbd4d-6518-4e17-8ff5-c8fd3d4a5b86.gz.parquet</td><td>7864855</td></tr><tr><td>dbfs:/databricks-datasets/wikipedia-datasets/data-001/en_wikipedia/articles-only-parquet/part-r-00768-ff5bbd4d-6518-4e17-8ff5-c8fd3d4a5b86.gz.parquet</td><td>part-r-00768-ff5bbd4d-6518-4e17-8ff5-c8fd3d4a5b86.gz.parquet</td><td>9690397</td></tr><tr><td>dbfs:/databricks-datasets/wikipedia-datasets/data-001/en_wikipedia/articles-only-parquet/part-r-00769-ff5bbd4d-6518-4e17-8ff5-c8fd3d4a5b86.gz.parquet</td><td>part-r-00769-ff5bbd4d-6518-4e17-8ff5-c8fd3d4a5b86.gz.parquet</td><td>12674361</td></tr><tr><td>dbfs:/databricks-datasets/wikipedia-datasets/data-001/en_wikipedia/articles-only-parquet/part-r-00770-ff5bbd4d-6518-4e17-8ff5-c8fd3d4a5b86.gz.parquet</td><td>part-r-00770-ff5bbd4d-6518-4e17-8ff5-c8fd3d4a5b86.gz.parquet</td><td>7615768</td></tr><tr><td>dbfs:/databricks-datasets/wikipedia-datasets/data-001/en_wikipedia/articles-only-parquet/part-r-00771-ff5bbd4d-6518-4e17-8ff5-c8fd3d4a5b86.gz.parquet</td><td>part-r-00771-ff5bbd4d-6518-4e17-8ff5-c8fd3d4a5b86.gz.parquet</td><td>15682207</td></tr><tr><td>dbfs:/databricks-datasets/wikipedia-datasets/data-001/en_wikipedia/articles-only-parquet/part-r-00772-ff5bbd4d-6518-4e17-8ff5-c8fd3d4a5b86.gz.parquet</td><td>part-r-00772-ff5bbd4d-6518-4e17-8ff5-c8fd3d4a5b86.gz.parquet</td><td>9247097</td></tr><tr><td>dbfs:/databricks-datasets/wikipedia-datasets/data-001/en_wikipedia/articles-only-parquet/part-r-00773-ff5bbd4d-6518-4e17-8ff5-c8fd3d4a5b86.gz.parquet</td><td>part-r-00773-ff5bbd4d-6518-4e17-8ff5-c8fd3d4a5b86.gz.parquet</td><td>9960853</td></tr><tr><td>dbfs:/databricks-datasets/wikipedia-datasets/data-001/en_wikipedia/articles-only-parquet/part-r-00774-ff5bbd4d-6518-4e17-8ff5-c8fd3d4a5b86.gz.parquet</td><td>part-r-00774-ff5bbd4d-6518-4e17-8ff5-c8fd3d4a5b86.gz.parquet</td><td>13827108</td></tr><tr><td>dbfs:/databricks-datasets/wikipedia-datasets/data-001/en_wikipedia/articles-only-parquet/part-r-00775-ff5bbd4d-6518-4e17-8ff5-c8fd3d4a5b86.gz.parquet</td><td>part-r-00775-ff5bbd4d-6518-4e17-8ff5-c8fd3d4a5b86.gz.parquet</td><td>9322801</td></tr><tr><td>dbfs:/databricks-datasets/wikipedia-datasets/data-001/en_wikipedia/articles-only-parquet/part-r-00776-ff5bbd4d-6518-4e17-8ff5-c8fd3d4a5b86.gz.parquet</td><td>part-r-00776-ff5bbd4d-6518-4e17-8ff5-c8fd3d4a5b86.gz.parquet</td><td>8223860</td></tr><tr><td>dbfs:/databricks-datasets/wikipedia-datasets/data-001/en_wikipedia/articles-only-parquet/part-r-00777-ff5bbd4d-6518-4e17-8ff5-c8fd3d4a5b86.gz.parquet</td><td>part-r-00777-ff5bbd4d-6518-4e17-8ff5-c8fd3d4a5b86.gz.parquet</td><td>15169512</td></tr><tr><td>dbfs:/databricks-datasets/wikipedia-datasets/data-001/en_wikipedia/articles-only-parquet/part-r-00778-ff5bbd4d-6518-4e17-8ff5-c8fd3d4a5b86.gz.parquet</td><td>part-r-00778-ff5bbd4d-6518-4e17-8ff5-c8fd3d4a5b86.gz.parquet</td><td>8542033</td></tr><tr><td>dbfs:/databricks-datasets/wikipedia-datasets/data-001/en_wikipedia/articles-only-parquet/part-r-00779-ff5bbd4d-6518-4e17-8ff5-c8fd3d4a5b86.gz.parquet</td><td>part-r-00779-ff5bbd4d-6518-4e17-8ff5-c8fd3d4a5b86.gz.parquet</td><td>9650911</td></tr><tr><td>dbfs:/databricks-datasets/wikipedia-datasets/data-001/en_wikipedia/articles-only-parquet/part-r-00780-ff5bbd4d-6518-4e17-8ff5-c8fd3d4a5b86.gz.parquet</td><td>part-r-00780-ff5bbd4d-6518-4e17-8ff5-c8fd3d4a5b86.gz.parquet</td><td>15681180</td></tr><tr><td>dbfs:/databricks-datasets/wikipedia-datasets/data-001/en_wikipedia/articles-only-parquet/part-r-00781-ff5bbd4d-6518-4e17-8ff5-c8fd3d4a5b86.gz.parquet</td><td>part-r-00781-ff5bbd4d-6518-4e17-8ff5-c8fd3d4a5b86.gz.parquet</td><td>9392888</td></tr><tr><td>dbfs:/databricks-datasets/wikipedia-datasets/data-001/en_wikipedia/articles-only-parquet/part-r-00782-ff5bbd4d-6518-4e17-8ff5-c8fd3d4a5b86.gz.parquet</td><td>part-r-00782-ff5bbd4d-6518-4e17-8ff5-c8fd3d4a5b86.gz.parquet</td><td>8934563</td></tr><tr><td>dbfs:/databricks-datasets/wikipedia-datasets/data-001/en_wikipedia/articles-only-parquet/part-r-00783-ff5bbd4d-6518-4e17-8ff5-c8fd3d4a5b86.gz.parquet</td><td>part-r-00783-ff5bbd4d-6518-4e17-8ff5-c8fd3d4a5b86.gz.parquet</td><td>8974472</td></tr><tr><td>dbfs:/databricks-datasets/wikipedia-datasets/data-001/en_wikipedia/articles-only-parquet/part-r-00784-ff5bbd4d-6518-4e17-8ff5-c8fd3d4a5b86.gz.parquet</td><td>part-r-00784-ff5bbd4d-6518-4e17-8ff5-c8fd3d4a5b86.gz.parquet</td><td>6474110</td></tr><tr><td>dbfs:/databricks-datasets/wikipedia-datasets/data-001/en_wikipedia/articles-only-parquet/part-r-00785-ff5bbd4d-6518-4e17-8ff5-c8fd3d4a5b86.gz.parquet</td><td>part-r-00785-ff5bbd4d-6518-4e17-8ff5-c8fd3d4a5b86.gz.parquet</td><td>8769909</td></tr><tr><td>dbfs:/databricks-datasets/wikipedia-datasets/data-001/en_wikipedia/articles-only-parquet/part-r-00786-ff5bbd4d-6518-4e17-8ff5-c8fd3d4a5b86.gz.parquet</td><td>part-r-00786-ff5bbd4d-6518-4e17-8ff5-c8fd3d4a5b86.gz.parquet</td><td>8302509</td></tr><tr><td>dbfs:/databricks-datasets/wikipedia-datasets/data-001/en_wikipedia/articles-only-parquet/part-r-00787-ff5bbd4d-6518-4e17-8ff5-c8fd3d4a5b86.gz.parquet</td><td>part-r-00787-ff5bbd4d-6518-4e17-8ff5-c8fd3d4a5b86.gz.parquet</td><td>7944619</td></tr><tr><td>dbfs:/databricks-datasets/wikipedia-datasets/data-001/en_wikipedia/articles-only-parquet/part-r-00788-ff5bbd4d-6518-4e17-8ff5-c8fd3d4a5b86.gz.parquet</td><td>part-r-00788-ff5bbd4d-6518-4e17-8ff5-c8fd3d4a5b86.gz.parquet</td><td>13006924</td></tr><tr><td>dbfs:/databricks-datasets/wikipedia-datasets/data-001/en_wikipedia/articles-only-parquet/part-r-00789-ff5bbd4d-6518-4e17-8ff5-c8fd3d4a5b86.gz.parquet</td><td>part-r-00789-ff5bbd4d-6518-4e17-8ff5-c8fd3d4a5b86.gz.parquet</td><td>13327567</td></tr><tr><td>dbfs:/databricks-datasets/wikipedia-datasets/data-001/en_wikipedia/articles-only-parquet/part-r-00790-ff5bbd4d-6518-4e17-8ff5-c8fd3d4a5b86.gz.parquet</td><td>part-r-00790-ff5bbd4d-6518-4e17-8ff5-c8fd3d4a5b86.gz.parquet</td><td>12917668</td></tr><tr><td>dbfs:/databricks-datasets/wikipedia-datasets/data-001/en_wikipedia/articles-only-parquet/part-r-00791-ff5bbd4d-6518-4e17-8ff5-c8fd3d4a5b86.gz.parquet</td><td>part-r-00791-ff5bbd4d-6518-4e17-8ff5-c8fd3d4a5b86.gz.parquet</td><td>10459637</td></tr><tr><td>dbfs:/databricks-datasets/wikipedia-datasets/data-001/en_wikipedia/articles-only-parquet/part-r-00792-ff5bbd4d-6518-4e17-8ff5-c8fd3d4a5b86.gz.parquet</td><td>part-r-00792-ff5bbd4d-6518-4e17-8ff5-c8fd3d4a5b86.gz.parquet</td><td>9764177</td></tr><tr><td>dbfs:/databricks-datasets/wikipedia-datasets/data-001/en_wikipedia/articles-only-parquet/part-r-00793-ff5bbd4d-6518-4e17-8ff5-c8fd3d4a5b86.gz.parquet</td><td>part-r-00793-ff5bbd4d-6518-4e17-8ff5-c8fd3d4a5b86.gz.parquet</td><td>13193224</td></tr><tr><td>dbfs:/databricks-datasets/wikipedia-datasets/data-001/en_wikipedia/articles-only-parquet/part-r-00794-ff5bbd4d-6518-4e17-8ff5-c8fd3d4a5b86.gz.parquet</td><td>part-r-00794-ff5bbd4d-6518-4e17-8ff5-c8fd3d4a5b86.gz.parquet</td><td>9296802</td></tr><tr><td>dbfs:/databricks-datasets/wikipedia-datasets/data-001/en_wikipedia/articles-only-parquet/part-r-00795-ff5bbd4d-6518-4e17-8ff5-c8fd3d4a5b86.gz.parquet</td><td>part-r-00795-ff5bbd4d-6518-4e17-8ff5-c8fd3d4a5b86.gz.parquet</td><td>9839411</td></tr><tr><td>dbfs:/databricks-datasets/wikipedia-datasets/data-001/en_wikipedia/articles-only-parquet/part-r-00796-ff5bbd4d-6518-4e17-8ff5-c8fd3d4a5b86.gz.parquet</td><td>part-r-00796-ff5bbd4d-6518-4e17-8ff5-c8fd3d4a5b86.gz.parquet</td><td>9650093</td></tr><tr><td>dbfs:/databricks-datasets/wikipedia-datasets/data-001/en_wikipedia/articles-only-parquet/part-r-00797-ff5bbd4d-6518-4e17-8ff5-c8fd3d4a5b86.gz.parquet</td><td>part-r-00797-ff5bbd4d-6518-4e17-8ff5-c8fd3d4a5b86.gz.parquet</td><td>17677968</td></tr><tr><td>dbfs:/databricks-datasets/wikipedia-datasets/data-001/en_wikipedia/articles-only-parquet/part-r-00798-ff5bbd4d-6518-4e17-8ff5-c8fd3d4a5b86.gz.parquet</td><td>part-r-00798-ff5bbd4d-6518-4e17-8ff5-c8fd3d4a5b86.gz.parquet</td><td>13688788</td></tr><tr><td>dbfs:/databricks-datasets/wikipedia-datasets/data-001/en_wikipedia/articles-only-parquet/part-r-00799-ff5bbd4d-6518-4e17-8ff5-c8fd3d4a5b86.gz.parquet</td><td>part-r-00799-ff5bbd4d-6518-4e17-8ff5-c8fd3d4a5b86.gz.parquet</td><td>20125968</td></tr><tr><td>dbfs:/databricks-datasets/wikipedia-datasets/data-001/en_wikipedia/articles-only-parquet/part-r-00800-ff5bbd4d-6518-4e17-8ff5-c8fd3d4a5b86.gz.parquet</td><td>part-r-00800-ff5bbd4d-6518-4e17-8ff5-c8fd3d4a5b86.gz.parquet</td><td>11735676</td></tr><tr><td>dbfs:/databricks-datasets/wikipedia-datasets/data-001/en_wikipedia/articles-only-parquet/part-r-00801-ff5bbd4d-6518-4e17-8ff5-c8fd3d4a5b86.gz.parquet</td><td>part-r-00801-ff5bbd4d-6518-4e17-8ff5-c8fd3d4a5b86.gz.parquet</td><td>9916755</td></tr><tr><td>dbfs:/databricks-datasets/wikipedia-datasets/data-001/en_wikipedia/articles-only-parquet/part-r-00802-ff5bbd4d-6518-4e17-8ff5-c8fd3d4a5b86.gz.parquet</td><td>part-r-00802-ff5bbd4d-6518-4e17-8ff5-c8fd3d4a5b86.gz.parquet</td><td>8947296</td></tr><tr><td>dbfs:/databricks-datasets/wikipedia-datasets/data-001/en_wikipedia/articles-only-parquet/part-r-00803-ff5bbd4d-6518-4e17-8ff5-c8fd3d4a5b86.gz.parquet</td><td>part-r-00803-ff5bbd4d-6518-4e17-8ff5-c8fd3d4a5b86.gz.parquet</td><td>9288956</td></tr><tr><td>dbfs:/databricks-datasets/wikipedia-datasets/data-001/en_wikipedia/articles-only-parquet/part-r-00804-ff5bbd4d-6518-4e17-8ff5-c8fd3d4a5b86.gz.parquet</td><td>part-r-00804-ff5bbd4d-6518-4e17-8ff5-c8fd3d4a5b86.gz.parquet</td><td>9867656</td></tr><tr><td>dbfs:/databricks-datasets/wikipedia-datasets/data-001/en_wikipedia/articles-only-parquet/part-r-00805-ff5bbd4d-6518-4e17-8ff5-c8fd3d4a5b86.gz.parquet</td><td>part-r-00805-ff5bbd4d-6518-4e17-8ff5-c8fd3d4a5b86.gz.parquet</td><td>8789545</td></tr><tr><td>dbfs:/databricks-datasets/wikipedia-datasets/data-001/en_wikipedia/articles-only-parquet/part-r-00806-ff5bbd4d-6518-4e17-8ff5-c8fd3d4a5b86.gz.parquet</td><td>part-r-00806-ff5bbd4d-6518-4e17-8ff5-c8fd3d4a5b86.gz.parquet</td><td>8799384</td></tr><tr><td>dbfs:/databricks-datasets/wikipedia-datasets/data-001/en_wikipedia/articles-only-parquet/part-r-00807-ff5bbd4d-6518-4e17-8ff5-c8fd3d4a5b86.gz.parquet</td><td>part-r-00807-ff5bbd4d-6518-4e17-8ff5-c8fd3d4a5b86.gz.parquet</td><td>8325379</td></tr><tr><td>dbfs:/databricks-datasets/wikipedia-datasets/data-001/en_wikipedia/articles-only-parquet/part-r-00808-ff5bbd4d-6518-4e17-8ff5-c8fd3d4a5b86.gz.parquet</td><td>part-r-00808-ff5bbd4d-6518-4e17-8ff5-c8fd3d4a5b86.gz.parquet</td><td>10389724</td></tr><tr><td>dbfs:/databricks-datasets/wikipedia-datasets/data-001/en_wikipedia/articles-only-parquet/part-r-00809-ff5bbd4d-6518-4e17-8ff5-c8fd3d4a5b86.gz.parquet</td><td>part-r-00809-ff5bbd4d-6518-4e17-8ff5-c8fd3d4a5b86.gz.parquet</td><td>8797887</td></tr><tr><td>dbfs:/databricks-datasets/wikipedia-datasets/data-001/en_wikipedia/articles-only-parquet/part-r-00810-ff5bbd4d-6518-4e17-8ff5-c8fd3d4a5b86.gz.parquet</td><td>part-r-00810-ff5bbd4d-6518-4e17-8ff5-c8fd3d4a5b86.gz.parquet</td><td>8797508</td></tr><tr><td>dbfs:/databricks-datasets/wikipedia-datasets/data-001/en_wikipedia/articles-only-parquet/part-r-00811-ff5bbd4d-6518-4e17-8ff5-c8fd3d4a5b86.gz.parquet</td><td>part-r-00811-ff5bbd4d-6518-4e17-8ff5-c8fd3d4a5b86.gz.parquet</td><td>6977979</td></tr><tr><td>dbfs:/databricks-datasets/wikipedia-datasets/data-001/en_wikipedia/articles-only-parquet/part-r-00812-ff5bbd4d-6518-4e17-8ff5-c8fd3d4a5b86.gz.parquet</td><td>part-r-00812-ff5bbd4d-6518-4e17-8ff5-c8fd3d4a5b86.gz.parquet</td><td>9817289</td></tr><tr><td>dbfs:/databricks-datasets/wikipedia-datasets/data-001/en_wikipedia/articles-only-parquet/part-r-00813-ff5bbd4d-6518-4e17-8ff5-c8fd3d4a5b86.gz.parquet</td><td>part-r-00813-ff5bbd4d-6518-4e17-8ff5-c8fd3d4a5b86.gz.parquet</td><td>8457752</td></tr><tr><td>dbfs:/databricks-datasets/wikipedia-datasets/data-001/en_wikipedia/articles-only-parquet/part-r-00814-ff5bbd4d-6518-4e17-8ff5-c8fd3d4a5b86.gz.parquet</td><td>part-r-00814-ff5bbd4d-6518-4e17-8ff5-c8fd3d4a5b86.gz.parquet</td><td>9396497</td></tr><tr><td>dbfs:/databricks-datasets/wikipedia-datasets/data-001/en_wikipedia/articles-only-parquet/part-r-00815-ff5bbd4d-6518-4e17-8ff5-c8fd3d4a5b86.gz.parquet</td><td>part-r-00815-ff5bbd4d-6518-4e17-8ff5-c8fd3d4a5b86.gz.parquet</td><td>8233626</td></tr><tr><td>dbfs:/databricks-datasets/wikipedia-datasets/data-001/en_wikipedia/articles-only-parquet/part-r-00816-ff5bbd4d-6518-4e17-8ff5-c8fd3d4a5b86.gz.parquet</td><td>part-r-00816-ff5bbd4d-6518-4e17-8ff5-c8fd3d4a5b86.gz.parquet</td><td>15842623</td></tr><tr><td>dbfs:/databricks-datasets/wikipedia-datasets/data-001/en_wikipedia/articles-only-parquet/part-r-00817-ff5bbd4d-6518-4e17-8ff5-c8fd3d4a5b86.gz.parquet</td><td>part-r-00817-ff5bbd4d-6518-4e17-8ff5-c8fd3d4a5b86.gz.parquet</td><td>9822010</td></tr><tr><td>dbfs:/databricks-datasets/wikipedia-datasets/data-001/en_wikipedia/articles-only-parquet/part-r-00818-ff5bbd4d-6518-4e17-8ff5-c8fd3d4a5b86.gz.parquet</td><td>part-r-00818-ff5bbd4d-6518-4e17-8ff5-c8fd3d4a5b86.gz.parquet</td><td>9580361</td></tr><tr><td>dbfs:/databricks-datasets/wikipedia-datasets/data-001/en_wikipedia/articles-only-parquet/part-r-00819-ff5bbd4d-6518-4e17-8ff5-c8fd3d4a5b86.gz.parquet</td><td>part-r-00819-ff5bbd4d-6518-4e17-8ff5-c8fd3d4a5b86.gz.parquet</td><td>9723748</td></tr><tr><td>dbfs:/databricks-datasets/wikipedia-datasets/data-001/en_wikipedia/articles-only-parquet/part-r-00820-ff5bbd4d-6518-4e17-8ff5-c8fd3d4a5b86.gz.parquet</td><td>part-r-00820-ff5bbd4d-6518-4e17-8ff5-c8fd3d4a5b86.gz.parquet</td><td>8370359</td></tr><tr><td>dbfs:/databricks-datasets/wikipedia-datasets/data-001/en_wikipedia/articles-only-parquet/part-r-00821-ff5bbd4d-6518-4e17-8ff5-c8fd3d4a5b86.gz.parquet</td><td>part-r-00821-ff5bbd4d-6518-4e17-8ff5-c8fd3d4a5b86.gz.parquet</td><td>21107830</td></tr><tr><td>dbfs:/databricks-datasets/wikipedia-datasets/data-001/en_wikipedia/articles-only-parquet/part-r-00822-ff5bbd4d-6518-4e17-8ff5-c8fd3d4a5b86.gz.parquet</td><td>part-r-00822-ff5bbd4d-6518-4e17-8ff5-c8fd3d4a5b86.gz.parquet</td><td>8991066</td></tr><tr><td>dbfs:/databricks-datasets/wikipedia-datasets/data-001/en_wikipedia/articles-only-parquet/part-r-00823-ff5bbd4d-6518-4e17-8ff5-c8fd3d4a5b86.gz.parquet</td><td>part-r-00823-ff5bbd4d-6518-4e17-8ff5-c8fd3d4a5b86.gz.parquet</td><td>10189793</td></tr><tr><td>dbfs:/databricks-datasets/wikipedia-datasets/data-001/en_wikipedia/articles-only-parquet/part-r-00824-ff5bbd4d-6518-4e17-8ff5-c8fd3d4a5b86.gz.parquet</td><td>part-r-00824-ff5bbd4d-6518-4e17-8ff5-c8fd3d4a5b86.gz.parquet</td><td>8667928</td></tr><tr><td>dbfs:/databricks-datasets/wikipedia-datasets/data-001/en_wikipedia/articles-only-parquet/part-r-00825-ff5bbd4d-6518-4e17-8ff5-c8fd3d4a5b86.gz.parquet</td><td>part-r-00825-ff5bbd4d-6518-4e17-8ff5-c8fd3d4a5b86.gz.parquet</td><td>9076365</td></tr><tr><td>dbfs:/databricks-datasets/wikipedia-datasets/data-001/en_wikipedia/articles-only-parquet/part-r-00826-ff5bbd4d-6518-4e17-8ff5-c8fd3d4a5b86.gz.parquet</td><td>part-r-00826-ff5bbd4d-6518-4e17-8ff5-c8fd3d4a5b86.gz.parquet</td><td>7242801</td></tr><tr><td>dbfs:/databricks-datasets/wikipedia-datasets/data-001/en_wikipedia/articles-only-parquet/part-r-00827-ff5bbd4d-6518-4e17-8ff5-c8fd3d4a5b86.gz.parquet</td><td>part-r-00827-ff5bbd4d-6518-4e17-8ff5-c8fd3d4a5b86.gz.parquet</td><td>8655807</td></tr><tr><td>dbfs:/databricks-datasets/wikipedia-datasets/data-001/en_wikipedia/articles-only-parquet/part-r-00828-ff5bbd4d-6518-4e17-8ff5-c8fd3d4a5b86.gz.parquet</td><td>part-r-00828-ff5bbd4d-6518-4e17-8ff5-c8fd3d4a5b86.gz.parquet</td><td>8991676</td></tr><tr><td>dbfs:/databricks-datasets/wikipedia-datasets/data-001/en_wikipedia/articles-only-parquet/part-r-00829-ff5bbd4d-6518-4e17-8ff5-c8fd3d4a5b86.gz.parquet</td><td>part-r-00829-ff5bbd4d-6518-4e17-8ff5-c8fd3d4a5b86.gz.parquet</td><td>11570002</td></tr><tr><td>dbfs:/databricks-datasets/wikipedia-datasets/data-001/en_wikipedia/articles-only-parquet/part-r-00830-ff5bbd4d-6518-4e17-8ff5-c8fd3d4a5b86.gz.parquet</td><td>part-r-00830-ff5bbd4d-6518-4e17-8ff5-c8fd3d4a5b86.gz.parquet</td><td>5777707</td></tr><tr><td>dbfs:/databricks-datasets/wikipedia-datasets/data-001/en_wikipedia/articles-only-parquet/part-r-00831-ff5bbd4d-6518-4e17-8ff5-c8fd3d4a5b86.gz.parquet</td><td>part-r-00831-ff5bbd4d-6518-4e17-8ff5-c8fd3d4a5b86.gz.parquet</td><td>9755030</td></tr><tr><td>dbfs:/databricks-datasets/wikipedia-datasets/data-001/en_wikipedia/articles-only-parquet/part-r-00832-ff5bbd4d-6518-4e17-8ff5-c8fd3d4a5b86.gz.parquet</td><td>part-r-00832-ff5bbd4d-6518-4e17-8ff5-c8fd3d4a5b86.gz.parquet</td><td>8830888</td></tr><tr><td>dbfs:/databricks-datasets/wikipedia-datasets/data-001/en_wikipedia/articles-only-parquet/part-r-00833-ff5bbd4d-6518-4e17-8ff5-c8fd3d4a5b86.gz.parquet</td><td>part-r-00833-ff5bbd4d-6518-4e17-8ff5-c8fd3d4a5b86.gz.parquet</td><td>8785425</td></tr><tr><td>dbfs:/databricks-datasets/wikipedia-datasets/data-001/en_wikipedia/articles-only-parquet/part-r-00834-ff5bbd4d-6518-4e17-8ff5-c8fd3d4a5b86.gz.parquet</td><td>part-r-00834-ff5bbd4d-6518-4e17-8ff5-c8fd3d4a5b86.gz.parquet</td><td>16711756</td></tr><tr><td>dbfs:/databricks-datasets/wikipedia-datasets/data-001/en_wikipedia/articles-only-parquet/part-r-00835-ff5bbd4d-6518-4e17-8ff5-c8fd3d4a5b86.gz.parquet</td><td>part-r-00835-ff5bbd4d-6518-4e17-8ff5-c8fd3d4a5b86.gz.parquet</td><td>8169174</td></tr><tr><td>dbfs:/databricks-datasets/wikipedia-datasets/data-001/en_wikipedia/articles-only-parquet/part-r-00836-ff5bbd4d-6518-4e17-8ff5-c8fd3d4a5b86.gz.parquet</td><td>part-r-00836-ff5bbd4d-6518-4e17-8ff5-c8fd3d4a5b86.gz.parquet</td><td>9333239</td></tr><tr><td>dbfs:/databricks-datasets/wikipedia-datasets/data-001/en_wikipedia/articles-only-parquet/part-r-00837-ff5bbd4d-6518-4e17-8ff5-c8fd3d4a5b86.gz.parquet</td><td>part-r-00837-ff5bbd4d-6518-4e17-8ff5-c8fd3d4a5b86.gz.parquet</td><td>8081753</td></tr><tr><td>dbfs:/databricks-datasets/wikipedia-datasets/data-001/en_wikipedia/articles-only-parquet/part-r-00838-ff5bbd4d-6518-4e17-8ff5-c8fd3d4a5b86.gz.parquet</td><td>part-r-00838-ff5bbd4d-6518-4e17-8ff5-c8fd3d4a5b86.gz.parquet</td><td>9588115</td></tr><tr><td>dbfs:/databricks-datasets/wikipedia-datasets/data-001/en_wikipedia/articles-only-parquet/part-r-00839-ff5bbd4d-6518-4e17-8ff5-c8fd3d4a5b86.gz.parquet</td><td>part-r-00839-ff5bbd4d-6518-4e17-8ff5-c8fd3d4a5b86.gz.parquet</td><td>9430156</td></tr><tr><td>dbfs:/databricks-datasets/wikipedia-datasets/data-001/en_wikipedia/articles-only-parquet/part-r-00840-ff5bbd4d-6518-4e17-8ff5-c8fd3d4a5b86.gz.parquet</td><td>part-r-00840-ff5bbd4d-6518-4e17-8ff5-c8fd3d4a5b86.gz.parquet</td><td>13236419</td></tr><tr><td>dbfs:/databricks-datasets/wikipedia-datasets/data-001/en_wikipedia/articles-only-parquet/part-r-00841-ff5bbd4d-6518-4e17-8ff5-c8fd3d4a5b86.gz.parquet</td><td>part-r-00841-ff5bbd4d-6518-4e17-8ff5-c8fd3d4a5b86.gz.parquet</td><td>8332919</td></tr><tr><td>dbfs:/databricks-datasets/wikipedia-datasets/data-001/en_wikipedia/articles-only-parquet/part-r-00842-ff5bbd4d-6518-4e17-8ff5-c8fd3d4a5b86.gz.parquet</td><td>part-r-00842-ff5bbd4d-6518-4e17-8ff5-c8fd3d4a5b86.gz.parquet</td><td>9449042</td></tr><tr><td>dbfs:/databricks-datasets/wikipedia-datasets/data-001/en_wikipedia/articles-only-parquet/part-r-00843-ff5bbd4d-6518-4e17-8ff5-c8fd3d4a5b86.gz.parquet</td><td>part-r-00843-ff5bbd4d-6518-4e17-8ff5-c8fd3d4a5b86.gz.parquet</td><td>14349967</td></tr><tr><td>dbfs:/databricks-datasets/wikipedia-datasets/data-001/en_wikipedia/articles-only-parquet/part-r-00844-ff5bbd4d-6518-4e17-8ff5-c8fd3d4a5b86.gz.parquet</td><td>part-r-00844-ff5bbd4d-6518-4e17-8ff5-c8fd3d4a5b86.gz.parquet</td><td>11536265</td></tr><tr><td>dbfs:/databricks-datasets/wikipedia-datasets/data-001/en_wikipedia/articles-only-parquet/part-r-00845-ff5bbd4d-6518-4e17-8ff5-c8fd3d4a5b86.gz.parquet</td><td>part-r-00845-ff5bbd4d-6518-4e17-8ff5-c8fd3d4a5b86.gz.parquet</td><td>8384667</td></tr><tr><td>dbfs:/databricks-datasets/wikipedia-datasets/data-001/en_wikipedia/articles-only-parquet/part-r-00846-ff5bbd4d-6518-4e17-8ff5-c8fd3d4a5b86.gz.parquet</td><td>part-r-00846-ff5bbd4d-6518-4e17-8ff5-c8fd3d4a5b86.gz.parquet</td><td>12256793</td></tr><tr><td>dbfs:/databricks-datasets/wikipedia-datasets/data-001/en_wikipedia/articles-only-parquet/part-r-00847-ff5bbd4d-6518-4e17-8ff5-c8fd3d4a5b86.gz.parquet</td><td>part-r-00847-ff5bbd4d-6518-4e17-8ff5-c8fd3d4a5b86.gz.parquet</td><td>8483057</td></tr><tr><td>dbfs:/databricks-datasets/wikipedia-datasets/data-001/en_wikipedia/articles-only-parquet/part-r-00848-ff5bbd4d-6518-4e17-8ff5-c8fd3d4a5b86.gz.parquet</td><td>part-r-00848-ff5bbd4d-6518-4e17-8ff5-c8fd3d4a5b86.gz.parquet</td><td>9824687</td></tr><tr><td>dbfs:/databricks-datasets/wikipedia-datasets/data-001/en_wikipedia/articles-only-parquet/part-r-00849-ff5bbd4d-6518-4e17-8ff5-c8fd3d4a5b86.gz.parquet</td><td>part-r-00849-ff5bbd4d-6518-4e17-8ff5-c8fd3d4a5b86.gz.parquet</td><td>7042034</td></tr><tr><td>dbfs:/databricks-datasets/wikipedia-datasets/data-001/en_wikipedia/articles-only-parquet/part-r-00850-ff5bbd4d-6518-4e17-8ff5-c8fd3d4a5b86.gz.parquet</td><td>part-r-00850-ff5bbd4d-6518-4e17-8ff5-c8fd3d4a5b86.gz.parquet</td><td>7076953</td></tr><tr><td>dbfs:/databricks-datasets/wikipedia-datasets/data-001/en_wikipedia/articles-only-parquet/part-r-00851-ff5bbd4d-6518-4e17-8ff5-c8fd3d4a5b86.gz.parquet</td><td>part-r-00851-ff5bbd4d-6518-4e17-8ff5-c8fd3d4a5b86.gz.parquet</td><td>9401419</td></tr><tr><td>dbfs:/databricks-datasets/wikipedia-datasets/data-001/en_wikipedia/articles-only-parquet/part-r-00852-ff5bbd4d-6518-4e17-8ff5-c8fd3d4a5b86.gz.parquet</td><td>part-r-00852-ff5bbd4d-6518-4e17-8ff5-c8fd3d4a5b86.gz.parquet</td><td>5092583</td></tr><tr><td>dbfs:/databricks-datasets/wikipedia-datasets/data-001/en_wikipedia/articles-only-parquet/part-r-00853-ff5bbd4d-6518-4e17-8ff5-c8fd3d4a5b86.gz.parquet</td><td>part-r-00853-ff5bbd4d-6518-4e17-8ff5-c8fd3d4a5b86.gz.parquet</td><td>10393898</td></tr><tr><td>dbfs:/databricks-datasets/wikipedia-datasets/data-001/en_wikipedia/articles-only-parquet/part-r-00854-ff5bbd4d-6518-4e17-8ff5-c8fd3d4a5b86.gz.parquet</td><td>part-r-00854-ff5bbd4d-6518-4e17-8ff5-c8fd3d4a5b86.gz.parquet</td><td>8338904</td></tr><tr><td>dbfs:/databricks-datasets/wikipedia-datasets/data-001/en_wikipedia/articles-only-parquet/part-r-00855-ff5bbd4d-6518-4e17-8ff5-c8fd3d4a5b86.gz.parquet</td><td>part-r-00855-ff5bbd4d-6518-4e17-8ff5-c8fd3d4a5b86.gz.parquet</td><td>8548129</td></tr><tr><td>dbfs:/databricks-datasets/wikipedia-datasets/data-001/en_wikipedia/articles-only-parquet/part-r-00856-ff5bbd4d-6518-4e17-8ff5-c8fd3d4a5b86.gz.parquet</td><td>part-r-00856-ff5bbd4d-6518-4e17-8ff5-c8fd3d4a5b86.gz.parquet</td><td>9293057</td></tr><tr><td>dbfs:/databricks-datasets/wikipedia-datasets/data-001/en_wikipedia/articles-only-parquet/part-r-00857-ff5bbd4d-6518-4e17-8ff5-c8fd3d4a5b86.gz.parquet</td><td>part-r-00857-ff5bbd4d-6518-4e17-8ff5-c8fd3d4a5b86.gz.parquet</td><td>8614672</td></tr><tr><td>dbfs:/databricks-datasets/wikipedia-datasets/data-001/en_wikipedia/articles-only-parquet/part-r-00858-ff5bbd4d-6518-4e17-8ff5-c8fd3d4a5b86.gz.parquet</td><td>part-r-00858-ff5bbd4d-6518-4e17-8ff5-c8fd3d4a5b86.gz.parquet</td><td>8718912</td></tr><tr><td>dbfs:/databricks-datasets/wikipedia-datasets/data-001/en_wikipedia/articles-only-parquet/part-r-00859-ff5bbd4d-6518-4e17-8ff5-c8fd3d4a5b86.gz.parquet</td><td>part-r-00859-ff5bbd4d-6518-4e17-8ff5-c8fd3d4a5b86.gz.parquet</td><td>16582974</td></tr><tr><td>dbfs:/databricks-datasets/wikipedia-datasets/data-001/en_wikipedia/articles-only-parquet/part-r-00860-ff5bbd4d-6518-4e17-8ff5-c8fd3d4a5b86.gz.parquet</td><td>part-r-00860-ff5bbd4d-6518-4e17-8ff5-c8fd3d4a5b86.gz.parquet</td><td>17901283</td></tr><tr><td>dbfs:/databricks-datasets/wikipedia-datasets/data-001/en_wikipedia/articles-only-parquet/part-r-00861-ff5bbd4d-6518-4e17-8ff5-c8fd3d4a5b86.gz.parquet</td><td>part-r-00861-ff5bbd4d-6518-4e17-8ff5-c8fd3d4a5b86.gz.parquet</td><td>6889203</td></tr><tr><td>dbfs:/databricks-datasets/wikipedia-datasets/data-001/en_wikipedia/articles-only-parquet/part-r-00862-ff5bbd4d-6518-4e17-8ff5-c8fd3d4a5b86.gz.parquet</td><td>part-r-00862-ff5bbd4d-6518-4e17-8ff5-c8fd3d4a5b86.gz.parquet</td><td>11999988</td></tr><tr><td>dbfs:/databricks-datasets/wikipedia-datasets/data-001/en_wikipedia/articles-only-parquet/part-r-00863-ff5bbd4d-6518-4e17-8ff5-c8fd3d4a5b86.gz.parquet</td><td>part-r-00863-ff5bbd4d-6518-4e17-8ff5-c8fd3d4a5b86.gz.parquet</td><td>10504748</td></tr><tr><td>dbfs:/databricks-datasets/wikipedia-datasets/data-001/en_wikipedia/articles-only-parquet/part-r-00864-ff5bbd4d-6518-4e17-8ff5-c8fd3d4a5b86.gz.parquet</td><td>part-r-00864-ff5bbd4d-6518-4e17-8ff5-c8fd3d4a5b86.gz.parquet</td><td>9764326</td></tr><tr><td>dbfs:/databricks-datasets/wikipedia-datasets/data-001/en_wikipedia/articles-only-parquet/part-r-00865-ff5bbd4d-6518-4e17-8ff5-c8fd3d4a5b86.gz.parquet</td><td>part-r-00865-ff5bbd4d-6518-4e17-8ff5-c8fd3d4a5b86.gz.parquet</td><td>16722144</td></tr><tr><td>dbfs:/databricks-datasets/wikipedia-datasets/data-001/en_wikipedia/articles-only-parquet/part-r-00866-ff5bbd4d-6518-4e17-8ff5-c8fd3d4a5b86.gz.parquet</td><td>part-r-00866-ff5bbd4d-6518-4e17-8ff5-c8fd3d4a5b86.gz.parquet</td><td>9662666</td></tr><tr><td>dbfs:/databricks-datasets/wikipedia-datasets/data-001/en_wikipedia/articles-only-parquet/part-r-00867-ff5bbd4d-6518-4e17-8ff5-c8fd3d4a5b86.gz.parquet</td><td>part-r-00867-ff5bbd4d-6518-4e17-8ff5-c8fd3d4a5b86.gz.parquet</td><td>8341698</td></tr><tr><td>dbfs:/databricks-datasets/wikipedia-datasets/data-001/en_wikipedia/articles-only-parquet/part-r-00868-ff5bbd4d-6518-4e17-8ff5-c8fd3d4a5b86.gz.parquet</td><td>part-r-00868-ff5bbd4d-6518-4e17-8ff5-c8fd3d4a5b86.gz.parquet</td><td>9733992</td></tr><tr><td>dbfs:/databricks-datasets/wikipedia-datasets/data-001/en_wikipedia/articles-only-parquet/part-r-00869-ff5bbd4d-6518-4e17-8ff5-c8fd3d4a5b86.gz.parquet</td><td>part-r-00869-ff5bbd4d-6518-4e17-8ff5-c8fd3d4a5b86.gz.parquet</td><td>10099080</td></tr><tr><td>dbfs:/databricks-datasets/wikipedia-datasets/data-001/en_wikipedia/articles-only-parquet/part-r-00870-ff5bbd4d-6518-4e17-8ff5-c8fd3d4a5b86.gz.parquet</td><td>part-r-00870-ff5bbd4d-6518-4e17-8ff5-c8fd3d4a5b86.gz.parquet</td><td>8705538</td></tr><tr><td>dbfs:/databricks-datasets/wikipedia-datasets/data-001/en_wikipedia/articles-only-parquet/part-r-00871-ff5bbd4d-6518-4e17-8ff5-c8fd3d4a5b86.gz.parquet</td><td>part-r-00871-ff5bbd4d-6518-4e17-8ff5-c8fd3d4a5b86.gz.parquet</td><td>8091980</td></tr><tr><td>dbfs:/databricks-datasets/wikipedia-datasets/data-001/en_wikipedia/articles-only-parquet/part-r-00872-ff5bbd4d-6518-4e17-8ff5-c8fd3d4a5b86.gz.parquet</td><td>part-r-00872-ff5bbd4d-6518-4e17-8ff5-c8fd3d4a5b86.gz.parquet</td><td>9379410</td></tr><tr><td>dbfs:/databricks-datasets/wikipedia-datasets/data-001/en_wikipedia/articles-only-parquet/part-r-00873-ff5bbd4d-6518-4e17-8ff5-c8fd3d4a5b86.gz.parquet</td><td>part-r-00873-ff5bbd4d-6518-4e17-8ff5-c8fd3d4a5b86.gz.parquet</td><td>8689641</td></tr><tr><td>dbfs:/databricks-datasets/wikipedia-datasets/data-001/en_wikipedia/articles-only-parquet/part-r-00874-ff5bbd4d-6518-4e17-8ff5-c8fd3d4a5b86.gz.parquet</td><td>part-r-00874-ff5bbd4d-6518-4e17-8ff5-c8fd3d4a5b86.gz.parquet</td><td>10658639</td></tr><tr><td>dbfs:/databricks-datasets/wikipedia-datasets/data-001/en_wikipedia/articles-only-parquet/part-r-00875-ff5bbd4d-6518-4e17-8ff5-c8fd3d4a5b86.gz.parquet</td><td>part-r-00875-ff5bbd4d-6518-4e17-8ff5-c8fd3d4a5b86.gz.parquet</td><td>9749060</td></tr><tr><td>dbfs:/databricks-datasets/wikipedia-datasets/data-001/en_wikipedia/articles-only-parquet/part-r-00876-ff5bbd4d-6518-4e17-8ff5-c8fd3d4a5b86.gz.parquet</td><td>part-r-00876-ff5bbd4d-6518-4e17-8ff5-c8fd3d4a5b86.gz.parquet</td><td>9401467</td></tr><tr><td>dbfs:/databricks-datasets/wikipedia-datasets/data-001/en_wikipedia/articles-only-parquet/part-r-00877-ff5bbd4d-6518-4e17-8ff5-c8fd3d4a5b86.gz.parquet</td><td>part-r-00877-ff5bbd4d-6518-4e17-8ff5-c8fd3d4a5b86.gz.parquet</td><td>13242343</td></tr><tr><td>dbfs:/databricks-datasets/wikipedia-datasets/data-001/en_wikipedia/articles-only-parquet/part-r-00878-ff5bbd4d-6518-4e17-8ff5-c8fd3d4a5b86.gz.parquet</td><td>part-r-00878-ff5bbd4d-6518-4e17-8ff5-c8fd3d4a5b86.gz.parquet</td><td>9780680</td></tr><tr><td>dbfs:/databricks-datasets/wikipedia-datasets/data-001/en_wikipedia/articles-only-parquet/part-r-00879-ff5bbd4d-6518-4e17-8ff5-c8fd3d4a5b86.gz.parquet</td><td>part-r-00879-ff5bbd4d-6518-4e17-8ff5-c8fd3d4a5b86.gz.parquet</td><td>9018696</td></tr><tr><td>dbfs:/databricks-datasets/wikipedia-datasets/data-001/en_wikipedia/articles-only-parquet/part-r-00880-ff5bbd4d-6518-4e17-8ff5-c8fd3d4a5b86.gz.parquet</td><td>part-r-00880-ff5bbd4d-6518-4e17-8ff5-c8fd3d4a5b86.gz.parquet</td><td>11301817</td></tr><tr><td>dbfs:/databricks-datasets/wikipedia-datasets/data-001/en_wikipedia/articles-only-parquet/part-r-00881-ff5bbd4d-6518-4e17-8ff5-c8fd3d4a5b86.gz.parquet</td><td>part-r-00881-ff5bbd4d-6518-4e17-8ff5-c8fd3d4a5b86.gz.parquet</td><td>10027265</td></tr><tr><td>dbfs:/databricks-datasets/wikipedia-datasets/data-001/en_wikipedia/articles-only-parquet/part-r-00882-ff5bbd4d-6518-4e17-8ff5-c8fd3d4a5b86.gz.parquet</td><td>part-r-00882-ff5bbd4d-6518-4e17-8ff5-c8fd3d4a5b86.gz.parquet</td><td>18071904</td></tr><tr><td>dbfs:/databricks-datasets/wikipedia-datasets/data-001/en_wikipedia/articles-only-parquet/part-r-00883-ff5bbd4d-6518-4e17-8ff5-c8fd3d4a5b86.gz.parquet</td><td>part-r-00883-ff5bbd4d-6518-4e17-8ff5-c8fd3d4a5b86.gz.parquet</td><td>8862976</td></tr><tr><td>dbfs:/databricks-datasets/wikipedia-datasets/data-001/en_wikipedia/articles-only-parquet/part-r-00884-ff5bbd4d-6518-4e17-8ff5-c8fd3d4a5b86.gz.parquet</td><td>part-r-00884-ff5bbd4d-6518-4e17-8ff5-c8fd3d4a5b86.gz.parquet</td><td>9998800</td></tr><tr><td>dbfs:/databricks-datasets/wikipedia-datasets/data-001/en_wikipedia/articles-only-parquet/part-r-00885-ff5bbd4d-6518-4e17-8ff5-c8fd3d4a5b86.gz.parquet</td><td>part-r-00885-ff5bbd4d-6518-4e17-8ff5-c8fd3d4a5b86.gz.parquet</td><td>10001726</td></tr><tr><td>dbfs:/databricks-datasets/wikipedia-datasets/data-001/en_wikipedia/articles-only-parquet/part-r-00886-ff5bbd4d-6518-4e17-8ff5-c8fd3d4a5b86.gz.parquet</td><td>part-r-00886-ff5bbd4d-6518-4e17-8ff5-c8fd3d4a5b86.gz.parquet</td><td>10306960</td></tr><tr><td>dbfs:/databricks-datasets/wikipedia-datasets/data-001/en_wikipedia/articles-only-parquet/part-r-00887-ff5bbd4d-6518-4e17-8ff5-c8fd3d4a5b86.gz.parquet</td><td>part-r-00887-ff5bbd4d-6518-4e17-8ff5-c8fd3d4a5b86.gz.parquet</td><td>6784378</td></tr><tr><td>dbfs:/databricks-datasets/wikipedia-datasets/data-001/en_wikipedia/articles-only-parquet/part-r-00888-ff5bbd4d-6518-4e17-8ff5-c8fd3d4a5b86.gz.parquet</td><td>part-r-00888-ff5bbd4d-6518-4e17-8ff5-c8fd3d4a5b86.gz.parquet</td><td>8662266</td></tr><tr><td>dbfs:/databricks-datasets/wikipedia-datasets/data-001/en_wikipedia/articles-only-parquet/part-r-00889-ff5bbd4d-6518-4e17-8ff5-c8fd3d4a5b86.gz.parquet</td><td>part-r-00889-ff5bbd4d-6518-4e17-8ff5-c8fd3d4a5b86.gz.parquet</td><td>8384184</td></tr><tr><td>dbfs:/databricks-datasets/wikipedia-datasets/data-001/en_wikipedia/articles-only-parquet/part-r-00890-ff5bbd4d-6518-4e17-8ff5-c8fd3d4a5b86.gz.parquet</td><td>part-r-00890-ff5bbd4d-6518-4e17-8ff5-c8fd3d4a5b86.gz.parquet</td><td>8190136</td></tr><tr><td>dbfs:/databricks-datasets/wikipedia-datasets/data-001/en_wikipedia/articles-only-parquet/part-r-00891-ff5bbd4d-6518-4e17-8ff5-c8fd3d4a5b86.gz.parquet</td><td>part-r-00891-ff5bbd4d-6518-4e17-8ff5-c8fd3d4a5b86.gz.parquet</td><td>15614300</td></tr><tr><td>dbfs:/databricks-datasets/wikipedia-datasets/data-001/en_wikipedia/articles-only-parquet/part-r-00892-ff5bbd4d-6518-4e17-8ff5-c8fd3d4a5b86.gz.parquet</td><td>part-r-00892-ff5bbd4d-6518-4e17-8ff5-c8fd3d4a5b86.gz.parquet</td><td>9480212</td></tr><tr><td>dbfs:/databricks-datasets/wikipedia-datasets/data-001/en_wikipedia/articles-only-parquet/part-r-00893-ff5bbd4d-6518-4e17-8ff5-c8fd3d4a5b86.gz.parquet</td><td>part-r-00893-ff5bbd4d-6518-4e17-8ff5-c8fd3d4a5b86.gz.parquet</td><td>7017229</td></tr><tr><td>dbfs:/databricks-datasets/wikipedia-datasets/data-001/en_wikipedia/articles-only-parquet/part-r-00894-ff5bbd4d-6518-4e17-8ff5-c8fd3d4a5b86.gz.parquet</td><td>part-r-00894-ff5bbd4d-6518-4e17-8ff5-c8fd3d4a5b86.gz.parquet</td><td>17373857</td></tr><tr><td>dbfs:/databricks-datasets/wikipedia-datasets/data-001/en_wikipedia/articles-only-parquet/part-r-00895-ff5bbd4d-6518-4e17-8ff5-c8fd3d4a5b86.gz.parquet</td><td>part-r-00895-ff5bbd4d-6518-4e17-8ff5-c8fd3d4a5b86.gz.parquet</td><td>14767564</td></tr><tr><td>dbfs:/databricks-datasets/wikipedia-datasets/data-001/en_wikipedia/articles-only-parquet/part-r-00896-ff5bbd4d-6518-4e17-8ff5-c8fd3d4a5b86.gz.parquet</td><td>part-r-00896-ff5bbd4d-6518-4e17-8ff5-c8fd3d4a5b86.gz.parquet</td><td>11679693</td></tr><tr><td>dbfs:/databricks-datasets/wikipedia-datasets/data-001/en_wikipedia/articles-only-parquet/part-r-00897-ff5bbd4d-6518-4e17-8ff5-c8fd3d4a5b86.gz.parquet</td><td>part-r-00897-ff5bbd4d-6518-4e17-8ff5-c8fd3d4a5b86.gz.parquet</td><td>16382817</td></tr><tr><td>dbfs:/databricks-datasets/wikipedia-datasets/data-001/en_wikipedia/articles-only-parquet/part-r-00898-ff5bbd4d-6518-4e17-8ff5-c8fd3d4a5b86.gz.parquet</td><td>part-r-00898-ff5bbd4d-6518-4e17-8ff5-c8fd3d4a5b86.gz.parquet</td><td>13168949</td></tr><tr><td>dbfs:/databricks-datasets/wikipedia-datasets/data-001/en_wikipedia/articles-only-parquet/part-r-00899-ff5bbd4d-6518-4e17-8ff5-c8fd3d4a5b86.gz.parquet</td><td>part-r-00899-ff5bbd4d-6518-4e17-8ff5-c8fd3d4a5b86.gz.parquet</td><td>4087210</td></tr><tr><td>dbfs:/databricks-datasets/wikipedia-datasets/data-001/en_wikipedia/articles-only-parquet/part-r-00900-ff5bbd4d-6518-4e17-8ff5-c8fd3d4a5b86.gz.parquet</td><td>part-r-00900-ff5bbd4d-6518-4e17-8ff5-c8fd3d4a5b86.gz.parquet</td><td>8769829</td></tr><tr><td>dbfs:/databricks-datasets/wikipedia-datasets/data-001/en_wikipedia/articles-only-parquet/part-r-00901-ff5bbd4d-6518-4e17-8ff5-c8fd3d4a5b86.gz.parquet</td><td>part-r-00901-ff5bbd4d-6518-4e17-8ff5-c8fd3d4a5b86.gz.parquet</td><td>9653183</td></tr><tr><td>dbfs:/databricks-datasets/wikipedia-datasets/data-001/en_wikipedia/articles-only-parquet/part-r-00902-ff5bbd4d-6518-4e17-8ff5-c8fd3d4a5b86.gz.parquet</td><td>part-r-00902-ff5bbd4d-6518-4e17-8ff5-c8fd3d4a5b86.gz.parquet</td><td>8602612</td></tr><tr><td>dbfs:/databricks-datasets/wikipedia-datasets/data-001/en_wikipedia/articles-only-parquet/part-r-00903-ff5bbd4d-6518-4e17-8ff5-c8fd3d4a5b86.gz.parquet</td><td>part-r-00903-ff5bbd4d-6518-4e17-8ff5-c8fd3d4a5b86.gz.parquet</td><td>8220093</td></tr><tr><td>dbfs:/databricks-datasets/wikipedia-datasets/data-001/en_wikipedia/articles-only-parquet/part-r-00904-ff5bbd4d-6518-4e17-8ff5-c8fd3d4a5b86.gz.parquet</td><td>part-r-00904-ff5bbd4d-6518-4e17-8ff5-c8fd3d4a5b86.gz.parquet</td><td>8939768</td></tr><tr><td>dbfs:/databricks-datasets/wikipedia-datasets/data-001/en_wikipedia/articles-only-parquet/part-r-00905-ff5bbd4d-6518-4e17-8ff5-c8fd3d4a5b86.gz.parquet</td><td>part-r-00905-ff5bbd4d-6518-4e17-8ff5-c8fd3d4a5b86.gz.parquet</td><td>10479588</td></tr><tr><td>dbfs:/databricks-datasets/wikipedia-datasets/data-001/en_wikipedia/articles-only-parquet/part-r-00906-ff5bbd4d-6518-4e17-8ff5-c8fd3d4a5b86.gz.parquet</td><td>part-r-00906-ff5bbd4d-6518-4e17-8ff5-c8fd3d4a5b86.gz.parquet</td><td>8454930</td></tr><tr><td>dbfs:/databricks-datasets/wikipedia-datasets/data-001/en_wikipedia/articles-only-parquet/part-r-00907-ff5bbd4d-6518-4e17-8ff5-c8fd3d4a5b86.gz.parquet</td><td>part-r-00907-ff5bbd4d-6518-4e17-8ff5-c8fd3d4a5b86.gz.parquet</td><td>10369914</td></tr><tr><td>dbfs:/databricks-datasets/wikipedia-datasets/data-001/en_wikipedia/articles-only-parquet/part-r-00908-ff5bbd4d-6518-4e17-8ff5-c8fd3d4a5b86.gz.parquet</td><td>part-r-00908-ff5bbd4d-6518-4e17-8ff5-c8fd3d4a5b86.gz.parquet</td><td>8898145</td></tr><tr><td>dbfs:/databricks-datasets/wikipedia-datasets/data-001/en_wikipedia/articles-only-parquet/part-r-00909-ff5bbd4d-6518-4e17-8ff5-c8fd3d4a5b86.gz.parquet</td><td>part-r-00909-ff5bbd4d-6518-4e17-8ff5-c8fd3d4a5b86.gz.parquet</td><td>9041244</td></tr><tr><td>dbfs:/databricks-datasets/wikipedia-datasets/data-001/en_wikipedia/articles-only-parquet/part-r-00910-ff5bbd4d-6518-4e17-8ff5-c8fd3d4a5b86.gz.parquet</td><td>part-r-00910-ff5bbd4d-6518-4e17-8ff5-c8fd3d4a5b86.gz.parquet</td><td>5314420</td></tr><tr><td>dbfs:/databricks-datasets/wikipedia-datasets/data-001/en_wikipedia/articles-only-parquet/part-r-00911-ff5bbd4d-6518-4e17-8ff5-c8fd3d4a5b86.gz.parquet</td><td>part-r-00911-ff5bbd4d-6518-4e17-8ff5-c8fd3d4a5b86.gz.parquet</td><td>13601605</td></tr><tr><td>dbfs:/databricks-datasets/wikipedia-datasets/data-001/en_wikipedia/articles-only-parquet/part-r-00912-ff5bbd4d-6518-4e17-8ff5-c8fd3d4a5b86.gz.parquet</td><td>part-r-00912-ff5bbd4d-6518-4e17-8ff5-c8fd3d4a5b86.gz.parquet</td><td>7914138</td></tr><tr><td>dbfs:/databricks-datasets/wikipedia-datasets/data-001/en_wikipedia/articles-only-parquet/part-r-00913-ff5bbd4d-6518-4e17-8ff5-c8fd3d4a5b86.gz.parquet</td><td>part-r-00913-ff5bbd4d-6518-4e17-8ff5-c8fd3d4a5b86.gz.parquet</td><td>9091761</td></tr><tr><td>dbfs:/databricks-datasets/wikipedia-datasets/data-001/en_wikipedia/articles-only-parquet/part-r-00914-ff5bbd4d-6518-4e17-8ff5-c8fd3d4a5b86.gz.parquet</td><td>part-r-00914-ff5bbd4d-6518-4e17-8ff5-c8fd3d4a5b86.gz.parquet</td><td>8683480</td></tr><tr><td>dbfs:/databricks-datasets/wikipedia-datasets/data-001/en_wikipedia/articles-only-parquet/part-r-00915-ff5bbd4d-6518-4e17-8ff5-c8fd3d4a5b86.gz.parquet</td><td>part-r-00915-ff5bbd4d-6518-4e17-8ff5-c8fd3d4a5b86.gz.parquet</td><td>11271764</td></tr><tr><td>dbfs:/databricks-datasets/wikipedia-datasets/data-001/en_wikipedia/articles-only-parquet/part-r-00916-ff5bbd4d-6518-4e17-8ff5-c8fd3d4a5b86.gz.parquet</td><td>part-r-00916-ff5bbd4d-6518-4e17-8ff5-c8fd3d4a5b86.gz.parquet</td><td>9034131</td></tr><tr><td>dbfs:/databricks-datasets/wikipedia-datasets/data-001/en_wikipedia/articles-only-parquet/part-r-00917-ff5bbd4d-6518-4e17-8ff5-c8fd3d4a5b86.gz.parquet</td><td>part-r-00917-ff5bbd4d-6518-4e17-8ff5-c8fd3d4a5b86.gz.parquet</td><td>9166507</td></tr><tr><td>dbfs:/databricks-datasets/wikipedia-datasets/data-001/en_wikipedia/articles-only-parquet/part-r-00918-ff5bbd4d-6518-4e17-8ff5-c8fd3d4a5b86.gz.parquet</td><td>part-r-00918-ff5bbd4d-6518-4e17-8ff5-c8fd3d4a5b86.gz.parquet</td><td>8385693</td></tr><tr><td>dbfs:/databricks-datasets/wikipedia-datasets/data-001/en_wikipedia/articles-only-parquet/part-r-00919-ff5bbd4d-6518-4e17-8ff5-c8fd3d4a5b86.gz.parquet</td><td>part-r-00919-ff5bbd4d-6518-4e17-8ff5-c8fd3d4a5b86.gz.parquet</td><td>10420793</td></tr><tr><td>dbfs:/databricks-datasets/wikipedia-datasets/data-001/en_wikipedia/articles-only-parquet/part-r-00920-ff5bbd4d-6518-4e17-8ff5-c8fd3d4a5b86.gz.parquet</td><td>part-r-00920-ff5bbd4d-6518-4e17-8ff5-c8fd3d4a5b86.gz.parquet</td><td>4270514</td></tr><tr><td>dbfs:/databricks-datasets/wikipedia-datasets/data-001/en_wikipedia/articles-only-parquet/part-r-00921-ff5bbd4d-6518-4e17-8ff5-c8fd3d4a5b86.gz.parquet</td><td>part-r-00921-ff5bbd4d-6518-4e17-8ff5-c8fd3d4a5b86.gz.parquet</td><td>9729896</td></tr><tr><td>dbfs:/databricks-datasets/wikipedia-datasets/data-001/en_wikipedia/articles-only-parquet/part-r-00922-ff5bbd4d-6518-4e17-8ff5-c8fd3d4a5b86.gz.parquet</td><td>part-r-00922-ff5bbd4d-6518-4e17-8ff5-c8fd3d4a5b86.gz.parquet</td><td>9155420</td></tr><tr><td>dbfs:/databricks-datasets/wikipedia-datasets/data-001/en_wikipedia/articles-only-parquet/part-r-00923-ff5bbd4d-6518-4e17-8ff5-c8fd3d4a5b86.gz.parquet</td><td>part-r-00923-ff5bbd4d-6518-4e17-8ff5-c8fd3d4a5b86.gz.parquet</td><td>4670115</td></tr><tr><td>dbfs:/databricks-datasets/wikipedia-datasets/data-001/en_wikipedia/articles-only-parquet/part-r-00924-ff5bbd4d-6518-4e17-8ff5-c8fd3d4a5b86.gz.parquet</td><td>part-r-00924-ff5bbd4d-6518-4e17-8ff5-c8fd3d4a5b86.gz.parquet</td><td>10630656</td></tr><tr><td>dbfs:/databricks-datasets/wikipedia-datasets/data-001/en_wikipedia/articles-only-parquet/part-r-00925-ff5bbd4d-6518-4e17-8ff5-c8fd3d4a5b86.gz.parquet</td><td>part-r-00925-ff5bbd4d-6518-4e17-8ff5-c8fd3d4a5b86.gz.parquet</td><td>11875184</td></tr><tr><td>dbfs:/databricks-datasets/wikipedia-datasets/data-001/en_wikipedia/articles-only-parquet/part-r-00926-ff5bbd4d-6518-4e17-8ff5-c8fd3d4a5b86.gz.parquet</td><td>part-r-00926-ff5bbd4d-6518-4e17-8ff5-c8fd3d4a5b86.gz.parquet</td><td>15661102</td></tr><tr><td>dbfs:/databricks-datasets/wikipedia-datasets/data-001/en_wikipedia/articles-only-parquet/part-r-00927-ff5bbd4d-6518-4e17-8ff5-c8fd3d4a5b86.gz.parquet</td><td>part-r-00927-ff5bbd4d-6518-4e17-8ff5-c8fd3d4a5b86.gz.parquet</td><td>9472815</td></tr><tr><td>dbfs:/databricks-datasets/wikipedia-datasets/data-001/en_wikipedia/articles-only-parquet/part-r-00928-ff5bbd4d-6518-4e17-8ff5-c8fd3d4a5b86.gz.parquet</td><td>part-r-00928-ff5bbd4d-6518-4e17-8ff5-c8fd3d4a5b86.gz.parquet</td><td>9783537</td></tr><tr><td>dbfs:/databricks-datasets/wikipedia-datasets/data-001/en_wikipedia/articles-only-parquet/part-r-00929-ff5bbd4d-6518-4e17-8ff5-c8fd3d4a5b86.gz.parquet</td><td>part-r-00929-ff5bbd4d-6518-4e17-8ff5-c8fd3d4a5b86.gz.parquet</td><td>8617652</td></tr><tr><td>dbfs:/databricks-datasets/wikipedia-datasets/data-001/en_wikipedia/articles-only-parquet/part-r-00930-ff5bbd4d-6518-4e17-8ff5-c8fd3d4a5b86.gz.parquet</td><td>part-r-00930-ff5bbd4d-6518-4e17-8ff5-c8fd3d4a5b86.gz.parquet</td><td>5511270</td></tr><tr><td>dbfs:/databricks-datasets/wikipedia-datasets/data-001/en_wikipedia/articles-only-parquet/part-r-00931-ff5bbd4d-6518-4e17-8ff5-c8fd3d4a5b86.gz.parquet</td><td>part-r-00931-ff5bbd4d-6518-4e17-8ff5-c8fd3d4a5b86.gz.parquet</td><td>13715970</td></tr><tr><td>dbfs:/databricks-datasets/wikipedia-datasets/data-001/en_wikipedia/articles-only-parquet/part-r-00932-ff5bbd4d-6518-4e17-8ff5-c8fd3d4a5b86.gz.parquet</td><td>part-r-00932-ff5bbd4d-6518-4e17-8ff5-c8fd3d4a5b86.gz.parquet</td><td>12178792</td></tr><tr><td>dbfs:/databricks-datasets/wikipedia-datasets/data-001/en_wikipedia/articles-only-parquet/part-r-00933-ff5bbd4d-6518-4e17-8ff5-c8fd3d4a5b86.gz.parquet</td><td>part-r-00933-ff5bbd4d-6518-4e17-8ff5-c8fd3d4a5b86.gz.parquet</td><td>8754809</td></tr><tr><td>dbfs:/databricks-datasets/wikipedia-datasets/data-001/en_wikipedia/articles-only-parquet/part-r-00934-ff5bbd4d-6518-4e17-8ff5-c8fd3d4a5b86.gz.parquet</td><td>part-r-00934-ff5bbd4d-6518-4e17-8ff5-c8fd3d4a5b86.gz.parquet</td><td>9328178</td></tr><tr><td>dbfs:/databricks-datasets/wikipedia-datasets/data-001/en_wikipedia/articles-only-parquet/part-r-00935-ff5bbd4d-6518-4e17-8ff5-c8fd3d4a5b86.gz.parquet</td><td>part-r-00935-ff5bbd4d-6518-4e17-8ff5-c8fd3d4a5b86.gz.parquet</td><td>8757558</td></tr><tr><td>dbfs:/databricks-datasets/wikipedia-datasets/data-001/en_wikipedia/articles-only-parquet/part-r-00936-ff5bbd4d-6518-4e17-8ff5-c8fd3d4a5b86.gz.parquet</td><td>part-r-00936-ff5bbd4d-6518-4e17-8ff5-c8fd3d4a5b86.gz.parquet</td><td>9974583</td></tr><tr><td>dbfs:/databricks-datasets/wikipedia-datasets/data-001/en_wikipedia/articles-only-parquet/part-r-00937-ff5bbd4d-6518-4e17-8ff5-c8fd3d4a5b86.gz.parquet</td><td>part-r-00937-ff5bbd4d-6518-4e17-8ff5-c8fd3d4a5b86.gz.parquet</td><td>8839044</td></tr><tr><td>dbfs:/databricks-datasets/wikipedia-datasets/data-001/en_wikipedia/articles-only-parquet/part-r-00938-ff5bbd4d-6518-4e17-8ff5-c8fd3d4a5b86.gz.parquet</td><td>part-r-00938-ff5bbd4d-6518-4e17-8ff5-c8fd3d4a5b86.gz.parquet</td><td>9351881</td></tr><tr><td>dbfs:/databricks-datasets/wikipedia-datasets/data-001/en_wikipedia/articles-only-parquet/part-r-00939-ff5bbd4d-6518-4e17-8ff5-c8fd3d4a5b86.gz.parquet</td><td>part-r-00939-ff5bbd4d-6518-4e17-8ff5-c8fd3d4a5b86.gz.parquet</td><td>9301609</td></tr><tr><td>dbfs:/databricks-datasets/wikipedia-datasets/data-001/en_wikipedia/articles-only-parquet/part-r-00940-ff5bbd4d-6518-4e17-8ff5-c8fd3d4a5b86.gz.parquet</td><td>part-r-00940-ff5bbd4d-6518-4e17-8ff5-c8fd3d4a5b86.gz.parquet</td><td>9210233</td></tr><tr><td>dbfs:/databricks-datasets/wikipedia-datasets/data-001/en_wikipedia/articles-only-parquet/part-r-00941-ff5bbd4d-6518-4e17-8ff5-c8fd3d4a5b86.gz.parquet</td><td>part-r-00941-ff5bbd4d-6518-4e17-8ff5-c8fd3d4a5b86.gz.parquet</td><td>8684854</td></tr><tr><td>dbfs:/databricks-datasets/wikipedia-datasets/data-001/en_wikipedia/articles-only-parquet/part-r-00942-ff5bbd4d-6518-4e17-8ff5-c8fd3d4a5b86.gz.parquet</td><td>part-r-00942-ff5bbd4d-6518-4e17-8ff5-c8fd3d4a5b86.gz.parquet</td><td>10539055</td></tr><tr><td>dbfs:/databricks-datasets/wikipedia-datasets/data-001/en_wikipedia/articles-only-parquet/part-r-00943-ff5bbd4d-6518-4e17-8ff5-c8fd3d4a5b86.gz.parquet</td><td>part-r-00943-ff5bbd4d-6518-4e17-8ff5-c8fd3d4a5b86.gz.parquet</td><td>15720070</td></tr><tr><td>dbfs:/databricks-datasets/wikipedia-datasets/data-001/en_wikipedia/articles-only-parquet/part-r-00944-ff5bbd4d-6518-4e17-8ff5-c8fd3d4a5b86.gz.parquet</td><td>part-r-00944-ff5bbd4d-6518-4e17-8ff5-c8fd3d4a5b86.gz.parquet</td><td>2744989</td></tr><tr><td>dbfs:/databricks-datasets/wikipedia-datasets/data-001/en_wikipedia/articles-only-parquet/part-r-00945-ff5bbd4d-6518-4e17-8ff5-c8fd3d4a5b86.gz.parquet</td><td>part-r-00945-ff5bbd4d-6518-4e17-8ff5-c8fd3d4a5b86.gz.parquet</td><td>9833846</td></tr><tr><td>dbfs:/databricks-datasets/wikipedia-datasets/data-001/en_wikipedia/articles-only-parquet/part-r-00946-ff5bbd4d-6518-4e17-8ff5-c8fd3d4a5b86.gz.parquet</td><td>part-r-00946-ff5bbd4d-6518-4e17-8ff5-c8fd3d4a5b86.gz.parquet</td><td>9252531</td></tr><tr><td>dbfs:/databricks-datasets/wikipedia-datasets/data-001/en_wikipedia/articles-only-parquet/part-r-00947-ff5bbd4d-6518-4e17-8ff5-c8fd3d4a5b86.gz.parquet</td><td>part-r-00947-ff5bbd4d-6518-4e17-8ff5-c8fd3d4a5b86.gz.parquet</td><td>10277250</td></tr><tr><td>dbfs:/databricks-datasets/wikipedia-datasets/data-001/en_wikipedia/articles-only-parquet/part-r-00948-ff5bbd4d-6518-4e17-8ff5-c8fd3d4a5b86.gz.parquet</td><td>part-r-00948-ff5bbd4d-6518-4e17-8ff5-c8fd3d4a5b86.gz.parquet</td><td>14696750</td></tr><tr><td>dbfs:/databricks-datasets/wikipedia-datasets/data-001/en_wikipedia/articles-only-parquet/part-r-00949-ff5bbd4d-6518-4e17-8ff5-c8fd3d4a5b86.gz.parquet</td><td>part-r-00949-ff5bbd4d-6518-4e17-8ff5-c8fd3d4a5b86.gz.parquet</td><td>10005458</td></tr><tr><td>dbfs:/databricks-datasets/wikipedia-datasets/data-001/en_wikipedia/articles-only-parquet/part-r-00950-ff5bbd4d-6518-4e17-8ff5-c8fd3d4a5b86.gz.parquet</td><td>part-r-00950-ff5bbd4d-6518-4e17-8ff5-c8fd3d4a5b86.gz.parquet</td><td>7267320</td></tr><tr><td>dbfs:/databricks-datasets/wikipedia-datasets/data-001/en_wikipedia/articles-only-parquet/part-r-00951-ff5bbd4d-6518-4e17-8ff5-c8fd3d4a5b86.gz.parquet</td><td>part-r-00951-ff5bbd4d-6518-4e17-8ff5-c8fd3d4a5b86.gz.parquet</td><td>18002815</td></tr><tr><td>dbfs:/databricks-datasets/wikipedia-datasets/data-001/en_wikipedia/articles-only-parquet/part-r-00952-ff5bbd4d-6518-4e17-8ff5-c8fd3d4a5b86.gz.parquet</td><td>part-r-00952-ff5bbd4d-6518-4e17-8ff5-c8fd3d4a5b86.gz.parquet</td><td>9568430</td></tr><tr><td>dbfs:/databricks-datasets/wikipedia-datasets/data-001/en_wikipedia/articles-only-parquet/part-r-00953-ff5bbd4d-6518-4e17-8ff5-c8fd3d4a5b86.gz.parquet</td><td>part-r-00953-ff5bbd4d-6518-4e17-8ff5-c8fd3d4a5b86.gz.parquet</td><td>15278272</td></tr><tr><td>dbfs:/databricks-datasets/wikipedia-datasets/data-001/en_wikipedia/articles-only-parquet/part-r-00954-ff5bbd4d-6518-4e17-8ff5-c8fd3d4a5b86.gz.parquet</td><td>part-r-00954-ff5bbd4d-6518-4e17-8ff5-c8fd3d4a5b86.gz.parquet</td><td>9137403</td></tr><tr><td>dbfs:/databricks-datasets/wikipedia-datasets/data-001/en_wikipedia/articles-only-parquet/part-r-00955-ff5bbd4d-6518-4e17-8ff5-c8fd3d4a5b86.gz.parquet</td><td>part-r-00955-ff5bbd4d-6518-4e17-8ff5-c8fd3d4a5b86.gz.parquet</td><td>8504439</td></tr><tr><td>dbfs:/databricks-datasets/wikipedia-datasets/data-001/en_wikipedia/articles-only-parquet/part-r-00956-ff5bbd4d-6518-4e17-8ff5-c8fd3d4a5b86.gz.parquet</td><td>part-r-00956-ff5bbd4d-6518-4e17-8ff5-c8fd3d4a5b86.gz.parquet</td><td>8346756</td></tr><tr><td>dbfs:/databricks-datasets/wikipedia-datasets/data-001/en_wikipedia/articles-only-parquet/part-r-00957-ff5bbd4d-6518-4e17-8ff5-c8fd3d4a5b86.gz.parquet</td><td>part-r-00957-ff5bbd4d-6518-4e17-8ff5-c8fd3d4a5b86.gz.parquet</td><td>8224589</td></tr><tr><td>dbfs:/databricks-datasets/wikipedia-datasets/data-001/en_wikipedia/articles-only-parquet/part-r-00958-ff5bbd4d-6518-4e17-8ff5-c8fd3d4a5b86.gz.parquet</td><td>part-r-00958-ff5bbd4d-6518-4e17-8ff5-c8fd3d4a5b86.gz.parquet</td><td>9530376</td></tr><tr><td>dbfs:/databricks-datasets/wikipedia-datasets/data-001/en_wikipedia/articles-only-parquet/part-r-00959-ff5bbd4d-6518-4e17-8ff5-c8fd3d4a5b86.gz.parquet</td><td>part-r-00959-ff5bbd4d-6518-4e17-8ff5-c8fd3d4a5b86.gz.parquet</td><td>9391189</td></tr><tr><td>dbfs:/databricks-datasets/wikipedia-datasets/data-001/en_wikipedia/articles-only-parquet/part-r-00960-ff5bbd4d-6518-4e17-8ff5-c8fd3d4a5b86.gz.parquet</td><td>part-r-00960-ff5bbd4d-6518-4e17-8ff5-c8fd3d4a5b86.gz.parquet</td><td>9390175</td></tr><tr><td>dbfs:/databricks-datasets/wikipedia-datasets/data-001/en_wikipedia/articles-only-parquet/part-r-00961-ff5bbd4d-6518-4e17-8ff5-c8fd3d4a5b86.gz.parquet</td><td>part-r-00961-ff5bbd4d-6518-4e17-8ff5-c8fd3d4a5b86.gz.parquet</td><td>17567382</td></tr><tr><td>dbfs:/databricks-datasets/wikipedia-datasets/data-001/en_wikipedia/articles-only-parquet/part-r-00962-ff5bbd4d-6518-4e17-8ff5-c8fd3d4a5b86.gz.parquet</td><td>part-r-00962-ff5bbd4d-6518-4e17-8ff5-c8fd3d4a5b86.gz.parquet</td><td>8949873</td></tr><tr><td>dbfs:/databricks-datasets/wikipedia-datasets/data-001/en_wikipedia/articles-only-parquet/part-r-00963-ff5bbd4d-6518-4e17-8ff5-c8fd3d4a5b86.gz.parquet</td><td>part-r-00963-ff5bbd4d-6518-4e17-8ff5-c8fd3d4a5b86.gz.parquet</td><td>9117078</td></tr><tr><td>dbfs:/databricks-datasets/wikipedia-datasets/data-001/en_wikipedia/articles-only-parquet/part-r-00964-ff5bbd4d-6518-4e17-8ff5-c8fd3d4a5b86.gz.parquet</td><td>part-r-00964-ff5bbd4d-6518-4e17-8ff5-c8fd3d4a5b86.gz.parquet</td><td>9835363</td></tr><tr><td>dbfs:/databricks-datasets/wikipedia-datasets/data-001/en_wikipedia/articles-only-parquet/part-r-00965-ff5bbd4d-6518-4e17-8ff5-c8fd3d4a5b86.gz.parquet</td><td>part-r-00965-ff5bbd4d-6518-4e17-8ff5-c8fd3d4a5b86.gz.parquet</td><td>13585013</td></tr><tr><td>dbfs:/databricks-datasets/wikipedia-datasets/data-001/en_wikipedia/articles-only-parquet/part-r-00966-ff5bbd4d-6518-4e17-8ff5-c8fd3d4a5b86.gz.parquet</td><td>part-r-00966-ff5bbd4d-6518-4e17-8ff5-c8fd3d4a5b86.gz.parquet</td><td>13357689</td></tr><tr><td>dbfs:/databricks-datasets/wikipedia-datasets/data-001/en_wikipedia/articles-only-parquet/part-r-00967-ff5bbd4d-6518-4e17-8ff5-c8fd3d4a5b86.gz.parquet</td><td>part-r-00967-ff5bbd4d-6518-4e17-8ff5-c8fd3d4a5b86.gz.parquet</td><td>8149611</td></tr><tr><td>dbfs:/databricks-datasets/wikipedia-datasets/data-001/en_wikipedia/articles-only-parquet/part-r-00968-ff5bbd4d-6518-4e17-8ff5-c8fd3d4a5b86.gz.parquet</td><td>part-r-00968-ff5bbd4d-6518-4e17-8ff5-c8fd3d4a5b86.gz.parquet</td><td>9470628</td></tr><tr><td>dbfs:/databricks-datasets/wikipedia-datasets/data-001/en_wikipedia/articles-only-parquet/part-r-00969-ff5bbd4d-6518-4e17-8ff5-c8fd3d4a5b86.gz.parquet</td><td>part-r-00969-ff5bbd4d-6518-4e17-8ff5-c8fd3d4a5b86.gz.parquet</td><td>13632083</td></tr><tr><td>dbfs:/databricks-datasets/wikipedia-datasets/data-001/en_wikipedia/articles-only-parquet/part-r-00970-ff5bbd4d-6518-4e17-8ff5-c8fd3d4a5b86.gz.parquet</td><td>part-r-00970-ff5bbd4d-6518-4e17-8ff5-c8fd3d4a5b86.gz.parquet</td><td>9564795</td></tr><tr><td>dbfs:/databricks-datasets/wikipedia-datasets/data-001/en_wikipedia/articles-only-parquet/part-r-00971-ff5bbd4d-6518-4e17-8ff5-c8fd3d4a5b86.gz.parquet</td><td>part-r-00971-ff5bbd4d-6518-4e17-8ff5-c8fd3d4a5b86.gz.parquet</td><td>9007610</td></tr><tr><td>dbfs:/databricks-datasets/wikipedia-datasets/data-001/en_wikipedia/articles-only-parquet/part-r-00972-ff5bbd4d-6518-4e17-8ff5-c8fd3d4a5b86.gz.parquet</td><td>part-r-00972-ff5bbd4d-6518-4e17-8ff5-c8fd3d4a5b86.gz.parquet</td><td>17878867</td></tr><tr><td>dbfs:/databricks-datasets/wikipedia-datasets/data-001/en_wikipedia/articles-only-parquet/part-r-00973-ff5bbd4d-6518-4e17-8ff5-c8fd3d4a5b86.gz.parquet</td><td>part-r-00973-ff5bbd4d-6518-4e17-8ff5-c8fd3d4a5b86.gz.parquet</td><td>8274199</td></tr><tr><td>dbfs:/databricks-datasets/wikipedia-datasets/data-001/en_wikipedia/articles-only-parquet/part-r-00974-ff5bbd4d-6518-4e17-8ff5-c8fd3d4a5b86.gz.parquet</td><td>part-r-00974-ff5bbd4d-6518-4e17-8ff5-c8fd3d4a5b86.gz.parquet</td><td>8363823</td></tr><tr><td>dbfs:/databricks-datasets/wikipedia-datasets/data-001/en_wikipedia/articles-only-parquet/part-r-00975-ff5bbd4d-6518-4e17-8ff5-c8fd3d4a5b86.gz.parquet</td><td>part-r-00975-ff5bbd4d-6518-4e17-8ff5-c8fd3d4a5b86.gz.parquet</td><td>11958961</td></tr><tr><td>dbfs:/databricks-datasets/wikipedia-datasets/data-001/en_wikipedia/articles-only-parquet/part-r-00976-ff5bbd4d-6518-4e17-8ff5-c8fd3d4a5b86.gz.parquet</td><td>part-r-00976-ff5bbd4d-6518-4e17-8ff5-c8fd3d4a5b86.gz.parquet</td><td>6252950</td></tr><tr><td>dbfs:/databricks-datasets/wikipedia-datasets/data-001/en_wikipedia/articles-only-parquet/part-r-00977-ff5bbd4d-6518-4e17-8ff5-c8fd3d4a5b86.gz.parquet</td><td>part-r-00977-ff5bbd4d-6518-4e17-8ff5-c8fd3d4a5b86.gz.parquet</td><td>6494131</td></tr><tr><td>dbfs:/databricks-datasets/wikipedia-datasets/data-001/en_wikipedia/articles-only-parquet/part-r-00978-ff5bbd4d-6518-4e17-8ff5-c8fd3d4a5b86.gz.parquet</td><td>part-r-00978-ff5bbd4d-6518-4e17-8ff5-c8fd3d4a5b86.gz.parquet</td><td>8781995</td></tr><tr><td>dbfs:/databricks-datasets/wikipedia-datasets/data-001/en_wikipedia/articles-only-parquet/part-r-00979-ff5bbd4d-6518-4e17-8ff5-c8fd3d4a5b86.gz.parquet</td><td>part-r-00979-ff5bbd4d-6518-4e17-8ff5-c8fd3d4a5b86.gz.parquet</td><td>9194968</td></tr><tr><td>dbfs:/databricks-datasets/wikipedia-datasets/data-001/en_wikipedia/articles-only-parquet/part-r-00980-ff5bbd4d-6518-4e17-8ff5-c8fd3d4a5b86.gz.parquet</td><td>part-r-00980-ff5bbd4d-6518-4e17-8ff5-c8fd3d4a5b86.gz.parquet</td><td>9172073</td></tr><tr><td>dbfs:/databricks-datasets/wikipedia-datasets/data-001/en_wikipedia/articles-only-parquet/part-r-00981-ff5bbd4d-6518-4e17-8ff5-c8fd3d4a5b86.gz.parquet</td><td>part-r-00981-ff5bbd4d-6518-4e17-8ff5-c8fd3d4a5b86.gz.parquet</td><td>10098287</td></tr><tr><td>dbfs:/databricks-datasets/wikipedia-datasets/data-001/en_wikipedia/articles-only-parquet/part-r-00982-ff5bbd4d-6518-4e17-8ff5-c8fd3d4a5b86.gz.parquet</td><td>part-r-00982-ff5bbd4d-6518-4e17-8ff5-c8fd3d4a5b86.gz.parquet</td><td>9118130</td></tr><tr><td>dbfs:/databricks-datasets/wikipedia-datasets/data-001/en_wikipedia/articles-only-parquet/part-r-00983-ff5bbd4d-6518-4e17-8ff5-c8fd3d4a5b86.gz.parquet</td><td>part-r-00983-ff5bbd4d-6518-4e17-8ff5-c8fd3d4a5b86.gz.parquet</td><td>9512258</td></tr><tr><td>dbfs:/databricks-datasets/wikipedia-datasets/data-001/en_wikipedia/articles-only-parquet/part-r-00984-ff5bbd4d-6518-4e17-8ff5-c8fd3d4a5b86.gz.parquet</td><td>part-r-00984-ff5bbd4d-6518-4e17-8ff5-c8fd3d4a5b86.gz.parquet</td><td>9831310</td></tr><tr><td>dbfs:/databricks-datasets/wikipedia-datasets/data-001/en_wikipedia/articles-only-parquet/part-r-00985-ff5bbd4d-6518-4e17-8ff5-c8fd3d4a5b86.gz.parquet</td><td>part-r-00985-ff5bbd4d-6518-4e17-8ff5-c8fd3d4a5b86.gz.parquet</td><td>9138335</td></tr><tr><td>dbfs:/databricks-datasets/wikipedia-datasets/data-001/en_wikipedia/articles-only-parquet/part-r-00986-ff5bbd4d-6518-4e17-8ff5-c8fd3d4a5b86.gz.parquet</td><td>part-r-00986-ff5bbd4d-6518-4e17-8ff5-c8fd3d4a5b86.gz.parquet</td><td>9673251</td></tr><tr><td>dbfs:/databricks-datasets/wikipedia-datasets/data-001/en_wikipedia/articles-only-parquet/part-r-00987-ff5bbd4d-6518-4e17-8ff5-c8fd3d4a5b86.gz.parquet</td><td>part-r-00987-ff5bbd4d-6518-4e17-8ff5-c8fd3d4a5b86.gz.parquet</td><td>9722104</td></tr><tr><td>dbfs:/databricks-datasets/wikipedia-datasets/data-001/en_wikipedia/articles-only-parquet/part-r-00988-ff5bbd4d-6518-4e17-8ff5-c8fd3d4a5b86.gz.parquet</td><td>part-r-00988-ff5bbd4d-6518-4e17-8ff5-c8fd3d4a5b86.gz.parquet</td><td>8658109</td></tr><tr><td>dbfs:/databricks-datasets/wikipedia-datasets/data-001/en_wikipedia/articles-only-parquet/part-r-00989-ff5bbd4d-6518-4e17-8ff5-c8fd3d4a5b86.gz.parquet</td><td>part-r-00989-ff5bbd4d-6518-4e17-8ff5-c8fd3d4a5b86.gz.parquet</td><td>8648984</td></tr><tr><td>dbfs:/databricks-datasets/wikipedia-datasets/data-001/en_wikipedia/articles-only-parquet/part-r-00990-ff5bbd4d-6518-4e17-8ff5-c8fd3d4a5b86.gz.parquet</td><td>part-r-00990-ff5bbd4d-6518-4e17-8ff5-c8fd3d4a5b86.gz.parquet</td><td>8647889</td></tr><tr><td>dbfs:/databricks-datasets/wikipedia-datasets/data-001/en_wikipedia/articles-only-parquet/part-r-00991-ff5bbd4d-6518-4e17-8ff5-c8fd3d4a5b86.gz.parquet</td><td>part-r-00991-ff5bbd4d-6518-4e17-8ff5-c8fd3d4a5b86.gz.parquet</td><td>8391218</td></tr><tr><td>dbfs:/databricks-datasets/wikipedia-datasets/data-001/en_wikipedia/articles-only-parquet/part-r-00992-ff5bbd4d-6518-4e17-8ff5-c8fd3d4a5b86.gz.parquet</td><td>part-r-00992-ff5bbd4d-6518-4e17-8ff5-c8fd3d4a5b86.gz.parquet</td><td>9165461</td></tr><tr><td>dbfs:/databricks-datasets/wikipedia-datasets/data-001/en_wikipedia/articles-only-parquet/part-r-00993-ff5bbd4d-6518-4e17-8ff5-c8fd3d4a5b86.gz.parquet</td><td>part-r-00993-ff5bbd4d-6518-4e17-8ff5-c8fd3d4a5b86.gz.parquet</td><td>12625130</td></tr><tr><td>dbfs:/databricks-datasets/wikipedia-datasets/data-001/en_wikipedia/articles-only-parquet/part-r-00994-ff5bbd4d-6518-4e17-8ff5-c8fd3d4a5b86.gz.parquet</td><td>part-r-00994-ff5bbd4d-6518-4e17-8ff5-c8fd3d4a5b86.gz.parquet</td><td>4504821</td></tr><tr><td>dbfs:/databricks-datasets/wikipedia-datasets/data-001/en_wikipedia/articles-only-parquet/part-r-00995-ff5bbd4d-6518-4e17-8ff5-c8fd3d4a5b86.gz.parquet</td><td>part-r-00995-ff5bbd4d-6518-4e17-8ff5-c8fd3d4a5b86.gz.parquet</td><td>9444788</td></tr><tr><td>dbfs:/databricks-datasets/wikipedia-datasets/data-001/en_wikipedia/articles-only-parquet/part-r-00996-ff5bbd4d-6518-4e17-8ff5-c8fd3d4a5b86.gz.parquet</td><td>part-r-00996-ff5bbd4d-6518-4e17-8ff5-c8fd3d4a5b86.gz.parquet</td><td>12822740</td></tr></tbody></table>Showing the first 1000 rows.</div>"
      ]
     },
     "metadata": {
      "application/vnd.databricks.v1+output": {
       "addedWidgets": {},
       "aggData": [],
       "aggError": "",
       "aggOverflow": false,
       "aggSchema": [],
       "aggSeriesLimitReached": false,
       "aggType": "",
       "arguments": {},
       "columnCustomDisplayInfos": {},
       "data": [
        [
         "dbfs:/databricks-datasets/wikipedia-datasets/data-001/en_wikipedia/articles-only-parquet/_SUCCESS",
         "_SUCCESS",
         0
        ],
        [
         "dbfs:/databricks-datasets/wikipedia-datasets/data-001/en_wikipedia/articles-only-parquet/_common_metadata",
         "_common_metadata",
         779
        ],
        [
         "dbfs:/databricks-datasets/wikipedia-datasets/data-001/en_wikipedia/articles-only-parquet/_metadata",
         "_metadata",
         15986429
        ],
        [
         "dbfs:/databricks-datasets/wikipedia-datasets/data-001/en_wikipedia/articles-only-parquet/part-r-00000-ff5bbd4d-6518-4e17-8ff5-c8fd3d4a5b86.gz.parquet",
         "part-r-00000-ff5bbd4d-6518-4e17-8ff5-c8fd3d4a5b86.gz.parquet",
         10085419
        ],
        [
         "dbfs:/databricks-datasets/wikipedia-datasets/data-001/en_wikipedia/articles-only-parquet/part-r-00001-ff5bbd4d-6518-4e17-8ff5-c8fd3d4a5b86.gz.parquet",
         "part-r-00001-ff5bbd4d-6518-4e17-8ff5-c8fd3d4a5b86.gz.parquet",
         15346826
        ],
        [
         "dbfs:/databricks-datasets/wikipedia-datasets/data-001/en_wikipedia/articles-only-parquet/part-r-00002-ff5bbd4d-6518-4e17-8ff5-c8fd3d4a5b86.gz.parquet",
         "part-r-00002-ff5bbd4d-6518-4e17-8ff5-c8fd3d4a5b86.gz.parquet",
         15762593
        ],
        [
         "dbfs:/databricks-datasets/wikipedia-datasets/data-001/en_wikipedia/articles-only-parquet/part-r-00003-ff5bbd4d-6518-4e17-8ff5-c8fd3d4a5b86.gz.parquet",
         "part-r-00003-ff5bbd4d-6518-4e17-8ff5-c8fd3d4a5b86.gz.parquet",
         8977575
        ],
        [
         "dbfs:/databricks-datasets/wikipedia-datasets/data-001/en_wikipedia/articles-only-parquet/part-r-00004-ff5bbd4d-6518-4e17-8ff5-c8fd3d4a5b86.gz.parquet",
         "part-r-00004-ff5bbd4d-6518-4e17-8ff5-c8fd3d4a5b86.gz.parquet",
         15739954
        ],
        [
         "dbfs:/databricks-datasets/wikipedia-datasets/data-001/en_wikipedia/articles-only-parquet/part-r-00005-ff5bbd4d-6518-4e17-8ff5-c8fd3d4a5b86.gz.parquet",
         "part-r-00005-ff5bbd4d-6518-4e17-8ff5-c8fd3d4a5b86.gz.parquet",
         9298525
        ],
        [
         "dbfs:/databricks-datasets/wikipedia-datasets/data-001/en_wikipedia/articles-only-parquet/part-r-00006-ff5bbd4d-6518-4e17-8ff5-c8fd3d4a5b86.gz.parquet",
         "part-r-00006-ff5bbd4d-6518-4e17-8ff5-c8fd3d4a5b86.gz.parquet",
         5532126
        ],
        [
         "dbfs:/databricks-datasets/wikipedia-datasets/data-001/en_wikipedia/articles-only-parquet/part-r-00007-ff5bbd4d-6518-4e17-8ff5-c8fd3d4a5b86.gz.parquet",
         "part-r-00007-ff5bbd4d-6518-4e17-8ff5-c8fd3d4a5b86.gz.parquet",
         10124180
        ],
        [
         "dbfs:/databricks-datasets/wikipedia-datasets/data-001/en_wikipedia/articles-only-parquet/part-r-00008-ff5bbd4d-6518-4e17-8ff5-c8fd3d4a5b86.gz.parquet",
         "part-r-00008-ff5bbd4d-6518-4e17-8ff5-c8fd3d4a5b86.gz.parquet",
         9319264
        ],
        [
         "dbfs:/databricks-datasets/wikipedia-datasets/data-001/en_wikipedia/articles-only-parquet/part-r-00009-ff5bbd4d-6518-4e17-8ff5-c8fd3d4a5b86.gz.parquet",
         "part-r-00009-ff5bbd4d-6518-4e17-8ff5-c8fd3d4a5b86.gz.parquet",
         6663381
        ],
        [
         "dbfs:/databricks-datasets/wikipedia-datasets/data-001/en_wikipedia/articles-only-parquet/part-r-00010-ff5bbd4d-6518-4e17-8ff5-c8fd3d4a5b86.gz.parquet",
         "part-r-00010-ff5bbd4d-6518-4e17-8ff5-c8fd3d4a5b86.gz.parquet",
         8875673
        ],
        [
         "dbfs:/databricks-datasets/wikipedia-datasets/data-001/en_wikipedia/articles-only-parquet/part-r-00011-ff5bbd4d-6518-4e17-8ff5-c8fd3d4a5b86.gz.parquet",
         "part-r-00011-ff5bbd4d-6518-4e17-8ff5-c8fd3d4a5b86.gz.parquet",
         8801854
        ],
        [
         "dbfs:/databricks-datasets/wikipedia-datasets/data-001/en_wikipedia/articles-only-parquet/part-r-00012-ff5bbd4d-6518-4e17-8ff5-c8fd3d4a5b86.gz.parquet",
         "part-r-00012-ff5bbd4d-6518-4e17-8ff5-c8fd3d4a5b86.gz.parquet",
         7750825
        ],
        [
         "dbfs:/databricks-datasets/wikipedia-datasets/data-001/en_wikipedia/articles-only-parquet/part-r-00013-ff5bbd4d-6518-4e17-8ff5-c8fd3d4a5b86.gz.parquet",
         "part-r-00013-ff5bbd4d-6518-4e17-8ff5-c8fd3d4a5b86.gz.parquet",
         10326586
        ],
        [
         "dbfs:/databricks-datasets/wikipedia-datasets/data-001/en_wikipedia/articles-only-parquet/part-r-00014-ff5bbd4d-6518-4e17-8ff5-c8fd3d4a5b86.gz.parquet",
         "part-r-00014-ff5bbd4d-6518-4e17-8ff5-c8fd3d4a5b86.gz.parquet",
         8771273
        ],
        [
         "dbfs:/databricks-datasets/wikipedia-datasets/data-001/en_wikipedia/articles-only-parquet/part-r-00015-ff5bbd4d-6518-4e17-8ff5-c8fd3d4a5b86.gz.parquet",
         "part-r-00015-ff5bbd4d-6518-4e17-8ff5-c8fd3d4a5b86.gz.parquet",
         8711949
        ],
        [
         "dbfs:/databricks-datasets/wikipedia-datasets/data-001/en_wikipedia/articles-only-parquet/part-r-00016-ff5bbd4d-6518-4e17-8ff5-c8fd3d4a5b86.gz.parquet",
         "part-r-00016-ff5bbd4d-6518-4e17-8ff5-c8fd3d4a5b86.gz.parquet",
         12047654
        ],
        [
         "dbfs:/databricks-datasets/wikipedia-datasets/data-001/en_wikipedia/articles-only-parquet/part-r-00017-ff5bbd4d-6518-4e17-8ff5-c8fd3d4a5b86.gz.parquet",
         "part-r-00017-ff5bbd4d-6518-4e17-8ff5-c8fd3d4a5b86.gz.parquet",
         1320773
        ],
        [
         "dbfs:/databricks-datasets/wikipedia-datasets/data-001/en_wikipedia/articles-only-parquet/part-r-00018-ff5bbd4d-6518-4e17-8ff5-c8fd3d4a5b86.gz.parquet",
         "part-r-00018-ff5bbd4d-6518-4e17-8ff5-c8fd3d4a5b86.gz.parquet",
         13176381
        ],
        [
         "dbfs:/databricks-datasets/wikipedia-datasets/data-001/en_wikipedia/articles-only-parquet/part-r-00019-ff5bbd4d-6518-4e17-8ff5-c8fd3d4a5b86.gz.parquet",
         "part-r-00019-ff5bbd4d-6518-4e17-8ff5-c8fd3d4a5b86.gz.parquet",
         7024243
        ],
        [
         "dbfs:/databricks-datasets/wikipedia-datasets/data-001/en_wikipedia/articles-only-parquet/part-r-00020-ff5bbd4d-6518-4e17-8ff5-c8fd3d4a5b86.gz.parquet",
         "part-r-00020-ff5bbd4d-6518-4e17-8ff5-c8fd3d4a5b86.gz.parquet",
         9427989
        ],
        [
         "dbfs:/databricks-datasets/wikipedia-datasets/data-001/en_wikipedia/articles-only-parquet/part-r-00021-ff5bbd4d-6518-4e17-8ff5-c8fd3d4a5b86.gz.parquet",
         "part-r-00021-ff5bbd4d-6518-4e17-8ff5-c8fd3d4a5b86.gz.parquet",
         9249458
        ],
        [
         "dbfs:/databricks-datasets/wikipedia-datasets/data-001/en_wikipedia/articles-only-parquet/part-r-00022-ff5bbd4d-6518-4e17-8ff5-c8fd3d4a5b86.gz.parquet",
         "part-r-00022-ff5bbd4d-6518-4e17-8ff5-c8fd3d4a5b86.gz.parquet",
         8569638
        ],
        [
         "dbfs:/databricks-datasets/wikipedia-datasets/data-001/en_wikipedia/articles-only-parquet/part-r-00023-ff5bbd4d-6518-4e17-8ff5-c8fd3d4a5b86.gz.parquet",
         "part-r-00023-ff5bbd4d-6518-4e17-8ff5-c8fd3d4a5b86.gz.parquet",
         12816037
        ],
        [
         "dbfs:/databricks-datasets/wikipedia-datasets/data-001/en_wikipedia/articles-only-parquet/part-r-00024-ff5bbd4d-6518-4e17-8ff5-c8fd3d4a5b86.gz.parquet",
         "part-r-00024-ff5bbd4d-6518-4e17-8ff5-c8fd3d4a5b86.gz.parquet",
         10100528
        ],
        [
         "dbfs:/databricks-datasets/wikipedia-datasets/data-001/en_wikipedia/articles-only-parquet/part-r-00025-ff5bbd4d-6518-4e17-8ff5-c8fd3d4a5b86.gz.parquet",
         "part-r-00025-ff5bbd4d-6518-4e17-8ff5-c8fd3d4a5b86.gz.parquet",
         15495908
        ],
        [
         "dbfs:/databricks-datasets/wikipedia-datasets/data-001/en_wikipedia/articles-only-parquet/part-r-00026-ff5bbd4d-6518-4e17-8ff5-c8fd3d4a5b86.gz.parquet",
         "part-r-00026-ff5bbd4d-6518-4e17-8ff5-c8fd3d4a5b86.gz.parquet",
         7355382
        ],
        [
         "dbfs:/databricks-datasets/wikipedia-datasets/data-001/en_wikipedia/articles-only-parquet/part-r-00027-ff5bbd4d-6518-4e17-8ff5-c8fd3d4a5b86.gz.parquet",
         "part-r-00027-ff5bbd4d-6518-4e17-8ff5-c8fd3d4a5b86.gz.parquet",
         14840074
        ],
        [
         "dbfs:/databricks-datasets/wikipedia-datasets/data-001/en_wikipedia/articles-only-parquet/part-r-00028-ff5bbd4d-6518-4e17-8ff5-c8fd3d4a5b86.gz.parquet",
         "part-r-00028-ff5bbd4d-6518-4e17-8ff5-c8fd3d4a5b86.gz.parquet",
         18585503
        ],
        [
         "dbfs:/databricks-datasets/wikipedia-datasets/data-001/en_wikipedia/articles-only-parquet/part-r-00029-ff5bbd4d-6518-4e17-8ff5-c8fd3d4a5b86.gz.parquet",
         "part-r-00029-ff5bbd4d-6518-4e17-8ff5-c8fd3d4a5b86.gz.parquet",
         9707241
        ],
        [
         "dbfs:/databricks-datasets/wikipedia-datasets/data-001/en_wikipedia/articles-only-parquet/part-r-00030-ff5bbd4d-6518-4e17-8ff5-c8fd3d4a5b86.gz.parquet",
         "part-r-00030-ff5bbd4d-6518-4e17-8ff5-c8fd3d4a5b86.gz.parquet",
         9978717
        ],
        [
         "dbfs:/databricks-datasets/wikipedia-datasets/data-001/en_wikipedia/articles-only-parquet/part-r-00031-ff5bbd4d-6518-4e17-8ff5-c8fd3d4a5b86.gz.parquet",
         "part-r-00031-ff5bbd4d-6518-4e17-8ff5-c8fd3d4a5b86.gz.parquet",
         9370800
        ],
        [
         "dbfs:/databricks-datasets/wikipedia-datasets/data-001/en_wikipedia/articles-only-parquet/part-r-00032-ff5bbd4d-6518-4e17-8ff5-c8fd3d4a5b86.gz.parquet",
         "part-r-00032-ff5bbd4d-6518-4e17-8ff5-c8fd3d4a5b86.gz.parquet",
         6745357
        ],
        [
         "dbfs:/databricks-datasets/wikipedia-datasets/data-001/en_wikipedia/articles-only-parquet/part-r-00033-ff5bbd4d-6518-4e17-8ff5-c8fd3d4a5b86.gz.parquet",
         "part-r-00033-ff5bbd4d-6518-4e17-8ff5-c8fd3d4a5b86.gz.parquet",
         9403839
        ],
        [
         "dbfs:/databricks-datasets/wikipedia-datasets/data-001/en_wikipedia/articles-only-parquet/part-r-00034-ff5bbd4d-6518-4e17-8ff5-c8fd3d4a5b86.gz.parquet",
         "part-r-00034-ff5bbd4d-6518-4e17-8ff5-c8fd3d4a5b86.gz.parquet",
         9206389
        ],
        [
         "dbfs:/databricks-datasets/wikipedia-datasets/data-001/en_wikipedia/articles-only-parquet/part-r-00035-ff5bbd4d-6518-4e17-8ff5-c8fd3d4a5b86.gz.parquet",
         "part-r-00035-ff5bbd4d-6518-4e17-8ff5-c8fd3d4a5b86.gz.parquet",
         6786218
        ],
        [
         "dbfs:/databricks-datasets/wikipedia-datasets/data-001/en_wikipedia/articles-only-parquet/part-r-00036-ff5bbd4d-6518-4e17-8ff5-c8fd3d4a5b86.gz.parquet",
         "part-r-00036-ff5bbd4d-6518-4e17-8ff5-c8fd3d4a5b86.gz.parquet",
         13798249
        ],
        [
         "dbfs:/databricks-datasets/wikipedia-datasets/data-001/en_wikipedia/articles-only-parquet/part-r-00037-ff5bbd4d-6518-4e17-8ff5-c8fd3d4a5b86.gz.parquet",
         "part-r-00037-ff5bbd4d-6518-4e17-8ff5-c8fd3d4a5b86.gz.parquet",
         9403377
        ],
        [
         "dbfs:/databricks-datasets/wikipedia-datasets/data-001/en_wikipedia/articles-only-parquet/part-r-00038-ff5bbd4d-6518-4e17-8ff5-c8fd3d4a5b86.gz.parquet",
         "part-r-00038-ff5bbd4d-6518-4e17-8ff5-c8fd3d4a5b86.gz.parquet",
         8700908
        ],
        [
         "dbfs:/databricks-datasets/wikipedia-datasets/data-001/en_wikipedia/articles-only-parquet/part-r-00039-ff5bbd4d-6518-4e17-8ff5-c8fd3d4a5b86.gz.parquet",
         "part-r-00039-ff5bbd4d-6518-4e17-8ff5-c8fd3d4a5b86.gz.parquet",
         10103705
        ],
        [
         "dbfs:/databricks-datasets/wikipedia-datasets/data-001/en_wikipedia/articles-only-parquet/part-r-00040-ff5bbd4d-6518-4e17-8ff5-c8fd3d4a5b86.gz.parquet",
         "part-r-00040-ff5bbd4d-6518-4e17-8ff5-c8fd3d4a5b86.gz.parquet",
         9137311
        ],
        [
         "dbfs:/databricks-datasets/wikipedia-datasets/data-001/en_wikipedia/articles-only-parquet/part-r-00041-ff5bbd4d-6518-4e17-8ff5-c8fd3d4a5b86.gz.parquet",
         "part-r-00041-ff5bbd4d-6518-4e17-8ff5-c8fd3d4a5b86.gz.parquet",
         9482414
        ],
        [
         "dbfs:/databricks-datasets/wikipedia-datasets/data-001/en_wikipedia/articles-only-parquet/part-r-00042-ff5bbd4d-6518-4e17-8ff5-c8fd3d4a5b86.gz.parquet",
         "part-r-00042-ff5bbd4d-6518-4e17-8ff5-c8fd3d4a5b86.gz.parquet",
         12142301
        ],
        [
         "dbfs:/databricks-datasets/wikipedia-datasets/data-001/en_wikipedia/articles-only-parquet/part-r-00043-ff5bbd4d-6518-4e17-8ff5-c8fd3d4a5b86.gz.parquet",
         "part-r-00043-ff5bbd4d-6518-4e17-8ff5-c8fd3d4a5b86.gz.parquet",
         14685712
        ],
        [
         "dbfs:/databricks-datasets/wikipedia-datasets/data-001/en_wikipedia/articles-only-parquet/part-r-00044-ff5bbd4d-6518-4e17-8ff5-c8fd3d4a5b86.gz.parquet",
         "part-r-00044-ff5bbd4d-6518-4e17-8ff5-c8fd3d4a5b86.gz.parquet",
         10159744
        ],
        [
         "dbfs:/databricks-datasets/wikipedia-datasets/data-001/en_wikipedia/articles-only-parquet/part-r-00045-ff5bbd4d-6518-4e17-8ff5-c8fd3d4a5b86.gz.parquet",
         "part-r-00045-ff5bbd4d-6518-4e17-8ff5-c8fd3d4a5b86.gz.parquet",
         15245029
        ],
        [
         "dbfs:/databricks-datasets/wikipedia-datasets/data-001/en_wikipedia/articles-only-parquet/part-r-00046-ff5bbd4d-6518-4e17-8ff5-c8fd3d4a5b86.gz.parquet",
         "part-r-00046-ff5bbd4d-6518-4e17-8ff5-c8fd3d4a5b86.gz.parquet",
         13498911
        ],
        [
         "dbfs:/databricks-datasets/wikipedia-datasets/data-001/en_wikipedia/articles-only-parquet/part-r-00047-ff5bbd4d-6518-4e17-8ff5-c8fd3d4a5b86.gz.parquet",
         "part-r-00047-ff5bbd4d-6518-4e17-8ff5-c8fd3d4a5b86.gz.parquet",
         8358915
        ],
        [
         "dbfs:/databricks-datasets/wikipedia-datasets/data-001/en_wikipedia/articles-only-parquet/part-r-00048-ff5bbd4d-6518-4e17-8ff5-c8fd3d4a5b86.gz.parquet",
         "part-r-00048-ff5bbd4d-6518-4e17-8ff5-c8fd3d4a5b86.gz.parquet",
         5848819
        ],
        [
         "dbfs:/databricks-datasets/wikipedia-datasets/data-001/en_wikipedia/articles-only-parquet/part-r-00049-ff5bbd4d-6518-4e17-8ff5-c8fd3d4a5b86.gz.parquet",
         "part-r-00049-ff5bbd4d-6518-4e17-8ff5-c8fd3d4a5b86.gz.parquet",
         13441517
        ],
        [
         "dbfs:/databricks-datasets/wikipedia-datasets/data-001/en_wikipedia/articles-only-parquet/part-r-00050-ff5bbd4d-6518-4e17-8ff5-c8fd3d4a5b86.gz.parquet",
         "part-r-00050-ff5bbd4d-6518-4e17-8ff5-c8fd3d4a5b86.gz.parquet",
         8356628
        ],
        [
         "dbfs:/databricks-datasets/wikipedia-datasets/data-001/en_wikipedia/articles-only-parquet/part-r-00051-ff5bbd4d-6518-4e17-8ff5-c8fd3d4a5b86.gz.parquet",
         "part-r-00051-ff5bbd4d-6518-4e17-8ff5-c8fd3d4a5b86.gz.parquet",
         11896716
        ],
        [
         "dbfs:/databricks-datasets/wikipedia-datasets/data-001/en_wikipedia/articles-only-parquet/part-r-00052-ff5bbd4d-6518-4e17-8ff5-c8fd3d4a5b86.gz.parquet",
         "part-r-00052-ff5bbd4d-6518-4e17-8ff5-c8fd3d4a5b86.gz.parquet",
         9187136
        ],
        [
         "dbfs:/databricks-datasets/wikipedia-datasets/data-001/en_wikipedia/articles-only-parquet/part-r-00053-ff5bbd4d-6518-4e17-8ff5-c8fd3d4a5b86.gz.parquet",
         "part-r-00053-ff5bbd4d-6518-4e17-8ff5-c8fd3d4a5b86.gz.parquet",
         8650522
        ],
        [
         "dbfs:/databricks-datasets/wikipedia-datasets/data-001/en_wikipedia/articles-only-parquet/part-r-00054-ff5bbd4d-6518-4e17-8ff5-c8fd3d4a5b86.gz.parquet",
         "part-r-00054-ff5bbd4d-6518-4e17-8ff5-c8fd3d4a5b86.gz.parquet",
         9063391
        ],
        [
         "dbfs:/databricks-datasets/wikipedia-datasets/data-001/en_wikipedia/articles-only-parquet/part-r-00055-ff5bbd4d-6518-4e17-8ff5-c8fd3d4a5b86.gz.parquet",
         "part-r-00055-ff5bbd4d-6518-4e17-8ff5-c8fd3d4a5b86.gz.parquet",
         9666579
        ],
        [
         "dbfs:/databricks-datasets/wikipedia-datasets/data-001/en_wikipedia/articles-only-parquet/part-r-00056-ff5bbd4d-6518-4e17-8ff5-c8fd3d4a5b86.gz.parquet",
         "part-r-00056-ff5bbd4d-6518-4e17-8ff5-c8fd3d4a5b86.gz.parquet",
         6198609
        ],
        [
         "dbfs:/databricks-datasets/wikipedia-datasets/data-001/en_wikipedia/articles-only-parquet/part-r-00057-ff5bbd4d-6518-4e17-8ff5-c8fd3d4a5b86.gz.parquet",
         "part-r-00057-ff5bbd4d-6518-4e17-8ff5-c8fd3d4a5b86.gz.parquet",
         10252200
        ],
        [
         "dbfs:/databricks-datasets/wikipedia-datasets/data-001/en_wikipedia/articles-only-parquet/part-r-00058-ff5bbd4d-6518-4e17-8ff5-c8fd3d4a5b86.gz.parquet",
         "part-r-00058-ff5bbd4d-6518-4e17-8ff5-c8fd3d4a5b86.gz.parquet",
         9707714
        ],
        [
         "dbfs:/databricks-datasets/wikipedia-datasets/data-001/en_wikipedia/articles-only-parquet/part-r-00059-ff5bbd4d-6518-4e17-8ff5-c8fd3d4a5b86.gz.parquet",
         "part-r-00059-ff5bbd4d-6518-4e17-8ff5-c8fd3d4a5b86.gz.parquet",
         9151242
        ],
        [
         "dbfs:/databricks-datasets/wikipedia-datasets/data-001/en_wikipedia/articles-only-parquet/part-r-00060-ff5bbd4d-6518-4e17-8ff5-c8fd3d4a5b86.gz.parquet",
         "part-r-00060-ff5bbd4d-6518-4e17-8ff5-c8fd3d4a5b86.gz.parquet",
         20740675
        ],
        [
         "dbfs:/databricks-datasets/wikipedia-datasets/data-001/en_wikipedia/articles-only-parquet/part-r-00061-ff5bbd4d-6518-4e17-8ff5-c8fd3d4a5b86.gz.parquet",
         "part-r-00061-ff5bbd4d-6518-4e17-8ff5-c8fd3d4a5b86.gz.parquet",
         13748805
        ],
        [
         "dbfs:/databricks-datasets/wikipedia-datasets/data-001/en_wikipedia/articles-only-parquet/part-r-00062-ff5bbd4d-6518-4e17-8ff5-c8fd3d4a5b86.gz.parquet",
         "part-r-00062-ff5bbd4d-6518-4e17-8ff5-c8fd3d4a5b86.gz.parquet",
         10053618
        ],
        [
         "dbfs:/databricks-datasets/wikipedia-datasets/data-001/en_wikipedia/articles-only-parquet/part-r-00063-ff5bbd4d-6518-4e17-8ff5-c8fd3d4a5b86.gz.parquet",
         "part-r-00063-ff5bbd4d-6518-4e17-8ff5-c8fd3d4a5b86.gz.parquet",
         9000818
        ],
        [
         "dbfs:/databricks-datasets/wikipedia-datasets/data-001/en_wikipedia/articles-only-parquet/part-r-00064-ff5bbd4d-6518-4e17-8ff5-c8fd3d4a5b86.gz.parquet",
         "part-r-00064-ff5bbd4d-6518-4e17-8ff5-c8fd3d4a5b86.gz.parquet",
         12016176
        ],
        [
         "dbfs:/databricks-datasets/wikipedia-datasets/data-001/en_wikipedia/articles-only-parquet/part-r-00065-ff5bbd4d-6518-4e17-8ff5-c8fd3d4a5b86.gz.parquet",
         "part-r-00065-ff5bbd4d-6518-4e17-8ff5-c8fd3d4a5b86.gz.parquet",
         7831153
        ],
        [
         "dbfs:/databricks-datasets/wikipedia-datasets/data-001/en_wikipedia/articles-only-parquet/part-r-00066-ff5bbd4d-6518-4e17-8ff5-c8fd3d4a5b86.gz.parquet",
         "part-r-00066-ff5bbd4d-6518-4e17-8ff5-c8fd3d4a5b86.gz.parquet",
         9772035
        ],
        [
         "dbfs:/databricks-datasets/wikipedia-datasets/data-001/en_wikipedia/articles-only-parquet/part-r-00067-ff5bbd4d-6518-4e17-8ff5-c8fd3d4a5b86.gz.parquet",
         "part-r-00067-ff5bbd4d-6518-4e17-8ff5-c8fd3d4a5b86.gz.parquet",
         10120662
        ],
        [
         "dbfs:/databricks-datasets/wikipedia-datasets/data-001/en_wikipedia/articles-only-parquet/part-r-00068-ff5bbd4d-6518-4e17-8ff5-c8fd3d4a5b86.gz.parquet",
         "part-r-00068-ff5bbd4d-6518-4e17-8ff5-c8fd3d4a5b86.gz.parquet",
         12922292
        ],
        [
         "dbfs:/databricks-datasets/wikipedia-datasets/data-001/en_wikipedia/articles-only-parquet/part-r-00069-ff5bbd4d-6518-4e17-8ff5-c8fd3d4a5b86.gz.parquet",
         "part-r-00069-ff5bbd4d-6518-4e17-8ff5-c8fd3d4a5b86.gz.parquet",
         6758985
        ],
        [
         "dbfs:/databricks-datasets/wikipedia-datasets/data-001/en_wikipedia/articles-only-parquet/part-r-00070-ff5bbd4d-6518-4e17-8ff5-c8fd3d4a5b86.gz.parquet",
         "part-r-00070-ff5bbd4d-6518-4e17-8ff5-c8fd3d4a5b86.gz.parquet",
         9641339
        ],
        [
         "dbfs:/databricks-datasets/wikipedia-datasets/data-001/en_wikipedia/articles-only-parquet/part-r-00071-ff5bbd4d-6518-4e17-8ff5-c8fd3d4a5b86.gz.parquet",
         "part-r-00071-ff5bbd4d-6518-4e17-8ff5-c8fd3d4a5b86.gz.parquet",
         10189622
        ],
        [
         "dbfs:/databricks-datasets/wikipedia-datasets/data-001/en_wikipedia/articles-only-parquet/part-r-00072-ff5bbd4d-6518-4e17-8ff5-c8fd3d4a5b86.gz.parquet",
         "part-r-00072-ff5bbd4d-6518-4e17-8ff5-c8fd3d4a5b86.gz.parquet",
         10063094
        ],
        [
         "dbfs:/databricks-datasets/wikipedia-datasets/data-001/en_wikipedia/articles-only-parquet/part-r-00073-ff5bbd4d-6518-4e17-8ff5-c8fd3d4a5b86.gz.parquet",
         "part-r-00073-ff5bbd4d-6518-4e17-8ff5-c8fd3d4a5b86.gz.parquet",
         16010717
        ],
        [
         "dbfs:/databricks-datasets/wikipedia-datasets/data-001/en_wikipedia/articles-only-parquet/part-r-00074-ff5bbd4d-6518-4e17-8ff5-c8fd3d4a5b86.gz.parquet",
         "part-r-00074-ff5bbd4d-6518-4e17-8ff5-c8fd3d4a5b86.gz.parquet",
         8292961
        ],
        [
         "dbfs:/databricks-datasets/wikipedia-datasets/data-001/en_wikipedia/articles-only-parquet/part-r-00075-ff5bbd4d-6518-4e17-8ff5-c8fd3d4a5b86.gz.parquet",
         "part-r-00075-ff5bbd4d-6518-4e17-8ff5-c8fd3d4a5b86.gz.parquet",
         12315139
        ],
        [
         "dbfs:/databricks-datasets/wikipedia-datasets/data-001/en_wikipedia/articles-only-parquet/part-r-00076-ff5bbd4d-6518-4e17-8ff5-c8fd3d4a5b86.gz.parquet",
         "part-r-00076-ff5bbd4d-6518-4e17-8ff5-c8fd3d4a5b86.gz.parquet",
         12860940
        ],
        [
         "dbfs:/databricks-datasets/wikipedia-datasets/data-001/en_wikipedia/articles-only-parquet/part-r-00077-ff5bbd4d-6518-4e17-8ff5-c8fd3d4a5b86.gz.parquet",
         "part-r-00077-ff5bbd4d-6518-4e17-8ff5-c8fd3d4a5b86.gz.parquet",
         9591424
        ],
        [
         "dbfs:/databricks-datasets/wikipedia-datasets/data-001/en_wikipedia/articles-only-parquet/part-r-00078-ff5bbd4d-6518-4e17-8ff5-c8fd3d4a5b86.gz.parquet",
         "part-r-00078-ff5bbd4d-6518-4e17-8ff5-c8fd3d4a5b86.gz.parquet",
         7387571
        ],
        [
         "dbfs:/databricks-datasets/wikipedia-datasets/data-001/en_wikipedia/articles-only-parquet/part-r-00079-ff5bbd4d-6518-4e17-8ff5-c8fd3d4a5b86.gz.parquet",
         "part-r-00079-ff5bbd4d-6518-4e17-8ff5-c8fd3d4a5b86.gz.parquet",
         11066598
        ],
        [
         "dbfs:/databricks-datasets/wikipedia-datasets/data-001/en_wikipedia/articles-only-parquet/part-r-00080-ff5bbd4d-6518-4e17-8ff5-c8fd3d4a5b86.gz.parquet",
         "part-r-00080-ff5bbd4d-6518-4e17-8ff5-c8fd3d4a5b86.gz.parquet",
         8813707
        ],
        [
         "dbfs:/databricks-datasets/wikipedia-datasets/data-001/en_wikipedia/articles-only-parquet/part-r-00081-ff5bbd4d-6518-4e17-8ff5-c8fd3d4a5b86.gz.parquet",
         "part-r-00081-ff5bbd4d-6518-4e17-8ff5-c8fd3d4a5b86.gz.parquet",
         9649834
        ],
        [
         "dbfs:/databricks-datasets/wikipedia-datasets/data-001/en_wikipedia/articles-only-parquet/part-r-00082-ff5bbd4d-6518-4e17-8ff5-c8fd3d4a5b86.gz.parquet",
         "part-r-00082-ff5bbd4d-6518-4e17-8ff5-c8fd3d4a5b86.gz.parquet",
         15814685
        ],
        [
         "dbfs:/databricks-datasets/wikipedia-datasets/data-001/en_wikipedia/articles-only-parquet/part-r-00083-ff5bbd4d-6518-4e17-8ff5-c8fd3d4a5b86.gz.parquet",
         "part-r-00083-ff5bbd4d-6518-4e17-8ff5-c8fd3d4a5b86.gz.parquet",
         15922058
        ],
        [
         "dbfs:/databricks-datasets/wikipedia-datasets/data-001/en_wikipedia/articles-only-parquet/part-r-00084-ff5bbd4d-6518-4e17-8ff5-c8fd3d4a5b86.gz.parquet",
         "part-r-00084-ff5bbd4d-6518-4e17-8ff5-c8fd3d4a5b86.gz.parquet",
         7876899
        ],
        [
         "dbfs:/databricks-datasets/wikipedia-datasets/data-001/en_wikipedia/articles-only-parquet/part-r-00085-ff5bbd4d-6518-4e17-8ff5-c8fd3d4a5b86.gz.parquet",
         "part-r-00085-ff5bbd4d-6518-4e17-8ff5-c8fd3d4a5b86.gz.parquet",
         9464299
        ],
        [
         "dbfs:/databricks-datasets/wikipedia-datasets/data-001/en_wikipedia/articles-only-parquet/part-r-00086-ff5bbd4d-6518-4e17-8ff5-c8fd3d4a5b86.gz.parquet",
         "part-r-00086-ff5bbd4d-6518-4e17-8ff5-c8fd3d4a5b86.gz.parquet",
         10379002
        ],
        [
         "dbfs:/databricks-datasets/wikipedia-datasets/data-001/en_wikipedia/articles-only-parquet/part-r-00087-ff5bbd4d-6518-4e17-8ff5-c8fd3d4a5b86.gz.parquet",
         "part-r-00087-ff5bbd4d-6518-4e17-8ff5-c8fd3d4a5b86.gz.parquet",
         9652840
        ],
        [
         "dbfs:/databricks-datasets/wikipedia-datasets/data-001/en_wikipedia/articles-only-parquet/part-r-00088-ff5bbd4d-6518-4e17-8ff5-c8fd3d4a5b86.gz.parquet",
         "part-r-00088-ff5bbd4d-6518-4e17-8ff5-c8fd3d4a5b86.gz.parquet",
         16516894
        ],
        [
         "dbfs:/databricks-datasets/wikipedia-datasets/data-001/en_wikipedia/articles-only-parquet/part-r-00089-ff5bbd4d-6518-4e17-8ff5-c8fd3d4a5b86.gz.parquet",
         "part-r-00089-ff5bbd4d-6518-4e17-8ff5-c8fd3d4a5b86.gz.parquet",
         9411479
        ],
        [
         "dbfs:/databricks-datasets/wikipedia-datasets/data-001/en_wikipedia/articles-only-parquet/part-r-00090-ff5bbd4d-6518-4e17-8ff5-c8fd3d4a5b86.gz.parquet",
         "part-r-00090-ff5bbd4d-6518-4e17-8ff5-c8fd3d4a5b86.gz.parquet",
         9269378
        ],
        [
         "dbfs:/databricks-datasets/wikipedia-datasets/data-001/en_wikipedia/articles-only-parquet/part-r-00091-ff5bbd4d-6518-4e17-8ff5-c8fd3d4a5b86.gz.parquet",
         "part-r-00091-ff5bbd4d-6518-4e17-8ff5-c8fd3d4a5b86.gz.parquet",
         9803791
        ],
        [
         "dbfs:/databricks-datasets/wikipedia-datasets/data-001/en_wikipedia/articles-only-parquet/part-r-00092-ff5bbd4d-6518-4e17-8ff5-c8fd3d4a5b86.gz.parquet",
         "part-r-00092-ff5bbd4d-6518-4e17-8ff5-c8fd3d4a5b86.gz.parquet",
         11538525
        ],
        [
         "dbfs:/databricks-datasets/wikipedia-datasets/data-001/en_wikipedia/articles-only-parquet/part-r-00093-ff5bbd4d-6518-4e17-8ff5-c8fd3d4a5b86.gz.parquet",
         "part-r-00093-ff5bbd4d-6518-4e17-8ff5-c8fd3d4a5b86.gz.parquet",
         10353161
        ],
        [
         "dbfs:/databricks-datasets/wikipedia-datasets/data-001/en_wikipedia/articles-only-parquet/part-r-00094-ff5bbd4d-6518-4e17-8ff5-c8fd3d4a5b86.gz.parquet",
         "part-r-00094-ff5bbd4d-6518-4e17-8ff5-c8fd3d4a5b86.gz.parquet",
         9993561
        ],
        [
         "dbfs:/databricks-datasets/wikipedia-datasets/data-001/en_wikipedia/articles-only-parquet/part-r-00095-ff5bbd4d-6518-4e17-8ff5-c8fd3d4a5b86.gz.parquet",
         "part-r-00095-ff5bbd4d-6518-4e17-8ff5-c8fd3d4a5b86.gz.parquet",
         9372724
        ],
        [
         "dbfs:/databricks-datasets/wikipedia-datasets/data-001/en_wikipedia/articles-only-parquet/part-r-00096-ff5bbd4d-6518-4e17-8ff5-c8fd3d4a5b86.gz.parquet",
         "part-r-00096-ff5bbd4d-6518-4e17-8ff5-c8fd3d4a5b86.gz.parquet",
         9510409
        ],
        [
         "dbfs:/databricks-datasets/wikipedia-datasets/data-001/en_wikipedia/articles-only-parquet/part-r-00097-ff5bbd4d-6518-4e17-8ff5-c8fd3d4a5b86.gz.parquet",
         "part-r-00097-ff5bbd4d-6518-4e17-8ff5-c8fd3d4a5b86.gz.parquet",
         12011827
        ],
        [
         "dbfs:/databricks-datasets/wikipedia-datasets/data-001/en_wikipedia/articles-only-parquet/part-r-00098-ff5bbd4d-6518-4e17-8ff5-c8fd3d4a5b86.gz.parquet",
         "part-r-00098-ff5bbd4d-6518-4e17-8ff5-c8fd3d4a5b86.gz.parquet",
         9208348
        ],
        [
         "dbfs:/databricks-datasets/wikipedia-datasets/data-001/en_wikipedia/articles-only-parquet/part-r-00099-ff5bbd4d-6518-4e17-8ff5-c8fd3d4a5b86.gz.parquet",
         "part-r-00099-ff5bbd4d-6518-4e17-8ff5-c8fd3d4a5b86.gz.parquet",
         10203688
        ],
        [
         "dbfs:/databricks-datasets/wikipedia-datasets/data-001/en_wikipedia/articles-only-parquet/part-r-00100-ff5bbd4d-6518-4e17-8ff5-c8fd3d4a5b86.gz.parquet",
         "part-r-00100-ff5bbd4d-6518-4e17-8ff5-c8fd3d4a5b86.gz.parquet",
         10302622
        ],
        [
         "dbfs:/databricks-datasets/wikipedia-datasets/data-001/en_wikipedia/articles-only-parquet/part-r-00101-ff5bbd4d-6518-4e17-8ff5-c8fd3d4a5b86.gz.parquet",
         "part-r-00101-ff5bbd4d-6518-4e17-8ff5-c8fd3d4a5b86.gz.parquet",
         9421290
        ],
        [
         "dbfs:/databricks-datasets/wikipedia-datasets/data-001/en_wikipedia/articles-only-parquet/part-r-00102-ff5bbd4d-6518-4e17-8ff5-c8fd3d4a5b86.gz.parquet",
         "part-r-00102-ff5bbd4d-6518-4e17-8ff5-c8fd3d4a5b86.gz.parquet",
         20452731
        ],
        [
         "dbfs:/databricks-datasets/wikipedia-datasets/data-001/en_wikipedia/articles-only-parquet/part-r-00103-ff5bbd4d-6518-4e17-8ff5-c8fd3d4a5b86.gz.parquet",
         "part-r-00103-ff5bbd4d-6518-4e17-8ff5-c8fd3d4a5b86.gz.parquet",
         7380724
        ],
        [
         "dbfs:/databricks-datasets/wikipedia-datasets/data-001/en_wikipedia/articles-only-parquet/part-r-00104-ff5bbd4d-6518-4e17-8ff5-c8fd3d4a5b86.gz.parquet",
         "part-r-00104-ff5bbd4d-6518-4e17-8ff5-c8fd3d4a5b86.gz.parquet",
         10108716
        ],
        [
         "dbfs:/databricks-datasets/wikipedia-datasets/data-001/en_wikipedia/articles-only-parquet/part-r-00105-ff5bbd4d-6518-4e17-8ff5-c8fd3d4a5b86.gz.parquet",
         "part-r-00105-ff5bbd4d-6518-4e17-8ff5-c8fd3d4a5b86.gz.parquet",
         7569930
        ],
        [
         "dbfs:/databricks-datasets/wikipedia-datasets/data-001/en_wikipedia/articles-only-parquet/part-r-00106-ff5bbd4d-6518-4e17-8ff5-c8fd3d4a5b86.gz.parquet",
         "part-r-00106-ff5bbd4d-6518-4e17-8ff5-c8fd3d4a5b86.gz.parquet",
         9614790
        ],
        [
         "dbfs:/databricks-datasets/wikipedia-datasets/data-001/en_wikipedia/articles-only-parquet/part-r-00107-ff5bbd4d-6518-4e17-8ff5-c8fd3d4a5b86.gz.parquet",
         "part-r-00107-ff5bbd4d-6518-4e17-8ff5-c8fd3d4a5b86.gz.parquet",
         15124351
        ],
        [
         "dbfs:/databricks-datasets/wikipedia-datasets/data-001/en_wikipedia/articles-only-parquet/part-r-00108-ff5bbd4d-6518-4e17-8ff5-c8fd3d4a5b86.gz.parquet",
         "part-r-00108-ff5bbd4d-6518-4e17-8ff5-c8fd3d4a5b86.gz.parquet",
         12982721
        ],
        [
         "dbfs:/databricks-datasets/wikipedia-datasets/data-001/en_wikipedia/articles-only-parquet/part-r-00109-ff5bbd4d-6518-4e17-8ff5-c8fd3d4a5b86.gz.parquet",
         "part-r-00109-ff5bbd4d-6518-4e17-8ff5-c8fd3d4a5b86.gz.parquet",
         9349720
        ],
        [
         "dbfs:/databricks-datasets/wikipedia-datasets/data-001/en_wikipedia/articles-only-parquet/part-r-00110-ff5bbd4d-6518-4e17-8ff5-c8fd3d4a5b86.gz.parquet",
         "part-r-00110-ff5bbd4d-6518-4e17-8ff5-c8fd3d4a5b86.gz.parquet",
         9675838
        ],
        [
         "dbfs:/databricks-datasets/wikipedia-datasets/data-001/en_wikipedia/articles-only-parquet/part-r-00111-ff5bbd4d-6518-4e17-8ff5-c8fd3d4a5b86.gz.parquet",
         "part-r-00111-ff5bbd4d-6518-4e17-8ff5-c8fd3d4a5b86.gz.parquet",
         9768545
        ],
        [
         "dbfs:/databricks-datasets/wikipedia-datasets/data-001/en_wikipedia/articles-only-parquet/part-r-00112-ff5bbd4d-6518-4e17-8ff5-c8fd3d4a5b86.gz.parquet",
         "part-r-00112-ff5bbd4d-6518-4e17-8ff5-c8fd3d4a5b86.gz.parquet",
         10296407
        ],
        [
         "dbfs:/databricks-datasets/wikipedia-datasets/data-001/en_wikipedia/articles-only-parquet/part-r-00113-ff5bbd4d-6518-4e17-8ff5-c8fd3d4a5b86.gz.parquet",
         "part-r-00113-ff5bbd4d-6518-4e17-8ff5-c8fd3d4a5b86.gz.parquet",
         7903675
        ],
        [
         "dbfs:/databricks-datasets/wikipedia-datasets/data-001/en_wikipedia/articles-only-parquet/part-r-00114-ff5bbd4d-6518-4e17-8ff5-c8fd3d4a5b86.gz.parquet",
         "part-r-00114-ff5bbd4d-6518-4e17-8ff5-c8fd3d4a5b86.gz.parquet",
         8610273
        ],
        [
         "dbfs:/databricks-datasets/wikipedia-datasets/data-001/en_wikipedia/articles-only-parquet/part-r-00115-ff5bbd4d-6518-4e17-8ff5-c8fd3d4a5b86.gz.parquet",
         "part-r-00115-ff5bbd4d-6518-4e17-8ff5-c8fd3d4a5b86.gz.parquet",
         7334038
        ],
        [
         "dbfs:/databricks-datasets/wikipedia-datasets/data-001/en_wikipedia/articles-only-parquet/part-r-00116-ff5bbd4d-6518-4e17-8ff5-c8fd3d4a5b86.gz.parquet",
         "part-r-00116-ff5bbd4d-6518-4e17-8ff5-c8fd3d4a5b86.gz.parquet",
         8775681
        ],
        [
         "dbfs:/databricks-datasets/wikipedia-datasets/data-001/en_wikipedia/articles-only-parquet/part-r-00117-ff5bbd4d-6518-4e17-8ff5-c8fd3d4a5b86.gz.parquet",
         "part-r-00117-ff5bbd4d-6518-4e17-8ff5-c8fd3d4a5b86.gz.parquet",
         10403183
        ],
        [
         "dbfs:/databricks-datasets/wikipedia-datasets/data-001/en_wikipedia/articles-only-parquet/part-r-00118-ff5bbd4d-6518-4e17-8ff5-c8fd3d4a5b86.gz.parquet",
         "part-r-00118-ff5bbd4d-6518-4e17-8ff5-c8fd3d4a5b86.gz.parquet",
         11498287
        ],
        [
         "dbfs:/databricks-datasets/wikipedia-datasets/data-001/en_wikipedia/articles-only-parquet/part-r-00119-ff5bbd4d-6518-4e17-8ff5-c8fd3d4a5b86.gz.parquet",
         "part-r-00119-ff5bbd4d-6518-4e17-8ff5-c8fd3d4a5b86.gz.parquet",
         15225779
        ],
        [
         "dbfs:/databricks-datasets/wikipedia-datasets/data-001/en_wikipedia/articles-only-parquet/part-r-00120-ff5bbd4d-6518-4e17-8ff5-c8fd3d4a5b86.gz.parquet",
         "part-r-00120-ff5bbd4d-6518-4e17-8ff5-c8fd3d4a5b86.gz.parquet",
         5705668
        ],
        [
         "dbfs:/databricks-datasets/wikipedia-datasets/data-001/en_wikipedia/articles-only-parquet/part-r-00121-ff5bbd4d-6518-4e17-8ff5-c8fd3d4a5b86.gz.parquet",
         "part-r-00121-ff5bbd4d-6518-4e17-8ff5-c8fd3d4a5b86.gz.parquet",
         9198779
        ],
        [
         "dbfs:/databricks-datasets/wikipedia-datasets/data-001/en_wikipedia/articles-only-parquet/part-r-00122-ff5bbd4d-6518-4e17-8ff5-c8fd3d4a5b86.gz.parquet",
         "part-r-00122-ff5bbd4d-6518-4e17-8ff5-c8fd3d4a5b86.gz.parquet",
         9339209
        ],
        [
         "dbfs:/databricks-datasets/wikipedia-datasets/data-001/en_wikipedia/articles-only-parquet/part-r-00123-ff5bbd4d-6518-4e17-8ff5-c8fd3d4a5b86.gz.parquet",
         "part-r-00123-ff5bbd4d-6518-4e17-8ff5-c8fd3d4a5b86.gz.parquet",
         8793499
        ],
        [
         "dbfs:/databricks-datasets/wikipedia-datasets/data-001/en_wikipedia/articles-only-parquet/part-r-00124-ff5bbd4d-6518-4e17-8ff5-c8fd3d4a5b86.gz.parquet",
         "part-r-00124-ff5bbd4d-6518-4e17-8ff5-c8fd3d4a5b86.gz.parquet",
         14096500
        ],
        [
         "dbfs:/databricks-datasets/wikipedia-datasets/data-001/en_wikipedia/articles-only-parquet/part-r-00125-ff5bbd4d-6518-4e17-8ff5-c8fd3d4a5b86.gz.parquet",
         "part-r-00125-ff5bbd4d-6518-4e17-8ff5-c8fd3d4a5b86.gz.parquet",
         9552658
        ],
        [
         "dbfs:/databricks-datasets/wikipedia-datasets/data-001/en_wikipedia/articles-only-parquet/part-r-00126-ff5bbd4d-6518-4e17-8ff5-c8fd3d4a5b86.gz.parquet",
         "part-r-00126-ff5bbd4d-6518-4e17-8ff5-c8fd3d4a5b86.gz.parquet",
         9114240
        ],
        [
         "dbfs:/databricks-datasets/wikipedia-datasets/data-001/en_wikipedia/articles-only-parquet/part-r-00127-ff5bbd4d-6518-4e17-8ff5-c8fd3d4a5b86.gz.parquet",
         "part-r-00127-ff5bbd4d-6518-4e17-8ff5-c8fd3d4a5b86.gz.parquet",
         9221401
        ],
        [
         "dbfs:/databricks-datasets/wikipedia-datasets/data-001/en_wikipedia/articles-only-parquet/part-r-00128-ff5bbd4d-6518-4e17-8ff5-c8fd3d4a5b86.gz.parquet",
         "part-r-00128-ff5bbd4d-6518-4e17-8ff5-c8fd3d4a5b86.gz.parquet",
         9546387
        ],
        [
         "dbfs:/databricks-datasets/wikipedia-datasets/data-001/en_wikipedia/articles-only-parquet/part-r-00129-ff5bbd4d-6518-4e17-8ff5-c8fd3d4a5b86.gz.parquet",
         "part-r-00129-ff5bbd4d-6518-4e17-8ff5-c8fd3d4a5b86.gz.parquet",
         9327881
        ],
        [
         "dbfs:/databricks-datasets/wikipedia-datasets/data-001/en_wikipedia/articles-only-parquet/part-r-00130-ff5bbd4d-6518-4e17-8ff5-c8fd3d4a5b86.gz.parquet",
         "part-r-00130-ff5bbd4d-6518-4e17-8ff5-c8fd3d4a5b86.gz.parquet",
         9183546
        ],
        [
         "dbfs:/databricks-datasets/wikipedia-datasets/data-001/en_wikipedia/articles-only-parquet/part-r-00131-ff5bbd4d-6518-4e17-8ff5-c8fd3d4a5b86.gz.parquet",
         "part-r-00131-ff5bbd4d-6518-4e17-8ff5-c8fd3d4a5b86.gz.parquet",
         6331265
        ],
        [
         "dbfs:/databricks-datasets/wikipedia-datasets/data-001/en_wikipedia/articles-only-parquet/part-r-00132-ff5bbd4d-6518-4e17-8ff5-c8fd3d4a5b86.gz.parquet",
         "part-r-00132-ff5bbd4d-6518-4e17-8ff5-c8fd3d4a5b86.gz.parquet",
         8650446
        ],
        [
         "dbfs:/databricks-datasets/wikipedia-datasets/data-001/en_wikipedia/articles-only-parquet/part-r-00133-ff5bbd4d-6518-4e17-8ff5-c8fd3d4a5b86.gz.parquet",
         "part-r-00133-ff5bbd4d-6518-4e17-8ff5-c8fd3d4a5b86.gz.parquet",
         9940226
        ],
        [
         "dbfs:/databricks-datasets/wikipedia-datasets/data-001/en_wikipedia/articles-only-parquet/part-r-00134-ff5bbd4d-6518-4e17-8ff5-c8fd3d4a5b86.gz.parquet",
         "part-r-00134-ff5bbd4d-6518-4e17-8ff5-c8fd3d4a5b86.gz.parquet",
         16022365
        ],
        [
         "dbfs:/databricks-datasets/wikipedia-datasets/data-001/en_wikipedia/articles-only-parquet/part-r-00135-ff5bbd4d-6518-4e17-8ff5-c8fd3d4a5b86.gz.parquet",
         "part-r-00135-ff5bbd4d-6518-4e17-8ff5-c8fd3d4a5b86.gz.parquet",
         9962111
        ],
        [
         "dbfs:/databricks-datasets/wikipedia-datasets/data-001/en_wikipedia/articles-only-parquet/part-r-00136-ff5bbd4d-6518-4e17-8ff5-c8fd3d4a5b86.gz.parquet",
         "part-r-00136-ff5bbd4d-6518-4e17-8ff5-c8fd3d4a5b86.gz.parquet",
         16916541
        ],
        [
         "dbfs:/databricks-datasets/wikipedia-datasets/data-001/en_wikipedia/articles-only-parquet/part-r-00137-ff5bbd4d-6518-4e17-8ff5-c8fd3d4a5b86.gz.parquet",
         "part-r-00137-ff5bbd4d-6518-4e17-8ff5-c8fd3d4a5b86.gz.parquet",
         8915418
        ],
        [
         "dbfs:/databricks-datasets/wikipedia-datasets/data-001/en_wikipedia/articles-only-parquet/part-r-00138-ff5bbd4d-6518-4e17-8ff5-c8fd3d4a5b86.gz.parquet",
         "part-r-00138-ff5bbd4d-6518-4e17-8ff5-c8fd3d4a5b86.gz.parquet",
         8987332
        ],
        [
         "dbfs:/databricks-datasets/wikipedia-datasets/data-001/en_wikipedia/articles-only-parquet/part-r-00139-ff5bbd4d-6518-4e17-8ff5-c8fd3d4a5b86.gz.parquet",
         "part-r-00139-ff5bbd4d-6518-4e17-8ff5-c8fd3d4a5b86.gz.parquet",
         6666494
        ],
        [
         "dbfs:/databricks-datasets/wikipedia-datasets/data-001/en_wikipedia/articles-only-parquet/part-r-00140-ff5bbd4d-6518-4e17-8ff5-c8fd3d4a5b86.gz.parquet",
         "part-r-00140-ff5bbd4d-6518-4e17-8ff5-c8fd3d4a5b86.gz.parquet",
         15904007
        ],
        [
         "dbfs:/databricks-datasets/wikipedia-datasets/data-001/en_wikipedia/articles-only-parquet/part-r-00141-ff5bbd4d-6518-4e17-8ff5-c8fd3d4a5b86.gz.parquet",
         "part-r-00141-ff5bbd4d-6518-4e17-8ff5-c8fd3d4a5b86.gz.parquet",
         8088088
        ],
        [
         "dbfs:/databricks-datasets/wikipedia-datasets/data-001/en_wikipedia/articles-only-parquet/part-r-00142-ff5bbd4d-6518-4e17-8ff5-c8fd3d4a5b86.gz.parquet",
         "part-r-00142-ff5bbd4d-6518-4e17-8ff5-c8fd3d4a5b86.gz.parquet",
         8086657
        ],
        [
         "dbfs:/databricks-datasets/wikipedia-datasets/data-001/en_wikipedia/articles-only-parquet/part-r-00143-ff5bbd4d-6518-4e17-8ff5-c8fd3d4a5b86.gz.parquet",
         "part-r-00143-ff5bbd4d-6518-4e17-8ff5-c8fd3d4a5b86.gz.parquet",
         11586873
        ],
        [
         "dbfs:/databricks-datasets/wikipedia-datasets/data-001/en_wikipedia/articles-only-parquet/part-r-00144-ff5bbd4d-6518-4e17-8ff5-c8fd3d4a5b86.gz.parquet",
         "part-r-00144-ff5bbd4d-6518-4e17-8ff5-c8fd3d4a5b86.gz.parquet",
         5293171
        ],
        [
         "dbfs:/databricks-datasets/wikipedia-datasets/data-001/en_wikipedia/articles-only-parquet/part-r-00145-ff5bbd4d-6518-4e17-8ff5-c8fd3d4a5b86.gz.parquet",
         "part-r-00145-ff5bbd4d-6518-4e17-8ff5-c8fd3d4a5b86.gz.parquet",
         7699970
        ],
        [
         "dbfs:/databricks-datasets/wikipedia-datasets/data-001/en_wikipedia/articles-only-parquet/part-r-00146-ff5bbd4d-6518-4e17-8ff5-c8fd3d4a5b86.gz.parquet",
         "part-r-00146-ff5bbd4d-6518-4e17-8ff5-c8fd3d4a5b86.gz.parquet",
         9067220
        ],
        [
         "dbfs:/databricks-datasets/wikipedia-datasets/data-001/en_wikipedia/articles-only-parquet/part-r-00147-ff5bbd4d-6518-4e17-8ff5-c8fd3d4a5b86.gz.parquet",
         "part-r-00147-ff5bbd4d-6518-4e17-8ff5-c8fd3d4a5b86.gz.parquet",
         9606936
        ],
        [
         "dbfs:/databricks-datasets/wikipedia-datasets/data-001/en_wikipedia/articles-only-parquet/part-r-00148-ff5bbd4d-6518-4e17-8ff5-c8fd3d4a5b86.gz.parquet",
         "part-r-00148-ff5bbd4d-6518-4e17-8ff5-c8fd3d4a5b86.gz.parquet",
         12325689
        ],
        [
         "dbfs:/databricks-datasets/wikipedia-datasets/data-001/en_wikipedia/articles-only-parquet/part-r-00149-ff5bbd4d-6518-4e17-8ff5-c8fd3d4a5b86.gz.parquet",
         "part-r-00149-ff5bbd4d-6518-4e17-8ff5-c8fd3d4a5b86.gz.parquet",
         14438945
        ],
        [
         "dbfs:/databricks-datasets/wikipedia-datasets/data-001/en_wikipedia/articles-only-parquet/part-r-00150-ff5bbd4d-6518-4e17-8ff5-c8fd3d4a5b86.gz.parquet",
         "part-r-00150-ff5bbd4d-6518-4e17-8ff5-c8fd3d4a5b86.gz.parquet",
         9651122
        ],
        [
         "dbfs:/databricks-datasets/wikipedia-datasets/data-001/en_wikipedia/articles-only-parquet/part-r-00151-ff5bbd4d-6518-4e17-8ff5-c8fd3d4a5b86.gz.parquet",
         "part-r-00151-ff5bbd4d-6518-4e17-8ff5-c8fd3d4a5b86.gz.parquet",
         9264025
        ],
        [
         "dbfs:/databricks-datasets/wikipedia-datasets/data-001/en_wikipedia/articles-only-parquet/part-r-00152-ff5bbd4d-6518-4e17-8ff5-c8fd3d4a5b86.gz.parquet",
         "part-r-00152-ff5bbd4d-6518-4e17-8ff5-c8fd3d4a5b86.gz.parquet",
         9439553
        ],
        [
         "dbfs:/databricks-datasets/wikipedia-datasets/data-001/en_wikipedia/articles-only-parquet/part-r-00153-ff5bbd4d-6518-4e17-8ff5-c8fd3d4a5b86.gz.parquet",
         "part-r-00153-ff5bbd4d-6518-4e17-8ff5-c8fd3d4a5b86.gz.parquet",
         7377705
        ],
        [
         "dbfs:/databricks-datasets/wikipedia-datasets/data-001/en_wikipedia/articles-only-parquet/part-r-00154-ff5bbd4d-6518-4e17-8ff5-c8fd3d4a5b86.gz.parquet",
         "part-r-00154-ff5bbd4d-6518-4e17-8ff5-c8fd3d4a5b86.gz.parquet",
         9419116
        ],
        [
         "dbfs:/databricks-datasets/wikipedia-datasets/data-001/en_wikipedia/articles-only-parquet/part-r-00155-ff5bbd4d-6518-4e17-8ff5-c8fd3d4a5b86.gz.parquet",
         "part-r-00155-ff5bbd4d-6518-4e17-8ff5-c8fd3d4a5b86.gz.parquet",
         10784706
        ],
        [
         "dbfs:/databricks-datasets/wikipedia-datasets/data-001/en_wikipedia/articles-only-parquet/part-r-00156-ff5bbd4d-6518-4e17-8ff5-c8fd3d4a5b86.gz.parquet",
         "part-r-00156-ff5bbd4d-6518-4e17-8ff5-c8fd3d4a5b86.gz.parquet",
         9364676
        ],
        [
         "dbfs:/databricks-datasets/wikipedia-datasets/data-001/en_wikipedia/articles-only-parquet/part-r-00157-ff5bbd4d-6518-4e17-8ff5-c8fd3d4a5b86.gz.parquet",
         "part-r-00157-ff5bbd4d-6518-4e17-8ff5-c8fd3d4a5b86.gz.parquet",
         12070118
        ],
        [
         "dbfs:/databricks-datasets/wikipedia-datasets/data-001/en_wikipedia/articles-only-parquet/part-r-00158-ff5bbd4d-6518-4e17-8ff5-c8fd3d4a5b86.gz.parquet",
         "part-r-00158-ff5bbd4d-6518-4e17-8ff5-c8fd3d4a5b86.gz.parquet",
         8537952
        ],
        [
         "dbfs:/databricks-datasets/wikipedia-datasets/data-001/en_wikipedia/articles-only-parquet/part-r-00159-ff5bbd4d-6518-4e17-8ff5-c8fd3d4a5b86.gz.parquet",
         "part-r-00159-ff5bbd4d-6518-4e17-8ff5-c8fd3d4a5b86.gz.parquet",
         7146853
        ],
        [
         "dbfs:/databricks-datasets/wikipedia-datasets/data-001/en_wikipedia/articles-only-parquet/part-r-00160-ff5bbd4d-6518-4e17-8ff5-c8fd3d4a5b86.gz.parquet",
         "part-r-00160-ff5bbd4d-6518-4e17-8ff5-c8fd3d4a5b86.gz.parquet",
         9510045
        ],
        [
         "dbfs:/databricks-datasets/wikipedia-datasets/data-001/en_wikipedia/articles-only-parquet/part-r-00161-ff5bbd4d-6518-4e17-8ff5-c8fd3d4a5b86.gz.parquet",
         "part-r-00161-ff5bbd4d-6518-4e17-8ff5-c8fd3d4a5b86.gz.parquet",
         9820709
        ],
        [
         "dbfs:/databricks-datasets/wikipedia-datasets/data-001/en_wikipedia/articles-only-parquet/part-r-00162-ff5bbd4d-6518-4e17-8ff5-c8fd3d4a5b86.gz.parquet",
         "part-r-00162-ff5bbd4d-6518-4e17-8ff5-c8fd3d4a5b86.gz.parquet",
         12594130
        ],
        [
         "dbfs:/databricks-datasets/wikipedia-datasets/data-001/en_wikipedia/articles-only-parquet/part-r-00163-ff5bbd4d-6518-4e17-8ff5-c8fd3d4a5b86.gz.parquet",
         "part-r-00163-ff5bbd4d-6518-4e17-8ff5-c8fd3d4a5b86.gz.parquet",
         8738189
        ],
        [
         "dbfs:/databricks-datasets/wikipedia-datasets/data-001/en_wikipedia/articles-only-parquet/part-r-00164-ff5bbd4d-6518-4e17-8ff5-c8fd3d4a5b86.gz.parquet",
         "part-r-00164-ff5bbd4d-6518-4e17-8ff5-c8fd3d4a5b86.gz.parquet",
         16652668
        ],
        [
         "dbfs:/databricks-datasets/wikipedia-datasets/data-001/en_wikipedia/articles-only-parquet/part-r-00165-ff5bbd4d-6518-4e17-8ff5-c8fd3d4a5b86.gz.parquet",
         "part-r-00165-ff5bbd4d-6518-4e17-8ff5-c8fd3d4a5b86.gz.parquet",
         10131941
        ],
        [
         "dbfs:/databricks-datasets/wikipedia-datasets/data-001/en_wikipedia/articles-only-parquet/part-r-00166-ff5bbd4d-6518-4e17-8ff5-c8fd3d4a5b86.gz.parquet",
         "part-r-00166-ff5bbd4d-6518-4e17-8ff5-c8fd3d4a5b86.gz.parquet",
         9352219
        ],
        [
         "dbfs:/databricks-datasets/wikipedia-datasets/data-001/en_wikipedia/articles-only-parquet/part-r-00167-ff5bbd4d-6518-4e17-8ff5-c8fd3d4a5b86.gz.parquet",
         "part-r-00167-ff5bbd4d-6518-4e17-8ff5-c8fd3d4a5b86.gz.parquet",
         9953318
        ],
        [
         "dbfs:/databricks-datasets/wikipedia-datasets/data-001/en_wikipedia/articles-only-parquet/part-r-00168-ff5bbd4d-6518-4e17-8ff5-c8fd3d4a5b86.gz.parquet",
         "part-r-00168-ff5bbd4d-6518-4e17-8ff5-c8fd3d4a5b86.gz.parquet",
         8238787
        ],
        [
         "dbfs:/databricks-datasets/wikipedia-datasets/data-001/en_wikipedia/articles-only-parquet/part-r-00169-ff5bbd4d-6518-4e17-8ff5-c8fd3d4a5b86.gz.parquet",
         "part-r-00169-ff5bbd4d-6518-4e17-8ff5-c8fd3d4a5b86.gz.parquet",
         4484281
        ],
        [
         "dbfs:/databricks-datasets/wikipedia-datasets/data-001/en_wikipedia/articles-only-parquet/part-r-00170-ff5bbd4d-6518-4e17-8ff5-c8fd3d4a5b86.gz.parquet",
         "part-r-00170-ff5bbd4d-6518-4e17-8ff5-c8fd3d4a5b86.gz.parquet",
         9565226
        ],
        [
         "dbfs:/databricks-datasets/wikipedia-datasets/data-001/en_wikipedia/articles-only-parquet/part-r-00171-ff5bbd4d-6518-4e17-8ff5-c8fd3d4a5b86.gz.parquet",
         "part-r-00171-ff5bbd4d-6518-4e17-8ff5-c8fd3d4a5b86.gz.parquet",
         10014929
        ],
        [
         "dbfs:/databricks-datasets/wikipedia-datasets/data-001/en_wikipedia/articles-only-parquet/part-r-00172-ff5bbd4d-6518-4e17-8ff5-c8fd3d4a5b86.gz.parquet",
         "part-r-00172-ff5bbd4d-6518-4e17-8ff5-c8fd3d4a5b86.gz.parquet",
         14930238
        ],
        [
         "dbfs:/databricks-datasets/wikipedia-datasets/data-001/en_wikipedia/articles-only-parquet/part-r-00173-ff5bbd4d-6518-4e17-8ff5-c8fd3d4a5b86.gz.parquet",
         "part-r-00173-ff5bbd4d-6518-4e17-8ff5-c8fd3d4a5b86.gz.parquet",
         7501655
        ],
        [
         "dbfs:/databricks-datasets/wikipedia-datasets/data-001/en_wikipedia/articles-only-parquet/part-r-00174-ff5bbd4d-6518-4e17-8ff5-c8fd3d4a5b86.gz.parquet",
         "part-r-00174-ff5bbd4d-6518-4e17-8ff5-c8fd3d4a5b86.gz.parquet",
         8761140
        ],
        [
         "dbfs:/databricks-datasets/wikipedia-datasets/data-001/en_wikipedia/articles-only-parquet/part-r-00175-ff5bbd4d-6518-4e17-8ff5-c8fd3d4a5b86.gz.parquet",
         "part-r-00175-ff5bbd4d-6518-4e17-8ff5-c8fd3d4a5b86.gz.parquet",
         20625935
        ],
        [
         "dbfs:/databricks-datasets/wikipedia-datasets/data-001/en_wikipedia/articles-only-parquet/part-r-00176-ff5bbd4d-6518-4e17-8ff5-c8fd3d4a5b86.gz.parquet",
         "part-r-00176-ff5bbd4d-6518-4e17-8ff5-c8fd3d4a5b86.gz.parquet",
         9516403
        ],
        [
         "dbfs:/databricks-datasets/wikipedia-datasets/data-001/en_wikipedia/articles-only-parquet/part-r-00177-ff5bbd4d-6518-4e17-8ff5-c8fd3d4a5b86.gz.parquet",
         "part-r-00177-ff5bbd4d-6518-4e17-8ff5-c8fd3d4a5b86.gz.parquet",
         5395450
        ],
        [
         "dbfs:/databricks-datasets/wikipedia-datasets/data-001/en_wikipedia/articles-only-parquet/part-r-00178-ff5bbd4d-6518-4e17-8ff5-c8fd3d4a5b86.gz.parquet",
         "part-r-00178-ff5bbd4d-6518-4e17-8ff5-c8fd3d4a5b86.gz.parquet",
         7650524
        ],
        [
         "dbfs:/databricks-datasets/wikipedia-datasets/data-001/en_wikipedia/articles-only-parquet/part-r-00179-ff5bbd4d-6518-4e17-8ff5-c8fd3d4a5b86.gz.parquet",
         "part-r-00179-ff5bbd4d-6518-4e17-8ff5-c8fd3d4a5b86.gz.parquet",
         11583442
        ],
        [
         "dbfs:/databricks-datasets/wikipedia-datasets/data-001/en_wikipedia/articles-only-parquet/part-r-00180-ff5bbd4d-6518-4e17-8ff5-c8fd3d4a5b86.gz.parquet",
         "part-r-00180-ff5bbd4d-6518-4e17-8ff5-c8fd3d4a5b86.gz.parquet",
         21880863
        ],
        [
         "dbfs:/databricks-datasets/wikipedia-datasets/data-001/en_wikipedia/articles-only-parquet/part-r-00181-ff5bbd4d-6518-4e17-8ff5-c8fd3d4a5b86.gz.parquet",
         "part-r-00181-ff5bbd4d-6518-4e17-8ff5-c8fd3d4a5b86.gz.parquet",
         9191859
        ],
        [
         "dbfs:/databricks-datasets/wikipedia-datasets/data-001/en_wikipedia/articles-only-parquet/part-r-00182-ff5bbd4d-6518-4e17-8ff5-c8fd3d4a5b86.gz.parquet",
         "part-r-00182-ff5bbd4d-6518-4e17-8ff5-c8fd3d4a5b86.gz.parquet",
         9879021
        ],
        [
         "dbfs:/databricks-datasets/wikipedia-datasets/data-001/en_wikipedia/articles-only-parquet/part-r-00183-ff5bbd4d-6518-4e17-8ff5-c8fd3d4a5b86.gz.parquet",
         "part-r-00183-ff5bbd4d-6518-4e17-8ff5-c8fd3d4a5b86.gz.parquet",
         9176539
        ],
        [
         "dbfs:/databricks-datasets/wikipedia-datasets/data-001/en_wikipedia/articles-only-parquet/part-r-00184-ff5bbd4d-6518-4e17-8ff5-c8fd3d4a5b86.gz.parquet",
         "part-r-00184-ff5bbd4d-6518-4e17-8ff5-c8fd3d4a5b86.gz.parquet",
         9322625
        ],
        [
         "dbfs:/databricks-datasets/wikipedia-datasets/data-001/en_wikipedia/articles-only-parquet/part-r-00185-ff5bbd4d-6518-4e17-8ff5-c8fd3d4a5b86.gz.parquet",
         "part-r-00185-ff5bbd4d-6518-4e17-8ff5-c8fd3d4a5b86.gz.parquet",
         9627246
        ],
        [
         "dbfs:/databricks-datasets/wikipedia-datasets/data-001/en_wikipedia/articles-only-parquet/part-r-00186-ff5bbd4d-6518-4e17-8ff5-c8fd3d4a5b86.gz.parquet",
         "part-r-00186-ff5bbd4d-6518-4e17-8ff5-c8fd3d4a5b86.gz.parquet",
         9922030
        ],
        [
         "dbfs:/databricks-datasets/wikipedia-datasets/data-001/en_wikipedia/articles-only-parquet/part-r-00187-ff5bbd4d-6518-4e17-8ff5-c8fd3d4a5b86.gz.parquet",
         "part-r-00187-ff5bbd4d-6518-4e17-8ff5-c8fd3d4a5b86.gz.parquet",
         9422632
        ],
        [
         "dbfs:/databricks-datasets/wikipedia-datasets/data-001/en_wikipedia/articles-only-parquet/part-r-00188-ff5bbd4d-6518-4e17-8ff5-c8fd3d4a5b86.gz.parquet",
         "part-r-00188-ff5bbd4d-6518-4e17-8ff5-c8fd3d4a5b86.gz.parquet",
         10840256
        ],
        [
         "dbfs:/databricks-datasets/wikipedia-datasets/data-001/en_wikipedia/articles-only-parquet/part-r-00189-ff5bbd4d-6518-4e17-8ff5-c8fd3d4a5b86.gz.parquet",
         "part-r-00189-ff5bbd4d-6518-4e17-8ff5-c8fd3d4a5b86.gz.parquet",
         18588823
        ],
        [
         "dbfs:/databricks-datasets/wikipedia-datasets/data-001/en_wikipedia/articles-only-parquet/part-r-00190-ff5bbd4d-6518-4e17-8ff5-c8fd3d4a5b86.gz.parquet",
         "part-r-00190-ff5bbd4d-6518-4e17-8ff5-c8fd3d4a5b86.gz.parquet",
         9585682
        ],
        [
         "dbfs:/databricks-datasets/wikipedia-datasets/data-001/en_wikipedia/articles-only-parquet/part-r-00191-ff5bbd4d-6518-4e17-8ff5-c8fd3d4a5b86.gz.parquet",
         "part-r-00191-ff5bbd4d-6518-4e17-8ff5-c8fd3d4a5b86.gz.parquet",
         8723540
        ],
        [
         "dbfs:/databricks-datasets/wikipedia-datasets/data-001/en_wikipedia/articles-only-parquet/part-r-00192-ff5bbd4d-6518-4e17-8ff5-c8fd3d4a5b86.gz.parquet",
         "part-r-00192-ff5bbd4d-6518-4e17-8ff5-c8fd3d4a5b86.gz.parquet",
         15435111
        ],
        [
         "dbfs:/databricks-datasets/wikipedia-datasets/data-001/en_wikipedia/articles-only-parquet/part-r-00193-ff5bbd4d-6518-4e17-8ff5-c8fd3d4a5b86.gz.parquet",
         "part-r-00193-ff5bbd4d-6518-4e17-8ff5-c8fd3d4a5b86.gz.parquet",
         8617882
        ],
        [
         "dbfs:/databricks-datasets/wikipedia-datasets/data-001/en_wikipedia/articles-only-parquet/part-r-00194-ff5bbd4d-6518-4e17-8ff5-c8fd3d4a5b86.gz.parquet",
         "part-r-00194-ff5bbd4d-6518-4e17-8ff5-c8fd3d4a5b86.gz.parquet",
         9232130
        ],
        [
         "dbfs:/databricks-datasets/wikipedia-datasets/data-001/en_wikipedia/articles-only-parquet/part-r-00195-ff5bbd4d-6518-4e17-8ff5-c8fd3d4a5b86.gz.parquet",
         "part-r-00195-ff5bbd4d-6518-4e17-8ff5-c8fd3d4a5b86.gz.parquet",
         9161547
        ],
        [
         "dbfs:/databricks-datasets/wikipedia-datasets/data-001/en_wikipedia/articles-only-parquet/part-r-00196-ff5bbd4d-6518-4e17-8ff5-c8fd3d4a5b86.gz.parquet",
         "part-r-00196-ff5bbd4d-6518-4e17-8ff5-c8fd3d4a5b86.gz.parquet",
         8011933
        ],
        [
         "dbfs:/databricks-datasets/wikipedia-datasets/data-001/en_wikipedia/articles-only-parquet/part-r-00197-ff5bbd4d-6518-4e17-8ff5-c8fd3d4a5b86.gz.parquet",
         "part-r-00197-ff5bbd4d-6518-4e17-8ff5-c8fd3d4a5b86.gz.parquet",
         9538801
        ],
        [
         "dbfs:/databricks-datasets/wikipedia-datasets/data-001/en_wikipedia/articles-only-parquet/part-r-00198-ff5bbd4d-6518-4e17-8ff5-c8fd3d4a5b86.gz.parquet",
         "part-r-00198-ff5bbd4d-6518-4e17-8ff5-c8fd3d4a5b86.gz.parquet",
         12597644
        ],
        [
         "dbfs:/databricks-datasets/wikipedia-datasets/data-001/en_wikipedia/articles-only-parquet/part-r-00199-ff5bbd4d-6518-4e17-8ff5-c8fd3d4a5b86.gz.parquet",
         "part-r-00199-ff5bbd4d-6518-4e17-8ff5-c8fd3d4a5b86.gz.parquet",
         9477056
        ],
        [
         "dbfs:/databricks-datasets/wikipedia-datasets/data-001/en_wikipedia/articles-only-parquet/part-r-00200-ff5bbd4d-6518-4e17-8ff5-c8fd3d4a5b86.gz.parquet",
         "part-r-00200-ff5bbd4d-6518-4e17-8ff5-c8fd3d4a5b86.gz.parquet",
         10144017
        ],
        [
         "dbfs:/databricks-datasets/wikipedia-datasets/data-001/en_wikipedia/articles-only-parquet/part-r-00201-ff5bbd4d-6518-4e17-8ff5-c8fd3d4a5b86.gz.parquet",
         "part-r-00201-ff5bbd4d-6518-4e17-8ff5-c8fd3d4a5b86.gz.parquet",
         11421451
        ],
        [
         "dbfs:/databricks-datasets/wikipedia-datasets/data-001/en_wikipedia/articles-only-parquet/part-r-00202-ff5bbd4d-6518-4e17-8ff5-c8fd3d4a5b86.gz.parquet",
         "part-r-00202-ff5bbd4d-6518-4e17-8ff5-c8fd3d4a5b86.gz.parquet",
         9667878
        ],
        [
         "dbfs:/databricks-datasets/wikipedia-datasets/data-001/en_wikipedia/articles-only-parquet/part-r-00203-ff5bbd4d-6518-4e17-8ff5-c8fd3d4a5b86.gz.parquet",
         "part-r-00203-ff5bbd4d-6518-4e17-8ff5-c8fd3d4a5b86.gz.parquet",
         9409955
        ],
        [
         "dbfs:/databricks-datasets/wikipedia-datasets/data-001/en_wikipedia/articles-only-parquet/part-r-00204-ff5bbd4d-6518-4e17-8ff5-c8fd3d4a5b86.gz.parquet",
         "part-r-00204-ff5bbd4d-6518-4e17-8ff5-c8fd3d4a5b86.gz.parquet",
         8816014
        ],
        [
         "dbfs:/databricks-datasets/wikipedia-datasets/data-001/en_wikipedia/articles-only-parquet/part-r-00205-ff5bbd4d-6518-4e17-8ff5-c8fd3d4a5b86.gz.parquet",
         "part-r-00205-ff5bbd4d-6518-4e17-8ff5-c8fd3d4a5b86.gz.parquet",
         13435234
        ],
        [
         "dbfs:/databricks-datasets/wikipedia-datasets/data-001/en_wikipedia/articles-only-parquet/part-r-00206-ff5bbd4d-6518-4e17-8ff5-c8fd3d4a5b86.gz.parquet",
         "part-r-00206-ff5bbd4d-6518-4e17-8ff5-c8fd3d4a5b86.gz.parquet",
         12449899
        ],
        [
         "dbfs:/databricks-datasets/wikipedia-datasets/data-001/en_wikipedia/articles-only-parquet/part-r-00207-ff5bbd4d-6518-4e17-8ff5-c8fd3d4a5b86.gz.parquet",
         "part-r-00207-ff5bbd4d-6518-4e17-8ff5-c8fd3d4a5b86.gz.parquet",
         8786917
        ],
        [
         "dbfs:/databricks-datasets/wikipedia-datasets/data-001/en_wikipedia/articles-only-parquet/part-r-00208-ff5bbd4d-6518-4e17-8ff5-c8fd3d4a5b86.gz.parquet",
         "part-r-00208-ff5bbd4d-6518-4e17-8ff5-c8fd3d4a5b86.gz.parquet",
         8705839
        ],
        [
         "dbfs:/databricks-datasets/wikipedia-datasets/data-001/en_wikipedia/articles-only-parquet/part-r-00209-ff5bbd4d-6518-4e17-8ff5-c8fd3d4a5b86.gz.parquet",
         "part-r-00209-ff5bbd4d-6518-4e17-8ff5-c8fd3d4a5b86.gz.parquet",
         9792118
        ],
        [
         "dbfs:/databricks-datasets/wikipedia-datasets/data-001/en_wikipedia/articles-only-parquet/part-r-00210-ff5bbd4d-6518-4e17-8ff5-c8fd3d4a5b86.gz.parquet",
         "part-r-00210-ff5bbd4d-6518-4e17-8ff5-c8fd3d4a5b86.gz.parquet",
         9307690
        ],
        [
         "dbfs:/databricks-datasets/wikipedia-datasets/data-001/en_wikipedia/articles-only-parquet/part-r-00211-ff5bbd4d-6518-4e17-8ff5-c8fd3d4a5b86.gz.parquet",
         "part-r-00211-ff5bbd4d-6518-4e17-8ff5-c8fd3d4a5b86.gz.parquet",
         14480807
        ],
        [
         "dbfs:/databricks-datasets/wikipedia-datasets/data-001/en_wikipedia/articles-only-parquet/part-r-00212-ff5bbd4d-6518-4e17-8ff5-c8fd3d4a5b86.gz.parquet",
         "part-r-00212-ff5bbd4d-6518-4e17-8ff5-c8fd3d4a5b86.gz.parquet",
         8270211
        ],
        [
         "dbfs:/databricks-datasets/wikipedia-datasets/data-001/en_wikipedia/articles-only-parquet/part-r-00213-ff5bbd4d-6518-4e17-8ff5-c8fd3d4a5b86.gz.parquet",
         "part-r-00213-ff5bbd4d-6518-4e17-8ff5-c8fd3d4a5b86.gz.parquet",
         10416653
        ],
        [
         "dbfs:/databricks-datasets/wikipedia-datasets/data-001/en_wikipedia/articles-only-parquet/part-r-00214-ff5bbd4d-6518-4e17-8ff5-c8fd3d4a5b86.gz.parquet",
         "part-r-00214-ff5bbd4d-6518-4e17-8ff5-c8fd3d4a5b86.gz.parquet",
         8983956
        ],
        [
         "dbfs:/databricks-datasets/wikipedia-datasets/data-001/en_wikipedia/articles-only-parquet/part-r-00215-ff5bbd4d-6518-4e17-8ff5-c8fd3d4a5b86.gz.parquet",
         "part-r-00215-ff5bbd4d-6518-4e17-8ff5-c8fd3d4a5b86.gz.parquet",
         12018830
        ],
        [
         "dbfs:/databricks-datasets/wikipedia-datasets/data-001/en_wikipedia/articles-only-parquet/part-r-00216-ff5bbd4d-6518-4e17-8ff5-c8fd3d4a5b86.gz.parquet",
         "part-r-00216-ff5bbd4d-6518-4e17-8ff5-c8fd3d4a5b86.gz.parquet",
         9380361
        ],
        [
         "dbfs:/databricks-datasets/wikipedia-datasets/data-001/en_wikipedia/articles-only-parquet/part-r-00217-ff5bbd4d-6518-4e17-8ff5-c8fd3d4a5b86.gz.parquet",
         "part-r-00217-ff5bbd4d-6518-4e17-8ff5-c8fd3d4a5b86.gz.parquet",
         8797910
        ],
        [
         "dbfs:/databricks-datasets/wikipedia-datasets/data-001/en_wikipedia/articles-only-parquet/part-r-00218-ff5bbd4d-6518-4e17-8ff5-c8fd3d4a5b86.gz.parquet",
         "part-r-00218-ff5bbd4d-6518-4e17-8ff5-c8fd3d4a5b86.gz.parquet",
         10643866
        ],
        [
         "dbfs:/databricks-datasets/wikipedia-datasets/data-001/en_wikipedia/articles-only-parquet/part-r-00219-ff5bbd4d-6518-4e17-8ff5-c8fd3d4a5b86.gz.parquet",
         "part-r-00219-ff5bbd4d-6518-4e17-8ff5-c8fd3d4a5b86.gz.parquet",
         13073491
        ],
        [
         "dbfs:/databricks-datasets/wikipedia-datasets/data-001/en_wikipedia/articles-only-parquet/part-r-00220-ff5bbd4d-6518-4e17-8ff5-c8fd3d4a5b86.gz.parquet",
         "part-r-00220-ff5bbd4d-6518-4e17-8ff5-c8fd3d4a5b86.gz.parquet",
         11611596
        ],
        [
         "dbfs:/databricks-datasets/wikipedia-datasets/data-001/en_wikipedia/articles-only-parquet/part-r-00221-ff5bbd4d-6518-4e17-8ff5-c8fd3d4a5b86.gz.parquet",
         "part-r-00221-ff5bbd4d-6518-4e17-8ff5-c8fd3d4a5b86.gz.parquet",
         6302304
        ],
        [
         "dbfs:/databricks-datasets/wikipedia-datasets/data-001/en_wikipedia/articles-only-parquet/part-r-00222-ff5bbd4d-6518-4e17-8ff5-c8fd3d4a5b86.gz.parquet",
         "part-r-00222-ff5bbd4d-6518-4e17-8ff5-c8fd3d4a5b86.gz.parquet",
         9440074
        ],
        [
         "dbfs:/databricks-datasets/wikipedia-datasets/data-001/en_wikipedia/articles-only-parquet/part-r-00223-ff5bbd4d-6518-4e17-8ff5-c8fd3d4a5b86.gz.parquet",
         "part-r-00223-ff5bbd4d-6518-4e17-8ff5-c8fd3d4a5b86.gz.parquet",
         10509037
        ],
        [
         "dbfs:/databricks-datasets/wikipedia-datasets/data-001/en_wikipedia/articles-only-parquet/part-r-00224-ff5bbd4d-6518-4e17-8ff5-c8fd3d4a5b86.gz.parquet",
         "part-r-00224-ff5bbd4d-6518-4e17-8ff5-c8fd3d4a5b86.gz.parquet",
         9772268
        ],
        [
         "dbfs:/databricks-datasets/wikipedia-datasets/data-001/en_wikipedia/articles-only-parquet/part-r-00225-ff5bbd4d-6518-4e17-8ff5-c8fd3d4a5b86.gz.parquet",
         "part-r-00225-ff5bbd4d-6518-4e17-8ff5-c8fd3d4a5b86.gz.parquet",
         9047678
        ],
        [
         "dbfs:/databricks-datasets/wikipedia-datasets/data-001/en_wikipedia/articles-only-parquet/part-r-00226-ff5bbd4d-6518-4e17-8ff5-c8fd3d4a5b86.gz.parquet",
         "part-r-00226-ff5bbd4d-6518-4e17-8ff5-c8fd3d4a5b86.gz.parquet",
         9553641
        ],
        [
         "dbfs:/databricks-datasets/wikipedia-datasets/data-001/en_wikipedia/articles-only-parquet/part-r-00227-ff5bbd4d-6518-4e17-8ff5-c8fd3d4a5b86.gz.parquet",
         "part-r-00227-ff5bbd4d-6518-4e17-8ff5-c8fd3d4a5b86.gz.parquet",
         8457227
        ],
        [
         "dbfs:/databricks-datasets/wikipedia-datasets/data-001/en_wikipedia/articles-only-parquet/part-r-00228-ff5bbd4d-6518-4e17-8ff5-c8fd3d4a5b86.gz.parquet",
         "part-r-00228-ff5bbd4d-6518-4e17-8ff5-c8fd3d4a5b86.gz.parquet",
         10007589
        ],
        [
         "dbfs:/databricks-datasets/wikipedia-datasets/data-001/en_wikipedia/articles-only-parquet/part-r-00229-ff5bbd4d-6518-4e17-8ff5-c8fd3d4a5b86.gz.parquet",
         "part-r-00229-ff5bbd4d-6518-4e17-8ff5-c8fd3d4a5b86.gz.parquet",
         20526355
        ],
        [
         "dbfs:/databricks-datasets/wikipedia-datasets/data-001/en_wikipedia/articles-only-parquet/part-r-00230-ff5bbd4d-6518-4e17-8ff5-c8fd3d4a5b86.gz.parquet",
         "part-r-00230-ff5bbd4d-6518-4e17-8ff5-c8fd3d4a5b86.gz.parquet",
         6561983
        ],
        [
         "dbfs:/databricks-datasets/wikipedia-datasets/data-001/en_wikipedia/articles-only-parquet/part-r-00231-ff5bbd4d-6518-4e17-8ff5-c8fd3d4a5b86.gz.parquet",
         "part-r-00231-ff5bbd4d-6518-4e17-8ff5-c8fd3d4a5b86.gz.parquet",
         8219948
        ],
        [
         "dbfs:/databricks-datasets/wikipedia-datasets/data-001/en_wikipedia/articles-only-parquet/part-r-00232-ff5bbd4d-6518-4e17-8ff5-c8fd3d4a5b86.gz.parquet",
         "part-r-00232-ff5bbd4d-6518-4e17-8ff5-c8fd3d4a5b86.gz.parquet",
         18161304
        ],
        [
         "dbfs:/databricks-datasets/wikipedia-datasets/data-001/en_wikipedia/articles-only-parquet/part-r-00233-ff5bbd4d-6518-4e17-8ff5-c8fd3d4a5b86.gz.parquet",
         "part-r-00233-ff5bbd4d-6518-4e17-8ff5-c8fd3d4a5b86.gz.parquet",
         7654021
        ],
        [
         "dbfs:/databricks-datasets/wikipedia-datasets/data-001/en_wikipedia/articles-only-parquet/part-r-00234-ff5bbd4d-6518-4e17-8ff5-c8fd3d4a5b86.gz.parquet",
         "part-r-00234-ff5bbd4d-6518-4e17-8ff5-c8fd3d4a5b86.gz.parquet",
         7420462
        ],
        [
         "dbfs:/databricks-datasets/wikipedia-datasets/data-001/en_wikipedia/articles-only-parquet/part-r-00235-ff5bbd4d-6518-4e17-8ff5-c8fd3d4a5b86.gz.parquet",
         "part-r-00235-ff5bbd4d-6518-4e17-8ff5-c8fd3d4a5b86.gz.parquet",
         9827864
        ],
        [
         "dbfs:/databricks-datasets/wikipedia-datasets/data-001/en_wikipedia/articles-only-parquet/part-r-00236-ff5bbd4d-6518-4e17-8ff5-c8fd3d4a5b86.gz.parquet",
         "part-r-00236-ff5bbd4d-6518-4e17-8ff5-c8fd3d4a5b86.gz.parquet",
         9634741
        ],
        [
         "dbfs:/databricks-datasets/wikipedia-datasets/data-001/en_wikipedia/articles-only-parquet/part-r-00237-ff5bbd4d-6518-4e17-8ff5-c8fd3d4a5b86.gz.parquet",
         "part-r-00237-ff5bbd4d-6518-4e17-8ff5-c8fd3d4a5b86.gz.parquet",
         17974866
        ],
        [
         "dbfs:/databricks-datasets/wikipedia-datasets/data-001/en_wikipedia/articles-only-parquet/part-r-00238-ff5bbd4d-6518-4e17-8ff5-c8fd3d4a5b86.gz.parquet",
         "part-r-00238-ff5bbd4d-6518-4e17-8ff5-c8fd3d4a5b86.gz.parquet",
         16939325
        ],
        [
         "dbfs:/databricks-datasets/wikipedia-datasets/data-001/en_wikipedia/articles-only-parquet/part-r-00239-ff5bbd4d-6518-4e17-8ff5-c8fd3d4a5b86.gz.parquet",
         "part-r-00239-ff5bbd4d-6518-4e17-8ff5-c8fd3d4a5b86.gz.parquet",
         9306348
        ],
        [
         "dbfs:/databricks-datasets/wikipedia-datasets/data-001/en_wikipedia/articles-only-parquet/part-r-00240-ff5bbd4d-6518-4e17-8ff5-c8fd3d4a5b86.gz.parquet",
         "part-r-00240-ff5bbd4d-6518-4e17-8ff5-c8fd3d4a5b86.gz.parquet",
         11737737
        ],
        [
         "dbfs:/databricks-datasets/wikipedia-datasets/data-001/en_wikipedia/articles-only-parquet/part-r-00241-ff5bbd4d-6518-4e17-8ff5-c8fd3d4a5b86.gz.parquet",
         "part-r-00241-ff5bbd4d-6518-4e17-8ff5-c8fd3d4a5b86.gz.parquet",
         9429086
        ],
        [
         "dbfs:/databricks-datasets/wikipedia-datasets/data-001/en_wikipedia/articles-only-parquet/part-r-00242-ff5bbd4d-6518-4e17-8ff5-c8fd3d4a5b86.gz.parquet",
         "part-r-00242-ff5bbd4d-6518-4e17-8ff5-c8fd3d4a5b86.gz.parquet",
         17440156
        ],
        [
         "dbfs:/databricks-datasets/wikipedia-datasets/data-001/en_wikipedia/articles-only-parquet/part-r-00243-ff5bbd4d-6518-4e17-8ff5-c8fd3d4a5b86.gz.parquet",
         "part-r-00243-ff5bbd4d-6518-4e17-8ff5-c8fd3d4a5b86.gz.parquet",
         9509237
        ],
        [
         "dbfs:/databricks-datasets/wikipedia-datasets/data-001/en_wikipedia/articles-only-parquet/part-r-00244-ff5bbd4d-6518-4e17-8ff5-c8fd3d4a5b86.gz.parquet",
         "part-r-00244-ff5bbd4d-6518-4e17-8ff5-c8fd3d4a5b86.gz.parquet",
         9591996
        ],
        [
         "dbfs:/databricks-datasets/wikipedia-datasets/data-001/en_wikipedia/articles-only-parquet/part-r-00245-ff5bbd4d-6518-4e17-8ff5-c8fd3d4a5b86.gz.parquet",
         "part-r-00245-ff5bbd4d-6518-4e17-8ff5-c8fd3d4a5b86.gz.parquet",
         9203143
        ],
        [
         "dbfs:/databricks-datasets/wikipedia-datasets/data-001/en_wikipedia/articles-only-parquet/part-r-00246-ff5bbd4d-6518-4e17-8ff5-c8fd3d4a5b86.gz.parquet",
         "part-r-00246-ff5bbd4d-6518-4e17-8ff5-c8fd3d4a5b86.gz.parquet",
         10167941
        ],
        [
         "dbfs:/databricks-datasets/wikipedia-datasets/data-001/en_wikipedia/articles-only-parquet/part-r-00247-ff5bbd4d-6518-4e17-8ff5-c8fd3d4a5b86.gz.parquet",
         "part-r-00247-ff5bbd4d-6518-4e17-8ff5-c8fd3d4a5b86.gz.parquet",
         9384083
        ],
        [
         "dbfs:/databricks-datasets/wikipedia-datasets/data-001/en_wikipedia/articles-only-parquet/part-r-00248-ff5bbd4d-6518-4e17-8ff5-c8fd3d4a5b86.gz.parquet",
         "part-r-00248-ff5bbd4d-6518-4e17-8ff5-c8fd3d4a5b86.gz.parquet",
         13683943
        ],
        [
         "dbfs:/databricks-datasets/wikipedia-datasets/data-001/en_wikipedia/articles-only-parquet/part-r-00249-ff5bbd4d-6518-4e17-8ff5-c8fd3d4a5b86.gz.parquet",
         "part-r-00249-ff5bbd4d-6518-4e17-8ff5-c8fd3d4a5b86.gz.parquet",
         8167168
        ],
        [
         "dbfs:/databricks-datasets/wikipedia-datasets/data-001/en_wikipedia/articles-only-parquet/part-r-00250-ff5bbd4d-6518-4e17-8ff5-c8fd3d4a5b86.gz.parquet",
         "part-r-00250-ff5bbd4d-6518-4e17-8ff5-c8fd3d4a5b86.gz.parquet",
         9338217
        ],
        [
         "dbfs:/databricks-datasets/wikipedia-datasets/data-001/en_wikipedia/articles-only-parquet/part-r-00251-ff5bbd4d-6518-4e17-8ff5-c8fd3d4a5b86.gz.parquet",
         "part-r-00251-ff5bbd4d-6518-4e17-8ff5-c8fd3d4a5b86.gz.parquet",
         9434760
        ],
        [
         "dbfs:/databricks-datasets/wikipedia-datasets/data-001/en_wikipedia/articles-only-parquet/part-r-00252-ff5bbd4d-6518-4e17-8ff5-c8fd3d4a5b86.gz.parquet",
         "part-r-00252-ff5bbd4d-6518-4e17-8ff5-c8fd3d4a5b86.gz.parquet",
         9661376
        ],
        [
         "dbfs:/databricks-datasets/wikipedia-datasets/data-001/en_wikipedia/articles-only-parquet/part-r-00253-ff5bbd4d-6518-4e17-8ff5-c8fd3d4a5b86.gz.parquet",
         "part-r-00253-ff5bbd4d-6518-4e17-8ff5-c8fd3d4a5b86.gz.parquet",
         9095405
        ],
        [
         "dbfs:/databricks-datasets/wikipedia-datasets/data-001/en_wikipedia/articles-only-parquet/part-r-00254-ff5bbd4d-6518-4e17-8ff5-c8fd3d4a5b86.gz.parquet",
         "part-r-00254-ff5bbd4d-6518-4e17-8ff5-c8fd3d4a5b86.gz.parquet",
         18365640
        ],
        [
         "dbfs:/databricks-datasets/wikipedia-datasets/data-001/en_wikipedia/articles-only-parquet/part-r-00255-ff5bbd4d-6518-4e17-8ff5-c8fd3d4a5b86.gz.parquet",
         "part-r-00255-ff5bbd4d-6518-4e17-8ff5-c8fd3d4a5b86.gz.parquet",
         9514347
        ],
        [
         "dbfs:/databricks-datasets/wikipedia-datasets/data-001/en_wikipedia/articles-only-parquet/part-r-00256-ff5bbd4d-6518-4e17-8ff5-c8fd3d4a5b86.gz.parquet",
         "part-r-00256-ff5bbd4d-6518-4e17-8ff5-c8fd3d4a5b86.gz.parquet",
         13167429
        ],
        [
         "dbfs:/databricks-datasets/wikipedia-datasets/data-001/en_wikipedia/articles-only-parquet/part-r-00257-ff5bbd4d-6518-4e17-8ff5-c8fd3d4a5b86.gz.parquet",
         "part-r-00257-ff5bbd4d-6518-4e17-8ff5-c8fd3d4a5b86.gz.parquet",
         14914542
        ],
        [
         "dbfs:/databricks-datasets/wikipedia-datasets/data-001/en_wikipedia/articles-only-parquet/part-r-00258-ff5bbd4d-6518-4e17-8ff5-c8fd3d4a5b86.gz.parquet",
         "part-r-00258-ff5bbd4d-6518-4e17-8ff5-c8fd3d4a5b86.gz.parquet",
         13335048
        ],
        [
         "dbfs:/databricks-datasets/wikipedia-datasets/data-001/en_wikipedia/articles-only-parquet/part-r-00259-ff5bbd4d-6518-4e17-8ff5-c8fd3d4a5b86.gz.parquet",
         "part-r-00259-ff5bbd4d-6518-4e17-8ff5-c8fd3d4a5b86.gz.parquet",
         17382225
        ],
        [
         "dbfs:/databricks-datasets/wikipedia-datasets/data-001/en_wikipedia/articles-only-parquet/part-r-00260-ff5bbd4d-6518-4e17-8ff5-c8fd3d4a5b86.gz.parquet",
         "part-r-00260-ff5bbd4d-6518-4e17-8ff5-c8fd3d4a5b86.gz.parquet",
         9909901
        ],
        [
         "dbfs:/databricks-datasets/wikipedia-datasets/data-001/en_wikipedia/articles-only-parquet/part-r-00261-ff5bbd4d-6518-4e17-8ff5-c8fd3d4a5b86.gz.parquet",
         "part-r-00261-ff5bbd4d-6518-4e17-8ff5-c8fd3d4a5b86.gz.parquet",
         8414362
        ],
        [
         "dbfs:/databricks-datasets/wikipedia-datasets/data-001/en_wikipedia/articles-only-parquet/part-r-00262-ff5bbd4d-6518-4e17-8ff5-c8fd3d4a5b86.gz.parquet",
         "part-r-00262-ff5bbd4d-6518-4e17-8ff5-c8fd3d4a5b86.gz.parquet",
         10254872
        ],
        [
         "dbfs:/databricks-datasets/wikipedia-datasets/data-001/en_wikipedia/articles-only-parquet/part-r-00263-ff5bbd4d-6518-4e17-8ff5-c8fd3d4a5b86.gz.parquet",
         "part-r-00263-ff5bbd4d-6518-4e17-8ff5-c8fd3d4a5b86.gz.parquet",
         8600351
        ],
        [
         "dbfs:/databricks-datasets/wikipedia-datasets/data-001/en_wikipedia/articles-only-parquet/part-r-00264-ff5bbd4d-6518-4e17-8ff5-c8fd3d4a5b86.gz.parquet",
         "part-r-00264-ff5bbd4d-6518-4e17-8ff5-c8fd3d4a5b86.gz.parquet",
         9286041
        ],
        [
         "dbfs:/databricks-datasets/wikipedia-datasets/data-001/en_wikipedia/articles-only-parquet/part-r-00265-ff5bbd4d-6518-4e17-8ff5-c8fd3d4a5b86.gz.parquet",
         "part-r-00265-ff5bbd4d-6518-4e17-8ff5-c8fd3d4a5b86.gz.parquet",
         7444259
        ],
        [
         "dbfs:/databricks-datasets/wikipedia-datasets/data-001/en_wikipedia/articles-only-parquet/part-r-00266-ff5bbd4d-6518-4e17-8ff5-c8fd3d4a5b86.gz.parquet",
         "part-r-00266-ff5bbd4d-6518-4e17-8ff5-c8fd3d4a5b86.gz.parquet",
         8461184
        ],
        [
         "dbfs:/databricks-datasets/wikipedia-datasets/data-001/en_wikipedia/articles-only-parquet/part-r-00267-ff5bbd4d-6518-4e17-8ff5-c8fd3d4a5b86.gz.parquet",
         "part-r-00267-ff5bbd4d-6518-4e17-8ff5-c8fd3d4a5b86.gz.parquet",
         8887882
        ],
        [
         "dbfs:/databricks-datasets/wikipedia-datasets/data-001/en_wikipedia/articles-only-parquet/part-r-00268-ff5bbd4d-6518-4e17-8ff5-c8fd3d4a5b86.gz.parquet",
         "part-r-00268-ff5bbd4d-6518-4e17-8ff5-c8fd3d4a5b86.gz.parquet",
         18971758
        ],
        [
         "dbfs:/databricks-datasets/wikipedia-datasets/data-001/en_wikipedia/articles-only-parquet/part-r-00269-ff5bbd4d-6518-4e17-8ff5-c8fd3d4a5b86.gz.parquet",
         "part-r-00269-ff5bbd4d-6518-4e17-8ff5-c8fd3d4a5b86.gz.parquet",
         7095819
        ],
        [
         "dbfs:/databricks-datasets/wikipedia-datasets/data-001/en_wikipedia/articles-only-parquet/part-r-00270-ff5bbd4d-6518-4e17-8ff5-c8fd3d4a5b86.gz.parquet",
         "part-r-00270-ff5bbd4d-6518-4e17-8ff5-c8fd3d4a5b86.gz.parquet",
         11194437
        ],
        [
         "dbfs:/databricks-datasets/wikipedia-datasets/data-001/en_wikipedia/articles-only-parquet/part-r-00271-ff5bbd4d-6518-4e17-8ff5-c8fd3d4a5b86.gz.parquet",
         "part-r-00271-ff5bbd4d-6518-4e17-8ff5-c8fd3d4a5b86.gz.parquet",
         17730079
        ],
        [
         "dbfs:/databricks-datasets/wikipedia-datasets/data-001/en_wikipedia/articles-only-parquet/part-r-00272-ff5bbd4d-6518-4e17-8ff5-c8fd3d4a5b86.gz.parquet",
         "part-r-00272-ff5bbd4d-6518-4e17-8ff5-c8fd3d4a5b86.gz.parquet",
         10222696
        ],
        [
         "dbfs:/databricks-datasets/wikipedia-datasets/data-001/en_wikipedia/articles-only-parquet/part-r-00273-ff5bbd4d-6518-4e17-8ff5-c8fd3d4a5b86.gz.parquet",
         "part-r-00273-ff5bbd4d-6518-4e17-8ff5-c8fd3d4a5b86.gz.parquet",
         8838253
        ],
        [
         "dbfs:/databricks-datasets/wikipedia-datasets/data-001/en_wikipedia/articles-only-parquet/part-r-00274-ff5bbd4d-6518-4e17-8ff5-c8fd3d4a5b86.gz.parquet",
         "part-r-00274-ff5bbd4d-6518-4e17-8ff5-c8fd3d4a5b86.gz.parquet",
         8407190
        ],
        [
         "dbfs:/databricks-datasets/wikipedia-datasets/data-001/en_wikipedia/articles-only-parquet/part-r-00275-ff5bbd4d-6518-4e17-8ff5-c8fd3d4a5b86.gz.parquet",
         "part-r-00275-ff5bbd4d-6518-4e17-8ff5-c8fd3d4a5b86.gz.parquet",
         9926334
        ],
        [
         "dbfs:/databricks-datasets/wikipedia-datasets/data-001/en_wikipedia/articles-only-parquet/part-r-00276-ff5bbd4d-6518-4e17-8ff5-c8fd3d4a5b86.gz.parquet",
         "part-r-00276-ff5bbd4d-6518-4e17-8ff5-c8fd3d4a5b86.gz.parquet",
         14096621
        ],
        [
         "dbfs:/databricks-datasets/wikipedia-datasets/data-001/en_wikipedia/articles-only-parquet/part-r-00277-ff5bbd4d-6518-4e17-8ff5-c8fd3d4a5b86.gz.parquet",
         "part-r-00277-ff5bbd4d-6518-4e17-8ff5-c8fd3d4a5b86.gz.parquet",
         9104928
        ],
        [
         "dbfs:/databricks-datasets/wikipedia-datasets/data-001/en_wikipedia/articles-only-parquet/part-r-00278-ff5bbd4d-6518-4e17-8ff5-c8fd3d4a5b86.gz.parquet",
         "part-r-00278-ff5bbd4d-6518-4e17-8ff5-c8fd3d4a5b86.gz.parquet",
         8701631
        ],
        [
         "dbfs:/databricks-datasets/wikipedia-datasets/data-001/en_wikipedia/articles-only-parquet/part-r-00279-ff5bbd4d-6518-4e17-8ff5-c8fd3d4a5b86.gz.parquet",
         "part-r-00279-ff5bbd4d-6518-4e17-8ff5-c8fd3d4a5b86.gz.parquet",
         8195719
        ],
        [
         "dbfs:/databricks-datasets/wikipedia-datasets/data-001/en_wikipedia/articles-only-parquet/part-r-00280-ff5bbd4d-6518-4e17-8ff5-c8fd3d4a5b86.gz.parquet",
         "part-r-00280-ff5bbd4d-6518-4e17-8ff5-c8fd3d4a5b86.gz.parquet",
         13552473
        ],
        [
         "dbfs:/databricks-datasets/wikipedia-datasets/data-001/en_wikipedia/articles-only-parquet/part-r-00281-ff5bbd4d-6518-4e17-8ff5-c8fd3d4a5b86.gz.parquet",
         "part-r-00281-ff5bbd4d-6518-4e17-8ff5-c8fd3d4a5b86.gz.parquet",
         9544979
        ],
        [
         "dbfs:/databricks-datasets/wikipedia-datasets/data-001/en_wikipedia/articles-only-parquet/part-r-00282-ff5bbd4d-6518-4e17-8ff5-c8fd3d4a5b86.gz.parquet",
         "part-r-00282-ff5bbd4d-6518-4e17-8ff5-c8fd3d4a5b86.gz.parquet",
         8317082
        ],
        [
         "dbfs:/databricks-datasets/wikipedia-datasets/data-001/en_wikipedia/articles-only-parquet/part-r-00283-ff5bbd4d-6518-4e17-8ff5-c8fd3d4a5b86.gz.parquet",
         "part-r-00283-ff5bbd4d-6518-4e17-8ff5-c8fd3d4a5b86.gz.parquet",
         9026473
        ],
        [
         "dbfs:/databricks-datasets/wikipedia-datasets/data-001/en_wikipedia/articles-only-parquet/part-r-00284-ff5bbd4d-6518-4e17-8ff5-c8fd3d4a5b86.gz.parquet",
         "part-r-00284-ff5bbd4d-6518-4e17-8ff5-c8fd3d4a5b86.gz.parquet",
         14767407
        ],
        [
         "dbfs:/databricks-datasets/wikipedia-datasets/data-001/en_wikipedia/articles-only-parquet/part-r-00285-ff5bbd4d-6518-4e17-8ff5-c8fd3d4a5b86.gz.parquet",
         "part-r-00285-ff5bbd4d-6518-4e17-8ff5-c8fd3d4a5b86.gz.parquet",
         6262954
        ],
        [
         "dbfs:/databricks-datasets/wikipedia-datasets/data-001/en_wikipedia/articles-only-parquet/part-r-00286-ff5bbd4d-6518-4e17-8ff5-c8fd3d4a5b86.gz.parquet",
         "part-r-00286-ff5bbd4d-6518-4e17-8ff5-c8fd3d4a5b86.gz.parquet",
         10001188
        ],
        [
         "dbfs:/databricks-datasets/wikipedia-datasets/data-001/en_wikipedia/articles-only-parquet/part-r-00287-ff5bbd4d-6518-4e17-8ff5-c8fd3d4a5b86.gz.parquet",
         "part-r-00287-ff5bbd4d-6518-4e17-8ff5-c8fd3d4a5b86.gz.parquet",
         14329316
        ],
        [
         "dbfs:/databricks-datasets/wikipedia-datasets/data-001/en_wikipedia/articles-only-parquet/part-r-00288-ff5bbd4d-6518-4e17-8ff5-c8fd3d4a5b86.gz.parquet",
         "part-r-00288-ff5bbd4d-6518-4e17-8ff5-c8fd3d4a5b86.gz.parquet",
         9903115
        ],
        [
         "dbfs:/databricks-datasets/wikipedia-datasets/data-001/en_wikipedia/articles-only-parquet/part-r-00289-ff5bbd4d-6518-4e17-8ff5-c8fd3d4a5b86.gz.parquet",
         "part-r-00289-ff5bbd4d-6518-4e17-8ff5-c8fd3d4a5b86.gz.parquet",
         9524729
        ],
        [
         "dbfs:/databricks-datasets/wikipedia-datasets/data-001/en_wikipedia/articles-only-parquet/part-r-00290-ff5bbd4d-6518-4e17-8ff5-c8fd3d4a5b86.gz.parquet",
         "part-r-00290-ff5bbd4d-6518-4e17-8ff5-c8fd3d4a5b86.gz.parquet",
         9915005
        ],
        [
         "dbfs:/databricks-datasets/wikipedia-datasets/data-001/en_wikipedia/articles-only-parquet/part-r-00291-ff5bbd4d-6518-4e17-8ff5-c8fd3d4a5b86.gz.parquet",
         "part-r-00291-ff5bbd4d-6518-4e17-8ff5-c8fd3d4a5b86.gz.parquet",
         10222163
        ],
        [
         "dbfs:/databricks-datasets/wikipedia-datasets/data-001/en_wikipedia/articles-only-parquet/part-r-00292-ff5bbd4d-6518-4e17-8ff5-c8fd3d4a5b86.gz.parquet",
         "part-r-00292-ff5bbd4d-6518-4e17-8ff5-c8fd3d4a5b86.gz.parquet",
         14276391
        ],
        [
         "dbfs:/databricks-datasets/wikipedia-datasets/data-001/en_wikipedia/articles-only-parquet/part-r-00293-ff5bbd4d-6518-4e17-8ff5-c8fd3d4a5b86.gz.parquet",
         "part-r-00293-ff5bbd4d-6518-4e17-8ff5-c8fd3d4a5b86.gz.parquet",
         9906747
        ],
        [
         "dbfs:/databricks-datasets/wikipedia-datasets/data-001/en_wikipedia/articles-only-parquet/part-r-00294-ff5bbd4d-6518-4e17-8ff5-c8fd3d4a5b86.gz.parquet",
         "part-r-00294-ff5bbd4d-6518-4e17-8ff5-c8fd3d4a5b86.gz.parquet",
         14938591
        ],
        [
         "dbfs:/databricks-datasets/wikipedia-datasets/data-001/en_wikipedia/articles-only-parquet/part-r-00295-ff5bbd4d-6518-4e17-8ff5-c8fd3d4a5b86.gz.parquet",
         "part-r-00295-ff5bbd4d-6518-4e17-8ff5-c8fd3d4a5b86.gz.parquet",
         8278033
        ],
        [
         "dbfs:/databricks-datasets/wikipedia-datasets/data-001/en_wikipedia/articles-only-parquet/part-r-00296-ff5bbd4d-6518-4e17-8ff5-c8fd3d4a5b86.gz.parquet",
         "part-r-00296-ff5bbd4d-6518-4e17-8ff5-c8fd3d4a5b86.gz.parquet",
         7904464
        ],
        [
         "dbfs:/databricks-datasets/wikipedia-datasets/data-001/en_wikipedia/articles-only-parquet/part-r-00297-ff5bbd4d-6518-4e17-8ff5-c8fd3d4a5b86.gz.parquet",
         "part-r-00297-ff5bbd4d-6518-4e17-8ff5-c8fd3d4a5b86.gz.parquet",
         9456887
        ],
        [
         "dbfs:/databricks-datasets/wikipedia-datasets/data-001/en_wikipedia/articles-only-parquet/part-r-00298-ff5bbd4d-6518-4e17-8ff5-c8fd3d4a5b86.gz.parquet",
         "part-r-00298-ff5bbd4d-6518-4e17-8ff5-c8fd3d4a5b86.gz.parquet",
         9283976
        ],
        [
         "dbfs:/databricks-datasets/wikipedia-datasets/data-001/en_wikipedia/articles-only-parquet/part-r-00299-ff5bbd4d-6518-4e17-8ff5-c8fd3d4a5b86.gz.parquet",
         "part-r-00299-ff5bbd4d-6518-4e17-8ff5-c8fd3d4a5b86.gz.parquet",
         11744592
        ],
        [
         "dbfs:/databricks-datasets/wikipedia-datasets/data-001/en_wikipedia/articles-only-parquet/part-r-00300-ff5bbd4d-6518-4e17-8ff5-c8fd3d4a5b86.gz.parquet",
         "part-r-00300-ff5bbd4d-6518-4e17-8ff5-c8fd3d4a5b86.gz.parquet",
         9017702
        ],
        [
         "dbfs:/databricks-datasets/wikipedia-datasets/data-001/en_wikipedia/articles-only-parquet/part-r-00301-ff5bbd4d-6518-4e17-8ff5-c8fd3d4a5b86.gz.parquet",
         "part-r-00301-ff5bbd4d-6518-4e17-8ff5-c8fd3d4a5b86.gz.parquet",
         8255889
        ],
        [
         "dbfs:/databricks-datasets/wikipedia-datasets/data-001/en_wikipedia/articles-only-parquet/part-r-00302-ff5bbd4d-6518-4e17-8ff5-c8fd3d4a5b86.gz.parquet",
         "part-r-00302-ff5bbd4d-6518-4e17-8ff5-c8fd3d4a5b86.gz.parquet",
         9563635
        ],
        [
         "dbfs:/databricks-datasets/wikipedia-datasets/data-001/en_wikipedia/articles-only-parquet/part-r-00303-ff5bbd4d-6518-4e17-8ff5-c8fd3d4a5b86.gz.parquet",
         "part-r-00303-ff5bbd4d-6518-4e17-8ff5-c8fd3d4a5b86.gz.parquet",
         9309651
        ],
        [
         "dbfs:/databricks-datasets/wikipedia-datasets/data-001/en_wikipedia/articles-only-parquet/part-r-00304-ff5bbd4d-6518-4e17-8ff5-c8fd3d4a5b86.gz.parquet",
         "part-r-00304-ff5bbd4d-6518-4e17-8ff5-c8fd3d4a5b86.gz.parquet",
         11448884
        ],
        [
         "dbfs:/databricks-datasets/wikipedia-datasets/data-001/en_wikipedia/articles-only-parquet/part-r-00305-ff5bbd4d-6518-4e17-8ff5-c8fd3d4a5b86.gz.parquet",
         "part-r-00305-ff5bbd4d-6518-4e17-8ff5-c8fd3d4a5b86.gz.parquet",
         15915100
        ],
        [
         "dbfs:/databricks-datasets/wikipedia-datasets/data-001/en_wikipedia/articles-only-parquet/part-r-00306-ff5bbd4d-6518-4e17-8ff5-c8fd3d4a5b86.gz.parquet",
         "part-r-00306-ff5bbd4d-6518-4e17-8ff5-c8fd3d4a5b86.gz.parquet",
         8848053
        ],
        [
         "dbfs:/databricks-datasets/wikipedia-datasets/data-001/en_wikipedia/articles-only-parquet/part-r-00307-ff5bbd4d-6518-4e17-8ff5-c8fd3d4a5b86.gz.parquet",
         "part-r-00307-ff5bbd4d-6518-4e17-8ff5-c8fd3d4a5b86.gz.parquet",
         12028728
        ],
        [
         "dbfs:/databricks-datasets/wikipedia-datasets/data-001/en_wikipedia/articles-only-parquet/part-r-00308-ff5bbd4d-6518-4e17-8ff5-c8fd3d4a5b86.gz.parquet",
         "part-r-00308-ff5bbd4d-6518-4e17-8ff5-c8fd3d4a5b86.gz.parquet",
         3939606
        ],
        [
         "dbfs:/databricks-datasets/wikipedia-datasets/data-001/en_wikipedia/articles-only-parquet/part-r-00309-ff5bbd4d-6518-4e17-8ff5-c8fd3d4a5b86.gz.parquet",
         "part-r-00309-ff5bbd4d-6518-4e17-8ff5-c8fd3d4a5b86.gz.parquet",
         9062118
        ],
        [
         "dbfs:/databricks-datasets/wikipedia-datasets/data-001/en_wikipedia/articles-only-parquet/part-r-00310-ff5bbd4d-6518-4e17-8ff5-c8fd3d4a5b86.gz.parquet",
         "part-r-00310-ff5bbd4d-6518-4e17-8ff5-c8fd3d4a5b86.gz.parquet",
         9213122
        ],
        [
         "dbfs:/databricks-datasets/wikipedia-datasets/data-001/en_wikipedia/articles-only-parquet/part-r-00311-ff5bbd4d-6518-4e17-8ff5-c8fd3d4a5b86.gz.parquet",
         "part-r-00311-ff5bbd4d-6518-4e17-8ff5-c8fd3d4a5b86.gz.parquet",
         7558032
        ],
        [
         "dbfs:/databricks-datasets/wikipedia-datasets/data-001/en_wikipedia/articles-only-parquet/part-r-00312-ff5bbd4d-6518-4e17-8ff5-c8fd3d4a5b86.gz.parquet",
         "part-r-00312-ff5bbd4d-6518-4e17-8ff5-c8fd3d4a5b86.gz.parquet",
         9875737
        ],
        [
         "dbfs:/databricks-datasets/wikipedia-datasets/data-001/en_wikipedia/articles-only-parquet/part-r-00313-ff5bbd4d-6518-4e17-8ff5-c8fd3d4a5b86.gz.parquet",
         "part-r-00313-ff5bbd4d-6518-4e17-8ff5-c8fd3d4a5b86.gz.parquet",
         8060599
        ],
        [
         "dbfs:/databricks-datasets/wikipedia-datasets/data-001/en_wikipedia/articles-only-parquet/part-r-00314-ff5bbd4d-6518-4e17-8ff5-c8fd3d4a5b86.gz.parquet",
         "part-r-00314-ff5bbd4d-6518-4e17-8ff5-c8fd3d4a5b86.gz.parquet",
         9359649
        ],
        [
         "dbfs:/databricks-datasets/wikipedia-datasets/data-001/en_wikipedia/articles-only-parquet/part-r-00315-ff5bbd4d-6518-4e17-8ff5-c8fd3d4a5b86.gz.parquet",
         "part-r-00315-ff5bbd4d-6518-4e17-8ff5-c8fd3d4a5b86.gz.parquet",
         8394302
        ],
        [
         "dbfs:/databricks-datasets/wikipedia-datasets/data-001/en_wikipedia/articles-only-parquet/part-r-00316-ff5bbd4d-6518-4e17-8ff5-c8fd3d4a5b86.gz.parquet",
         "part-r-00316-ff5bbd4d-6518-4e17-8ff5-c8fd3d4a5b86.gz.parquet",
         9110349
        ],
        [
         "dbfs:/databricks-datasets/wikipedia-datasets/data-001/en_wikipedia/articles-only-parquet/part-r-00317-ff5bbd4d-6518-4e17-8ff5-c8fd3d4a5b86.gz.parquet",
         "part-r-00317-ff5bbd4d-6518-4e17-8ff5-c8fd3d4a5b86.gz.parquet",
         6318563
        ],
        [
         "dbfs:/databricks-datasets/wikipedia-datasets/data-001/en_wikipedia/articles-only-parquet/part-r-00318-ff5bbd4d-6518-4e17-8ff5-c8fd3d4a5b86.gz.parquet",
         "part-r-00318-ff5bbd4d-6518-4e17-8ff5-c8fd3d4a5b86.gz.parquet",
         9334425
        ],
        [
         "dbfs:/databricks-datasets/wikipedia-datasets/data-001/en_wikipedia/articles-only-parquet/part-r-00319-ff5bbd4d-6518-4e17-8ff5-c8fd3d4a5b86.gz.parquet",
         "part-r-00319-ff5bbd4d-6518-4e17-8ff5-c8fd3d4a5b86.gz.parquet",
         9401736
        ],
        [
         "dbfs:/databricks-datasets/wikipedia-datasets/data-001/en_wikipedia/articles-only-parquet/part-r-00320-ff5bbd4d-6518-4e17-8ff5-c8fd3d4a5b86.gz.parquet",
         "part-r-00320-ff5bbd4d-6518-4e17-8ff5-c8fd3d4a5b86.gz.parquet",
         9493519
        ],
        [
         "dbfs:/databricks-datasets/wikipedia-datasets/data-001/en_wikipedia/articles-only-parquet/part-r-00321-ff5bbd4d-6518-4e17-8ff5-c8fd3d4a5b86.gz.parquet",
         "part-r-00321-ff5bbd4d-6518-4e17-8ff5-c8fd3d4a5b86.gz.parquet",
         8888485
        ],
        [
         "dbfs:/databricks-datasets/wikipedia-datasets/data-001/en_wikipedia/articles-only-parquet/part-r-00322-ff5bbd4d-6518-4e17-8ff5-c8fd3d4a5b86.gz.parquet",
         "part-r-00322-ff5bbd4d-6518-4e17-8ff5-c8fd3d4a5b86.gz.parquet",
         13947528
        ],
        [
         "dbfs:/databricks-datasets/wikipedia-datasets/data-001/en_wikipedia/articles-only-parquet/part-r-00323-ff5bbd4d-6518-4e17-8ff5-c8fd3d4a5b86.gz.parquet",
         "part-r-00323-ff5bbd4d-6518-4e17-8ff5-c8fd3d4a5b86.gz.parquet",
         5517313
        ],
        [
         "dbfs:/databricks-datasets/wikipedia-datasets/data-001/en_wikipedia/articles-only-parquet/part-r-00324-ff5bbd4d-6518-4e17-8ff5-c8fd3d4a5b86.gz.parquet",
         "part-r-00324-ff5bbd4d-6518-4e17-8ff5-c8fd3d4a5b86.gz.parquet",
         2994312
        ],
        [
         "dbfs:/databricks-datasets/wikipedia-datasets/data-001/en_wikipedia/articles-only-parquet/part-r-00325-ff5bbd4d-6518-4e17-8ff5-c8fd3d4a5b86.gz.parquet",
         "part-r-00325-ff5bbd4d-6518-4e17-8ff5-c8fd3d4a5b86.gz.parquet",
         9686311
        ],
        [
         "dbfs:/databricks-datasets/wikipedia-datasets/data-001/en_wikipedia/articles-only-parquet/part-r-00326-ff5bbd4d-6518-4e17-8ff5-c8fd3d4a5b86.gz.parquet",
         "part-r-00326-ff5bbd4d-6518-4e17-8ff5-c8fd3d4a5b86.gz.parquet",
         9963534
        ],
        [
         "dbfs:/databricks-datasets/wikipedia-datasets/data-001/en_wikipedia/articles-only-parquet/part-r-00327-ff5bbd4d-6518-4e17-8ff5-c8fd3d4a5b86.gz.parquet",
         "part-r-00327-ff5bbd4d-6518-4e17-8ff5-c8fd3d4a5b86.gz.parquet",
         10594140
        ],
        [
         "dbfs:/databricks-datasets/wikipedia-datasets/data-001/en_wikipedia/articles-only-parquet/part-r-00328-ff5bbd4d-6518-4e17-8ff5-c8fd3d4a5b86.gz.parquet",
         "part-r-00328-ff5bbd4d-6518-4e17-8ff5-c8fd3d4a5b86.gz.parquet",
         9826029
        ],
        [
         "dbfs:/databricks-datasets/wikipedia-datasets/data-001/en_wikipedia/articles-only-parquet/part-r-00329-ff5bbd4d-6518-4e17-8ff5-c8fd3d4a5b86.gz.parquet",
         "part-r-00329-ff5bbd4d-6518-4e17-8ff5-c8fd3d4a5b86.gz.parquet",
         7991022
        ],
        [
         "dbfs:/databricks-datasets/wikipedia-datasets/data-001/en_wikipedia/articles-only-parquet/part-r-00330-ff5bbd4d-6518-4e17-8ff5-c8fd3d4a5b86.gz.parquet",
         "part-r-00330-ff5bbd4d-6518-4e17-8ff5-c8fd3d4a5b86.gz.parquet",
         14167950
        ],
        [
         "dbfs:/databricks-datasets/wikipedia-datasets/data-001/en_wikipedia/articles-only-parquet/part-r-00331-ff5bbd4d-6518-4e17-8ff5-c8fd3d4a5b86.gz.parquet",
         "part-r-00331-ff5bbd4d-6518-4e17-8ff5-c8fd3d4a5b86.gz.parquet",
         13070227
        ],
        [
         "dbfs:/databricks-datasets/wikipedia-datasets/data-001/en_wikipedia/articles-only-parquet/part-r-00332-ff5bbd4d-6518-4e17-8ff5-c8fd3d4a5b86.gz.parquet",
         "part-r-00332-ff5bbd4d-6518-4e17-8ff5-c8fd3d4a5b86.gz.parquet",
         9160629
        ],
        [
         "dbfs:/databricks-datasets/wikipedia-datasets/data-001/en_wikipedia/articles-only-parquet/part-r-00333-ff5bbd4d-6518-4e17-8ff5-c8fd3d4a5b86.gz.parquet",
         "part-r-00333-ff5bbd4d-6518-4e17-8ff5-c8fd3d4a5b86.gz.parquet",
         8931087
        ],
        [
         "dbfs:/databricks-datasets/wikipedia-datasets/data-001/en_wikipedia/articles-only-parquet/part-r-00334-ff5bbd4d-6518-4e17-8ff5-c8fd3d4a5b86.gz.parquet",
         "part-r-00334-ff5bbd4d-6518-4e17-8ff5-c8fd3d4a5b86.gz.parquet",
         9503210
        ],
        [
         "dbfs:/databricks-datasets/wikipedia-datasets/data-001/en_wikipedia/articles-only-parquet/part-r-00335-ff5bbd4d-6518-4e17-8ff5-c8fd3d4a5b86.gz.parquet",
         "part-r-00335-ff5bbd4d-6518-4e17-8ff5-c8fd3d4a5b86.gz.parquet",
         9174925
        ],
        [
         "dbfs:/databricks-datasets/wikipedia-datasets/data-001/en_wikipedia/articles-only-parquet/part-r-00336-ff5bbd4d-6518-4e17-8ff5-c8fd3d4a5b86.gz.parquet",
         "part-r-00336-ff5bbd4d-6518-4e17-8ff5-c8fd3d4a5b86.gz.parquet",
         8013782
        ],
        [
         "dbfs:/databricks-datasets/wikipedia-datasets/data-001/en_wikipedia/articles-only-parquet/part-r-00337-ff5bbd4d-6518-4e17-8ff5-c8fd3d4a5b86.gz.parquet",
         "part-r-00337-ff5bbd4d-6518-4e17-8ff5-c8fd3d4a5b86.gz.parquet",
         9485931
        ],
        [
         "dbfs:/databricks-datasets/wikipedia-datasets/data-001/en_wikipedia/articles-only-parquet/part-r-00338-ff5bbd4d-6518-4e17-8ff5-c8fd3d4a5b86.gz.parquet",
         "part-r-00338-ff5bbd4d-6518-4e17-8ff5-c8fd3d4a5b86.gz.parquet",
         9299300
        ],
        [
         "dbfs:/databricks-datasets/wikipedia-datasets/data-001/en_wikipedia/articles-only-parquet/part-r-00339-ff5bbd4d-6518-4e17-8ff5-c8fd3d4a5b86.gz.parquet",
         "part-r-00339-ff5bbd4d-6518-4e17-8ff5-c8fd3d4a5b86.gz.parquet",
         3848049
        ],
        [
         "dbfs:/databricks-datasets/wikipedia-datasets/data-001/en_wikipedia/articles-only-parquet/part-r-00340-ff5bbd4d-6518-4e17-8ff5-c8fd3d4a5b86.gz.parquet",
         "part-r-00340-ff5bbd4d-6518-4e17-8ff5-c8fd3d4a5b86.gz.parquet",
         9186785
        ],
        [
         "dbfs:/databricks-datasets/wikipedia-datasets/data-001/en_wikipedia/articles-only-parquet/part-r-00341-ff5bbd4d-6518-4e17-8ff5-c8fd3d4a5b86.gz.parquet",
         "part-r-00341-ff5bbd4d-6518-4e17-8ff5-c8fd3d4a5b86.gz.parquet",
         13657041
        ],
        [
         "dbfs:/databricks-datasets/wikipedia-datasets/data-001/en_wikipedia/articles-only-parquet/part-r-00342-ff5bbd4d-6518-4e17-8ff5-c8fd3d4a5b86.gz.parquet",
         "part-r-00342-ff5bbd4d-6518-4e17-8ff5-c8fd3d4a5b86.gz.parquet",
         9779784
        ],
        [
         "dbfs:/databricks-datasets/wikipedia-datasets/data-001/en_wikipedia/articles-only-parquet/part-r-00343-ff5bbd4d-6518-4e17-8ff5-c8fd3d4a5b86.gz.parquet",
         "part-r-00343-ff5bbd4d-6518-4e17-8ff5-c8fd3d4a5b86.gz.parquet",
         8032704
        ],
        [
         "dbfs:/databricks-datasets/wikipedia-datasets/data-001/en_wikipedia/articles-only-parquet/part-r-00344-ff5bbd4d-6518-4e17-8ff5-c8fd3d4a5b86.gz.parquet",
         "part-r-00344-ff5bbd4d-6518-4e17-8ff5-c8fd3d4a5b86.gz.parquet",
         9263917
        ],
        [
         "dbfs:/databricks-datasets/wikipedia-datasets/data-001/en_wikipedia/articles-only-parquet/part-r-00345-ff5bbd4d-6518-4e17-8ff5-c8fd3d4a5b86.gz.parquet",
         "part-r-00345-ff5bbd4d-6518-4e17-8ff5-c8fd3d4a5b86.gz.parquet",
         5733629
        ],
        [
         "dbfs:/databricks-datasets/wikipedia-datasets/data-001/en_wikipedia/articles-only-parquet/part-r-00346-ff5bbd4d-6518-4e17-8ff5-c8fd3d4a5b86.gz.parquet",
         "part-r-00346-ff5bbd4d-6518-4e17-8ff5-c8fd3d4a5b86.gz.parquet",
         9468026
        ],
        [
         "dbfs:/databricks-datasets/wikipedia-datasets/data-001/en_wikipedia/articles-only-parquet/part-r-00347-ff5bbd4d-6518-4e17-8ff5-c8fd3d4a5b86.gz.parquet",
         "part-r-00347-ff5bbd4d-6518-4e17-8ff5-c8fd3d4a5b86.gz.parquet",
         14236950
        ],
        [
         "dbfs:/databricks-datasets/wikipedia-datasets/data-001/en_wikipedia/articles-only-parquet/part-r-00348-ff5bbd4d-6518-4e17-8ff5-c8fd3d4a5b86.gz.parquet",
         "part-r-00348-ff5bbd4d-6518-4e17-8ff5-c8fd3d4a5b86.gz.parquet",
         10233410
        ],
        [
         "dbfs:/databricks-datasets/wikipedia-datasets/data-001/en_wikipedia/articles-only-parquet/part-r-00349-ff5bbd4d-6518-4e17-8ff5-c8fd3d4a5b86.gz.parquet",
         "part-r-00349-ff5bbd4d-6518-4e17-8ff5-c8fd3d4a5b86.gz.parquet",
         5419120
        ],
        [
         "dbfs:/databricks-datasets/wikipedia-datasets/data-001/en_wikipedia/articles-only-parquet/part-r-00350-ff5bbd4d-6518-4e17-8ff5-c8fd3d4a5b86.gz.parquet",
         "part-r-00350-ff5bbd4d-6518-4e17-8ff5-c8fd3d4a5b86.gz.parquet",
         15219164
        ],
        [
         "dbfs:/databricks-datasets/wikipedia-datasets/data-001/en_wikipedia/articles-only-parquet/part-r-00351-ff5bbd4d-6518-4e17-8ff5-c8fd3d4a5b86.gz.parquet",
         "part-r-00351-ff5bbd4d-6518-4e17-8ff5-c8fd3d4a5b86.gz.parquet",
         16777923
        ],
        [
         "dbfs:/databricks-datasets/wikipedia-datasets/data-001/en_wikipedia/articles-only-parquet/part-r-00352-ff5bbd4d-6518-4e17-8ff5-c8fd3d4a5b86.gz.parquet",
         "part-r-00352-ff5bbd4d-6518-4e17-8ff5-c8fd3d4a5b86.gz.parquet",
         13969172
        ],
        [
         "dbfs:/databricks-datasets/wikipedia-datasets/data-001/en_wikipedia/articles-only-parquet/part-r-00353-ff5bbd4d-6518-4e17-8ff5-c8fd3d4a5b86.gz.parquet",
         "part-r-00353-ff5bbd4d-6518-4e17-8ff5-c8fd3d4a5b86.gz.parquet",
         12773609
        ],
        [
         "dbfs:/databricks-datasets/wikipedia-datasets/data-001/en_wikipedia/articles-only-parquet/part-r-00354-ff5bbd4d-6518-4e17-8ff5-c8fd3d4a5b86.gz.parquet",
         "part-r-00354-ff5bbd4d-6518-4e17-8ff5-c8fd3d4a5b86.gz.parquet",
         9709072
        ],
        [
         "dbfs:/databricks-datasets/wikipedia-datasets/data-001/en_wikipedia/articles-only-parquet/part-r-00355-ff5bbd4d-6518-4e17-8ff5-c8fd3d4a5b86.gz.parquet",
         "part-r-00355-ff5bbd4d-6518-4e17-8ff5-c8fd3d4a5b86.gz.parquet",
         8622849
        ],
        [
         "dbfs:/databricks-datasets/wikipedia-datasets/data-001/en_wikipedia/articles-only-parquet/part-r-00356-ff5bbd4d-6518-4e17-8ff5-c8fd3d4a5b86.gz.parquet",
         "part-r-00356-ff5bbd4d-6518-4e17-8ff5-c8fd3d4a5b86.gz.parquet",
         16079615
        ],
        [
         "dbfs:/databricks-datasets/wikipedia-datasets/data-001/en_wikipedia/articles-only-parquet/part-r-00357-ff5bbd4d-6518-4e17-8ff5-c8fd3d4a5b86.gz.parquet",
         "part-r-00357-ff5bbd4d-6518-4e17-8ff5-c8fd3d4a5b86.gz.parquet",
         8517936
        ],
        [
         "dbfs:/databricks-datasets/wikipedia-datasets/data-001/en_wikipedia/articles-only-parquet/part-r-00358-ff5bbd4d-6518-4e17-8ff5-c8fd3d4a5b86.gz.parquet",
         "part-r-00358-ff5bbd4d-6518-4e17-8ff5-c8fd3d4a5b86.gz.parquet",
         9880952
        ],
        [
         "dbfs:/databricks-datasets/wikipedia-datasets/data-001/en_wikipedia/articles-only-parquet/part-r-00359-ff5bbd4d-6518-4e17-8ff5-c8fd3d4a5b86.gz.parquet",
         "part-r-00359-ff5bbd4d-6518-4e17-8ff5-c8fd3d4a5b86.gz.parquet",
         9422502
        ],
        [
         "dbfs:/databricks-datasets/wikipedia-datasets/data-001/en_wikipedia/articles-only-parquet/part-r-00360-ff5bbd4d-6518-4e17-8ff5-c8fd3d4a5b86.gz.parquet",
         "part-r-00360-ff5bbd4d-6518-4e17-8ff5-c8fd3d4a5b86.gz.parquet",
         10429736
        ],
        [
         "dbfs:/databricks-datasets/wikipedia-datasets/data-001/en_wikipedia/articles-only-parquet/part-r-00361-ff5bbd4d-6518-4e17-8ff5-c8fd3d4a5b86.gz.parquet",
         "part-r-00361-ff5bbd4d-6518-4e17-8ff5-c8fd3d4a5b86.gz.parquet",
         8065364
        ],
        [
         "dbfs:/databricks-datasets/wikipedia-datasets/data-001/en_wikipedia/articles-only-parquet/part-r-00362-ff5bbd4d-6518-4e17-8ff5-c8fd3d4a5b86.gz.parquet",
         "part-r-00362-ff5bbd4d-6518-4e17-8ff5-c8fd3d4a5b86.gz.parquet",
         8993458
        ],
        [
         "dbfs:/databricks-datasets/wikipedia-datasets/data-001/en_wikipedia/articles-only-parquet/part-r-00363-ff5bbd4d-6518-4e17-8ff5-c8fd3d4a5b86.gz.parquet",
         "part-r-00363-ff5bbd4d-6518-4e17-8ff5-c8fd3d4a5b86.gz.parquet",
         10515946
        ],
        [
         "dbfs:/databricks-datasets/wikipedia-datasets/data-001/en_wikipedia/articles-only-parquet/part-r-00364-ff5bbd4d-6518-4e17-8ff5-c8fd3d4a5b86.gz.parquet",
         "part-r-00364-ff5bbd4d-6518-4e17-8ff5-c8fd3d4a5b86.gz.parquet",
         9138805
        ],
        [
         "dbfs:/databricks-datasets/wikipedia-datasets/data-001/en_wikipedia/articles-only-parquet/part-r-00365-ff5bbd4d-6518-4e17-8ff5-c8fd3d4a5b86.gz.parquet",
         "part-r-00365-ff5bbd4d-6518-4e17-8ff5-c8fd3d4a5b86.gz.parquet",
         10517830
        ],
        [
         "dbfs:/databricks-datasets/wikipedia-datasets/data-001/en_wikipedia/articles-only-parquet/part-r-00366-ff5bbd4d-6518-4e17-8ff5-c8fd3d4a5b86.gz.parquet",
         "part-r-00366-ff5bbd4d-6518-4e17-8ff5-c8fd3d4a5b86.gz.parquet",
         9365433
        ],
        [
         "dbfs:/databricks-datasets/wikipedia-datasets/data-001/en_wikipedia/articles-only-parquet/part-r-00367-ff5bbd4d-6518-4e17-8ff5-c8fd3d4a5b86.gz.parquet",
         "part-r-00367-ff5bbd4d-6518-4e17-8ff5-c8fd3d4a5b86.gz.parquet",
         14595561
        ],
        [
         "dbfs:/databricks-datasets/wikipedia-datasets/data-001/en_wikipedia/articles-only-parquet/part-r-00368-ff5bbd4d-6518-4e17-8ff5-c8fd3d4a5b86.gz.parquet",
         "part-r-00368-ff5bbd4d-6518-4e17-8ff5-c8fd3d4a5b86.gz.parquet",
         9404904
        ],
        [
         "dbfs:/databricks-datasets/wikipedia-datasets/data-001/en_wikipedia/articles-only-parquet/part-r-00369-ff5bbd4d-6518-4e17-8ff5-c8fd3d4a5b86.gz.parquet",
         "part-r-00369-ff5bbd4d-6518-4e17-8ff5-c8fd3d4a5b86.gz.parquet",
         10085610
        ],
        [
         "dbfs:/databricks-datasets/wikipedia-datasets/data-001/en_wikipedia/articles-only-parquet/part-r-00370-ff5bbd4d-6518-4e17-8ff5-c8fd3d4a5b86.gz.parquet",
         "part-r-00370-ff5bbd4d-6518-4e17-8ff5-c8fd3d4a5b86.gz.parquet",
         13738049
        ],
        [
         "dbfs:/databricks-datasets/wikipedia-datasets/data-001/en_wikipedia/articles-only-parquet/part-r-00371-ff5bbd4d-6518-4e17-8ff5-c8fd3d4a5b86.gz.parquet",
         "part-r-00371-ff5bbd4d-6518-4e17-8ff5-c8fd3d4a5b86.gz.parquet",
         9029736
        ],
        [
         "dbfs:/databricks-datasets/wikipedia-datasets/data-001/en_wikipedia/articles-only-parquet/part-r-00372-ff5bbd4d-6518-4e17-8ff5-c8fd3d4a5b86.gz.parquet",
         "part-r-00372-ff5bbd4d-6518-4e17-8ff5-c8fd3d4a5b86.gz.parquet",
         15273934
        ],
        [
         "dbfs:/databricks-datasets/wikipedia-datasets/data-001/en_wikipedia/articles-only-parquet/part-r-00373-ff5bbd4d-6518-4e17-8ff5-c8fd3d4a5b86.gz.parquet",
         "part-r-00373-ff5bbd4d-6518-4e17-8ff5-c8fd3d4a5b86.gz.parquet",
         8285047
        ],
        [
         "dbfs:/databricks-datasets/wikipedia-datasets/data-001/en_wikipedia/articles-only-parquet/part-r-00374-ff5bbd4d-6518-4e17-8ff5-c8fd3d4a5b86.gz.parquet",
         "part-r-00374-ff5bbd4d-6518-4e17-8ff5-c8fd3d4a5b86.gz.parquet",
         9589103
        ],
        [
         "dbfs:/databricks-datasets/wikipedia-datasets/data-001/en_wikipedia/articles-only-parquet/part-r-00375-ff5bbd4d-6518-4e17-8ff5-c8fd3d4a5b86.gz.parquet",
         "part-r-00375-ff5bbd4d-6518-4e17-8ff5-c8fd3d4a5b86.gz.parquet",
         12250633
        ],
        [
         "dbfs:/databricks-datasets/wikipedia-datasets/data-001/en_wikipedia/articles-only-parquet/part-r-00376-ff5bbd4d-6518-4e17-8ff5-c8fd3d4a5b86.gz.parquet",
         "part-r-00376-ff5bbd4d-6518-4e17-8ff5-c8fd3d4a5b86.gz.parquet",
         9525539
        ],
        [
         "dbfs:/databricks-datasets/wikipedia-datasets/data-001/en_wikipedia/articles-only-parquet/part-r-00377-ff5bbd4d-6518-4e17-8ff5-c8fd3d4a5b86.gz.parquet",
         "part-r-00377-ff5bbd4d-6518-4e17-8ff5-c8fd3d4a5b86.gz.parquet",
         14587429
        ],
        [
         "dbfs:/databricks-datasets/wikipedia-datasets/data-001/en_wikipedia/articles-only-parquet/part-r-00378-ff5bbd4d-6518-4e17-8ff5-c8fd3d4a5b86.gz.parquet",
         "part-r-00378-ff5bbd4d-6518-4e17-8ff5-c8fd3d4a5b86.gz.parquet",
         9385891
        ],
        [
         "dbfs:/databricks-datasets/wikipedia-datasets/data-001/en_wikipedia/articles-only-parquet/part-r-00379-ff5bbd4d-6518-4e17-8ff5-c8fd3d4a5b86.gz.parquet",
         "part-r-00379-ff5bbd4d-6518-4e17-8ff5-c8fd3d4a5b86.gz.parquet",
         8895127
        ],
        [
         "dbfs:/databricks-datasets/wikipedia-datasets/data-001/en_wikipedia/articles-only-parquet/part-r-00380-ff5bbd4d-6518-4e17-8ff5-c8fd3d4a5b86.gz.parquet",
         "part-r-00380-ff5bbd4d-6518-4e17-8ff5-c8fd3d4a5b86.gz.parquet",
         8801953
        ],
        [
         "dbfs:/databricks-datasets/wikipedia-datasets/data-001/en_wikipedia/articles-only-parquet/part-r-00381-ff5bbd4d-6518-4e17-8ff5-c8fd3d4a5b86.gz.parquet",
         "part-r-00381-ff5bbd4d-6518-4e17-8ff5-c8fd3d4a5b86.gz.parquet",
         7328751
        ],
        [
         "dbfs:/databricks-datasets/wikipedia-datasets/data-001/en_wikipedia/articles-only-parquet/part-r-00382-ff5bbd4d-6518-4e17-8ff5-c8fd3d4a5b86.gz.parquet",
         "part-r-00382-ff5bbd4d-6518-4e17-8ff5-c8fd3d4a5b86.gz.parquet",
         13627603
        ],
        [
         "dbfs:/databricks-datasets/wikipedia-datasets/data-001/en_wikipedia/articles-only-parquet/part-r-00383-ff5bbd4d-6518-4e17-8ff5-c8fd3d4a5b86.gz.parquet",
         "part-r-00383-ff5bbd4d-6518-4e17-8ff5-c8fd3d4a5b86.gz.parquet",
         8620140
        ],
        [
         "dbfs:/databricks-datasets/wikipedia-datasets/data-001/en_wikipedia/articles-only-parquet/part-r-00384-ff5bbd4d-6518-4e17-8ff5-c8fd3d4a5b86.gz.parquet",
         "part-r-00384-ff5bbd4d-6518-4e17-8ff5-c8fd3d4a5b86.gz.parquet",
         9129240
        ],
        [
         "dbfs:/databricks-datasets/wikipedia-datasets/data-001/en_wikipedia/articles-only-parquet/part-r-00385-ff5bbd4d-6518-4e17-8ff5-c8fd3d4a5b86.gz.parquet",
         "part-r-00385-ff5bbd4d-6518-4e17-8ff5-c8fd3d4a5b86.gz.parquet",
         8527913
        ],
        [
         "dbfs:/databricks-datasets/wikipedia-datasets/data-001/en_wikipedia/articles-only-parquet/part-r-00386-ff5bbd4d-6518-4e17-8ff5-c8fd3d4a5b86.gz.parquet",
         "part-r-00386-ff5bbd4d-6518-4e17-8ff5-c8fd3d4a5b86.gz.parquet",
         9185784
        ],
        [
         "dbfs:/databricks-datasets/wikipedia-datasets/data-001/en_wikipedia/articles-only-parquet/part-r-00387-ff5bbd4d-6518-4e17-8ff5-c8fd3d4a5b86.gz.parquet",
         "part-r-00387-ff5bbd4d-6518-4e17-8ff5-c8fd3d4a5b86.gz.parquet",
         10629375
        ],
        [
         "dbfs:/databricks-datasets/wikipedia-datasets/data-001/en_wikipedia/articles-only-parquet/part-r-00388-ff5bbd4d-6518-4e17-8ff5-c8fd3d4a5b86.gz.parquet",
         "part-r-00388-ff5bbd4d-6518-4e17-8ff5-c8fd3d4a5b86.gz.parquet",
         9189793
        ],
        [
         "dbfs:/databricks-datasets/wikipedia-datasets/data-001/en_wikipedia/articles-only-parquet/part-r-00389-ff5bbd4d-6518-4e17-8ff5-c8fd3d4a5b86.gz.parquet",
         "part-r-00389-ff5bbd4d-6518-4e17-8ff5-c8fd3d4a5b86.gz.parquet",
         9248894
        ],
        [
         "dbfs:/databricks-datasets/wikipedia-datasets/data-001/en_wikipedia/articles-only-parquet/part-r-00390-ff5bbd4d-6518-4e17-8ff5-c8fd3d4a5b86.gz.parquet",
         "part-r-00390-ff5bbd4d-6518-4e17-8ff5-c8fd3d4a5b86.gz.parquet",
         8948639
        ],
        [
         "dbfs:/databricks-datasets/wikipedia-datasets/data-001/en_wikipedia/articles-only-parquet/part-r-00391-ff5bbd4d-6518-4e17-8ff5-c8fd3d4a5b86.gz.parquet",
         "part-r-00391-ff5bbd4d-6518-4e17-8ff5-c8fd3d4a5b86.gz.parquet",
         13152618
        ],
        [
         "dbfs:/databricks-datasets/wikipedia-datasets/data-001/en_wikipedia/articles-only-parquet/part-r-00392-ff5bbd4d-6518-4e17-8ff5-c8fd3d4a5b86.gz.parquet",
         "part-r-00392-ff5bbd4d-6518-4e17-8ff5-c8fd3d4a5b86.gz.parquet",
         12658735
        ],
        [
         "dbfs:/databricks-datasets/wikipedia-datasets/data-001/en_wikipedia/articles-only-parquet/part-r-00393-ff5bbd4d-6518-4e17-8ff5-c8fd3d4a5b86.gz.parquet",
         "part-r-00393-ff5bbd4d-6518-4e17-8ff5-c8fd3d4a5b86.gz.parquet",
         8671060
        ],
        [
         "dbfs:/databricks-datasets/wikipedia-datasets/data-001/en_wikipedia/articles-only-parquet/part-r-00394-ff5bbd4d-6518-4e17-8ff5-c8fd3d4a5b86.gz.parquet",
         "part-r-00394-ff5bbd4d-6518-4e17-8ff5-c8fd3d4a5b86.gz.parquet",
         9014633
        ],
        [
         "dbfs:/databricks-datasets/wikipedia-datasets/data-001/en_wikipedia/articles-only-parquet/part-r-00395-ff5bbd4d-6518-4e17-8ff5-c8fd3d4a5b86.gz.parquet",
         "part-r-00395-ff5bbd4d-6518-4e17-8ff5-c8fd3d4a5b86.gz.parquet",
         10594474
        ],
        [
         "dbfs:/databricks-datasets/wikipedia-datasets/data-001/en_wikipedia/articles-only-parquet/part-r-00396-ff5bbd4d-6518-4e17-8ff5-c8fd3d4a5b86.gz.parquet",
         "part-r-00396-ff5bbd4d-6518-4e17-8ff5-c8fd3d4a5b86.gz.parquet",
         9307451
        ],
        [
         "dbfs:/databricks-datasets/wikipedia-datasets/data-001/en_wikipedia/articles-only-parquet/part-r-00397-ff5bbd4d-6518-4e17-8ff5-c8fd3d4a5b86.gz.parquet",
         "part-r-00397-ff5bbd4d-6518-4e17-8ff5-c8fd3d4a5b86.gz.parquet",
         8257656
        ],
        [
         "dbfs:/databricks-datasets/wikipedia-datasets/data-001/en_wikipedia/articles-only-parquet/part-r-00398-ff5bbd4d-6518-4e17-8ff5-c8fd3d4a5b86.gz.parquet",
         "part-r-00398-ff5bbd4d-6518-4e17-8ff5-c8fd3d4a5b86.gz.parquet",
         7274695
        ],
        [
         "dbfs:/databricks-datasets/wikipedia-datasets/data-001/en_wikipedia/articles-only-parquet/part-r-00399-ff5bbd4d-6518-4e17-8ff5-c8fd3d4a5b86.gz.parquet",
         "part-r-00399-ff5bbd4d-6518-4e17-8ff5-c8fd3d4a5b86.gz.parquet",
         17554403
        ],
        [
         "dbfs:/databricks-datasets/wikipedia-datasets/data-001/en_wikipedia/articles-only-parquet/part-r-00400-ff5bbd4d-6518-4e17-8ff5-c8fd3d4a5b86.gz.parquet",
         "part-r-00400-ff5bbd4d-6518-4e17-8ff5-c8fd3d4a5b86.gz.parquet",
         9201348
        ],
        [
         "dbfs:/databricks-datasets/wikipedia-datasets/data-001/en_wikipedia/articles-only-parquet/part-r-00401-ff5bbd4d-6518-4e17-8ff5-c8fd3d4a5b86.gz.parquet",
         "part-r-00401-ff5bbd4d-6518-4e17-8ff5-c8fd3d4a5b86.gz.parquet",
         8050259
        ],
        [
         "dbfs:/databricks-datasets/wikipedia-datasets/data-001/en_wikipedia/articles-only-parquet/part-r-00402-ff5bbd4d-6518-4e17-8ff5-c8fd3d4a5b86.gz.parquet",
         "part-r-00402-ff5bbd4d-6518-4e17-8ff5-c8fd3d4a5b86.gz.parquet",
         9603793
        ],
        [
         "dbfs:/databricks-datasets/wikipedia-datasets/data-001/en_wikipedia/articles-only-parquet/part-r-00403-ff5bbd4d-6518-4e17-8ff5-c8fd3d4a5b86.gz.parquet",
         "part-r-00403-ff5bbd4d-6518-4e17-8ff5-c8fd3d4a5b86.gz.parquet",
         10222479
        ],
        [
         "dbfs:/databricks-datasets/wikipedia-datasets/data-001/en_wikipedia/articles-only-parquet/part-r-00404-ff5bbd4d-6518-4e17-8ff5-c8fd3d4a5b86.gz.parquet",
         "part-r-00404-ff5bbd4d-6518-4e17-8ff5-c8fd3d4a5b86.gz.parquet",
         9453908
        ],
        [
         "dbfs:/databricks-datasets/wikipedia-datasets/data-001/en_wikipedia/articles-only-parquet/part-r-00405-ff5bbd4d-6518-4e17-8ff5-c8fd3d4a5b86.gz.parquet",
         "part-r-00405-ff5bbd4d-6518-4e17-8ff5-c8fd3d4a5b86.gz.parquet",
         12900378
        ],
        [
         "dbfs:/databricks-datasets/wikipedia-datasets/data-001/en_wikipedia/articles-only-parquet/part-r-00406-ff5bbd4d-6518-4e17-8ff5-c8fd3d4a5b86.gz.parquet",
         "part-r-00406-ff5bbd4d-6518-4e17-8ff5-c8fd3d4a5b86.gz.parquet",
         8812441
        ],
        [
         "dbfs:/databricks-datasets/wikipedia-datasets/data-001/en_wikipedia/articles-only-parquet/part-r-00407-ff5bbd4d-6518-4e17-8ff5-c8fd3d4a5b86.gz.parquet",
         "part-r-00407-ff5bbd4d-6518-4e17-8ff5-c8fd3d4a5b86.gz.parquet",
         8720956
        ],
        [
         "dbfs:/databricks-datasets/wikipedia-datasets/data-001/en_wikipedia/articles-only-parquet/part-r-00408-ff5bbd4d-6518-4e17-8ff5-c8fd3d4a5b86.gz.parquet",
         "part-r-00408-ff5bbd4d-6518-4e17-8ff5-c8fd3d4a5b86.gz.parquet",
         8330859
        ],
        [
         "dbfs:/databricks-datasets/wikipedia-datasets/data-001/en_wikipedia/articles-only-parquet/part-r-00409-ff5bbd4d-6518-4e17-8ff5-c8fd3d4a5b86.gz.parquet",
         "part-r-00409-ff5bbd4d-6518-4e17-8ff5-c8fd3d4a5b86.gz.parquet",
         9079007
        ],
        [
         "dbfs:/databricks-datasets/wikipedia-datasets/data-001/en_wikipedia/articles-only-parquet/part-r-00410-ff5bbd4d-6518-4e17-8ff5-c8fd3d4a5b86.gz.parquet",
         "part-r-00410-ff5bbd4d-6518-4e17-8ff5-c8fd3d4a5b86.gz.parquet",
         13638167
        ],
        [
         "dbfs:/databricks-datasets/wikipedia-datasets/data-001/en_wikipedia/articles-only-parquet/part-r-00411-ff5bbd4d-6518-4e17-8ff5-c8fd3d4a5b86.gz.parquet",
         "part-r-00411-ff5bbd4d-6518-4e17-8ff5-c8fd3d4a5b86.gz.parquet",
         9727017
        ],
        [
         "dbfs:/databricks-datasets/wikipedia-datasets/data-001/en_wikipedia/articles-only-parquet/part-r-00412-ff5bbd4d-6518-4e17-8ff5-c8fd3d4a5b86.gz.parquet",
         "part-r-00412-ff5bbd4d-6518-4e17-8ff5-c8fd3d4a5b86.gz.parquet",
         11399100
        ],
        [
         "dbfs:/databricks-datasets/wikipedia-datasets/data-001/en_wikipedia/articles-only-parquet/part-r-00413-ff5bbd4d-6518-4e17-8ff5-c8fd3d4a5b86.gz.parquet",
         "part-r-00413-ff5bbd4d-6518-4e17-8ff5-c8fd3d4a5b86.gz.parquet",
         8899482
        ],
        [
         "dbfs:/databricks-datasets/wikipedia-datasets/data-001/en_wikipedia/articles-only-parquet/part-r-00414-ff5bbd4d-6518-4e17-8ff5-c8fd3d4a5b86.gz.parquet",
         "part-r-00414-ff5bbd4d-6518-4e17-8ff5-c8fd3d4a5b86.gz.parquet",
         10429724
        ],
        [
         "dbfs:/databricks-datasets/wikipedia-datasets/data-001/en_wikipedia/articles-only-parquet/part-r-00415-ff5bbd4d-6518-4e17-8ff5-c8fd3d4a5b86.gz.parquet",
         "part-r-00415-ff5bbd4d-6518-4e17-8ff5-c8fd3d4a5b86.gz.parquet",
         2306934
        ],
        [
         "dbfs:/databricks-datasets/wikipedia-datasets/data-001/en_wikipedia/articles-only-parquet/part-r-00416-ff5bbd4d-6518-4e17-8ff5-c8fd3d4a5b86.gz.parquet",
         "part-r-00416-ff5bbd4d-6518-4e17-8ff5-c8fd3d4a5b86.gz.parquet",
         8740714
        ],
        [
         "dbfs:/databricks-datasets/wikipedia-datasets/data-001/en_wikipedia/articles-only-parquet/part-r-00417-ff5bbd4d-6518-4e17-8ff5-c8fd3d4a5b86.gz.parquet",
         "part-r-00417-ff5bbd4d-6518-4e17-8ff5-c8fd3d4a5b86.gz.parquet",
         9637912
        ],
        [
         "dbfs:/databricks-datasets/wikipedia-datasets/data-001/en_wikipedia/articles-only-parquet/part-r-00418-ff5bbd4d-6518-4e17-8ff5-c8fd3d4a5b86.gz.parquet",
         "part-r-00418-ff5bbd4d-6518-4e17-8ff5-c8fd3d4a5b86.gz.parquet",
         11293456
        ],
        [
         "dbfs:/databricks-datasets/wikipedia-datasets/data-001/en_wikipedia/articles-only-parquet/part-r-00419-ff5bbd4d-6518-4e17-8ff5-c8fd3d4a5b86.gz.parquet",
         "part-r-00419-ff5bbd4d-6518-4e17-8ff5-c8fd3d4a5b86.gz.parquet",
         10276357
        ],
        [
         "dbfs:/databricks-datasets/wikipedia-datasets/data-001/en_wikipedia/articles-only-parquet/part-r-00420-ff5bbd4d-6518-4e17-8ff5-c8fd3d4a5b86.gz.parquet",
         "part-r-00420-ff5bbd4d-6518-4e17-8ff5-c8fd3d4a5b86.gz.parquet",
         9910009
        ],
        [
         "dbfs:/databricks-datasets/wikipedia-datasets/data-001/en_wikipedia/articles-only-parquet/part-r-00421-ff5bbd4d-6518-4e17-8ff5-c8fd3d4a5b86.gz.parquet",
         "part-r-00421-ff5bbd4d-6518-4e17-8ff5-c8fd3d4a5b86.gz.parquet",
         9840078
        ],
        [
         "dbfs:/databricks-datasets/wikipedia-datasets/data-001/en_wikipedia/articles-only-parquet/part-r-00422-ff5bbd4d-6518-4e17-8ff5-c8fd3d4a5b86.gz.parquet",
         "part-r-00422-ff5bbd4d-6518-4e17-8ff5-c8fd3d4a5b86.gz.parquet",
         8987167
        ],
        [
         "dbfs:/databricks-datasets/wikipedia-datasets/data-001/en_wikipedia/articles-only-parquet/part-r-00423-ff5bbd4d-6518-4e17-8ff5-c8fd3d4a5b86.gz.parquet",
         "part-r-00423-ff5bbd4d-6518-4e17-8ff5-c8fd3d4a5b86.gz.parquet",
         12031540
        ],
        [
         "dbfs:/databricks-datasets/wikipedia-datasets/data-001/en_wikipedia/articles-only-parquet/part-r-00424-ff5bbd4d-6518-4e17-8ff5-c8fd3d4a5b86.gz.parquet",
         "part-r-00424-ff5bbd4d-6518-4e17-8ff5-c8fd3d4a5b86.gz.parquet",
         8378300
        ],
        [
         "dbfs:/databricks-datasets/wikipedia-datasets/data-001/en_wikipedia/articles-only-parquet/part-r-00425-ff5bbd4d-6518-4e17-8ff5-c8fd3d4a5b86.gz.parquet",
         "part-r-00425-ff5bbd4d-6518-4e17-8ff5-c8fd3d4a5b86.gz.parquet",
         8750537
        ],
        [
         "dbfs:/databricks-datasets/wikipedia-datasets/data-001/en_wikipedia/articles-only-parquet/part-r-00426-ff5bbd4d-6518-4e17-8ff5-c8fd3d4a5b86.gz.parquet",
         "part-r-00426-ff5bbd4d-6518-4e17-8ff5-c8fd3d4a5b86.gz.parquet",
         7742718
        ],
        [
         "dbfs:/databricks-datasets/wikipedia-datasets/data-001/en_wikipedia/articles-only-parquet/part-r-00427-ff5bbd4d-6518-4e17-8ff5-c8fd3d4a5b86.gz.parquet",
         "part-r-00427-ff5bbd4d-6518-4e17-8ff5-c8fd3d4a5b86.gz.parquet",
         11881374
        ],
        [
         "dbfs:/databricks-datasets/wikipedia-datasets/data-001/en_wikipedia/articles-only-parquet/part-r-00428-ff5bbd4d-6518-4e17-8ff5-c8fd3d4a5b86.gz.parquet",
         "part-r-00428-ff5bbd4d-6518-4e17-8ff5-c8fd3d4a5b86.gz.parquet",
         7274130
        ],
        [
         "dbfs:/databricks-datasets/wikipedia-datasets/data-001/en_wikipedia/articles-only-parquet/part-r-00429-ff5bbd4d-6518-4e17-8ff5-c8fd3d4a5b86.gz.parquet",
         "part-r-00429-ff5bbd4d-6518-4e17-8ff5-c8fd3d4a5b86.gz.parquet",
         12107346
        ],
        [
         "dbfs:/databricks-datasets/wikipedia-datasets/data-001/en_wikipedia/articles-only-parquet/part-r-00430-ff5bbd4d-6518-4e17-8ff5-c8fd3d4a5b86.gz.parquet",
         "part-r-00430-ff5bbd4d-6518-4e17-8ff5-c8fd3d4a5b86.gz.parquet",
         5441639
        ],
        [
         "dbfs:/databricks-datasets/wikipedia-datasets/data-001/en_wikipedia/articles-only-parquet/part-r-00431-ff5bbd4d-6518-4e17-8ff5-c8fd3d4a5b86.gz.parquet",
         "part-r-00431-ff5bbd4d-6518-4e17-8ff5-c8fd3d4a5b86.gz.parquet",
         8727496
        ],
        [
         "dbfs:/databricks-datasets/wikipedia-datasets/data-001/en_wikipedia/articles-only-parquet/part-r-00432-ff5bbd4d-6518-4e17-8ff5-c8fd3d4a5b86.gz.parquet",
         "part-r-00432-ff5bbd4d-6518-4e17-8ff5-c8fd3d4a5b86.gz.parquet",
         9422624
        ],
        [
         "dbfs:/databricks-datasets/wikipedia-datasets/data-001/en_wikipedia/articles-only-parquet/part-r-00433-ff5bbd4d-6518-4e17-8ff5-c8fd3d4a5b86.gz.parquet",
         "part-r-00433-ff5bbd4d-6518-4e17-8ff5-c8fd3d4a5b86.gz.parquet",
         10950332
        ],
        [
         "dbfs:/databricks-datasets/wikipedia-datasets/data-001/en_wikipedia/articles-only-parquet/part-r-00434-ff5bbd4d-6518-4e17-8ff5-c8fd3d4a5b86.gz.parquet",
         "part-r-00434-ff5bbd4d-6518-4e17-8ff5-c8fd3d4a5b86.gz.parquet",
         11108823
        ],
        [
         "dbfs:/databricks-datasets/wikipedia-datasets/data-001/en_wikipedia/articles-only-parquet/part-r-00435-ff5bbd4d-6518-4e17-8ff5-c8fd3d4a5b86.gz.parquet",
         "part-r-00435-ff5bbd4d-6518-4e17-8ff5-c8fd3d4a5b86.gz.parquet",
         9044781
        ],
        [
         "dbfs:/databricks-datasets/wikipedia-datasets/data-001/en_wikipedia/articles-only-parquet/part-r-00436-ff5bbd4d-6518-4e17-8ff5-c8fd3d4a5b86.gz.parquet",
         "part-r-00436-ff5bbd4d-6518-4e17-8ff5-c8fd3d4a5b86.gz.parquet",
         8640443
        ],
        [
         "dbfs:/databricks-datasets/wikipedia-datasets/data-001/en_wikipedia/articles-only-parquet/part-r-00437-ff5bbd4d-6518-4e17-8ff5-c8fd3d4a5b86.gz.parquet",
         "part-r-00437-ff5bbd4d-6518-4e17-8ff5-c8fd3d4a5b86.gz.parquet",
         19220433
        ],
        [
         "dbfs:/databricks-datasets/wikipedia-datasets/data-001/en_wikipedia/articles-only-parquet/part-r-00438-ff5bbd4d-6518-4e17-8ff5-c8fd3d4a5b86.gz.parquet",
         "part-r-00438-ff5bbd4d-6518-4e17-8ff5-c8fd3d4a5b86.gz.parquet",
         9457322
        ],
        [
         "dbfs:/databricks-datasets/wikipedia-datasets/data-001/en_wikipedia/articles-only-parquet/part-r-00439-ff5bbd4d-6518-4e17-8ff5-c8fd3d4a5b86.gz.parquet",
         "part-r-00439-ff5bbd4d-6518-4e17-8ff5-c8fd3d4a5b86.gz.parquet",
         4443341
        ],
        [
         "dbfs:/databricks-datasets/wikipedia-datasets/data-001/en_wikipedia/articles-only-parquet/part-r-00440-ff5bbd4d-6518-4e17-8ff5-c8fd3d4a5b86.gz.parquet",
         "part-r-00440-ff5bbd4d-6518-4e17-8ff5-c8fd3d4a5b86.gz.parquet",
         13641053
        ],
        [
         "dbfs:/databricks-datasets/wikipedia-datasets/data-001/en_wikipedia/articles-only-parquet/part-r-00441-ff5bbd4d-6518-4e17-8ff5-c8fd3d4a5b86.gz.parquet",
         "part-r-00441-ff5bbd4d-6518-4e17-8ff5-c8fd3d4a5b86.gz.parquet",
         13533640
        ],
        [
         "dbfs:/databricks-datasets/wikipedia-datasets/data-001/en_wikipedia/articles-only-parquet/part-r-00442-ff5bbd4d-6518-4e17-8ff5-c8fd3d4a5b86.gz.parquet",
         "part-r-00442-ff5bbd4d-6518-4e17-8ff5-c8fd3d4a5b86.gz.parquet",
         13672428
        ],
        [
         "dbfs:/databricks-datasets/wikipedia-datasets/data-001/en_wikipedia/articles-only-parquet/part-r-00443-ff5bbd4d-6518-4e17-8ff5-c8fd3d4a5b86.gz.parquet",
         "part-r-00443-ff5bbd4d-6518-4e17-8ff5-c8fd3d4a5b86.gz.parquet",
         9084841
        ],
        [
         "dbfs:/databricks-datasets/wikipedia-datasets/data-001/en_wikipedia/articles-only-parquet/part-r-00444-ff5bbd4d-6518-4e17-8ff5-c8fd3d4a5b86.gz.parquet",
         "part-r-00444-ff5bbd4d-6518-4e17-8ff5-c8fd3d4a5b86.gz.parquet",
         9650962
        ],
        [
         "dbfs:/databricks-datasets/wikipedia-datasets/data-001/en_wikipedia/articles-only-parquet/part-r-00445-ff5bbd4d-6518-4e17-8ff5-c8fd3d4a5b86.gz.parquet",
         "part-r-00445-ff5bbd4d-6518-4e17-8ff5-c8fd3d4a5b86.gz.parquet",
         8810399
        ],
        [
         "dbfs:/databricks-datasets/wikipedia-datasets/data-001/en_wikipedia/articles-only-parquet/part-r-00446-ff5bbd4d-6518-4e17-8ff5-c8fd3d4a5b86.gz.parquet",
         "part-r-00446-ff5bbd4d-6518-4e17-8ff5-c8fd3d4a5b86.gz.parquet",
         8463074
        ],
        [
         "dbfs:/databricks-datasets/wikipedia-datasets/data-001/en_wikipedia/articles-only-parquet/part-r-00447-ff5bbd4d-6518-4e17-8ff5-c8fd3d4a5b86.gz.parquet",
         "part-r-00447-ff5bbd4d-6518-4e17-8ff5-c8fd3d4a5b86.gz.parquet",
         9668779
        ],
        [
         "dbfs:/databricks-datasets/wikipedia-datasets/data-001/en_wikipedia/articles-only-parquet/part-r-00448-ff5bbd4d-6518-4e17-8ff5-c8fd3d4a5b86.gz.parquet",
         "part-r-00448-ff5bbd4d-6518-4e17-8ff5-c8fd3d4a5b86.gz.parquet",
         8019803
        ],
        [
         "dbfs:/databricks-datasets/wikipedia-datasets/data-001/en_wikipedia/articles-only-parquet/part-r-00449-ff5bbd4d-6518-4e17-8ff5-c8fd3d4a5b86.gz.parquet",
         "part-r-00449-ff5bbd4d-6518-4e17-8ff5-c8fd3d4a5b86.gz.parquet",
         9135499
        ],
        [
         "dbfs:/databricks-datasets/wikipedia-datasets/data-001/en_wikipedia/articles-only-parquet/part-r-00450-ff5bbd4d-6518-4e17-8ff5-c8fd3d4a5b86.gz.parquet",
         "part-r-00450-ff5bbd4d-6518-4e17-8ff5-c8fd3d4a5b86.gz.parquet",
         8111754
        ],
        [
         "dbfs:/databricks-datasets/wikipedia-datasets/data-001/en_wikipedia/articles-only-parquet/part-r-00451-ff5bbd4d-6518-4e17-8ff5-c8fd3d4a5b86.gz.parquet",
         "part-r-00451-ff5bbd4d-6518-4e17-8ff5-c8fd3d4a5b86.gz.parquet",
         14878988
        ],
        [
         "dbfs:/databricks-datasets/wikipedia-datasets/data-001/en_wikipedia/articles-only-parquet/part-r-00452-ff5bbd4d-6518-4e17-8ff5-c8fd3d4a5b86.gz.parquet",
         "part-r-00452-ff5bbd4d-6518-4e17-8ff5-c8fd3d4a5b86.gz.parquet",
         15969593
        ],
        [
         "dbfs:/databricks-datasets/wikipedia-datasets/data-001/en_wikipedia/articles-only-parquet/part-r-00453-ff5bbd4d-6518-4e17-8ff5-c8fd3d4a5b86.gz.parquet",
         "part-r-00453-ff5bbd4d-6518-4e17-8ff5-c8fd3d4a5b86.gz.parquet",
         17211960
        ],
        [
         "dbfs:/databricks-datasets/wikipedia-datasets/data-001/en_wikipedia/articles-only-parquet/part-r-00454-ff5bbd4d-6518-4e17-8ff5-c8fd3d4a5b86.gz.parquet",
         "part-r-00454-ff5bbd4d-6518-4e17-8ff5-c8fd3d4a5b86.gz.parquet",
         15715883
        ],
        [
         "dbfs:/databricks-datasets/wikipedia-datasets/data-001/en_wikipedia/articles-only-parquet/part-r-00455-ff5bbd4d-6518-4e17-8ff5-c8fd3d4a5b86.gz.parquet",
         "part-r-00455-ff5bbd4d-6518-4e17-8ff5-c8fd3d4a5b86.gz.parquet",
         16147930
        ],
        [
         "dbfs:/databricks-datasets/wikipedia-datasets/data-001/en_wikipedia/articles-only-parquet/part-r-00456-ff5bbd4d-6518-4e17-8ff5-c8fd3d4a5b86.gz.parquet",
         "part-r-00456-ff5bbd4d-6518-4e17-8ff5-c8fd3d4a5b86.gz.parquet",
         6281768
        ],
        [
         "dbfs:/databricks-datasets/wikipedia-datasets/data-001/en_wikipedia/articles-only-parquet/part-r-00457-ff5bbd4d-6518-4e17-8ff5-c8fd3d4a5b86.gz.parquet",
         "part-r-00457-ff5bbd4d-6518-4e17-8ff5-c8fd3d4a5b86.gz.parquet",
         10184889
        ],
        [
         "dbfs:/databricks-datasets/wikipedia-datasets/data-001/en_wikipedia/articles-only-parquet/part-r-00458-ff5bbd4d-6518-4e17-8ff5-c8fd3d4a5b86.gz.parquet",
         "part-r-00458-ff5bbd4d-6518-4e17-8ff5-c8fd3d4a5b86.gz.parquet",
         17819795
        ],
        [
         "dbfs:/databricks-datasets/wikipedia-datasets/data-001/en_wikipedia/articles-only-parquet/part-r-00459-ff5bbd4d-6518-4e17-8ff5-c8fd3d4a5b86.gz.parquet",
         "part-r-00459-ff5bbd4d-6518-4e17-8ff5-c8fd3d4a5b86.gz.parquet",
         8929361
        ],
        [
         "dbfs:/databricks-datasets/wikipedia-datasets/data-001/en_wikipedia/articles-only-parquet/part-r-00460-ff5bbd4d-6518-4e17-8ff5-c8fd3d4a5b86.gz.parquet",
         "part-r-00460-ff5bbd4d-6518-4e17-8ff5-c8fd3d4a5b86.gz.parquet",
         10093600
        ],
        [
         "dbfs:/databricks-datasets/wikipedia-datasets/data-001/en_wikipedia/articles-only-parquet/part-r-00461-ff5bbd4d-6518-4e17-8ff5-c8fd3d4a5b86.gz.parquet",
         "part-r-00461-ff5bbd4d-6518-4e17-8ff5-c8fd3d4a5b86.gz.parquet",
         808012
        ],
        [
         "dbfs:/databricks-datasets/wikipedia-datasets/data-001/en_wikipedia/articles-only-parquet/part-r-00462-ff5bbd4d-6518-4e17-8ff5-c8fd3d4a5b86.gz.parquet",
         "part-r-00462-ff5bbd4d-6518-4e17-8ff5-c8fd3d4a5b86.gz.parquet",
         9319149
        ],
        [
         "dbfs:/databricks-datasets/wikipedia-datasets/data-001/en_wikipedia/articles-only-parquet/part-r-00463-ff5bbd4d-6518-4e17-8ff5-c8fd3d4a5b86.gz.parquet",
         "part-r-00463-ff5bbd4d-6518-4e17-8ff5-c8fd3d4a5b86.gz.parquet",
         10116024
        ],
        [
         "dbfs:/databricks-datasets/wikipedia-datasets/data-001/en_wikipedia/articles-only-parquet/part-r-00464-ff5bbd4d-6518-4e17-8ff5-c8fd3d4a5b86.gz.parquet",
         "part-r-00464-ff5bbd4d-6518-4e17-8ff5-c8fd3d4a5b86.gz.parquet",
         13087880
        ],
        [
         "dbfs:/databricks-datasets/wikipedia-datasets/data-001/en_wikipedia/articles-only-parquet/part-r-00465-ff5bbd4d-6518-4e17-8ff5-c8fd3d4a5b86.gz.parquet",
         "part-r-00465-ff5bbd4d-6518-4e17-8ff5-c8fd3d4a5b86.gz.parquet",
         10230163
        ],
        [
         "dbfs:/databricks-datasets/wikipedia-datasets/data-001/en_wikipedia/articles-only-parquet/part-r-00466-ff5bbd4d-6518-4e17-8ff5-c8fd3d4a5b86.gz.parquet",
         "part-r-00466-ff5bbd4d-6518-4e17-8ff5-c8fd3d4a5b86.gz.parquet",
         12081847
        ],
        [
         "dbfs:/databricks-datasets/wikipedia-datasets/data-001/en_wikipedia/articles-only-parquet/part-r-00467-ff5bbd4d-6518-4e17-8ff5-c8fd3d4a5b86.gz.parquet",
         "part-r-00467-ff5bbd4d-6518-4e17-8ff5-c8fd3d4a5b86.gz.parquet",
         10189268
        ],
        [
         "dbfs:/databricks-datasets/wikipedia-datasets/data-001/en_wikipedia/articles-only-parquet/part-r-00468-ff5bbd4d-6518-4e17-8ff5-c8fd3d4a5b86.gz.parquet",
         "part-r-00468-ff5bbd4d-6518-4e17-8ff5-c8fd3d4a5b86.gz.parquet",
         5468811
        ],
        [
         "dbfs:/databricks-datasets/wikipedia-datasets/data-001/en_wikipedia/articles-only-parquet/part-r-00469-ff5bbd4d-6518-4e17-8ff5-c8fd3d4a5b86.gz.parquet",
         "part-r-00469-ff5bbd4d-6518-4e17-8ff5-c8fd3d4a5b86.gz.parquet",
         12302160
        ],
        [
         "dbfs:/databricks-datasets/wikipedia-datasets/data-001/en_wikipedia/articles-only-parquet/part-r-00470-ff5bbd4d-6518-4e17-8ff5-c8fd3d4a5b86.gz.parquet",
         "part-r-00470-ff5bbd4d-6518-4e17-8ff5-c8fd3d4a5b86.gz.parquet",
         9193259
        ],
        [
         "dbfs:/databricks-datasets/wikipedia-datasets/data-001/en_wikipedia/articles-only-parquet/part-r-00471-ff5bbd4d-6518-4e17-8ff5-c8fd3d4a5b86.gz.parquet",
         "part-r-00471-ff5bbd4d-6518-4e17-8ff5-c8fd3d4a5b86.gz.parquet",
         10979174
        ],
        [
         "dbfs:/databricks-datasets/wikipedia-datasets/data-001/en_wikipedia/articles-only-parquet/part-r-00472-ff5bbd4d-6518-4e17-8ff5-c8fd3d4a5b86.gz.parquet",
         "part-r-00472-ff5bbd4d-6518-4e17-8ff5-c8fd3d4a5b86.gz.parquet",
         8807421
        ],
        [
         "dbfs:/databricks-datasets/wikipedia-datasets/data-001/en_wikipedia/articles-only-parquet/part-r-00473-ff5bbd4d-6518-4e17-8ff5-c8fd3d4a5b86.gz.parquet",
         "part-r-00473-ff5bbd4d-6518-4e17-8ff5-c8fd3d4a5b86.gz.parquet",
         9536941
        ],
        [
         "dbfs:/databricks-datasets/wikipedia-datasets/data-001/en_wikipedia/articles-only-parquet/part-r-00474-ff5bbd4d-6518-4e17-8ff5-c8fd3d4a5b86.gz.parquet",
         "part-r-00474-ff5bbd4d-6518-4e17-8ff5-c8fd3d4a5b86.gz.parquet",
         11385132
        ],
        [
         "dbfs:/databricks-datasets/wikipedia-datasets/data-001/en_wikipedia/articles-only-parquet/part-r-00475-ff5bbd4d-6518-4e17-8ff5-c8fd3d4a5b86.gz.parquet",
         "part-r-00475-ff5bbd4d-6518-4e17-8ff5-c8fd3d4a5b86.gz.parquet",
         11105144
        ],
        [
         "dbfs:/databricks-datasets/wikipedia-datasets/data-001/en_wikipedia/articles-only-parquet/part-r-00476-ff5bbd4d-6518-4e17-8ff5-c8fd3d4a5b86.gz.parquet",
         "part-r-00476-ff5bbd4d-6518-4e17-8ff5-c8fd3d4a5b86.gz.parquet",
         8666359
        ],
        [
         "dbfs:/databricks-datasets/wikipedia-datasets/data-001/en_wikipedia/articles-only-parquet/part-r-00477-ff5bbd4d-6518-4e17-8ff5-c8fd3d4a5b86.gz.parquet",
         "part-r-00477-ff5bbd4d-6518-4e17-8ff5-c8fd3d4a5b86.gz.parquet",
         9191579
        ],
        [
         "dbfs:/databricks-datasets/wikipedia-datasets/data-001/en_wikipedia/articles-only-parquet/part-r-00478-ff5bbd4d-6518-4e17-8ff5-c8fd3d4a5b86.gz.parquet",
         "part-r-00478-ff5bbd4d-6518-4e17-8ff5-c8fd3d4a5b86.gz.parquet",
         10401315
        ],
        [
         "dbfs:/databricks-datasets/wikipedia-datasets/data-001/en_wikipedia/articles-only-parquet/part-r-00479-ff5bbd4d-6518-4e17-8ff5-c8fd3d4a5b86.gz.parquet",
         "part-r-00479-ff5bbd4d-6518-4e17-8ff5-c8fd3d4a5b86.gz.parquet",
         9059444
        ],
        [
         "dbfs:/databricks-datasets/wikipedia-datasets/data-001/en_wikipedia/articles-only-parquet/part-r-00480-ff5bbd4d-6518-4e17-8ff5-c8fd3d4a5b86.gz.parquet",
         "part-r-00480-ff5bbd4d-6518-4e17-8ff5-c8fd3d4a5b86.gz.parquet",
         8582215
        ],
        [
         "dbfs:/databricks-datasets/wikipedia-datasets/data-001/en_wikipedia/articles-only-parquet/part-r-00481-ff5bbd4d-6518-4e17-8ff5-c8fd3d4a5b86.gz.parquet",
         "part-r-00481-ff5bbd4d-6518-4e17-8ff5-c8fd3d4a5b86.gz.parquet",
         8467130
        ],
        [
         "dbfs:/databricks-datasets/wikipedia-datasets/data-001/en_wikipedia/articles-only-parquet/part-r-00482-ff5bbd4d-6518-4e17-8ff5-c8fd3d4a5b86.gz.parquet",
         "part-r-00482-ff5bbd4d-6518-4e17-8ff5-c8fd3d4a5b86.gz.parquet",
         8858830
        ],
        [
         "dbfs:/databricks-datasets/wikipedia-datasets/data-001/en_wikipedia/articles-only-parquet/part-r-00483-ff5bbd4d-6518-4e17-8ff5-c8fd3d4a5b86.gz.parquet",
         "part-r-00483-ff5bbd4d-6518-4e17-8ff5-c8fd3d4a5b86.gz.parquet",
         9587399
        ],
        [
         "dbfs:/databricks-datasets/wikipedia-datasets/data-001/en_wikipedia/articles-only-parquet/part-r-00484-ff5bbd4d-6518-4e17-8ff5-c8fd3d4a5b86.gz.parquet",
         "part-r-00484-ff5bbd4d-6518-4e17-8ff5-c8fd3d4a5b86.gz.parquet",
         9931784
        ],
        [
         "dbfs:/databricks-datasets/wikipedia-datasets/data-001/en_wikipedia/articles-only-parquet/part-r-00485-ff5bbd4d-6518-4e17-8ff5-c8fd3d4a5b86.gz.parquet",
         "part-r-00485-ff5bbd4d-6518-4e17-8ff5-c8fd3d4a5b86.gz.parquet",
         7695088
        ],
        [
         "dbfs:/databricks-datasets/wikipedia-datasets/data-001/en_wikipedia/articles-only-parquet/part-r-00486-ff5bbd4d-6518-4e17-8ff5-c8fd3d4a5b86.gz.parquet",
         "part-r-00486-ff5bbd4d-6518-4e17-8ff5-c8fd3d4a5b86.gz.parquet",
         8444006
        ],
        [
         "dbfs:/databricks-datasets/wikipedia-datasets/data-001/en_wikipedia/articles-only-parquet/part-r-00487-ff5bbd4d-6518-4e17-8ff5-c8fd3d4a5b86.gz.parquet",
         "part-r-00487-ff5bbd4d-6518-4e17-8ff5-c8fd3d4a5b86.gz.parquet",
         11477275
        ],
        [
         "dbfs:/databricks-datasets/wikipedia-datasets/data-001/en_wikipedia/articles-only-parquet/part-r-00488-ff5bbd4d-6518-4e17-8ff5-c8fd3d4a5b86.gz.parquet",
         "part-r-00488-ff5bbd4d-6518-4e17-8ff5-c8fd3d4a5b86.gz.parquet",
         9186221
        ],
        [
         "dbfs:/databricks-datasets/wikipedia-datasets/data-001/en_wikipedia/articles-only-parquet/part-r-00489-ff5bbd4d-6518-4e17-8ff5-c8fd3d4a5b86.gz.parquet",
         "part-r-00489-ff5bbd4d-6518-4e17-8ff5-c8fd3d4a5b86.gz.parquet",
         17006513
        ],
        [
         "dbfs:/databricks-datasets/wikipedia-datasets/data-001/en_wikipedia/articles-only-parquet/part-r-00490-ff5bbd4d-6518-4e17-8ff5-c8fd3d4a5b86.gz.parquet",
         "part-r-00490-ff5bbd4d-6518-4e17-8ff5-c8fd3d4a5b86.gz.parquet",
         12859221
        ],
        [
         "dbfs:/databricks-datasets/wikipedia-datasets/data-001/en_wikipedia/articles-only-parquet/part-r-00491-ff5bbd4d-6518-4e17-8ff5-c8fd3d4a5b86.gz.parquet",
         "part-r-00491-ff5bbd4d-6518-4e17-8ff5-c8fd3d4a5b86.gz.parquet",
         8675628
        ],
        [
         "dbfs:/databricks-datasets/wikipedia-datasets/data-001/en_wikipedia/articles-only-parquet/part-r-00492-ff5bbd4d-6518-4e17-8ff5-c8fd3d4a5b86.gz.parquet",
         "part-r-00492-ff5bbd4d-6518-4e17-8ff5-c8fd3d4a5b86.gz.parquet",
         10187801
        ],
        [
         "dbfs:/databricks-datasets/wikipedia-datasets/data-001/en_wikipedia/articles-only-parquet/part-r-00493-ff5bbd4d-6518-4e17-8ff5-c8fd3d4a5b86.gz.parquet",
         "part-r-00493-ff5bbd4d-6518-4e17-8ff5-c8fd3d4a5b86.gz.parquet",
         8283751
        ],
        [
         "dbfs:/databricks-datasets/wikipedia-datasets/data-001/en_wikipedia/articles-only-parquet/part-r-00494-ff5bbd4d-6518-4e17-8ff5-c8fd3d4a5b86.gz.parquet",
         "part-r-00494-ff5bbd4d-6518-4e17-8ff5-c8fd3d4a5b86.gz.parquet",
         9308178
        ],
        [
         "dbfs:/databricks-datasets/wikipedia-datasets/data-001/en_wikipedia/articles-only-parquet/part-r-00495-ff5bbd4d-6518-4e17-8ff5-c8fd3d4a5b86.gz.parquet",
         "part-r-00495-ff5bbd4d-6518-4e17-8ff5-c8fd3d4a5b86.gz.parquet",
         20719299
        ],
        [
         "dbfs:/databricks-datasets/wikipedia-datasets/data-001/en_wikipedia/articles-only-parquet/part-r-00496-ff5bbd4d-6518-4e17-8ff5-c8fd3d4a5b86.gz.parquet",
         "part-r-00496-ff5bbd4d-6518-4e17-8ff5-c8fd3d4a5b86.gz.parquet",
         9245035
        ],
        [
         "dbfs:/databricks-datasets/wikipedia-datasets/data-001/en_wikipedia/articles-only-parquet/part-r-00497-ff5bbd4d-6518-4e17-8ff5-c8fd3d4a5b86.gz.parquet",
         "part-r-00497-ff5bbd4d-6518-4e17-8ff5-c8fd3d4a5b86.gz.parquet",
         9715035
        ],
        [
         "dbfs:/databricks-datasets/wikipedia-datasets/data-001/en_wikipedia/articles-only-parquet/part-r-00498-ff5bbd4d-6518-4e17-8ff5-c8fd3d4a5b86.gz.parquet",
         "part-r-00498-ff5bbd4d-6518-4e17-8ff5-c8fd3d4a5b86.gz.parquet",
         17675640
        ],
        [
         "dbfs:/databricks-datasets/wikipedia-datasets/data-001/en_wikipedia/articles-only-parquet/part-r-00499-ff5bbd4d-6518-4e17-8ff5-c8fd3d4a5b86.gz.parquet",
         "part-r-00499-ff5bbd4d-6518-4e17-8ff5-c8fd3d4a5b86.gz.parquet",
         8955912
        ],
        [
         "dbfs:/databricks-datasets/wikipedia-datasets/data-001/en_wikipedia/articles-only-parquet/part-r-00500-ff5bbd4d-6518-4e17-8ff5-c8fd3d4a5b86.gz.parquet",
         "part-r-00500-ff5bbd4d-6518-4e17-8ff5-c8fd3d4a5b86.gz.parquet",
         17575533
        ],
        [
         "dbfs:/databricks-datasets/wikipedia-datasets/data-001/en_wikipedia/articles-only-parquet/part-r-00501-ff5bbd4d-6518-4e17-8ff5-c8fd3d4a5b86.gz.parquet",
         "part-r-00501-ff5bbd4d-6518-4e17-8ff5-c8fd3d4a5b86.gz.parquet",
         9218258
        ],
        [
         "dbfs:/databricks-datasets/wikipedia-datasets/data-001/en_wikipedia/articles-only-parquet/part-r-00502-ff5bbd4d-6518-4e17-8ff5-c8fd3d4a5b86.gz.parquet",
         "part-r-00502-ff5bbd4d-6518-4e17-8ff5-c8fd3d4a5b86.gz.parquet",
         8904809
        ],
        [
         "dbfs:/databricks-datasets/wikipedia-datasets/data-001/en_wikipedia/articles-only-parquet/part-r-00503-ff5bbd4d-6518-4e17-8ff5-c8fd3d4a5b86.gz.parquet",
         "part-r-00503-ff5bbd4d-6518-4e17-8ff5-c8fd3d4a5b86.gz.parquet",
         13886923
        ],
        [
         "dbfs:/databricks-datasets/wikipedia-datasets/data-001/en_wikipedia/articles-only-parquet/part-r-00504-ff5bbd4d-6518-4e17-8ff5-c8fd3d4a5b86.gz.parquet",
         "part-r-00504-ff5bbd4d-6518-4e17-8ff5-c8fd3d4a5b86.gz.parquet",
         9070059
        ],
        [
         "dbfs:/databricks-datasets/wikipedia-datasets/data-001/en_wikipedia/articles-only-parquet/part-r-00505-ff5bbd4d-6518-4e17-8ff5-c8fd3d4a5b86.gz.parquet",
         "part-r-00505-ff5bbd4d-6518-4e17-8ff5-c8fd3d4a5b86.gz.parquet",
         16453474
        ],
        [
         "dbfs:/databricks-datasets/wikipedia-datasets/data-001/en_wikipedia/articles-only-parquet/part-r-00506-ff5bbd4d-6518-4e17-8ff5-c8fd3d4a5b86.gz.parquet",
         "part-r-00506-ff5bbd4d-6518-4e17-8ff5-c8fd3d4a5b86.gz.parquet",
         9966121
        ],
        [
         "dbfs:/databricks-datasets/wikipedia-datasets/data-001/en_wikipedia/articles-only-parquet/part-r-00507-ff5bbd4d-6518-4e17-8ff5-c8fd3d4a5b86.gz.parquet",
         "part-r-00507-ff5bbd4d-6518-4e17-8ff5-c8fd3d4a5b86.gz.parquet",
         6012230
        ],
        [
         "dbfs:/databricks-datasets/wikipedia-datasets/data-001/en_wikipedia/articles-only-parquet/part-r-00508-ff5bbd4d-6518-4e17-8ff5-c8fd3d4a5b86.gz.parquet",
         "part-r-00508-ff5bbd4d-6518-4e17-8ff5-c8fd3d4a5b86.gz.parquet",
         8971525
        ],
        [
         "dbfs:/databricks-datasets/wikipedia-datasets/data-001/en_wikipedia/articles-only-parquet/part-r-00509-ff5bbd4d-6518-4e17-8ff5-c8fd3d4a5b86.gz.parquet",
         "part-r-00509-ff5bbd4d-6518-4e17-8ff5-c8fd3d4a5b86.gz.parquet",
         16136399
        ],
        [
         "dbfs:/databricks-datasets/wikipedia-datasets/data-001/en_wikipedia/articles-only-parquet/part-r-00510-ff5bbd4d-6518-4e17-8ff5-c8fd3d4a5b86.gz.parquet",
         "part-r-00510-ff5bbd4d-6518-4e17-8ff5-c8fd3d4a5b86.gz.parquet",
         8709304
        ],
        [
         "dbfs:/databricks-datasets/wikipedia-datasets/data-001/en_wikipedia/articles-only-parquet/part-r-00511-ff5bbd4d-6518-4e17-8ff5-c8fd3d4a5b86.gz.parquet",
         "part-r-00511-ff5bbd4d-6518-4e17-8ff5-c8fd3d4a5b86.gz.parquet",
         7204134
        ],
        [
         "dbfs:/databricks-datasets/wikipedia-datasets/data-001/en_wikipedia/articles-only-parquet/part-r-00512-ff5bbd4d-6518-4e17-8ff5-c8fd3d4a5b86.gz.parquet",
         "part-r-00512-ff5bbd4d-6518-4e17-8ff5-c8fd3d4a5b86.gz.parquet",
         15038631
        ],
        [
         "dbfs:/databricks-datasets/wikipedia-datasets/data-001/en_wikipedia/articles-only-parquet/part-r-00513-ff5bbd4d-6518-4e17-8ff5-c8fd3d4a5b86.gz.parquet",
         "part-r-00513-ff5bbd4d-6518-4e17-8ff5-c8fd3d4a5b86.gz.parquet",
         6303205
        ],
        [
         "dbfs:/databricks-datasets/wikipedia-datasets/data-001/en_wikipedia/articles-only-parquet/part-r-00514-ff5bbd4d-6518-4e17-8ff5-c8fd3d4a5b86.gz.parquet",
         "part-r-00514-ff5bbd4d-6518-4e17-8ff5-c8fd3d4a5b86.gz.parquet",
         9629803
        ],
        [
         "dbfs:/databricks-datasets/wikipedia-datasets/data-001/en_wikipedia/articles-only-parquet/part-r-00515-ff5bbd4d-6518-4e17-8ff5-c8fd3d4a5b86.gz.parquet",
         "part-r-00515-ff5bbd4d-6518-4e17-8ff5-c8fd3d4a5b86.gz.parquet",
         9734232
        ],
        [
         "dbfs:/databricks-datasets/wikipedia-datasets/data-001/en_wikipedia/articles-only-parquet/part-r-00516-ff5bbd4d-6518-4e17-8ff5-c8fd3d4a5b86.gz.parquet",
         "part-r-00516-ff5bbd4d-6518-4e17-8ff5-c8fd3d4a5b86.gz.parquet",
         8812392
        ],
        [
         "dbfs:/databricks-datasets/wikipedia-datasets/data-001/en_wikipedia/articles-only-parquet/part-r-00517-ff5bbd4d-6518-4e17-8ff5-c8fd3d4a5b86.gz.parquet",
         "part-r-00517-ff5bbd4d-6518-4e17-8ff5-c8fd3d4a5b86.gz.parquet",
         9594843
        ],
        [
         "dbfs:/databricks-datasets/wikipedia-datasets/data-001/en_wikipedia/articles-only-parquet/part-r-00518-ff5bbd4d-6518-4e17-8ff5-c8fd3d4a5b86.gz.parquet",
         "part-r-00518-ff5bbd4d-6518-4e17-8ff5-c8fd3d4a5b86.gz.parquet",
         9525912
        ],
        [
         "dbfs:/databricks-datasets/wikipedia-datasets/data-001/en_wikipedia/articles-only-parquet/part-r-00519-ff5bbd4d-6518-4e17-8ff5-c8fd3d4a5b86.gz.parquet",
         "part-r-00519-ff5bbd4d-6518-4e17-8ff5-c8fd3d4a5b86.gz.parquet",
         10111377
        ],
        [
         "dbfs:/databricks-datasets/wikipedia-datasets/data-001/en_wikipedia/articles-only-parquet/part-r-00520-ff5bbd4d-6518-4e17-8ff5-c8fd3d4a5b86.gz.parquet",
         "part-r-00520-ff5bbd4d-6518-4e17-8ff5-c8fd3d4a5b86.gz.parquet",
         8469775
        ],
        [
         "dbfs:/databricks-datasets/wikipedia-datasets/data-001/en_wikipedia/articles-only-parquet/part-r-00521-ff5bbd4d-6518-4e17-8ff5-c8fd3d4a5b86.gz.parquet",
         "part-r-00521-ff5bbd4d-6518-4e17-8ff5-c8fd3d4a5b86.gz.parquet",
         9703828
        ],
        [
         "dbfs:/databricks-datasets/wikipedia-datasets/data-001/en_wikipedia/articles-only-parquet/part-r-00522-ff5bbd4d-6518-4e17-8ff5-c8fd3d4a5b86.gz.parquet",
         "part-r-00522-ff5bbd4d-6518-4e17-8ff5-c8fd3d4a5b86.gz.parquet",
         9611187
        ],
        [
         "dbfs:/databricks-datasets/wikipedia-datasets/data-001/en_wikipedia/articles-only-parquet/part-r-00523-ff5bbd4d-6518-4e17-8ff5-c8fd3d4a5b86.gz.parquet",
         "part-r-00523-ff5bbd4d-6518-4e17-8ff5-c8fd3d4a5b86.gz.parquet",
         8826754
        ],
        [
         "dbfs:/databricks-datasets/wikipedia-datasets/data-001/en_wikipedia/articles-only-parquet/part-r-00524-ff5bbd4d-6518-4e17-8ff5-c8fd3d4a5b86.gz.parquet",
         "part-r-00524-ff5bbd4d-6518-4e17-8ff5-c8fd3d4a5b86.gz.parquet",
         7714628
        ],
        [
         "dbfs:/databricks-datasets/wikipedia-datasets/data-001/en_wikipedia/articles-only-parquet/part-r-00525-ff5bbd4d-6518-4e17-8ff5-c8fd3d4a5b86.gz.parquet",
         "part-r-00525-ff5bbd4d-6518-4e17-8ff5-c8fd3d4a5b86.gz.parquet",
         8841414
        ],
        [
         "dbfs:/databricks-datasets/wikipedia-datasets/data-001/en_wikipedia/articles-only-parquet/part-r-00526-ff5bbd4d-6518-4e17-8ff5-c8fd3d4a5b86.gz.parquet",
         "part-r-00526-ff5bbd4d-6518-4e17-8ff5-c8fd3d4a5b86.gz.parquet",
         8782078
        ],
        [
         "dbfs:/databricks-datasets/wikipedia-datasets/data-001/en_wikipedia/articles-only-parquet/part-r-00527-ff5bbd4d-6518-4e17-8ff5-c8fd3d4a5b86.gz.parquet",
         "part-r-00527-ff5bbd4d-6518-4e17-8ff5-c8fd3d4a5b86.gz.parquet",
         8560597
        ],
        [
         "dbfs:/databricks-datasets/wikipedia-datasets/data-001/en_wikipedia/articles-only-parquet/part-r-00528-ff5bbd4d-6518-4e17-8ff5-c8fd3d4a5b86.gz.parquet",
         "part-r-00528-ff5bbd4d-6518-4e17-8ff5-c8fd3d4a5b86.gz.parquet",
         13332256
        ],
        [
         "dbfs:/databricks-datasets/wikipedia-datasets/data-001/en_wikipedia/articles-only-parquet/part-r-00529-ff5bbd4d-6518-4e17-8ff5-c8fd3d4a5b86.gz.parquet",
         "part-r-00529-ff5bbd4d-6518-4e17-8ff5-c8fd3d4a5b86.gz.parquet",
         10290010
        ],
        [
         "dbfs:/databricks-datasets/wikipedia-datasets/data-001/en_wikipedia/articles-only-parquet/part-r-00530-ff5bbd4d-6518-4e17-8ff5-c8fd3d4a5b86.gz.parquet",
         "part-r-00530-ff5bbd4d-6518-4e17-8ff5-c8fd3d4a5b86.gz.parquet",
         15199524
        ],
        [
         "dbfs:/databricks-datasets/wikipedia-datasets/data-001/en_wikipedia/articles-only-parquet/part-r-00531-ff5bbd4d-6518-4e17-8ff5-c8fd3d4a5b86.gz.parquet",
         "part-r-00531-ff5bbd4d-6518-4e17-8ff5-c8fd3d4a5b86.gz.parquet",
         17661521
        ],
        [
         "dbfs:/databricks-datasets/wikipedia-datasets/data-001/en_wikipedia/articles-only-parquet/part-r-00532-ff5bbd4d-6518-4e17-8ff5-c8fd3d4a5b86.gz.parquet",
         "part-r-00532-ff5bbd4d-6518-4e17-8ff5-c8fd3d4a5b86.gz.parquet",
         9298473
        ],
        [
         "dbfs:/databricks-datasets/wikipedia-datasets/data-001/en_wikipedia/articles-only-parquet/part-r-00533-ff5bbd4d-6518-4e17-8ff5-c8fd3d4a5b86.gz.parquet",
         "part-r-00533-ff5bbd4d-6518-4e17-8ff5-c8fd3d4a5b86.gz.parquet",
         17909137
        ],
        [
         "dbfs:/databricks-datasets/wikipedia-datasets/data-001/en_wikipedia/articles-only-parquet/part-r-00534-ff5bbd4d-6518-4e17-8ff5-c8fd3d4a5b86.gz.parquet",
         "part-r-00534-ff5bbd4d-6518-4e17-8ff5-c8fd3d4a5b86.gz.parquet",
         10014043
        ],
        [
         "dbfs:/databricks-datasets/wikipedia-datasets/data-001/en_wikipedia/articles-only-parquet/part-r-00535-ff5bbd4d-6518-4e17-8ff5-c8fd3d4a5b86.gz.parquet",
         "part-r-00535-ff5bbd4d-6518-4e17-8ff5-c8fd3d4a5b86.gz.parquet",
         16282347
        ],
        [
         "dbfs:/databricks-datasets/wikipedia-datasets/data-001/en_wikipedia/articles-only-parquet/part-r-00536-ff5bbd4d-6518-4e17-8ff5-c8fd3d4a5b86.gz.parquet",
         "part-r-00536-ff5bbd4d-6518-4e17-8ff5-c8fd3d4a5b86.gz.parquet",
         8680827
        ],
        [
         "dbfs:/databricks-datasets/wikipedia-datasets/data-001/en_wikipedia/articles-only-parquet/part-r-00537-ff5bbd4d-6518-4e17-8ff5-c8fd3d4a5b86.gz.parquet",
         "part-r-00537-ff5bbd4d-6518-4e17-8ff5-c8fd3d4a5b86.gz.parquet",
         9636468
        ],
        [
         "dbfs:/databricks-datasets/wikipedia-datasets/data-001/en_wikipedia/articles-only-parquet/part-r-00538-ff5bbd4d-6518-4e17-8ff5-c8fd3d4a5b86.gz.parquet",
         "part-r-00538-ff5bbd4d-6518-4e17-8ff5-c8fd3d4a5b86.gz.parquet",
         8774418
        ],
        [
         "dbfs:/databricks-datasets/wikipedia-datasets/data-001/en_wikipedia/articles-only-parquet/part-r-00539-ff5bbd4d-6518-4e17-8ff5-c8fd3d4a5b86.gz.parquet",
         "part-r-00539-ff5bbd4d-6518-4e17-8ff5-c8fd3d4a5b86.gz.parquet",
         9891151
        ],
        [
         "dbfs:/databricks-datasets/wikipedia-datasets/data-001/en_wikipedia/articles-only-parquet/part-r-00540-ff5bbd4d-6518-4e17-8ff5-c8fd3d4a5b86.gz.parquet",
         "part-r-00540-ff5bbd4d-6518-4e17-8ff5-c8fd3d4a5b86.gz.parquet",
         8816597
        ],
        [
         "dbfs:/databricks-datasets/wikipedia-datasets/data-001/en_wikipedia/articles-only-parquet/part-r-00541-ff5bbd4d-6518-4e17-8ff5-c8fd3d4a5b86.gz.parquet",
         "part-r-00541-ff5bbd4d-6518-4e17-8ff5-c8fd3d4a5b86.gz.parquet",
         8812321
        ],
        [
         "dbfs:/databricks-datasets/wikipedia-datasets/data-001/en_wikipedia/articles-only-parquet/part-r-00542-ff5bbd4d-6518-4e17-8ff5-c8fd3d4a5b86.gz.parquet",
         "part-r-00542-ff5bbd4d-6518-4e17-8ff5-c8fd3d4a5b86.gz.parquet",
         12875599
        ],
        [
         "dbfs:/databricks-datasets/wikipedia-datasets/data-001/en_wikipedia/articles-only-parquet/part-r-00543-ff5bbd4d-6518-4e17-8ff5-c8fd3d4a5b86.gz.parquet",
         "part-r-00543-ff5bbd4d-6518-4e17-8ff5-c8fd3d4a5b86.gz.parquet",
         10137817
        ],
        [
         "dbfs:/databricks-datasets/wikipedia-datasets/data-001/en_wikipedia/articles-only-parquet/part-r-00544-ff5bbd4d-6518-4e17-8ff5-c8fd3d4a5b86.gz.parquet",
         "part-r-00544-ff5bbd4d-6518-4e17-8ff5-c8fd3d4a5b86.gz.parquet",
         5851185
        ],
        [
         "dbfs:/databricks-datasets/wikipedia-datasets/data-001/en_wikipedia/articles-only-parquet/part-r-00545-ff5bbd4d-6518-4e17-8ff5-c8fd3d4a5b86.gz.parquet",
         "part-r-00545-ff5bbd4d-6518-4e17-8ff5-c8fd3d4a5b86.gz.parquet",
         16609477
        ],
        [
         "dbfs:/databricks-datasets/wikipedia-datasets/data-001/en_wikipedia/articles-only-parquet/part-r-00546-ff5bbd4d-6518-4e17-8ff5-c8fd3d4a5b86.gz.parquet",
         "part-r-00546-ff5bbd4d-6518-4e17-8ff5-c8fd3d4a5b86.gz.parquet",
         8596613
        ],
        [
         "dbfs:/databricks-datasets/wikipedia-datasets/data-001/en_wikipedia/articles-only-parquet/part-r-00547-ff5bbd4d-6518-4e17-8ff5-c8fd3d4a5b86.gz.parquet",
         "part-r-00547-ff5bbd4d-6518-4e17-8ff5-c8fd3d4a5b86.gz.parquet",
         10123038
        ],
        [
         "dbfs:/databricks-datasets/wikipedia-datasets/data-001/en_wikipedia/articles-only-parquet/part-r-00548-ff5bbd4d-6518-4e17-8ff5-c8fd3d4a5b86.gz.parquet",
         "part-r-00548-ff5bbd4d-6518-4e17-8ff5-c8fd3d4a5b86.gz.parquet",
         8910501
        ],
        [
         "dbfs:/databricks-datasets/wikipedia-datasets/data-001/en_wikipedia/articles-only-parquet/part-r-00549-ff5bbd4d-6518-4e17-8ff5-c8fd3d4a5b86.gz.parquet",
         "part-r-00549-ff5bbd4d-6518-4e17-8ff5-c8fd3d4a5b86.gz.parquet",
         8888669
        ],
        [
         "dbfs:/databricks-datasets/wikipedia-datasets/data-001/en_wikipedia/articles-only-parquet/part-r-00550-ff5bbd4d-6518-4e17-8ff5-c8fd3d4a5b86.gz.parquet",
         "part-r-00550-ff5bbd4d-6518-4e17-8ff5-c8fd3d4a5b86.gz.parquet",
         12166077
        ],
        [
         "dbfs:/databricks-datasets/wikipedia-datasets/data-001/en_wikipedia/articles-only-parquet/part-r-00551-ff5bbd4d-6518-4e17-8ff5-c8fd3d4a5b86.gz.parquet",
         "part-r-00551-ff5bbd4d-6518-4e17-8ff5-c8fd3d4a5b86.gz.parquet",
         9731867
        ],
        [
         "dbfs:/databricks-datasets/wikipedia-datasets/data-001/en_wikipedia/articles-only-parquet/part-r-00552-ff5bbd4d-6518-4e17-8ff5-c8fd3d4a5b86.gz.parquet",
         "part-r-00552-ff5bbd4d-6518-4e17-8ff5-c8fd3d4a5b86.gz.parquet",
         3015870
        ],
        [
         "dbfs:/databricks-datasets/wikipedia-datasets/data-001/en_wikipedia/articles-only-parquet/part-r-00553-ff5bbd4d-6518-4e17-8ff5-c8fd3d4a5b86.gz.parquet",
         "part-r-00553-ff5bbd4d-6518-4e17-8ff5-c8fd3d4a5b86.gz.parquet",
         16275760
        ],
        [
         "dbfs:/databricks-datasets/wikipedia-datasets/data-001/en_wikipedia/articles-only-parquet/part-r-00554-ff5bbd4d-6518-4e17-8ff5-c8fd3d4a5b86.gz.parquet",
         "part-r-00554-ff5bbd4d-6518-4e17-8ff5-c8fd3d4a5b86.gz.parquet",
         11993007
        ],
        [
         "dbfs:/databricks-datasets/wikipedia-datasets/data-001/en_wikipedia/articles-only-parquet/part-r-00555-ff5bbd4d-6518-4e17-8ff5-c8fd3d4a5b86.gz.parquet",
         "part-r-00555-ff5bbd4d-6518-4e17-8ff5-c8fd3d4a5b86.gz.parquet",
         9573421
        ],
        [
         "dbfs:/databricks-datasets/wikipedia-datasets/data-001/en_wikipedia/articles-only-parquet/part-r-00556-ff5bbd4d-6518-4e17-8ff5-c8fd3d4a5b86.gz.parquet",
         "part-r-00556-ff5bbd4d-6518-4e17-8ff5-c8fd3d4a5b86.gz.parquet",
         12845669
        ],
        [
         "dbfs:/databricks-datasets/wikipedia-datasets/data-001/en_wikipedia/articles-only-parquet/part-r-00557-ff5bbd4d-6518-4e17-8ff5-c8fd3d4a5b86.gz.parquet",
         "part-r-00557-ff5bbd4d-6518-4e17-8ff5-c8fd3d4a5b86.gz.parquet",
         16896846
        ],
        [
         "dbfs:/databricks-datasets/wikipedia-datasets/data-001/en_wikipedia/articles-only-parquet/part-r-00558-ff5bbd4d-6518-4e17-8ff5-c8fd3d4a5b86.gz.parquet",
         "part-r-00558-ff5bbd4d-6518-4e17-8ff5-c8fd3d4a5b86.gz.parquet",
         8262571
        ],
        [
         "dbfs:/databricks-datasets/wikipedia-datasets/data-001/en_wikipedia/articles-only-parquet/part-r-00559-ff5bbd4d-6518-4e17-8ff5-c8fd3d4a5b86.gz.parquet",
         "part-r-00559-ff5bbd4d-6518-4e17-8ff5-c8fd3d4a5b86.gz.parquet",
         11803577
        ],
        [
         "dbfs:/databricks-datasets/wikipedia-datasets/data-001/en_wikipedia/articles-only-parquet/part-r-00560-ff5bbd4d-6518-4e17-8ff5-c8fd3d4a5b86.gz.parquet",
         "part-r-00560-ff5bbd4d-6518-4e17-8ff5-c8fd3d4a5b86.gz.parquet",
         8313902
        ],
        [
         "dbfs:/databricks-datasets/wikipedia-datasets/data-001/en_wikipedia/articles-only-parquet/part-r-00561-ff5bbd4d-6518-4e17-8ff5-c8fd3d4a5b86.gz.parquet",
         "part-r-00561-ff5bbd4d-6518-4e17-8ff5-c8fd3d4a5b86.gz.parquet",
         18583347
        ],
        [
         "dbfs:/databricks-datasets/wikipedia-datasets/data-001/en_wikipedia/articles-only-parquet/part-r-00562-ff5bbd4d-6518-4e17-8ff5-c8fd3d4a5b86.gz.parquet",
         "part-r-00562-ff5bbd4d-6518-4e17-8ff5-c8fd3d4a5b86.gz.parquet",
         9363042
        ],
        [
         "dbfs:/databricks-datasets/wikipedia-datasets/data-001/en_wikipedia/articles-only-parquet/part-r-00563-ff5bbd4d-6518-4e17-8ff5-c8fd3d4a5b86.gz.parquet",
         "part-r-00563-ff5bbd4d-6518-4e17-8ff5-c8fd3d4a5b86.gz.parquet",
         14425127
        ],
        [
         "dbfs:/databricks-datasets/wikipedia-datasets/data-001/en_wikipedia/articles-only-parquet/part-r-00564-ff5bbd4d-6518-4e17-8ff5-c8fd3d4a5b86.gz.parquet",
         "part-r-00564-ff5bbd4d-6518-4e17-8ff5-c8fd3d4a5b86.gz.parquet",
         8376444
        ],
        [
         "dbfs:/databricks-datasets/wikipedia-datasets/data-001/en_wikipedia/articles-only-parquet/part-r-00565-ff5bbd4d-6518-4e17-8ff5-c8fd3d4a5b86.gz.parquet",
         "part-r-00565-ff5bbd4d-6518-4e17-8ff5-c8fd3d4a5b86.gz.parquet",
         8870386
        ],
        [
         "dbfs:/databricks-datasets/wikipedia-datasets/data-001/en_wikipedia/articles-only-parquet/part-r-00566-ff5bbd4d-6518-4e17-8ff5-c8fd3d4a5b86.gz.parquet",
         "part-r-00566-ff5bbd4d-6518-4e17-8ff5-c8fd3d4a5b86.gz.parquet",
         14910661
        ],
        [
         "dbfs:/databricks-datasets/wikipedia-datasets/data-001/en_wikipedia/articles-only-parquet/part-r-00567-ff5bbd4d-6518-4e17-8ff5-c8fd3d4a5b86.gz.parquet",
         "part-r-00567-ff5bbd4d-6518-4e17-8ff5-c8fd3d4a5b86.gz.parquet",
         9021833
        ],
        [
         "dbfs:/databricks-datasets/wikipedia-datasets/data-001/en_wikipedia/articles-only-parquet/part-r-00568-ff5bbd4d-6518-4e17-8ff5-c8fd3d4a5b86.gz.parquet",
         "part-r-00568-ff5bbd4d-6518-4e17-8ff5-c8fd3d4a5b86.gz.parquet",
         12734995
        ],
        [
         "dbfs:/databricks-datasets/wikipedia-datasets/data-001/en_wikipedia/articles-only-parquet/part-r-00569-ff5bbd4d-6518-4e17-8ff5-c8fd3d4a5b86.gz.parquet",
         "part-r-00569-ff5bbd4d-6518-4e17-8ff5-c8fd3d4a5b86.gz.parquet",
         6928851
        ],
        [
         "dbfs:/databricks-datasets/wikipedia-datasets/data-001/en_wikipedia/articles-only-parquet/part-r-00570-ff5bbd4d-6518-4e17-8ff5-c8fd3d4a5b86.gz.parquet",
         "part-r-00570-ff5bbd4d-6518-4e17-8ff5-c8fd3d4a5b86.gz.parquet",
         8029855
        ],
        [
         "dbfs:/databricks-datasets/wikipedia-datasets/data-001/en_wikipedia/articles-only-parquet/part-r-00571-ff5bbd4d-6518-4e17-8ff5-c8fd3d4a5b86.gz.parquet",
         "part-r-00571-ff5bbd4d-6518-4e17-8ff5-c8fd3d4a5b86.gz.parquet",
         8682126
        ],
        [
         "dbfs:/databricks-datasets/wikipedia-datasets/data-001/en_wikipedia/articles-only-parquet/part-r-00572-ff5bbd4d-6518-4e17-8ff5-c8fd3d4a5b86.gz.parquet",
         "part-r-00572-ff5bbd4d-6518-4e17-8ff5-c8fd3d4a5b86.gz.parquet",
         10066005
        ],
        [
         "dbfs:/databricks-datasets/wikipedia-datasets/data-001/en_wikipedia/articles-only-parquet/part-r-00573-ff5bbd4d-6518-4e17-8ff5-c8fd3d4a5b86.gz.parquet",
         "part-r-00573-ff5bbd4d-6518-4e17-8ff5-c8fd3d4a5b86.gz.parquet",
         9172695
        ],
        [
         "dbfs:/databricks-datasets/wikipedia-datasets/data-001/en_wikipedia/articles-only-parquet/part-r-00574-ff5bbd4d-6518-4e17-8ff5-c8fd3d4a5b86.gz.parquet",
         "part-r-00574-ff5bbd4d-6518-4e17-8ff5-c8fd3d4a5b86.gz.parquet",
         7969168
        ],
        [
         "dbfs:/databricks-datasets/wikipedia-datasets/data-001/en_wikipedia/articles-only-parquet/part-r-00575-ff5bbd4d-6518-4e17-8ff5-c8fd3d4a5b86.gz.parquet",
         "part-r-00575-ff5bbd4d-6518-4e17-8ff5-c8fd3d4a5b86.gz.parquet",
         5996827
        ],
        [
         "dbfs:/databricks-datasets/wikipedia-datasets/data-001/en_wikipedia/articles-only-parquet/part-r-00576-ff5bbd4d-6518-4e17-8ff5-c8fd3d4a5b86.gz.parquet",
         "part-r-00576-ff5bbd4d-6518-4e17-8ff5-c8fd3d4a5b86.gz.parquet",
         15095528
        ],
        [
         "dbfs:/databricks-datasets/wikipedia-datasets/data-001/en_wikipedia/articles-only-parquet/part-r-00577-ff5bbd4d-6518-4e17-8ff5-c8fd3d4a5b86.gz.parquet",
         "part-r-00577-ff5bbd4d-6518-4e17-8ff5-c8fd3d4a5b86.gz.parquet",
         9005265
        ],
        [
         "dbfs:/databricks-datasets/wikipedia-datasets/data-001/en_wikipedia/articles-only-parquet/part-r-00578-ff5bbd4d-6518-4e17-8ff5-c8fd3d4a5b86.gz.parquet",
         "part-r-00578-ff5bbd4d-6518-4e17-8ff5-c8fd3d4a5b86.gz.parquet",
         12195102
        ],
        [
         "dbfs:/databricks-datasets/wikipedia-datasets/data-001/en_wikipedia/articles-only-parquet/part-r-00579-ff5bbd4d-6518-4e17-8ff5-c8fd3d4a5b86.gz.parquet",
         "part-r-00579-ff5bbd4d-6518-4e17-8ff5-c8fd3d4a5b86.gz.parquet",
         10297598
        ],
        [
         "dbfs:/databricks-datasets/wikipedia-datasets/data-001/en_wikipedia/articles-only-parquet/part-r-00580-ff5bbd4d-6518-4e17-8ff5-c8fd3d4a5b86.gz.parquet",
         "part-r-00580-ff5bbd4d-6518-4e17-8ff5-c8fd3d4a5b86.gz.parquet",
         11024480
        ],
        [
         "dbfs:/databricks-datasets/wikipedia-datasets/data-001/en_wikipedia/articles-only-parquet/part-r-00581-ff5bbd4d-6518-4e17-8ff5-c8fd3d4a5b86.gz.parquet",
         "part-r-00581-ff5bbd4d-6518-4e17-8ff5-c8fd3d4a5b86.gz.parquet",
         14371112
        ],
        [
         "dbfs:/databricks-datasets/wikipedia-datasets/data-001/en_wikipedia/articles-only-parquet/part-r-00582-ff5bbd4d-6518-4e17-8ff5-c8fd3d4a5b86.gz.parquet",
         "part-r-00582-ff5bbd4d-6518-4e17-8ff5-c8fd3d4a5b86.gz.parquet",
         9321209
        ],
        [
         "dbfs:/databricks-datasets/wikipedia-datasets/data-001/en_wikipedia/articles-only-parquet/part-r-00583-ff5bbd4d-6518-4e17-8ff5-c8fd3d4a5b86.gz.parquet",
         "part-r-00583-ff5bbd4d-6518-4e17-8ff5-c8fd3d4a5b86.gz.parquet",
         12140097
        ],
        [
         "dbfs:/databricks-datasets/wikipedia-datasets/data-001/en_wikipedia/articles-only-parquet/part-r-00584-ff5bbd4d-6518-4e17-8ff5-c8fd3d4a5b86.gz.parquet",
         "part-r-00584-ff5bbd4d-6518-4e17-8ff5-c8fd3d4a5b86.gz.parquet",
         8820778
        ],
        [
         "dbfs:/databricks-datasets/wikipedia-datasets/data-001/en_wikipedia/articles-only-parquet/part-r-00585-ff5bbd4d-6518-4e17-8ff5-c8fd3d4a5b86.gz.parquet",
         "part-r-00585-ff5bbd4d-6518-4e17-8ff5-c8fd3d4a5b86.gz.parquet",
         9456882
        ],
        [
         "dbfs:/databricks-datasets/wikipedia-datasets/data-001/en_wikipedia/articles-only-parquet/part-r-00586-ff5bbd4d-6518-4e17-8ff5-c8fd3d4a5b86.gz.parquet",
         "part-r-00586-ff5bbd4d-6518-4e17-8ff5-c8fd3d4a5b86.gz.parquet",
         17887308
        ],
        [
         "dbfs:/databricks-datasets/wikipedia-datasets/data-001/en_wikipedia/articles-only-parquet/part-r-00587-ff5bbd4d-6518-4e17-8ff5-c8fd3d4a5b86.gz.parquet",
         "part-r-00587-ff5bbd4d-6518-4e17-8ff5-c8fd3d4a5b86.gz.parquet",
         8059348
        ],
        [
         "dbfs:/databricks-datasets/wikipedia-datasets/data-001/en_wikipedia/articles-only-parquet/part-r-00588-ff5bbd4d-6518-4e17-8ff5-c8fd3d4a5b86.gz.parquet",
         "part-r-00588-ff5bbd4d-6518-4e17-8ff5-c8fd3d4a5b86.gz.parquet",
         8561217
        ],
        [
         "dbfs:/databricks-datasets/wikipedia-datasets/data-001/en_wikipedia/articles-only-parquet/part-r-00589-ff5bbd4d-6518-4e17-8ff5-c8fd3d4a5b86.gz.parquet",
         "part-r-00589-ff5bbd4d-6518-4e17-8ff5-c8fd3d4a5b86.gz.parquet",
         9308137
        ],
        [
         "dbfs:/databricks-datasets/wikipedia-datasets/data-001/en_wikipedia/articles-only-parquet/part-r-00590-ff5bbd4d-6518-4e17-8ff5-c8fd3d4a5b86.gz.parquet",
         "part-r-00590-ff5bbd4d-6518-4e17-8ff5-c8fd3d4a5b86.gz.parquet",
         9459964
        ],
        [
         "dbfs:/databricks-datasets/wikipedia-datasets/data-001/en_wikipedia/articles-only-parquet/part-r-00591-ff5bbd4d-6518-4e17-8ff5-c8fd3d4a5b86.gz.parquet",
         "part-r-00591-ff5bbd4d-6518-4e17-8ff5-c8fd3d4a5b86.gz.parquet",
         11800110
        ],
        [
         "dbfs:/databricks-datasets/wikipedia-datasets/data-001/en_wikipedia/articles-only-parquet/part-r-00592-ff5bbd4d-6518-4e17-8ff5-c8fd3d4a5b86.gz.parquet",
         "part-r-00592-ff5bbd4d-6518-4e17-8ff5-c8fd3d4a5b86.gz.parquet",
         8814099
        ],
        [
         "dbfs:/databricks-datasets/wikipedia-datasets/data-001/en_wikipedia/articles-only-parquet/part-r-00593-ff5bbd4d-6518-4e17-8ff5-c8fd3d4a5b86.gz.parquet",
         "part-r-00593-ff5bbd4d-6518-4e17-8ff5-c8fd3d4a5b86.gz.parquet",
         20443518
        ],
        [
         "dbfs:/databricks-datasets/wikipedia-datasets/data-001/en_wikipedia/articles-only-parquet/part-r-00594-ff5bbd4d-6518-4e17-8ff5-c8fd3d4a5b86.gz.parquet",
         "part-r-00594-ff5bbd4d-6518-4e17-8ff5-c8fd3d4a5b86.gz.parquet",
         9661187
        ],
        [
         "dbfs:/databricks-datasets/wikipedia-datasets/data-001/en_wikipedia/articles-only-parquet/part-r-00595-ff5bbd4d-6518-4e17-8ff5-c8fd3d4a5b86.gz.parquet",
         "part-r-00595-ff5bbd4d-6518-4e17-8ff5-c8fd3d4a5b86.gz.parquet",
         8579824
        ],
        [
         "dbfs:/databricks-datasets/wikipedia-datasets/data-001/en_wikipedia/articles-only-parquet/part-r-00596-ff5bbd4d-6518-4e17-8ff5-c8fd3d4a5b86.gz.parquet",
         "part-r-00596-ff5bbd4d-6518-4e17-8ff5-c8fd3d4a5b86.gz.parquet",
         9118402
        ],
        [
         "dbfs:/databricks-datasets/wikipedia-datasets/data-001/en_wikipedia/articles-only-parquet/part-r-00597-ff5bbd4d-6518-4e17-8ff5-c8fd3d4a5b86.gz.parquet",
         "part-r-00597-ff5bbd4d-6518-4e17-8ff5-c8fd3d4a5b86.gz.parquet",
         7065839
        ],
        [
         "dbfs:/databricks-datasets/wikipedia-datasets/data-001/en_wikipedia/articles-only-parquet/part-r-00598-ff5bbd4d-6518-4e17-8ff5-c8fd3d4a5b86.gz.parquet",
         "part-r-00598-ff5bbd4d-6518-4e17-8ff5-c8fd3d4a5b86.gz.parquet",
         14786749
        ],
        [
         "dbfs:/databricks-datasets/wikipedia-datasets/data-001/en_wikipedia/articles-only-parquet/part-r-00599-ff5bbd4d-6518-4e17-8ff5-c8fd3d4a5b86.gz.parquet",
         "part-r-00599-ff5bbd4d-6518-4e17-8ff5-c8fd3d4a5b86.gz.parquet",
         9299368
        ],
        [
         "dbfs:/databricks-datasets/wikipedia-datasets/data-001/en_wikipedia/articles-only-parquet/part-r-00600-ff5bbd4d-6518-4e17-8ff5-c8fd3d4a5b86.gz.parquet",
         "part-r-00600-ff5bbd4d-6518-4e17-8ff5-c8fd3d4a5b86.gz.parquet",
         9685138
        ],
        [
         "dbfs:/databricks-datasets/wikipedia-datasets/data-001/en_wikipedia/articles-only-parquet/part-r-00601-ff5bbd4d-6518-4e17-8ff5-c8fd3d4a5b86.gz.parquet",
         "part-r-00601-ff5bbd4d-6518-4e17-8ff5-c8fd3d4a5b86.gz.parquet",
         8865640
        ],
        [
         "dbfs:/databricks-datasets/wikipedia-datasets/data-001/en_wikipedia/articles-only-parquet/part-r-00602-ff5bbd4d-6518-4e17-8ff5-c8fd3d4a5b86.gz.parquet",
         "part-r-00602-ff5bbd4d-6518-4e17-8ff5-c8fd3d4a5b86.gz.parquet",
         10381925
        ],
        [
         "dbfs:/databricks-datasets/wikipedia-datasets/data-001/en_wikipedia/articles-only-parquet/part-r-00603-ff5bbd4d-6518-4e17-8ff5-c8fd3d4a5b86.gz.parquet",
         "part-r-00603-ff5bbd4d-6518-4e17-8ff5-c8fd3d4a5b86.gz.parquet",
         9946188
        ],
        [
         "dbfs:/databricks-datasets/wikipedia-datasets/data-001/en_wikipedia/articles-only-parquet/part-r-00604-ff5bbd4d-6518-4e17-8ff5-c8fd3d4a5b86.gz.parquet",
         "part-r-00604-ff5bbd4d-6518-4e17-8ff5-c8fd3d4a5b86.gz.parquet",
         9492988
        ],
        [
         "dbfs:/databricks-datasets/wikipedia-datasets/data-001/en_wikipedia/articles-only-parquet/part-r-00605-ff5bbd4d-6518-4e17-8ff5-c8fd3d4a5b86.gz.parquet",
         "part-r-00605-ff5bbd4d-6518-4e17-8ff5-c8fd3d4a5b86.gz.parquet",
         11177394
        ],
        [
         "dbfs:/databricks-datasets/wikipedia-datasets/data-001/en_wikipedia/articles-only-parquet/part-r-00606-ff5bbd4d-6518-4e17-8ff5-c8fd3d4a5b86.gz.parquet",
         "part-r-00606-ff5bbd4d-6518-4e17-8ff5-c8fd3d4a5b86.gz.parquet",
         11458283
        ],
        [
         "dbfs:/databricks-datasets/wikipedia-datasets/data-001/en_wikipedia/articles-only-parquet/part-r-00607-ff5bbd4d-6518-4e17-8ff5-c8fd3d4a5b86.gz.parquet",
         "part-r-00607-ff5bbd4d-6518-4e17-8ff5-c8fd3d4a5b86.gz.parquet",
         15745143
        ],
        [
         "dbfs:/databricks-datasets/wikipedia-datasets/data-001/en_wikipedia/articles-only-parquet/part-r-00608-ff5bbd4d-6518-4e17-8ff5-c8fd3d4a5b86.gz.parquet",
         "part-r-00608-ff5bbd4d-6518-4e17-8ff5-c8fd3d4a5b86.gz.parquet",
         10026194
        ],
        [
         "dbfs:/databricks-datasets/wikipedia-datasets/data-001/en_wikipedia/articles-only-parquet/part-r-00609-ff5bbd4d-6518-4e17-8ff5-c8fd3d4a5b86.gz.parquet",
         "part-r-00609-ff5bbd4d-6518-4e17-8ff5-c8fd3d4a5b86.gz.parquet",
         10366867
        ],
        [
         "dbfs:/databricks-datasets/wikipedia-datasets/data-001/en_wikipedia/articles-only-parquet/part-r-00610-ff5bbd4d-6518-4e17-8ff5-c8fd3d4a5b86.gz.parquet",
         "part-r-00610-ff5bbd4d-6518-4e17-8ff5-c8fd3d4a5b86.gz.parquet",
         9337068
        ],
        [
         "dbfs:/databricks-datasets/wikipedia-datasets/data-001/en_wikipedia/articles-only-parquet/part-r-00611-ff5bbd4d-6518-4e17-8ff5-c8fd3d4a5b86.gz.parquet",
         "part-r-00611-ff5bbd4d-6518-4e17-8ff5-c8fd3d4a5b86.gz.parquet",
         9848383
        ],
        [
         "dbfs:/databricks-datasets/wikipedia-datasets/data-001/en_wikipedia/articles-only-parquet/part-r-00612-ff5bbd4d-6518-4e17-8ff5-c8fd3d4a5b86.gz.parquet",
         "part-r-00612-ff5bbd4d-6518-4e17-8ff5-c8fd3d4a5b86.gz.parquet",
         9000866
        ],
        [
         "dbfs:/databricks-datasets/wikipedia-datasets/data-001/en_wikipedia/articles-only-parquet/part-r-00613-ff5bbd4d-6518-4e17-8ff5-c8fd3d4a5b86.gz.parquet",
         "part-r-00613-ff5bbd4d-6518-4e17-8ff5-c8fd3d4a5b86.gz.parquet",
         8464685
        ],
        [
         "dbfs:/databricks-datasets/wikipedia-datasets/data-001/en_wikipedia/articles-only-parquet/part-r-00614-ff5bbd4d-6518-4e17-8ff5-c8fd3d4a5b86.gz.parquet",
         "part-r-00614-ff5bbd4d-6518-4e17-8ff5-c8fd3d4a5b86.gz.parquet",
         10279631
        ],
        [
         "dbfs:/databricks-datasets/wikipedia-datasets/data-001/en_wikipedia/articles-only-parquet/part-r-00615-ff5bbd4d-6518-4e17-8ff5-c8fd3d4a5b86.gz.parquet",
         "part-r-00615-ff5bbd4d-6518-4e17-8ff5-c8fd3d4a5b86.gz.parquet",
         8750198
        ],
        [
         "dbfs:/databricks-datasets/wikipedia-datasets/data-001/en_wikipedia/articles-only-parquet/part-r-00616-ff5bbd4d-6518-4e17-8ff5-c8fd3d4a5b86.gz.parquet",
         "part-r-00616-ff5bbd4d-6518-4e17-8ff5-c8fd3d4a5b86.gz.parquet",
         9078788
        ],
        [
         "dbfs:/databricks-datasets/wikipedia-datasets/data-001/en_wikipedia/articles-only-parquet/part-r-00617-ff5bbd4d-6518-4e17-8ff5-c8fd3d4a5b86.gz.parquet",
         "part-r-00617-ff5bbd4d-6518-4e17-8ff5-c8fd3d4a5b86.gz.parquet",
         16126180
        ],
        [
         "dbfs:/databricks-datasets/wikipedia-datasets/data-001/en_wikipedia/articles-only-parquet/part-r-00618-ff5bbd4d-6518-4e17-8ff5-c8fd3d4a5b86.gz.parquet",
         "part-r-00618-ff5bbd4d-6518-4e17-8ff5-c8fd3d4a5b86.gz.parquet",
         7831508
        ],
        [
         "dbfs:/databricks-datasets/wikipedia-datasets/data-001/en_wikipedia/articles-only-parquet/part-r-00619-ff5bbd4d-6518-4e17-8ff5-c8fd3d4a5b86.gz.parquet",
         "part-r-00619-ff5bbd4d-6518-4e17-8ff5-c8fd3d4a5b86.gz.parquet",
         9532726
        ],
        [
         "dbfs:/databricks-datasets/wikipedia-datasets/data-001/en_wikipedia/articles-only-parquet/part-r-00620-ff5bbd4d-6518-4e17-8ff5-c8fd3d4a5b86.gz.parquet",
         "part-r-00620-ff5bbd4d-6518-4e17-8ff5-c8fd3d4a5b86.gz.parquet",
         8258444
        ],
        [
         "dbfs:/databricks-datasets/wikipedia-datasets/data-001/en_wikipedia/articles-only-parquet/part-r-00621-ff5bbd4d-6518-4e17-8ff5-c8fd3d4a5b86.gz.parquet",
         "part-r-00621-ff5bbd4d-6518-4e17-8ff5-c8fd3d4a5b86.gz.parquet",
         13825571
        ],
        [
         "dbfs:/databricks-datasets/wikipedia-datasets/data-001/en_wikipedia/articles-only-parquet/part-r-00622-ff5bbd4d-6518-4e17-8ff5-c8fd3d4a5b86.gz.parquet",
         "part-r-00622-ff5bbd4d-6518-4e17-8ff5-c8fd3d4a5b86.gz.parquet",
         5965952
        ],
        [
         "dbfs:/databricks-datasets/wikipedia-datasets/data-001/en_wikipedia/articles-only-parquet/part-r-00623-ff5bbd4d-6518-4e17-8ff5-c8fd3d4a5b86.gz.parquet",
         "part-r-00623-ff5bbd4d-6518-4e17-8ff5-c8fd3d4a5b86.gz.parquet",
         15057327
        ],
        [
         "dbfs:/databricks-datasets/wikipedia-datasets/data-001/en_wikipedia/articles-only-parquet/part-r-00624-ff5bbd4d-6518-4e17-8ff5-c8fd3d4a5b86.gz.parquet",
         "part-r-00624-ff5bbd4d-6518-4e17-8ff5-c8fd3d4a5b86.gz.parquet",
         6202726
        ],
        [
         "dbfs:/databricks-datasets/wikipedia-datasets/data-001/en_wikipedia/articles-only-parquet/part-r-00625-ff5bbd4d-6518-4e17-8ff5-c8fd3d4a5b86.gz.parquet",
         "part-r-00625-ff5bbd4d-6518-4e17-8ff5-c8fd3d4a5b86.gz.parquet",
         9017931
        ],
        [
         "dbfs:/databricks-datasets/wikipedia-datasets/data-001/en_wikipedia/articles-only-parquet/part-r-00626-ff5bbd4d-6518-4e17-8ff5-c8fd3d4a5b86.gz.parquet",
         "part-r-00626-ff5bbd4d-6518-4e17-8ff5-c8fd3d4a5b86.gz.parquet",
         14317630
        ],
        [
         "dbfs:/databricks-datasets/wikipedia-datasets/data-001/en_wikipedia/articles-only-parquet/part-r-00627-ff5bbd4d-6518-4e17-8ff5-c8fd3d4a5b86.gz.parquet",
         "part-r-00627-ff5bbd4d-6518-4e17-8ff5-c8fd3d4a5b86.gz.parquet",
         13826838
        ],
        [
         "dbfs:/databricks-datasets/wikipedia-datasets/data-001/en_wikipedia/articles-only-parquet/part-r-00628-ff5bbd4d-6518-4e17-8ff5-c8fd3d4a5b86.gz.parquet",
         "part-r-00628-ff5bbd4d-6518-4e17-8ff5-c8fd3d4a5b86.gz.parquet",
         11170845
        ],
        [
         "dbfs:/databricks-datasets/wikipedia-datasets/data-001/en_wikipedia/articles-only-parquet/part-r-00629-ff5bbd4d-6518-4e17-8ff5-c8fd3d4a5b86.gz.parquet",
         "part-r-00629-ff5bbd4d-6518-4e17-8ff5-c8fd3d4a5b86.gz.parquet",
         16820805
        ],
        [
         "dbfs:/databricks-datasets/wikipedia-datasets/data-001/en_wikipedia/articles-only-parquet/part-r-00630-ff5bbd4d-6518-4e17-8ff5-c8fd3d4a5b86.gz.parquet",
         "part-r-00630-ff5bbd4d-6518-4e17-8ff5-c8fd3d4a5b86.gz.parquet",
         8271798
        ],
        [
         "dbfs:/databricks-datasets/wikipedia-datasets/data-001/en_wikipedia/articles-only-parquet/part-r-00631-ff5bbd4d-6518-4e17-8ff5-c8fd3d4a5b86.gz.parquet",
         "part-r-00631-ff5bbd4d-6518-4e17-8ff5-c8fd3d4a5b86.gz.parquet",
         9634205
        ],
        [
         "dbfs:/databricks-datasets/wikipedia-datasets/data-001/en_wikipedia/articles-only-parquet/part-r-00632-ff5bbd4d-6518-4e17-8ff5-c8fd3d4a5b86.gz.parquet",
         "part-r-00632-ff5bbd4d-6518-4e17-8ff5-c8fd3d4a5b86.gz.parquet",
         9113399
        ],
        [
         "dbfs:/databricks-datasets/wikipedia-datasets/data-001/en_wikipedia/articles-only-parquet/part-r-00633-ff5bbd4d-6518-4e17-8ff5-c8fd3d4a5b86.gz.parquet",
         "part-r-00633-ff5bbd4d-6518-4e17-8ff5-c8fd3d4a5b86.gz.parquet",
         12860205
        ],
        [
         "dbfs:/databricks-datasets/wikipedia-datasets/data-001/en_wikipedia/articles-only-parquet/part-r-00634-ff5bbd4d-6518-4e17-8ff5-c8fd3d4a5b86.gz.parquet",
         "part-r-00634-ff5bbd4d-6518-4e17-8ff5-c8fd3d4a5b86.gz.parquet",
         11238320
        ],
        [
         "dbfs:/databricks-datasets/wikipedia-datasets/data-001/en_wikipedia/articles-only-parquet/part-r-00635-ff5bbd4d-6518-4e17-8ff5-c8fd3d4a5b86.gz.parquet",
         "part-r-00635-ff5bbd4d-6518-4e17-8ff5-c8fd3d4a5b86.gz.parquet",
         16084852
        ],
        [
         "dbfs:/databricks-datasets/wikipedia-datasets/data-001/en_wikipedia/articles-only-parquet/part-r-00636-ff5bbd4d-6518-4e17-8ff5-c8fd3d4a5b86.gz.parquet",
         "part-r-00636-ff5bbd4d-6518-4e17-8ff5-c8fd3d4a5b86.gz.parquet",
         9256493
        ],
        [
         "dbfs:/databricks-datasets/wikipedia-datasets/data-001/en_wikipedia/articles-only-parquet/part-r-00637-ff5bbd4d-6518-4e17-8ff5-c8fd3d4a5b86.gz.parquet",
         "part-r-00637-ff5bbd4d-6518-4e17-8ff5-c8fd3d4a5b86.gz.parquet",
         8226628
        ],
        [
         "dbfs:/databricks-datasets/wikipedia-datasets/data-001/en_wikipedia/articles-only-parquet/part-r-00638-ff5bbd4d-6518-4e17-8ff5-c8fd3d4a5b86.gz.parquet",
         "part-r-00638-ff5bbd4d-6518-4e17-8ff5-c8fd3d4a5b86.gz.parquet",
         6943701
        ],
        [
         "dbfs:/databricks-datasets/wikipedia-datasets/data-001/en_wikipedia/articles-only-parquet/part-r-00639-ff5bbd4d-6518-4e17-8ff5-c8fd3d4a5b86.gz.parquet",
         "part-r-00639-ff5bbd4d-6518-4e17-8ff5-c8fd3d4a5b86.gz.parquet",
         9472038
        ],
        [
         "dbfs:/databricks-datasets/wikipedia-datasets/data-001/en_wikipedia/articles-only-parquet/part-r-00640-ff5bbd4d-6518-4e17-8ff5-c8fd3d4a5b86.gz.parquet",
         "part-r-00640-ff5bbd4d-6518-4e17-8ff5-c8fd3d4a5b86.gz.parquet",
         11598615
        ],
        [
         "dbfs:/databricks-datasets/wikipedia-datasets/data-001/en_wikipedia/articles-only-parquet/part-r-00641-ff5bbd4d-6518-4e17-8ff5-c8fd3d4a5b86.gz.parquet",
         "part-r-00641-ff5bbd4d-6518-4e17-8ff5-c8fd3d4a5b86.gz.parquet",
         12189610
        ],
        [
         "dbfs:/databricks-datasets/wikipedia-datasets/data-001/en_wikipedia/articles-only-parquet/part-r-00642-ff5bbd4d-6518-4e17-8ff5-c8fd3d4a5b86.gz.parquet",
         "part-r-00642-ff5bbd4d-6518-4e17-8ff5-c8fd3d4a5b86.gz.parquet",
         9797147
        ],
        [
         "dbfs:/databricks-datasets/wikipedia-datasets/data-001/en_wikipedia/articles-only-parquet/part-r-00643-ff5bbd4d-6518-4e17-8ff5-c8fd3d4a5b86.gz.parquet",
         "part-r-00643-ff5bbd4d-6518-4e17-8ff5-c8fd3d4a5b86.gz.parquet",
         12263269
        ],
        [
         "dbfs:/databricks-datasets/wikipedia-datasets/data-001/en_wikipedia/articles-only-parquet/part-r-00644-ff5bbd4d-6518-4e17-8ff5-c8fd3d4a5b86.gz.parquet",
         "part-r-00644-ff5bbd4d-6518-4e17-8ff5-c8fd3d4a5b86.gz.parquet",
         8907246
        ],
        [
         "dbfs:/databricks-datasets/wikipedia-datasets/data-001/en_wikipedia/articles-only-parquet/part-r-00645-ff5bbd4d-6518-4e17-8ff5-c8fd3d4a5b86.gz.parquet",
         "part-r-00645-ff5bbd4d-6518-4e17-8ff5-c8fd3d4a5b86.gz.parquet",
         8793148
        ],
        [
         "dbfs:/databricks-datasets/wikipedia-datasets/data-001/en_wikipedia/articles-only-parquet/part-r-00646-ff5bbd4d-6518-4e17-8ff5-c8fd3d4a5b86.gz.parquet",
         "part-r-00646-ff5bbd4d-6518-4e17-8ff5-c8fd3d4a5b86.gz.parquet",
         15183783
        ],
        [
         "dbfs:/databricks-datasets/wikipedia-datasets/data-001/en_wikipedia/articles-only-parquet/part-r-00647-ff5bbd4d-6518-4e17-8ff5-c8fd3d4a5b86.gz.parquet",
         "part-r-00647-ff5bbd4d-6518-4e17-8ff5-c8fd3d4a5b86.gz.parquet",
         9958009
        ],
        [
         "dbfs:/databricks-datasets/wikipedia-datasets/data-001/en_wikipedia/articles-only-parquet/part-r-00648-ff5bbd4d-6518-4e17-8ff5-c8fd3d4a5b86.gz.parquet",
         "part-r-00648-ff5bbd4d-6518-4e17-8ff5-c8fd3d4a5b86.gz.parquet",
         9555265
        ],
        [
         "dbfs:/databricks-datasets/wikipedia-datasets/data-001/en_wikipedia/articles-only-parquet/part-r-00649-ff5bbd4d-6518-4e17-8ff5-c8fd3d4a5b86.gz.parquet",
         "part-r-00649-ff5bbd4d-6518-4e17-8ff5-c8fd3d4a5b86.gz.parquet",
         7417598
        ],
        [
         "dbfs:/databricks-datasets/wikipedia-datasets/data-001/en_wikipedia/articles-only-parquet/part-r-00650-ff5bbd4d-6518-4e17-8ff5-c8fd3d4a5b86.gz.parquet",
         "part-r-00650-ff5bbd4d-6518-4e17-8ff5-c8fd3d4a5b86.gz.parquet",
         8683492
        ],
        [
         "dbfs:/databricks-datasets/wikipedia-datasets/data-001/en_wikipedia/articles-only-parquet/part-r-00651-ff5bbd4d-6518-4e17-8ff5-c8fd3d4a5b86.gz.parquet",
         "part-r-00651-ff5bbd4d-6518-4e17-8ff5-c8fd3d4a5b86.gz.parquet",
         9215035
        ],
        [
         "dbfs:/databricks-datasets/wikipedia-datasets/data-001/en_wikipedia/articles-only-parquet/part-r-00652-ff5bbd4d-6518-4e17-8ff5-c8fd3d4a5b86.gz.parquet",
         "part-r-00652-ff5bbd4d-6518-4e17-8ff5-c8fd3d4a5b86.gz.parquet",
         11771801
        ],
        [
         "dbfs:/databricks-datasets/wikipedia-datasets/data-001/en_wikipedia/articles-only-parquet/part-r-00653-ff5bbd4d-6518-4e17-8ff5-c8fd3d4a5b86.gz.parquet",
         "part-r-00653-ff5bbd4d-6518-4e17-8ff5-c8fd3d4a5b86.gz.parquet",
         10255588
        ],
        [
         "dbfs:/databricks-datasets/wikipedia-datasets/data-001/en_wikipedia/articles-only-parquet/part-r-00654-ff5bbd4d-6518-4e17-8ff5-c8fd3d4a5b86.gz.parquet",
         "part-r-00654-ff5bbd4d-6518-4e17-8ff5-c8fd3d4a5b86.gz.parquet",
         8433300
        ],
        [
         "dbfs:/databricks-datasets/wikipedia-datasets/data-001/en_wikipedia/articles-only-parquet/part-r-00655-ff5bbd4d-6518-4e17-8ff5-c8fd3d4a5b86.gz.parquet",
         "part-r-00655-ff5bbd4d-6518-4e17-8ff5-c8fd3d4a5b86.gz.parquet",
         9123710
        ],
        [
         "dbfs:/databricks-datasets/wikipedia-datasets/data-001/en_wikipedia/articles-only-parquet/part-r-00656-ff5bbd4d-6518-4e17-8ff5-c8fd3d4a5b86.gz.parquet",
         "part-r-00656-ff5bbd4d-6518-4e17-8ff5-c8fd3d4a5b86.gz.parquet",
         9306733
        ],
        [
         "dbfs:/databricks-datasets/wikipedia-datasets/data-001/en_wikipedia/articles-only-parquet/part-r-00657-ff5bbd4d-6518-4e17-8ff5-c8fd3d4a5b86.gz.parquet",
         "part-r-00657-ff5bbd4d-6518-4e17-8ff5-c8fd3d4a5b86.gz.parquet",
         12699180
        ],
        [
         "dbfs:/databricks-datasets/wikipedia-datasets/data-001/en_wikipedia/articles-only-parquet/part-r-00658-ff5bbd4d-6518-4e17-8ff5-c8fd3d4a5b86.gz.parquet",
         "part-r-00658-ff5bbd4d-6518-4e17-8ff5-c8fd3d4a5b86.gz.parquet",
         6891164
        ],
        [
         "dbfs:/databricks-datasets/wikipedia-datasets/data-001/en_wikipedia/articles-only-parquet/part-r-00659-ff5bbd4d-6518-4e17-8ff5-c8fd3d4a5b86.gz.parquet",
         "part-r-00659-ff5bbd4d-6518-4e17-8ff5-c8fd3d4a5b86.gz.parquet",
         9026060
        ],
        [
         "dbfs:/databricks-datasets/wikipedia-datasets/data-001/en_wikipedia/articles-only-parquet/part-r-00660-ff5bbd4d-6518-4e17-8ff5-c8fd3d4a5b86.gz.parquet",
         "part-r-00660-ff5bbd4d-6518-4e17-8ff5-c8fd3d4a5b86.gz.parquet",
         10582582
        ],
        [
         "dbfs:/databricks-datasets/wikipedia-datasets/data-001/en_wikipedia/articles-only-parquet/part-r-00661-ff5bbd4d-6518-4e17-8ff5-c8fd3d4a5b86.gz.parquet",
         "part-r-00661-ff5bbd4d-6518-4e17-8ff5-c8fd3d4a5b86.gz.parquet",
         11408180
        ],
        [
         "dbfs:/databricks-datasets/wikipedia-datasets/data-001/en_wikipedia/articles-only-parquet/part-r-00662-ff5bbd4d-6518-4e17-8ff5-c8fd3d4a5b86.gz.parquet",
         "part-r-00662-ff5bbd4d-6518-4e17-8ff5-c8fd3d4a5b86.gz.parquet",
         9742687
        ],
        [
         "dbfs:/databricks-datasets/wikipedia-datasets/data-001/en_wikipedia/articles-only-parquet/part-r-00663-ff5bbd4d-6518-4e17-8ff5-c8fd3d4a5b86.gz.parquet",
         "part-r-00663-ff5bbd4d-6518-4e17-8ff5-c8fd3d4a5b86.gz.parquet",
         11662985
        ],
        [
         "dbfs:/databricks-datasets/wikipedia-datasets/data-001/en_wikipedia/articles-only-parquet/part-r-00664-ff5bbd4d-6518-4e17-8ff5-c8fd3d4a5b86.gz.parquet",
         "part-r-00664-ff5bbd4d-6518-4e17-8ff5-c8fd3d4a5b86.gz.parquet",
         11951116
        ],
        [
         "dbfs:/databricks-datasets/wikipedia-datasets/data-001/en_wikipedia/articles-only-parquet/part-r-00665-ff5bbd4d-6518-4e17-8ff5-c8fd3d4a5b86.gz.parquet",
         "part-r-00665-ff5bbd4d-6518-4e17-8ff5-c8fd3d4a5b86.gz.parquet",
         9205209
        ],
        [
         "dbfs:/databricks-datasets/wikipedia-datasets/data-001/en_wikipedia/articles-only-parquet/part-r-00666-ff5bbd4d-6518-4e17-8ff5-c8fd3d4a5b86.gz.parquet",
         "part-r-00666-ff5bbd4d-6518-4e17-8ff5-c8fd3d4a5b86.gz.parquet",
         6312511
        ],
        [
         "dbfs:/databricks-datasets/wikipedia-datasets/data-001/en_wikipedia/articles-only-parquet/part-r-00667-ff5bbd4d-6518-4e17-8ff5-c8fd3d4a5b86.gz.parquet",
         "part-r-00667-ff5bbd4d-6518-4e17-8ff5-c8fd3d4a5b86.gz.parquet",
         9510353
        ],
        [
         "dbfs:/databricks-datasets/wikipedia-datasets/data-001/en_wikipedia/articles-only-parquet/part-r-00668-ff5bbd4d-6518-4e17-8ff5-c8fd3d4a5b86.gz.parquet",
         "part-r-00668-ff5bbd4d-6518-4e17-8ff5-c8fd3d4a5b86.gz.parquet",
         9792901
        ],
        [
         "dbfs:/databricks-datasets/wikipedia-datasets/data-001/en_wikipedia/articles-only-parquet/part-r-00669-ff5bbd4d-6518-4e17-8ff5-c8fd3d4a5b86.gz.parquet",
         "part-r-00669-ff5bbd4d-6518-4e17-8ff5-c8fd3d4a5b86.gz.parquet",
         8143000
        ],
        [
         "dbfs:/databricks-datasets/wikipedia-datasets/data-001/en_wikipedia/articles-only-parquet/part-r-00670-ff5bbd4d-6518-4e17-8ff5-c8fd3d4a5b86.gz.parquet",
         "part-r-00670-ff5bbd4d-6518-4e17-8ff5-c8fd3d4a5b86.gz.parquet",
         9198336
        ],
        [
         "dbfs:/databricks-datasets/wikipedia-datasets/data-001/en_wikipedia/articles-only-parquet/part-r-00671-ff5bbd4d-6518-4e17-8ff5-c8fd3d4a5b86.gz.parquet",
         "part-r-00671-ff5bbd4d-6518-4e17-8ff5-c8fd3d4a5b86.gz.parquet",
         8434983
        ],
        [
         "dbfs:/databricks-datasets/wikipedia-datasets/data-001/en_wikipedia/articles-only-parquet/part-r-00672-ff5bbd4d-6518-4e17-8ff5-c8fd3d4a5b86.gz.parquet",
         "part-r-00672-ff5bbd4d-6518-4e17-8ff5-c8fd3d4a5b86.gz.parquet",
         11350462
        ],
        [
         "dbfs:/databricks-datasets/wikipedia-datasets/data-001/en_wikipedia/articles-only-parquet/part-r-00673-ff5bbd4d-6518-4e17-8ff5-c8fd3d4a5b86.gz.parquet",
         "part-r-00673-ff5bbd4d-6518-4e17-8ff5-c8fd3d4a5b86.gz.parquet",
         8837097
        ],
        [
         "dbfs:/databricks-datasets/wikipedia-datasets/data-001/en_wikipedia/articles-only-parquet/part-r-00674-ff5bbd4d-6518-4e17-8ff5-c8fd3d4a5b86.gz.parquet",
         "part-r-00674-ff5bbd4d-6518-4e17-8ff5-c8fd3d4a5b86.gz.parquet",
         12545034
        ],
        [
         "dbfs:/databricks-datasets/wikipedia-datasets/data-001/en_wikipedia/articles-only-parquet/part-r-00675-ff5bbd4d-6518-4e17-8ff5-c8fd3d4a5b86.gz.parquet",
         "part-r-00675-ff5bbd4d-6518-4e17-8ff5-c8fd3d4a5b86.gz.parquet",
         14485365
        ],
        [
         "dbfs:/databricks-datasets/wikipedia-datasets/data-001/en_wikipedia/articles-only-parquet/part-r-00676-ff5bbd4d-6518-4e17-8ff5-c8fd3d4a5b86.gz.parquet",
         "part-r-00676-ff5bbd4d-6518-4e17-8ff5-c8fd3d4a5b86.gz.parquet",
         16258109
        ],
        [
         "dbfs:/databricks-datasets/wikipedia-datasets/data-001/en_wikipedia/articles-only-parquet/part-r-00677-ff5bbd4d-6518-4e17-8ff5-c8fd3d4a5b86.gz.parquet",
         "part-r-00677-ff5bbd4d-6518-4e17-8ff5-c8fd3d4a5b86.gz.parquet",
         8441946
        ],
        [
         "dbfs:/databricks-datasets/wikipedia-datasets/data-001/en_wikipedia/articles-only-parquet/part-r-00678-ff5bbd4d-6518-4e17-8ff5-c8fd3d4a5b86.gz.parquet",
         "part-r-00678-ff5bbd4d-6518-4e17-8ff5-c8fd3d4a5b86.gz.parquet",
         8314694
        ],
        [
         "dbfs:/databricks-datasets/wikipedia-datasets/data-001/en_wikipedia/articles-only-parquet/part-r-00679-ff5bbd4d-6518-4e17-8ff5-c8fd3d4a5b86.gz.parquet",
         "part-r-00679-ff5bbd4d-6518-4e17-8ff5-c8fd3d4a5b86.gz.parquet",
         9953956
        ],
        [
         "dbfs:/databricks-datasets/wikipedia-datasets/data-001/en_wikipedia/articles-only-parquet/part-r-00680-ff5bbd4d-6518-4e17-8ff5-c8fd3d4a5b86.gz.parquet",
         "part-r-00680-ff5bbd4d-6518-4e17-8ff5-c8fd3d4a5b86.gz.parquet",
         15759063
        ],
        [
         "dbfs:/databricks-datasets/wikipedia-datasets/data-001/en_wikipedia/articles-only-parquet/part-r-00681-ff5bbd4d-6518-4e17-8ff5-c8fd3d4a5b86.gz.parquet",
         "part-r-00681-ff5bbd4d-6518-4e17-8ff5-c8fd3d4a5b86.gz.parquet",
         15311705
        ],
        [
         "dbfs:/databricks-datasets/wikipedia-datasets/data-001/en_wikipedia/articles-only-parquet/part-r-00682-ff5bbd4d-6518-4e17-8ff5-c8fd3d4a5b86.gz.parquet",
         "part-r-00682-ff5bbd4d-6518-4e17-8ff5-c8fd3d4a5b86.gz.parquet",
         9229187
        ],
        [
         "dbfs:/databricks-datasets/wikipedia-datasets/data-001/en_wikipedia/articles-only-parquet/part-r-00683-ff5bbd4d-6518-4e17-8ff5-c8fd3d4a5b86.gz.parquet",
         "part-r-00683-ff5bbd4d-6518-4e17-8ff5-c8fd3d4a5b86.gz.parquet",
         9042739
        ],
        [
         "dbfs:/databricks-datasets/wikipedia-datasets/data-001/en_wikipedia/articles-only-parquet/part-r-00684-ff5bbd4d-6518-4e17-8ff5-c8fd3d4a5b86.gz.parquet",
         "part-r-00684-ff5bbd4d-6518-4e17-8ff5-c8fd3d4a5b86.gz.parquet",
         14122897
        ],
        [
         "dbfs:/databricks-datasets/wikipedia-datasets/data-001/en_wikipedia/articles-only-parquet/part-r-00685-ff5bbd4d-6518-4e17-8ff5-c8fd3d4a5b86.gz.parquet",
         "part-r-00685-ff5bbd4d-6518-4e17-8ff5-c8fd3d4a5b86.gz.parquet",
         9271068
        ],
        [
         "dbfs:/databricks-datasets/wikipedia-datasets/data-001/en_wikipedia/articles-only-parquet/part-r-00686-ff5bbd4d-6518-4e17-8ff5-c8fd3d4a5b86.gz.parquet",
         "part-r-00686-ff5bbd4d-6518-4e17-8ff5-c8fd3d4a5b86.gz.parquet",
         14834375
        ],
        [
         "dbfs:/databricks-datasets/wikipedia-datasets/data-001/en_wikipedia/articles-only-parquet/part-r-00687-ff5bbd4d-6518-4e17-8ff5-c8fd3d4a5b86.gz.parquet",
         "part-r-00687-ff5bbd4d-6518-4e17-8ff5-c8fd3d4a5b86.gz.parquet",
         17334040
        ],
        [
         "dbfs:/databricks-datasets/wikipedia-datasets/data-001/en_wikipedia/articles-only-parquet/part-r-00688-ff5bbd4d-6518-4e17-8ff5-c8fd3d4a5b86.gz.parquet",
         "part-r-00688-ff5bbd4d-6518-4e17-8ff5-c8fd3d4a5b86.gz.parquet",
         16159435
        ],
        [
         "dbfs:/databricks-datasets/wikipedia-datasets/data-001/en_wikipedia/articles-only-parquet/part-r-00689-ff5bbd4d-6518-4e17-8ff5-c8fd3d4a5b86.gz.parquet",
         "part-r-00689-ff5bbd4d-6518-4e17-8ff5-c8fd3d4a5b86.gz.parquet",
         9710142
        ],
        [
         "dbfs:/databricks-datasets/wikipedia-datasets/data-001/en_wikipedia/articles-only-parquet/part-r-00690-ff5bbd4d-6518-4e17-8ff5-c8fd3d4a5b86.gz.parquet",
         "part-r-00690-ff5bbd4d-6518-4e17-8ff5-c8fd3d4a5b86.gz.parquet",
         8859391
        ],
        [
         "dbfs:/databricks-datasets/wikipedia-datasets/data-001/en_wikipedia/articles-only-parquet/part-r-00691-ff5bbd4d-6518-4e17-8ff5-c8fd3d4a5b86.gz.parquet",
         "part-r-00691-ff5bbd4d-6518-4e17-8ff5-c8fd3d4a5b86.gz.parquet",
         12836745
        ],
        [
         "dbfs:/databricks-datasets/wikipedia-datasets/data-001/en_wikipedia/articles-only-parquet/part-r-00692-ff5bbd4d-6518-4e17-8ff5-c8fd3d4a5b86.gz.parquet",
         "part-r-00692-ff5bbd4d-6518-4e17-8ff5-c8fd3d4a5b86.gz.parquet",
         7982352
        ],
        [
         "dbfs:/databricks-datasets/wikipedia-datasets/data-001/en_wikipedia/articles-only-parquet/part-r-00693-ff5bbd4d-6518-4e17-8ff5-c8fd3d4a5b86.gz.parquet",
         "part-r-00693-ff5bbd4d-6518-4e17-8ff5-c8fd3d4a5b86.gz.parquet",
         8497046
        ],
        [
         "dbfs:/databricks-datasets/wikipedia-datasets/data-001/en_wikipedia/articles-only-parquet/part-r-00694-ff5bbd4d-6518-4e17-8ff5-c8fd3d4a5b86.gz.parquet",
         "part-r-00694-ff5bbd4d-6518-4e17-8ff5-c8fd3d4a5b86.gz.parquet",
         3545194
        ],
        [
         "dbfs:/databricks-datasets/wikipedia-datasets/data-001/en_wikipedia/articles-only-parquet/part-r-00695-ff5bbd4d-6518-4e17-8ff5-c8fd3d4a5b86.gz.parquet",
         "part-r-00695-ff5bbd4d-6518-4e17-8ff5-c8fd3d4a5b86.gz.parquet",
         9276762
        ],
        [
         "dbfs:/databricks-datasets/wikipedia-datasets/data-001/en_wikipedia/articles-only-parquet/part-r-00696-ff5bbd4d-6518-4e17-8ff5-c8fd3d4a5b86.gz.parquet",
         "part-r-00696-ff5bbd4d-6518-4e17-8ff5-c8fd3d4a5b86.gz.parquet",
         8714825
        ],
        [
         "dbfs:/databricks-datasets/wikipedia-datasets/data-001/en_wikipedia/articles-only-parquet/part-r-00697-ff5bbd4d-6518-4e17-8ff5-c8fd3d4a5b86.gz.parquet",
         "part-r-00697-ff5bbd4d-6518-4e17-8ff5-c8fd3d4a5b86.gz.parquet",
         9991677
        ],
        [
         "dbfs:/databricks-datasets/wikipedia-datasets/data-001/en_wikipedia/articles-only-parquet/part-r-00698-ff5bbd4d-6518-4e17-8ff5-c8fd3d4a5b86.gz.parquet",
         "part-r-00698-ff5bbd4d-6518-4e17-8ff5-c8fd3d4a5b86.gz.parquet",
         17190283
        ],
        [
         "dbfs:/databricks-datasets/wikipedia-datasets/data-001/en_wikipedia/articles-only-parquet/part-r-00699-ff5bbd4d-6518-4e17-8ff5-c8fd3d4a5b86.gz.parquet",
         "part-r-00699-ff5bbd4d-6518-4e17-8ff5-c8fd3d4a5b86.gz.parquet",
         10038655
        ],
        [
         "dbfs:/databricks-datasets/wikipedia-datasets/data-001/en_wikipedia/articles-only-parquet/part-r-00700-ff5bbd4d-6518-4e17-8ff5-c8fd3d4a5b86.gz.parquet",
         "part-r-00700-ff5bbd4d-6518-4e17-8ff5-c8fd3d4a5b86.gz.parquet",
         9539128
        ],
        [
         "dbfs:/databricks-datasets/wikipedia-datasets/data-001/en_wikipedia/articles-only-parquet/part-r-00701-ff5bbd4d-6518-4e17-8ff5-c8fd3d4a5b86.gz.parquet",
         "part-r-00701-ff5bbd4d-6518-4e17-8ff5-c8fd3d4a5b86.gz.parquet",
         6999693
        ],
        [
         "dbfs:/databricks-datasets/wikipedia-datasets/data-001/en_wikipedia/articles-only-parquet/part-r-00702-ff5bbd4d-6518-4e17-8ff5-c8fd3d4a5b86.gz.parquet",
         "part-r-00702-ff5bbd4d-6518-4e17-8ff5-c8fd3d4a5b86.gz.parquet",
         10426714
        ],
        [
         "dbfs:/databricks-datasets/wikipedia-datasets/data-001/en_wikipedia/articles-only-parquet/part-r-00703-ff5bbd4d-6518-4e17-8ff5-c8fd3d4a5b86.gz.parquet",
         "part-r-00703-ff5bbd4d-6518-4e17-8ff5-c8fd3d4a5b86.gz.parquet",
         12424457
        ],
        [
         "dbfs:/databricks-datasets/wikipedia-datasets/data-001/en_wikipedia/articles-only-parquet/part-r-00704-ff5bbd4d-6518-4e17-8ff5-c8fd3d4a5b86.gz.parquet",
         "part-r-00704-ff5bbd4d-6518-4e17-8ff5-c8fd3d4a5b86.gz.parquet",
         11678720
        ],
        [
         "dbfs:/databricks-datasets/wikipedia-datasets/data-001/en_wikipedia/articles-only-parquet/part-r-00705-ff5bbd4d-6518-4e17-8ff5-c8fd3d4a5b86.gz.parquet",
         "part-r-00705-ff5bbd4d-6518-4e17-8ff5-c8fd3d4a5b86.gz.parquet",
         9423186
        ],
        [
         "dbfs:/databricks-datasets/wikipedia-datasets/data-001/en_wikipedia/articles-only-parquet/part-r-00706-ff5bbd4d-6518-4e17-8ff5-c8fd3d4a5b86.gz.parquet",
         "part-r-00706-ff5bbd4d-6518-4e17-8ff5-c8fd3d4a5b86.gz.parquet",
         7131400
        ],
        [
         "dbfs:/databricks-datasets/wikipedia-datasets/data-001/en_wikipedia/articles-only-parquet/part-r-00707-ff5bbd4d-6518-4e17-8ff5-c8fd3d4a5b86.gz.parquet",
         "part-r-00707-ff5bbd4d-6518-4e17-8ff5-c8fd3d4a5b86.gz.parquet",
         17448230
        ],
        [
         "dbfs:/databricks-datasets/wikipedia-datasets/data-001/en_wikipedia/articles-only-parquet/part-r-00708-ff5bbd4d-6518-4e17-8ff5-c8fd3d4a5b86.gz.parquet",
         "part-r-00708-ff5bbd4d-6518-4e17-8ff5-c8fd3d4a5b86.gz.parquet",
         16509340
        ],
        [
         "dbfs:/databricks-datasets/wikipedia-datasets/data-001/en_wikipedia/articles-only-parquet/part-r-00709-ff5bbd4d-6518-4e17-8ff5-c8fd3d4a5b86.gz.parquet",
         "part-r-00709-ff5bbd4d-6518-4e17-8ff5-c8fd3d4a5b86.gz.parquet",
         8372103
        ],
        [
         "dbfs:/databricks-datasets/wikipedia-datasets/data-001/en_wikipedia/articles-only-parquet/part-r-00710-ff5bbd4d-6518-4e17-8ff5-c8fd3d4a5b86.gz.parquet",
         "part-r-00710-ff5bbd4d-6518-4e17-8ff5-c8fd3d4a5b86.gz.parquet",
         9686117
        ],
        [
         "dbfs:/databricks-datasets/wikipedia-datasets/data-001/en_wikipedia/articles-only-parquet/part-r-00711-ff5bbd4d-6518-4e17-8ff5-c8fd3d4a5b86.gz.parquet",
         "part-r-00711-ff5bbd4d-6518-4e17-8ff5-c8fd3d4a5b86.gz.parquet",
         9753444
        ],
        [
         "dbfs:/databricks-datasets/wikipedia-datasets/data-001/en_wikipedia/articles-only-parquet/part-r-00712-ff5bbd4d-6518-4e17-8ff5-c8fd3d4a5b86.gz.parquet",
         "part-r-00712-ff5bbd4d-6518-4e17-8ff5-c8fd3d4a5b86.gz.parquet",
         9015885
        ],
        [
         "dbfs:/databricks-datasets/wikipedia-datasets/data-001/en_wikipedia/articles-only-parquet/part-r-00713-ff5bbd4d-6518-4e17-8ff5-c8fd3d4a5b86.gz.parquet",
         "part-r-00713-ff5bbd4d-6518-4e17-8ff5-c8fd3d4a5b86.gz.parquet",
         9227635
        ],
        [
         "dbfs:/databricks-datasets/wikipedia-datasets/data-001/en_wikipedia/articles-only-parquet/part-r-00714-ff5bbd4d-6518-4e17-8ff5-c8fd3d4a5b86.gz.parquet",
         "part-r-00714-ff5bbd4d-6518-4e17-8ff5-c8fd3d4a5b86.gz.parquet",
         9152704
        ],
        [
         "dbfs:/databricks-datasets/wikipedia-datasets/data-001/en_wikipedia/articles-only-parquet/part-r-00715-ff5bbd4d-6518-4e17-8ff5-c8fd3d4a5b86.gz.parquet",
         "part-r-00715-ff5bbd4d-6518-4e17-8ff5-c8fd3d4a5b86.gz.parquet",
         13462766
        ],
        [
         "dbfs:/databricks-datasets/wikipedia-datasets/data-001/en_wikipedia/articles-only-parquet/part-r-00716-ff5bbd4d-6518-4e17-8ff5-c8fd3d4a5b86.gz.parquet",
         "part-r-00716-ff5bbd4d-6518-4e17-8ff5-c8fd3d4a5b86.gz.parquet",
         7837638
        ],
        [
         "dbfs:/databricks-datasets/wikipedia-datasets/data-001/en_wikipedia/articles-only-parquet/part-r-00717-ff5bbd4d-6518-4e17-8ff5-c8fd3d4a5b86.gz.parquet",
         "part-r-00717-ff5bbd4d-6518-4e17-8ff5-c8fd3d4a5b86.gz.parquet",
         13490055
        ],
        [
         "dbfs:/databricks-datasets/wikipedia-datasets/data-001/en_wikipedia/articles-only-parquet/part-r-00718-ff5bbd4d-6518-4e17-8ff5-c8fd3d4a5b86.gz.parquet",
         "part-r-00718-ff5bbd4d-6518-4e17-8ff5-c8fd3d4a5b86.gz.parquet",
         8473429
        ],
        [
         "dbfs:/databricks-datasets/wikipedia-datasets/data-001/en_wikipedia/articles-only-parquet/part-r-00719-ff5bbd4d-6518-4e17-8ff5-c8fd3d4a5b86.gz.parquet",
         "part-r-00719-ff5bbd4d-6518-4e17-8ff5-c8fd3d4a5b86.gz.parquet",
         6631106
        ],
        [
         "dbfs:/databricks-datasets/wikipedia-datasets/data-001/en_wikipedia/articles-only-parquet/part-r-00720-ff5bbd4d-6518-4e17-8ff5-c8fd3d4a5b86.gz.parquet",
         "part-r-00720-ff5bbd4d-6518-4e17-8ff5-c8fd3d4a5b86.gz.parquet",
         9510178
        ],
        [
         "dbfs:/databricks-datasets/wikipedia-datasets/data-001/en_wikipedia/articles-only-parquet/part-r-00721-ff5bbd4d-6518-4e17-8ff5-c8fd3d4a5b86.gz.parquet",
         "part-r-00721-ff5bbd4d-6518-4e17-8ff5-c8fd3d4a5b86.gz.parquet",
         12695167
        ],
        [
         "dbfs:/databricks-datasets/wikipedia-datasets/data-001/en_wikipedia/articles-only-parquet/part-r-00722-ff5bbd4d-6518-4e17-8ff5-c8fd3d4a5b86.gz.parquet",
         "part-r-00722-ff5bbd4d-6518-4e17-8ff5-c8fd3d4a5b86.gz.parquet",
         8723279
        ],
        [
         "dbfs:/databricks-datasets/wikipedia-datasets/data-001/en_wikipedia/articles-only-parquet/part-r-00723-ff5bbd4d-6518-4e17-8ff5-c8fd3d4a5b86.gz.parquet",
         "part-r-00723-ff5bbd4d-6518-4e17-8ff5-c8fd3d4a5b86.gz.parquet",
         8579406
        ],
        [
         "dbfs:/databricks-datasets/wikipedia-datasets/data-001/en_wikipedia/articles-only-parquet/part-r-00724-ff5bbd4d-6518-4e17-8ff5-c8fd3d4a5b86.gz.parquet",
         "part-r-00724-ff5bbd4d-6518-4e17-8ff5-c8fd3d4a5b86.gz.parquet",
         10534580
        ],
        [
         "dbfs:/databricks-datasets/wikipedia-datasets/data-001/en_wikipedia/articles-only-parquet/part-r-00725-ff5bbd4d-6518-4e17-8ff5-c8fd3d4a5b86.gz.parquet",
         "part-r-00725-ff5bbd4d-6518-4e17-8ff5-c8fd3d4a5b86.gz.parquet",
         15292483
        ],
        [
         "dbfs:/databricks-datasets/wikipedia-datasets/data-001/en_wikipedia/articles-only-parquet/part-r-00726-ff5bbd4d-6518-4e17-8ff5-c8fd3d4a5b86.gz.parquet",
         "part-r-00726-ff5bbd4d-6518-4e17-8ff5-c8fd3d4a5b86.gz.parquet",
         14724101
        ],
        [
         "dbfs:/databricks-datasets/wikipedia-datasets/data-001/en_wikipedia/articles-only-parquet/part-r-00727-ff5bbd4d-6518-4e17-8ff5-c8fd3d4a5b86.gz.parquet",
         "part-r-00727-ff5bbd4d-6518-4e17-8ff5-c8fd3d4a5b86.gz.parquet",
         10196923
        ],
        [
         "dbfs:/databricks-datasets/wikipedia-datasets/data-001/en_wikipedia/articles-only-parquet/part-r-00728-ff5bbd4d-6518-4e17-8ff5-c8fd3d4a5b86.gz.parquet",
         "part-r-00728-ff5bbd4d-6518-4e17-8ff5-c8fd3d4a5b86.gz.parquet",
         15985561
        ],
        [
         "dbfs:/databricks-datasets/wikipedia-datasets/data-001/en_wikipedia/articles-only-parquet/part-r-00729-ff5bbd4d-6518-4e17-8ff5-c8fd3d4a5b86.gz.parquet",
         "part-r-00729-ff5bbd4d-6518-4e17-8ff5-c8fd3d4a5b86.gz.parquet",
         8684964
        ],
        [
         "dbfs:/databricks-datasets/wikipedia-datasets/data-001/en_wikipedia/articles-only-parquet/part-r-00730-ff5bbd4d-6518-4e17-8ff5-c8fd3d4a5b86.gz.parquet",
         "part-r-00730-ff5bbd4d-6518-4e17-8ff5-c8fd3d4a5b86.gz.parquet",
         11230208
        ],
        [
         "dbfs:/databricks-datasets/wikipedia-datasets/data-001/en_wikipedia/articles-only-parquet/part-r-00731-ff5bbd4d-6518-4e17-8ff5-c8fd3d4a5b86.gz.parquet",
         "part-r-00731-ff5bbd4d-6518-4e17-8ff5-c8fd3d4a5b86.gz.parquet",
         9326932
        ],
        [
         "dbfs:/databricks-datasets/wikipedia-datasets/data-001/en_wikipedia/articles-only-parquet/part-r-00732-ff5bbd4d-6518-4e17-8ff5-c8fd3d4a5b86.gz.parquet",
         "part-r-00732-ff5bbd4d-6518-4e17-8ff5-c8fd3d4a5b86.gz.parquet",
         7361208
        ],
        [
         "dbfs:/databricks-datasets/wikipedia-datasets/data-001/en_wikipedia/articles-only-parquet/part-r-00733-ff5bbd4d-6518-4e17-8ff5-c8fd3d4a5b86.gz.parquet",
         "part-r-00733-ff5bbd4d-6518-4e17-8ff5-c8fd3d4a5b86.gz.parquet",
         9029489
        ],
        [
         "dbfs:/databricks-datasets/wikipedia-datasets/data-001/en_wikipedia/articles-only-parquet/part-r-00734-ff5bbd4d-6518-4e17-8ff5-c8fd3d4a5b86.gz.parquet",
         "part-r-00734-ff5bbd4d-6518-4e17-8ff5-c8fd3d4a5b86.gz.parquet",
         8901676
        ],
        [
         "dbfs:/databricks-datasets/wikipedia-datasets/data-001/en_wikipedia/articles-only-parquet/part-r-00735-ff5bbd4d-6518-4e17-8ff5-c8fd3d4a5b86.gz.parquet",
         "part-r-00735-ff5bbd4d-6518-4e17-8ff5-c8fd3d4a5b86.gz.parquet",
         8811394
        ],
        [
         "dbfs:/databricks-datasets/wikipedia-datasets/data-001/en_wikipedia/articles-only-parquet/part-r-00736-ff5bbd4d-6518-4e17-8ff5-c8fd3d4a5b86.gz.parquet",
         "part-r-00736-ff5bbd4d-6518-4e17-8ff5-c8fd3d4a5b86.gz.parquet",
         11095041
        ],
        [
         "dbfs:/databricks-datasets/wikipedia-datasets/data-001/en_wikipedia/articles-only-parquet/part-r-00737-ff5bbd4d-6518-4e17-8ff5-c8fd3d4a5b86.gz.parquet",
         "part-r-00737-ff5bbd4d-6518-4e17-8ff5-c8fd3d4a5b86.gz.parquet",
         9612495
        ],
        [
         "dbfs:/databricks-datasets/wikipedia-datasets/data-001/en_wikipedia/articles-only-parquet/part-r-00738-ff5bbd4d-6518-4e17-8ff5-c8fd3d4a5b86.gz.parquet",
         "part-r-00738-ff5bbd4d-6518-4e17-8ff5-c8fd3d4a5b86.gz.parquet",
         8977218
        ],
        [
         "dbfs:/databricks-datasets/wikipedia-datasets/data-001/en_wikipedia/articles-only-parquet/part-r-00739-ff5bbd4d-6518-4e17-8ff5-c8fd3d4a5b86.gz.parquet",
         "part-r-00739-ff5bbd4d-6518-4e17-8ff5-c8fd3d4a5b86.gz.parquet",
         8487700
        ],
        [
         "dbfs:/databricks-datasets/wikipedia-datasets/data-001/en_wikipedia/articles-only-parquet/part-r-00740-ff5bbd4d-6518-4e17-8ff5-c8fd3d4a5b86.gz.parquet",
         "part-r-00740-ff5bbd4d-6518-4e17-8ff5-c8fd3d4a5b86.gz.parquet",
         13776872
        ],
        [
         "dbfs:/databricks-datasets/wikipedia-datasets/data-001/en_wikipedia/articles-only-parquet/part-r-00741-ff5bbd4d-6518-4e17-8ff5-c8fd3d4a5b86.gz.parquet",
         "part-r-00741-ff5bbd4d-6518-4e17-8ff5-c8fd3d4a5b86.gz.parquet",
         9392699
        ],
        [
         "dbfs:/databricks-datasets/wikipedia-datasets/data-001/en_wikipedia/articles-only-parquet/part-r-00742-ff5bbd4d-6518-4e17-8ff5-c8fd3d4a5b86.gz.parquet",
         "part-r-00742-ff5bbd4d-6518-4e17-8ff5-c8fd3d4a5b86.gz.parquet",
         14465517
        ],
        [
         "dbfs:/databricks-datasets/wikipedia-datasets/data-001/en_wikipedia/articles-only-parquet/part-r-00743-ff5bbd4d-6518-4e17-8ff5-c8fd3d4a5b86.gz.parquet",
         "part-r-00743-ff5bbd4d-6518-4e17-8ff5-c8fd3d4a5b86.gz.parquet",
         9315073
        ],
        [
         "dbfs:/databricks-datasets/wikipedia-datasets/data-001/en_wikipedia/articles-only-parquet/part-r-00744-ff5bbd4d-6518-4e17-8ff5-c8fd3d4a5b86.gz.parquet",
         "part-r-00744-ff5bbd4d-6518-4e17-8ff5-c8fd3d4a5b86.gz.parquet",
         9141673
        ],
        [
         "dbfs:/databricks-datasets/wikipedia-datasets/data-001/en_wikipedia/articles-only-parquet/part-r-00745-ff5bbd4d-6518-4e17-8ff5-c8fd3d4a5b86.gz.parquet",
         "part-r-00745-ff5bbd4d-6518-4e17-8ff5-c8fd3d4a5b86.gz.parquet",
         9045862
        ],
        [
         "dbfs:/databricks-datasets/wikipedia-datasets/data-001/en_wikipedia/articles-only-parquet/part-r-00746-ff5bbd4d-6518-4e17-8ff5-c8fd3d4a5b86.gz.parquet",
         "part-r-00746-ff5bbd4d-6518-4e17-8ff5-c8fd3d4a5b86.gz.parquet",
         9410650
        ],
        [
         "dbfs:/databricks-datasets/wikipedia-datasets/data-001/en_wikipedia/articles-only-parquet/part-r-00747-ff5bbd4d-6518-4e17-8ff5-c8fd3d4a5b86.gz.parquet",
         "part-r-00747-ff5bbd4d-6518-4e17-8ff5-c8fd3d4a5b86.gz.parquet",
         12349398
        ],
        [
         "dbfs:/databricks-datasets/wikipedia-datasets/data-001/en_wikipedia/articles-only-parquet/part-r-00748-ff5bbd4d-6518-4e17-8ff5-c8fd3d4a5b86.gz.parquet",
         "part-r-00748-ff5bbd4d-6518-4e17-8ff5-c8fd3d4a5b86.gz.parquet",
         10060725
        ],
        [
         "dbfs:/databricks-datasets/wikipedia-datasets/data-001/en_wikipedia/articles-only-parquet/part-r-00749-ff5bbd4d-6518-4e17-8ff5-c8fd3d4a5b86.gz.parquet",
         "part-r-00749-ff5bbd4d-6518-4e17-8ff5-c8fd3d4a5b86.gz.parquet",
         16081801
        ],
        [
         "dbfs:/databricks-datasets/wikipedia-datasets/data-001/en_wikipedia/articles-only-parquet/part-r-00750-ff5bbd4d-6518-4e17-8ff5-c8fd3d4a5b86.gz.parquet",
         "part-r-00750-ff5bbd4d-6518-4e17-8ff5-c8fd3d4a5b86.gz.parquet",
         9300719
        ],
        [
         "dbfs:/databricks-datasets/wikipedia-datasets/data-001/en_wikipedia/articles-only-parquet/part-r-00751-ff5bbd4d-6518-4e17-8ff5-c8fd3d4a5b86.gz.parquet",
         "part-r-00751-ff5bbd4d-6518-4e17-8ff5-c8fd3d4a5b86.gz.parquet",
         8248842
        ],
        [
         "dbfs:/databricks-datasets/wikipedia-datasets/data-001/en_wikipedia/articles-only-parquet/part-r-00752-ff5bbd4d-6518-4e17-8ff5-c8fd3d4a5b86.gz.parquet",
         "part-r-00752-ff5bbd4d-6518-4e17-8ff5-c8fd3d4a5b86.gz.parquet",
         8434990
        ],
        [
         "dbfs:/databricks-datasets/wikipedia-datasets/data-001/en_wikipedia/articles-only-parquet/part-r-00753-ff5bbd4d-6518-4e17-8ff5-c8fd3d4a5b86.gz.parquet",
         "part-r-00753-ff5bbd4d-6518-4e17-8ff5-c8fd3d4a5b86.gz.parquet",
         8405334
        ],
        [
         "dbfs:/databricks-datasets/wikipedia-datasets/data-001/en_wikipedia/articles-only-parquet/part-r-00754-ff5bbd4d-6518-4e17-8ff5-c8fd3d4a5b86.gz.parquet",
         "part-r-00754-ff5bbd4d-6518-4e17-8ff5-c8fd3d4a5b86.gz.parquet",
         19882164
        ],
        [
         "dbfs:/databricks-datasets/wikipedia-datasets/data-001/en_wikipedia/articles-only-parquet/part-r-00755-ff5bbd4d-6518-4e17-8ff5-c8fd3d4a5b86.gz.parquet",
         "part-r-00755-ff5bbd4d-6518-4e17-8ff5-c8fd3d4a5b86.gz.parquet",
         4845988
        ],
        [
         "dbfs:/databricks-datasets/wikipedia-datasets/data-001/en_wikipedia/articles-only-parquet/part-r-00756-ff5bbd4d-6518-4e17-8ff5-c8fd3d4a5b86.gz.parquet",
         "part-r-00756-ff5bbd4d-6518-4e17-8ff5-c8fd3d4a5b86.gz.parquet",
         7741004
        ],
        [
         "dbfs:/databricks-datasets/wikipedia-datasets/data-001/en_wikipedia/articles-only-parquet/part-r-00757-ff5bbd4d-6518-4e17-8ff5-c8fd3d4a5b86.gz.parquet",
         "part-r-00757-ff5bbd4d-6518-4e17-8ff5-c8fd3d4a5b86.gz.parquet",
         9409767
        ],
        [
         "dbfs:/databricks-datasets/wikipedia-datasets/data-001/en_wikipedia/articles-only-parquet/part-r-00758-ff5bbd4d-6518-4e17-8ff5-c8fd3d4a5b86.gz.parquet",
         "part-r-00758-ff5bbd4d-6518-4e17-8ff5-c8fd3d4a5b86.gz.parquet",
         9212147
        ],
        [
         "dbfs:/databricks-datasets/wikipedia-datasets/data-001/en_wikipedia/articles-only-parquet/part-r-00759-ff5bbd4d-6518-4e17-8ff5-c8fd3d4a5b86.gz.parquet",
         "part-r-00759-ff5bbd4d-6518-4e17-8ff5-c8fd3d4a5b86.gz.parquet",
         8636346
        ],
        [
         "dbfs:/databricks-datasets/wikipedia-datasets/data-001/en_wikipedia/articles-only-parquet/part-r-00760-ff5bbd4d-6518-4e17-8ff5-c8fd3d4a5b86.gz.parquet",
         "part-r-00760-ff5bbd4d-6518-4e17-8ff5-c8fd3d4a5b86.gz.parquet",
         9926257
        ],
        [
         "dbfs:/databricks-datasets/wikipedia-datasets/data-001/en_wikipedia/articles-only-parquet/part-r-00761-ff5bbd4d-6518-4e17-8ff5-c8fd3d4a5b86.gz.parquet",
         "part-r-00761-ff5bbd4d-6518-4e17-8ff5-c8fd3d4a5b86.gz.parquet",
         8528378
        ],
        [
         "dbfs:/databricks-datasets/wikipedia-datasets/data-001/en_wikipedia/articles-only-parquet/part-r-00762-ff5bbd4d-6518-4e17-8ff5-c8fd3d4a5b86.gz.parquet",
         "part-r-00762-ff5bbd4d-6518-4e17-8ff5-c8fd3d4a5b86.gz.parquet",
         9580876
        ],
        [
         "dbfs:/databricks-datasets/wikipedia-datasets/data-001/en_wikipedia/articles-only-parquet/part-r-00763-ff5bbd4d-6518-4e17-8ff5-c8fd3d4a5b86.gz.parquet",
         "part-r-00763-ff5bbd4d-6518-4e17-8ff5-c8fd3d4a5b86.gz.parquet",
         8322051
        ],
        [
         "dbfs:/databricks-datasets/wikipedia-datasets/data-001/en_wikipedia/articles-only-parquet/part-r-00764-ff5bbd4d-6518-4e17-8ff5-c8fd3d4a5b86.gz.parquet",
         "part-r-00764-ff5bbd4d-6518-4e17-8ff5-c8fd3d4a5b86.gz.parquet",
         9632798
        ],
        [
         "dbfs:/databricks-datasets/wikipedia-datasets/data-001/en_wikipedia/articles-only-parquet/part-r-00765-ff5bbd4d-6518-4e17-8ff5-c8fd3d4a5b86.gz.parquet",
         "part-r-00765-ff5bbd4d-6518-4e17-8ff5-c8fd3d4a5b86.gz.parquet",
         10357188
        ],
        [
         "dbfs:/databricks-datasets/wikipedia-datasets/data-001/en_wikipedia/articles-only-parquet/part-r-00766-ff5bbd4d-6518-4e17-8ff5-c8fd3d4a5b86.gz.parquet",
         "part-r-00766-ff5bbd4d-6518-4e17-8ff5-c8fd3d4a5b86.gz.parquet",
         11283932
        ],
        [
         "dbfs:/databricks-datasets/wikipedia-datasets/data-001/en_wikipedia/articles-only-parquet/part-r-00767-ff5bbd4d-6518-4e17-8ff5-c8fd3d4a5b86.gz.parquet",
         "part-r-00767-ff5bbd4d-6518-4e17-8ff5-c8fd3d4a5b86.gz.parquet",
         7864855
        ],
        [
         "dbfs:/databricks-datasets/wikipedia-datasets/data-001/en_wikipedia/articles-only-parquet/part-r-00768-ff5bbd4d-6518-4e17-8ff5-c8fd3d4a5b86.gz.parquet",
         "part-r-00768-ff5bbd4d-6518-4e17-8ff5-c8fd3d4a5b86.gz.parquet",
         9690397
        ],
        [
         "dbfs:/databricks-datasets/wikipedia-datasets/data-001/en_wikipedia/articles-only-parquet/part-r-00769-ff5bbd4d-6518-4e17-8ff5-c8fd3d4a5b86.gz.parquet",
         "part-r-00769-ff5bbd4d-6518-4e17-8ff5-c8fd3d4a5b86.gz.parquet",
         12674361
        ],
        [
         "dbfs:/databricks-datasets/wikipedia-datasets/data-001/en_wikipedia/articles-only-parquet/part-r-00770-ff5bbd4d-6518-4e17-8ff5-c8fd3d4a5b86.gz.parquet",
         "part-r-00770-ff5bbd4d-6518-4e17-8ff5-c8fd3d4a5b86.gz.parquet",
         7615768
        ],
        [
         "dbfs:/databricks-datasets/wikipedia-datasets/data-001/en_wikipedia/articles-only-parquet/part-r-00771-ff5bbd4d-6518-4e17-8ff5-c8fd3d4a5b86.gz.parquet",
         "part-r-00771-ff5bbd4d-6518-4e17-8ff5-c8fd3d4a5b86.gz.parquet",
         15682207
        ],
        [
         "dbfs:/databricks-datasets/wikipedia-datasets/data-001/en_wikipedia/articles-only-parquet/part-r-00772-ff5bbd4d-6518-4e17-8ff5-c8fd3d4a5b86.gz.parquet",
         "part-r-00772-ff5bbd4d-6518-4e17-8ff5-c8fd3d4a5b86.gz.parquet",
         9247097
        ],
        [
         "dbfs:/databricks-datasets/wikipedia-datasets/data-001/en_wikipedia/articles-only-parquet/part-r-00773-ff5bbd4d-6518-4e17-8ff5-c8fd3d4a5b86.gz.parquet",
         "part-r-00773-ff5bbd4d-6518-4e17-8ff5-c8fd3d4a5b86.gz.parquet",
         9960853
        ],
        [
         "dbfs:/databricks-datasets/wikipedia-datasets/data-001/en_wikipedia/articles-only-parquet/part-r-00774-ff5bbd4d-6518-4e17-8ff5-c8fd3d4a5b86.gz.parquet",
         "part-r-00774-ff5bbd4d-6518-4e17-8ff5-c8fd3d4a5b86.gz.parquet",
         13827108
        ],
        [
         "dbfs:/databricks-datasets/wikipedia-datasets/data-001/en_wikipedia/articles-only-parquet/part-r-00775-ff5bbd4d-6518-4e17-8ff5-c8fd3d4a5b86.gz.parquet",
         "part-r-00775-ff5bbd4d-6518-4e17-8ff5-c8fd3d4a5b86.gz.parquet",
         9322801
        ],
        [
         "dbfs:/databricks-datasets/wikipedia-datasets/data-001/en_wikipedia/articles-only-parquet/part-r-00776-ff5bbd4d-6518-4e17-8ff5-c8fd3d4a5b86.gz.parquet",
         "part-r-00776-ff5bbd4d-6518-4e17-8ff5-c8fd3d4a5b86.gz.parquet",
         8223860
        ],
        [
         "dbfs:/databricks-datasets/wikipedia-datasets/data-001/en_wikipedia/articles-only-parquet/part-r-00777-ff5bbd4d-6518-4e17-8ff5-c8fd3d4a5b86.gz.parquet",
         "part-r-00777-ff5bbd4d-6518-4e17-8ff5-c8fd3d4a5b86.gz.parquet",
         15169512
        ],
        [
         "dbfs:/databricks-datasets/wikipedia-datasets/data-001/en_wikipedia/articles-only-parquet/part-r-00778-ff5bbd4d-6518-4e17-8ff5-c8fd3d4a5b86.gz.parquet",
         "part-r-00778-ff5bbd4d-6518-4e17-8ff5-c8fd3d4a5b86.gz.parquet",
         8542033
        ],
        [
         "dbfs:/databricks-datasets/wikipedia-datasets/data-001/en_wikipedia/articles-only-parquet/part-r-00779-ff5bbd4d-6518-4e17-8ff5-c8fd3d4a5b86.gz.parquet",
         "part-r-00779-ff5bbd4d-6518-4e17-8ff5-c8fd3d4a5b86.gz.parquet",
         9650911
        ],
        [
         "dbfs:/databricks-datasets/wikipedia-datasets/data-001/en_wikipedia/articles-only-parquet/part-r-00780-ff5bbd4d-6518-4e17-8ff5-c8fd3d4a5b86.gz.parquet",
         "part-r-00780-ff5bbd4d-6518-4e17-8ff5-c8fd3d4a5b86.gz.parquet",
         15681180
        ],
        [
         "dbfs:/databricks-datasets/wikipedia-datasets/data-001/en_wikipedia/articles-only-parquet/part-r-00781-ff5bbd4d-6518-4e17-8ff5-c8fd3d4a5b86.gz.parquet",
         "part-r-00781-ff5bbd4d-6518-4e17-8ff5-c8fd3d4a5b86.gz.parquet",
         9392888
        ],
        [
         "dbfs:/databricks-datasets/wikipedia-datasets/data-001/en_wikipedia/articles-only-parquet/part-r-00782-ff5bbd4d-6518-4e17-8ff5-c8fd3d4a5b86.gz.parquet",
         "part-r-00782-ff5bbd4d-6518-4e17-8ff5-c8fd3d4a5b86.gz.parquet",
         8934563
        ],
        [
         "dbfs:/databricks-datasets/wikipedia-datasets/data-001/en_wikipedia/articles-only-parquet/part-r-00783-ff5bbd4d-6518-4e17-8ff5-c8fd3d4a5b86.gz.parquet",
         "part-r-00783-ff5bbd4d-6518-4e17-8ff5-c8fd3d4a5b86.gz.parquet",
         8974472
        ],
        [
         "dbfs:/databricks-datasets/wikipedia-datasets/data-001/en_wikipedia/articles-only-parquet/part-r-00784-ff5bbd4d-6518-4e17-8ff5-c8fd3d4a5b86.gz.parquet",
         "part-r-00784-ff5bbd4d-6518-4e17-8ff5-c8fd3d4a5b86.gz.parquet",
         6474110
        ],
        [
         "dbfs:/databricks-datasets/wikipedia-datasets/data-001/en_wikipedia/articles-only-parquet/part-r-00785-ff5bbd4d-6518-4e17-8ff5-c8fd3d4a5b86.gz.parquet",
         "part-r-00785-ff5bbd4d-6518-4e17-8ff5-c8fd3d4a5b86.gz.parquet",
         8769909
        ],
        [
         "dbfs:/databricks-datasets/wikipedia-datasets/data-001/en_wikipedia/articles-only-parquet/part-r-00786-ff5bbd4d-6518-4e17-8ff5-c8fd3d4a5b86.gz.parquet",
         "part-r-00786-ff5bbd4d-6518-4e17-8ff5-c8fd3d4a5b86.gz.parquet",
         8302509
        ],
        [
         "dbfs:/databricks-datasets/wikipedia-datasets/data-001/en_wikipedia/articles-only-parquet/part-r-00787-ff5bbd4d-6518-4e17-8ff5-c8fd3d4a5b86.gz.parquet",
         "part-r-00787-ff5bbd4d-6518-4e17-8ff5-c8fd3d4a5b86.gz.parquet",
         7944619
        ],
        [
         "dbfs:/databricks-datasets/wikipedia-datasets/data-001/en_wikipedia/articles-only-parquet/part-r-00788-ff5bbd4d-6518-4e17-8ff5-c8fd3d4a5b86.gz.parquet",
         "part-r-00788-ff5bbd4d-6518-4e17-8ff5-c8fd3d4a5b86.gz.parquet",
         13006924
        ],
        [
         "dbfs:/databricks-datasets/wikipedia-datasets/data-001/en_wikipedia/articles-only-parquet/part-r-00789-ff5bbd4d-6518-4e17-8ff5-c8fd3d4a5b86.gz.parquet",
         "part-r-00789-ff5bbd4d-6518-4e17-8ff5-c8fd3d4a5b86.gz.parquet",
         13327567
        ],
        [
         "dbfs:/databricks-datasets/wikipedia-datasets/data-001/en_wikipedia/articles-only-parquet/part-r-00790-ff5bbd4d-6518-4e17-8ff5-c8fd3d4a5b86.gz.parquet",
         "part-r-00790-ff5bbd4d-6518-4e17-8ff5-c8fd3d4a5b86.gz.parquet",
         12917668
        ],
        [
         "dbfs:/databricks-datasets/wikipedia-datasets/data-001/en_wikipedia/articles-only-parquet/part-r-00791-ff5bbd4d-6518-4e17-8ff5-c8fd3d4a5b86.gz.parquet",
         "part-r-00791-ff5bbd4d-6518-4e17-8ff5-c8fd3d4a5b86.gz.parquet",
         10459637
        ],
        [
         "dbfs:/databricks-datasets/wikipedia-datasets/data-001/en_wikipedia/articles-only-parquet/part-r-00792-ff5bbd4d-6518-4e17-8ff5-c8fd3d4a5b86.gz.parquet",
         "part-r-00792-ff5bbd4d-6518-4e17-8ff5-c8fd3d4a5b86.gz.parquet",
         9764177
        ],
        [
         "dbfs:/databricks-datasets/wikipedia-datasets/data-001/en_wikipedia/articles-only-parquet/part-r-00793-ff5bbd4d-6518-4e17-8ff5-c8fd3d4a5b86.gz.parquet",
         "part-r-00793-ff5bbd4d-6518-4e17-8ff5-c8fd3d4a5b86.gz.parquet",
         13193224
        ],
        [
         "dbfs:/databricks-datasets/wikipedia-datasets/data-001/en_wikipedia/articles-only-parquet/part-r-00794-ff5bbd4d-6518-4e17-8ff5-c8fd3d4a5b86.gz.parquet",
         "part-r-00794-ff5bbd4d-6518-4e17-8ff5-c8fd3d4a5b86.gz.parquet",
         9296802
        ],
        [
         "dbfs:/databricks-datasets/wikipedia-datasets/data-001/en_wikipedia/articles-only-parquet/part-r-00795-ff5bbd4d-6518-4e17-8ff5-c8fd3d4a5b86.gz.parquet",
         "part-r-00795-ff5bbd4d-6518-4e17-8ff5-c8fd3d4a5b86.gz.parquet",
         9839411
        ],
        [
         "dbfs:/databricks-datasets/wikipedia-datasets/data-001/en_wikipedia/articles-only-parquet/part-r-00796-ff5bbd4d-6518-4e17-8ff5-c8fd3d4a5b86.gz.parquet",
         "part-r-00796-ff5bbd4d-6518-4e17-8ff5-c8fd3d4a5b86.gz.parquet",
         9650093
        ],
        [
         "dbfs:/databricks-datasets/wikipedia-datasets/data-001/en_wikipedia/articles-only-parquet/part-r-00797-ff5bbd4d-6518-4e17-8ff5-c8fd3d4a5b86.gz.parquet",
         "part-r-00797-ff5bbd4d-6518-4e17-8ff5-c8fd3d4a5b86.gz.parquet",
         17677968
        ],
        [
         "dbfs:/databricks-datasets/wikipedia-datasets/data-001/en_wikipedia/articles-only-parquet/part-r-00798-ff5bbd4d-6518-4e17-8ff5-c8fd3d4a5b86.gz.parquet",
         "part-r-00798-ff5bbd4d-6518-4e17-8ff5-c8fd3d4a5b86.gz.parquet",
         13688788
        ],
        [
         "dbfs:/databricks-datasets/wikipedia-datasets/data-001/en_wikipedia/articles-only-parquet/part-r-00799-ff5bbd4d-6518-4e17-8ff5-c8fd3d4a5b86.gz.parquet",
         "part-r-00799-ff5bbd4d-6518-4e17-8ff5-c8fd3d4a5b86.gz.parquet",
         20125968
        ],
        [
         "dbfs:/databricks-datasets/wikipedia-datasets/data-001/en_wikipedia/articles-only-parquet/part-r-00800-ff5bbd4d-6518-4e17-8ff5-c8fd3d4a5b86.gz.parquet",
         "part-r-00800-ff5bbd4d-6518-4e17-8ff5-c8fd3d4a5b86.gz.parquet",
         11735676
        ],
        [
         "dbfs:/databricks-datasets/wikipedia-datasets/data-001/en_wikipedia/articles-only-parquet/part-r-00801-ff5bbd4d-6518-4e17-8ff5-c8fd3d4a5b86.gz.parquet",
         "part-r-00801-ff5bbd4d-6518-4e17-8ff5-c8fd3d4a5b86.gz.parquet",
         9916755
        ],
        [
         "dbfs:/databricks-datasets/wikipedia-datasets/data-001/en_wikipedia/articles-only-parquet/part-r-00802-ff5bbd4d-6518-4e17-8ff5-c8fd3d4a5b86.gz.parquet",
         "part-r-00802-ff5bbd4d-6518-4e17-8ff5-c8fd3d4a5b86.gz.parquet",
         8947296
        ],
        [
         "dbfs:/databricks-datasets/wikipedia-datasets/data-001/en_wikipedia/articles-only-parquet/part-r-00803-ff5bbd4d-6518-4e17-8ff5-c8fd3d4a5b86.gz.parquet",
         "part-r-00803-ff5bbd4d-6518-4e17-8ff5-c8fd3d4a5b86.gz.parquet",
         9288956
        ],
        [
         "dbfs:/databricks-datasets/wikipedia-datasets/data-001/en_wikipedia/articles-only-parquet/part-r-00804-ff5bbd4d-6518-4e17-8ff5-c8fd3d4a5b86.gz.parquet",
         "part-r-00804-ff5bbd4d-6518-4e17-8ff5-c8fd3d4a5b86.gz.parquet",
         9867656
        ],
        [
         "dbfs:/databricks-datasets/wikipedia-datasets/data-001/en_wikipedia/articles-only-parquet/part-r-00805-ff5bbd4d-6518-4e17-8ff5-c8fd3d4a5b86.gz.parquet",
         "part-r-00805-ff5bbd4d-6518-4e17-8ff5-c8fd3d4a5b86.gz.parquet",
         8789545
        ],
        [
         "dbfs:/databricks-datasets/wikipedia-datasets/data-001/en_wikipedia/articles-only-parquet/part-r-00806-ff5bbd4d-6518-4e17-8ff5-c8fd3d4a5b86.gz.parquet",
         "part-r-00806-ff5bbd4d-6518-4e17-8ff5-c8fd3d4a5b86.gz.parquet",
         8799384
        ],
        [
         "dbfs:/databricks-datasets/wikipedia-datasets/data-001/en_wikipedia/articles-only-parquet/part-r-00807-ff5bbd4d-6518-4e17-8ff5-c8fd3d4a5b86.gz.parquet",
         "part-r-00807-ff5bbd4d-6518-4e17-8ff5-c8fd3d4a5b86.gz.parquet",
         8325379
        ],
        [
         "dbfs:/databricks-datasets/wikipedia-datasets/data-001/en_wikipedia/articles-only-parquet/part-r-00808-ff5bbd4d-6518-4e17-8ff5-c8fd3d4a5b86.gz.parquet",
         "part-r-00808-ff5bbd4d-6518-4e17-8ff5-c8fd3d4a5b86.gz.parquet",
         10389724
        ],
        [
         "dbfs:/databricks-datasets/wikipedia-datasets/data-001/en_wikipedia/articles-only-parquet/part-r-00809-ff5bbd4d-6518-4e17-8ff5-c8fd3d4a5b86.gz.parquet",
         "part-r-00809-ff5bbd4d-6518-4e17-8ff5-c8fd3d4a5b86.gz.parquet",
         8797887
        ],
        [
         "dbfs:/databricks-datasets/wikipedia-datasets/data-001/en_wikipedia/articles-only-parquet/part-r-00810-ff5bbd4d-6518-4e17-8ff5-c8fd3d4a5b86.gz.parquet",
         "part-r-00810-ff5bbd4d-6518-4e17-8ff5-c8fd3d4a5b86.gz.parquet",
         8797508
        ],
        [
         "dbfs:/databricks-datasets/wikipedia-datasets/data-001/en_wikipedia/articles-only-parquet/part-r-00811-ff5bbd4d-6518-4e17-8ff5-c8fd3d4a5b86.gz.parquet",
         "part-r-00811-ff5bbd4d-6518-4e17-8ff5-c8fd3d4a5b86.gz.parquet",
         6977979
        ],
        [
         "dbfs:/databricks-datasets/wikipedia-datasets/data-001/en_wikipedia/articles-only-parquet/part-r-00812-ff5bbd4d-6518-4e17-8ff5-c8fd3d4a5b86.gz.parquet",
         "part-r-00812-ff5bbd4d-6518-4e17-8ff5-c8fd3d4a5b86.gz.parquet",
         9817289
        ],
        [
         "dbfs:/databricks-datasets/wikipedia-datasets/data-001/en_wikipedia/articles-only-parquet/part-r-00813-ff5bbd4d-6518-4e17-8ff5-c8fd3d4a5b86.gz.parquet",
         "part-r-00813-ff5bbd4d-6518-4e17-8ff5-c8fd3d4a5b86.gz.parquet",
         8457752
        ],
        [
         "dbfs:/databricks-datasets/wikipedia-datasets/data-001/en_wikipedia/articles-only-parquet/part-r-00814-ff5bbd4d-6518-4e17-8ff5-c8fd3d4a5b86.gz.parquet",
         "part-r-00814-ff5bbd4d-6518-4e17-8ff5-c8fd3d4a5b86.gz.parquet",
         9396497
        ],
        [
         "dbfs:/databricks-datasets/wikipedia-datasets/data-001/en_wikipedia/articles-only-parquet/part-r-00815-ff5bbd4d-6518-4e17-8ff5-c8fd3d4a5b86.gz.parquet",
         "part-r-00815-ff5bbd4d-6518-4e17-8ff5-c8fd3d4a5b86.gz.parquet",
         8233626
        ],
        [
         "dbfs:/databricks-datasets/wikipedia-datasets/data-001/en_wikipedia/articles-only-parquet/part-r-00816-ff5bbd4d-6518-4e17-8ff5-c8fd3d4a5b86.gz.parquet",
         "part-r-00816-ff5bbd4d-6518-4e17-8ff5-c8fd3d4a5b86.gz.parquet",
         15842623
        ],
        [
         "dbfs:/databricks-datasets/wikipedia-datasets/data-001/en_wikipedia/articles-only-parquet/part-r-00817-ff5bbd4d-6518-4e17-8ff5-c8fd3d4a5b86.gz.parquet",
         "part-r-00817-ff5bbd4d-6518-4e17-8ff5-c8fd3d4a5b86.gz.parquet",
         9822010
        ],
        [
         "dbfs:/databricks-datasets/wikipedia-datasets/data-001/en_wikipedia/articles-only-parquet/part-r-00818-ff5bbd4d-6518-4e17-8ff5-c8fd3d4a5b86.gz.parquet",
         "part-r-00818-ff5bbd4d-6518-4e17-8ff5-c8fd3d4a5b86.gz.parquet",
         9580361
        ],
        [
         "dbfs:/databricks-datasets/wikipedia-datasets/data-001/en_wikipedia/articles-only-parquet/part-r-00819-ff5bbd4d-6518-4e17-8ff5-c8fd3d4a5b86.gz.parquet",
         "part-r-00819-ff5bbd4d-6518-4e17-8ff5-c8fd3d4a5b86.gz.parquet",
         9723748
        ],
        [
         "dbfs:/databricks-datasets/wikipedia-datasets/data-001/en_wikipedia/articles-only-parquet/part-r-00820-ff5bbd4d-6518-4e17-8ff5-c8fd3d4a5b86.gz.parquet",
         "part-r-00820-ff5bbd4d-6518-4e17-8ff5-c8fd3d4a5b86.gz.parquet",
         8370359
        ],
        [
         "dbfs:/databricks-datasets/wikipedia-datasets/data-001/en_wikipedia/articles-only-parquet/part-r-00821-ff5bbd4d-6518-4e17-8ff5-c8fd3d4a5b86.gz.parquet",
         "part-r-00821-ff5bbd4d-6518-4e17-8ff5-c8fd3d4a5b86.gz.parquet",
         21107830
        ],
        [
         "dbfs:/databricks-datasets/wikipedia-datasets/data-001/en_wikipedia/articles-only-parquet/part-r-00822-ff5bbd4d-6518-4e17-8ff5-c8fd3d4a5b86.gz.parquet",
         "part-r-00822-ff5bbd4d-6518-4e17-8ff5-c8fd3d4a5b86.gz.parquet",
         8991066
        ],
        [
         "dbfs:/databricks-datasets/wikipedia-datasets/data-001/en_wikipedia/articles-only-parquet/part-r-00823-ff5bbd4d-6518-4e17-8ff5-c8fd3d4a5b86.gz.parquet",
         "part-r-00823-ff5bbd4d-6518-4e17-8ff5-c8fd3d4a5b86.gz.parquet",
         10189793
        ],
        [
         "dbfs:/databricks-datasets/wikipedia-datasets/data-001/en_wikipedia/articles-only-parquet/part-r-00824-ff5bbd4d-6518-4e17-8ff5-c8fd3d4a5b86.gz.parquet",
         "part-r-00824-ff5bbd4d-6518-4e17-8ff5-c8fd3d4a5b86.gz.parquet",
         8667928
        ],
        [
         "dbfs:/databricks-datasets/wikipedia-datasets/data-001/en_wikipedia/articles-only-parquet/part-r-00825-ff5bbd4d-6518-4e17-8ff5-c8fd3d4a5b86.gz.parquet",
         "part-r-00825-ff5bbd4d-6518-4e17-8ff5-c8fd3d4a5b86.gz.parquet",
         9076365
        ],
        [
         "dbfs:/databricks-datasets/wikipedia-datasets/data-001/en_wikipedia/articles-only-parquet/part-r-00826-ff5bbd4d-6518-4e17-8ff5-c8fd3d4a5b86.gz.parquet",
         "part-r-00826-ff5bbd4d-6518-4e17-8ff5-c8fd3d4a5b86.gz.parquet",
         7242801
        ],
        [
         "dbfs:/databricks-datasets/wikipedia-datasets/data-001/en_wikipedia/articles-only-parquet/part-r-00827-ff5bbd4d-6518-4e17-8ff5-c8fd3d4a5b86.gz.parquet",
         "part-r-00827-ff5bbd4d-6518-4e17-8ff5-c8fd3d4a5b86.gz.parquet",
         8655807
        ],
        [
         "dbfs:/databricks-datasets/wikipedia-datasets/data-001/en_wikipedia/articles-only-parquet/part-r-00828-ff5bbd4d-6518-4e17-8ff5-c8fd3d4a5b86.gz.parquet",
         "part-r-00828-ff5bbd4d-6518-4e17-8ff5-c8fd3d4a5b86.gz.parquet",
         8991676
        ],
        [
         "dbfs:/databricks-datasets/wikipedia-datasets/data-001/en_wikipedia/articles-only-parquet/part-r-00829-ff5bbd4d-6518-4e17-8ff5-c8fd3d4a5b86.gz.parquet",
         "part-r-00829-ff5bbd4d-6518-4e17-8ff5-c8fd3d4a5b86.gz.parquet",
         11570002
        ],
        [
         "dbfs:/databricks-datasets/wikipedia-datasets/data-001/en_wikipedia/articles-only-parquet/part-r-00830-ff5bbd4d-6518-4e17-8ff5-c8fd3d4a5b86.gz.parquet",
         "part-r-00830-ff5bbd4d-6518-4e17-8ff5-c8fd3d4a5b86.gz.parquet",
         5777707
        ],
        [
         "dbfs:/databricks-datasets/wikipedia-datasets/data-001/en_wikipedia/articles-only-parquet/part-r-00831-ff5bbd4d-6518-4e17-8ff5-c8fd3d4a5b86.gz.parquet",
         "part-r-00831-ff5bbd4d-6518-4e17-8ff5-c8fd3d4a5b86.gz.parquet",
         9755030
        ],
        [
         "dbfs:/databricks-datasets/wikipedia-datasets/data-001/en_wikipedia/articles-only-parquet/part-r-00832-ff5bbd4d-6518-4e17-8ff5-c8fd3d4a5b86.gz.parquet",
         "part-r-00832-ff5bbd4d-6518-4e17-8ff5-c8fd3d4a5b86.gz.parquet",
         8830888
        ],
        [
         "dbfs:/databricks-datasets/wikipedia-datasets/data-001/en_wikipedia/articles-only-parquet/part-r-00833-ff5bbd4d-6518-4e17-8ff5-c8fd3d4a5b86.gz.parquet",
         "part-r-00833-ff5bbd4d-6518-4e17-8ff5-c8fd3d4a5b86.gz.parquet",
         8785425
        ],
        [
         "dbfs:/databricks-datasets/wikipedia-datasets/data-001/en_wikipedia/articles-only-parquet/part-r-00834-ff5bbd4d-6518-4e17-8ff5-c8fd3d4a5b86.gz.parquet",
         "part-r-00834-ff5bbd4d-6518-4e17-8ff5-c8fd3d4a5b86.gz.parquet",
         16711756
        ],
        [
         "dbfs:/databricks-datasets/wikipedia-datasets/data-001/en_wikipedia/articles-only-parquet/part-r-00835-ff5bbd4d-6518-4e17-8ff5-c8fd3d4a5b86.gz.parquet",
         "part-r-00835-ff5bbd4d-6518-4e17-8ff5-c8fd3d4a5b86.gz.parquet",
         8169174
        ],
        [
         "dbfs:/databricks-datasets/wikipedia-datasets/data-001/en_wikipedia/articles-only-parquet/part-r-00836-ff5bbd4d-6518-4e17-8ff5-c8fd3d4a5b86.gz.parquet",
         "part-r-00836-ff5bbd4d-6518-4e17-8ff5-c8fd3d4a5b86.gz.parquet",
         9333239
        ],
        [
         "dbfs:/databricks-datasets/wikipedia-datasets/data-001/en_wikipedia/articles-only-parquet/part-r-00837-ff5bbd4d-6518-4e17-8ff5-c8fd3d4a5b86.gz.parquet",
         "part-r-00837-ff5bbd4d-6518-4e17-8ff5-c8fd3d4a5b86.gz.parquet",
         8081753
        ],
        [
         "dbfs:/databricks-datasets/wikipedia-datasets/data-001/en_wikipedia/articles-only-parquet/part-r-00838-ff5bbd4d-6518-4e17-8ff5-c8fd3d4a5b86.gz.parquet",
         "part-r-00838-ff5bbd4d-6518-4e17-8ff5-c8fd3d4a5b86.gz.parquet",
         9588115
        ],
        [
         "dbfs:/databricks-datasets/wikipedia-datasets/data-001/en_wikipedia/articles-only-parquet/part-r-00839-ff5bbd4d-6518-4e17-8ff5-c8fd3d4a5b86.gz.parquet",
         "part-r-00839-ff5bbd4d-6518-4e17-8ff5-c8fd3d4a5b86.gz.parquet",
         9430156
        ],
        [
         "dbfs:/databricks-datasets/wikipedia-datasets/data-001/en_wikipedia/articles-only-parquet/part-r-00840-ff5bbd4d-6518-4e17-8ff5-c8fd3d4a5b86.gz.parquet",
         "part-r-00840-ff5bbd4d-6518-4e17-8ff5-c8fd3d4a5b86.gz.parquet",
         13236419
        ],
        [
         "dbfs:/databricks-datasets/wikipedia-datasets/data-001/en_wikipedia/articles-only-parquet/part-r-00841-ff5bbd4d-6518-4e17-8ff5-c8fd3d4a5b86.gz.parquet",
         "part-r-00841-ff5bbd4d-6518-4e17-8ff5-c8fd3d4a5b86.gz.parquet",
         8332919
        ],
        [
         "dbfs:/databricks-datasets/wikipedia-datasets/data-001/en_wikipedia/articles-only-parquet/part-r-00842-ff5bbd4d-6518-4e17-8ff5-c8fd3d4a5b86.gz.parquet",
         "part-r-00842-ff5bbd4d-6518-4e17-8ff5-c8fd3d4a5b86.gz.parquet",
         9449042
        ],
        [
         "dbfs:/databricks-datasets/wikipedia-datasets/data-001/en_wikipedia/articles-only-parquet/part-r-00843-ff5bbd4d-6518-4e17-8ff5-c8fd3d4a5b86.gz.parquet",
         "part-r-00843-ff5bbd4d-6518-4e17-8ff5-c8fd3d4a5b86.gz.parquet",
         14349967
        ],
        [
         "dbfs:/databricks-datasets/wikipedia-datasets/data-001/en_wikipedia/articles-only-parquet/part-r-00844-ff5bbd4d-6518-4e17-8ff5-c8fd3d4a5b86.gz.parquet",
         "part-r-00844-ff5bbd4d-6518-4e17-8ff5-c8fd3d4a5b86.gz.parquet",
         11536265
        ],
        [
         "dbfs:/databricks-datasets/wikipedia-datasets/data-001/en_wikipedia/articles-only-parquet/part-r-00845-ff5bbd4d-6518-4e17-8ff5-c8fd3d4a5b86.gz.parquet",
         "part-r-00845-ff5bbd4d-6518-4e17-8ff5-c8fd3d4a5b86.gz.parquet",
         8384667
        ],
        [
         "dbfs:/databricks-datasets/wikipedia-datasets/data-001/en_wikipedia/articles-only-parquet/part-r-00846-ff5bbd4d-6518-4e17-8ff5-c8fd3d4a5b86.gz.parquet",
         "part-r-00846-ff5bbd4d-6518-4e17-8ff5-c8fd3d4a5b86.gz.parquet",
         12256793
        ],
        [
         "dbfs:/databricks-datasets/wikipedia-datasets/data-001/en_wikipedia/articles-only-parquet/part-r-00847-ff5bbd4d-6518-4e17-8ff5-c8fd3d4a5b86.gz.parquet",
         "part-r-00847-ff5bbd4d-6518-4e17-8ff5-c8fd3d4a5b86.gz.parquet",
         8483057
        ],
        [
         "dbfs:/databricks-datasets/wikipedia-datasets/data-001/en_wikipedia/articles-only-parquet/part-r-00848-ff5bbd4d-6518-4e17-8ff5-c8fd3d4a5b86.gz.parquet",
         "part-r-00848-ff5bbd4d-6518-4e17-8ff5-c8fd3d4a5b86.gz.parquet",
         9824687
        ],
        [
         "dbfs:/databricks-datasets/wikipedia-datasets/data-001/en_wikipedia/articles-only-parquet/part-r-00849-ff5bbd4d-6518-4e17-8ff5-c8fd3d4a5b86.gz.parquet",
         "part-r-00849-ff5bbd4d-6518-4e17-8ff5-c8fd3d4a5b86.gz.parquet",
         7042034
        ],
        [
         "dbfs:/databricks-datasets/wikipedia-datasets/data-001/en_wikipedia/articles-only-parquet/part-r-00850-ff5bbd4d-6518-4e17-8ff5-c8fd3d4a5b86.gz.parquet",
         "part-r-00850-ff5bbd4d-6518-4e17-8ff5-c8fd3d4a5b86.gz.parquet",
         7076953
        ],
        [
         "dbfs:/databricks-datasets/wikipedia-datasets/data-001/en_wikipedia/articles-only-parquet/part-r-00851-ff5bbd4d-6518-4e17-8ff5-c8fd3d4a5b86.gz.parquet",
         "part-r-00851-ff5bbd4d-6518-4e17-8ff5-c8fd3d4a5b86.gz.parquet",
         9401419
        ],
        [
         "dbfs:/databricks-datasets/wikipedia-datasets/data-001/en_wikipedia/articles-only-parquet/part-r-00852-ff5bbd4d-6518-4e17-8ff5-c8fd3d4a5b86.gz.parquet",
         "part-r-00852-ff5bbd4d-6518-4e17-8ff5-c8fd3d4a5b86.gz.parquet",
         5092583
        ],
        [
         "dbfs:/databricks-datasets/wikipedia-datasets/data-001/en_wikipedia/articles-only-parquet/part-r-00853-ff5bbd4d-6518-4e17-8ff5-c8fd3d4a5b86.gz.parquet",
         "part-r-00853-ff5bbd4d-6518-4e17-8ff5-c8fd3d4a5b86.gz.parquet",
         10393898
        ],
        [
         "dbfs:/databricks-datasets/wikipedia-datasets/data-001/en_wikipedia/articles-only-parquet/part-r-00854-ff5bbd4d-6518-4e17-8ff5-c8fd3d4a5b86.gz.parquet",
         "part-r-00854-ff5bbd4d-6518-4e17-8ff5-c8fd3d4a5b86.gz.parquet",
         8338904
        ],
        [
         "dbfs:/databricks-datasets/wikipedia-datasets/data-001/en_wikipedia/articles-only-parquet/part-r-00855-ff5bbd4d-6518-4e17-8ff5-c8fd3d4a5b86.gz.parquet",
         "part-r-00855-ff5bbd4d-6518-4e17-8ff5-c8fd3d4a5b86.gz.parquet",
         8548129
        ],
        [
         "dbfs:/databricks-datasets/wikipedia-datasets/data-001/en_wikipedia/articles-only-parquet/part-r-00856-ff5bbd4d-6518-4e17-8ff5-c8fd3d4a5b86.gz.parquet",
         "part-r-00856-ff5bbd4d-6518-4e17-8ff5-c8fd3d4a5b86.gz.parquet",
         9293057
        ],
        [
         "dbfs:/databricks-datasets/wikipedia-datasets/data-001/en_wikipedia/articles-only-parquet/part-r-00857-ff5bbd4d-6518-4e17-8ff5-c8fd3d4a5b86.gz.parquet",
         "part-r-00857-ff5bbd4d-6518-4e17-8ff5-c8fd3d4a5b86.gz.parquet",
         8614672
        ],
        [
         "dbfs:/databricks-datasets/wikipedia-datasets/data-001/en_wikipedia/articles-only-parquet/part-r-00858-ff5bbd4d-6518-4e17-8ff5-c8fd3d4a5b86.gz.parquet",
         "part-r-00858-ff5bbd4d-6518-4e17-8ff5-c8fd3d4a5b86.gz.parquet",
         8718912
        ],
        [
         "dbfs:/databricks-datasets/wikipedia-datasets/data-001/en_wikipedia/articles-only-parquet/part-r-00859-ff5bbd4d-6518-4e17-8ff5-c8fd3d4a5b86.gz.parquet",
         "part-r-00859-ff5bbd4d-6518-4e17-8ff5-c8fd3d4a5b86.gz.parquet",
         16582974
        ],
        [
         "dbfs:/databricks-datasets/wikipedia-datasets/data-001/en_wikipedia/articles-only-parquet/part-r-00860-ff5bbd4d-6518-4e17-8ff5-c8fd3d4a5b86.gz.parquet",
         "part-r-00860-ff5bbd4d-6518-4e17-8ff5-c8fd3d4a5b86.gz.parquet",
         17901283
        ],
        [
         "dbfs:/databricks-datasets/wikipedia-datasets/data-001/en_wikipedia/articles-only-parquet/part-r-00861-ff5bbd4d-6518-4e17-8ff5-c8fd3d4a5b86.gz.parquet",
         "part-r-00861-ff5bbd4d-6518-4e17-8ff5-c8fd3d4a5b86.gz.parquet",
         6889203
        ],
        [
         "dbfs:/databricks-datasets/wikipedia-datasets/data-001/en_wikipedia/articles-only-parquet/part-r-00862-ff5bbd4d-6518-4e17-8ff5-c8fd3d4a5b86.gz.parquet",
         "part-r-00862-ff5bbd4d-6518-4e17-8ff5-c8fd3d4a5b86.gz.parquet",
         11999988
        ],
        [
         "dbfs:/databricks-datasets/wikipedia-datasets/data-001/en_wikipedia/articles-only-parquet/part-r-00863-ff5bbd4d-6518-4e17-8ff5-c8fd3d4a5b86.gz.parquet",
         "part-r-00863-ff5bbd4d-6518-4e17-8ff5-c8fd3d4a5b86.gz.parquet",
         10504748
        ],
        [
         "dbfs:/databricks-datasets/wikipedia-datasets/data-001/en_wikipedia/articles-only-parquet/part-r-00864-ff5bbd4d-6518-4e17-8ff5-c8fd3d4a5b86.gz.parquet",
         "part-r-00864-ff5bbd4d-6518-4e17-8ff5-c8fd3d4a5b86.gz.parquet",
         9764326
        ],
        [
         "dbfs:/databricks-datasets/wikipedia-datasets/data-001/en_wikipedia/articles-only-parquet/part-r-00865-ff5bbd4d-6518-4e17-8ff5-c8fd3d4a5b86.gz.parquet",
         "part-r-00865-ff5bbd4d-6518-4e17-8ff5-c8fd3d4a5b86.gz.parquet",
         16722144
        ],
        [
         "dbfs:/databricks-datasets/wikipedia-datasets/data-001/en_wikipedia/articles-only-parquet/part-r-00866-ff5bbd4d-6518-4e17-8ff5-c8fd3d4a5b86.gz.parquet",
         "part-r-00866-ff5bbd4d-6518-4e17-8ff5-c8fd3d4a5b86.gz.parquet",
         9662666
        ],
        [
         "dbfs:/databricks-datasets/wikipedia-datasets/data-001/en_wikipedia/articles-only-parquet/part-r-00867-ff5bbd4d-6518-4e17-8ff5-c8fd3d4a5b86.gz.parquet",
         "part-r-00867-ff5bbd4d-6518-4e17-8ff5-c8fd3d4a5b86.gz.parquet",
         8341698
        ],
        [
         "dbfs:/databricks-datasets/wikipedia-datasets/data-001/en_wikipedia/articles-only-parquet/part-r-00868-ff5bbd4d-6518-4e17-8ff5-c8fd3d4a5b86.gz.parquet",
         "part-r-00868-ff5bbd4d-6518-4e17-8ff5-c8fd3d4a5b86.gz.parquet",
         9733992
        ],
        [
         "dbfs:/databricks-datasets/wikipedia-datasets/data-001/en_wikipedia/articles-only-parquet/part-r-00869-ff5bbd4d-6518-4e17-8ff5-c8fd3d4a5b86.gz.parquet",
         "part-r-00869-ff5bbd4d-6518-4e17-8ff5-c8fd3d4a5b86.gz.parquet",
         10099080
        ],
        [
         "dbfs:/databricks-datasets/wikipedia-datasets/data-001/en_wikipedia/articles-only-parquet/part-r-00870-ff5bbd4d-6518-4e17-8ff5-c8fd3d4a5b86.gz.parquet",
         "part-r-00870-ff5bbd4d-6518-4e17-8ff5-c8fd3d4a5b86.gz.parquet",
         8705538
        ],
        [
         "dbfs:/databricks-datasets/wikipedia-datasets/data-001/en_wikipedia/articles-only-parquet/part-r-00871-ff5bbd4d-6518-4e17-8ff5-c8fd3d4a5b86.gz.parquet",
         "part-r-00871-ff5bbd4d-6518-4e17-8ff5-c8fd3d4a5b86.gz.parquet",
         8091980
        ],
        [
         "dbfs:/databricks-datasets/wikipedia-datasets/data-001/en_wikipedia/articles-only-parquet/part-r-00872-ff5bbd4d-6518-4e17-8ff5-c8fd3d4a5b86.gz.parquet",
         "part-r-00872-ff5bbd4d-6518-4e17-8ff5-c8fd3d4a5b86.gz.parquet",
         9379410
        ],
        [
         "dbfs:/databricks-datasets/wikipedia-datasets/data-001/en_wikipedia/articles-only-parquet/part-r-00873-ff5bbd4d-6518-4e17-8ff5-c8fd3d4a5b86.gz.parquet",
         "part-r-00873-ff5bbd4d-6518-4e17-8ff5-c8fd3d4a5b86.gz.parquet",
         8689641
        ],
        [
         "dbfs:/databricks-datasets/wikipedia-datasets/data-001/en_wikipedia/articles-only-parquet/part-r-00874-ff5bbd4d-6518-4e17-8ff5-c8fd3d4a5b86.gz.parquet",
         "part-r-00874-ff5bbd4d-6518-4e17-8ff5-c8fd3d4a5b86.gz.parquet",
         10658639
        ],
        [
         "dbfs:/databricks-datasets/wikipedia-datasets/data-001/en_wikipedia/articles-only-parquet/part-r-00875-ff5bbd4d-6518-4e17-8ff5-c8fd3d4a5b86.gz.parquet",
         "part-r-00875-ff5bbd4d-6518-4e17-8ff5-c8fd3d4a5b86.gz.parquet",
         9749060
        ],
        [
         "dbfs:/databricks-datasets/wikipedia-datasets/data-001/en_wikipedia/articles-only-parquet/part-r-00876-ff5bbd4d-6518-4e17-8ff5-c8fd3d4a5b86.gz.parquet",
         "part-r-00876-ff5bbd4d-6518-4e17-8ff5-c8fd3d4a5b86.gz.parquet",
         9401467
        ],
        [
         "dbfs:/databricks-datasets/wikipedia-datasets/data-001/en_wikipedia/articles-only-parquet/part-r-00877-ff5bbd4d-6518-4e17-8ff5-c8fd3d4a5b86.gz.parquet",
         "part-r-00877-ff5bbd4d-6518-4e17-8ff5-c8fd3d4a5b86.gz.parquet",
         13242343
        ],
        [
         "dbfs:/databricks-datasets/wikipedia-datasets/data-001/en_wikipedia/articles-only-parquet/part-r-00878-ff5bbd4d-6518-4e17-8ff5-c8fd3d4a5b86.gz.parquet",
         "part-r-00878-ff5bbd4d-6518-4e17-8ff5-c8fd3d4a5b86.gz.parquet",
         9780680
        ],
        [
         "dbfs:/databricks-datasets/wikipedia-datasets/data-001/en_wikipedia/articles-only-parquet/part-r-00879-ff5bbd4d-6518-4e17-8ff5-c8fd3d4a5b86.gz.parquet",
         "part-r-00879-ff5bbd4d-6518-4e17-8ff5-c8fd3d4a5b86.gz.parquet",
         9018696
        ],
        [
         "dbfs:/databricks-datasets/wikipedia-datasets/data-001/en_wikipedia/articles-only-parquet/part-r-00880-ff5bbd4d-6518-4e17-8ff5-c8fd3d4a5b86.gz.parquet",
         "part-r-00880-ff5bbd4d-6518-4e17-8ff5-c8fd3d4a5b86.gz.parquet",
         11301817
        ],
        [
         "dbfs:/databricks-datasets/wikipedia-datasets/data-001/en_wikipedia/articles-only-parquet/part-r-00881-ff5bbd4d-6518-4e17-8ff5-c8fd3d4a5b86.gz.parquet",
         "part-r-00881-ff5bbd4d-6518-4e17-8ff5-c8fd3d4a5b86.gz.parquet",
         10027265
        ],
        [
         "dbfs:/databricks-datasets/wikipedia-datasets/data-001/en_wikipedia/articles-only-parquet/part-r-00882-ff5bbd4d-6518-4e17-8ff5-c8fd3d4a5b86.gz.parquet",
         "part-r-00882-ff5bbd4d-6518-4e17-8ff5-c8fd3d4a5b86.gz.parquet",
         18071904
        ],
        [
         "dbfs:/databricks-datasets/wikipedia-datasets/data-001/en_wikipedia/articles-only-parquet/part-r-00883-ff5bbd4d-6518-4e17-8ff5-c8fd3d4a5b86.gz.parquet",
         "part-r-00883-ff5bbd4d-6518-4e17-8ff5-c8fd3d4a5b86.gz.parquet",
         8862976
        ],
        [
         "dbfs:/databricks-datasets/wikipedia-datasets/data-001/en_wikipedia/articles-only-parquet/part-r-00884-ff5bbd4d-6518-4e17-8ff5-c8fd3d4a5b86.gz.parquet",
         "part-r-00884-ff5bbd4d-6518-4e17-8ff5-c8fd3d4a5b86.gz.parquet",
         9998800
        ],
        [
         "dbfs:/databricks-datasets/wikipedia-datasets/data-001/en_wikipedia/articles-only-parquet/part-r-00885-ff5bbd4d-6518-4e17-8ff5-c8fd3d4a5b86.gz.parquet",
         "part-r-00885-ff5bbd4d-6518-4e17-8ff5-c8fd3d4a5b86.gz.parquet",
         10001726
        ],
        [
         "dbfs:/databricks-datasets/wikipedia-datasets/data-001/en_wikipedia/articles-only-parquet/part-r-00886-ff5bbd4d-6518-4e17-8ff5-c8fd3d4a5b86.gz.parquet",
         "part-r-00886-ff5bbd4d-6518-4e17-8ff5-c8fd3d4a5b86.gz.parquet",
         10306960
        ],
        [
         "dbfs:/databricks-datasets/wikipedia-datasets/data-001/en_wikipedia/articles-only-parquet/part-r-00887-ff5bbd4d-6518-4e17-8ff5-c8fd3d4a5b86.gz.parquet",
         "part-r-00887-ff5bbd4d-6518-4e17-8ff5-c8fd3d4a5b86.gz.parquet",
         6784378
        ],
        [
         "dbfs:/databricks-datasets/wikipedia-datasets/data-001/en_wikipedia/articles-only-parquet/part-r-00888-ff5bbd4d-6518-4e17-8ff5-c8fd3d4a5b86.gz.parquet",
         "part-r-00888-ff5bbd4d-6518-4e17-8ff5-c8fd3d4a5b86.gz.parquet",
         8662266
        ],
        [
         "dbfs:/databricks-datasets/wikipedia-datasets/data-001/en_wikipedia/articles-only-parquet/part-r-00889-ff5bbd4d-6518-4e17-8ff5-c8fd3d4a5b86.gz.parquet",
         "part-r-00889-ff5bbd4d-6518-4e17-8ff5-c8fd3d4a5b86.gz.parquet",
         8384184
        ],
        [
         "dbfs:/databricks-datasets/wikipedia-datasets/data-001/en_wikipedia/articles-only-parquet/part-r-00890-ff5bbd4d-6518-4e17-8ff5-c8fd3d4a5b86.gz.parquet",
         "part-r-00890-ff5bbd4d-6518-4e17-8ff5-c8fd3d4a5b86.gz.parquet",
         8190136
        ],
        [
         "dbfs:/databricks-datasets/wikipedia-datasets/data-001/en_wikipedia/articles-only-parquet/part-r-00891-ff5bbd4d-6518-4e17-8ff5-c8fd3d4a5b86.gz.parquet",
         "part-r-00891-ff5bbd4d-6518-4e17-8ff5-c8fd3d4a5b86.gz.parquet",
         15614300
        ],
        [
         "dbfs:/databricks-datasets/wikipedia-datasets/data-001/en_wikipedia/articles-only-parquet/part-r-00892-ff5bbd4d-6518-4e17-8ff5-c8fd3d4a5b86.gz.parquet",
         "part-r-00892-ff5bbd4d-6518-4e17-8ff5-c8fd3d4a5b86.gz.parquet",
         9480212
        ],
        [
         "dbfs:/databricks-datasets/wikipedia-datasets/data-001/en_wikipedia/articles-only-parquet/part-r-00893-ff5bbd4d-6518-4e17-8ff5-c8fd3d4a5b86.gz.parquet",
         "part-r-00893-ff5bbd4d-6518-4e17-8ff5-c8fd3d4a5b86.gz.parquet",
         7017229
        ],
        [
         "dbfs:/databricks-datasets/wikipedia-datasets/data-001/en_wikipedia/articles-only-parquet/part-r-00894-ff5bbd4d-6518-4e17-8ff5-c8fd3d4a5b86.gz.parquet",
         "part-r-00894-ff5bbd4d-6518-4e17-8ff5-c8fd3d4a5b86.gz.parquet",
         17373857
        ],
        [
         "dbfs:/databricks-datasets/wikipedia-datasets/data-001/en_wikipedia/articles-only-parquet/part-r-00895-ff5bbd4d-6518-4e17-8ff5-c8fd3d4a5b86.gz.parquet",
         "part-r-00895-ff5bbd4d-6518-4e17-8ff5-c8fd3d4a5b86.gz.parquet",
         14767564
        ],
        [
         "dbfs:/databricks-datasets/wikipedia-datasets/data-001/en_wikipedia/articles-only-parquet/part-r-00896-ff5bbd4d-6518-4e17-8ff5-c8fd3d4a5b86.gz.parquet",
         "part-r-00896-ff5bbd4d-6518-4e17-8ff5-c8fd3d4a5b86.gz.parquet",
         11679693
        ],
        [
         "dbfs:/databricks-datasets/wikipedia-datasets/data-001/en_wikipedia/articles-only-parquet/part-r-00897-ff5bbd4d-6518-4e17-8ff5-c8fd3d4a5b86.gz.parquet",
         "part-r-00897-ff5bbd4d-6518-4e17-8ff5-c8fd3d4a5b86.gz.parquet",
         16382817
        ],
        [
         "dbfs:/databricks-datasets/wikipedia-datasets/data-001/en_wikipedia/articles-only-parquet/part-r-00898-ff5bbd4d-6518-4e17-8ff5-c8fd3d4a5b86.gz.parquet",
         "part-r-00898-ff5bbd4d-6518-4e17-8ff5-c8fd3d4a5b86.gz.parquet",
         13168949
        ],
        [
         "dbfs:/databricks-datasets/wikipedia-datasets/data-001/en_wikipedia/articles-only-parquet/part-r-00899-ff5bbd4d-6518-4e17-8ff5-c8fd3d4a5b86.gz.parquet",
         "part-r-00899-ff5bbd4d-6518-4e17-8ff5-c8fd3d4a5b86.gz.parquet",
         4087210
        ],
        [
         "dbfs:/databricks-datasets/wikipedia-datasets/data-001/en_wikipedia/articles-only-parquet/part-r-00900-ff5bbd4d-6518-4e17-8ff5-c8fd3d4a5b86.gz.parquet",
         "part-r-00900-ff5bbd4d-6518-4e17-8ff5-c8fd3d4a5b86.gz.parquet",
         8769829
        ],
        [
         "dbfs:/databricks-datasets/wikipedia-datasets/data-001/en_wikipedia/articles-only-parquet/part-r-00901-ff5bbd4d-6518-4e17-8ff5-c8fd3d4a5b86.gz.parquet",
         "part-r-00901-ff5bbd4d-6518-4e17-8ff5-c8fd3d4a5b86.gz.parquet",
         9653183
        ],
        [
         "dbfs:/databricks-datasets/wikipedia-datasets/data-001/en_wikipedia/articles-only-parquet/part-r-00902-ff5bbd4d-6518-4e17-8ff5-c8fd3d4a5b86.gz.parquet",
         "part-r-00902-ff5bbd4d-6518-4e17-8ff5-c8fd3d4a5b86.gz.parquet",
         8602612
        ],
        [
         "dbfs:/databricks-datasets/wikipedia-datasets/data-001/en_wikipedia/articles-only-parquet/part-r-00903-ff5bbd4d-6518-4e17-8ff5-c8fd3d4a5b86.gz.parquet",
         "part-r-00903-ff5bbd4d-6518-4e17-8ff5-c8fd3d4a5b86.gz.parquet",
         8220093
        ],
        [
         "dbfs:/databricks-datasets/wikipedia-datasets/data-001/en_wikipedia/articles-only-parquet/part-r-00904-ff5bbd4d-6518-4e17-8ff5-c8fd3d4a5b86.gz.parquet",
         "part-r-00904-ff5bbd4d-6518-4e17-8ff5-c8fd3d4a5b86.gz.parquet",
         8939768
        ],
        [
         "dbfs:/databricks-datasets/wikipedia-datasets/data-001/en_wikipedia/articles-only-parquet/part-r-00905-ff5bbd4d-6518-4e17-8ff5-c8fd3d4a5b86.gz.parquet",
         "part-r-00905-ff5bbd4d-6518-4e17-8ff5-c8fd3d4a5b86.gz.parquet",
         10479588
        ],
        [
         "dbfs:/databricks-datasets/wikipedia-datasets/data-001/en_wikipedia/articles-only-parquet/part-r-00906-ff5bbd4d-6518-4e17-8ff5-c8fd3d4a5b86.gz.parquet",
         "part-r-00906-ff5bbd4d-6518-4e17-8ff5-c8fd3d4a5b86.gz.parquet",
         8454930
        ],
        [
         "dbfs:/databricks-datasets/wikipedia-datasets/data-001/en_wikipedia/articles-only-parquet/part-r-00907-ff5bbd4d-6518-4e17-8ff5-c8fd3d4a5b86.gz.parquet",
         "part-r-00907-ff5bbd4d-6518-4e17-8ff5-c8fd3d4a5b86.gz.parquet",
         10369914
        ],
        [
         "dbfs:/databricks-datasets/wikipedia-datasets/data-001/en_wikipedia/articles-only-parquet/part-r-00908-ff5bbd4d-6518-4e17-8ff5-c8fd3d4a5b86.gz.parquet",
         "part-r-00908-ff5bbd4d-6518-4e17-8ff5-c8fd3d4a5b86.gz.parquet",
         8898145
        ],
        [
         "dbfs:/databricks-datasets/wikipedia-datasets/data-001/en_wikipedia/articles-only-parquet/part-r-00909-ff5bbd4d-6518-4e17-8ff5-c8fd3d4a5b86.gz.parquet",
         "part-r-00909-ff5bbd4d-6518-4e17-8ff5-c8fd3d4a5b86.gz.parquet",
         9041244
        ],
        [
         "dbfs:/databricks-datasets/wikipedia-datasets/data-001/en_wikipedia/articles-only-parquet/part-r-00910-ff5bbd4d-6518-4e17-8ff5-c8fd3d4a5b86.gz.parquet",
         "part-r-00910-ff5bbd4d-6518-4e17-8ff5-c8fd3d4a5b86.gz.parquet",
         5314420
        ],
        [
         "dbfs:/databricks-datasets/wikipedia-datasets/data-001/en_wikipedia/articles-only-parquet/part-r-00911-ff5bbd4d-6518-4e17-8ff5-c8fd3d4a5b86.gz.parquet",
         "part-r-00911-ff5bbd4d-6518-4e17-8ff5-c8fd3d4a5b86.gz.parquet",
         13601605
        ],
        [
         "dbfs:/databricks-datasets/wikipedia-datasets/data-001/en_wikipedia/articles-only-parquet/part-r-00912-ff5bbd4d-6518-4e17-8ff5-c8fd3d4a5b86.gz.parquet",
         "part-r-00912-ff5bbd4d-6518-4e17-8ff5-c8fd3d4a5b86.gz.parquet",
         7914138
        ],
        [
         "dbfs:/databricks-datasets/wikipedia-datasets/data-001/en_wikipedia/articles-only-parquet/part-r-00913-ff5bbd4d-6518-4e17-8ff5-c8fd3d4a5b86.gz.parquet",
         "part-r-00913-ff5bbd4d-6518-4e17-8ff5-c8fd3d4a5b86.gz.parquet",
         9091761
        ],
        [
         "dbfs:/databricks-datasets/wikipedia-datasets/data-001/en_wikipedia/articles-only-parquet/part-r-00914-ff5bbd4d-6518-4e17-8ff5-c8fd3d4a5b86.gz.parquet",
         "part-r-00914-ff5bbd4d-6518-4e17-8ff5-c8fd3d4a5b86.gz.parquet",
         8683480
        ],
        [
         "dbfs:/databricks-datasets/wikipedia-datasets/data-001/en_wikipedia/articles-only-parquet/part-r-00915-ff5bbd4d-6518-4e17-8ff5-c8fd3d4a5b86.gz.parquet",
         "part-r-00915-ff5bbd4d-6518-4e17-8ff5-c8fd3d4a5b86.gz.parquet",
         11271764
        ],
        [
         "dbfs:/databricks-datasets/wikipedia-datasets/data-001/en_wikipedia/articles-only-parquet/part-r-00916-ff5bbd4d-6518-4e17-8ff5-c8fd3d4a5b86.gz.parquet",
         "part-r-00916-ff5bbd4d-6518-4e17-8ff5-c8fd3d4a5b86.gz.parquet",
         9034131
        ],
        [
         "dbfs:/databricks-datasets/wikipedia-datasets/data-001/en_wikipedia/articles-only-parquet/part-r-00917-ff5bbd4d-6518-4e17-8ff5-c8fd3d4a5b86.gz.parquet",
         "part-r-00917-ff5bbd4d-6518-4e17-8ff5-c8fd3d4a5b86.gz.parquet",
         9166507
        ],
        [
         "dbfs:/databricks-datasets/wikipedia-datasets/data-001/en_wikipedia/articles-only-parquet/part-r-00918-ff5bbd4d-6518-4e17-8ff5-c8fd3d4a5b86.gz.parquet",
         "part-r-00918-ff5bbd4d-6518-4e17-8ff5-c8fd3d4a5b86.gz.parquet",
         8385693
        ],
        [
         "dbfs:/databricks-datasets/wikipedia-datasets/data-001/en_wikipedia/articles-only-parquet/part-r-00919-ff5bbd4d-6518-4e17-8ff5-c8fd3d4a5b86.gz.parquet",
         "part-r-00919-ff5bbd4d-6518-4e17-8ff5-c8fd3d4a5b86.gz.parquet",
         10420793
        ],
        [
         "dbfs:/databricks-datasets/wikipedia-datasets/data-001/en_wikipedia/articles-only-parquet/part-r-00920-ff5bbd4d-6518-4e17-8ff5-c8fd3d4a5b86.gz.parquet",
         "part-r-00920-ff5bbd4d-6518-4e17-8ff5-c8fd3d4a5b86.gz.parquet",
         4270514
        ],
        [
         "dbfs:/databricks-datasets/wikipedia-datasets/data-001/en_wikipedia/articles-only-parquet/part-r-00921-ff5bbd4d-6518-4e17-8ff5-c8fd3d4a5b86.gz.parquet",
         "part-r-00921-ff5bbd4d-6518-4e17-8ff5-c8fd3d4a5b86.gz.parquet",
         9729896
        ],
        [
         "dbfs:/databricks-datasets/wikipedia-datasets/data-001/en_wikipedia/articles-only-parquet/part-r-00922-ff5bbd4d-6518-4e17-8ff5-c8fd3d4a5b86.gz.parquet",
         "part-r-00922-ff5bbd4d-6518-4e17-8ff5-c8fd3d4a5b86.gz.parquet",
         9155420
        ],
        [
         "dbfs:/databricks-datasets/wikipedia-datasets/data-001/en_wikipedia/articles-only-parquet/part-r-00923-ff5bbd4d-6518-4e17-8ff5-c8fd3d4a5b86.gz.parquet",
         "part-r-00923-ff5bbd4d-6518-4e17-8ff5-c8fd3d4a5b86.gz.parquet",
         4670115
        ],
        [
         "dbfs:/databricks-datasets/wikipedia-datasets/data-001/en_wikipedia/articles-only-parquet/part-r-00924-ff5bbd4d-6518-4e17-8ff5-c8fd3d4a5b86.gz.parquet",
         "part-r-00924-ff5bbd4d-6518-4e17-8ff5-c8fd3d4a5b86.gz.parquet",
         10630656
        ],
        [
         "dbfs:/databricks-datasets/wikipedia-datasets/data-001/en_wikipedia/articles-only-parquet/part-r-00925-ff5bbd4d-6518-4e17-8ff5-c8fd3d4a5b86.gz.parquet",
         "part-r-00925-ff5bbd4d-6518-4e17-8ff5-c8fd3d4a5b86.gz.parquet",
         11875184
        ],
        [
         "dbfs:/databricks-datasets/wikipedia-datasets/data-001/en_wikipedia/articles-only-parquet/part-r-00926-ff5bbd4d-6518-4e17-8ff5-c8fd3d4a5b86.gz.parquet",
         "part-r-00926-ff5bbd4d-6518-4e17-8ff5-c8fd3d4a5b86.gz.parquet",
         15661102
        ],
        [
         "dbfs:/databricks-datasets/wikipedia-datasets/data-001/en_wikipedia/articles-only-parquet/part-r-00927-ff5bbd4d-6518-4e17-8ff5-c8fd3d4a5b86.gz.parquet",
         "part-r-00927-ff5bbd4d-6518-4e17-8ff5-c8fd3d4a5b86.gz.parquet",
         9472815
        ],
        [
         "dbfs:/databricks-datasets/wikipedia-datasets/data-001/en_wikipedia/articles-only-parquet/part-r-00928-ff5bbd4d-6518-4e17-8ff5-c8fd3d4a5b86.gz.parquet",
         "part-r-00928-ff5bbd4d-6518-4e17-8ff5-c8fd3d4a5b86.gz.parquet",
         9783537
        ],
        [
         "dbfs:/databricks-datasets/wikipedia-datasets/data-001/en_wikipedia/articles-only-parquet/part-r-00929-ff5bbd4d-6518-4e17-8ff5-c8fd3d4a5b86.gz.parquet",
         "part-r-00929-ff5bbd4d-6518-4e17-8ff5-c8fd3d4a5b86.gz.parquet",
         8617652
        ],
        [
         "dbfs:/databricks-datasets/wikipedia-datasets/data-001/en_wikipedia/articles-only-parquet/part-r-00930-ff5bbd4d-6518-4e17-8ff5-c8fd3d4a5b86.gz.parquet",
         "part-r-00930-ff5bbd4d-6518-4e17-8ff5-c8fd3d4a5b86.gz.parquet",
         5511270
        ],
        [
         "dbfs:/databricks-datasets/wikipedia-datasets/data-001/en_wikipedia/articles-only-parquet/part-r-00931-ff5bbd4d-6518-4e17-8ff5-c8fd3d4a5b86.gz.parquet",
         "part-r-00931-ff5bbd4d-6518-4e17-8ff5-c8fd3d4a5b86.gz.parquet",
         13715970
        ],
        [
         "dbfs:/databricks-datasets/wikipedia-datasets/data-001/en_wikipedia/articles-only-parquet/part-r-00932-ff5bbd4d-6518-4e17-8ff5-c8fd3d4a5b86.gz.parquet",
         "part-r-00932-ff5bbd4d-6518-4e17-8ff5-c8fd3d4a5b86.gz.parquet",
         12178792
        ],
        [
         "dbfs:/databricks-datasets/wikipedia-datasets/data-001/en_wikipedia/articles-only-parquet/part-r-00933-ff5bbd4d-6518-4e17-8ff5-c8fd3d4a5b86.gz.parquet",
         "part-r-00933-ff5bbd4d-6518-4e17-8ff5-c8fd3d4a5b86.gz.parquet",
         8754809
        ],
        [
         "dbfs:/databricks-datasets/wikipedia-datasets/data-001/en_wikipedia/articles-only-parquet/part-r-00934-ff5bbd4d-6518-4e17-8ff5-c8fd3d4a5b86.gz.parquet",
         "part-r-00934-ff5bbd4d-6518-4e17-8ff5-c8fd3d4a5b86.gz.parquet",
         9328178
        ],
        [
         "dbfs:/databricks-datasets/wikipedia-datasets/data-001/en_wikipedia/articles-only-parquet/part-r-00935-ff5bbd4d-6518-4e17-8ff5-c8fd3d4a5b86.gz.parquet",
         "part-r-00935-ff5bbd4d-6518-4e17-8ff5-c8fd3d4a5b86.gz.parquet",
         8757558
        ],
        [
         "dbfs:/databricks-datasets/wikipedia-datasets/data-001/en_wikipedia/articles-only-parquet/part-r-00936-ff5bbd4d-6518-4e17-8ff5-c8fd3d4a5b86.gz.parquet",
         "part-r-00936-ff5bbd4d-6518-4e17-8ff5-c8fd3d4a5b86.gz.parquet",
         9974583
        ],
        [
         "dbfs:/databricks-datasets/wikipedia-datasets/data-001/en_wikipedia/articles-only-parquet/part-r-00937-ff5bbd4d-6518-4e17-8ff5-c8fd3d4a5b86.gz.parquet",
         "part-r-00937-ff5bbd4d-6518-4e17-8ff5-c8fd3d4a5b86.gz.parquet",
         8839044
        ],
        [
         "dbfs:/databricks-datasets/wikipedia-datasets/data-001/en_wikipedia/articles-only-parquet/part-r-00938-ff5bbd4d-6518-4e17-8ff5-c8fd3d4a5b86.gz.parquet",
         "part-r-00938-ff5bbd4d-6518-4e17-8ff5-c8fd3d4a5b86.gz.parquet",
         9351881
        ],
        [
         "dbfs:/databricks-datasets/wikipedia-datasets/data-001/en_wikipedia/articles-only-parquet/part-r-00939-ff5bbd4d-6518-4e17-8ff5-c8fd3d4a5b86.gz.parquet",
         "part-r-00939-ff5bbd4d-6518-4e17-8ff5-c8fd3d4a5b86.gz.parquet",
         9301609
        ],
        [
         "dbfs:/databricks-datasets/wikipedia-datasets/data-001/en_wikipedia/articles-only-parquet/part-r-00940-ff5bbd4d-6518-4e17-8ff5-c8fd3d4a5b86.gz.parquet",
         "part-r-00940-ff5bbd4d-6518-4e17-8ff5-c8fd3d4a5b86.gz.parquet",
         9210233
        ],
        [
         "dbfs:/databricks-datasets/wikipedia-datasets/data-001/en_wikipedia/articles-only-parquet/part-r-00941-ff5bbd4d-6518-4e17-8ff5-c8fd3d4a5b86.gz.parquet",
         "part-r-00941-ff5bbd4d-6518-4e17-8ff5-c8fd3d4a5b86.gz.parquet",
         8684854
        ],
        [
         "dbfs:/databricks-datasets/wikipedia-datasets/data-001/en_wikipedia/articles-only-parquet/part-r-00942-ff5bbd4d-6518-4e17-8ff5-c8fd3d4a5b86.gz.parquet",
         "part-r-00942-ff5bbd4d-6518-4e17-8ff5-c8fd3d4a5b86.gz.parquet",
         10539055
        ],
        [
         "dbfs:/databricks-datasets/wikipedia-datasets/data-001/en_wikipedia/articles-only-parquet/part-r-00943-ff5bbd4d-6518-4e17-8ff5-c8fd3d4a5b86.gz.parquet",
         "part-r-00943-ff5bbd4d-6518-4e17-8ff5-c8fd3d4a5b86.gz.parquet",
         15720070
        ],
        [
         "dbfs:/databricks-datasets/wikipedia-datasets/data-001/en_wikipedia/articles-only-parquet/part-r-00944-ff5bbd4d-6518-4e17-8ff5-c8fd3d4a5b86.gz.parquet",
         "part-r-00944-ff5bbd4d-6518-4e17-8ff5-c8fd3d4a5b86.gz.parquet",
         2744989
        ],
        [
         "dbfs:/databricks-datasets/wikipedia-datasets/data-001/en_wikipedia/articles-only-parquet/part-r-00945-ff5bbd4d-6518-4e17-8ff5-c8fd3d4a5b86.gz.parquet",
         "part-r-00945-ff5bbd4d-6518-4e17-8ff5-c8fd3d4a5b86.gz.parquet",
         9833846
        ],
        [
         "dbfs:/databricks-datasets/wikipedia-datasets/data-001/en_wikipedia/articles-only-parquet/part-r-00946-ff5bbd4d-6518-4e17-8ff5-c8fd3d4a5b86.gz.parquet",
         "part-r-00946-ff5bbd4d-6518-4e17-8ff5-c8fd3d4a5b86.gz.parquet",
         9252531
        ],
        [
         "dbfs:/databricks-datasets/wikipedia-datasets/data-001/en_wikipedia/articles-only-parquet/part-r-00947-ff5bbd4d-6518-4e17-8ff5-c8fd3d4a5b86.gz.parquet",
         "part-r-00947-ff5bbd4d-6518-4e17-8ff5-c8fd3d4a5b86.gz.parquet",
         10277250
        ],
        [
         "dbfs:/databricks-datasets/wikipedia-datasets/data-001/en_wikipedia/articles-only-parquet/part-r-00948-ff5bbd4d-6518-4e17-8ff5-c8fd3d4a5b86.gz.parquet",
         "part-r-00948-ff5bbd4d-6518-4e17-8ff5-c8fd3d4a5b86.gz.parquet",
         14696750
        ],
        [
         "dbfs:/databricks-datasets/wikipedia-datasets/data-001/en_wikipedia/articles-only-parquet/part-r-00949-ff5bbd4d-6518-4e17-8ff5-c8fd3d4a5b86.gz.parquet",
         "part-r-00949-ff5bbd4d-6518-4e17-8ff5-c8fd3d4a5b86.gz.parquet",
         10005458
        ],
        [
         "dbfs:/databricks-datasets/wikipedia-datasets/data-001/en_wikipedia/articles-only-parquet/part-r-00950-ff5bbd4d-6518-4e17-8ff5-c8fd3d4a5b86.gz.parquet",
         "part-r-00950-ff5bbd4d-6518-4e17-8ff5-c8fd3d4a5b86.gz.parquet",
         7267320
        ],
        [
         "dbfs:/databricks-datasets/wikipedia-datasets/data-001/en_wikipedia/articles-only-parquet/part-r-00951-ff5bbd4d-6518-4e17-8ff5-c8fd3d4a5b86.gz.parquet",
         "part-r-00951-ff5bbd4d-6518-4e17-8ff5-c8fd3d4a5b86.gz.parquet",
         18002815
        ],
        [
         "dbfs:/databricks-datasets/wikipedia-datasets/data-001/en_wikipedia/articles-only-parquet/part-r-00952-ff5bbd4d-6518-4e17-8ff5-c8fd3d4a5b86.gz.parquet",
         "part-r-00952-ff5bbd4d-6518-4e17-8ff5-c8fd3d4a5b86.gz.parquet",
         9568430
        ],
        [
         "dbfs:/databricks-datasets/wikipedia-datasets/data-001/en_wikipedia/articles-only-parquet/part-r-00953-ff5bbd4d-6518-4e17-8ff5-c8fd3d4a5b86.gz.parquet",
         "part-r-00953-ff5bbd4d-6518-4e17-8ff5-c8fd3d4a5b86.gz.parquet",
         15278272
        ],
        [
         "dbfs:/databricks-datasets/wikipedia-datasets/data-001/en_wikipedia/articles-only-parquet/part-r-00954-ff5bbd4d-6518-4e17-8ff5-c8fd3d4a5b86.gz.parquet",
         "part-r-00954-ff5bbd4d-6518-4e17-8ff5-c8fd3d4a5b86.gz.parquet",
         9137403
        ],
        [
         "dbfs:/databricks-datasets/wikipedia-datasets/data-001/en_wikipedia/articles-only-parquet/part-r-00955-ff5bbd4d-6518-4e17-8ff5-c8fd3d4a5b86.gz.parquet",
         "part-r-00955-ff5bbd4d-6518-4e17-8ff5-c8fd3d4a5b86.gz.parquet",
         8504439
        ],
        [
         "dbfs:/databricks-datasets/wikipedia-datasets/data-001/en_wikipedia/articles-only-parquet/part-r-00956-ff5bbd4d-6518-4e17-8ff5-c8fd3d4a5b86.gz.parquet",
         "part-r-00956-ff5bbd4d-6518-4e17-8ff5-c8fd3d4a5b86.gz.parquet",
         8346756
        ],
        [
         "dbfs:/databricks-datasets/wikipedia-datasets/data-001/en_wikipedia/articles-only-parquet/part-r-00957-ff5bbd4d-6518-4e17-8ff5-c8fd3d4a5b86.gz.parquet",
         "part-r-00957-ff5bbd4d-6518-4e17-8ff5-c8fd3d4a5b86.gz.parquet",
         8224589
        ],
        [
         "dbfs:/databricks-datasets/wikipedia-datasets/data-001/en_wikipedia/articles-only-parquet/part-r-00958-ff5bbd4d-6518-4e17-8ff5-c8fd3d4a5b86.gz.parquet",
         "part-r-00958-ff5bbd4d-6518-4e17-8ff5-c8fd3d4a5b86.gz.parquet",
         9530376
        ],
        [
         "dbfs:/databricks-datasets/wikipedia-datasets/data-001/en_wikipedia/articles-only-parquet/part-r-00959-ff5bbd4d-6518-4e17-8ff5-c8fd3d4a5b86.gz.parquet",
         "part-r-00959-ff5bbd4d-6518-4e17-8ff5-c8fd3d4a5b86.gz.parquet",
         9391189
        ],
        [
         "dbfs:/databricks-datasets/wikipedia-datasets/data-001/en_wikipedia/articles-only-parquet/part-r-00960-ff5bbd4d-6518-4e17-8ff5-c8fd3d4a5b86.gz.parquet",
         "part-r-00960-ff5bbd4d-6518-4e17-8ff5-c8fd3d4a5b86.gz.parquet",
         9390175
        ],
        [
         "dbfs:/databricks-datasets/wikipedia-datasets/data-001/en_wikipedia/articles-only-parquet/part-r-00961-ff5bbd4d-6518-4e17-8ff5-c8fd3d4a5b86.gz.parquet",
         "part-r-00961-ff5bbd4d-6518-4e17-8ff5-c8fd3d4a5b86.gz.parquet",
         17567382
        ],
        [
         "dbfs:/databricks-datasets/wikipedia-datasets/data-001/en_wikipedia/articles-only-parquet/part-r-00962-ff5bbd4d-6518-4e17-8ff5-c8fd3d4a5b86.gz.parquet",
         "part-r-00962-ff5bbd4d-6518-4e17-8ff5-c8fd3d4a5b86.gz.parquet",
         8949873
        ],
        [
         "dbfs:/databricks-datasets/wikipedia-datasets/data-001/en_wikipedia/articles-only-parquet/part-r-00963-ff5bbd4d-6518-4e17-8ff5-c8fd3d4a5b86.gz.parquet",
         "part-r-00963-ff5bbd4d-6518-4e17-8ff5-c8fd3d4a5b86.gz.parquet",
         9117078
        ],
        [
         "dbfs:/databricks-datasets/wikipedia-datasets/data-001/en_wikipedia/articles-only-parquet/part-r-00964-ff5bbd4d-6518-4e17-8ff5-c8fd3d4a5b86.gz.parquet",
         "part-r-00964-ff5bbd4d-6518-4e17-8ff5-c8fd3d4a5b86.gz.parquet",
         9835363
        ],
        [
         "dbfs:/databricks-datasets/wikipedia-datasets/data-001/en_wikipedia/articles-only-parquet/part-r-00965-ff5bbd4d-6518-4e17-8ff5-c8fd3d4a5b86.gz.parquet",
         "part-r-00965-ff5bbd4d-6518-4e17-8ff5-c8fd3d4a5b86.gz.parquet",
         13585013
        ],
        [
         "dbfs:/databricks-datasets/wikipedia-datasets/data-001/en_wikipedia/articles-only-parquet/part-r-00966-ff5bbd4d-6518-4e17-8ff5-c8fd3d4a5b86.gz.parquet",
         "part-r-00966-ff5bbd4d-6518-4e17-8ff5-c8fd3d4a5b86.gz.parquet",
         13357689
        ],
        [
         "dbfs:/databricks-datasets/wikipedia-datasets/data-001/en_wikipedia/articles-only-parquet/part-r-00967-ff5bbd4d-6518-4e17-8ff5-c8fd3d4a5b86.gz.parquet",
         "part-r-00967-ff5bbd4d-6518-4e17-8ff5-c8fd3d4a5b86.gz.parquet",
         8149611
        ],
        [
         "dbfs:/databricks-datasets/wikipedia-datasets/data-001/en_wikipedia/articles-only-parquet/part-r-00968-ff5bbd4d-6518-4e17-8ff5-c8fd3d4a5b86.gz.parquet",
         "part-r-00968-ff5bbd4d-6518-4e17-8ff5-c8fd3d4a5b86.gz.parquet",
         9470628
        ],
        [
         "dbfs:/databricks-datasets/wikipedia-datasets/data-001/en_wikipedia/articles-only-parquet/part-r-00969-ff5bbd4d-6518-4e17-8ff5-c8fd3d4a5b86.gz.parquet",
         "part-r-00969-ff5bbd4d-6518-4e17-8ff5-c8fd3d4a5b86.gz.parquet",
         13632083
        ],
        [
         "dbfs:/databricks-datasets/wikipedia-datasets/data-001/en_wikipedia/articles-only-parquet/part-r-00970-ff5bbd4d-6518-4e17-8ff5-c8fd3d4a5b86.gz.parquet",
         "part-r-00970-ff5bbd4d-6518-4e17-8ff5-c8fd3d4a5b86.gz.parquet",
         9564795
        ],
        [
         "dbfs:/databricks-datasets/wikipedia-datasets/data-001/en_wikipedia/articles-only-parquet/part-r-00971-ff5bbd4d-6518-4e17-8ff5-c8fd3d4a5b86.gz.parquet",
         "part-r-00971-ff5bbd4d-6518-4e17-8ff5-c8fd3d4a5b86.gz.parquet",
         9007610
        ],
        [
         "dbfs:/databricks-datasets/wikipedia-datasets/data-001/en_wikipedia/articles-only-parquet/part-r-00972-ff5bbd4d-6518-4e17-8ff5-c8fd3d4a5b86.gz.parquet",
         "part-r-00972-ff5bbd4d-6518-4e17-8ff5-c8fd3d4a5b86.gz.parquet",
         17878867
        ],
        [
         "dbfs:/databricks-datasets/wikipedia-datasets/data-001/en_wikipedia/articles-only-parquet/part-r-00973-ff5bbd4d-6518-4e17-8ff5-c8fd3d4a5b86.gz.parquet",
         "part-r-00973-ff5bbd4d-6518-4e17-8ff5-c8fd3d4a5b86.gz.parquet",
         8274199
        ],
        [
         "dbfs:/databricks-datasets/wikipedia-datasets/data-001/en_wikipedia/articles-only-parquet/part-r-00974-ff5bbd4d-6518-4e17-8ff5-c8fd3d4a5b86.gz.parquet",
         "part-r-00974-ff5bbd4d-6518-4e17-8ff5-c8fd3d4a5b86.gz.parquet",
         8363823
        ],
        [
         "dbfs:/databricks-datasets/wikipedia-datasets/data-001/en_wikipedia/articles-only-parquet/part-r-00975-ff5bbd4d-6518-4e17-8ff5-c8fd3d4a5b86.gz.parquet",
         "part-r-00975-ff5bbd4d-6518-4e17-8ff5-c8fd3d4a5b86.gz.parquet",
         11958961
        ],
        [
         "dbfs:/databricks-datasets/wikipedia-datasets/data-001/en_wikipedia/articles-only-parquet/part-r-00976-ff5bbd4d-6518-4e17-8ff5-c8fd3d4a5b86.gz.parquet",
         "part-r-00976-ff5bbd4d-6518-4e17-8ff5-c8fd3d4a5b86.gz.parquet",
         6252950
        ],
        [
         "dbfs:/databricks-datasets/wikipedia-datasets/data-001/en_wikipedia/articles-only-parquet/part-r-00977-ff5bbd4d-6518-4e17-8ff5-c8fd3d4a5b86.gz.parquet",
         "part-r-00977-ff5bbd4d-6518-4e17-8ff5-c8fd3d4a5b86.gz.parquet",
         6494131
        ],
        [
         "dbfs:/databricks-datasets/wikipedia-datasets/data-001/en_wikipedia/articles-only-parquet/part-r-00978-ff5bbd4d-6518-4e17-8ff5-c8fd3d4a5b86.gz.parquet",
         "part-r-00978-ff5bbd4d-6518-4e17-8ff5-c8fd3d4a5b86.gz.parquet",
         8781995
        ],
        [
         "dbfs:/databricks-datasets/wikipedia-datasets/data-001/en_wikipedia/articles-only-parquet/part-r-00979-ff5bbd4d-6518-4e17-8ff5-c8fd3d4a5b86.gz.parquet",
         "part-r-00979-ff5bbd4d-6518-4e17-8ff5-c8fd3d4a5b86.gz.parquet",
         9194968
        ],
        [
         "dbfs:/databricks-datasets/wikipedia-datasets/data-001/en_wikipedia/articles-only-parquet/part-r-00980-ff5bbd4d-6518-4e17-8ff5-c8fd3d4a5b86.gz.parquet",
         "part-r-00980-ff5bbd4d-6518-4e17-8ff5-c8fd3d4a5b86.gz.parquet",
         9172073
        ],
        [
         "dbfs:/databricks-datasets/wikipedia-datasets/data-001/en_wikipedia/articles-only-parquet/part-r-00981-ff5bbd4d-6518-4e17-8ff5-c8fd3d4a5b86.gz.parquet",
         "part-r-00981-ff5bbd4d-6518-4e17-8ff5-c8fd3d4a5b86.gz.parquet",
         10098287
        ],
        [
         "dbfs:/databricks-datasets/wikipedia-datasets/data-001/en_wikipedia/articles-only-parquet/part-r-00982-ff5bbd4d-6518-4e17-8ff5-c8fd3d4a5b86.gz.parquet",
         "part-r-00982-ff5bbd4d-6518-4e17-8ff5-c8fd3d4a5b86.gz.parquet",
         9118130
        ],
        [
         "dbfs:/databricks-datasets/wikipedia-datasets/data-001/en_wikipedia/articles-only-parquet/part-r-00983-ff5bbd4d-6518-4e17-8ff5-c8fd3d4a5b86.gz.parquet",
         "part-r-00983-ff5bbd4d-6518-4e17-8ff5-c8fd3d4a5b86.gz.parquet",
         9512258
        ],
        [
         "dbfs:/databricks-datasets/wikipedia-datasets/data-001/en_wikipedia/articles-only-parquet/part-r-00984-ff5bbd4d-6518-4e17-8ff5-c8fd3d4a5b86.gz.parquet",
         "part-r-00984-ff5bbd4d-6518-4e17-8ff5-c8fd3d4a5b86.gz.parquet",
         9831310
        ],
        [
         "dbfs:/databricks-datasets/wikipedia-datasets/data-001/en_wikipedia/articles-only-parquet/part-r-00985-ff5bbd4d-6518-4e17-8ff5-c8fd3d4a5b86.gz.parquet",
         "part-r-00985-ff5bbd4d-6518-4e17-8ff5-c8fd3d4a5b86.gz.parquet",
         9138335
        ],
        [
         "dbfs:/databricks-datasets/wikipedia-datasets/data-001/en_wikipedia/articles-only-parquet/part-r-00986-ff5bbd4d-6518-4e17-8ff5-c8fd3d4a5b86.gz.parquet",
         "part-r-00986-ff5bbd4d-6518-4e17-8ff5-c8fd3d4a5b86.gz.parquet",
         9673251
        ],
        [
         "dbfs:/databricks-datasets/wikipedia-datasets/data-001/en_wikipedia/articles-only-parquet/part-r-00987-ff5bbd4d-6518-4e17-8ff5-c8fd3d4a5b86.gz.parquet",
         "part-r-00987-ff5bbd4d-6518-4e17-8ff5-c8fd3d4a5b86.gz.parquet",
         9722104
        ],
        [
         "dbfs:/databricks-datasets/wikipedia-datasets/data-001/en_wikipedia/articles-only-parquet/part-r-00988-ff5bbd4d-6518-4e17-8ff5-c8fd3d4a5b86.gz.parquet",
         "part-r-00988-ff5bbd4d-6518-4e17-8ff5-c8fd3d4a5b86.gz.parquet",
         8658109
        ],
        [
         "dbfs:/databricks-datasets/wikipedia-datasets/data-001/en_wikipedia/articles-only-parquet/part-r-00989-ff5bbd4d-6518-4e17-8ff5-c8fd3d4a5b86.gz.parquet",
         "part-r-00989-ff5bbd4d-6518-4e17-8ff5-c8fd3d4a5b86.gz.parquet",
         8648984
        ],
        [
         "dbfs:/databricks-datasets/wikipedia-datasets/data-001/en_wikipedia/articles-only-parquet/part-r-00990-ff5bbd4d-6518-4e17-8ff5-c8fd3d4a5b86.gz.parquet",
         "part-r-00990-ff5bbd4d-6518-4e17-8ff5-c8fd3d4a5b86.gz.parquet",
         8647889
        ],
        [
         "dbfs:/databricks-datasets/wikipedia-datasets/data-001/en_wikipedia/articles-only-parquet/part-r-00991-ff5bbd4d-6518-4e17-8ff5-c8fd3d4a5b86.gz.parquet",
         "part-r-00991-ff5bbd4d-6518-4e17-8ff5-c8fd3d4a5b86.gz.parquet",
         8391218
        ],
        [
         "dbfs:/databricks-datasets/wikipedia-datasets/data-001/en_wikipedia/articles-only-parquet/part-r-00992-ff5bbd4d-6518-4e17-8ff5-c8fd3d4a5b86.gz.parquet",
         "part-r-00992-ff5bbd4d-6518-4e17-8ff5-c8fd3d4a5b86.gz.parquet",
         9165461
        ],
        [
         "dbfs:/databricks-datasets/wikipedia-datasets/data-001/en_wikipedia/articles-only-parquet/part-r-00993-ff5bbd4d-6518-4e17-8ff5-c8fd3d4a5b86.gz.parquet",
         "part-r-00993-ff5bbd4d-6518-4e17-8ff5-c8fd3d4a5b86.gz.parquet",
         12625130
        ],
        [
         "dbfs:/databricks-datasets/wikipedia-datasets/data-001/en_wikipedia/articles-only-parquet/part-r-00994-ff5bbd4d-6518-4e17-8ff5-c8fd3d4a5b86.gz.parquet",
         "part-r-00994-ff5bbd4d-6518-4e17-8ff5-c8fd3d4a5b86.gz.parquet",
         4504821
        ],
        [
         "dbfs:/databricks-datasets/wikipedia-datasets/data-001/en_wikipedia/articles-only-parquet/part-r-00995-ff5bbd4d-6518-4e17-8ff5-c8fd3d4a5b86.gz.parquet",
         "part-r-00995-ff5bbd4d-6518-4e17-8ff5-c8fd3d4a5b86.gz.parquet",
         9444788
        ],
        [
         "dbfs:/databricks-datasets/wikipedia-datasets/data-001/en_wikipedia/articles-only-parquet/part-r-00996-ff5bbd4d-6518-4e17-8ff5-c8fd3d4a5b86.gz.parquet",
         "part-r-00996-ff5bbd4d-6518-4e17-8ff5-c8fd3d4a5b86.gz.parquet",
         12822740
        ]
       ],
       "datasetInfos": [],
       "dbfsResultPath": null,
       "isJsonSchema": true,
       "metadata": {},
       "overflow": true,
       "plotOptions": {
        "customPlotOptions": {},
        "displayType": "table",
        "pivotAggregation": null,
        "pivotColumns": [],
        "xColumns": [],
        "yColumns": []
       },
       "removedWidgets": [],
       "schema": [
        {
         "metadata": "{}",
         "name": "path",
         "type": "\"string\""
        },
        {
         "metadata": "{}",
         "name": "name",
         "type": "\"string\""
        },
        {
         "metadata": "{}",
         "name": "size",
         "type": "\"long\""
        }
       ],
       "type": "table"
      }
     },
     "output_type": "display_data"
    }
   ],
   "source": [
    "%fs ls dbfs:/databricks-datasets/wikipedia-datasets/data-001/en_wikipedia/articles-only-parquet"
   ]
  },
  {
   "cell_type": "markdown",
   "metadata": {
    "application/vnd.databricks.v1+cell": {
     "inputWidgets": {},
     "nuid": "5cfc6a76-106c-4ccd-a3d1-fa0c54a9eadb",
     "showTitle": false,
     "title": ""
    }
   },
   "source": [
    "Here we defines the wikipediaDF Spark Dataframe, with the full database content:\n",
    "We need to know the total number of documents in this database."
   ]
  },
  {
   "cell_type": "code",
   "execution_count": 6,
   "metadata": {
    "application/vnd.databricks.v1+cell": {
     "inputWidgets": {},
     "nuid": "29455663-e769-4c76-a3b0-370d20b553a8",
     "showTitle": false,
     "title": ""
    }
   },
   "outputs": [
    {
     "ename": "Py4JJavaError",
     "evalue": "An error occurred while calling o30.parquet.\n: org.apache.hadoop.fs.UnsupportedFileSystemException: No FileSystem for scheme \"dbfs\"\n\tat org.apache.hadoop.fs.FileSystem.getFileSystemClass(FileSystem.java:3281)\n\tat org.apache.hadoop.fs.FileSystem.createFileSystem(FileSystem.java:3301)\n\tat org.apache.hadoop.fs.FileSystem.access$200(FileSystem.java:124)\n\tat org.apache.hadoop.fs.FileSystem$Cache.getInternal(FileSystem.java:3352)\n\tat org.apache.hadoop.fs.FileSystem$Cache.get(FileSystem.java:3320)\n\tat org.apache.hadoop.fs.FileSystem.get(FileSystem.java:479)\n\tat org.apache.hadoop.fs.Path.getFileSystem(Path.java:361)\n\tat org.apache.spark.sql.execution.streaming.FileStreamSink$.hasMetadata(FileStreamSink.scala:46)\n\tat org.apache.spark.sql.execution.datasources.DataSource.resolveRelation(DataSource.scala:366)\n\tat org.apache.spark.sql.DataFrameReader.loadV1Source(DataFrameReader.scala:297)\n\tat org.apache.spark.sql.DataFrameReader.$anonfun$load$2(DataFrameReader.scala:286)\n\tat scala.Option.getOrElse(Option.scala:189)\n\tat org.apache.spark.sql.DataFrameReader.load(DataFrameReader.scala:286)\n\tat org.apache.spark.sql.DataFrameReader.parquet(DataFrameReader.scala:755)\n\tat java.base/jdk.internal.reflect.NativeMethodAccessorImpl.invoke0(Native Method)\n\tat java.base/jdk.internal.reflect.NativeMethodAccessorImpl.invoke(NativeMethodAccessorImpl.java:62)\n\tat java.base/jdk.internal.reflect.DelegatingMethodAccessorImpl.invoke(DelegatingMethodAccessorImpl.java:43)\n\tat java.base/java.lang.reflect.Method.invoke(Method.java:566)\n\tat py4j.reflection.MethodInvoker.invoke(MethodInvoker.java:244)\n\tat py4j.reflection.ReflectionEngine.invoke(ReflectionEngine.java:357)\n\tat py4j.Gateway.invoke(Gateway.java:282)\n\tat py4j.commands.AbstractCommand.invokeMethod(AbstractCommand.java:132)\n\tat py4j.commands.CallCommand.execute(CallCommand.java:79)\n\tat py4j.GatewayConnection.run(GatewayConnection.java:238)\n\tat java.base/java.lang.Thread.run(Thread.java:834)\n",
     "output_type": "error",
     "traceback": [
      "\u001b[0;31m---------------------------------------------------------------------------\u001b[0m",
      "\u001b[0;31mPy4JJavaError\u001b[0m                             Traceback (most recent call last)",
      "\u001b[0;32m/var/folders/gv/92kc6sh96jb6s77fn8gx3dz80000gp/T/ipykernel_99287/3912179938.py\u001b[0m in \u001b[0;36m<module>\u001b[0;34m\u001b[0m\n\u001b[0;32m----> 1\u001b[0;31m \u001b[0mwikipediaDF\u001b[0m\u001b[0;34m=\u001b[0m\u001b[0mspark\u001b[0m\u001b[0;34m.\u001b[0m\u001b[0mread\u001b[0m\u001b[0;34m.\u001b[0m\u001b[0mparquet\u001b[0m\u001b[0;34m(\u001b[0m\u001b[0;34m\"dbfs:/databricks-datasets/wikipedia-datasets/data-001/en_wikipedia/articles-only-parquet\"\u001b[0m\u001b[0;34m)\u001b[0m\u001b[0;34m\u001b[0m\u001b[0;34m\u001b[0m\u001b[0m\n\u001b[0m",
      "\u001b[0;32m/usr/local/Cellar/apache-spark/3.0.1/libexec/python/pyspark/sql/readwriter.py\u001b[0m in \u001b[0;36mparquet\u001b[0;34m(self, *paths, **options)\u001b[0m\n\u001b[1;32m    351\u001b[0m         self._set_opts(mergeSchema=mergeSchema, pathGlobFilter=pathGlobFilter,\n\u001b[1;32m    352\u001b[0m                        recursiveFileLookup=recursiveFileLookup)\n\u001b[0;32m--> 353\u001b[0;31m         \u001b[0;32mreturn\u001b[0m \u001b[0mself\u001b[0m\u001b[0;34m.\u001b[0m\u001b[0m_df\u001b[0m\u001b[0;34m(\u001b[0m\u001b[0mself\u001b[0m\u001b[0;34m.\u001b[0m\u001b[0m_jreader\u001b[0m\u001b[0;34m.\u001b[0m\u001b[0mparquet\u001b[0m\u001b[0;34m(\u001b[0m\u001b[0m_to_seq\u001b[0m\u001b[0;34m(\u001b[0m\u001b[0mself\u001b[0m\u001b[0;34m.\u001b[0m\u001b[0m_spark\u001b[0m\u001b[0;34m.\u001b[0m\u001b[0m_sc\u001b[0m\u001b[0;34m,\u001b[0m \u001b[0mpaths\u001b[0m\u001b[0;34m)\u001b[0m\u001b[0;34m)\u001b[0m\u001b[0;34m)\u001b[0m\u001b[0;34m\u001b[0m\u001b[0;34m\u001b[0m\u001b[0m\n\u001b[0m\u001b[1;32m    354\u001b[0m \u001b[0;34m\u001b[0m\u001b[0m\n\u001b[1;32m    355\u001b[0m     \u001b[0;34m@\u001b[0m\u001b[0mignore_unicode_prefix\u001b[0m\u001b[0;34m\u001b[0m\u001b[0;34m\u001b[0m\u001b[0m\n",
      "\u001b[0;32m/usr/local/Cellar/apache-spark/3.0.1/libexec/python/lib/py4j-0.10.9-src.zip/py4j/java_gateway.py\u001b[0m in \u001b[0;36m__call__\u001b[0;34m(self, *args)\u001b[0m\n\u001b[1;32m   1302\u001b[0m \u001b[0;34m\u001b[0m\u001b[0m\n\u001b[1;32m   1303\u001b[0m         \u001b[0manswer\u001b[0m \u001b[0;34m=\u001b[0m \u001b[0mself\u001b[0m\u001b[0;34m.\u001b[0m\u001b[0mgateway_client\u001b[0m\u001b[0;34m.\u001b[0m\u001b[0msend_command\u001b[0m\u001b[0;34m(\u001b[0m\u001b[0mcommand\u001b[0m\u001b[0;34m)\u001b[0m\u001b[0;34m\u001b[0m\u001b[0;34m\u001b[0m\u001b[0m\n\u001b[0;32m-> 1304\u001b[0;31m         return_value = get_return_value(\n\u001b[0m\u001b[1;32m   1305\u001b[0m             answer, self.gateway_client, self.target_id, self.name)\n\u001b[1;32m   1306\u001b[0m \u001b[0;34m\u001b[0m\u001b[0m\n",
      "\u001b[0;32m/usr/local/Cellar/apache-spark/3.0.1/libexec/python/pyspark/sql/utils.py\u001b[0m in \u001b[0;36mdeco\u001b[0;34m(*a, **kw)\u001b[0m\n\u001b[1;32m    126\u001b[0m     \u001b[0;32mdef\u001b[0m \u001b[0mdeco\u001b[0m\u001b[0;34m(\u001b[0m\u001b[0;34m*\u001b[0m\u001b[0ma\u001b[0m\u001b[0;34m,\u001b[0m \u001b[0;34m**\u001b[0m\u001b[0mkw\u001b[0m\u001b[0;34m)\u001b[0m\u001b[0;34m:\u001b[0m\u001b[0;34m\u001b[0m\u001b[0;34m\u001b[0m\u001b[0m\n\u001b[1;32m    127\u001b[0m         \u001b[0;32mtry\u001b[0m\u001b[0;34m:\u001b[0m\u001b[0;34m\u001b[0m\u001b[0;34m\u001b[0m\u001b[0m\n\u001b[0;32m--> 128\u001b[0;31m             \u001b[0;32mreturn\u001b[0m \u001b[0mf\u001b[0m\u001b[0;34m(\u001b[0m\u001b[0;34m*\u001b[0m\u001b[0ma\u001b[0m\u001b[0;34m,\u001b[0m \u001b[0;34m**\u001b[0m\u001b[0mkw\u001b[0m\u001b[0;34m)\u001b[0m\u001b[0;34m\u001b[0m\u001b[0;34m\u001b[0m\u001b[0m\n\u001b[0m\u001b[1;32m    129\u001b[0m         \u001b[0;32mexcept\u001b[0m \u001b[0mpy4j\u001b[0m\u001b[0;34m.\u001b[0m\u001b[0mprotocol\u001b[0m\u001b[0;34m.\u001b[0m\u001b[0mPy4JJavaError\u001b[0m \u001b[0;32mas\u001b[0m \u001b[0me\u001b[0m\u001b[0;34m:\u001b[0m\u001b[0;34m\u001b[0m\u001b[0;34m\u001b[0m\u001b[0m\n\u001b[1;32m    130\u001b[0m             \u001b[0mconverted\u001b[0m \u001b[0;34m=\u001b[0m \u001b[0mconvert_exception\u001b[0m\u001b[0;34m(\u001b[0m\u001b[0me\u001b[0m\u001b[0;34m.\u001b[0m\u001b[0mjava_exception\u001b[0m\u001b[0;34m)\u001b[0m\u001b[0;34m\u001b[0m\u001b[0;34m\u001b[0m\u001b[0m\n",
      "\u001b[0;32m/usr/local/Cellar/apache-spark/3.0.1/libexec/python/lib/py4j-0.10.9-src.zip/py4j/protocol.py\u001b[0m in \u001b[0;36mget_return_value\u001b[0;34m(answer, gateway_client, target_id, name)\u001b[0m\n\u001b[1;32m    324\u001b[0m             \u001b[0mvalue\u001b[0m \u001b[0;34m=\u001b[0m \u001b[0mOUTPUT_CONVERTER\u001b[0m\u001b[0;34m[\u001b[0m\u001b[0mtype\u001b[0m\u001b[0;34m]\u001b[0m\u001b[0;34m(\u001b[0m\u001b[0manswer\u001b[0m\u001b[0;34m[\u001b[0m\u001b[0;36m2\u001b[0m\u001b[0;34m:\u001b[0m\u001b[0;34m]\u001b[0m\u001b[0;34m,\u001b[0m \u001b[0mgateway_client\u001b[0m\u001b[0;34m)\u001b[0m\u001b[0;34m\u001b[0m\u001b[0;34m\u001b[0m\u001b[0m\n\u001b[1;32m    325\u001b[0m             \u001b[0;32mif\u001b[0m \u001b[0manswer\u001b[0m\u001b[0;34m[\u001b[0m\u001b[0;36m1\u001b[0m\u001b[0;34m]\u001b[0m \u001b[0;34m==\u001b[0m \u001b[0mREFERENCE_TYPE\u001b[0m\u001b[0;34m:\u001b[0m\u001b[0;34m\u001b[0m\u001b[0;34m\u001b[0m\u001b[0m\n\u001b[0;32m--> 326\u001b[0;31m                 raise Py4JJavaError(\n\u001b[0m\u001b[1;32m    327\u001b[0m                     \u001b[0;34m\"An error occurred while calling {0}{1}{2}.\\n\"\u001b[0m\u001b[0;34m.\u001b[0m\u001b[0;34m\u001b[0m\u001b[0;34m\u001b[0m\u001b[0m\n\u001b[1;32m    328\u001b[0m                     format(target_id, \".\", name), value)\n",
      "\u001b[0;31mPy4JJavaError\u001b[0m: An error occurred while calling o30.parquet.\n: org.apache.hadoop.fs.UnsupportedFileSystemException: No FileSystem for scheme \"dbfs\"\n\tat org.apache.hadoop.fs.FileSystem.getFileSystemClass(FileSystem.java:3281)\n\tat org.apache.hadoop.fs.FileSystem.createFileSystem(FileSystem.java:3301)\n\tat org.apache.hadoop.fs.FileSystem.access$200(FileSystem.java:124)\n\tat org.apache.hadoop.fs.FileSystem$Cache.getInternal(FileSystem.java:3352)\n\tat org.apache.hadoop.fs.FileSystem$Cache.get(FileSystem.java:3320)\n\tat org.apache.hadoop.fs.FileSystem.get(FileSystem.java:479)\n\tat org.apache.hadoop.fs.Path.getFileSystem(Path.java:361)\n\tat org.apache.spark.sql.execution.streaming.FileStreamSink$.hasMetadata(FileStreamSink.scala:46)\n\tat org.apache.spark.sql.execution.datasources.DataSource.resolveRelation(DataSource.scala:366)\n\tat org.apache.spark.sql.DataFrameReader.loadV1Source(DataFrameReader.scala:297)\n\tat org.apache.spark.sql.DataFrameReader.$anonfun$load$2(DataFrameReader.scala:286)\n\tat scala.Option.getOrElse(Option.scala:189)\n\tat org.apache.spark.sql.DataFrameReader.load(DataFrameReader.scala:286)\n\tat org.apache.spark.sql.DataFrameReader.parquet(DataFrameReader.scala:755)\n\tat java.base/jdk.internal.reflect.NativeMethodAccessorImpl.invoke0(Native Method)\n\tat java.base/jdk.internal.reflect.NativeMethodAccessorImpl.invoke(NativeMethodAccessorImpl.java:62)\n\tat java.base/jdk.internal.reflect.DelegatingMethodAccessorImpl.invoke(DelegatingMethodAccessorImpl.java:43)\n\tat java.base/java.lang.reflect.Method.invoke(Method.java:566)\n\tat py4j.reflection.MethodInvoker.invoke(MethodInvoker.java:244)\n\tat py4j.reflection.ReflectionEngine.invoke(ReflectionEngine.java:357)\n\tat py4j.Gateway.invoke(Gateway.java:282)\n\tat py4j.commands.AbstractCommand.invokeMethod(AbstractCommand.java:132)\n\tat py4j.commands.CallCommand.execute(CallCommand.java:79)\n\tat py4j.GatewayConnection.run(GatewayConnection.java:238)\n\tat java.base/java.lang.Thread.run(Thread.java:834)\n"
     ]
    }
   ],
   "source": [
    "wikipediaDF=spark.read.parquet(\"dbfs:/databricks-datasets/wikipedia-datasets/data-001/en_wikipedia/articles-only-parquet\")"
   ]
  },
  {
   "cell_type": "code",
   "execution_count": 0,
   "metadata": {
    "application/vnd.databricks.v1+cell": {
     "inputWidgets": {},
     "nuid": "e16e48be-33f7-47c7-8265-a94866829c01",
     "showTitle": false,
     "title": ""
    }
   },
   "outputs": [
    {
     "data": {
      "text/plain": [
       "Out[6]: 5823210"
      ]
     },
     "metadata": {
      "application/vnd.databricks.v1+output": {
       "addedWidgets": {},
       "arguments": {},
       "data": "Out[6]: 5823210",
       "datasetInfos": [],
       "metadata": {},
       "removedWidgets": [],
       "type": "ansi"
      }
     },
     "output_type": "display_data"
    }
   ],
   "source": [
    "wikipediaDF.count()"
   ]
  },
  {
   "cell_type": "markdown",
   "metadata": {
    "application/vnd.databricks.v1+cell": {
     "inputWidgets": {},
     "nuid": "d514c6bb-9ff1-4de1-8034-3f6d8df5f554",
     "showTitle": false,
     "title": ""
    }
   },
   "source": [
    "To program the PageRank Algorithm, we need to extract a subset of the full database. We will select 0.00001 of the full database, and to avoid randomness behaviour, we set to a fixed seed value=0.\n",
    "\n",
    "**Note:** For the final evaluation, should change the fraction to 0.001"
   ]
  },
  {
   "cell_type": "code",
   "execution_count": 0,
   "metadata": {
    "application/vnd.databricks.v1+cell": {
     "inputWidgets": {},
     "nuid": "8f1bd9c8-7f2f-4780-b338-8e55fbd947a1",
     "showTitle": false,
     "title": ""
    }
   },
   "outputs": [],
   "source": [
    "PartialWikipediaDF=wikipediaDF.sample(fraction=0.001,seed=0).cache()"
   ]
  },
  {
   "cell_type": "code",
   "execution_count": 0,
   "metadata": {
    "application/vnd.databricks.v1+cell": {
     "inputWidgets": {},
     "nuid": "0a14781c-d035-43fc-bf5b-b5a21992fc51",
     "showTitle": false,
     "title": ""
    }
   },
   "outputs": [
    {
     "data": {
      "text/plain": [
       "Out[15]: 13"
      ]
     },
     "metadata": {
      "application/vnd.databricks.v1+output": {
       "addedWidgets": {},
       "arguments": {},
       "data": "Out[15]: 13",
       "datasetInfos": [],
       "metadata": {},
       "removedWidgets": [],
       "type": "ansi"
      }
     },
     "output_type": "display_data"
    }
   ],
   "source": [
    "PartialWikipediaDF.count()"
   ]
  },
  {
   "cell_type": "markdown",
   "metadata": {
    "application/vnd.databricks.v1+cell": {
     "inputWidgets": {},
     "nuid": "c5138c7d-9371-4cae-b2d4-3cdd9520d1e0",
     "showTitle": false,
     "title": ""
    }
   },
   "source": [
    "Now, we can check the data structure:"
   ]
  },
  {
   "cell_type": "code",
   "execution_count": 0,
   "metadata": {
    "application/vnd.databricks.v1+cell": {
     "inputWidgets": {},
     "nuid": "01e0bba7-8708-4e6e-b3b9-b4e00e5adf12",
     "showTitle": false,
     "title": ""
    }
   },
   "outputs": [
    {
     "data": {
      "text/html": [
       "<style scoped>\n",
       "  .table-result-container {\n",
       "    max-height: 300px;\n",
       "    overflow: auto;\n",
       "  }\n",
       "  table, th, td {\n",
       "    border: 1px solid black;\n",
       "    border-collapse: collapse;\n",
       "  }\n",
       "  th, td {\n",
       "    padding: 5px;\n",
       "  }\n",
       "  th {\n",
       "    text-align: left;\n",
       "  }\n",
       "</style><div class='table-result-container'><table class='table-result'><thead style='background-color: white'><tr><th>title</th><th>id</th><th>revisionId</th><th>revisionTimestamp</th><th>revisionUsername</th><th>revisionUsernameId</th><th>text</th></tr></thead><tbody><tr><td>Juliet O'Neill</td><td>7009414</td><td>672322994</td><td>2015-07-20T20:31:11.000+0000</td><td>Egsan Bacon</td><td>603343</td><td>'''Juliet O'Neill ''' is a [[Canada|Canadian]] journalist who was the subject of controversy when the [[Royal Canadian Mounted Police]] raided her house in 2004 in an attempt to find the source of an alleged internal leak giving her access to privileged documents related to the [[Maher Arar]] case.  ==Career== In 1986, O'Neill was working for the [[Canadian Press]] newswire, when she caught international attention for being the only reporter to capture [[Sondra Gotlieb]] slapping her social [[secretary]] Connie Gibson Connor at a [[state dinner]] held to honour Canadian Prime Minister [[Brian Mulroney]] and US Vice President [[George H. Bush]].<ref>[[Washington Monthly]], [http://findarticles.com/p/articles/mi_m1316/is_n5_v22/ai_9085523 Washington Rollercoaster. - book reviews], 1990</ref> In 2004, she was a reporter with the ''[[Ottawa Citizen]]'' at the time of the raid, and she had earlier served as a foreign correspondent in [[Moscow]].<ref name=\"tad\">[http://www.taddlecreekmag.com/alfredfebruary Those Were the Days | Taddle Creek | www.taddlecreekmag.com<!-- Bot generated title -->]</ref>  ==House raid== On January 21, 2004 the [[Royal Canadian Mounted Police]] raided her house as part of an attempt to identify the leak. During the raid, police seized notebooks, files, hard drives and other materials.   In November 2004, [[Ontario Superior Court]] Judge [[Lynn Ratushny]] ruled that the sealing of the search warrants was unacceptable, although [[Justice of the Peace]] [[Richard Sculthorpe]] had given approval after the RCMP invoked the Security of Information Act. Justice Ratushny stated that the sealing of the search violated guarantees of a free press, freedom of expression and the publics right to an open court system. She ordered that a [[Sanitization (classified information)|redact]]ed copy be released to the public.<ref>[http://www.injusticebusters.com/04/ONeill_Juliet.htm injusticebusters 2004 > > Juliet O'Neill: Traumatising a reporter<!-- Bot generated title -->]</ref>   In October 2006, Ontario Superior Court Judge Ratushny struck down Section 4 of the Security of Information Act,<ref name=\"soia\">{{cite web |url=http://laws.justice.gc.ca/en/O-5/275827.html#rid-275834 |title=Section 4 of the Security of Information Act |date=2006-09-15 |accessdate= 2006-10-26 |format= |work=Consolidated Statutes and Regulations |publisher= Department of Justice Canada}}</ref> ruling that it was \"unconstitutionally vague\" and broad<ref name=\"MacLeod\"> {{cite news   | first = Ian  | last = MacLeod  | authorlink =  | author =   | coauthors =  | title = Decision offers chance to overhaul security act  | url = http://www.canada.com/ottawacitizen/news/story.html?id=5f16f753-ce2a-48c3-85d3-b070889403b0&p=1  | format =   | work = The Ottawa Citizen  | publisher =   | pages =   | page =   | date = October 20, 2006  | accessdate = 2006-10-26  }}</ref> and an infringement of freedom of expression.  All materials seized from O'Neill were ordered returned.  O'Neill was represented by attorneys Rick Dearden and Wendy Wagner from [[Gowlings]] a law firm with offices in Ottawa.<ref>{{cite web|url=http://www.gowlings.com/resources/PublicationPDFs/Wagner_Dearden_Nov06.pdf|author=Richard Dearden and Wendy Wagner|title=The New Threat To Access To Information: National Security Allegations|publisher=Gowlings|accessdate=2013-09-21}}</ref>  ==Awards and honors== In 1996 O'Neill was awarded a [[Southam Fellowship]].<ref name=\"tad\" /> In 2005 she was honored with the [http://www.ccwpf-cclpm.ca/press-freedom-day-lunch/past-winners World Press Freedom Award ]. In 2009 she was honored with the [[Charles Lynch Award]] for Outstanding Coverage of National Affairs.<ref>[http://www.ottawacitizen.com/Canwest+editor+wins+national+press+award/2118676/story.html Ottawa Citizen report on 2009 Charles Lynch Award]</ref>  ==References== {{Reflist}}  ==External links== *[http://www.julietoneill.com Juliet O'Neill's website] *[http://www.media-awareness.ca/english/resources/articles/land_mines/96_land_mines_ban.cfm 1996 article she wrote on landmines]  {{Persondata <!-- Metadata: see [[Wikipedia:Persondata]]. --> | NAME              = Oneill, Juliet | ALTERNATIVE NAMES = | SHORT DESCRIPTION = Journalist | DATE OF BIRTH     = | PLACE OF BIRTH    = | DATE OF DEATH     = | PLACE OF DEATH    = }} {{DEFAULTSORT:Oneill, Juliet}} [[Category:Canadian journalists]] [[Category:Year of birth missing (living people)]] [[Category:Living people]]   {{Canada-journalist-stub}}</td></tr><tr><td>Manettia</td><td>6379698</td><td>624268259</td><td>2014-09-05T09:17:42.000+0000</td><td>NotWith</td><td>15476594</td><td>{{Unreferenced stub|type =plant|auto=yes|date=December 2009}} {{italic title}} {{Taxobox | name = ''Manettia'' | image = Bouvardia.jpg | image_caption = ''Manettia cordifolia'': illustrations H-K | regnum = [[Plantae]] | unranked_divisio = [[Angiosperms]] | unranked_classis = [[Eudicots]] | unranked_ordo = [[Asterids]] | ordo = [[Gentianales]] | familia = [[Rubiaceae]] | subfamilia = [[Rubioideae]] | tribus = [[Hedyotideae]] | genus = '''''Manettia''''' | genus_authority = [[Mutis]] ex [[Linnaeus|L.]] | subdivision_ranks = species | subdivision = See text. }} '''''Manettia''''' is a [[genus]] of about 80 species of  [[liana]]s and twining [[herb]]s in the family [[Rubiaceae]], native to [[tropical]] [[Americas|America]].   ;Selected species *''Manettia cordifolia'' ([[Synonymy|Syn.]]: ''Manettia ignita'') ([[Carapichea ipecacuanha|ipecacuanha]] adulterant) *''Manettia luteorubra'' *''[[Manettia skutchii]]''  == References == {{reflist}}  [[Category:Manettia| ]] [[Category:Rubiaceae genera]]  {{Rubiaceae-stub}}</td></tr><tr><td>Kenny McKinley</td><td>22371574</td><td>680393717</td><td>2015-09-10T16:18:45.000+0000</td><td>Crash Underride</td><td>4207917</td><td>{{Infobox NFL player |name=Kenny McKinley |image=Kenny McKinley.JPG |image_size=200 |caption=McKinley playing for the [[Denver Broncos]] in 2009. |number=11 |position=[[Wide receiver]] |birth_date={{birth date|1987|1|31}} |birth_place=[[Mableton, Georgia]] |death_date={{death date and age|2010|9|20|1987|1|31}} |death_place=[[Centennial, Colorado]] |heightft=6 |heightin=0 |weight=183 |college=[[South Carolina Gamecocks football|South Carolina]] |draftyear=2009 |draftround=5 |draftpick=141 |pastteams= * [[Denver Broncos]] ({{NFL Year|2009}}–{{NFL Year|2010}}) |highlights= * First-team All-[[Southeastern Conference|SEC]] (2007) |statlabel1=Receptions |statvalue1=0 |statlabel2=Receiving yards |statvalue2=0 |statlabel3=Receiving TDs |statvalue3=0 |statlabel4=Kick Return yards |statvalue4=158 |statlabel5=Punt Return yards |statvalue5=32 |nfl=MCK403564 }} '''Kendrick \"Kenny\" L. McKinley''' (January 31, 1987 – September 20, 2010) was an [[American football]] [[wide receiver]] for the [[Denver Broncos]] of the [[National Football League]]. He was drafted by the Broncos in the fifth round of the [[2009 NFL Draft]]. He played [[college football]] at [[South Carolina Gamecocks football|South Carolina]].  ==Early years== Born in [[Mableton, Georgia]],<ref>[http://www.pro-football-reference.com/players/M/McKiKe00.htm \"Kenny McKinley\" ''Pro-Football Reference.com''] 21 September 2010</ref> he graduated from South Cobb High School in [[Austell, Georgia|Austell]] in 2005. As a quarterback during his senior year, he passed for 1,470 yards and 16 touchdowns and rushed for 750 yards while scoring 12 [[touchdowns]]. He was rated the 29th-best player in the state of Georgia and the 54th-best athlete in the country by Rivals.com.  ==Collegiate career== As a true freshman while playing for the University of South Carolina Gamecocks, in 2005, he worked his way into the starting lineup at wide receiver and also handled the punt return duties. He started six games and ranked third on the team with 25 catches for 291 yards and returned 18 punts for 83 yards.  During his sophomore year in 2006, McKinley started all 13 games and recorded 51 receptions and 880 yards, which ranked second on the team behind [[Sidney Rice]]. McKinley's best game was an eight-catch, 110-yard effort against Auburn, the first 100-yard receiving day in his career.  He would go on to earn first-team honors from: the SEC coaches (All-SEC), the Associated Press and CollegeFootballNews.com. He was second-team All-SEC by Rivals.com and honorable mention All-America honors from CollegeFootballNews.com.  Despite playing with [[turf toe]] most of the year, as the [[South Carolina Gamecocks football|Gamecocks']] #1 receiver, McKinley not only led the team but led the [[Southeastern Conference|Southeastern Conference (SEC)]] in receptions (a then school-record 77), receptions per game (6.42) and in receiving yards per game (80.7). He also was number one at [[South Carolina Gamecocks football|South Carolina]] in yards (968) and touchdowns (9). He had four 100-yard receiving games in 2007, including a school record 14 catch performance against [[Tennessee Volunteers football|Tennessee]] where he had a career-best 151 yards.  In 2008, McKinley entered his senior year as an [[All-America]] candidate that was in position to break every  [[South Carolina Gamecocks football|South Carolina]] school career receiving record. He began the 2008 campaign ranked tied for fourth in career receptions (153), sixth in career receiving yards (2,139) and tied for sixth in receiving touchdowns (15) in Carolina history. Despite being out of the lineup for a three-game stretch due to a right [[hamstring]] strain, he set school career records for receptions and receiving yards, while also closing out his career second on the school's all-time touchdown catches list. McKinley also placed his name in the [[Southeastern Conference|SEC]] record books. His 207 receptions placed third in conference annals, becoming just the fifth SEC player to amass more than 200 catches in a career. He also became the 12th player in league history to record more than 2,700 receiving yards (2,781).  ==Professional career== McKinley was drafted by the [[Denver Broncos]] in the [[2009 NFL Draft#Fifth round|fifth round, 5th pick (141st overall)]] during the [[2009 NFL Draft]].  McKinley played in eight games in 2009 as a kick returner. He returned seven kicks for a total of 158 yards.<ref name=\"AP\">Stapleton, Arnie, ([[Associated Press]]), \"[http://news.yahoo.com/s/ap/fbn_broncos_mckinley_death Sheriff: Broncos WR Kenny McKinley found dead]\" ''[[Yahoo! News]]'', 21 September 2010.</ref> He also recorded 3 special teams tackles.  He was placed on [[injured reserve]] with a knee injury on December 28, 2009.  ==Death== {{wikinews|Denver Broncos player Kenny McKinley found dead aged 23}} McKinley was found dead on September 20, 2010, from an apparent self-inflicted gunshot wound.<ref name=\"AP\"/><ref name=\"npr\">{{cite news |title=Sheriff: Broncos WR Kenny McKinley Found Dead |url=http://www.npr.org/templates/story/story.php?storyId=130006111 |agency=Associated Press |date=September 20, 2010 |accessdate=2010-09-20}} {{Dead link|date=October 2010|bot=H3llBot}}</ref> His death was reported as a suicide by local media, and later confirmed by members of the Arapahoe County Sheriff's office.<ref name=\"Death\">{{cite web|url=http://www.kdvr.com/news/kdvr-broncos-mckinley-death-txt,0,3972716.story|title=Sheriff's Report: McKinley was depressed over knee injury|publisher=KDVR|date=|accessdate=2010-09-22}}</ref>  A 131-page report was released by the [[Arapahoe County, Colorado|Arapahoe County]] Sheriff's Department on December 1, 2010, concluding the investigation into McKinley's death. It stated that [[depression (mood)|depression]] over debt, injury and his post-playing career were the main factors for his suicide.<ref name=\"report\">{{cite web|url=http://www.nfl.com/news/story/09000d5d81c8fedb/article/knee-injury-gambling-debt-weighed-on-late-bronco-mckinley|date=1 December 2010|title=NFL.com news: Knee injury, gambling debt weighed on late Bronco McKinley}}</ref>  The report stated that McKinley had a gambling problem and was deep in debt.<ref>[[Associated Press]], \"McKinley in debt before suicide\", 2 December 2010.</ref>  His freshman roommate O.J. Murdock was also highly touted going into college, eventually being signed by the [[Tennessee Titans]] as an undrafted free agent. Murdock also died by suicide because of depression, injuries, and his personal life on July 30, 2012.<ref>{{cite web|url=http://espn.go.com/espn/otl/story/_/id/8758092/kenny-mckinley-oj-murdock-were-college-teammates-big-nfl-dreams-where-did-things-go-wrong |title=Too Much In Common |publisher=ESPN |date=18 December 2012 }}</ref>  ==References== {{Reflist}}  ==External links== {{portal|Biography|American Football}} *[http://www.denverbroncos.com/page.php?id=498&contentID=9882 Denver Broncos bio] *[http://gamecocksonline.cstv.com/sports/m-footbl/mtt/mckinley_kenny00.html South Carolina Gamecocks bio]  {{Broncos2009DraftPicks}}  {{Persondata  | NAME              = McKinley, Kenny | ALTERNATIVE NAMES = | SHORT DESCRIPTION = American football player | DATE OF BIRTH     = January 31, 1987 | PLACE OF BIRTH    = Mableton, Georgia | DATE OF DEATH     = September 20, 2010 | PLACE OF DEATH    = Centennial, Colorado }} {{DEFAULTSORT:McKinley, Kenny}} [[Category:1987 births]] [[Category:2010 deaths]] [[Category:People from Mableton, Georgia]] [[Category:People from East Baton Rouge Parish, Louisiana]] [[Category:Players of American football from Georgia (U.S. state)]] [[Category:American football wide receivers]] [[Category:American football return specialists]] [[Category:South Carolina Gamecocks football players]] [[Category:Denver Broncos players]] [[Category:Players of American football who committed suicide]] [[Category:Suicides by firearm in Colorado]] [[Category:Sportspeople from Cobb County, Georgia]] [[Category:People from Austell, Georgia]]</td></tr><tr><td>Brown-Westhead, Moore & Co</td><td>39249641</td><td>569388057</td><td>2013-08-20T12:33:35.000+0000</td><td>Yobot</td><td>7328338</td><td>[[File:BWM.jpg|thumb|[[Meissen porcelain]] mark of BWM&C.]] '''Messrs. Thomas C. Brown-Westhead, Moore & Co.''' was a manufacturer of [[China]], [[earthenware]] and [[sanitary]] goods at [[Cauldon Canal|Cauldon Place]], [[Stoke-upon-Trent]] in [[England]] from 1856.  ==See also== *[[Victorian majolica]]  ==References== *[http://www.thepotteries.org/potworks_wk/058.htm The Potteries (illustrated) 1893 advertising and trade journal]  {{Porcelain}}  {{DEFAULTSORT:Brown-Westhead, Moore and Co}} [[Category:Ceramics manufacturers of England]] [[Category:Porcelain]]   {{UK-company-stub}} {{Ceramics-stub}}</td></tr><tr><td>Phalonidia haplidia</td><td>42305636</td><td>642101232</td><td>2015-01-12T03:10:36.000+0000</td><td>Dawynn</td><td>6655086</td><td>{{italic title}} {{Taxobox | name = Phalonidia haplidia | image =  | image_width =  | image_caption =  | image2 =  | image2_width =  | image2_caption =  | status =  | status_system =  | regnum = [[Animal]]ia | phylum = [[Arthropod]]a | classis = [[Insect]]a | ordo = [[Lepidoptera]] | familia = [[Tortricidae]] | genus = ''[[Phalonidia]]'' | species = '''''P. haplidia''''' | binomial = ''Phalonidia haplidia'' | binomial_authority = ([[Józef Razowski|Razowski]], 1986)<ref>[http://www.tortricidae.com/catalogueGenusList.asp?gcode=712 tortricidae.com]</ref> | synonyms = *''Phtheochroa haplidia'' <small>Razowski, 1986</small> *''Platphalonidia haplidia'' }} '''''Phalonidia haplidia''''' is a species of [[moth]] of the [[Tortricidae]] family. It is found in [[Mexico]] (Durango).  ==References== {{Reflist}} {{wikispecies}} {{commons}}  [[Category:Moths described in 1986]] [[Category:Phalonidia]]   {{Phalonidia-stub}}</td></tr><tr><td>Bean Bowl</td><td>13511010</td><td>646704457</td><td>2015-02-11T21:37:28.000+0000</td><td>Od Mishehu AWB</td><td>5294192</td><td>{{Collegebowl | name               = Bean Bowl | defunct            = yes | logo               = | image_size         = | caption            =  | stadium            = unknown | location           = [[Scottsbluff, Nebraska]] | years              = 1949–1950 | prev_matchup_year  = 1950 | prev_matchup_season= 1950 | prev_matchup_teams = [[Doane College]] vs. [[University of Northern Colorado|Colorado State College]] | prev_matchup_score = 14-6 }}  The '''Bean Bowl''' was a non-[[National Collegiate Athletic Association|NCAA]]-sanctioned [[United States|American]] [[college football]] [[bowl game]] played in [[Scottsbluff, Nebraska]], in 1949 and 1950.  ==Results== {| class=\"wikitable\" ! Game !! Date !! Winner !! Score !! Loser !! Score !! Reference |- align=center | 1949 || 24 November || '''[[Idaho State University#Athletics|Idaho State]]''' || '''20''' || [[Chadron State College#Athletics|Chadron State]] || 2 || <ref>{{cite news    | title = Idaho State Bowl Victor, 20-2   | work = [[New York Times]] (1857-Current file)   | pages = 35   | publisher = ProQuest Historical Newspapers The New York Times (1851 - 2004) database   | date = 1949-11-25   | url = http://proquest.umi.com/pqdweb?did=84231542&sid=2&Fmt=1&clientId=36180&RQT=309&VName=HNP   | accessdate = 2007-09-30 }}</ref> |- align=center | 1950 || November 23<ref>[http://www.cfbdatawarehouse.com/data/naia/gpac/doane/bowl_history.php College Football Data Warehouse] Doane Bowl History]</ref> || '''[[Doane College|Doane]]''' || '''14''' || [[University of Northern Colorado|Colorado State College]] || 6 ||<ref>{{cite web   | title = Doane vs. Non-Conference Opponents   | publisher = [[Doane College]]   | date = 2005-05-17   | url = http://www.doane.edu/Athletics/Men/Football/Stats/15882.pdf   | format = PDF   | accessdate = 2007-09-30 }}</ref> |}  == References == <references /> *{{cite book   | last = Belsky   | first = Gary   |author2=Neil Fine   | title = 23 Ways to Get to First Base: The ESPN Encyclopedia   | publisher = ESPN Books   | year = 2007   | location = New York   | pages = 241   | isbn = 978-1-933060-10-1 }}  [[Category:Defunct college football bowls]]   {{collegefootball-bowl-stub}} {{Nebraska-sport-stub}}</td></tr><tr><td>Benjamin Karamoko</td><td>45446916</td><td>667566586</td><td>2015-06-19T00:27:26.000+0000</td><td>Aboutmovies</td><td>2602832</td><td>{{Infobox football biography | name        = Benjamin Karamoko | image       =  | image_size  =  | caption     =  | fullname    =  | birth_date  = {{Birth date and age|1995|5|17|df=y}} | birth_place = [[Mali]] | height      =  | position    = [[Defender (association football)|Defender]] | currentclub = [[AS Saint-Étienne|Saint-Étienne]] | clubnumber  = 31 | youthyears1 = –2015 | youthclubs1 = [[AS Saint-Étienne|Saint-Étienne]] | years1      = 2015– | clubs1      = [[AS Saint-Étienne|Saint-Étienne]] | caps1       = 1 | goals1      = 0 | nationalyears1 =  | nationalteam1 =  | nationalcaps1 =  | nationalgoals1 =  | club-update = 19 February 2015 }}  '''Benjamin Karamoko''' (born 17 May 1995) is a [[France|French]] footballer who plays as a [[Defender (association football)|defender]] for [[Ligue 1]] club [[AS Saint-Étienne|Saint-Étienne]].<ref name=\"soccerway\">{{cite web|url=http://int.soccerway.com/players/benjamin--kantie-karamoko/245975/|title=France - B. Karamoko - Profile with news, career statistics and history - Soccerway|publisher=soccerway.com|accessdate=2015-02-19}}</ref>  == Club career ==  Karamoko is a youth exponent from [[AS Saint-Étienne|Saint-Étienne]]. He made his [[Ligue 1]] debut on 15 February 2015 against [[Girondins de Bordeaux]]. He replaced [[Paul Baysse]] at half-time in a 1-0 home win.<ref name=\"soccerway2\">{{cite web|url=http://int.soccerway.com/matches/2015/01/25/france/ligue-1/association-sportive-de-saint-etienne-loire/paris-saint-germain-fc/1687137/|title=Bordeaux vs. Saint-Étienne - 15 February 2015 - Soccerway|publisher=soccerway.com|accessdate=2015-02-19}}</ref>  == References == {{Reflist}} {{AS Saint-Étienne squad}}  {{Persondata | NAME              = Karamoko, Benjamin | ALTERNATIVE NAMES = | SHORT DESCRIPTION = French footballer | DATE OF BIRTH     = 17 May 1995 | PLACE OF BIRTH    = Mali | DATE OF DEATH     = | PLACE OF DEATH    = }} {{DEFAULTSORT:Karamoko, Benjamin}} [[Category:1995 births]] [[Category:Living people]] [[Category:French footballers]] [[Category:Association football defenders]] [[Category:Ligue 1 players]] [[Category:AS Saint-Étienne players]] [[Category:Place of birth missing (living people)]]  {{France-footy-bio-stub}}</td></tr><tr><td>Villa Aldama</td><td>23255883</td><td>634540929</td><td>2014-11-19T14:29:20.000+0000</td><td>Monkbot</td><td>20483999</td><td>{{Infobox settlement <!--See the Table at Infobox Settlement for all fields and descriptions of usage--> <!-- Basic info  ----------------> |name          =  Villa Aldama |settlement_type        =[[Municipalities of Veracruz|Municipality]] and town |other_name             = |native_name            =  <!-- for cities whose native name is not in English --> |nickname               =  |motto                  = <!-- images and maps  -----------> |image_skyline          = |imagesize              = |image_caption          = |image_flag             =  |flag_size              = |image_seal             =  |seal_size              = |image_shield           = |shield_size            = |image_blank_emblem     = |blank_emblem_type      = |blank_emblem_size      = |image_map              = |mapsize                =  |map_caption            = Location of the municipality in Veracruz |pushpin_map            =Mexico <!-- the name of a location map as per http://en.wikipedia.org/wiki/Template:Location_map --> |pushpin_label_position =above |pushpin_mapsize        = |pushpin_map_caption    =Location in Mexico <!-- Location ------------------> |coordinates_display    = inline,title |coordinates_region     = MX |subdivision_type       = Country |subdivision_name       = {{flag|Mexico}} |subdivision_type1      = [[Administrative divisions of Mexico|State]] |subdivision_name1      = [[Veracruz]] |subdivision_type2      =  |subdivision_name2      = <!-- Politics -----------------> |government_footnotes   = |government_type        = |leader_title           = |leader_name            = |established_title      = <!-- Settled --> |established_date       =  <!-- Area    ---------------------> |area_magnitude         =  |unit_pref                =  |area_footnotes           = |area_total_km2           =78.96 <!-- ALL fields dealing with a measurements are subject to automatic unit conversion--> |area_land_km2            = <!--See table @ Template:Infobox Settlement for details on automatic unit conversion--> |area_water_km2           = |area_total_sq_mi         = |area_land_sq_mi          = |area_water_sq_mi         = |area_water_percent       = |area_urban_km2           = |area_urban_sq_mi         = |area_metro_km2           = |area_metro_sq_mi         = |area_blank1_title        = |area_blank1_km2          = |area_blank1_sq_mi        = <!-- Population   -----------------------> |population_as_of               =2005 |population_footnotes           = |population_note                = |population_total               =9,573 |population_density_km2         = |population_density_sq_mi       = |population_metro               = |population_density_metro_km2   = |population_density_metro_sq_mi = |population_urban               = |population_density_urban_km2   = |population_density_urban_sq_mi = <!-- General information  ---------------> |timezone               = [[North American Central Time Zone|Central Standard Time]] |utc_offset             = -6  |timezone_DST           = [[North American Central Time Zone|Central Daylight Time]] |utc_offset_DST         = -5 |latd=19|latm=39|lats=|latNS=N |longd=97|longm=14|longs=|longEW=W |elevation_footnotes    =  <!--for references: use <ref> </ref> tags--> |elevation_m            =  |elevation_ft           = <!-- Area/postal codes & others --------> |postal_code_type       =  <!-- enter ZIP code, Postcode, Post code, Postal code... --> |postal_code            = |area_code              = |blank_name             = |blank_info             = |blank1_name            = |blank1_info            = |website                =  |footnotes              = }}  ''' Villa Aldama ''' is a municipality located in the central zone in the State of [[Veracruz (state)|Veracruz]], about 33&nbsp;km from state capital [[Xalapa]]. It has a surface of 78.96 km2. It is located at {{coord|19|39|N|97|14|W|}}. The municipality takes this name in honor to Don Juan Aldama, who was one of the commanders of the Independence of Mexico.  ==Geography==  The municipality of ''' Villa Aldama ''' is bordered to the north by [[Las Minas]] and [[Altotonga (municipality)|Altotonga]], to the east by [[Las Vigas de Ramírez|Las Vigas]] and to the south by [[Perote (municipality)|Perote]] State.<ref name=\"e-local\">{{cite web|url= http://www.e-local.gob.mx/work/templates/enciclo/veracruz/municipios/30194a.htm |title=Enciclopedia de los Municipios de México: Villa Aldama |publisher=[http://www.veracruz.gob.mx Gobierno Estatal]|language=Spanish|accessdate=2009-06-17}}</ref>  ==Agriculture==  It produces principally [[maize]], [[beans]], [[potato]] and [[faba bean]].  ==Celebrations== Every July, a festival is held to celebrate Santiago Apostol, patron of the town and in December there is a festival held in honor of the [[Virgin of Guadalupe]].  ==Weather==  The weather in ''' Villa Aldama ''' is cold and wet all year with rains in summer and autumn.  ==References== {{reflist|1}}  == External links ==  * {{es icon}} [http://www.villaaldama.gob.mx Municipal Official webpage] * {{es icon}} [http://portal.veracruz.gob.mx/portal/page?_pageid=153,4493464&_dad=portal&_schema=PORTAL&municipio=villaaldama.pdf Municipal Official Information]  {{Veracruz}}  [[Category:Municipalities of Veracruz]] [[Category:Populated places in Veracruz]]   {{Veracruz-geo-stub}}</td></tr><tr><td>Hypolycaena merguia</td><td>36575375</td><td>621553543</td><td>2014-08-16T23:51:08.000+0000</td><td>Oculi</td><td>4460308</td><td>{{Taxobox | image = | regnum = [[Animal]]ia | phylum = [[Arthropod]]a | classis = [[Insect]]a | ordo = [[Lepidoptera]] | familia = [[Lycaenidae]] | genus = ''[[Hypolycaena]]'' | species = '''''H. merguia''''' | binomial = ''Hypolycaena merguia''  | binomial_authority = ([[William Doherty|Doherty]], 1889)<ref>[http://www.nic.funet.fi/pub/sci/bio/life/insecta/lepidoptera/ditrysia/papilionoidea/lycaenidae/theclinae/hypolycaena/index.html ''Hypolycaena''], funet.fi</ref> | synonyms = *''Chliaria merguia'' <small>Doherty, 1889</small> *''Chliaria merguia watsoni'' <small>Swinhoe, 1911</small> *''Chliaria merguia histiaea'' <small>Fruhstorfer, 1914</small> *''Chliaria merguia histiäa'' <small>Fruhstorfer, 1914</small> *''Hypolycaena skapane'' <small>Druce, 1895</small> *''Chliaria merguia sobanas'' <small>Fruhstorfer, 1914</small> *''Chliaria merguia palpatoris'' <small>Fruhstorfer, 1914</small> }} '''''Hypolycaena merguia''''' is a [[butterfly]] in the [[Lycaenidae]] family. It was described by Doherty in 1889. It is found in [[South-east Asia]].  ==Subspecies== *''Hypolycaena merguia merguia'' (Mergui, southern Burma, Thailand) *''Hypolycaena merguia watsoni'' <small>(Swinhoe, 1911)</small> (Burma, Thailand) *''Hypolycaena merguia histiaea'' <small>(Fruhstorfer, 1914)</small> (Sumatra) *''Hypolycaena merguia skapane'' <small>Druce, 1895</small> (Borneo) *''Hypolycaena merguia palpatoris'' <small>(Fruhstorfer, 1914)</small> (western Java)  ==References== {{reflist}}  [[Category:Insects described in 1889]] [[Category:Hypolycaenini]] [[Category:Butterflies of Borneo]]   {{Theclinae-stub}}</td></tr><tr><td>Miss Chinese International Pageant 2010</td><td>29406590</td><td>651403619</td><td>2015-03-14T23:37:40.000+0000</td><td>Sm admi</td><td>24428268</td><td>{{Beauty pageant  | photo =  | winner = [[Eliza Sam]] 岑麗香 | represented = Vancouver, {{flag|Canada}} | date = November 5, 2010 | presenters = [[Carol Cheng]], [[Derek Li]], Jin Liu | acts = [[Raymond Lam]], [[Leo Ku]], Eliza Chan, [[Liu Xuan (gymnast)|Liu Xuan]] | entrants = 24  | venue = Tianjin Goldin Metropolitan Hotel, [[Tianjin]], [[China]] | broadcaster = [[Television Broadcasts Limited|TVB]] | congeniality =  | placements = 12  }}  The 22nd [[Miss Chinese International Pageant]], '''Miss Chinese International Pageant 2010''' was held on November 5, 2010. [[Tianjin]], [[China]] would host the pageant for the first time. [[TVB]] would broadcast the pageant one day later, delayed, for the first time ever. [[Miss Chinese International Pageant 2009|Miss Chinese International 2009]] '''[[Christine Kuo]]''' of [[Toronto, Canada]] crowned her successor, '''[[Eliza Sam]]''' of [[Vancouver, Canada]] at the end of the three-hour pageant, marking Vancouver's '''fifth win'''. <ref>{{cite web|title=Official Site|url=http://programme.tvb.com/variety/mcip2010/}}</ref>   ==Pageant information== The slogan to this year's pageant is \"Chinese Beautiful Posture, Beautiful Shadows of Red Dust\" 「中華美態  紅塵儷影」.  This year marks the first time the pageant is held in the fall since [[Miss Chinese International Pageant 1989|1989]].  The Masters of Ceremonies are [[Carol Cheng]] and Derek Li from Hong Kong, as well as Jin Liu from Tianjin. Special performers include [[Raymond Lam]] and [[Leo Ku]].  ==Results== [[Kuala Lumpur]] representative, Belle Theng made it to the top 3 and finished as 1st runner up. She is the first contestant from her region to advance to semi-finals, since 2006 when Annabelle Kong was the 2nd runner up and won the Miss Friendship Award.<ref>{{cite web|title=Official Site|url=http://programme.tvb.com/variety/mcip2010/}}</ref>   {| class=\"wikitable\" border=\"1\" |- ! Placement ! Contestant ! City Represented ! Country Represented |- | '''Miss Chinese International 2010'''  || [[Eliza Sam]] 岑麗香 || [[Vancouver]] || {{flag|Canada}}  |- | '''1st Runner-Up''' || Belle Theng 陳美妤 || [[Kuala Lumpur]] || {{flag|Malaysia}}  |- | '''2nd Runner-Up''' || [[Candy Chang]] 張慧雯 || [[Toronto]] || {{flag|Canada}} |- | '''Top 6 Finalists''' || Athena Zhang 張滿 <br> Lu Bai 白鷺 <br> Toby Chan 陳庭欣 || [[Auckland]] <br> [[Foshan]] <br>[[Hong Kong]] || {{flag|New Zealand}} <br> {{flag|China}} <br> {{flag|Hong Kong}} |- | '''Top 12 Semi-Finalists''' ||   Simwayn Tran 陳心慰 <br> May Yan Wong 王美艷 <br> Maisie Tran 陳美詩 <br> Cynthia Zhang 張聖女 <br> Melanie Lu 陸曼 <br> Cindy Liu 劉捷 || [[Amsterdam]] <br>  [[Melbourne]] <br> [[Montréal]] <br> [[New York City]] <br> [[Sydney]] <br> [[Henan]] || {{flag|The Netherlands}} <br> {{flag|Australia}} <br> {{flag|Canada}} <br> {{flag|USA}} <br> {{flag|Australia}} <br> {{flag|China}}   |}  ===Special awards=== *'''Miss Friendship''': Lu Bai 白鷺  ('''Foshan''') *'''Miss Home Beauty''': Belle Theng 陳美妤 ('''Kuala Lumpur''')  ==Contestant list== {| class=\"sortable wikitable\" |- bgcolor=\"#CCCCCC\" !  No. !! Contestant Name !! Represented City !! Represented Country !! Age !! Chinese Origin  |-  | 1 || '''Athena ZHANG 張滿''' || [[Auckland]] || {{flag|New Zealand}} || 23 || [[Harbin]] |- | 2 || '''Simwayn TRAN 陳心慰''' || [[Amsterdam]] || {{flag|The Netherlands}} || 20 || [[Chaozhou]] |- | 3 || '''Mintra SOJIPHAN 丁文冰''' || [[Bangkok]] || {{flag|Thailand}} || 23 || [[Wenchang]] |- | 4 || '''Jessica LIN 林晨諭''' || [[Chicago]] || {{flag|USA}} || 21 || [[Taiwan]] |- | 5 || '''Lu BAI 白鷺''' || [[Foshan]] || {{flag|China}} || 22 || [[Shandong]] |- | 6 || '''Toby CHAN 陳庭欣''' || [[Hong Kong]] || {{flag|Hong Kong}} || 23 || [[Shunde]] |- | 7 || '''Belle THENG 陳美妤''' || [[Kuala Lumpur]] || {{flag|Malaysia}} || 24 || [[Fujian]] |- | 8 || '''Laura LI 李若瀅''' || [[Macau]] || {{flag|Macao}} || 22 || [[Guangdong]] |- | 9 || '''Samantha DY 李璇璇''' || [[Manila]] || {{flag|Philippines}} || 21 || [[Fujian]] |- | 10 || '''May Yan WONG 王美艷''' || [[Melbourne]] || {{flag|Australia}} || 22 || [[Hainan]] |- | 11 || '''Maisie TRAN 陳美詩''' || [[Montréal]] || {{flag|Canada}} || 21 || [[Fujian]] |- | 12 || '''Cynthia ZHANG 張聖女''' || [[New York City]] || {{flag|USA}} || 20 || [[Jilin]] |- | 13 || '''Amy CHU 周玉霞''' || [[San Francisco]] || {{flag|USA}} || 25 || [[Guangxi]] |- | 14 || '''Cynthia VUONG 王佩芷''' || [[Seattle]] || {{flag|USA}} || 23 || [[Foshan]] |- | 15 || '''Adeline YAP 葉佳慧''' || [[Singapore]] || {{flag|Singapore}} || 25 || [[Fujian]] |- | 16 || '''Melanie LU 陸曼''' || [[Sydney]] || {{flag|Australia}} || 23 || [[Beijing]] |- | 17 || '''Connie CHUNG 鍾梓尤''' || [[Tahiti]] || {{flag|French Polynesia}} || 21 || [[Guangdong]] |- | 18 || '''[[Candy Chang|Candy CHANG]] 張慧雯''' || [[Toronto]] || {{flag|Canada}} || 20 || [[Beijing]] |- | 19 || '''[[Eliza Sam|Eliza SAM]] 岑麗香''' || [[Vancouver]] || {{flag|Canada}} || 25 || [[Guangzhou]] |- | 20 || '''Candy FANG 方蘭''' || [[Hebei]] || {{flag|China}} || 21 || [[Chaoshan]] |- | 21 || '''Man Zi LI 李曼姿''' || [[Guangzhou]] || {{flag|China}} || 18 || [[Shenyang]] |- | 22 || '''Cindy LIU 劉捷''' || [[Henan]] || {{flag|China}} || 25 || [[Henan]] |- | 23 || '''Jasmine LIU 劉雅婷''' || [[Jianxi]] || {{flag|China}} || 22 || [[Shandong]] |- | 24 || '''Yoyo YANG 楊逸歐''' || [[Guangdong]] || {{flag|China}} || 23 || [[Gansu]] |}  ==Contestants that received media attention== *[[Vancouver]] [[Eliza Sam]] was the hot favorite for being the cutest girl out of the contestants. She won the pageant due to the four votes from Joe Ma Tak Chung, Sonija Kwok Sin Lei, Kate Tsui Chi San and Lau Yang. <ref>http://kays-entertainment.blogspot.com.au/2010/11/miss-chinese-international-2010-results.html</ref> *[[Sydney]] contestant Melanie Lu was 1 of only 2 girls with perfect proportions of 36\"-24½\"-36½\",the other was Toronto contestant Candy Chang 35\"-23\"-35\"  and was publicly lauded by the Hong Kong media for her voluptuous figure and breasts. <ref>http://bbs.ent.163.com/bbs/tvb/156801498,9.html</ref>   ==References== {{Reflist}}  ==External links== [http://programme.tvb.com/variety/mcip2010/ Miss Chinese International Pageant 2010 Official Site]  {{Miss Chinese International}} [[Category:TVB]] [[Category:2010 beauty pageants]] [[Category:2010 in China]] [[Category:Beauty pageants in China]] [[Category:Miss Chinese International Pageants]]</td></tr><tr><td>Hoseynabad, Qatruyeh</td><td>41834571</td><td>609012420</td><td>2014-05-17T21:22:10.000+0000</td><td>EmausBot</td><td>11292982</td><td>{{Infobox settlement |official_name =Hoseynabad |native_name =حسين اباد |settlement_type        = village |pushpin_map            =Iran |mapsize                =150px |coordinates_region     = IR |subdivision_type       = [[List of countries|Country]] |subdivision_name = {{flag|Iran}} |subdivision_type1 =[[Provinces of Iran|Province]] |subdivision_name1 =[[Fars Province|Fars]] |subdivision_type2 =[[Counties of Iran|County]] |subdivision_name2 = [[Neyriz County|Neyriz]] |subdivision_type3 =[[Bakhsh]] |subdivision_name3 =[[Qatruyeh District|Qatruyeh]] |subdivision_type4 =[[Rural Districts of Iran|Rural District]] |subdivision_name4 =[[Qatruyeh Rural District|Qatruyeh]] |leader_title           =  |leader_name            =  |established_title      = |established_date       =  |area_total_km2           =  |area_footnotes           =  |population_as_of         = 2006 |population_total =12 |population_density_km2   =auto |timezone               = [[Iran Standard Time|IRST]] |utc_offset             = +3:30 |timezone_DST           = [[Iran Daylight Time|IRDT]] |utc_offset_DST         = +4:30 |coordinates_display      = % |latd=29|latm=05|lats=40|latNS=N |longd=54|longm=43|longs=05|longEW=E |elevation_m            =  |area_code              =  |website                =  |footnotes              = }} '''Hoseynabad''' ({{lang-fa|حسين اباد}}, also [[Romanize]]d as '''Ḩoseynābād''')<ref>{{GEOnet3|10437579|Hoseynabad}}</ref> is a village in [[Qatruyeh Rural District]], [[Qatruyeh District]], [[Neyriz County]], [[Fars Province]], [[Iran]]. At the 2006 census, its population was 12, in 4 families.<ref>{{IranCensus2006|07}}</ref>    == References == {{reflist}}  {{Neyriz County}}   [[Category:Populated places in Neyriz County]]  {{Neyriz-geo-stub}}</td></tr><tr><td>13i</td><td>46653940</td><td>661530104</td><td>2015-05-09T09:21:21.000+0000</td><td>Eric abiog</td><td>17217290</td><td>{{Infobox TV channel   |name            = 13i (Canal 13 Internacional)  |logofile        = Canal 13i.png  |logosize        = 270  |branding        =   |slogan          = ''Tu conexión con Chile (Your connection to Chile)''  |launch          = June 30, 2014  |picture format  =   |share as of     =  |share source    =  |owner           = [[Canal 13 (Chile)|Canal 13 S.A.]]  |headquarters    = [[Santiago]]  |country         = [[Chile]]  |former names    = UCTV Señal Internacional (1995-2001)  |language        = [[Spanish language|Spanish]]  |available       =  |sister names    =  |founder         =   |key_people      = Cristian Bofill (executive director)  |web             = [http://www.13i.tv/ www.13i.tv] |  |terr serv 1     =   |terr chan 1     =   |sat serv 1      = Inter (Bolivia)  |sat chan 1      = Channel 122  |sat serv 2      = Viva TV (Dominican Republic)  |sat chan 2      = Channel 806  |sat serv 3      = Personal (Paraguay)  |sat chan 3      = Channel 122  |sat serv 4      = Inter (Peru)  |sat chan 4      = Channel 122  |sat serv 5      = Inter (Venezuela)  |sat chan 5      = Channel 118  |sat serv 6      =  |sat chan 6      =  |sat serv 7      =  |sat chan 7      =  |cable serv 1    =   |cable chan 1    =   |cable serv 2    =   |cable chan 2    =   |cable serv 3    =   |cable chan 3    =   |cable serv 4    =   |cable chan 4    =   |cable serv 5    =   |cable chan 5    =   |online serv 1   =   |online chan 1   = [http://www.13i.tv 13i.tv] (Worldwide) }}  '''13i''' (or '''Canal 13 Internacional''') is an international broadcasting service of [[Canal 13 (Chile)|Canal 13]], a Chilean television network.  == History == Its programming grid is supported by the content being broadcast live from the national signal of Canal 13, plus miscellaneous, sports and news content developed specifically for international broadcast.  From 1995 until 2001, Canal 13 has an international channel, called '''UCTV Señal Internacional'''. On June 30, 2014, Canal 13 reported through its official Facebook page relaunching the international channel, now under the name '''13i'''. The channel is available through cable and satellite operators in [[Latin America]] and streaming worldwide through monthly payment.  == Availability == ;Latin America * {{BOL}}: Inter / Channel 122 * {{DOM}}: Viva TV / Channel 806 * {{PAR}}: Personal / Channel 122 * {{PER}}: Inter / Channel 122 * {{VEN}}: Inter / Channel 118  ;Internet * [http://www.13i.tv 13i.TV] (worldwide)  == Programming == * ''[[Teletrece|Teletrece AM]]'' * ''[[Bienvenidos (TV program)|Bienvenidos]]'' * ''[[Teletrece|Teletrece Tarde]]'' * ''Amor sin Banderas'' * ''[[Teletrece]]'' * ''Reality.doc'' * ''En su propia trampa'' * ''[[Los 80]]'' * ''[[Teletrece|Teletrece Noche]]'' * ''Sábado de reportajes'' * ''Vértigo'' * ''Viva el lunes'' * ''Martes 13'' * ''Mediomundo'' * ''Venga conmigo'' * ''[[Papi Ricky]]'' * ''[[Las Vega's]]'' * ''[[Primera dama (2010 telenovela)|Primera dama]]'' * ''Si se la puede, gana'' * ''Los clásicos del 13'' * ''[[Teletrece|T13 Regional]]'' * ''Príncipes de barrio''  == External links == * {{Official website|http://www.13i.tv}} {{es icon}}  [[Category:Canal 13 (Chile)]] [[Category:Chilean television networks]] [[Category:Television stations in Chile]] [[Category:Spanish-language television stations]] [[Category:Television channels and stations established in 2014]] [[Category:External services (broadcasting)]]</td></tr><tr><td>Mount Cholomon</td><td>15522609</td><td>674256846</td><td>2015-08-02T18:41:12.000+0000</td><td>Hmains</td><td>508734</td><td>{{Infobox mountain | name =Cholomondas | other_name = | photo = Cholomondas Mountain, Chalkidiki, Greece - Dense forest.jpg | photo_size = | photo_alt = | photo_caption = Mount Cholomondas with its dense forest | elevation = | elevation_m = 1165 | elevation_ft = | elevation_ref = | prominence = | prominence_m = | prominence_ft = | prominence_ref = | listing = | range = | parent_peak = | location = [[Chalkidiki]], [[Greece]] | map = Greece | map_alt =  | map_caption = Location of Mount Cholomondas in Greece | map_size = | label = | label_position = | lat_d = 40 | lat_m = 27 | lat_s = 34 | lat_NS = N | long_d = 23 | long_m = 31 | long_s = 13 | long_EW = E | region_code = | coordinates = | coordinates_ref = | grid_ref_UK = | grid_ref_Ireland = | topo = | type = | volcanic_arc/belt= | age = | last_eruption = | first_ascent = | easiest_route = }}  '''Cholomon''' or '''Cholomondas''' ({{lang-el|''Χολομών, Χολομώντας''}}, sometimes transliterated as ''Holomontas'') is a mountain in [[Central Macedonia]], [[Greece]], that covers almost all of central and east [[Chalkidiki]]. The ancient Greeks called the mountain Ypsison. It is covered by dense [[oak]] forest and is part of the [[Natura 2000]] network. The highest peak rises northeast of [[Polygyros]], which is the capital of Chalkidiki, to 1.165 metres and is the highest point of Chalkidiki.  [[Category:Mountains of Greece|Cholomon]] [[Category:Landforms of Chalkidiki]] [[Category:Mountains of Central Macedonia|Cholomon]]   {{CentralMacedonia-geo-stub}}</td></tr></tbody></table></div>"
      ]
     },
     "metadata": {
      "application/vnd.databricks.v1+output": {
       "addedWidgets": {},
       "aggData": [],
       "aggError": "",
       "aggOverflow": false,
       "aggSchema": [],
       "aggSeriesLimitReached": false,
       "aggType": "",
       "arguments": {},
       "columnCustomDisplayInfos": {},
       "data": [
        [
         "Juliet O'Neill",
         7009414,
         672322994,
         "2015-07-20T20:31:11.000+0000",
         "Egsan Bacon",
         603343,
         "'''Juliet O'Neill ''' is a [[Canada|Canadian]] journalist who was the subject of controversy when the [[Royal Canadian Mounted Police]] raided her house in 2004 in an attempt to find the source of an alleged internal leak giving her access to privileged documents related to the [[Maher Arar]] case.  ==Career== In 1986, O'Neill was working for the [[Canadian Press]] newswire, when she caught international attention for being the only reporter to capture [[Sondra Gotlieb]] slapping her social [[secretary]] Connie Gibson Connor at a [[state dinner]] held to honour Canadian Prime Minister [[Brian Mulroney]] and US Vice President [[George H. Bush]].<ref>[[Washington Monthly]], [http://findarticles.com/p/articles/mi_m1316/is_n5_v22/ai_9085523 Washington Rollercoaster. - book reviews], 1990</ref> In 2004, she was a reporter with the ''[[Ottawa Citizen]]'' at the time of the raid, and she had earlier served as a foreign correspondent in [[Moscow]].<ref name=\"tad\">[http://www.taddlecreekmag.com/alfredfebruary Those Were the Days | Taddle Creek | www.taddlecreekmag.com<!-- Bot generated title -->]</ref>  ==House raid== On January 21, 2004 the [[Royal Canadian Mounted Police]] raided her house as part of an attempt to identify the leak. During the raid, police seized notebooks, files, hard drives and other materials.   In November 2004, [[Ontario Superior Court]] Judge [[Lynn Ratushny]] ruled that the sealing of the search warrants was unacceptable, although [[Justice of the Peace]] [[Richard Sculthorpe]] had given approval after the RCMP invoked the Security of Information Act. Justice Ratushny stated that the sealing of the search violated guarantees of a free press, freedom of expression and the publics right to an open court system. She ordered that a [[Sanitization (classified information)|redact]]ed copy be released to the public.<ref>[http://www.injusticebusters.com/04/ONeill_Juliet.htm injusticebusters 2004 > > Juliet O'Neill: Traumatising a reporter<!-- Bot generated title -->]</ref>   In October 2006, Ontario Superior Court Judge Ratushny struck down Section 4 of the Security of Information Act,<ref name=\"soia\">{{cite web |url=http://laws.justice.gc.ca/en/O-5/275827.html#rid-275834 |title=Section 4 of the Security of Information Act |date=2006-09-15 |accessdate= 2006-10-26 |format= |work=Consolidated Statutes and Regulations |publisher= Department of Justice Canada}}</ref> ruling that it was \"unconstitutionally vague\" and broad<ref name=\"MacLeod\"> {{cite news   | first = Ian  | last = MacLeod  | authorlink =  | author =   | coauthors =  | title = Decision offers chance to overhaul security act  | url = http://www.canada.com/ottawacitizen/news/story.html?id=5f16f753-ce2a-48c3-85d3-b070889403b0&p=1  | format =   | work = The Ottawa Citizen  | publisher =   | pages =   | page =   | date = October 20, 2006  | accessdate = 2006-10-26  }}</ref> and an infringement of freedom of expression.  All materials seized from O'Neill were ordered returned.  O'Neill was represented by attorneys Rick Dearden and Wendy Wagner from [[Gowlings]] a law firm with offices in Ottawa.<ref>{{cite web|url=http://www.gowlings.com/resources/PublicationPDFs/Wagner_Dearden_Nov06.pdf|author=Richard Dearden and Wendy Wagner|title=The New Threat To Access To Information: National Security Allegations|publisher=Gowlings|accessdate=2013-09-21}}</ref>  ==Awards and honors== In 1996 O'Neill was awarded a [[Southam Fellowship]].<ref name=\"tad\" /> In 2005 she was honored with the [http://www.ccwpf-cclpm.ca/press-freedom-day-lunch/past-winners World Press Freedom Award ]. In 2009 she was honored with the [[Charles Lynch Award]] for Outstanding Coverage of National Affairs.<ref>[http://www.ottawacitizen.com/Canwest+editor+wins+national+press+award/2118676/story.html Ottawa Citizen report on 2009 Charles Lynch Award]</ref>  ==References== {{Reflist}}  ==External links== *[http://www.julietoneill.com Juliet O'Neill's website] *[http://www.media-awareness.ca/english/resources/articles/land_mines/96_land_mines_ban.cfm 1996 article she wrote on landmines]  {{Persondata <!-- Metadata: see [[Wikipedia:Persondata]]. --> | NAME              = Oneill, Juliet | ALTERNATIVE NAMES = | SHORT DESCRIPTION = Journalist | DATE OF BIRTH     = | PLACE OF BIRTH    = | DATE OF DEATH     = | PLACE OF DEATH    = }} {{DEFAULTSORT:Oneill, Juliet}} [[Category:Canadian journalists]] [[Category:Year of birth missing (living people)]] [[Category:Living people]]   {{Canada-journalist-stub}}"
        ],
        [
         "Manettia",
         6379698,
         624268259,
         "2014-09-05T09:17:42.000+0000",
         "NotWith",
         15476594,
         "{{Unreferenced stub|type =plant|auto=yes|date=December 2009}} {{italic title}} {{Taxobox | name = ''Manettia'' | image = Bouvardia.jpg | image_caption = ''Manettia cordifolia'': illustrations H-K | regnum = [[Plantae]] | unranked_divisio = [[Angiosperms]] | unranked_classis = [[Eudicots]] | unranked_ordo = [[Asterids]] | ordo = [[Gentianales]] | familia = [[Rubiaceae]] | subfamilia = [[Rubioideae]] | tribus = [[Hedyotideae]] | genus = '''''Manettia''''' | genus_authority = [[Mutis]] ex [[Linnaeus|L.]] | subdivision_ranks = species | subdivision = See text. }} '''''Manettia''''' is a [[genus]] of about 80 species of  [[liana]]s and twining [[herb]]s in the family [[Rubiaceae]], native to [[tropical]] [[Americas|America]].   ;Selected species *''Manettia cordifolia'' ([[Synonymy|Syn.]]: ''Manettia ignita'') ([[Carapichea ipecacuanha|ipecacuanha]] adulterant) *''Manettia luteorubra'' *''[[Manettia skutchii]]''  == References == {{reflist}}  [[Category:Manettia| ]] [[Category:Rubiaceae genera]]  {{Rubiaceae-stub}}"
        ],
        [
         "Kenny McKinley",
         22371574,
         680393717,
         "2015-09-10T16:18:45.000+0000",
         "Crash Underride",
         4207917,
         "{{Infobox NFL player |name=Kenny McKinley |image=Kenny McKinley.JPG |image_size=200 |caption=McKinley playing for the [[Denver Broncos]] in 2009. |number=11 |position=[[Wide receiver]] |birth_date={{birth date|1987|1|31}} |birth_place=[[Mableton, Georgia]] |death_date={{death date and age|2010|9|20|1987|1|31}} |death_place=[[Centennial, Colorado]] |heightft=6 |heightin=0 |weight=183 |college=[[South Carolina Gamecocks football|South Carolina]] |draftyear=2009 |draftround=5 |draftpick=141 |pastteams= * [[Denver Broncos]] ({{NFL Year|2009}}–{{NFL Year|2010}}) |highlights= * First-team All-[[Southeastern Conference|SEC]] (2007) |statlabel1=Receptions |statvalue1=0 |statlabel2=Receiving yards |statvalue2=0 |statlabel3=Receiving TDs |statvalue3=0 |statlabel4=Kick Return yards |statvalue4=158 |statlabel5=Punt Return yards |statvalue5=32 |nfl=MCK403564 }} '''Kendrick \"Kenny\" L. McKinley''' (January 31, 1987 – September 20, 2010) was an [[American football]] [[wide receiver]] for the [[Denver Broncos]] of the [[National Football League]]. He was drafted by the Broncos in the fifth round of the [[2009 NFL Draft]]. He played [[college football]] at [[South Carolina Gamecocks football|South Carolina]].  ==Early years== Born in [[Mableton, Georgia]],<ref>[http://www.pro-football-reference.com/players/M/McKiKe00.htm \"Kenny McKinley\" ''Pro-Football Reference.com''] 21 September 2010</ref> he graduated from South Cobb High School in [[Austell, Georgia|Austell]] in 2005. As a quarterback during his senior year, he passed for 1,470 yards and 16 touchdowns and rushed for 750 yards while scoring 12 [[touchdowns]]. He was rated the 29th-best player in the state of Georgia and the 54th-best athlete in the country by Rivals.com.  ==Collegiate career== As a true freshman while playing for the University of South Carolina Gamecocks, in 2005, he worked his way into the starting lineup at wide receiver and also handled the punt return duties. He started six games and ranked third on the team with 25 catches for 291 yards and returned 18 punts for 83 yards.  During his sophomore year in 2006, McKinley started all 13 games and recorded 51 receptions and 880 yards, which ranked second on the team behind [[Sidney Rice]]. McKinley's best game was an eight-catch, 110-yard effort against Auburn, the first 100-yard receiving day in his career.  He would go on to earn first-team honors from: the SEC coaches (All-SEC), the Associated Press and CollegeFootballNews.com. He was second-team All-SEC by Rivals.com and honorable mention All-America honors from CollegeFootballNews.com.  Despite playing with [[turf toe]] most of the year, as the [[South Carolina Gamecocks football|Gamecocks']] #1 receiver, McKinley not only led the team but led the [[Southeastern Conference|Southeastern Conference (SEC)]] in receptions (a then school-record 77), receptions per game (6.42) and in receiving yards per game (80.7). He also was number one at [[South Carolina Gamecocks football|South Carolina]] in yards (968) and touchdowns (9). He had four 100-yard receiving games in 2007, including a school record 14 catch performance against [[Tennessee Volunteers football|Tennessee]] where he had a career-best 151 yards.  In 2008, McKinley entered his senior year as an [[All-America]] candidate that was in position to break every  [[South Carolina Gamecocks football|South Carolina]] school career receiving record. He began the 2008 campaign ranked tied for fourth in career receptions (153), sixth in career receiving yards (2,139) and tied for sixth in receiving touchdowns (15) in Carolina history. Despite being out of the lineup for a three-game stretch due to a right [[hamstring]] strain, he set school career records for receptions and receiving yards, while also closing out his career second on the school's all-time touchdown catches list. McKinley also placed his name in the [[Southeastern Conference|SEC]] record books. His 207 receptions placed third in conference annals, becoming just the fifth SEC player to amass more than 200 catches in a career. He also became the 12th player in league history to record more than 2,700 receiving yards (2,781).  ==Professional career== McKinley was drafted by the [[Denver Broncos]] in the [[2009 NFL Draft#Fifth round|fifth round, 5th pick (141st overall)]] during the [[2009 NFL Draft]].  McKinley played in eight games in 2009 as a kick returner. He returned seven kicks for a total of 158 yards.<ref name=\"AP\">Stapleton, Arnie, ([[Associated Press]]), \"[http://news.yahoo.com/s/ap/fbn_broncos_mckinley_death Sheriff: Broncos WR Kenny McKinley found dead]\" ''[[Yahoo! News]]'', 21 September 2010.</ref> He also recorded 3 special teams tackles.  He was placed on [[injured reserve]] with a knee injury on December 28, 2009.  ==Death== {{wikinews|Denver Broncos player Kenny McKinley found dead aged 23}} McKinley was found dead on September 20, 2010, from an apparent self-inflicted gunshot wound.<ref name=\"AP\"/><ref name=\"npr\">{{cite news |title=Sheriff: Broncos WR Kenny McKinley Found Dead |url=http://www.npr.org/templates/story/story.php?storyId=130006111 |agency=Associated Press |date=September 20, 2010 |accessdate=2010-09-20}} {{Dead link|date=October 2010|bot=H3llBot}}</ref> His death was reported as a suicide by local media, and later confirmed by members of the Arapahoe County Sheriff's office.<ref name=\"Death\">{{cite web|url=http://www.kdvr.com/news/kdvr-broncos-mckinley-death-txt,0,3972716.story|title=Sheriff's Report: McKinley was depressed over knee injury|publisher=KDVR|date=|accessdate=2010-09-22}}</ref>  A 131-page report was released by the [[Arapahoe County, Colorado|Arapahoe County]] Sheriff's Department on December 1, 2010, concluding the investigation into McKinley's death. It stated that [[depression (mood)|depression]] over debt, injury and his post-playing career were the main factors for his suicide.<ref name=\"report\">{{cite web|url=http://www.nfl.com/news/story/09000d5d81c8fedb/article/knee-injury-gambling-debt-weighed-on-late-bronco-mckinley|date=1 December 2010|title=NFL.com news: Knee injury, gambling debt weighed on late Bronco McKinley}}</ref>  The report stated that McKinley had a gambling problem and was deep in debt.<ref>[[Associated Press]], \"McKinley in debt before suicide\", 2 December 2010.</ref>  His freshman roommate O.J. Murdock was also highly touted going into college, eventually being signed by the [[Tennessee Titans]] as an undrafted free agent. Murdock also died by suicide because of depression, injuries, and his personal life on July 30, 2012.<ref>{{cite web|url=http://espn.go.com/espn/otl/story/_/id/8758092/kenny-mckinley-oj-murdock-were-college-teammates-big-nfl-dreams-where-did-things-go-wrong |title=Too Much In Common |publisher=ESPN |date=18 December 2012 }}</ref>  ==References== {{Reflist}}  ==External links== {{portal|Biography|American Football}} *[http://www.denverbroncos.com/page.php?id=498&contentID=9882 Denver Broncos bio] *[http://gamecocksonline.cstv.com/sports/m-footbl/mtt/mckinley_kenny00.html South Carolina Gamecocks bio]  {{Broncos2009DraftPicks}}  {{Persondata  | NAME              = McKinley, Kenny | ALTERNATIVE NAMES = | SHORT DESCRIPTION = American football player | DATE OF BIRTH     = January 31, 1987 | PLACE OF BIRTH    = Mableton, Georgia | DATE OF DEATH     = September 20, 2010 | PLACE OF DEATH    = Centennial, Colorado }} {{DEFAULTSORT:McKinley, Kenny}} [[Category:1987 births]] [[Category:2010 deaths]] [[Category:People from Mableton, Georgia]] [[Category:People from East Baton Rouge Parish, Louisiana]] [[Category:Players of American football from Georgia (U.S. state)]] [[Category:American football wide receivers]] [[Category:American football return specialists]] [[Category:South Carolina Gamecocks football players]] [[Category:Denver Broncos players]] [[Category:Players of American football who committed suicide]] [[Category:Suicides by firearm in Colorado]] [[Category:Sportspeople from Cobb County, Georgia]] [[Category:People from Austell, Georgia]]"
        ],
        [
         "Brown-Westhead, Moore & Co",
         39249641,
         569388057,
         "2013-08-20T12:33:35.000+0000",
         "Yobot",
         7328338,
         "[[File:BWM.jpg|thumb|[[Meissen porcelain]] mark of BWM&C.]] '''Messrs. Thomas C. Brown-Westhead, Moore & Co.''' was a manufacturer of [[China]], [[earthenware]] and [[sanitary]] goods at [[Cauldon Canal|Cauldon Place]], [[Stoke-upon-Trent]] in [[England]] from 1856.  ==See also== *[[Victorian majolica]]  ==References== *[http://www.thepotteries.org/potworks_wk/058.htm The Potteries (illustrated) 1893 advertising and trade journal]  {{Porcelain}}  {{DEFAULTSORT:Brown-Westhead, Moore and Co}} [[Category:Ceramics manufacturers of England]] [[Category:Porcelain]]   {{UK-company-stub}} {{Ceramics-stub}}"
        ],
        [
         "Phalonidia haplidia",
         42305636,
         642101232,
         "2015-01-12T03:10:36.000+0000",
         "Dawynn",
         6655086,
         "{{italic title}} {{Taxobox | name = Phalonidia haplidia | image =  | image_width =  | image_caption =  | image2 =  | image2_width =  | image2_caption =  | status =  | status_system =  | regnum = [[Animal]]ia | phylum = [[Arthropod]]a | classis = [[Insect]]a | ordo = [[Lepidoptera]] | familia = [[Tortricidae]] | genus = ''[[Phalonidia]]'' | species = '''''P. haplidia''''' | binomial = ''Phalonidia haplidia'' | binomial_authority = ([[Józef Razowski|Razowski]], 1986)<ref>[http://www.tortricidae.com/catalogueGenusList.asp?gcode=712 tortricidae.com]</ref> | synonyms = *''Phtheochroa haplidia'' <small>Razowski, 1986</small> *''Platphalonidia haplidia'' }} '''''Phalonidia haplidia''''' is a species of [[moth]] of the [[Tortricidae]] family. It is found in [[Mexico]] (Durango).  ==References== {{Reflist}} {{wikispecies}} {{commons}}  [[Category:Moths described in 1986]] [[Category:Phalonidia]]   {{Phalonidia-stub}}"
        ],
        [
         "Bean Bowl",
         13511010,
         646704457,
         "2015-02-11T21:37:28.000+0000",
         "Od Mishehu AWB",
         5294192,
         "{{Collegebowl | name               = Bean Bowl | defunct            = yes | logo               = | image_size         = | caption            =  | stadium            = unknown | location           = [[Scottsbluff, Nebraska]] | years              = 1949–1950 | prev_matchup_year  = 1950 | prev_matchup_season= 1950 | prev_matchup_teams = [[Doane College]] vs. [[University of Northern Colorado|Colorado State College]] | prev_matchup_score = 14-6 }}  The '''Bean Bowl''' was a non-[[National Collegiate Athletic Association|NCAA]]-sanctioned [[United States|American]] [[college football]] [[bowl game]] played in [[Scottsbluff, Nebraska]], in 1949 and 1950.  ==Results== {| class=\"wikitable\" ! Game !! Date !! Winner !! Score !! Loser !! Score !! Reference |- align=center | 1949 || 24 November || '''[[Idaho State University#Athletics|Idaho State]]''' || '''20''' || [[Chadron State College#Athletics|Chadron State]] || 2 || <ref>{{cite news    | title = Idaho State Bowl Victor, 20-2   | work = [[New York Times]] (1857-Current file)   | pages = 35   | publisher = ProQuest Historical Newspapers The New York Times (1851 - 2004) database   | date = 1949-11-25   | url = http://proquest.umi.com/pqdweb?did=84231542&sid=2&Fmt=1&clientId=36180&RQT=309&VName=HNP   | accessdate = 2007-09-30 }}</ref> |- align=center | 1950 || November 23<ref>[http://www.cfbdatawarehouse.com/data/naia/gpac/doane/bowl_history.php College Football Data Warehouse] Doane Bowl History]</ref> || '''[[Doane College|Doane]]''' || '''14''' || [[University of Northern Colorado|Colorado State College]] || 6 ||<ref>{{cite web   | title = Doane vs. Non-Conference Opponents   | publisher = [[Doane College]]   | date = 2005-05-17   | url = http://www.doane.edu/Athletics/Men/Football/Stats/15882.pdf   | format = PDF   | accessdate = 2007-09-30 }}</ref> |}  == References == <references /> *{{cite book   | last = Belsky   | first = Gary   |author2=Neil Fine   | title = 23 Ways to Get to First Base: The ESPN Encyclopedia   | publisher = ESPN Books   | year = 2007   | location = New York   | pages = 241   | isbn = 978-1-933060-10-1 }}  [[Category:Defunct college football bowls]]   {{collegefootball-bowl-stub}} {{Nebraska-sport-stub}}"
        ],
        [
         "Benjamin Karamoko",
         45446916,
         667566586,
         "2015-06-19T00:27:26.000+0000",
         "Aboutmovies",
         2602832,
         "{{Infobox football biography | name        = Benjamin Karamoko | image       =  | image_size  =  | caption     =  | fullname    =  | birth_date  = {{Birth date and age|1995|5|17|df=y}} | birth_place = [[Mali]] | height      =  | position    = [[Defender (association football)|Defender]] | currentclub = [[AS Saint-Étienne|Saint-Étienne]] | clubnumber  = 31 | youthyears1 = –2015 | youthclubs1 = [[AS Saint-Étienne|Saint-Étienne]] | years1      = 2015– | clubs1      = [[AS Saint-Étienne|Saint-Étienne]] | caps1       = 1 | goals1      = 0 | nationalyears1 =  | nationalteam1 =  | nationalcaps1 =  | nationalgoals1 =  | club-update = 19 February 2015 }}  '''Benjamin Karamoko''' (born 17 May 1995) is a [[France|French]] footballer who plays as a [[Defender (association football)|defender]] for [[Ligue 1]] club [[AS Saint-Étienne|Saint-Étienne]].<ref name=\"soccerway\">{{cite web|url=http://int.soccerway.com/players/benjamin--kantie-karamoko/245975/|title=France - B. Karamoko - Profile with news, career statistics and history - Soccerway|publisher=soccerway.com|accessdate=2015-02-19}}</ref>  == Club career ==  Karamoko is a youth exponent from [[AS Saint-Étienne|Saint-Étienne]]. He made his [[Ligue 1]] debut on 15 February 2015 against [[Girondins de Bordeaux]]. He replaced [[Paul Baysse]] at half-time in a 1-0 home win.<ref name=\"soccerway2\">{{cite web|url=http://int.soccerway.com/matches/2015/01/25/france/ligue-1/association-sportive-de-saint-etienne-loire/paris-saint-germain-fc/1687137/|title=Bordeaux vs. Saint-Étienne - 15 February 2015 - Soccerway|publisher=soccerway.com|accessdate=2015-02-19}}</ref>  == References == {{Reflist}} {{AS Saint-Étienne squad}}  {{Persondata | NAME              = Karamoko, Benjamin | ALTERNATIVE NAMES = | SHORT DESCRIPTION = French footballer | DATE OF BIRTH     = 17 May 1995 | PLACE OF BIRTH    = Mali | DATE OF DEATH     = | PLACE OF DEATH    = }} {{DEFAULTSORT:Karamoko, Benjamin}} [[Category:1995 births]] [[Category:Living people]] [[Category:French footballers]] [[Category:Association football defenders]] [[Category:Ligue 1 players]] [[Category:AS Saint-Étienne players]] [[Category:Place of birth missing (living people)]]  {{France-footy-bio-stub}}"
        ],
        [
         "Villa Aldama",
         23255883,
         634540929,
         "2014-11-19T14:29:20.000+0000",
         "Monkbot",
         20483999,
         "{{Infobox settlement <!--See the Table at Infobox Settlement for all fields and descriptions of usage--> <!-- Basic info  ----------------> |name          =  Villa Aldama |settlement_type        =[[Municipalities of Veracruz|Municipality]] and town |other_name             = |native_name            =  <!-- for cities whose native name is not in English --> |nickname               =  |motto                  = <!-- images and maps  -----------> |image_skyline          = |imagesize              = |image_caption          = |image_flag             =  |flag_size              = |image_seal             =  |seal_size              = |image_shield           = |shield_size            = |image_blank_emblem     = |blank_emblem_type      = |blank_emblem_size      = |image_map              = |mapsize                =  |map_caption            = Location of the municipality in Veracruz |pushpin_map            =Mexico <!-- the name of a location map as per http://en.wikipedia.org/wiki/Template:Location_map --> |pushpin_label_position =above |pushpin_mapsize        = |pushpin_map_caption    =Location in Mexico <!-- Location ------------------> |coordinates_display    = inline,title |coordinates_region     = MX |subdivision_type       = Country |subdivision_name       = {{flag|Mexico}} |subdivision_type1      = [[Administrative divisions of Mexico|State]] |subdivision_name1      = [[Veracruz]] |subdivision_type2      =  |subdivision_name2      = <!-- Politics -----------------> |government_footnotes   = |government_type        = |leader_title           = |leader_name            = |established_title      = <!-- Settled --> |established_date       =  <!-- Area    ---------------------> |area_magnitude         =  |unit_pref                =  |area_footnotes           = |area_total_km2           =78.96 <!-- ALL fields dealing with a measurements are subject to automatic unit conversion--> |area_land_km2            = <!--See table @ Template:Infobox Settlement for details on automatic unit conversion--> |area_water_km2           = |area_total_sq_mi         = |area_land_sq_mi          = |area_water_sq_mi         = |area_water_percent       = |area_urban_km2           = |area_urban_sq_mi         = |area_metro_km2           = |area_metro_sq_mi         = |area_blank1_title        = |area_blank1_km2          = |area_blank1_sq_mi        = <!-- Population   -----------------------> |population_as_of               =2005 |population_footnotes           = |population_note                = |population_total               =9,573 |population_density_km2         = |population_density_sq_mi       = |population_metro               = |population_density_metro_km2   = |population_density_metro_sq_mi = |population_urban               = |population_density_urban_km2   = |population_density_urban_sq_mi = <!-- General information  ---------------> |timezone               = [[North American Central Time Zone|Central Standard Time]] |utc_offset             = -6  |timezone_DST           = [[North American Central Time Zone|Central Daylight Time]] |utc_offset_DST         = -5 |latd=19|latm=39|lats=|latNS=N |longd=97|longm=14|longs=|longEW=W |elevation_footnotes    =  <!--for references: use <ref> </ref> tags--> |elevation_m            =  |elevation_ft           = <!-- Area/postal codes & others --------> |postal_code_type       =  <!-- enter ZIP code, Postcode, Post code, Postal code... --> |postal_code            = |area_code              = |blank_name             = |blank_info             = |blank1_name            = |blank1_info            = |website                =  |footnotes              = }}  ''' Villa Aldama ''' is a municipality located in the central zone in the State of [[Veracruz (state)|Veracruz]], about 33&nbsp;km from state capital [[Xalapa]]. It has a surface of 78.96 km2. It is located at {{coord|19|39|N|97|14|W|}}. The municipality takes this name in honor to Don Juan Aldama, who was one of the commanders of the Independence of Mexico.  ==Geography==  The municipality of ''' Villa Aldama ''' is bordered to the north by [[Las Minas]] and [[Altotonga (municipality)|Altotonga]], to the east by [[Las Vigas de Ramírez|Las Vigas]] and to the south by [[Perote (municipality)|Perote]] State.<ref name=\"e-local\">{{cite web|url= http://www.e-local.gob.mx/work/templates/enciclo/veracruz/municipios/30194a.htm |title=Enciclopedia de los Municipios de México: Villa Aldama |publisher=[http://www.veracruz.gob.mx Gobierno Estatal]|language=Spanish|accessdate=2009-06-17}}</ref>  ==Agriculture==  It produces principally [[maize]], [[beans]], [[potato]] and [[faba bean]].  ==Celebrations== Every July, a festival is held to celebrate Santiago Apostol, patron of the town and in December there is a festival held in honor of the [[Virgin of Guadalupe]].  ==Weather==  The weather in ''' Villa Aldama ''' is cold and wet all year with rains in summer and autumn.  ==References== {{reflist|1}}  == External links ==  * {{es icon}} [http://www.villaaldama.gob.mx Municipal Official webpage] * {{es icon}} [http://portal.veracruz.gob.mx/portal/page?_pageid=153,4493464&_dad=portal&_schema=PORTAL&municipio=villaaldama.pdf Municipal Official Information]  {{Veracruz}}  [[Category:Municipalities of Veracruz]] [[Category:Populated places in Veracruz]]   {{Veracruz-geo-stub}}"
        ],
        [
         "Hypolycaena merguia",
         36575375,
         621553543,
         "2014-08-16T23:51:08.000+0000",
         "Oculi",
         4460308,
         "{{Taxobox | image = | regnum = [[Animal]]ia | phylum = [[Arthropod]]a | classis = [[Insect]]a | ordo = [[Lepidoptera]] | familia = [[Lycaenidae]] | genus = ''[[Hypolycaena]]'' | species = '''''H. merguia''''' | binomial = ''Hypolycaena merguia''  | binomial_authority = ([[William Doherty|Doherty]], 1889)<ref>[http://www.nic.funet.fi/pub/sci/bio/life/insecta/lepidoptera/ditrysia/papilionoidea/lycaenidae/theclinae/hypolycaena/index.html ''Hypolycaena''], funet.fi</ref> | synonyms = *''Chliaria merguia'' <small>Doherty, 1889</small> *''Chliaria merguia watsoni'' <small>Swinhoe, 1911</small> *''Chliaria merguia histiaea'' <small>Fruhstorfer, 1914</small> *''Chliaria merguia histiäa'' <small>Fruhstorfer, 1914</small> *''Hypolycaena skapane'' <small>Druce, 1895</small> *''Chliaria merguia sobanas'' <small>Fruhstorfer, 1914</small> *''Chliaria merguia palpatoris'' <small>Fruhstorfer, 1914</small> }} '''''Hypolycaena merguia''''' is a [[butterfly]] in the [[Lycaenidae]] family. It was described by Doherty in 1889. It is found in [[South-east Asia]].  ==Subspecies== *''Hypolycaena merguia merguia'' (Mergui, southern Burma, Thailand) *''Hypolycaena merguia watsoni'' <small>(Swinhoe, 1911)</small> (Burma, Thailand) *''Hypolycaena merguia histiaea'' <small>(Fruhstorfer, 1914)</small> (Sumatra) *''Hypolycaena merguia skapane'' <small>Druce, 1895</small> (Borneo) *''Hypolycaena merguia palpatoris'' <small>(Fruhstorfer, 1914)</small> (western Java)  ==References== {{reflist}}  [[Category:Insects described in 1889]] [[Category:Hypolycaenini]] [[Category:Butterflies of Borneo]]   {{Theclinae-stub}}"
        ],
        [
         "Miss Chinese International Pageant 2010",
         29406590,
         651403619,
         "2015-03-14T23:37:40.000+0000",
         "Sm admi",
         24428268,
         "{{Beauty pageant  | photo =  | winner = [[Eliza Sam]] 岑麗香 | represented = Vancouver, {{flag|Canada}} | date = November 5, 2010 | presenters = [[Carol Cheng]], [[Derek Li]], Jin Liu | acts = [[Raymond Lam]], [[Leo Ku]], Eliza Chan, [[Liu Xuan (gymnast)|Liu Xuan]] | entrants = 24  | venue = Tianjin Goldin Metropolitan Hotel, [[Tianjin]], [[China]] | broadcaster = [[Television Broadcasts Limited|TVB]] | congeniality =  | placements = 12  }}  The 22nd [[Miss Chinese International Pageant]], '''Miss Chinese International Pageant 2010''' was held on November 5, 2010. [[Tianjin]], [[China]] would host the pageant for the first time. [[TVB]] would broadcast the pageant one day later, delayed, for the first time ever. [[Miss Chinese International Pageant 2009|Miss Chinese International 2009]] '''[[Christine Kuo]]''' of [[Toronto, Canada]] crowned her successor, '''[[Eliza Sam]]''' of [[Vancouver, Canada]] at the end of the three-hour pageant, marking Vancouver's '''fifth win'''. <ref>{{cite web|title=Official Site|url=http://programme.tvb.com/variety/mcip2010/}}</ref>   ==Pageant information== The slogan to this year's pageant is \"Chinese Beautiful Posture, Beautiful Shadows of Red Dust\" 「中華美態  紅塵儷影」.  This year marks the first time the pageant is held in the fall since [[Miss Chinese International Pageant 1989|1989]].  The Masters of Ceremonies are [[Carol Cheng]] and Derek Li from Hong Kong, as well as Jin Liu from Tianjin. Special performers include [[Raymond Lam]] and [[Leo Ku]].  ==Results== [[Kuala Lumpur]] representative, Belle Theng made it to the top 3 and finished as 1st runner up. She is the first contestant from her region to advance to semi-finals, since 2006 when Annabelle Kong was the 2nd runner up and won the Miss Friendship Award.<ref>{{cite web|title=Official Site|url=http://programme.tvb.com/variety/mcip2010/}}</ref>   {| class=\"wikitable\" border=\"1\" |- ! Placement ! Contestant ! City Represented ! Country Represented |- | '''Miss Chinese International 2010'''  || [[Eliza Sam]] 岑麗香 || [[Vancouver]] || {{flag|Canada}}  |- | '''1st Runner-Up''' || Belle Theng 陳美妤 || [[Kuala Lumpur]] || {{flag|Malaysia}}  |- | '''2nd Runner-Up''' || [[Candy Chang]] 張慧雯 || [[Toronto]] || {{flag|Canada}} |- | '''Top 6 Finalists''' || Athena Zhang 張滿 <br> Lu Bai 白鷺 <br> Toby Chan 陳庭欣 || [[Auckland]] <br> [[Foshan]] <br>[[Hong Kong]] || {{flag|New Zealand}} <br> {{flag|China}} <br> {{flag|Hong Kong}} |- | '''Top 12 Semi-Finalists''' ||   Simwayn Tran 陳心慰 <br> May Yan Wong 王美艷 <br> Maisie Tran 陳美詩 <br> Cynthia Zhang 張聖女 <br> Melanie Lu 陸曼 <br> Cindy Liu 劉捷 || [[Amsterdam]] <br>  [[Melbourne]] <br> [[Montréal]] <br> [[New York City]] <br> [[Sydney]] <br> [[Henan]] || {{flag|The Netherlands}} <br> {{flag|Australia}} <br> {{flag|Canada}} <br> {{flag|USA}} <br> {{flag|Australia}} <br> {{flag|China}}   |}  ===Special awards=== *'''Miss Friendship''': Lu Bai 白鷺  ('''Foshan''') *'''Miss Home Beauty''': Belle Theng 陳美妤 ('''Kuala Lumpur''')  ==Contestant list== {| class=\"sortable wikitable\" |- bgcolor=\"#CCCCCC\" !  No. !! Contestant Name !! Represented City !! Represented Country !! Age !! Chinese Origin  |-  | 1 || '''Athena ZHANG 張滿''' || [[Auckland]] || {{flag|New Zealand}} || 23 || [[Harbin]] |- | 2 || '''Simwayn TRAN 陳心慰''' || [[Amsterdam]] || {{flag|The Netherlands}} || 20 || [[Chaozhou]] |- | 3 || '''Mintra SOJIPHAN 丁文冰''' || [[Bangkok]] || {{flag|Thailand}} || 23 || [[Wenchang]] |- | 4 || '''Jessica LIN 林晨諭''' || [[Chicago]] || {{flag|USA}} || 21 || [[Taiwan]] |- | 5 || '''Lu BAI 白鷺''' || [[Foshan]] || {{flag|China}} || 22 || [[Shandong]] |- | 6 || '''Toby CHAN 陳庭欣''' || [[Hong Kong]] || {{flag|Hong Kong}} || 23 || [[Shunde]] |- | 7 || '''Belle THENG 陳美妤''' || [[Kuala Lumpur]] || {{flag|Malaysia}} || 24 || [[Fujian]] |- | 8 || '''Laura LI 李若瀅''' || [[Macau]] || {{flag|Macao}} || 22 || [[Guangdong]] |- | 9 || '''Samantha DY 李璇璇''' || [[Manila]] || {{flag|Philippines}} || 21 || [[Fujian]] |- | 10 || '''May Yan WONG 王美艷''' || [[Melbourne]] || {{flag|Australia}} || 22 || [[Hainan]] |- | 11 || '''Maisie TRAN 陳美詩''' || [[Montréal]] || {{flag|Canada}} || 21 || [[Fujian]] |- | 12 || '''Cynthia ZHANG 張聖女''' || [[New York City]] || {{flag|USA}} || 20 || [[Jilin]] |- | 13 || '''Amy CHU 周玉霞''' || [[San Francisco]] || {{flag|USA}} || 25 || [[Guangxi]] |- | 14 || '''Cynthia VUONG 王佩芷''' || [[Seattle]] || {{flag|USA}} || 23 || [[Foshan]] |- | 15 || '''Adeline YAP 葉佳慧''' || [[Singapore]] || {{flag|Singapore}} || 25 || [[Fujian]] |- | 16 || '''Melanie LU 陸曼''' || [[Sydney]] || {{flag|Australia}} || 23 || [[Beijing]] |- | 17 || '''Connie CHUNG 鍾梓尤''' || [[Tahiti]] || {{flag|French Polynesia}} || 21 || [[Guangdong]] |- | 18 || '''[[Candy Chang|Candy CHANG]] 張慧雯''' || [[Toronto]] || {{flag|Canada}} || 20 || [[Beijing]] |- | 19 || '''[[Eliza Sam|Eliza SAM]] 岑麗香''' || [[Vancouver]] || {{flag|Canada}} || 25 || [[Guangzhou]] |- | 20 || '''Candy FANG 方蘭''' || [[Hebei]] || {{flag|China}} || 21 || [[Chaoshan]] |- | 21 || '''Man Zi LI 李曼姿''' || [[Guangzhou]] || {{flag|China}} || 18 || [[Shenyang]] |- | 22 || '''Cindy LIU 劉捷''' || [[Henan]] || {{flag|China}} || 25 || [[Henan]] |- | 23 || '''Jasmine LIU 劉雅婷''' || [[Jianxi]] || {{flag|China}} || 22 || [[Shandong]] |- | 24 || '''Yoyo YANG 楊逸歐''' || [[Guangdong]] || {{flag|China}} || 23 || [[Gansu]] |}  ==Contestants that received media attention== *[[Vancouver]] [[Eliza Sam]] was the hot favorite for being the cutest girl out of the contestants. She won the pageant due to the four votes from Joe Ma Tak Chung, Sonija Kwok Sin Lei, Kate Tsui Chi San and Lau Yang. <ref>http://kays-entertainment.blogspot.com.au/2010/11/miss-chinese-international-2010-results.html</ref> *[[Sydney]] contestant Melanie Lu was 1 of only 2 girls with perfect proportions of 36\"-24½\"-36½\",the other was Toronto contestant Candy Chang 35\"-23\"-35\"  and was publicly lauded by the Hong Kong media for her voluptuous figure and breasts. <ref>http://bbs.ent.163.com/bbs/tvb/156801498,9.html</ref>   ==References== {{Reflist}}  ==External links== [http://programme.tvb.com/variety/mcip2010/ Miss Chinese International Pageant 2010 Official Site]  {{Miss Chinese International}} [[Category:TVB]] [[Category:2010 beauty pageants]] [[Category:2010 in China]] [[Category:Beauty pageants in China]] [[Category:Miss Chinese International Pageants]]"
        ],
        [
         "Hoseynabad, Qatruyeh",
         41834571,
         609012420,
         "2014-05-17T21:22:10.000+0000",
         "EmausBot",
         11292982,
         "{{Infobox settlement |official_name =Hoseynabad |native_name =حسين اباد |settlement_type        = village |pushpin_map            =Iran |mapsize                =150px |coordinates_region     = IR |subdivision_type       = [[List of countries|Country]] |subdivision_name = {{flag|Iran}} |subdivision_type1 =[[Provinces of Iran|Province]] |subdivision_name1 =[[Fars Province|Fars]] |subdivision_type2 =[[Counties of Iran|County]] |subdivision_name2 = [[Neyriz County|Neyriz]] |subdivision_type3 =[[Bakhsh]] |subdivision_name3 =[[Qatruyeh District|Qatruyeh]] |subdivision_type4 =[[Rural Districts of Iran|Rural District]] |subdivision_name4 =[[Qatruyeh Rural District|Qatruyeh]] |leader_title           =  |leader_name            =  |established_title      = |established_date       =  |area_total_km2           =  |area_footnotes           =  |population_as_of         = 2006 |population_total =12 |population_density_km2   =auto |timezone               = [[Iran Standard Time|IRST]] |utc_offset             = +3:30 |timezone_DST           = [[Iran Daylight Time|IRDT]] |utc_offset_DST         = +4:30 |coordinates_display      = % |latd=29|latm=05|lats=40|latNS=N |longd=54|longm=43|longs=05|longEW=E |elevation_m            =  |area_code              =  |website                =  |footnotes              = }} '''Hoseynabad''' ({{lang-fa|حسين اباد}}, also [[Romanize]]d as '''Ḩoseynābād''')<ref>{{GEOnet3|10437579|Hoseynabad}}</ref> is a village in [[Qatruyeh Rural District]], [[Qatruyeh District]], [[Neyriz County]], [[Fars Province]], [[Iran]]. At the 2006 census, its population was 12, in 4 families.<ref>{{IranCensus2006|07}}</ref>    == References == {{reflist}}  {{Neyriz County}}   [[Category:Populated places in Neyriz County]]  {{Neyriz-geo-stub}}"
        ],
        [
         "13i",
         46653940,
         661530104,
         "2015-05-09T09:21:21.000+0000",
         "Eric abiog",
         17217290,
         "{{Infobox TV channel   |name            = 13i (Canal 13 Internacional)  |logofile        = Canal 13i.png  |logosize        = 270  |branding        =   |slogan          = ''Tu conexión con Chile (Your connection to Chile)''  |launch          = June 30, 2014  |picture format  =   |share as of     =  |share source    =  |owner           = [[Canal 13 (Chile)|Canal 13 S.A.]]  |headquarters    = [[Santiago]]  |country         = [[Chile]]  |former names    = UCTV Señal Internacional (1995-2001)  |language        = [[Spanish language|Spanish]]  |available       =  |sister names    =  |founder         =   |key_people      = Cristian Bofill (executive director)  |web             = [http://www.13i.tv/ www.13i.tv] |  |terr serv 1     =   |terr chan 1     =   |sat serv 1      = Inter (Bolivia)  |sat chan 1      = Channel 122  |sat serv 2      = Viva TV (Dominican Republic)  |sat chan 2      = Channel 806  |sat serv 3      = Personal (Paraguay)  |sat chan 3      = Channel 122  |sat serv 4      = Inter (Peru)  |sat chan 4      = Channel 122  |sat serv 5      = Inter (Venezuela)  |sat chan 5      = Channel 118  |sat serv 6      =  |sat chan 6      =  |sat serv 7      =  |sat chan 7      =  |cable serv 1    =   |cable chan 1    =   |cable serv 2    =   |cable chan 2    =   |cable serv 3    =   |cable chan 3    =   |cable serv 4    =   |cable chan 4    =   |cable serv 5    =   |cable chan 5    =   |online serv 1   =   |online chan 1   = [http://www.13i.tv 13i.tv] (Worldwide) }}  '''13i''' (or '''Canal 13 Internacional''') is an international broadcasting service of [[Canal 13 (Chile)|Canal 13]], a Chilean television network.  == History == Its programming grid is supported by the content being broadcast live from the national signal of Canal 13, plus miscellaneous, sports and news content developed specifically for international broadcast.  From 1995 until 2001, Canal 13 has an international channel, called '''UCTV Señal Internacional'''. On June 30, 2014, Canal 13 reported through its official Facebook page relaunching the international channel, now under the name '''13i'''. The channel is available through cable and satellite operators in [[Latin America]] and streaming worldwide through monthly payment.  == Availability == ;Latin America * {{BOL}}: Inter / Channel 122 * {{DOM}}: Viva TV / Channel 806 * {{PAR}}: Personal / Channel 122 * {{PER}}: Inter / Channel 122 * {{VEN}}: Inter / Channel 118  ;Internet * [http://www.13i.tv 13i.TV] (worldwide)  == Programming == * ''[[Teletrece|Teletrece AM]]'' * ''[[Bienvenidos (TV program)|Bienvenidos]]'' * ''[[Teletrece|Teletrece Tarde]]'' * ''Amor sin Banderas'' * ''[[Teletrece]]'' * ''Reality.doc'' * ''En su propia trampa'' * ''[[Los 80]]'' * ''[[Teletrece|Teletrece Noche]]'' * ''Sábado de reportajes'' * ''Vértigo'' * ''Viva el lunes'' * ''Martes 13'' * ''Mediomundo'' * ''Venga conmigo'' * ''[[Papi Ricky]]'' * ''[[Las Vega's]]'' * ''[[Primera dama (2010 telenovela)|Primera dama]]'' * ''Si se la puede, gana'' * ''Los clásicos del 13'' * ''[[Teletrece|T13 Regional]]'' * ''Príncipes de barrio''  == External links == * {{Official website|http://www.13i.tv}} {{es icon}}  [[Category:Canal 13 (Chile)]] [[Category:Chilean television networks]] [[Category:Television stations in Chile]] [[Category:Spanish-language television stations]] [[Category:Television channels and stations established in 2014]] [[Category:External services (broadcasting)]]"
        ],
        [
         "Mount Cholomon",
         15522609,
         674256846,
         "2015-08-02T18:41:12.000+0000",
         "Hmains",
         508734,
         "{{Infobox mountain | name =Cholomondas | other_name = | photo = Cholomondas Mountain, Chalkidiki, Greece - Dense forest.jpg | photo_size = | photo_alt = | photo_caption = Mount Cholomondas with its dense forest | elevation = | elevation_m = 1165 | elevation_ft = | elevation_ref = | prominence = | prominence_m = | prominence_ft = | prominence_ref = | listing = | range = | parent_peak = | location = [[Chalkidiki]], [[Greece]] | map = Greece | map_alt =  | map_caption = Location of Mount Cholomondas in Greece | map_size = | label = | label_position = | lat_d = 40 | lat_m = 27 | lat_s = 34 | lat_NS = N | long_d = 23 | long_m = 31 | long_s = 13 | long_EW = E | region_code = | coordinates = | coordinates_ref = | grid_ref_UK = | grid_ref_Ireland = | topo = | type = | volcanic_arc/belt= | age = | last_eruption = | first_ascent = | easiest_route = }}  '''Cholomon''' or '''Cholomondas''' ({{lang-el|''Χολομών, Χολομώντας''}}, sometimes transliterated as ''Holomontas'') is a mountain in [[Central Macedonia]], [[Greece]], that covers almost all of central and east [[Chalkidiki]]. The ancient Greeks called the mountain Ypsison. It is covered by dense [[oak]] forest and is part of the [[Natura 2000]] network. The highest peak rises northeast of [[Polygyros]], which is the capital of Chalkidiki, to 1.165 metres and is the highest point of Chalkidiki.  [[Category:Mountains of Greece|Cholomon]] [[Category:Landforms of Chalkidiki]] [[Category:Mountains of Central Macedonia|Cholomon]]   {{CentralMacedonia-geo-stub}}"
        ]
       ],
       "datasetInfos": [],
       "dbfsResultPath": null,
       "isJsonSchema": true,
       "metadata": {},
       "overflow": false,
       "plotOptions": {
        "customPlotOptions": {},
        "displayType": "table",
        "pivotAggregation": null,
        "pivotColumns": [],
        "xColumns": [],
        "yColumns": []
       },
       "removedWidgets": [],
       "schema": [
        {
         "metadata": "{}",
         "name": "title",
         "type": "\"string\""
        },
        {
         "metadata": "{}",
         "name": "id",
         "type": "\"integer\""
        },
        {
         "metadata": "{}",
         "name": "revisionId",
         "type": "\"integer\""
        },
        {
         "metadata": "{}",
         "name": "revisionTimestamp",
         "type": "\"timestamp\""
        },
        {
         "metadata": "{}",
         "name": "revisionUsername",
         "type": "\"string\""
        },
        {
         "metadata": "{}",
         "name": "revisionUsernameId",
         "type": "\"integer\""
        },
        {
         "metadata": "{}",
         "name": "text",
         "type": "\"string\""
        }
       ],
       "type": "table"
      }
     },
     "output_type": "display_data"
    }
   ],
   "source": [
    "display(PartialWikipediaDF)"
   ]
  },
  {
   "cell_type": "markdown",
   "metadata": {
    "application/vnd.databricks.v1+cell": {
     "inputWidgets": {},
     "nuid": "2e2a16c2-ad6f-424e-9ea0-ad15ece5ae3e",
     "showTitle": false,
     "title": ""
    }
   },
   "source": [
    "## Conclusions with the data raw analysis:\n",
    "* There are several columns, but the relevant information is stored in the follow columns:\n",
    " * **title**: The title of the document.\n",
    " * **id**: Id of the document\n",
    " * **text**: The content of the document. The most relevant information here (for the page rank algorithm) are the links to other documents. The link is enclosed in brackets, and contains the title of the document."
   ]
  },
  {
   "cell_type": "markdown",
   "metadata": {
    "application/vnd.databricks.v1+cell": {
     "inputWidgets": {},
     "nuid": "2ad68eec-cc51-419c-81db-27db4836f296",
     "showTitle": false,
     "title": ""
    }
   },
   "source": [
    "# 2) Extract Relevant Data\n",
    "From the previous conclusions, we knows we need to select just three columns [*title*,*id*,*text*], and the relevant information from the *text* column are the links, identified by the titles enclosed in brackets.\n",
    "\n",
    "Here we need to use regular expressions to select the relevant information from the *text* column."
   ]
  },
  {
   "cell_type": "markdown",
   "metadata": {
    "application/vnd.databricks.v1+cell": {
     "inputWidgets": {},
     "nuid": "8fdf5ea6-644f-4384-97c7-4e32a40264b6",
     "showTitle": false,
     "title": ""
    }
   },
   "source": [
    "Here we will implement a *parse_links* function, who receive a string and return a list of strings with the titles of the pointed documents.\n",
    "\n",
    "This is a Python function, so is not direct callable from the Spark Dataframe, so, we need to define also the User Defined Function, to be usable in Spark Dataframes."
   ]
  },
  {
   "cell_type": "code",
   "execution_count": 0,
   "metadata": {
    "application/vnd.databricks.v1+cell": {
     "inputWidgets": {},
     "nuid": "77276afc-1f7c-4a23-860c-c923682a882e",
     "showTitle": false,
     "title": ""
    }
   },
   "outputs": [],
   "source": [
    "# This is a suboptimal function. Should be improved, to detect more complex links, links to documents in image references, etc...\n",
    "# ESTUDIAR ESTE ARTICULO: https://es.wikipedia.org/wiki/Wikipedia:Estructura_de_un_art%C3%ADculo \n",
    "def parse_links(document_body):\n",
    "  document_body_u = document_body.lower() \n",
    "  data=re.findall(r'\\[\\[(?!category|wikipedia|file|help|special)((?:(?![\\[\\]]).)*)\\]\\]',document_body_u)\n",
    "  if (len(data)>0):\n",
    "    links=[s.split('|')[0].split('#')[0].lower() for s in data]\n",
    "  else:\n",
    "    links=[]\n",
    "  return links"
   ]
  },
  {
   "cell_type": "code",
   "execution_count": 0,
   "metadata": {
    "application/vnd.databricks.v1+cell": {
     "inputWidgets": {},
     "nuid": "91652eea-ca38-4c8d-9291-7ad0f60fd66f",
     "showTitle": false,
     "title": ""
    }
   },
   "outputs": [],
   "source": [
    "parse_links_udf = udf(parse_links,ArrayType(StringType()))"
   ]
  },
  {
   "cell_type": "markdown",
   "metadata": {
    "application/vnd.databricks.v1+cell": {
     "inputWidgets": {},
     "nuid": "3f0327a8-4d4b-497b-8a29-bedb4264256e",
     "showTitle": false,
     "title": ""
    }
   },
   "source": [
    "It is necesarly convert the text to lowercase (both: *title* and *text* columns)"
   ]
  },
  {
   "cell_type": "code",
   "execution_count": 0,
   "metadata": {
    "application/vnd.databricks.v1+cell": {
     "inputWidgets": {},
     "nuid": "a9c9ce40-6272-43bc-b370-eb7f6ee6ecce",
     "showTitle": false,
     "title": ""
    }
   },
   "outputs": [],
   "source": [
    "tolower_udf= udf(lambda x: x.lower())"
   ]
  },
  {
   "cell_type": "markdown",
   "metadata": {
    "application/vnd.databricks.v1+cell": {
     "inputWidgets": {},
     "nuid": "5536767c-7153-4337-afe1-5c794540c4f2",
     "showTitle": false,
     "title": ""
    }
   },
   "source": [
    "Now, we create parseDF with the selected information, renaming the result tables to \"title\", and \"links\""
   ]
  },
  {
   "cell_type": "code",
   "execution_count": 0,
   "metadata": {
    "application/vnd.databricks.v1+cell": {
     "inputWidgets": {},
     "nuid": "42ae3725-3c11-4190-b0e0-e220827c6361",
     "showTitle": false,
     "title": ""
    }
   },
   "outputs": [],
   "source": [
    "parsedDF = PartialWikipediaDF.select(tolower_udf(\"title\").alias(\"title\"),\"id\",parse_links_udf(\"text\").alias(\"links\"))"
   ]
  },
  {
   "cell_type": "code",
   "execution_count": 0,
   "metadata": {
    "application/vnd.databricks.v1+cell": {
     "inputWidgets": {},
     "nuid": "c533fbc1-135e-428e-9b04-7da9a3de6d78",
     "showTitle": false,
     "title": ""
    }
   },
   "outputs": [
    {
     "data": {
      "text/html": [
       "<style scoped>\n",
       "  .table-result-container {\n",
       "    max-height: 300px;\n",
       "    overflow: auto;\n",
       "  }\n",
       "  table, th, td {\n",
       "    border: 1px solid black;\n",
       "    border-collapse: collapse;\n",
       "  }\n",
       "  th, td {\n",
       "    padding: 5px;\n",
       "  }\n",
       "  th {\n",
       "    text-align: left;\n",
       "  }\n",
       "</style><div class='table-result-container'><table class='table-result'><thead style='background-color: white'><tr><th>title</th><th>id</th><th>links</th></tr></thead><tbody><tr><td>juliet o'neill</td><td>7009414</td><td>List(canada, royal canadian mounted police, maher arar, canadian press, sondra gotlieb, secretary, state dinner, brian mulroney, george h. bush, washington monthly, ottawa citizen, moscow, royal canadian mounted police, ontario superior court, lynn ratushny, justice of the peace, richard sculthorpe, sanitization (classified information), gowlings, southam fellowship, charles lynch award)</td></tr><tr><td>manettia</td><td>6379698</td><td>List(plantae, angiosperms, eudicots, asterids, gentianales, rubiaceae, rubioideae, hedyotideae, mutis, linnaeus, genus, liana, herb, rubiaceae, tropical, americas, synonymy, carapichea ipecacuanha, manettia skutchii)</td></tr><tr><td>kenny mckinley</td><td>22371574</td><td>List(denver broncos, wide receiver, mableton, georgia, centennial, colorado, south carolina gamecocks football, denver broncos, southeastern conference, american football, wide receiver, denver broncos, national football league, 2009 nfl draft, college football, south carolina gamecocks football, mableton, georgia, austell, georgia, touchdowns, sidney rice, turf toe, south carolina gamecocks football, southeastern conference, south carolina gamecocks football, tennessee volunteers football, all-america, south carolina gamecocks football, hamstring, southeastern conference, denver broncos, 2009 nfl draft, 2009 nfl draft, associated press, yahoo! news, injured reserve, arapahoe county, colorado, depression (mood), associated press, tennessee titans)</td></tr><tr><td>brown-westhead, moore & co</td><td>39249641</td><td>List(meissen porcelain, china, earthenware, sanitary, cauldon canal, stoke-upon-trent, england, victorian majolica)</td></tr><tr><td>phalonidia haplidia</td><td>42305636</td><td>List(animal, arthropod, insect, lepidoptera, tortricidae, phalonidia, józef razowski, moth, tortricidae, mexico)</td></tr><tr><td>bean bowl</td><td>13511010</td><td>List(scottsbluff, nebraska, doane college, university of northern colorado, national collegiate athletic association, united states, college football, bowl game, scottsbluff, nebraska, idaho state university, chadron state college, new york times, doane college, university of northern colorado, doane college)</td></tr><tr><td>benjamin karamoko</td><td>45446916</td><td>List(mali, defender (association football), as saint-étienne, as saint-étienne, as saint-étienne, france, defender (association football), ligue 1, as saint-étienne, as saint-étienne, ligue 1, girondins de bordeaux, paul baysse)</td></tr><tr><td>villa aldama</td><td>23255883</td><td>List(municipalities of veracruz, administrative divisions of mexico, veracruz, north american central time zone, north american central time zone, veracruz (state), xalapa, las minas, altotonga (municipality), las vigas de ramírez, perote (municipality), maize, beans, potato, faba bean, virgin of guadalupe)</td></tr><tr><td>hypolycaena merguia</td><td>36575375</td><td>List(animal, arthropod, insect, lepidoptera, lycaenidae, hypolycaena, william doherty, butterfly, lycaenidae, south-east asia)</td></tr><tr><td>miss chinese international pageant 2010</td><td>29406590</td><td>List(eliza sam, carol cheng, derek li, raymond lam, leo ku, liu xuan (gymnast), tianjin, china, television broadcasts limited, miss chinese international pageant, tianjin, china, tvb, miss chinese international pageant 2009, christine kuo, toronto, canada, eliza sam, vancouver, canada, miss chinese international pageant 1989, carol cheng, raymond lam, leo ku, kuala lumpur, eliza sam, vancouver, kuala lumpur, candy chang, toronto, auckland, foshan, hong kong, amsterdam, melbourne, montréal, new york city, sydney, henan, auckland, harbin, amsterdam, chaozhou, bangkok, wenchang, chicago, taiwan, foshan, shandong, hong kong, shunde, kuala lumpur, fujian, macau, guangdong, manila, fujian, melbourne, hainan, montréal, fujian, new york city, jilin, san francisco, guangxi, seattle, foshan, singapore, fujian, sydney, beijing, tahiti, guangdong, candy chang, toronto, beijing, eliza sam, vancouver, guangzhou, hebei, chaoshan, guangzhou, shenyang, henan, henan, jianxi, shandong, guangdong, gansu, vancouver, eliza sam, sydney)</td></tr><tr><td>hoseynabad, qatruyeh</td><td>41834571</td><td>List(list of countries, provinces of iran, fars province, counties of iran, neyriz county, bakhsh, qatruyeh district, rural districts of iran, qatruyeh rural district, iran standard time, iran daylight time, romanize, qatruyeh rural district, qatruyeh district, neyriz county, fars province, iran)</td></tr><tr><td>13i</td><td>46653940</td><td>List(canal 13 (chile), santiago, chile, spanish language, canal 13 (chile), latin america, teletrece, bienvenidos (tv program), teletrece, teletrece, los 80, teletrece, papi ricky, las vega's, primera dama (2010 telenovela), teletrece)</td></tr><tr><td>mount cholomon</td><td>15522609</td><td>List(chalkidiki, greece, central macedonia, greece, chalkidiki, oak, natura 2000, polygyros)</td></tr></tbody></table></div>"
      ]
     },
     "metadata": {
      "application/vnd.databricks.v1+output": {
       "addedWidgets": {},
       "aggData": [],
       "aggError": "",
       "aggOverflow": false,
       "aggSchema": [],
       "aggSeriesLimitReached": false,
       "aggType": "",
       "arguments": {},
       "columnCustomDisplayInfos": {},
       "data": [
        [
         "juliet o'neill",
         7009414,
         [
          "canada",
          "royal canadian mounted police",
          "maher arar",
          "canadian press",
          "sondra gotlieb",
          "secretary",
          "state dinner",
          "brian mulroney",
          "george h. bush",
          "washington monthly",
          "ottawa citizen",
          "moscow",
          "royal canadian mounted police",
          "ontario superior court",
          "lynn ratushny",
          "justice of the peace",
          "richard sculthorpe",
          "sanitization (classified information)",
          "gowlings",
          "southam fellowship",
          "charles lynch award"
         ]
        ],
        [
         "manettia",
         6379698,
         [
          "plantae",
          "angiosperms",
          "eudicots",
          "asterids",
          "gentianales",
          "rubiaceae",
          "rubioideae",
          "hedyotideae",
          "mutis",
          "linnaeus",
          "genus",
          "liana",
          "herb",
          "rubiaceae",
          "tropical",
          "americas",
          "synonymy",
          "carapichea ipecacuanha",
          "manettia skutchii"
         ]
        ],
        [
         "kenny mckinley",
         22371574,
         [
          "denver broncos",
          "wide receiver",
          "mableton, georgia",
          "centennial, colorado",
          "south carolina gamecocks football",
          "denver broncos",
          "southeastern conference",
          "american football",
          "wide receiver",
          "denver broncos",
          "national football league",
          "2009 nfl draft",
          "college football",
          "south carolina gamecocks football",
          "mableton, georgia",
          "austell, georgia",
          "touchdowns",
          "sidney rice",
          "turf toe",
          "south carolina gamecocks football",
          "southeastern conference",
          "south carolina gamecocks football",
          "tennessee volunteers football",
          "all-america",
          "south carolina gamecocks football",
          "hamstring",
          "southeastern conference",
          "denver broncos",
          "2009 nfl draft",
          "2009 nfl draft",
          "associated press",
          "yahoo! news",
          "injured reserve",
          "arapahoe county, colorado",
          "depression (mood)",
          "associated press",
          "tennessee titans"
         ]
        ],
        [
         "brown-westhead, moore & co",
         39249641,
         [
          "meissen porcelain",
          "china",
          "earthenware",
          "sanitary",
          "cauldon canal",
          "stoke-upon-trent",
          "england",
          "victorian majolica"
         ]
        ],
        [
         "phalonidia haplidia",
         42305636,
         [
          "animal",
          "arthropod",
          "insect",
          "lepidoptera",
          "tortricidae",
          "phalonidia",
          "józef razowski",
          "moth",
          "tortricidae",
          "mexico"
         ]
        ],
        [
         "bean bowl",
         13511010,
         [
          "scottsbluff, nebraska",
          "doane college",
          "university of northern colorado",
          "national collegiate athletic association",
          "united states",
          "college football",
          "bowl game",
          "scottsbluff, nebraska",
          "idaho state university",
          "chadron state college",
          "new york times",
          "doane college",
          "university of northern colorado",
          "doane college"
         ]
        ],
        [
         "benjamin karamoko",
         45446916,
         [
          "mali",
          "defender (association football)",
          "as saint-étienne",
          "as saint-étienne",
          "as saint-étienne",
          "france",
          "defender (association football)",
          "ligue 1",
          "as saint-étienne",
          "as saint-étienne",
          "ligue 1",
          "girondins de bordeaux",
          "paul baysse"
         ]
        ],
        [
         "villa aldama",
         23255883,
         [
          "municipalities of veracruz",
          "administrative divisions of mexico",
          "veracruz",
          "north american central time zone",
          "north american central time zone",
          "veracruz (state)",
          "xalapa",
          "las minas",
          "altotonga (municipality)",
          "las vigas de ramírez",
          "perote (municipality)",
          "maize",
          "beans",
          "potato",
          "faba bean",
          "virgin of guadalupe"
         ]
        ],
        [
         "hypolycaena merguia",
         36575375,
         [
          "animal",
          "arthropod",
          "insect",
          "lepidoptera",
          "lycaenidae",
          "hypolycaena",
          "william doherty",
          "butterfly",
          "lycaenidae",
          "south-east asia"
         ]
        ],
        [
         "miss chinese international pageant 2010",
         29406590,
         [
          "eliza sam",
          "carol cheng",
          "derek li",
          "raymond lam",
          "leo ku",
          "liu xuan (gymnast)",
          "tianjin",
          "china",
          "television broadcasts limited",
          "miss chinese international pageant",
          "tianjin",
          "china",
          "tvb",
          "miss chinese international pageant 2009",
          "christine kuo",
          "toronto, canada",
          "eliza sam",
          "vancouver, canada",
          "miss chinese international pageant 1989",
          "carol cheng",
          "raymond lam",
          "leo ku",
          "kuala lumpur",
          "eliza sam",
          "vancouver",
          "kuala lumpur",
          "candy chang",
          "toronto",
          "auckland",
          "foshan",
          "hong kong",
          "amsterdam",
          "melbourne",
          "montréal",
          "new york city",
          "sydney",
          "henan",
          "auckland",
          "harbin",
          "amsterdam",
          "chaozhou",
          "bangkok",
          "wenchang",
          "chicago",
          "taiwan",
          "foshan",
          "shandong",
          "hong kong",
          "shunde",
          "kuala lumpur",
          "fujian",
          "macau",
          "guangdong",
          "manila",
          "fujian",
          "melbourne",
          "hainan",
          "montréal",
          "fujian",
          "new york city",
          "jilin",
          "san francisco",
          "guangxi",
          "seattle",
          "foshan",
          "singapore",
          "fujian",
          "sydney",
          "beijing",
          "tahiti",
          "guangdong",
          "candy chang",
          "toronto",
          "beijing",
          "eliza sam",
          "vancouver",
          "guangzhou",
          "hebei",
          "chaoshan",
          "guangzhou",
          "shenyang",
          "henan",
          "henan",
          "jianxi",
          "shandong",
          "guangdong",
          "gansu",
          "vancouver",
          "eliza sam",
          "sydney"
         ]
        ],
        [
         "hoseynabad, qatruyeh",
         41834571,
         [
          "list of countries",
          "provinces of iran",
          "fars province",
          "counties of iran",
          "neyriz county",
          "bakhsh",
          "qatruyeh district",
          "rural districts of iran",
          "qatruyeh rural district",
          "iran standard time",
          "iran daylight time",
          "romanize",
          "qatruyeh rural district",
          "qatruyeh district",
          "neyriz county",
          "fars province",
          "iran"
         ]
        ],
        [
         "13i",
         46653940,
         [
          "canal 13 (chile)",
          "santiago",
          "chile",
          "spanish language",
          "canal 13 (chile)",
          "latin america",
          "teletrece",
          "bienvenidos (tv program)",
          "teletrece",
          "teletrece",
          "los 80",
          "teletrece",
          "papi ricky",
          "las vega's",
          "primera dama (2010 telenovela)",
          "teletrece"
         ]
        ],
        [
         "mount cholomon",
         15522609,
         [
          "chalkidiki",
          "greece",
          "central macedonia",
          "greece",
          "chalkidiki",
          "oak",
          "natura 2000",
          "polygyros"
         ]
        ]
       ],
       "datasetInfos": [],
       "dbfsResultPath": null,
       "isJsonSchema": true,
       "metadata": {},
       "overflow": false,
       "plotOptions": {
        "customPlotOptions": {},
        "displayType": "table",
        "pivotAggregation": null,
        "pivotColumns": [],
        "xColumns": [],
        "yColumns": []
       },
       "removedWidgets": [],
       "schema": [
        {
         "metadata": "{}",
         "name": "title",
         "type": "\"string\""
        },
        {
         "metadata": "{}",
         "name": "id",
         "type": "\"integer\""
        },
        {
         "metadata": "{}",
         "name": "links",
         "type": "{\"type\":\"array\",\"elementType\":\"string\",\"containsNull\":true}"
        }
       ],
       "type": "table"
      }
     },
     "output_type": "display_data"
    }
   ],
   "source": [
    "display(parsedDF)"
   ]
  },
  {
   "cell_type": "markdown",
   "metadata": {
    "application/vnd.databricks.v1+cell": {
     "inputWidgets": {},
     "nuid": "37a46987-b6cd-478e-91a8-ee0577de12aa",
     "showTitle": false,
     "title": ""
    }
   },
   "source": [
    "# 3) Transform *List of links* to *List od Docuemts ID*: *Forward Links Table*"
   ]
  },
  {
   "cell_type": "markdown",
   "metadata": {
    "application/vnd.databricks.v1+cell": {
     "inputWidgets": {},
     "nuid": "e6cfd450-2de2-462c-b565-e56e2714020c",
     "showTitle": false,
     "title": ""
    }
   },
   "source": [
    "To get the *id* of the target documents, we need analyse the full Wikipedia Database and extract a table with this two information.\n",
    "\n",
    "This information is static, and used in distributed way. So, we will collect the data and convert to a Pandas Dataframe (PDF suffix)."
   ]
  },
  {
   "cell_type": "code",
   "execution_count": 0,
   "metadata": {
    "application/vnd.databricks.v1+cell": {
     "inputWidgets": {},
     "nuid": "dbf50ad5-618a-4976-8aca-9bc7a8ac6fb2",
     "showTitle": false,
     "title": ""
    }
   },
   "outputs": [],
   "source": [
    "titleidDF=wikipediaDF.select(\"id\",tolower_udf(\"title\").alias(\"title\"));"
   ]
  },
  {
   "cell_type": "code",
   "execution_count": 0,
   "metadata": {
    "application/vnd.databricks.v1+cell": {
     "inputWidgets": {},
     "nuid": "65c08a41-e66f-4428-ae82-9a8130a6f980",
     "showTitle": false,
     "title": ""
    }
   },
   "outputs": [],
   "source": [
    "titleidPDF=titleidDF.toPandas()"
   ]
  },
  {
   "cell_type": "code",
   "execution_count": 0,
   "metadata": {
    "application/vnd.databricks.v1+cell": {
     "inputWidgets": {},
     "nuid": "edaf9388-4d9b-40a4-9fb7-9f03a0cc6f6b",
     "showTitle": false,
     "title": ""
    }
   },
   "outputs": [
    {
     "data": {
      "text/plain": [
       "root\n",
       " |-- id: integer (nullable = true)\n",
       " |-- links: array (nullable = true)\n",
       " |    |-- element: long (containsNull = true)\n",
       "\n"
      ]
     },
     "metadata": {
      "application/vnd.databricks.v1+output": {
       "addedWidgets": {},
       "arguments": {},
       "data": "root\n |-- id: integer (nullable = true)\n |-- links: array (nullable = true)\n |    |-- element: long (containsNull = true)\n\n",
       "datasetInfos": [],
       "metadata": {},
       "removedWidgets": [],
       "type": "ansi"
      }
     },
     "output_type": "display_data"
    }
   ],
   "source": [
    "ForwardDF.printSchema()"
   ]
  },
  {
   "cell_type": "code",
   "execution_count": 0,
   "metadata": {
    "application/vnd.databricks.v1+cell": {
     "inputWidgets": {},
     "nuid": "4d11de7a-6d69-4485-9afe-d4db817a5960",
     "showTitle": false,
     "title": ""
    }
   },
   "outputs": [
    {
     "data": {
      "text/html": [
       "<div>\n",
       "<style scoped>\n",
       "    .dataframe tbody tr th:only-of-type {\n",
       "        vertical-align: middle;\n",
       "    }\n",
       "\n",
       "    .dataframe tbody tr th {\n",
       "        vertical-align: top;\n",
       "    }\n",
       "\n",
       "    .dataframe thead th {\n",
       "        text-align: right;\n",
       "    }\n",
       "</style>\n",
       "<table border=\"1\" class=\"dataframe\">\n",
       "  <thead>\n",
       "    <tr style=\"text-align: right;\">\n",
       "      <th></th>\n",
       "      <th>id</th>\n",
       "      <th>title</th>\n",
       "    </tr>\n",
       "  </thead>\n",
       "  <tbody>\n",
       "    <tr>\n",
       "      <th>0</th>\n",
       "      <td>13758</td>\n",
       "      <td>history of physics</td>\n",
       "    </tr>\n",
       "    <tr>\n",
       "      <th>1</th>\n",
       "      <td>13761</td>\n",
       "      <td>hydrofoil</td>\n",
       "    </tr>\n",
       "    <tr>\n",
       "      <th>2</th>\n",
       "      <td>13763</td>\n",
       "      <td>henri chopin</td>\n",
       "    </tr>\n",
       "    <tr>\n",
       "      <th>3</th>\n",
       "      <td>13764</td>\n",
       "      <td>hassium</td>\n",
       "    </tr>\n",
       "    <tr>\n",
       "      <th>4</th>\n",
       "      <td>13768</td>\n",
       "      <td>hydrus</td>\n",
       "    </tr>\n",
       "    <tr>\n",
       "      <th>...</th>\n",
       "      <td>...</td>\n",
       "      <td>...</td>\n",
       "    </tr>\n",
       "    <tr>\n",
       "      <th>5823205</th>\n",
       "      <td>18224979</td>\n",
       "      <td>koama</td>\n",
       "    </tr>\n",
       "    <tr>\n",
       "      <th>5823206</th>\n",
       "      <td>18224984</td>\n",
       "      <td>kokoaga-ouest</td>\n",
       "    </tr>\n",
       "    <tr>\n",
       "      <th>5823207</th>\n",
       "      <td>18224986</td>\n",
       "      <td>craig (given name)</td>\n",
       "    </tr>\n",
       "    <tr>\n",
       "      <th>5823208</th>\n",
       "      <td>18224990</td>\n",
       "      <td>kou, burkina faso</td>\n",
       "    </tr>\n",
       "    <tr>\n",
       "      <th>5823209</th>\n",
       "      <td>18225000</td>\n",
       "      <td>koughin</td>\n",
       "    </tr>\n",
       "  </tbody>\n",
       "</table>\n",
       "<p>5823210 rows × 2 columns</p>\n",
       "</div>"
      ]
     },
     "metadata": {
      "application/vnd.databricks.v1+output": {
       "addedWidgets": {},
       "arguments": {},
       "data": "<div>\n<style scoped>\n    .dataframe tbody tr th:only-of-type {\n        vertical-align: middle;\n    }\n\n    .dataframe tbody tr th {\n        vertical-align: top;\n    }\n\n    .dataframe thead th {\n        text-align: right;\n    }\n</style>\n<table border=\"1\" class=\"dataframe\">\n  <thead>\n    <tr style=\"text-align: right;\">\n      <th></th>\n      <th>id</th>\n      <th>title</th>\n    </tr>\n  </thead>\n  <tbody>\n    <tr>\n      <th>0</th>\n      <td>13758</td>\n      <td>history of physics</td>\n    </tr>\n    <tr>\n      <th>1</th>\n      <td>13761</td>\n      <td>hydrofoil</td>\n    </tr>\n    <tr>\n      <th>2</th>\n      <td>13763</td>\n      <td>henri chopin</td>\n    </tr>\n    <tr>\n      <th>3</th>\n      <td>13764</td>\n      <td>hassium</td>\n    </tr>\n    <tr>\n      <th>4</th>\n      <td>13768</td>\n      <td>hydrus</td>\n    </tr>\n    <tr>\n      <th>...</th>\n      <td>...</td>\n      <td>...</td>\n    </tr>\n    <tr>\n      <th>5823205</th>\n      <td>18224979</td>\n      <td>koama</td>\n    </tr>\n    <tr>\n      <th>5823206</th>\n      <td>18224984</td>\n      <td>kokoaga-ouest</td>\n    </tr>\n    <tr>\n      <th>5823207</th>\n      <td>18224986</td>\n      <td>craig (given name)</td>\n    </tr>\n    <tr>\n      <th>5823208</th>\n      <td>18224990</td>\n      <td>kou, burkina faso</td>\n    </tr>\n    <tr>\n      <th>5823209</th>\n      <td>18225000</td>\n      <td>koughin</td>\n    </tr>\n  </tbody>\n</table>\n<p>5823210 rows × 2 columns</p>\n</div>",
       "datasetInfos": [],
       "metadata": {},
       "removedWidgets": [],
       "textData": null,
       "type": "htmlSandbox"
      }
     },
     "output_type": "display_data"
    }
   ],
   "source": [
    "titleidPDF"
   ]
  },
  {
   "cell_type": "code",
   "execution_count": 0,
   "metadata": {
    "application/vnd.databricks.v1+cell": {
     "inputWidgets": {},
     "nuid": "9634a0b3-a5ca-4fa1-863b-29615a98eb10",
     "showTitle": false,
     "title": ""
    }
   },
   "outputs": [],
   "source": [
    "def text_links_2idx(links , title_idxPDF):\n",
    "  if ( len(links)>0):\n",
    "  # This command looks in the title column if the elements in the list links exists, and if it exists\n",
    "  # gets his id value. The result is converted to a list.\n",
    "    result = title_idxPDF[title_idxPDF.title.isin(links)].id.to_list()\n",
    "  else:\n",
    "    result = [] \n",
    "  return result"
   ]
  },
  {
   "cell_type": "code",
   "execution_count": 0,
   "metadata": {
    "application/vnd.databricks.v1+cell": {
     "inputWidgets": {},
     "nuid": "e6e0245b-2b87-4fba-9094-3e37f5591374",
     "showTitle": false,
     "title": ""
    }
   },
   "outputs": [],
   "source": [
    "broadcast_title_idPDF = sc.broadcast(titleidPDF)"
   ]
  },
  {
   "cell_type": "code",
   "execution_count": 0,
   "metadata": {
    "application/vnd.databricks.v1+cell": {
     "inputWidgets": {},
     "nuid": "1820edc1-5679-4e6d-8554-1cbc58633045",
     "showTitle": false,
     "title": ""
    }
   },
   "outputs": [],
   "source": [
    "def text_links_2idx_2(links):\n",
    "  title_idxPDF = broadcast_title_idPDF.value\n",
    "  if ( len(links)>0):\n",
    "  # This command looks in the title column if the elements in the list links exists, and if it exists\n",
    "  # gets his id value. The result is converted to a list.\n",
    "    result = title_idxPDF[title_idxPDF.title.isin(links)].id.to_list()\n",
    "  else:\n",
    "    result = [] \n",
    "  return result"
   ]
  },
  {
   "cell_type": "markdown",
   "metadata": {
    "application/vnd.databricks.v1+cell": {
     "inputWidgets": {},
     "nuid": "f787f05a-2127-481b-a346-8c74e786885a",
     "showTitle": false,
     "title": ""
    }
   },
   "source": [
    "We define a test_list, to check the the text_links_2idx function."
   ]
  },
  {
   "cell_type": "code",
   "execution_count": 0,
   "metadata": {
    "application/vnd.databricks.v1+cell": {
     "inputWidgets": {},
     "nuid": "850cfe01-a4b4-481e-a87c-37f7133bd7a8",
     "showTitle": false,
     "title": ""
    }
   },
   "outputs": [],
   "source": [
    "test_list=[\"shenzhou (spacecraft)|shenzhou\",\"shenzhou (spacecraft)|shenzhou\", \"long march 2f|chang zheng 2f\", \"jiuquan satellite launch center|jiuquan\", \"jiuquan launch area 4|la-4/sls-1\", \"geocentric orbit|geocentric\", \"low earth orbit|low earth\", \"yang liwei\", \"shenzhou 4\", \"shenzhou 6\", \"shenzhou program|shenzhou\", \"human spaceflight\", \"chinese space program\", \"shenzhou spacecraft\", \"long march 2f\", \"soviet union\", \"russia\", \"united states\", \"file:yang liwei.jpg|thumb|left|[[yang liwei\", \"yang liwei\", \"chinese nationalism\", \"united nations\", \"people's daily\", \"spacedaily\", \"political status of taiwan|taiwan\", \"people's daily\", \"general secretary of the communist party of china|general secretary\", \"president of the people's republic of china|president\", \"hu jintao\", \"great hall of the people\", \"sina.com\", \"central committee of the communist party of china|cpc central committee\", \"state council of china|state council\", \"central military commission\", \"sina.com\", \"prime minister of japan|prime minister\", \"junichiro koizumi\", \"cctv.com\", \"george w. bush\", \"united states department of state|u.s. state department\", \"sean o'keefe\", \"dprk\", \"kwangmyŏngsŏng-1\", \"yang liwei\", \"chinese space program\", \"tiangong program\", \"shenzhou spacecraft\", \"long march rocket\", \"jiuquan satellite launch center\", \"shenzhou 4\", \"shenzhou 6\", \"category:human spaceflights|shenzhou 05\", \"category:shenzhou program|shenzhou 05\", \"category:spacecraft launched in 2003\", \"category:2003 in china\"]\n"
   ]
  },
  {
   "cell_type": "code",
   "execution_count": 0,
   "metadata": {
    "application/vnd.databricks.v1+cell": {
     "inputWidgets": {},
     "nuid": "7e78b20b-86fd-47e5-a6f8-5245acfddff2",
     "showTitle": false,
     "title": ""
    }
   },
   "outputs": [
    {
     "data": {
      "text/plain": [
       "\u001b[0;31m---------------------------------------------------------------------------\u001b[0m\n",
       "\u001b[0;31mNameError\u001b[0m                                 Traceback (most recent call last)\n",
       "\u001b[0;32m<command-1782843817263986>\u001b[0m in \u001b[0;36m<module>\u001b[0;34m\u001b[0m\n",
       "\u001b[0;32m----> 1\u001b[0;31m \u001b[0midx_list\u001b[0m\u001b[0;34m=\u001b[0m\u001b[0mtext_links_2idx\u001b[0m\u001b[0;34m(\u001b[0m\u001b[0mtest_list\u001b[0m\u001b[0;34m,\u001b[0m\u001b[0mtitleidPDF\u001b[0m\u001b[0;34m)\u001b[0m\u001b[0;34m\u001b[0m\u001b[0;34m\u001b[0m\u001b[0m\n",
       "\u001b[0m\n",
       "\u001b[0;31mNameError\u001b[0m: name 'test_list' is not defined"
      ]
     },
     "metadata": {
      "application/vnd.databricks.v1+output": {
       "arguments": {},
       "data": "\u001b[0;31m---------------------------------------------------------------------------\u001b[0m\n\u001b[0;31mNameError\u001b[0m                                 Traceback (most recent call last)\n\u001b[0;32m<command-1782843817263986>\u001b[0m in \u001b[0;36m<module>\u001b[0;34m\u001b[0m\n\u001b[0;32m----> 1\u001b[0;31m \u001b[0midx_list\u001b[0m\u001b[0;34m=\u001b[0m\u001b[0mtext_links_2idx\u001b[0m\u001b[0;34m(\u001b[0m\u001b[0mtest_list\u001b[0m\u001b[0;34m,\u001b[0m\u001b[0mtitleidPDF\u001b[0m\u001b[0;34m)\u001b[0m\u001b[0;34m\u001b[0m\u001b[0;34m\u001b[0m\u001b[0m\n\u001b[0m\n\u001b[0;31mNameError\u001b[0m: name 'test_list' is not defined",
       "errorSummary": "<span class='ansi-red-fg'>NameError</span>: name 'test_list' is not defined",
       "errorTraceType": "ansi",
       "metadata": {},
       "type": "ipynbError"
      }
     },
     "output_type": "display_data"
    }
   ],
   "source": [
    "idx_list=text_links_2idx(test_list,titleidPDF)"
   ]
  },
  {
   "cell_type": "code",
   "execution_count": 0,
   "metadata": {
    "application/vnd.databricks.v1+cell": {
     "inputWidgets": {},
     "nuid": "3415d0d2-8dad-4fb9-ba90-f167d4ac487e",
     "showTitle": false,
     "title": ""
    }
   },
   "outputs": [
    {
     "data": {
      "text/plain": [
       "Out[167]: [25391,\n",
       " 26779,\n",
       " 31769,\n",
       " 340917,\n",
       " 340934,\n",
       " 340947,\n",
       " 151210,\n",
       " 153223,\n",
       " 263163,\n",
       " 357847,\n",
       " 553623,\n",
       " 869878,\n",
       " 489179,\n",
       " 2481352,\n",
       " 3434750,\n",
       " 4980140,\n",
       " 3414021,\n",
       " 22309268]"
      ]
     },
     "metadata": {
      "application/vnd.databricks.v1+output": {
       "addedWidgets": {},
       "arguments": {},
       "data": "Out[167]: [25391,\n 26779,\n 31769,\n 340917,\n 340934,\n 340947,\n 151210,\n 153223,\n 263163,\n 357847,\n 553623,\n 869878,\n 489179,\n 2481352,\n 3434750,\n 4980140,\n 3414021,\n 22309268]",
       "datasetInfos": [],
       "metadata": {},
       "removedWidgets": [],
       "type": "ansi"
      }
     },
     "output_type": "display_data"
    }
   ],
   "source": [
    "idx_list"
   ]
  },
  {
   "cell_type": "code",
   "execution_count": 0,
   "metadata": {
    "application/vnd.databricks.v1+cell": {
     "inputWidgets": {},
     "nuid": "0237d683-5b53-40e2-845c-bd1928490667",
     "showTitle": false,
     "title": ""
    }
   },
   "outputs": [],
   "source": [
    "i877 idx_list"
   ]
  },
  {
   "cell_type": "code",
   "execution_count": 0,
   "metadata": {
    "application/vnd.databricks.v1+cell": {
     "inputWidgets": {},
     "nuid": "f27980ff-73a9-4c3c-bcbf-711577e64926",
     "showTitle": false,
     "title": ""
    }
   },
   "outputs": [],
   "source": [
    "udf_text_links_2idx =udf(text_links_2idx_2,ArrayType(LongType()))"
   ]
  },
  {
   "cell_type": "code",
   "execution_count": 0,
   "metadata": {
    "application/vnd.databricks.v1+cell": {
     "inputWidgets": {},
     "nuid": "138cb3fc-65c0-45df-84b6-ddcc69099d1c",
     "showTitle": false,
     "title": ""
    }
   },
   "outputs": [],
   "source": [
    "ForwardDF = parsedDF.select(\"id\",udf_text_links_2idx(\"links\").alias(\"links\")).cache()"
   ]
  },
  {
   "cell_type": "code",
   "execution_count": 0,
   "metadata": {
    "application/vnd.databricks.v1+cell": {
     "inputWidgets": {},
     "nuid": "7b07874c-f251-4b30-8a09-f42a4a0be19a",
     "showTitle": false,
     "title": ""
    }
   },
   "outputs": [
    {
     "data": {
      "text/html": [
       "<style scoped>\n",
       "  .table-result-container {\n",
       "    max-height: 300px;\n",
       "    overflow: auto;\n",
       "  }\n",
       "  table, th, td {\n",
       "    border: 1px solid black;\n",
       "    border-collapse: collapse;\n",
       "  }\n",
       "  th, td {\n",
       "    padding: 5px;\n",
       "  }\n",
       "  th {\n",
       "    text-align: left;\n",
       "  }\n",
       "</style><div class='table-result-container'><table class='table-result'><thead style='background-color: white'><tr><th>id</th><th>links</th></tr></thead><tbody><tr><td>7009414</td><td>List(69080, 63403, 325569, 285314, 1168864, 5042916, 6143251, 8455935, 1313445)</td></tr><tr><td>6379698</td><td>List(29833, 38493, 551448, 2799672, 2774053, 12895533, 24542769, 43699347, 28873728, 43699347, 54025, 54080)</td></tr><tr><td>22371574</td><td>List(21211, 30839, 6771, 8122, 735314, 606746, 97016, 1560005, 109983, 109986, 7357018, 6845548, 18951490, 17144160, 12931098)</td></tr><tr><td>39249641</td><td>List(5405, 344775, 173301, 12080970, 9316)</td></tr><tr><td>42305636</td><td>List(53307, 66633, 638719, 3966054, 11039790, 25900414, 19827221, 41257955, 41257955, 23366462)</td></tr><tr><td>13511010</td><td>List(6771, 60706, 402032, 362136, 338634, 124204, 3434750, 5104139)</td></tr><tr><td>45446916</td><td>List(19127, 5843419, 17566417)</td></tr><tr><td>23255883</td><td>List(23501, 63125, 154564, 325388, 87990, 16086176, 20656228, 22901605)</td></tr><tr><td>36575375</td><td>List(48338, 53307, 881635, 9500275, 11039790, 19827221, 14624492, 23366462)</td></tr><tr><td>29406590</td><td>List(32706, 25734, 27318, 27862, 12537, 13404, 5405, 49728, 50821, 56615, 64646, 166411, 343968, 645042, 180264, 143373, 1029003, 2231866, 1461079, 2146364, 1827332, 11388236, 22821281, 18603746, 17306237, 21157709, 21044297, 47836950, 18660332, 36902294, 34743894, 34743894)</td></tr><tr><td>41834571</td><td>List(14653, 448049, 448160, 5650783, 7349754, 33367842, 33367842, 41833567, 41833567)</td></tr><tr><td>46653940</td><td>List(5489, 41774433, 41774433, 29032274, 42105780, 42105780, 40398954, 40398954)</td></tr><tr><td>15522609</td><td>List(12108, 39696, 460895, 1269180, 100410)</td></tr></tbody></table></div>"
      ]
     },
     "metadata": {
      "application/vnd.databricks.v1+output": {
       "addedWidgets": {},
       "aggData": [],
       "aggError": "",
       "aggOverflow": false,
       "aggSchema": [],
       "aggSeriesLimitReached": false,
       "aggType": "",
       "arguments": {},
       "columnCustomDisplayInfos": {},
       "data": [
        [
         7009414,
         [
          69080,
          63403,
          325569,
          285314,
          1168864,
          5042916,
          6143251,
          8455935,
          1313445
         ]
        ],
        [
         6379698,
         [
          29833,
          38493,
          551448,
          2799672,
          2774053,
          12895533,
          24542769,
          43699347,
          28873728,
          43699347,
          54025,
          54080
         ]
        ],
        [
         22371574,
         [
          21211,
          30839,
          6771,
          8122,
          735314,
          606746,
          97016,
          1560005,
          109983,
          109986,
          7357018,
          6845548,
          18951490,
          17144160,
          12931098
         ]
        ],
        [
         39249641,
         [
          5405,
          344775,
          173301,
          12080970,
          9316
         ]
        ],
        [
         42305636,
         [
          53307,
          66633,
          638719,
          3966054,
          11039790,
          25900414,
          19827221,
          41257955,
          41257955,
          23366462
         ]
        ],
        [
         13511010,
         [
          6771,
          60706,
          402032,
          362136,
          338634,
          124204,
          3434750,
          5104139
         ]
        ],
        [
         45446916,
         [
          19127,
          5843419,
          17566417
         ]
        ],
        [
         23255883,
         [
          23501,
          63125,
          154564,
          325388,
          87990,
          16086176,
          20656228,
          22901605
         ]
        ],
        [
         36575375,
         [
          48338,
          53307,
          881635,
          9500275,
          11039790,
          19827221,
          14624492,
          23366462
         ]
        ],
        [
         29406590,
         [
          32706,
          25734,
          27318,
          27862,
          12537,
          13404,
          5405,
          49728,
          50821,
          56615,
          64646,
          166411,
          343968,
          645042,
          180264,
          143373,
          1029003,
          2231866,
          1461079,
          2146364,
          1827332,
          11388236,
          22821281,
          18603746,
          17306237,
          21157709,
          21044297,
          47836950,
          18660332,
          36902294,
          34743894,
          34743894
         ]
        ],
        [
         41834571,
         [
          14653,
          448049,
          448160,
          5650783,
          7349754,
          33367842,
          33367842,
          41833567,
          41833567
         ]
        ],
        [
         46653940,
         [
          5489,
          41774433,
          41774433,
          29032274,
          42105780,
          42105780,
          40398954,
          40398954
         ]
        ],
        [
         15522609,
         [
          12108,
          39696,
          460895,
          1269180,
          100410
         ]
        ]
       ],
       "datasetInfos": [],
       "dbfsResultPath": null,
       "isJsonSchema": true,
       "metadata": {},
       "overflow": false,
       "plotOptions": {
        "customPlotOptions": {},
        "displayType": "table",
        "pivotAggregation": null,
        "pivotColumns": [],
        "xColumns": [],
        "yColumns": []
       },
       "removedWidgets": [],
       "schema": [
        {
         "metadata": "{}",
         "name": "id",
         "type": "\"integer\""
        },
        {
         "metadata": "{}",
         "name": "links",
         "type": "{\"type\":\"array\",\"elementType\":\"long\",\"containsNull\":true}"
        }
       ],
       "type": "table"
      }
     },
     "output_type": "display_data"
    }
   ],
   "source": [
    "display(ForwardDF)"
   ]
  },
  {
   "cell_type": "code",
   "execution_count": 0,
   "metadata": {
    "application/vnd.databricks.v1+cell": {
     "inputWidgets": {},
     "nuid": "d94562d3-d36b-481a-b3db-e950bc01d78f",
     "showTitle": false,
     "title": ""
    }
   },
   "outputs": [
    {
     "data": {
      "text/plain": [
       "+--------+--------------------+\n",
       "|      id|               links|\n",
       "+--------+--------------------+\n",
       "| 7009414|[69080, 63403, 32...|\n",
       "| 6379698|[38493, 551448, 2...|\n",
       "|22371574|[21211, 30839, 67...|\n",
       "|39249641|[5405, 344775, 17...|\n",
       "|42305636|[53307, 66633, 63...|\n",
       "|13511010|[6771, 124204, 51...|\n",
       "|45446916|   [19127, 17566417]|\n",
       "|23255883|[23501, 63125, 15...|\n",
       "|36575375|[48338, 53307, 88...|\n",
       "|29406590|[32706, 25734, 27...|\n",
       "|41834571|[14653, 448049, 7...|\n",
       "|46653940|[5489, 29032274, ...|\n",
       "|15522609|[12108, 39696, 46...|\n",
       "+--------+--------------------+\n",
       "\n"
      ]
     },
     "metadata": {
      "application/vnd.databricks.v1+output": {
       "addedWidgets": {},
       "arguments": {},
       "data": "+--------+--------------------+\n|      id|               links|\n+--------+--------------------+\n| 7009414|[69080, 63403, 32...|\n| 6379698|[38493, 551448, 2...|\n|22371574|[21211, 30839, 67...|\n|39249641|[5405, 344775, 17...|\n|42305636|[53307, 66633, 63...|\n|13511010|[6771, 124204, 51...|\n|45446916|   [19127, 17566417]|\n|23255883|[23501, 63125, 15...|\n|36575375|[48338, 53307, 88...|\n|29406590|[32706, 25734, 27...|\n|41834571|[14653, 448049, 7...|\n|46653940|[5489, 29032274, ...|\n|15522609|[12108, 39696, 46...|\n+--------+--------------------+\n\n",
       "datasetInfos": [],
       "metadata": {},
       "removedWidgets": [],
       "type": "ansi"
      }
     },
     "output_type": "display_data"
    }
   ],
   "source": [
    "ForwardDF.show()"
   ]
  },
  {
   "cell_type": "code",
   "execution_count": 0,
   "metadata": {
    "application/vnd.databricks.v1+cell": {
     "inputWidgets": {},
     "nuid": "13a65214-f391-441e-a947-903625dde485",
     "showTitle": false,
     "title": ""
    }
   },
   "outputs": [],
   "source": []
  },
  {
   "cell_type": "code",
   "execution_count": 0,
   "metadata": {
    "application/vnd.databricks.v1+cell": {
     "inputWidgets": {},
     "nuid": "b2e9e455-dd96-4577-a1f2-3a4be2214fd7",
     "showTitle": false,
     "title": ""
    }
   },
   "outputs": [
    {
     "data": {
      "text/plain": [
       "Out[97]: [Row(locate(7009414, id, 0)=0),\n",
       " Row(locate(7009414, id, 0)=0),\n",
       " Row(locate(7009414, id, 0)=0),\n",
       " Row(locate(7009414, id, 0)=0),\n",
       " Row(locate(7009414, id, 0)=0),\n",
       " Row(locate(7009414, id, 0)=0),\n",
       " Row(locate(7009414, id, 0)=0),\n",
       " Row(locate(7009414, id, 0)=0),\n",
       " Row(locate(7009414, id, 0)=0),\n",
       " Row(locate(7009414, id, 0)=0),\n",
       " Row(locate(7009414, id, 0)=0),\n",
       " Row(locate(7009414, id, 0)=0),\n",
       " Row(locate(7009414, id, 0)=0)]"
      ]
     },
     "metadata": {
      "application/vnd.databricks.v1+output": {
       "addedWidgets": {},
       "arguments": {},
       "data": "Out[97]: [Row(locate(7009414, id, 0)=0),\n Row(locate(7009414, id, 0)=0),\n Row(locate(7009414, id, 0)=0),\n Row(locate(7009414, id, 0)=0),\n Row(locate(7009414, id, 0)=0),\n Row(locate(7009414, id, 0)=0),\n Row(locate(7009414, id, 0)=0),\n Row(locate(7009414, id, 0)=0),\n Row(locate(7009414, id, 0)=0),\n Row(locate(7009414, id, 0)=0),\n Row(locate(7009414, id, 0)=0),\n Row(locate(7009414, id, 0)=0),\n Row(locate(7009414, id, 0)=0)]",
       "datasetInfos": [],
       "metadata": {},
       "removedWidgets": [],
       "type": "ansi"
      }
     },
     "output_type": "display_data"
    }
   ],
   "source": []
  },
  {
   "cell_type": "code",
   "execution_count": 0,
   "metadata": {
    "application/vnd.databricks.v1+cell": {
     "inputWidgets": {},
     "nuid": "d364946a-efa2-449c-a499-c7cc61df796d",
     "showTitle": false,
     "title": ""
    }
   },
   "outputs": [
    {
     "data": {
      "text/plain": [
       "Out[102]: [Row(s=2)]"
      ]
     },
     "metadata": {
      "application/vnd.databricks.v1+output": {
       "addedWidgets": {},
       "arguments": {},
       "data": "Out[102]: [Row(s=2)]",
       "datasetInfos": [],
       "metadata": {},
       "removedWidgets": [],
       "type": "ansi"
      }
     },
     "output_type": "display_data"
    }
   ],
   "source": []
  },
  {
   "cell_type": "markdown",
   "metadata": {
    "application/vnd.databricks.v1+cell": {
     "inputWidgets": {},
     "nuid": "71c6e1f8-ff4d-4fe5-ad81-4710f2cc5f39",
     "showTitle": false,
     "title": ""
    }
   },
   "source": [
    "Once verified the function, we need to define the UDF function, to invoke it from the **parsedDF** to select just [id, list of ids].\n",
    "\n",
    "To be efficient, we can broadcast the variable *titleidPDF*, to call it in the transformation.\n",
    "\n",
    "We will call this Dataframe as: **ForwardDF**"
   ]
  },
  {
   "cell_type": "markdown",
   "metadata": {
    "application/vnd.databricks.v1+cell": {
     "inputWidgets": {},
     "nuid": "8f9c0997-5603-4aa4-a53f-361a04276882",
     "showTitle": false,
     "title": ""
    }
   },
   "source": [
    "# 4) Calculate *Number of output links*\n",
    "Using the **ForwardDF**, we need to calculate the number of output links per document. \n",
    "Because we will need this information to calculate the PageRank we will collect this information in a Pandas Dataframe, and define a Broadcast variable."
   ]
  },
  {
   "cell_type": "code",
   "execution_count": 0,
   "metadata": {
    "application/vnd.databricks.v1+cell": {
     "inputWidgets": {},
     "nuid": "540a8733-7e38-4e0c-b22d-fc8e24c5bd73",
     "showTitle": false,
     "title": ""
    }
   },
   "outputs": [],
   "source": [
    "def count_links(list_of_links):\n",
    "  return list_of_links[0]\n",
    "\n",
    "f = lambda "
   ]
  },
  {
   "cell_type": "code",
   "execution_count": 0,
   "metadata": {
    "application/vnd.databricks.v1+cell": {
     "inputWidgets": {},
     "nuid": "e18c19a4-d60f-498e-a872-5cc28698447a",
     "showTitle": false,
     "title": ""
    }
   },
   "outputs": [],
   "source": [
    "udf_count_links=udf(count_links,LongType())"
   ]
  },
  {
   "cell_type": "code",
   "execution_count": 0,
   "metadata": {
    "application/vnd.databricks.v1+cell": {
     "inputWidgets": {},
     "nuid": "d8a99d64-8832-4446-99be-fa06be9ec74b",
     "showTitle": false,
     "title": ""
    }
   },
   "outputs": [
    {
     "data": {
      "text/plain": [
       "+-----+----------+\n",
       "|   id|first_link|\n",
       "+-----+----------+\n",
       "|14800|     15166|\n",
       "| 1359|     31260|\n",
       "|23343|    311194|\n",
       "|24026|      4231|\n",
       "|34131|     14023|\n",
       "|35430|     14533|\n",
       "|25652|      3709|\n",
       "|28413|     13960|\n",
       "|10577|     13973|\n",
       "|10622|     15614|\n",
       "|11986|     15574|\n",
       "|13049|     15783|\n",
       "|30170|       658|\n",
       "|44920|     15925|\n",
       "|47128|     25392|\n",
       "|50479|     14289|\n",
       "|50847|     14960|\n",
       "|50870|      4184|\n",
       "|55578|     21635|\n",
       "|60303|     13870|\n",
       "+-----+----------+\n",
       "only showing top 20 rows\n",
       "\n"
      ]
     },
     "metadata": {
      "application/vnd.databricks.v1+output": {
       "addedWidgets": {},
       "arguments": {},
       "data": "+-----+----------+\n|   id|first_link|\n+-----+----------+\n|14800|     15166|\n| 1359|     31260|\n|23343|    311194|\n|24026|      4231|\n|34131|     14023|\n|35430|     14533|\n|25652|      3709|\n|28413|     13960|\n|10577|     13973|\n|10622|     15614|\n|11986|     15574|\n|13049|     15783|\n|30170|       658|\n|44920|     15925|\n|47128|     25392|\n|50479|     14289|\n|50847|     14960|\n|50870|      4184|\n|55578|     21635|\n|60303|     13870|\n+-----+----------+\nonly showing top 20 rows\n\n",
       "datasetInfos": [],
       "metadata": {},
       "removedWidgets": [],
       "type": "ansi"
      }
     },
     "output_type": "display_data"
    }
   ],
   "source": [
    "count_linksDF=ForwardDF.select(\"id\",udf_count_links(\"links\").alias(\"first_link\")).show()"
   ]
  },
  {
   "cell_type": "code",
   "execution_count": 0,
   "metadata": {
    "application/vnd.databricks.v1+cell": {
     "inputWidgets": {},
     "nuid": "0df1e944-e21e-4dbc-bfb1-2ef751193c53",
     "showTitle": false,
     "title": ""
    }
   },
   "outputs": [
    {
     "data": {
      "text/plain": [
       "<class 'pyspark.sql.dataframe.DataFrame'>\n"
      ]
     },
     "metadata": {
      "application/vnd.databricks.v1+output": {
       "addedWidgets": {},
       "arguments": {},
       "data": "<class 'pyspark.sql.dataframe.DataFrame'>\n",
       "datasetInfos": [],
       "metadata": {},
       "removedWidgets": [],
       "type": "ansi"
      }
     },
     "output_type": "display_data"
    }
   ],
   "source": [
    "print(type(ForwardDF.select(\"links\")))"
   ]
  },
  {
   "cell_type": "code",
   "execution_count": 0,
   "metadata": {
    "application/vnd.databricks.v1+cell": {
     "inputWidgets": {},
     "nuid": "87146027-ecdb-44ca-b59a-20635e1fbccf",
     "showTitle": false,
     "title": ""
    }
   },
   "outputs": [],
   "source": [
    "# My approach with the size function instead of the len() one \n",
    "count_links2DF= ForwardDF.select(\"id\",F.size(\"links\").alias(\"count\"))\n",
    "# And the other one keeping the other row \n",
    "ForwardDF_WC= ForwardDF.select(\"id\",\"links\",F.size(\"links\").alias(\"n_succesors\"))"
   ]
  },
  {
   "cell_type": "code",
   "execution_count": 0,
   "metadata": {
    "application/vnd.databricks.v1+cell": {
     "inputWidgets": {},
     "nuid": "1322b0e3-7a9c-40a0-b8f0-eb7bcfb27d50",
     "showTitle": false,
     "title": ""
    }
   },
   "outputs": [
    {
     "data": {
      "text/html": [
       "<style scoped>\n",
       "  .table-result-container {\n",
       "    max-height: 300px;\n",
       "    overflow: auto;\n",
       "  }\n",
       "  table, th, td {\n",
       "    border: 1px solid black;\n",
       "    border-collapse: collapse;\n",
       "  }\n",
       "  th, td {\n",
       "    padding: 5px;\n",
       "  }\n",
       "  th {\n",
       "    text-align: left;\n",
       "  }\n",
       "</style><div class='table-result-container'><table class='table-result'><thead style='background-color: white'><tr><th>id</th><th>links</th><th>n_succesors</th></tr></thead><tbody><tr><td>14800</td><td>List(15165, 15414, 22936, 23340, 32616, 36916, 25445, 27619, 28436, 10172, 11887, 13621, 29618, 31459, 5646, 6591, 18010, 18710, 46268, 48768, 52041, 68282, 69692, 72971, 72987, 73213, 40157, 42207, 42927, 61309, 61645, 61768, 61829, 185441, 187749, 188848, 191436, 191747, 158364, 162300, 278508, 226651, 228690, 290921, 297040, 314629, 249524, 253026, 378212, 469097, 477189, 175143, 639333, 393363, 177922, 523499, 140639, 764177, 500205, 483397, 1095706, 1351766, 1360234, 613492, 96861, 1255782, 1379335, 1394879, 1609174, 621178, 1879959, 1758317, 885721, 2285933, 2999762, 1977720, 1978269, 2831787, 2134398, 2405818, 2407094, 106132, 3083341, 3828146, 4196468, 3328787, 3731174, 3534704, 5585097, 5151453, 7603861, 6170143, 658590, 8087628, 8103949, 8408318, 10035784, 7920576, 10518745, 10326216, 11126830, 9926348, 16861908, 19404136, 9762, 24660757, 14207476, 21468377, 21486360, 36756625, 16893191, 23564616, 21823121, 36756625, 22918149, 33064131, 300459, 303916, 14854602, 33064131, 16448388, 54938)</td><td>122</td></tr><tr><td>1359</td><td>List(31259, 5211, 5623, 200475, 266350, 467003, 467036, 635917, 140702, 606848, 889882, 2255715, 3046290, 4114697, 11440824, 37498649, 37498649, 37297795, 37297795, 7515928)</td><td>20</td></tr><tr><td>23343</td><td>List(311193, 397494, 354396, 123984, 1258722, 1387542, 1738560, 2307409, 1451666, 2580183, 2684862, 106597, 102352, 2379474, 4494157, 2727018, 7075178, 128497, 6797568, 8702589, 11254911, 23027978, 14207262, 37020363, 37020363, 39416992, 26766855, 39416992, 40877760, 23577486, 21076839, 24633607, 43047572, 40877760, 43047572, 40645144, 43970451, 40645144, 43970451, 29159039, 40164060, 40164060, 47541652, 47541652, 23707208)</td><td>45</td></tr><tr><td>24026</td><td>List(4230, 21505, 23634, 27119, 12582, 13311, 19836, 43427, 55172, 58894, 209459, 164901, 366847, 770467, 1075046, 1075071, 1075211, 969126, 2004504, 1983032, 9316, 20500703, 19739045, 34861007, 34861007)</td><td>25</td></tr><tr><td>34131</td><td>List(14022, 15040, 2844, 21175, 21655, 22830, 23635, 33685, 37400, 37401, 37410, 25508, 13017, 5180, 5636, 5914, 17514, 17955, 18728, 19325, 55285, 42896, 42909, 213639, 75220, 80441, 226375, 152735, 252814, 174645, 218052, 761886, 748731, 1064988, 1564830, 1214877, 2983189, 3213931, 106235, 3099755, 2360117, 4764461, 3508610, 4865795, 5997878, 8924479, 7505245, 7950369, 9668, 22778031, 12163656, 39472607, 39472607, 25416893, 20611504, 39042932, 28222445, 39042932, 12207509, 29926794, 29926794, 12246942, 47663449, 47663449, 15706527)</td><td>65</td></tr><tr><td>35430</td><td>List(14532, 15651, 16043, 2553, 2632, 25657, 13621, 28809, 30343, 168851, 442948, 8718425, 11523597, 8592, 13893101, 16685964, 46709309, 47612806, 47612806, 46709309)</td><td>20</td></tr><tr><td>25652</td><td>List(3708, 4146, 21244, 21482, 25645, 25649, 10597, 30118, 31816, 52593, 52710, 56689, 58893, 188171, 211583, 80750, 297696, 444649, 448570, 539055, 511846, 512047, 676659, 1094925, 1210483, 1863527, 1863625, 1863662, 2554181, 2558617, 2558635, 3220876, 1844863, 3042295, 3934892, 3339180, 3366673, 3468737, 30863462, 4582138, 30863462, 2121307, 662451, 9245142, 8500, 26429265, 26214389, 21490998, 42507334, 22558349, 22026933, 35576813, 35576813, 18630329, 31108048, 31108048, 18998750, 29067169, 29641327, 29641327, 2421503)</td><td>61</td></tr><tr><td>28413</td><td>List(13959, 14532, 1256, 1387, 21632, 21714, 34361, 37328, 25458, 25507, 25791, 25994, 26994, 10172, 10310, 13525, 29031, 29376, 30594, 31204, 31259, 6051, 20155, 20189, 45127, 45745, 47277, 47942, 48698, 49907, 73199, 197406, 199993, 200437, 159890, 159964, 325363, 204955, 163277, 75434, 75459, 75462, 148646, 148682, 148683, 148687, 291940, 299259, 368659, 361937, 468634, 175924, 437805, 632641, 383225, 393363, 217131, 219117, 770608, 538538, 899787, 845862, 1046450, 1105124, 1060851, 1138357, 1154819, 1404532, 1642481, 1003514, 1013789, 2894726, 1763184, 1738833, 2233278, 2315588, 2068003, 106286, 803136, 2513801, 3125814, 3828146, 4501200, 4543240, 4083381, 4070761, 6972565, 4590658, 4142501, 4151968, 4152108, 4657098, 6599943, 6645651, 2103585, 113295, 7778280, 8139097, 18949154, 7950310, 8261436, 10194547, 11650720, 30874803, 30874803, 29289093, 26328882, 20210994, 25765218, 27750905, 21542007, 13987341, 13987407, 16685964, 14518651, 25575836, 33573528, 33573528, 35234940, 35234940, 9208916)</td><td>121</td></tr><tr><td>10577</td><td>List(13972, 14073, 14378, 14531, 14552, 14711, 14790, 14848, 15251, 15613, 16078, 16777, 624, 627, 2009, 3335, 3343, 4213, 4298, 21133, 21212, 21241, 21242, 21433, 21704, 21921, 22194, 22258, 22576, 22618, 22661, 32638, 32927, 33702, 33924, 34085, 34290, 34446, 25071, 25391, 25412, 25762, 25784, 25798, 26094, 26364, 26689, 26741, 26779, 28538, 10223, 10568, 10715, 10854, 11247, 11307, 11555, 11772, 11884, 12098, 12118, 12446, 12594, 12674, 12831, 13257, 13456, 13607, 13696, 29219, 29639, 30797, 30985, 31302, 31577, 31715, 31769, 31975, 32048, 4402, 4620, 5735, 6721, 7712, 17616, 18838, 19050, 19541, 20501, 43352, 44060, 44299, 44545, 44899, 44900, 44940, 45383, 45971, 46573, 46574, 46576, 48082, 48130, 49274, 49553, 49613, 49644, 50049, 51083, 51329, 51503, 53352, 67408, 68282, 68836, 70322, 38283, 39389, 39576, 40056, 40275, 42194, 60815, 63073, 63570, 66241, 194904, 196638, 197743, 198175, 199215, 199225, 199254, 199431, 199481, 201226, 201228, 201678, 202287, 203104, 203966, 185197, 185228, 187810, 189640, 190847, 193975, 194436, 316755, 317407, 317435, 319563, 321090, 205703, 206208, 206258, 206554, 206578, 208798, 210098, 210681, 211456, 211865, 212884, 214169, 162977, 162984, 164603, 164609, 164614, 164615, 164616, 164617, 164620, 164622, 165851, 167990, 168025, 274286, 275724, 276997, 75253, 75358, 77242, 79370, 80522, 230197, 230569, 231732, 231733, 231789, 232935, 233525, 234756, 234930, 235923, 345414, 349266, 147341, 288706, 296977, 305764, 305773, 307018, 308242, 310918, 314855, 83003, 83440, 84318, 89191, 252753, 254295, 254428, 254641, 255252, 258746, 258800, 422576, 430480, 239259, 241023, 241833, 241868, 246174, 408472, 259686, 262429, 264865, 264995, 265943, 268021, 268037, 370462, 372509, 373334, 376118, 376210, 376574, 378835, 380231, 357317, 358305, 329630, 329641, 170320, 170718, 172185, 172540, 173310, 174491, 434194, 447350, 636978, 637543, 380881, 382715, 385876, 412742, 216400, 217476, 218754, 219640, 219789, 220636, 222839, 224532, 224534, 579232, 178635, 178753, 178808, 182113, 184391, 458290, 512495, 522051, 523632, 526423, 526695, 141541, 144592, 583806, 587879, 588577, 590778, 591778, 598434, 600458, 554958, 557672, 560047, 536932, 536965, 539160, 496459, 731094, 667850, 670175, 670911, 864535, 866486, 871024, 871470, 123451, 124802, 894847, 484254, 484742, 493242, 493820, 844475, 845588, 1042690, 1050736, 1059617, 1096809, 717439, 719613, 1060464, 1075954, 950383, 957718, 958112, 1369123, 1374224, 609655, 612764, 612773, 612775, 612778, 613541, 94180, 94204, 1265218, 979147, 981600, 1179899, 1139893, 1144717, 1560540, 1160272, 1169505, 1021520, 1480837, 1379761, 1389981, 1586806, 927591, 934894, 942514, 1299102, 1299587, 1114148, 1123279, 1647525, 620970, 999848, 1912002, 1923983, 1537535, 1898891, 1767274, 1728243, 1733315, 2226356, 777061, 782658, 782664, 782670, 782678, 782714, 885365, 888387, 2279200, 1245091, 2533715, 2560816, 2024148, 1977274, 2218869, 2067886, 2577965, 2974615, 3214950, 2613518, 2632114, 1834314, 1839433, 1797747, 99404, 104960, 801297, 804705, 2361072, 2499588, 2519632, 3174020, 5222634, 3571923, 3960911, 4287893, 4461881, 4475409, 5043192, 4190476, 4194758, 4738042, 3350364, 3483621, 2813330, 4905056, 5303783, 3678766, 2737413, 5421455, 5431414, 4599312, 5630920, 6064013, 7624539, 5769539, 7126160, 6658764, 2105289, 2110506, 6139311, 6139325, 132279, 10929004, 6801957, 7818996, 7821365, 7870352, 650806, 663765, 6866136, 6097297, 6122010, 113530, 5920148, 7803851, 4784983, 7285114, 8719606, 8720252, 7560416, 9393546, 5058739, 8028045, 8028091, 9071038, 18938758, 18944081, 18951655, 18978563, 9033013, 7987533, 8770128, 10708028, 2773076, 2781679, 12335154, 9726421, 11650205, 11665196, 16805846, 22842616, 12512903, 8227, 8271, 9317, 9472, 9578, 9663, 22769053, 15926258, 31478000, 915549, 915761, 26208475, 26230922, 29313320, 21472049, 18604080, 17020599, 17268417, 17268435, 31478000, 13825507, 39426186, 21121549, 21173183, 22114276, 17968764, 23686385, 23686446, 18447711, 44291773, 20980516, 44291773, 13539244, 13539614, 23371382, 23371965, 23385442, 23409759, 39879893, 36033899, 36092552, 22359215, 20611107, 20611504, 24795561, 39879893, 37081148, 24894563, 21786641, 13970365, 19984080, 18165258, 28222445, 36033899, 27126603, 36092552, 42824085, 37081148, 38314140, 13697445, 42824085, 21346982, 21382649, 31113163, 19872924, 31113163, 16278694, 40468223, 26096318, 40036297, 40036297, 15303116, 23095199, 40468223, 33622731, 33622731, 33233182, 33652818, 19541428, 33652818, 45356172, 45137597, 33853117, 45137597, 33853117, 300659, 304903, 33233182, 45356172, 45358446, 32235458, 32235458, 15761387, 46839214, 53912, 23711165, 463469, 7505908, 2423598)</td><td>568</td></tr><tr><td>10622</td><td>List(15613, 3132, 26795, 26798, 10371, 11456, 29837, 30353, 30961, 7100, 20405, 38172, 62027, 188257, 164097, 165604, 284282, 79448, 147156, 153000, 308272, 310414, 310796, 88209, 241542, 261630, 267696, 374713, 383211, 179328, 183441, 142753, 143230, 586374, 696825, 1203232, 1558744, 1722127, 624204, 1005131, 2881879, 779165, 1238628, 1500559, 3763502, 4389605, 3668944, 5340604, 5349369, 7030195, 5997515, 113360, 9430562, 8820956, 14167873, 2782835, 24065143, 21243622, 15177561, 16795858, 14737715, 30338816, 30338816, 20695647, 23442958, 11100344, 15707096)</td><td>67</td></tr></tbody></table></div>"
      ]
     },
     "metadata": {
      "application/vnd.databricks.v1+output": {
       "addedWidgets": {},
       "aggData": [],
       "aggError": "",
       "aggOverflow": false,
       "aggSchema": [],
       "aggSeriesLimitReached": false,
       "aggType": "",
       "arguments": {},
       "columnCustomDisplayInfos": {},
       "data": [
        [
         14800,
         [
          15165,
          15414,
          22936,
          23340,
          32616,
          36916,
          25445,
          27619,
          28436,
          10172,
          11887,
          13621,
          29618,
          31459,
          5646,
          6591,
          18010,
          18710,
          46268,
          48768,
          52041,
          68282,
          69692,
          72971,
          72987,
          73213,
          40157,
          42207,
          42927,
          61309,
          61645,
          61768,
          61829,
          185441,
          187749,
          188848,
          191436,
          191747,
          158364,
          162300,
          278508,
          226651,
          228690,
          290921,
          297040,
          314629,
          249524,
          253026,
          378212,
          469097,
          477189,
          175143,
          639333,
          393363,
          177922,
          523499,
          140639,
          764177,
          500205,
          483397,
          1095706,
          1351766,
          1360234,
          613492,
          96861,
          1255782,
          1379335,
          1394879,
          1609174,
          621178,
          1879959,
          1758317,
          885721,
          2285933,
          2999762,
          1977720,
          1978269,
          2831787,
          2134398,
          2405818,
          2407094,
          106132,
          3083341,
          3828146,
          4196468,
          3328787,
          3731174,
          3534704,
          5585097,
          5151453,
          7603861,
          6170143,
          658590,
          8087628,
          8103949,
          8408318,
          10035784,
          7920576,
          10518745,
          10326216,
          11126830,
          9926348,
          16861908,
          19404136,
          9762,
          24660757,
          14207476,
          21468377,
          21486360,
          36756625,
          16893191,
          23564616,
          21823121,
          36756625,
          22918149,
          33064131,
          300459,
          303916,
          14854602,
          33064131,
          16448388,
          54938
         ],
         122
        ],
        [
         1359,
         [
          31259,
          5211,
          5623,
          200475,
          266350,
          467003,
          467036,
          635917,
          140702,
          606848,
          889882,
          2255715,
          3046290,
          4114697,
          11440824,
          37498649,
          37498649,
          37297795,
          37297795,
          7515928
         ],
         20
        ],
        [
         23343,
         [
          311193,
          397494,
          354396,
          123984,
          1258722,
          1387542,
          1738560,
          2307409,
          1451666,
          2580183,
          2684862,
          106597,
          102352,
          2379474,
          4494157,
          2727018,
          7075178,
          128497,
          6797568,
          8702589,
          11254911,
          23027978,
          14207262,
          37020363,
          37020363,
          39416992,
          26766855,
          39416992,
          40877760,
          23577486,
          21076839,
          24633607,
          43047572,
          40877760,
          43047572,
          40645144,
          43970451,
          40645144,
          43970451,
          29159039,
          40164060,
          40164060,
          47541652,
          47541652,
          23707208
         ],
         45
        ],
        [
         24026,
         [
          4230,
          21505,
          23634,
          27119,
          12582,
          13311,
          19836,
          43427,
          55172,
          58894,
          209459,
          164901,
          366847,
          770467,
          1075046,
          1075071,
          1075211,
          969126,
          2004504,
          1983032,
          9316,
          20500703,
          19739045,
          34861007,
          34861007
         ],
         25
        ],
        [
         34131,
         [
          14022,
          15040,
          2844,
          21175,
          21655,
          22830,
          23635,
          33685,
          37400,
          37401,
          37410,
          25508,
          13017,
          5180,
          5636,
          5914,
          17514,
          17955,
          18728,
          19325,
          55285,
          42896,
          42909,
          213639,
          75220,
          80441,
          226375,
          152735,
          252814,
          174645,
          218052,
          761886,
          748731,
          1064988,
          1564830,
          1214877,
          2983189,
          3213931,
          106235,
          3099755,
          2360117,
          4764461,
          3508610,
          4865795,
          5997878,
          8924479,
          7505245,
          7950369,
          9668,
          22778031,
          12163656,
          39472607,
          39472607,
          25416893,
          20611504,
          39042932,
          28222445,
          39042932,
          12207509,
          29926794,
          29926794,
          12246942,
          47663449,
          47663449,
          15706527
         ],
         65
        ],
        [
         35430,
         [
          14532,
          15651,
          16043,
          2553,
          2632,
          25657,
          13621,
          28809,
          30343,
          168851,
          442948,
          8718425,
          11523597,
          8592,
          13893101,
          16685964,
          46709309,
          47612806,
          47612806,
          46709309
         ],
         20
        ],
        [
         25652,
         [
          3708,
          4146,
          21244,
          21482,
          25645,
          25649,
          10597,
          30118,
          31816,
          52593,
          52710,
          56689,
          58893,
          188171,
          211583,
          80750,
          297696,
          444649,
          448570,
          539055,
          511846,
          512047,
          676659,
          1094925,
          1210483,
          1863527,
          1863625,
          1863662,
          2554181,
          2558617,
          2558635,
          3220876,
          1844863,
          3042295,
          3934892,
          3339180,
          3366673,
          3468737,
          30863462,
          4582138,
          30863462,
          2121307,
          662451,
          9245142,
          8500,
          26429265,
          26214389,
          21490998,
          42507334,
          22558349,
          22026933,
          35576813,
          35576813,
          18630329,
          31108048,
          31108048,
          18998750,
          29067169,
          29641327,
          29641327,
          2421503
         ],
         61
        ],
        [
         28413,
         [
          13959,
          14532,
          1256,
          1387,
          21632,
          21714,
          34361,
          37328,
          25458,
          25507,
          25791,
          25994,
          26994,
          10172,
          10310,
          13525,
          29031,
          29376,
          30594,
          31204,
          31259,
          6051,
          20155,
          20189,
          45127,
          45745,
          47277,
          47942,
          48698,
          49907,
          73199,
          197406,
          199993,
          200437,
          159890,
          159964,
          325363,
          204955,
          163277,
          75434,
          75459,
          75462,
          148646,
          148682,
          148683,
          148687,
          291940,
          299259,
          368659,
          361937,
          468634,
          175924,
          437805,
          632641,
          383225,
          393363,
          217131,
          219117,
          770608,
          538538,
          899787,
          845862,
          1046450,
          1105124,
          1060851,
          1138357,
          1154819,
          1404532,
          1642481,
          1003514,
          1013789,
          2894726,
          1763184,
          1738833,
          2233278,
          2315588,
          2068003,
          106286,
          803136,
          2513801,
          3125814,
          3828146,
          4501200,
          4543240,
          4083381,
          4070761,
          6972565,
          4590658,
          4142501,
          4151968,
          4152108,
          4657098,
          6599943,
          6645651,
          2103585,
          113295,
          7778280,
          8139097,
          18949154,
          7950310,
          8261436,
          10194547,
          11650720,
          30874803,
          30874803,
          29289093,
          26328882,
          20210994,
          25765218,
          27750905,
          21542007,
          13987341,
          13987407,
          16685964,
          14518651,
          25575836,
          33573528,
          33573528,
          35234940,
          35234940,
          9208916
         ],
         121
        ],
        [
         10577,
         [
          13972,
          14073,
          14378,
          14531,
          14552,
          14711,
          14790,
          14848,
          15251,
          15613,
          16078,
          16777,
          624,
          627,
          2009,
          3335,
          3343,
          4213,
          4298,
          21133,
          21212,
          21241,
          21242,
          21433,
          21704,
          21921,
          22194,
          22258,
          22576,
          22618,
          22661,
          32638,
          32927,
          33702,
          33924,
          34085,
          34290,
          34446,
          25071,
          25391,
          25412,
          25762,
          25784,
          25798,
          26094,
          26364,
          26689,
          26741,
          26779,
          28538,
          10223,
          10568,
          10715,
          10854,
          11247,
          11307,
          11555,
          11772,
          11884,
          12098,
          12118,
          12446,
          12594,
          12674,
          12831,
          13257,
          13456,
          13607,
          13696,
          29219,
          29639,
          30797,
          30985,
          31302,
          31577,
          31715,
          31769,
          31975,
          32048,
          4402,
          4620,
          5735,
          6721,
          7712,
          17616,
          18838,
          19050,
          19541,
          20501,
          43352,
          44060,
          44299,
          44545,
          44899,
          44900,
          44940,
          45383,
          45971,
          46573,
          46574,
          46576,
          48082,
          48130,
          49274,
          49553,
          49613,
          49644,
          50049,
          51083,
          51329,
          51503,
          53352,
          67408,
          68282,
          68836,
          70322,
          38283,
          39389,
          39576,
          40056,
          40275,
          42194,
          60815,
          63073,
          63570,
          66241,
          194904,
          196638,
          197743,
          198175,
          199215,
          199225,
          199254,
          199431,
          199481,
          201226,
          201228,
          201678,
          202287,
          203104,
          203966,
          185197,
          185228,
          187810,
          189640,
          190847,
          193975,
          194436,
          316755,
          317407,
          317435,
          319563,
          321090,
          205703,
          206208,
          206258,
          206554,
          206578,
          208798,
          210098,
          210681,
          211456,
          211865,
          212884,
          214169,
          162977,
          162984,
          164603,
          164609,
          164614,
          164615,
          164616,
          164617,
          164620,
          164622,
          165851,
          167990,
          168025,
          274286,
          275724,
          276997,
          75253,
          75358,
          77242,
          79370,
          80522,
          230197,
          230569,
          231732,
          231733,
          231789,
          232935,
          233525,
          234756,
          234930,
          235923,
          345414,
          349266,
          147341,
          288706,
          296977,
          305764,
          305773,
          307018,
          308242,
          310918,
          314855,
          83003,
          83440,
          84318,
          89191,
          252753,
          254295,
          254428,
          254641,
          255252,
          258746,
          258800,
          422576,
          430480,
          239259,
          241023,
          241833,
          241868,
          246174,
          408472,
          259686,
          262429,
          264865,
          264995,
          265943,
          268021,
          268037,
          370462,
          372509,
          373334,
          376118,
          376210,
          376574,
          378835,
          380231,
          357317,
          358305,
          329630,
          329641,
          170320,
          170718,
          172185,
          172540,
          173310,
          174491,
          434194,
          447350,
          636978,
          637543,
          380881,
          382715,
          385876,
          412742,
          216400,
          217476,
          218754,
          219640,
          219789,
          220636,
          222839,
          224532,
          224534,
          579232,
          178635,
          178753,
          178808,
          182113,
          184391,
          458290,
          512495,
          522051,
          523632,
          526423,
          526695,
          141541,
          144592,
          583806,
          587879,
          588577,
          590778,
          591778,
          598434,
          600458,
          554958,
          557672,
          560047,
          536932,
          536965,
          539160,
          496459,
          731094,
          667850,
          670175,
          670911,
          864535,
          866486,
          871024,
          871470,
          123451,
          124802,
          894847,
          484254,
          484742,
          493242,
          493820,
          844475,
          845588,
          1042690,
          1050736,
          1059617,
          1096809,
          717439,
          719613,
          1060464,
          1075954,
          950383,
          957718,
          958112,
          1369123,
          1374224,
          609655,
          612764,
          612773,
          612775,
          612778,
          613541,
          94180,
          94204,
          1265218,
          979147,
          981600,
          1179899,
          1139893,
          1144717,
          1560540,
          1160272,
          1169505,
          1021520,
          1480837,
          1379761,
          1389981,
          1586806,
          927591,
          934894,
          942514,
          1299102,
          1299587,
          1114148,
          1123279,
          1647525,
          620970,
          999848,
          1912002,
          1923983,
          1537535,
          1898891,
          1767274,
          1728243,
          1733315,
          2226356,
          777061,
          782658,
          782664,
          782670,
          782678,
          782714,
          885365,
          888387,
          2279200,
          1245091,
          2533715,
          2560816,
          2024148,
          1977274,
          2218869,
          2067886,
          2577965,
          2974615,
          3214950,
          2613518,
          2632114,
          1834314,
          1839433,
          1797747,
          99404,
          104960,
          801297,
          804705,
          2361072,
          2499588,
          2519632,
          3174020,
          5222634,
          3571923,
          3960911,
          4287893,
          4461881,
          4475409,
          5043192,
          4190476,
          4194758,
          4738042,
          3350364,
          3483621,
          2813330,
          4905056,
          5303783,
          3678766,
          2737413,
          5421455,
          5431414,
          4599312,
          5630920,
          6064013,
          7624539,
          5769539,
          7126160,
          6658764,
          2105289,
          2110506,
          6139311,
          6139325,
          132279,
          10929004,
          6801957,
          7818996,
          7821365,
          7870352,
          650806,
          663765,
          6866136,
          6097297,
          6122010,
          113530,
          5920148,
          7803851,
          4784983,
          7285114,
          8719606,
          8720252,
          7560416,
          9393546,
          5058739,
          8028045,
          8028091,
          9071038,
          18938758,
          18944081,
          18951655,
          18978563,
          9033013,
          7987533,
          8770128,
          10708028,
          2773076,
          2781679,
          12335154,
          9726421,
          11650205,
          11665196,
          16805846,
          22842616,
          12512903,
          8227,
          8271,
          9317,
          9472,
          9578,
          9663,
          22769053,
          15926258,
          31478000,
          915549,
          915761,
          26208475,
          26230922,
          29313320,
          21472049,
          18604080,
          17020599,
          17268417,
          17268435,
          31478000,
          13825507,
          39426186,
          21121549,
          21173183,
          22114276,
          17968764,
          23686385,
          23686446,
          18447711,
          44291773,
          20980516,
          44291773,
          13539244,
          13539614,
          23371382,
          23371965,
          23385442,
          23409759,
          39879893,
          36033899,
          36092552,
          22359215,
          20611107,
          20611504,
          24795561,
          39879893,
          37081148,
          24894563,
          21786641,
          13970365,
          19984080,
          18165258,
          28222445,
          36033899,
          27126603,
          36092552,
          42824085,
          37081148,
          38314140,
          13697445,
          42824085,
          21346982,
          21382649,
          31113163,
          19872924,
          31113163,
          16278694,
          40468223,
          26096318,
          40036297,
          40036297,
          15303116,
          23095199,
          40468223,
          33622731,
          33622731,
          33233182,
          33652818,
          19541428,
          33652818,
          45356172,
          45137597,
          33853117,
          45137597,
          33853117,
          300659,
          304903,
          33233182,
          45356172,
          45358446,
          32235458,
          32235458,
          15761387,
          46839214,
          53912,
          23711165,
          463469,
          7505908,
          2423598
         ],
         568
        ],
        [
         10622,
         [
          15613,
          3132,
          26795,
          26798,
          10371,
          11456,
          29837,
          30353,
          30961,
          7100,
          20405,
          38172,
          62027,
          188257,
          164097,
          165604,
          284282,
          79448,
          147156,
          153000,
          308272,
          310414,
          310796,
          88209,
          241542,
          261630,
          267696,
          374713,
          383211,
          179328,
          183441,
          142753,
          143230,
          586374,
          696825,
          1203232,
          1558744,
          1722127,
          624204,
          1005131,
          2881879,
          779165,
          1238628,
          1500559,
          3763502,
          4389605,
          3668944,
          5340604,
          5349369,
          7030195,
          5997515,
          113360,
          9430562,
          8820956,
          14167873,
          2782835,
          24065143,
          21243622,
          15177561,
          16795858,
          14737715,
          30338816,
          30338816,
          20695647,
          23442958,
          11100344,
          15707096
         ],
         67
        ]
       ],
       "datasetInfos": [],
       "dbfsResultPath": null,
       "isJsonSchema": true,
       "metadata": {},
       "overflow": false,
       "plotOptions": {
        "customPlotOptions": {},
        "displayType": "table",
        "pivotAggregation": null,
        "pivotColumns": null,
        "xColumns": null,
        "yColumns": null
       },
       "removedWidgets": [],
       "schema": [
        {
         "metadata": "{}",
         "name": "id",
         "type": "\"long\""
        },
        {
         "metadata": "{}",
         "name": "links",
         "type": "{\"type\":\"array\",\"elementType\":\"long\",\"containsNull\":true}"
        },
        {
         "metadata": "{}",
         "name": "n_succesors",
         "type": "\"long\""
        }
       ],
       "type": "table"
      }
     },
     "output_type": "display_data"
    }
   ],
   "source": [
    "display(ForwardDF_WC.head(10))"
   ]
  },
  {
   "cell_type": "markdown",
   "metadata": {
    "application/vnd.databricks.v1+cell": {
     "inputWidgets": {},
     "nuid": "fd1e66e5-4478-41b8-8f1a-bbcba1cd3b73",
     "showTitle": false,
     "title": ""
    }
   },
   "source": [
    "**Note:** Instead use user defined function udf_count_links, check the pyspark.sql.functions library and use *size* function, which is more efficient!"
   ]
  },
  {
   "cell_type": "code",
   "execution_count": 0,
   "metadata": {
    "application/vnd.databricks.v1+cell": {
     "inputWidgets": {},
     "nuid": "652aa571-90ad-413c-9c1c-be777efe93b7",
     "showTitle": false,
     "title": ""
    }
   },
   "outputs": [
    {
     "data": {
      "text/plain": [
       "\u001b[0;31m---------------------------------------------------------------------------\u001b[0m\n",
       "\u001b[0;31mNameError\u001b[0m                                 Traceback (most recent call last)\n",
       "\u001b[0;32m<command-1782843817263998>\u001b[0m in \u001b[0;36m<module>\u001b[0;34m\u001b[0m\n",
       "\u001b[0;32m----> 1\u001b[0;31m \u001b[0mdisplay\u001b[0m\u001b[0;34m(\u001b[0m\u001b[0mcount_linksDF\u001b[0m\u001b[0;34m)\u001b[0m\u001b[0;34m\u001b[0m\u001b[0;34m\u001b[0m\u001b[0m\n",
       "\u001b[0m\n",
       "\u001b[0;31mNameError\u001b[0m: name 'count_linksDF' is not defined"
      ]
     },
     "metadata": {
      "application/vnd.databricks.v1+output": {
       "arguments": {},
       "data": "\u001b[0;31m---------------------------------------------------------------------------\u001b[0m\n\u001b[0;31mNameError\u001b[0m                                 Traceback (most recent call last)\n\u001b[0;32m<command-1782843817263998>\u001b[0m in \u001b[0;36m<module>\u001b[0;34m\u001b[0m\n\u001b[0;32m----> 1\u001b[0;31m \u001b[0mdisplay\u001b[0m\u001b[0;34m(\u001b[0m\u001b[0mcount_linksDF\u001b[0m\u001b[0;34m)\u001b[0m\u001b[0;34m\u001b[0m\u001b[0;34m\u001b[0m\u001b[0m\n\u001b[0m\n\u001b[0;31mNameError\u001b[0m: name 'count_linksDF' is not defined",
       "errorSummary": "<span class='ansi-red-fg'>NameError</span>: name 'count_linksDF' is not defined",
       "errorTraceType": "ansi",
       "metadata": {},
       "type": "ipynbError"
      }
     },
     "output_type": "display_data"
    }
   ],
   "source": [
    "display(count_linksDF)"
   ]
  },
  {
   "cell_type": "code",
   "execution_count": 0,
   "metadata": {
    "application/vnd.databricks.v1+cell": {
     "inputWidgets": {},
     "nuid": "9a575325-9e0c-4fb7-af0e-02dacfe94833",
     "showTitle": false,
     "title": ""
    }
   },
   "outputs": [
    {
     "data": {
      "text/html": [
       "<style scoped>\n",
       "  .ansiout {\n",
       "    display: block;\n",
       "    unicode-bidi: embed;\n",
       "    white-space: pre-wrap;\n",
       "    word-wrap: break-word;\n",
       "    word-break: break-all;\n",
       "    font-family: \"Source Code Pro\", \"Menlo\", monospace;;\n",
       "    font-size: 13px;\n",
       "    color: #555;\n",
       "    margin-left: 4px;\n",
       "    line-height: 19px;\n",
       "  }\n",
       "</style>"
      ]
     },
     "metadata": {
      "application/vnd.databricks.v1+output": {
       "arguments": {},
       "data": "",
       "errorSummary": "Cancelled",
       "errorTraceType": "html",
       "metadata": {},
       "type": "ipynbError"
      }
     },
     "output_type": "display_data"
    }
   ],
   "source": [
    "ForwardPDF_WC = ForwardDF_WC.toPandas()"
   ]
  },
  {
   "cell_type": "code",
   "execution_count": 0,
   "metadata": {
    "application/vnd.databricks.v1+cell": {
     "inputWidgets": {},
     "nuid": "e29ef6b7-241b-4531-bb57-168c14427b1c",
     "showTitle": false,
     "title": ""
    }
   },
   "outputs": [
    {
     "data": {
      "text/html": [
       "<div>\n",
       "<style scoped>\n",
       "    .dataframe tbody tr th:only-of-type {\n",
       "        vertical-align: middle;\n",
       "    }\n",
       "\n",
       "    .dataframe tbody tr th {\n",
       "        vertical-align: top;\n",
       "    }\n",
       "\n",
       "    .dataframe thead th {\n",
       "        text-align: right;\n",
       "    }\n",
       "</style>\n",
       "<table border=\"1\" class=\"dataframe\">\n",
       "  <thead>\n",
       "    <tr style=\"text-align: right;\">\n",
       "      <th></th>\n",
       "      <th>id</th>\n",
       "      <th>links</th>\n",
       "      <th>n_succesors</th>\n",
       "    </tr>\n",
       "  </thead>\n",
       "  <tbody>\n",
       "  </tbody>\n",
       "</table>\n",
       "</div>"
      ]
     },
     "metadata": {
      "application/vnd.databricks.v1+output": {
       "addedWidgets": {},
       "arguments": {},
       "data": "<div>\n<style scoped>\n    .dataframe tbody tr th:only-of-type {\n        vertical-align: middle;\n    }\n\n    .dataframe tbody tr th {\n        vertical-align: top;\n    }\n\n    .dataframe thead th {\n        text-align: right;\n    }\n</style>\n<table border=\"1\" class=\"dataframe\">\n  <thead>\n    <tr style=\"text-align: right;\">\n      <th></th>\n      <th>id</th>\n      <th>links</th>\n      <th>n_succesors</th>\n    </tr>\n  </thead>\n  <tbody>\n  </tbody>\n</table>\n</div>",
       "datasetInfos": [],
       "metadata": {},
       "removedWidgets": [],
       "textData": null,
       "type": "htmlSandbox"
      }
     },
     "output_type": "display_data"
    }
   ],
   "source": [
    "ForwardPDF_WC[ForwardPDF_WC.id == 14800]"
   ]
  },
  {
   "cell_type": "markdown",
   "metadata": {
    "application/vnd.databricks.v1+cell": {
     "inputWidgets": {},
     "nuid": "a18b1740-9fa6-4f0f-9813-255da7e079fd",
     "showTitle": false,
     "title": ""
    }
   },
   "source": [
    "# 5) Construct *Reverse Links Table* from *Forward Links Table*\n",
    "Now, we will define the Reverse Links Table Dataframe (**ReverseDF**), transforming the **ForwardDF** to a Dataframe with [*id*,*list of ids*] or similar.\n",
    "\n",
    "*Suggestion*: Maybe the *list of ids* could contains not only the id of the target document, also the number of output links. This will improve the Page Rank calcule."
   ]
  },
  {
   "cell_type": "code",
   "execution_count": 0,
   "metadata": {
    "application/vnd.databricks.v1+cell": {
     "inputWidgets": {},
     "nuid": "a6b2b39f-c2b2-411d-a50c-707a5b32d83a",
     "showTitle": false,
     "title": ""
    }
   },
   "outputs": [],
   "source": [
    "def reverseId(id,links):\n",
    "  if (len(links)>0):\n",
    "    reverse = [ (tgt_id,id) for tgt_id in links ]\n",
    "  else:\n",
    "    reverse=[]\n",
    "  return reverse"
   ]
  },
  {
   "cell_type": "code",
   "execution_count": 0,
   "metadata": {
    "application/vnd.databricks.v1+cell": {
     "inputWidgets": {},
     "nuid": "5e4be51a-71c7-44e7-b108-935c3100ff44",
     "showTitle": false,
     "title": ""
    }
   },
   "outputs": [],
   "source": [
    "ForwardRDD = ForwardDF_WC.rdd"
   ]
  },
  {
   "cell_type": "code",
   "execution_count": 0,
   "metadata": {
    "application/vnd.databricks.v1+cell": {
     "inputWidgets": {},
     "nuid": "de81f35d-fd10-4e58-b56e-8f41d51b6a96",
     "showTitle": false,
     "title": ""
    }
   },
   "outputs": [],
   "source": []
  },
  {
   "cell_type": "code",
   "execution_count": 0,
   "metadata": {
    "application/vnd.databricks.v1+cell": {
     "inputWidgets": {},
     "nuid": "2d717b5d-f010-4b9f-91b7-155cf1af0136",
     "showTitle": false,
     "title": ""
    }
   },
   "outputs": [],
   "source": [
    "ReverseRDD=(ForwardRDD\n",
    " .flatMap(lambda r: reverseId(r.id,r.links))\n",
    " .groupByKey()\n",
    " .map(lambda r: (r[0],list(r[1])))\n",
    " )"
   ]
  },
  {
   "cell_type": "code",
   "execution_count": 0,
   "metadata": {
    "application/vnd.databricks.v1+cell": {
     "inputWidgets": {},
     "nuid": "ab97e427-82e4-43a4-bf98-7dc3e8d6e8ba",
     "showTitle": false,
     "title": ""
    }
   },
   "outputs": [],
   "source": [
    "reverseDF=spark.createDataFrame(ReverseRDD,[\"id\",\"links\"])"
   ]
  },
  {
   "cell_type": "code",
   "execution_count": 0,
   "metadata": {
    "application/vnd.databricks.v1+cell": {
     "inputWidgets": {},
     "nuid": "2aba1856-4824-441d-b4a7-f33435737bc2",
     "showTitle": false,
     "title": ""
    }
   },
   "outputs": [
    {
     "data": {
      "text/html": [
       "<style scoped>\n",
       "  .table-result-container {\n",
       "    max-height: 300px;\n",
       "    overflow: auto;\n",
       "  }\n",
       "  table, th, td {\n",
       "    border: 1px solid black;\n",
       "    border-collapse: collapse;\n",
       "  }\n",
       "  th, td {\n",
       "    padding: 5px;\n",
       "  }\n",
       "  th {\n",
       "    text-align: left;\n",
       "  }\n",
       "</style><div class='table-result-container'><table class='table-result'><thead style='background-color: white'><tr><th>id</th><th>links</th></tr></thead><tbody><tr><td>22936</td><td>List(14800, 755367, 695295, 99613, 2820179, 30842027, 8889165, 8335160, 7404524, 6913118, 30941589, 21206923, 21520483, 39423220, 21147386, 21157958, 21177114, 36280966, 14919799, 14926413, 14931741, 22132567, 20994598, 21002100, 21002445, 21016099, 21016803, 18473320, 21840417, 21840490, 21840798, 21840967, 20955131, 20961917, 20978621, 38935393, 28299316, 14314801, 21732964, 19830459, 19856012, 19857205, 36648500, 37863783, 36941482, 25512374, 46874490, 19899331, 19901610, 19917252, 21998533, 42047168, 45041066, 44537951, 21884721, 21884939, 21885285, 21885760, 21934691, 21667238, 21667950, 21668534, 21669593, 33572177, 30801143, 46306965, 33572543, 19684410)</td></tr><tr><td>31108048</td><td>List(25652, 25652)</td></tr><tr><td>175924</td><td>List(28413)</td></tr><tr><td>25575836</td><td>List(28413)</td></tr><tr><td>3350364</td><td>List(10577)</td></tr><tr><td>10929004</td><td>List(10577)</td></tr><tr><td>266204</td><td>List(11986)</td></tr><tr><td>925736</td><td>List(11986, 6416597)</td></tr><tr><td>26840</td><td>List(50479, 718098, 1720678, 3257073, 12790931, 35686750, 12265410, 35538163, 43622965, 33611377)</td></tr><tr><td>572302</td><td>List(50479)</td></tr></tbody></table></div>"
      ]
     },
     "metadata": {
      "application/vnd.databricks.v1+output": {
       "addedWidgets": {},
       "aggData": [],
       "aggError": "",
       "aggOverflow": false,
       "aggSchema": [],
       "aggSeriesLimitReached": false,
       "aggType": "",
       "arguments": {},
       "columnCustomDisplayInfos": {},
       "data": [
        [
         22936,
         [
          14800,
          755367,
          695295,
          99613,
          2820179,
          30842027,
          8889165,
          8335160,
          7404524,
          6913118,
          30941589,
          21206923,
          21520483,
          39423220,
          21147386,
          21157958,
          21177114,
          36280966,
          14919799,
          14926413,
          14931741,
          22132567,
          20994598,
          21002100,
          21002445,
          21016099,
          21016803,
          18473320,
          21840417,
          21840490,
          21840798,
          21840967,
          20955131,
          20961917,
          20978621,
          38935393,
          28299316,
          14314801,
          21732964,
          19830459,
          19856012,
          19857205,
          36648500,
          37863783,
          36941482,
          25512374,
          46874490,
          19899331,
          19901610,
          19917252,
          21998533,
          42047168,
          45041066,
          44537951,
          21884721,
          21884939,
          21885285,
          21885760,
          21934691,
          21667238,
          21667950,
          21668534,
          21669593,
          33572177,
          30801143,
          46306965,
          33572543,
          19684410
         ]
        ],
        [
         31108048,
         [
          25652,
          25652
         ]
        ],
        [
         175924,
         [
          28413
         ]
        ],
        [
         25575836,
         [
          28413
         ]
        ],
        [
         3350364,
         [
          10577
         ]
        ],
        [
         10929004,
         [
          10577
         ]
        ],
        [
         266204,
         [
          11986
         ]
        ],
        [
         925736,
         [
          11986,
          6416597
         ]
        ],
        [
         26840,
         [
          50479,
          718098,
          1720678,
          3257073,
          12790931,
          35686750,
          12265410,
          35538163,
          43622965,
          33611377
         ]
        ],
        [
         572302,
         [
          50479
         ]
        ]
       ],
       "datasetInfos": [],
       "dbfsResultPath": null,
       "isJsonSchema": true,
       "metadata": {},
       "overflow": false,
       "plotOptions": {
        "customPlotOptions": {},
        "displayType": "table",
        "pivotAggregation": null,
        "pivotColumns": [],
        "xColumns": [],
        "yColumns": []
       },
       "removedWidgets": [],
       "schema": [
        {
         "metadata": "{}",
         "name": "id",
         "type": "\"long\""
        },
        {
         "metadata": "{}",
         "name": "links",
         "type": "{\"type\":\"array\",\"elementType\":\"long\",\"containsNull\":true}"
        }
       ],
       "type": "table"
      }
     },
     "output_type": "display_data"
    }
   ],
   "source": [
    "display(reverseDF.head(10))"
   ]
  },
  {
   "cell_type": "code",
   "execution_count": 0,
   "metadata": {
    "application/vnd.databricks.v1+cell": {
     "inputWidgets": {},
     "nuid": "d1d0757f-c3cc-4736-9345-34c9bc9a5dfc",
     "showTitle": false,
     "title": ""
    }
   },
   "outputs": [],
   "source": [
    "reverseDF_WC= reverseDF.select(\"id\",\"links\",F.size(\"links\").alias(\"n_precessors\")).withColumnRenamed(\"links\",\"precessors\").withColumnRenamed(\"id\",\"id1\")"
   ]
  },
  {
   "cell_type": "code",
   "execution_count": 0,
   "metadata": {
    "application/vnd.databricks.v1+cell": {
     "inputWidgets": {},
     "nuid": "dc712a25-bdb6-4bc7-a0ba-6f97cedefd03",
     "showTitle": false,
     "title": ""
    }
   },
   "outputs": [
    {
     "data": {
      "text/html": [
       "<style scoped>\n",
       "  .table-result-container {\n",
       "    max-height: 300px;\n",
       "    overflow: auto;\n",
       "  }\n",
       "  table, th, td {\n",
       "    border: 1px solid black;\n",
       "    border-collapse: collapse;\n",
       "  }\n",
       "  th, td {\n",
       "    padding: 5px;\n",
       "  }\n",
       "  th {\n",
       "    text-align: left;\n",
       "  }\n",
       "</style><div class='table-result-container'><table class='table-result'><thead style='background-color: white'><tr><th>id1</th><th>precessors</th><th>n_precessors</th></tr></thead><tbody><tr><td>22936</td><td>List(14800, 755367, 695295, 99613, 2820179, 30842027, 8889165, 8335160, 7404524, 6913118, 30941589, 21206923, 21520483, 39423220, 21147386, 21157958, 21177114, 36280966, 14919799, 14926413, 14931741, 22132567, 20994598, 21002100, 21002445, 21016099, 21016803, 18473320, 21840417, 21840490, 21840798, 21840967, 20955131, 20961917, 20978621, 38935393, 28299316, 14314801, 21732964, 19830459, 19856012, 19857205, 36648500, 37863783, 36941482, 25512374, 46874490, 19899331, 19901610, 19917252, 21998533, 42047168, 45041066, 44537951, 21884721, 21884939, 21885285, 21885760, 21934691, 21667238, 21667950, 21668534, 21669593, 33572177, 30801143, 46306965, 33572543, 19684410)</td><td>68</td></tr><tr><td>31108048</td><td>List(25652, 25652)</td><td>2</td></tr><tr><td>175924</td><td>List(28413)</td><td>1</td></tr><tr><td>25575836</td><td>List(28413)</td><td>1</td></tr><tr><td>3350364</td><td>List(10577)</td><td>1</td></tr><tr><td>10929004</td><td>List(10577)</td><td>1</td></tr><tr><td>266204</td><td>List(11986)</td><td>1</td></tr><tr><td>925736</td><td>List(11986, 6416597)</td><td>2</td></tr><tr><td>26840</td><td>List(50479, 718098, 1720678, 3257073, 12790931, 35686750, 12265410, 35538163, 43622965, 33611377)</td><td>10</td></tr><tr><td>572302</td><td>List(50479)</td><td>1</td></tr></tbody></table></div>"
      ]
     },
     "metadata": {
      "application/vnd.databricks.v1+output": {
       "addedWidgets": {},
       "aggData": [],
       "aggError": "",
       "aggOverflow": false,
       "aggSchema": [],
       "aggSeriesLimitReached": false,
       "aggType": "",
       "arguments": {},
       "columnCustomDisplayInfos": {},
       "data": [
        [
         22936,
         [
          14800,
          755367,
          695295,
          99613,
          2820179,
          30842027,
          8889165,
          8335160,
          7404524,
          6913118,
          30941589,
          21206923,
          21520483,
          39423220,
          21147386,
          21157958,
          21177114,
          36280966,
          14919799,
          14926413,
          14931741,
          22132567,
          20994598,
          21002100,
          21002445,
          21016099,
          21016803,
          18473320,
          21840417,
          21840490,
          21840798,
          21840967,
          20955131,
          20961917,
          20978621,
          38935393,
          28299316,
          14314801,
          21732964,
          19830459,
          19856012,
          19857205,
          36648500,
          37863783,
          36941482,
          25512374,
          46874490,
          19899331,
          19901610,
          19917252,
          21998533,
          42047168,
          45041066,
          44537951,
          21884721,
          21884939,
          21885285,
          21885760,
          21934691,
          21667238,
          21667950,
          21668534,
          21669593,
          33572177,
          30801143,
          46306965,
          33572543,
          19684410
         ],
         68
        ],
        [
         31108048,
         [
          25652,
          25652
         ],
         2
        ],
        [
         175924,
         [
          28413
         ],
         1
        ],
        [
         25575836,
         [
          28413
         ],
         1
        ],
        [
         3350364,
         [
          10577
         ],
         1
        ],
        [
         10929004,
         [
          10577
         ],
         1
        ],
        [
         266204,
         [
          11986
         ],
         1
        ],
        [
         925736,
         [
          11986,
          6416597
         ],
         2
        ],
        [
         26840,
         [
          50479,
          718098,
          1720678,
          3257073,
          12790931,
          35686750,
          12265410,
          35538163,
          43622965,
          33611377
         ],
         10
        ],
        [
         572302,
         [
          50479
         ],
         1
        ]
       ],
       "datasetInfos": [],
       "dbfsResultPath": null,
       "isJsonSchema": true,
       "metadata": {},
       "overflow": false,
       "plotOptions": {
        "customPlotOptions": {},
        "displayType": "table",
        "pivotAggregation": null,
        "pivotColumns": null,
        "xColumns": null,
        "yColumns": null
       },
       "removedWidgets": [],
       "schema": [
        {
         "metadata": "{}",
         "name": "id1",
         "type": "\"long\""
        },
        {
         "metadata": "{}",
         "name": "precessors",
         "type": "{\"type\":\"array\",\"elementType\":\"long\",\"containsNull\":true}"
        },
        {
         "metadata": "{}",
         "name": "n_precessors",
         "type": "\"long\""
        }
       ],
       "type": "table"
      }
     },
     "output_type": "display_data"
    }
   ],
   "source": [
    "display(reverseDF_WC.head(10))"
   ]
  },
  {
   "cell_type": "code",
   "execution_count": 0,
   "metadata": {
    "application/vnd.databricks.v1+cell": {
     "inputWidgets": {},
     "nuid": "b624a91d-8ce6-4da5-b17e-737792768b17",
     "showTitle": false,
     "title": ""
    }
   },
   "outputs": [],
   "source": [
    "joineddf = reverseDF_WC.join(ForwardDF_WC, ForwardDF_WC.id == reverseDF_WC.id1, how='left')\n",
    "ReverseDF = joineddf.select(\"id1\", \"precessors\", \"n_precessors\", \"links\", \"n_succesors\").withColumnRenamed(\"links\",\"succesors\").withColumnRenamed(\"id1\",\"id\")\n"
   ]
  },
  {
   "cell_type": "code",
   "execution_count": 0,
   "metadata": {
    "application/vnd.databricks.v1+cell": {
     "inputWidgets": {},
     "nuid": "357d2080-8b96-4bad-ab56-cc3fadd4430a",
     "showTitle": false,
     "title": ""
    }
   },
   "outputs": [
    {
     "data": {
      "text/plain": [
       "+--------+--------------------+------------+---------+-----------+\n",
       "|      id|          precessors|n_precessors|succesors|n_succesors|\n",
       "+--------+--------------------+------------+---------+-----------+\n",
       "|   22936|[14800, 755367, 6...|          68|     null|       null|\n",
       "|31108048|      [25652, 25652]|           2|     null|       null|\n",
       "|  175924|             [28413]|           1|     null|       null|\n",
       "|25575836|             [28413]|           1|     null|       null|\n",
       "| 3350364|             [10577]|           1|     null|       null|\n",
       "|10929004|             [10577]|           1|     null|       null|\n",
       "|  266204|             [11986]|           1|     null|       null|\n",
       "|  925736|    [11986, 6416597]|           2|     null|       null|\n",
       "|   26840|[50479, 718098, 1...|          10|     null|       null|\n",
       "|  572302|             [50479]|           1|     null|       null|\n",
       "|  291336|[55578, 1669998, ...|           3|     null|       null|\n",
       "|   22326|[68554, 2751139, ...|           6|     null|       null|\n",
       "|  204228|[37729, 256956, 4...|           3|     null|       null|\n",
       "|   99430|[37729, 7166425, ...|           5|     null|       null|\n",
       "|    6466|[194781, 256956, ...|          15|     null|       null|\n",
       "|   20862|            [166182]|           1|     null|       null|\n",
       "|  472750|            [273789]|           1|     null|       null|\n",
       "|17062920|            [273854]|           1|     null|       null|\n",
       "|  550464|             [75261]|           1|     null|       null|\n",
       "|    8418|[75261, 2316601, ...|           5|     null|       null|\n",
       "+--------+--------------------+------------+---------+-----------+\n",
       "only showing top 20 rows\n",
       "\n"
      ]
     },
     "metadata": {
      "application/vnd.databricks.v1+output": {
       "addedWidgets": {},
       "arguments": {},
       "data": "+--------+--------------------+------------+---------+-----------+\n|      id|          precessors|n_precessors|succesors|n_succesors|\n+--------+--------------------+------------+---------+-----------+\n|   22936|[14800, 755367, 6...|          68|     null|       null|\n|31108048|      [25652, 25652]|           2|     null|       null|\n|  175924|             [28413]|           1|     null|       null|\n|25575836|             [28413]|           1|     null|       null|\n| 3350364|             [10577]|           1|     null|       null|\n|10929004|             [10577]|           1|     null|       null|\n|  266204|             [11986]|           1|     null|       null|\n|  925736|    [11986, 6416597]|           2|     null|       null|\n|   26840|[50479, 718098, 1...|          10|     null|       null|\n|  572302|             [50479]|           1|     null|       null|\n|  291336|[55578, 1669998, ...|           3|     null|       null|\n|   22326|[68554, 2751139, ...|           6|     null|       null|\n|  204228|[37729, 256956, 4...|           3|     null|       null|\n|   99430|[37729, 7166425, ...|           5|     null|       null|\n|    6466|[194781, 256956, ...|          15|     null|       null|\n|   20862|            [166182]|           1|     null|       null|\n|  472750|            [273789]|           1|     null|       null|\n|17062920|            [273854]|           1|     null|       null|\n|  550464|             [75261]|           1|     null|       null|\n|    8418|[75261, 2316601, ...|           5|     null|       null|\n+--------+--------------------+------------+---------+-----------+\nonly showing top 20 rows\n\n",
       "datasetInfos": [],
       "metadata": {},
       "removedWidgets": [],
       "type": "ansi"
      }
     },
     "output_type": "display_data"
    }
   ],
   "source": [
    "ReverseDF.show()"
   ]
  },
  {
   "cell_type": "code",
   "execution_count": 0,
   "metadata": {
    "application/vnd.databricks.v1+cell": {
     "inputWidgets": {},
     "nuid": "89d5993f-06a4-4ed3-864c-7790cd3da486",
     "showTitle": false,
     "title": ""
    }
   },
   "outputs": [
    {
     "data": {
      "text/plain": [
       "+--------+--------------------+------------+--------------------+-----------+\n",
       "|      id|          precessors|n_precessors|           succesors|n_succesors|\n",
       "+--------+--------------------+------------+--------------------+-----------+\n",
       "|   67710|          [14932355]|           1|[27813, 63528, 28...|         15|\n",
       "| 2313853|          [13149672]|           1|[14560, 14680, 21...|        198|\n",
       "| 1340660|           [1340660]|           1|[1340660, 8215938...|          6|\n",
       "|45503929|[45415907, 45415907]|           2|[1354, 170691, 10...|         11|\n",
       "| 1339199| [5322775, 39993457]|           2|[10568, 66326, 53...|         59|\n",
       "|   10622|  [113360, 33017686]|           2|[15613, 3132, 267...|         67|\n",
       "|46971960|[46971960, 46971960]|           2|[155434, 153190, ...|         10|\n",
       "|  367353|           [8517021]|           1|[2844, 22153, 339...|         79|\n",
       "| 1163159|          [42343306]|           1|[14587, 3226, 338...|         54|\n",
       "|17422222|            [103271]|           1|[3079, 322335, 33...|         17|\n",
       "|  915502|   [1720678, 915502]|           2|[717, 21980, 3270...|         59|\n",
       "|28311213|          [27791713]|           1|[2882789, 132696,...|         10|\n",
       "| 3483849|           [2702837]|           1|[1930, 3410, 1813...|         16|\n",
       "|  695295|           [2357818]|           1|[14532, 4345, 229...|         33|\n",
       "| 1019328|           [3686661]|           1|[10577, 5165, 522...|         29|\n",
       "|   95544|          [39269833]|           1|[863, 3921, 22388...|         48|\n",
       "|  273789|             [68957]|           1|[14478, 16118, 16...|         74|\n",
       "| 3274867|          [15602162]|           1|[15043, 16421, 19...|         81|\n",
       "|  113360|[10622, 4428471, ...|           3|[15992, 32706, 32...|         52|\n",
       "|  902700|  [622489, 38117074]|           2|[21648, 22199, 28...|        106|\n",
       "+--------+--------------------+------------+--------------------+-----------+\n",
       "only showing top 20 rows\n",
       "\n"
      ]
     },
     "metadata": {
      "application/vnd.databricks.v1+output": {
       "addedWidgets": {},
       "arguments": {},
       "data": "+--------+--------------------+------------+--------------------+-----------+\n|      id|          precessors|n_precessors|           succesors|n_succesors|\n+--------+--------------------+------------+--------------------+-----------+\n|   67710|          [14932355]|           1|[27813, 63528, 28...|         15|\n| 2313853|          [13149672]|           1|[14560, 14680, 21...|        198|\n| 1340660|           [1340660]|           1|[1340660, 8215938...|          6|\n|45503929|[45415907, 45415907]|           2|[1354, 170691, 10...|         11|\n| 1339199| [5322775, 39993457]|           2|[10568, 66326, 53...|         59|\n|   10622|  [113360, 33017686]|           2|[15613, 3132, 267...|         67|\n|46971960|[46971960, 46971960]|           2|[155434, 153190, ...|         10|\n|  367353|           [8517021]|           1|[2844, 22153, 339...|         79|\n| 1163159|          [42343306]|           1|[14587, 3226, 338...|         54|\n|17422222|            [103271]|           1|[3079, 322335, 33...|         17|\n|  915502|   [1720678, 915502]|           2|[717, 21980, 3270...|         59|\n|28311213|          [27791713]|           1|[2882789, 132696,...|         10|\n| 3483849|           [2702837]|           1|[1930, 3410, 1813...|         16|\n|  695295|           [2357818]|           1|[14532, 4345, 229...|         33|\n| 1019328|           [3686661]|           1|[10577, 5165, 522...|         29|\n|   95544|          [39269833]|           1|[863, 3921, 22388...|         48|\n|  273789|             [68957]|           1|[14478, 16118, 16...|         74|\n| 3274867|          [15602162]|           1|[15043, 16421, 19...|         81|\n|  113360|[10622, 4428471, ...|           3|[15992, 32706, 32...|         52|\n|  902700|  [622489, 38117074]|           2|[21648, 22199, 28...|        106|\n+--------+--------------------+------------+--------------------+-----------+\nonly showing top 20 rows\n\n",
       "datasetInfos": [],
       "metadata": {},
       "removedWidgets": [],
       "type": "ansi"
      }
     },
     "output_type": "display_data"
    }
   ],
   "source": [
    "ReverseDF.filter(\"succesors is NOT NULL\").show()"
   ]
  },
  {
   "cell_type": "code",
   "execution_count": 0,
   "metadata": {
    "application/vnd.databricks.v1+cell": {
     "inputWidgets": {},
     "nuid": "c5778f67-d6cc-4db1-8213-dadc4a5d268b",
     "showTitle": false,
     "title": ""
    }
   },
   "outputs": [],
   "source": [
    "ReversePDF_WC =  reverseDF_WC.toPandas()"
   ]
  },
  {
   "cell_type": "markdown",
   "metadata": {
    "application/vnd.databricks.v1+cell": {
     "inputWidgets": {},
     "nuid": "b6c19d4f-7ea5-43d5-a18c-d670ddc31613",
     "showTitle": false,
     "title": ""
    }
   },
   "source": [
    "# 6) Initialize *Page Rank Table*\n",
    "We define a Pandas DataFrame (**PageRankPDF**) with the ids of documents in the **ReverseDF**, with the initial value. \n",
    "\n",
    "This could be:\n",
    "\n",
    "\\\\(\\frac{0.85}{N}\\\\)\n",
    "\n",
    "where *N* is the number of documents in the **ReverseDF**."
   ]
  },
  {
   "cell_type": "code",
   "execution_count": 0,
   "metadata": {
    "application/vnd.databricks.v1+cell": {
     "inputWidgets": {},
     "nuid": "77a990f4-854b-4a56-8461-073537462577",
     "showTitle": false,
     "title": ""
    }
   },
   "outputs": [
    {
     "data": {
      "text/plain": [
       "\u001b[0;36m  File \u001b[0;32m\"<command-4378291230143460>\"\u001b[0;36m, line \u001b[0;32m2\u001b[0m\n",
       "\u001b[0;31m    return r = 0.2\u001b[0m\n",
       "\u001b[0m             ^\u001b[0m\n",
       "\u001b[0;31mSyntaxError\u001b[0m\u001b[0;31m:\u001b[0m invalid syntax\n"
      ]
     },
     "metadata": {
      "application/vnd.databricks.v1+output": {
       "arguments": {},
       "data": "\u001b[0;36m  File \u001b[0;32m\"<command-4378291230143460>\"\u001b[0;36m, line \u001b[0;32m2\u001b[0m\n\u001b[0;31m    return r = 0.2\u001b[0m\n\u001b[0m             ^\u001b[0m\n\u001b[0;31mSyntaxError\u001b[0m\u001b[0;31m:\u001b[0m invalid syntax\n",
       "errorSummary": "<span class='ansi-red-fg'>SyntaxError</span>: invalid syntax (<command-4378291230143460>, line 2)",
       "errorTraceType": "ansi",
       "metadata": {},
       "type": "ipynbError"
      }
     },
     "output_type": "display_data"
    }
   ],
   "source": []
  },
  {
   "cell_type": "code",
   "execution_count": 0,
   "metadata": {
    "application/vnd.databricks.v1+cell": {
     "inputWidgets": {},
     "nuid": "11a558dc-b43f-4998-a92b-1eb9921c5482",
     "showTitle": false,
     "title": ""
    }
   },
   "outputs": [],
   "source": [
    "#This is metacode\n",
    "# Initialize the fisrt iteration for the ranks \n",
    "ReverseDF= ReverseDF.select(\"id\", \"precessors\", \"n_precessors\",\"n_succesors\").withColumn(\"rank\", F.lit(0.2)).na.fill(0)\n"
   ]
  },
  {
   "cell_type": "code",
   "execution_count": 0,
   "metadata": {
    "application/vnd.databricks.v1+cell": {
     "inputWidgets": {},
     "nuid": "77351771-a5e8-4849-972c-fee01eef0854",
     "showTitle": false,
     "title": ""
    }
   },
   "outputs": [
    {
     "data": {
      "text/plain": [
       "+--------+--------------------+------------+-----------+----+\n",
       "|      id|          precessors|n_precessors|n_succesors|rank|\n",
       "+--------+--------------------+------------+-----------+----+\n",
       "|   22936|[14800, 755367, 6...|          68|          0| 0.2|\n",
       "|31108048|      [25652, 25652]|           2|          0| 0.2|\n",
       "|  175924|             [28413]|           1|          0| 0.2|\n",
       "|25575836|             [28413]|           1|          0| 0.2|\n",
       "| 3350364|             [10577]|           1|          0| 0.2|\n",
       "|10929004|             [10577]|           1|          0| 0.2|\n",
       "|  266204|             [11986]|           1|          0| 0.2|\n",
       "|  925736|    [11986, 6416597]|           2|          0| 0.2|\n",
       "|   26840|[50479, 718098, 1...|          10|          0| 0.2|\n",
       "|  572302|             [50479]|           1|          0| 0.2|\n",
       "|  291336|[55578, 1669998, ...|           3|          0| 0.2|\n",
       "|   22326|[68554, 2751139, ...|           6|          0| 0.2|\n",
       "|  204228|[37729, 256956, 4...|           3|          0| 0.2|\n",
       "|   99430|[37729, 7166425, ...|           5|          0| 0.2|\n",
       "|    6466|[194781, 256956, ...|          15|          0| 0.2|\n",
       "|   20862|            [166182]|           1|          0| 0.2|\n",
       "|  472750|            [273789]|           1|          0| 0.2|\n",
       "|17062920|            [273854]|           1|          0| 0.2|\n",
       "|  550464|             [75261]|           1|          0| 0.2|\n",
       "|    8418|[75261, 2316601, ...|           5|          0| 0.2|\n",
       "+--------+--------------------+------------+-----------+----+\n",
       "only showing top 20 rows\n",
       "\n"
      ]
     },
     "metadata": {
      "application/vnd.databricks.v1+output": {
       "addedWidgets": {},
       "arguments": {},
       "data": "+--------+--------------------+------------+-----------+----+\n|      id|          precessors|n_precessors|n_succesors|rank|\n+--------+--------------------+------------+-----------+----+\n|   22936|[14800, 755367, 6...|          68|          0| 0.2|\n|31108048|      [25652, 25652]|           2|          0| 0.2|\n|  175924|             [28413]|           1|          0| 0.2|\n|25575836|             [28413]|           1|          0| 0.2|\n| 3350364|             [10577]|           1|          0| 0.2|\n|10929004|             [10577]|           1|          0| 0.2|\n|  266204|             [11986]|           1|          0| 0.2|\n|  925736|    [11986, 6416597]|           2|          0| 0.2|\n|   26840|[50479, 718098, 1...|          10|          0| 0.2|\n|  572302|             [50479]|           1|          0| 0.2|\n|  291336|[55578, 1669998, ...|           3|          0| 0.2|\n|   22326|[68554, 2751139, ...|           6|          0| 0.2|\n|  204228|[37729, 256956, 4...|           3|          0| 0.2|\n|   99430|[37729, 7166425, ...|           5|          0| 0.2|\n|    6466|[194781, 256956, ...|          15|          0| 0.2|\n|   20862|            [166182]|           1|          0| 0.2|\n|  472750|            [273789]|           1|          0| 0.2|\n|17062920|            [273854]|           1|          0| 0.2|\n|  550464|             [75261]|           1|          0| 0.2|\n|    8418|[75261, 2316601, ...|           5|          0| 0.2|\n+--------+--------------------+------------+-----------+----+\nonly showing top 20 rows\n\n",
       "datasetInfos": [],
       "metadata": {},
       "removedWidgets": [],
       "type": "ansi"
      }
     },
     "output_type": "display_data"
    }
   ],
   "source": [
    "ReverseDF.show()"
   ]
  },
  {
   "cell_type": "code",
   "execution_count": 0,
   "metadata": {
    "application/vnd.databricks.v1+cell": {
     "inputWidgets": {},
     "nuid": "5540af1d-683f-4a3e-abea-5abdbe61d5bc",
     "showTitle": false,
     "title": ""
    }
   },
   "outputs": [],
   "source": [
    "ReversePDF= ReverseDF.toPandas()"
   ]
  },
  {
   "cell_type": "code",
   "execution_count": 0,
   "metadata": {
    "application/vnd.databricks.v1+cell": {
     "inputWidgets": {},
     "nuid": "920348bd-4a67-4222-b1e8-fd434eb4da46",
     "showTitle": false,
     "title": ""
    }
   },
   "outputs": [
    {
     "data": {
      "text/html": [
       "<style scoped>\n",
       "  .table-result-container {\n",
       "    max-height: 300px;\n",
       "    overflow: auto;\n",
       "  }\n",
       "  table, th, td {\n",
       "    border: 1px solid black;\n",
       "    border-collapse: collapse;\n",
       "  }\n",
       "  th, td {\n",
       "    padding: 5px;\n",
       "  }\n",
       "  th {\n",
       "    text-align: left;\n",
       "  }\n",
       "</style><div class='table-result-container'><table class='table-result'><thead style='background-color: white'><tr><th>id</th><th>precessors</th><th>n_precessors</th><th>n_succesors</th><th>rank</th></tr></thead><tbody><tr><td>22936</td><td>List(14800, 755367, 695295, 99613, 2820179, 30842027, 8889165, 8335160, 7404524, 6913118, 30941589, 21206923, 21520483, 39423220, 21147386, 21157958, 21177114, 36280966, 14919799, 14926413, 14931741, 22132567, 20994598, 21002100, 21002445, 21016099, 21016803, 18473320, 21840417, 21840490, 21840798, 21840967, 20955131, 20961917, 20978621, 38935393, 28299316, 14314801, 21732964, 19830459, 19856012, 19857205, 36648500, 37863783, 36941482, 25512374, 46874490, 19899331, 19901610, 19917252, 21998533, 42047168, 45041066, 44537951, 21884721, 21884939, 21885285, 21885760, 21934691, 21667238, 21667950, 21668534, 21669593, 33572177, 30801143, 46306965, 33572543, 19684410)</td><td>68</td><td>0</td><td>0.2</td></tr><tr><td>31108048</td><td>List(25652, 25652)</td><td>2</td><td>0</td><td>0.2</td></tr><tr><td>175924</td><td>List(28413)</td><td>1</td><td>0</td><td>0.2</td></tr><tr><td>25575836</td><td>List(28413)</td><td>1</td><td>0</td><td>0.2</td></tr><tr><td>3350364</td><td>List(10577)</td><td>1</td><td>0</td><td>0.2</td></tr><tr><td>10929004</td><td>List(10577)</td><td>1</td><td>0</td><td>0.2</td></tr><tr><td>266204</td><td>List(11986)</td><td>1</td><td>0</td><td>0.2</td></tr><tr><td>925736</td><td>List(11986, 6416597)</td><td>2</td><td>0</td><td>0.2</td></tr><tr><td>26840</td><td>List(50479, 718098, 1720678, 3257073, 12790931, 35686750, 12265410, 35538163, 43622965, 33611377)</td><td>10</td><td>0</td><td>0.2</td></tr><tr><td>572302</td><td>List(50479)</td><td>1</td><td>0</td><td>0.2</td></tr><tr><td>291336</td><td>List(55578, 1669998, 1657212)</td><td>3</td><td>0</td><td>0.2</td></tr><tr><td>22326</td><td>List(68554, 2751139, 15189444, 20738531, 20990302, 34963276)</td><td>6</td><td>0</td><td>0.2</td></tr><tr><td>204228</td><td>List(37729, 256956, 46663447)</td><td>3</td><td>0</td><td>0.2</td></tr><tr><td>99430</td><td>List(37729, 7166425, 28087272, 31353908, 27208465)</td><td>5</td><td>0</td><td>0.2</td></tr><tr><td>6466</td><td>List(194781, 256956, 1096699, 622489, 2671125, 4603312, 7326653, 10649674, 10771081, 12898030, 40916177, 20949091, 22324740, 42046261, 29384146)</td><td>15</td><td>0</td><td>0.2</td></tr><tr><td>20862</td><td>List(166182)</td><td>1</td><td>0</td><td>0.2</td></tr><tr><td>472750</td><td>List(273789)</td><td>1</td><td>0</td><td>0.2</td></tr><tr><td>17062920</td><td>List(273854)</td><td>1</td><td>0</td><td>0.2</td></tr><tr><td>550464</td><td>List(75261)</td><td>1</td><td>0</td><td>0.2</td></tr><tr><td>8418</td><td>List(75261, 2316601, 5441158, 23879687, 15052813)</td><td>5</td><td>0</td><td>0.2</td></tr><tr><td>82838</td><td>List(78922)</td><td>1</td><td>0</td><td>0.2</td></tr><tr><td>6466488</td><td>List(78922)</td><td>1</td><td>0</td><td>0.2</td></tr><tr><td>81740</td><td>List(233141)</td><td>1</td><td>0</td><td>0.2</td></tr><tr><td>211914</td><td>List(150983)</td><td>1</td><td>0</td><td>0.2</td></tr><tr><td>48068</td><td>List(151143, 218677, 2263226, 2604881, 41607453, 32567339)</td><td>6</td><td>0</td><td>0.2</td></tr><tr><td>148352</td><td>List(151143)</td><td>1</td><td>0</td><td>0.2</td></tr><tr><td>4582808</td><td>List(151143)</td><td>1</td><td>0</td><td>0.2</td></tr><tr><td>9856624</td><td>List(151143)</td><td>1</td><td>0</td><td>0.2</td></tr><tr><td>1392630</td><td>List(311440)</td><td>1</td><td>0</td><td>0.2</td></tr><tr><td>19157294</td><td>List(311440)</td><td>1</td><td>0</td><td>0.2</td></tr><tr><td>6710</td><td>List(256956)</td><td>1</td><td>0</td><td>0.2</td></tr><tr><td>56120</td><td>List(256956, 11274309)</td><td>2</td><td>0</td><td>0.2</td></tr><tr><td>22190092</td><td>List(367353)</td><td>1</td><td>0</td><td>0.2</td></tr><tr><td>1127402</td><td>List(474004)</td><td>1</td><td>0</td><td>0.2</td></tr><tr><td>3052928</td><td>List(329190)</td><td>1</td><td>0</td><td>0.2</td></tr><tr><td>155550</td><td>List(445892)</td><td>1</td><td>0</td><td>0.2</td></tr><tr><td>131516</td><td>List(417943, 622489)</td><td>2</td><td>0</td><td>0.2</td></tr><tr><td>3753574</td><td>List(218677)</td><td>1</td><td>0</td><td>0.2</td></tr><tr><td>12622120</td><td>List(218677)</td><td>1</td><td>0</td><td>0.2</td></tr><tr><td>47489232</td><td>List(218677, 218677, 3215123, 3215123, 10938734, 10938734, 6829859, 6829859, 9069435, 9069435, 25707077, 25707077, 44271757, 44271757, 26869023, 26869023, 37752338, 37752338, 43452910, 43452910, 33455832, 33455832)</td><td>22</td><td>0</td><td>0.2</td></tr><tr><td>265716</td><td>List(225632, 3478196, 41272951)</td><td>3</td><td>0</td><td>0.2</td></tr><tr><td>730658</td><td>List(573341)</td><td>1</td><td>0</td><td>0.2</td></tr><tr><td>3146380</td><td>List(578493)</td><td>1</td><td>0</td><td>0.2</td></tr><tr><td>42736966</td><td>List(528623, 1299957)</td><td>2</td><td>0</td><td>0.2</td></tr><tr><td>27116818</td><td>List(595343)</td><td>1</td><td>0</td><td>0.2</td></tr><tr><td>229970</td><td>List(563095)</td><td>1</td><td>0</td><td>0.2</td></tr><tr><td>562664</td><td>List(563095)</td><td>1</td><td>0</td><td>0.2</td></tr><tr><td>1671644</td><td>List(753771)</td><td>1</td><td>0</td><td>0.2</td></tr><tr><td>18529360</td><td>List(541724)</td><td>1</td><td>0</td><td>0.2</td></tr><tr><td>179706</td><td>List(677689)</td><td>1</td><td>0</td><td>0.2</td></tr><tr><td>7930</td><td>List(902700, 622489, 2400112, 2828195, 9427270, 17881122, 36081970)</td><td>7</td><td>0</td><td>0.2</td></tr><tr><td>29036</td><td>List(834197)</td><td>1</td><td>0</td><td>0.2</td></tr><tr><td>6063522</td><td>List(846115)</td><td>1</td><td>0</td><td>0.2</td></tr><tr><td>24564090</td><td>List(846115)</td><td>1</td><td>0</td><td>0.2</td></tr><tr><td>21752844</td><td>List(846115)</td><td>1</td><td>0</td><td>0.2</td></tr><tr><td>21784198</td><td>List(846115)</td><td>1</td><td>0</td><td>0.2</td></tr><tr><td>7740046</td><td>List(850823)</td><td>1</td><td>0</td><td>0.2</td></tr><tr><td>140422</td><td>List(695295)</td><td>1</td><td>0</td><td>0.2</td></tr><tr><td>2115480</td><td>List(695295)</td><td>1</td><td>0</td><td>0.2</td></tr><tr><td>2477454</td><td>List(1096699)</td><td>1</td><td>0</td><td>0.2</td></tr><tr><td>1787300</td><td>List(718098)</td><td>1</td><td>0</td><td>0.2</td></tr><tr><td>1787788</td><td>List(718098)</td><td>1</td><td>0</td><td>0.2</td></tr><tr><td>1788032</td><td>List(718098)</td><td>1</td><td>0</td><td>0.2</td></tr><tr><td>256566</td><td>List(962768)</td><td>1</td><td>0</td><td>0.2</td></tr><tr><td>129564</td><td>List(93056)</td><td>1</td><td>0</td><td>0.2</td></tr><tr><td>387716</td><td>List(983143)</td><td>1</td><td>0</td><td>0.2</td></tr><tr><td>259128</td><td>List(992567)</td><td>1</td><td>0</td><td>0.2</td></tr><tr><td>1050664</td><td>List(992567)</td><td>1</td><td>0</td><td>0.2</td></tr><tr><td>4878170</td><td>List(992567)</td><td>1</td><td>0</td><td>0.2</td></tr><tr><td>9516</td><td>List(1133365, 38205833, 30826366)</td><td>3</td><td>0</td><td>0.2</td></tr><tr><td>1280878</td><td>List(1142132)</td><td>1</td><td>0</td><td>0.2</td></tr><tr><td>2502830</td><td>List(1149707)</td><td>1</td><td>0</td><td>0.2</td></tr><tr><td>3697576</td><td>List(1149707)</td><td>1</td><td>0</td><td>0.2</td></tr><tr><td>8191690</td><td>List(1149707)</td><td>1</td><td>0</td><td>0.2</td></tr><tr><td>2246142</td><td>List(1219824)</td><td>1</td><td>0</td><td>0.2</td></tr><tr><td>23211842</td><td>List(1219824)</td><td>1</td><td>0</td><td>0.2</td></tr><tr><td>1123010</td><td>List(1226330)</td><td>1</td><td>0</td><td>0.2</td></tr><tr><td>4047838</td><td>List(1024522)</td><td>1</td><td>0</td><td>0.2</td></tr><tr><td>535458</td><td>List(1469331)</td><td>1</td><td>0</td><td>0.2</td></tr><tr><td>17252142</td><td>List(1486289)</td><td>1</td><td>0</td><td>0.2</td></tr><tr><td>184342</td><td>List(1399689)</td><td>1</td><td>0</td><td>0.2</td></tr><tr><td>46413680</td><td>List(1591079, 1591079)</td><td>2</td><td>0</td><td>0.2</td></tr><tr><td>2445368</td><td>List(1595644)</td><td>1</td><td>0</td><td>0.2</td></tr><tr><td>9860406</td><td>List(1595644)</td><td>1</td><td>0</td><td>0.2</td></tr><tr><td>2526498</td><td>List(1700608)</td><td>1</td><td>0</td><td>0.2</td></tr><tr><td>664900</td><td>List(1720678)</td><td>1</td><td>0</td><td>0.2</td></tr><tr><td>20217474</td><td>List(1720678)</td><td>1</td><td>0</td><td>0.2</td></tr><tr><td>10980</td><td>List(1429475)</td><td>1</td><td>0</td><td>0.2</td></tr><tr><td>15008928</td><td>List(1431951)</td><td>1</td><td>0</td><td>0.2</td></tr><tr><td>1292834</td><td>List(1292828)</td><td>1</td><td>0</td><td>0.2</td></tr><tr><td>854366</td><td>List(1127316)</td><td>1</td><td>0</td><td>0.2</td></tr><tr><td>101626</td><td>List(1127316)</td><td>1</td><td>0</td><td>0.2</td></tr><tr><td>29975400</td><td>List(1127316, 38808509)</td><td>2</td><td>0</td><td>0.2</td></tr><tr><td>359900</td><td>List(1669998)</td><td>1</td><td>0</td><td>0.2</td></tr><tr><td>2351306</td><td>List(1680590)</td><td>1</td><td>0</td><td>0.2</td></tr><tr><td>10747224</td><td>List(1667577)</td><td>1</td><td>0</td><td>0.2</td></tr><tr><td>1448994</td><td>List(622489)</td><td>1</td><td>0</td><td>0.2</td></tr><tr><td>20574324</td><td>List(1911501)</td><td>1</td><td>0</td><td>0.2</td></tr><tr><td>40431044</td><td>List(1911501, 1911501)</td><td>2</td><td>0</td><td>0.2</td></tr><tr><td>294752</td><td>List(1913368)</td><td>1</td><td>0</td><td>0.2</td></tr></tbody></table></div>"
      ]
     },
     "metadata": {
      "application/vnd.databricks.v1+output": {
       "addedWidgets": {},
       "aggData": [],
       "aggError": "",
       "aggOverflow": false,
       "aggSchema": [],
       "aggSeriesLimitReached": false,
       "aggType": "",
       "arguments": {},
       "columnCustomDisplayInfos": {},
       "data": [
        [
         22936,
         [
          14800,
          755367,
          695295,
          99613,
          2820179,
          30842027,
          8889165,
          8335160,
          7404524,
          6913118,
          30941589,
          21206923,
          21520483,
          39423220,
          21147386,
          21157958,
          21177114,
          36280966,
          14919799,
          14926413,
          14931741,
          22132567,
          20994598,
          21002100,
          21002445,
          21016099,
          21016803,
          18473320,
          21840417,
          21840490,
          21840798,
          21840967,
          20955131,
          20961917,
          20978621,
          38935393,
          28299316,
          14314801,
          21732964,
          19830459,
          19856012,
          19857205,
          36648500,
          37863783,
          36941482,
          25512374,
          46874490,
          19899331,
          19901610,
          19917252,
          21998533,
          42047168,
          45041066,
          44537951,
          21884721,
          21884939,
          21885285,
          21885760,
          21934691,
          21667238,
          21667950,
          21668534,
          21669593,
          33572177,
          30801143,
          46306965,
          33572543,
          19684410
         ],
         68,
         0,
         0.2
        ],
        [
         31108048,
         [
          25652,
          25652
         ],
         2,
         0,
         0.2
        ],
        [
         175924,
         [
          28413
         ],
         1,
         0,
         0.2
        ],
        [
         25575836,
         [
          28413
         ],
         1,
         0,
         0.2
        ],
        [
         3350364,
         [
          10577
         ],
         1,
         0,
         0.2
        ],
        [
         10929004,
         [
          10577
         ],
         1,
         0,
         0.2
        ],
        [
         266204,
         [
          11986
         ],
         1,
         0,
         0.2
        ],
        [
         925736,
         [
          11986,
          6416597
         ],
         2,
         0,
         0.2
        ],
        [
         26840,
         [
          50479,
          718098,
          1720678,
          3257073,
          12790931,
          35686750,
          12265410,
          35538163,
          43622965,
          33611377
         ],
         10,
         0,
         0.2
        ],
        [
         572302,
         [
          50479
         ],
         1,
         0,
         0.2
        ],
        [
         291336,
         [
          55578,
          1669998,
          1657212
         ],
         3,
         0,
         0.2
        ],
        [
         22326,
         [
          68554,
          2751139,
          15189444,
          20738531,
          20990302,
          34963276
         ],
         6,
         0,
         0.2
        ],
        [
         204228,
         [
          37729,
          256956,
          46663447
         ],
         3,
         0,
         0.2
        ],
        [
         99430,
         [
          37729,
          7166425,
          28087272,
          31353908,
          27208465
         ],
         5,
         0,
         0.2
        ],
        [
         6466,
         [
          194781,
          256956,
          1096699,
          622489,
          2671125,
          4603312,
          7326653,
          10649674,
          10771081,
          12898030,
          40916177,
          20949091,
          22324740,
          42046261,
          29384146
         ],
         15,
         0,
         0.2
        ],
        [
         20862,
         [
          166182
         ],
         1,
         0,
         0.2
        ],
        [
         472750,
         [
          273789
         ],
         1,
         0,
         0.2
        ],
        [
         17062920,
         [
          273854
         ],
         1,
         0,
         0.2
        ],
        [
         550464,
         [
          75261
         ],
         1,
         0,
         0.2
        ],
        [
         8418,
         [
          75261,
          2316601,
          5441158,
          23879687,
          15052813
         ],
         5,
         0,
         0.2
        ],
        [
         82838,
         [
          78922
         ],
         1,
         0,
         0.2
        ],
        [
         6466488,
         [
          78922
         ],
         1,
         0,
         0.2
        ],
        [
         81740,
         [
          233141
         ],
         1,
         0,
         0.2
        ],
        [
         211914,
         [
          150983
         ],
         1,
         0,
         0.2
        ],
        [
         48068,
         [
          151143,
          218677,
          2263226,
          2604881,
          41607453,
          32567339
         ],
         6,
         0,
         0.2
        ],
        [
         148352,
         [
          151143
         ],
         1,
         0,
         0.2
        ],
        [
         4582808,
         [
          151143
         ],
         1,
         0,
         0.2
        ],
        [
         9856624,
         [
          151143
         ],
         1,
         0,
         0.2
        ],
        [
         1392630,
         [
          311440
         ],
         1,
         0,
         0.2
        ],
        [
         19157294,
         [
          311440
         ],
         1,
         0,
         0.2
        ],
        [
         6710,
         [
          256956
         ],
         1,
         0,
         0.2
        ],
        [
         56120,
         [
          256956,
          11274309
         ],
         2,
         0,
         0.2
        ],
        [
         22190092,
         [
          367353
         ],
         1,
         0,
         0.2
        ],
        [
         1127402,
         [
          474004
         ],
         1,
         0,
         0.2
        ],
        [
         3052928,
         [
          329190
         ],
         1,
         0,
         0.2
        ],
        [
         155550,
         [
          445892
         ],
         1,
         0,
         0.2
        ],
        [
         131516,
         [
          417943,
          622489
         ],
         2,
         0,
         0.2
        ],
        [
         3753574,
         [
          218677
         ],
         1,
         0,
         0.2
        ],
        [
         12622120,
         [
          218677
         ],
         1,
         0,
         0.2
        ],
        [
         47489232,
         [
          218677,
          218677,
          3215123,
          3215123,
          10938734,
          10938734,
          6829859,
          6829859,
          9069435,
          9069435,
          25707077,
          25707077,
          44271757,
          44271757,
          26869023,
          26869023,
          37752338,
          37752338,
          43452910,
          43452910,
          33455832,
          33455832
         ],
         22,
         0,
         0.2
        ],
        [
         265716,
         [
          225632,
          3478196,
          41272951
         ],
         3,
         0,
         0.2
        ],
        [
         730658,
         [
          573341
         ],
         1,
         0,
         0.2
        ],
        [
         3146380,
         [
          578493
         ],
         1,
         0,
         0.2
        ],
        [
         42736966,
         [
          528623,
          1299957
         ],
         2,
         0,
         0.2
        ],
        [
         27116818,
         [
          595343
         ],
         1,
         0,
         0.2
        ],
        [
         229970,
         [
          563095
         ],
         1,
         0,
         0.2
        ],
        [
         562664,
         [
          563095
         ],
         1,
         0,
         0.2
        ],
        [
         1671644,
         [
          753771
         ],
         1,
         0,
         0.2
        ],
        [
         18529360,
         [
          541724
         ],
         1,
         0,
         0.2
        ],
        [
         179706,
         [
          677689
         ],
         1,
         0,
         0.2
        ],
        [
         7930,
         [
          902700,
          622489,
          2400112,
          2828195,
          9427270,
          17881122,
          36081970
         ],
         7,
         0,
         0.2
        ],
        [
         29036,
         [
          834197
         ],
         1,
         0,
         0.2
        ],
        [
         6063522,
         [
          846115
         ],
         1,
         0,
         0.2
        ],
        [
         24564090,
         [
          846115
         ],
         1,
         0,
         0.2
        ],
        [
         21752844,
         [
          846115
         ],
         1,
         0,
         0.2
        ],
        [
         21784198,
         [
          846115
         ],
         1,
         0,
         0.2
        ],
        [
         7740046,
         [
          850823
         ],
         1,
         0,
         0.2
        ],
        [
         140422,
         [
          695295
         ],
         1,
         0,
         0.2
        ],
        [
         2115480,
         [
          695295
         ],
         1,
         0,
         0.2
        ],
        [
         2477454,
         [
          1096699
         ],
         1,
         0,
         0.2
        ],
        [
         1787300,
         [
          718098
         ],
         1,
         0,
         0.2
        ],
        [
         1787788,
         [
          718098
         ],
         1,
         0,
         0.2
        ],
        [
         1788032,
         [
          718098
         ],
         1,
         0,
         0.2
        ],
        [
         256566,
         [
          962768
         ],
         1,
         0,
         0.2
        ],
        [
         129564,
         [
          93056
         ],
         1,
         0,
         0.2
        ],
        [
         387716,
         [
          983143
         ],
         1,
         0,
         0.2
        ],
        [
         259128,
         [
          992567
         ],
         1,
         0,
         0.2
        ],
        [
         1050664,
         [
          992567
         ],
         1,
         0,
         0.2
        ],
        [
         4878170,
         [
          992567
         ],
         1,
         0,
         0.2
        ],
        [
         9516,
         [
          1133365,
          38205833,
          30826366
         ],
         3,
         0,
         0.2
        ],
        [
         1280878,
         [
          1142132
         ],
         1,
         0,
         0.2
        ],
        [
         2502830,
         [
          1149707
         ],
         1,
         0,
         0.2
        ],
        [
         3697576,
         [
          1149707
         ],
         1,
         0,
         0.2
        ],
        [
         8191690,
         [
          1149707
         ],
         1,
         0,
         0.2
        ],
        [
         2246142,
         [
          1219824
         ],
         1,
         0,
         0.2
        ],
        [
         23211842,
         [
          1219824
         ],
         1,
         0,
         0.2
        ],
        [
         1123010,
         [
          1226330
         ],
         1,
         0,
         0.2
        ],
        [
         4047838,
         [
          1024522
         ],
         1,
         0,
         0.2
        ],
        [
         535458,
         [
          1469331
         ],
         1,
         0,
         0.2
        ],
        [
         17252142,
         [
          1486289
         ],
         1,
         0,
         0.2
        ],
        [
         184342,
         [
          1399689
         ],
         1,
         0,
         0.2
        ],
        [
         46413680,
         [
          1591079,
          1591079
         ],
         2,
         0,
         0.2
        ],
        [
         2445368,
         [
          1595644
         ],
         1,
         0,
         0.2
        ],
        [
         9860406,
         [
          1595644
         ],
         1,
         0,
         0.2
        ],
        [
         2526498,
         [
          1700608
         ],
         1,
         0,
         0.2
        ],
        [
         664900,
         [
          1720678
         ],
         1,
         0,
         0.2
        ],
        [
         20217474,
         [
          1720678
         ],
         1,
         0,
         0.2
        ],
        [
         10980,
         [
          1429475
         ],
         1,
         0,
         0.2
        ],
        [
         15008928,
         [
          1431951
         ],
         1,
         0,
         0.2
        ],
        [
         1292834,
         [
          1292828
         ],
         1,
         0,
         0.2
        ],
        [
         854366,
         [
          1127316
         ],
         1,
         0,
         0.2
        ],
        [
         101626,
         [
          1127316
         ],
         1,
         0,
         0.2
        ],
        [
         29975400,
         [
          1127316,
          38808509
         ],
         2,
         0,
         0.2
        ],
        [
         359900,
         [
          1669998
         ],
         1,
         0,
         0.2
        ],
        [
         2351306,
         [
          1680590
         ],
         1,
         0,
         0.2
        ],
        [
         10747224,
         [
          1667577
         ],
         1,
         0,
         0.2
        ],
        [
         1448994,
         [
          622489
         ],
         1,
         0,
         0.2
        ],
        [
         20574324,
         [
          1911501
         ],
         1,
         0,
         0.2
        ],
        [
         40431044,
         [
          1911501,
          1911501
         ],
         2,
         0,
         0.2
        ],
        [
         294752,
         [
          1913368
         ],
         1,
         0,
         0.2
        ]
       ],
       "datasetInfos": [],
       "dbfsResultPath": null,
       "isJsonSchema": true,
       "metadata": {},
       "overflow": false,
       "plotOptions": {
        "customPlotOptions": {},
        "displayType": "table",
        "pivotAggregation": null,
        "pivotColumns": null,
        "xColumns": null,
        "yColumns": null
       },
       "removedWidgets": [],
       "schema": [
        {
         "metadata": "{}",
         "name": "id",
         "type": "\"long\""
        },
        {
         "metadata": "{}",
         "name": "precessors",
         "type": "{\"type\":\"array\",\"elementType\":\"long\",\"containsNull\":true}"
        },
        {
         "metadata": "{}",
         "name": "n_precessors",
         "type": "\"long\""
        },
        {
         "metadata": "{}",
         "name": "n_succesors",
         "type": "\"long\""
        },
        {
         "metadata": "{}",
         "name": "rank",
         "type": "\"double\""
        }
       ],
       "type": "table"
      }
     },
     "output_type": "display_data"
    }
   ],
   "source": [
    "display(ReversePDF.head(100))"
   ]
  },
  {
   "cell_type": "code",
   "execution_count": 0,
   "metadata": {
    "application/vnd.databricks.v1+cell": {
     "inputWidgets": {},
     "nuid": "2a1939c6-e271-43fe-834d-5bd9ac051892",
     "showTitle": false,
     "title": ""
    }
   },
   "outputs": [
    {
     "data": {
      "text/plain": [
       "Out[338]: 418500"
      ]
     },
     "metadata": {
      "application/vnd.databricks.v1+output": {
       "addedWidgets": {},
       "arguments": {},
       "data": "Out[338]: 418500",
       "datasetInfos": [],
       "metadata": {},
       "removedWidgets": [],
       "type": "ansi"
      }
     },
     "output_type": "display_data"
    }
   ],
   "source": [
    "PageRankPDF.size"
   ]
  },
  {
   "cell_type": "code",
   "execution_count": 0,
   "metadata": {
    "application/vnd.databricks.v1+cell": {
     "inputWidgets": {},
     "nuid": "b29731dc-e96e-4b16-ac15-5988697532a2",
     "showTitle": false,
     "title": ""
    }
   },
   "outputs": [],
   "source": []
  },
  {
   "cell_type": "code",
   "execution_count": 0,
   "metadata": {
    "application/vnd.databricks.v1+cell": {
     "inputWidgets": {},
     "nuid": "7526c1fd-8591-4f0a-8e8d-3a4fcc94a37b",
     "showTitle": false,
     "title": ""
    }
   },
   "outputs": [
    {
     "data": {
      "text/plain": [
       "\u001b[0;31m---------------------------------------------------------------------------\u001b[0m\n",
       "\u001b[0;31mAttributeError\u001b[0m                            Traceback (most recent call last)\n",
       "\u001b[0;32m<command-1109003329934581>\u001b[0m in \u001b[0;36m<module>\u001b[0;34m\u001b[0m\n",
       "\u001b[0;32m----> 1\u001b[0;31m \u001b[0mPageRankPDF\u001b[0m\u001b[0;34m[\u001b[0m\u001b[0;34m\"precessors\"\u001b[0m\u001b[0;34m]\u001b[0m\u001b[0;34m.\u001b[0m\u001b[0mtoList\u001b[0m\u001b[0;34m(\u001b[0m\u001b[0;34m)\u001b[0m\u001b[0;34m\u001b[0m\u001b[0;34m\u001b[0m\u001b[0m\n",
       "\u001b[0m\n",
       "\u001b[0;32m/databricks/python/lib/python3.8/site-packages/pandas/core/generic.py\u001b[0m in \u001b[0;36m__getattr__\u001b[0;34m(self, name)\u001b[0m\n",
       "\u001b[1;32m   5463\u001b[0m             \u001b[0;32mif\u001b[0m \u001b[0mself\u001b[0m\u001b[0;34m.\u001b[0m\u001b[0m_info_axis\u001b[0m\u001b[0;34m.\u001b[0m\u001b[0m_can_hold_identifiers_and_holds_name\u001b[0m\u001b[0;34m(\u001b[0m\u001b[0mname\u001b[0m\u001b[0;34m)\u001b[0m\u001b[0;34m:\u001b[0m\u001b[0;34m\u001b[0m\u001b[0;34m\u001b[0m\u001b[0m\n",
       "\u001b[1;32m   5464\u001b[0m                 \u001b[0;32mreturn\u001b[0m \u001b[0mself\u001b[0m\u001b[0;34m[\u001b[0m\u001b[0mname\u001b[0m\u001b[0;34m]\u001b[0m\u001b[0;34m\u001b[0m\u001b[0;34m\u001b[0m\u001b[0m\n",
       "\u001b[0;32m-> 5465\u001b[0;31m             \u001b[0;32mreturn\u001b[0m \u001b[0mobject\u001b[0m\u001b[0;34m.\u001b[0m\u001b[0m__getattribute__\u001b[0m\u001b[0;34m(\u001b[0m\u001b[0mself\u001b[0m\u001b[0;34m,\u001b[0m \u001b[0mname\u001b[0m\u001b[0;34m)\u001b[0m\u001b[0;34m\u001b[0m\u001b[0;34m\u001b[0m\u001b[0m\n",
       "\u001b[0m\u001b[1;32m   5466\u001b[0m \u001b[0;34m\u001b[0m\u001b[0m\n",
       "\u001b[1;32m   5467\u001b[0m     \u001b[0;32mdef\u001b[0m \u001b[0m__setattr__\u001b[0m\u001b[0;34m(\u001b[0m\u001b[0mself\u001b[0m\u001b[0;34m,\u001b[0m \u001b[0mname\u001b[0m\u001b[0;34m:\u001b[0m \u001b[0mstr\u001b[0m\u001b[0;34m,\u001b[0m \u001b[0mvalue\u001b[0m\u001b[0;34m)\u001b[0m \u001b[0;34m->\u001b[0m \u001b[0;32mNone\u001b[0m\u001b[0;34m:\u001b[0m\u001b[0;34m\u001b[0m\u001b[0;34m\u001b[0m\u001b[0m\n",
       "\n",
       "\u001b[0;31mAttributeError\u001b[0m: 'Series' object has no attribute 'toList'"
      ]
     },
     "metadata": {
      "application/vnd.databricks.v1+output": {
       "arguments": {},
       "data": "\u001b[0;31m---------------------------------------------------------------------------\u001b[0m\n\u001b[0;31mAttributeError\u001b[0m                            Traceback (most recent call last)\n\u001b[0;32m<command-1109003329934581>\u001b[0m in \u001b[0;36m<module>\u001b[0;34m\u001b[0m\n\u001b[0;32m----> 1\u001b[0;31m \u001b[0mPageRankPDF\u001b[0m\u001b[0;34m[\u001b[0m\u001b[0;34m\"precessors\"\u001b[0m\u001b[0;34m]\u001b[0m\u001b[0;34m.\u001b[0m\u001b[0mtoList\u001b[0m\u001b[0;34m(\u001b[0m\u001b[0;34m)\u001b[0m\u001b[0;34m\u001b[0m\u001b[0;34m\u001b[0m\u001b[0m\n\u001b[0m\n\u001b[0;32m/databricks/python/lib/python3.8/site-packages/pandas/core/generic.py\u001b[0m in \u001b[0;36m__getattr__\u001b[0;34m(self, name)\u001b[0m\n\u001b[1;32m   5463\u001b[0m             \u001b[0;32mif\u001b[0m \u001b[0mself\u001b[0m\u001b[0;34m.\u001b[0m\u001b[0m_info_axis\u001b[0m\u001b[0;34m.\u001b[0m\u001b[0m_can_hold_identifiers_and_holds_name\u001b[0m\u001b[0;34m(\u001b[0m\u001b[0mname\u001b[0m\u001b[0;34m)\u001b[0m\u001b[0;34m:\u001b[0m\u001b[0;34m\u001b[0m\u001b[0;34m\u001b[0m\u001b[0m\n\u001b[1;32m   5464\u001b[0m                 \u001b[0;32mreturn\u001b[0m \u001b[0mself\u001b[0m\u001b[0;34m[\u001b[0m\u001b[0mname\u001b[0m\u001b[0;34m]\u001b[0m\u001b[0;34m\u001b[0m\u001b[0;34m\u001b[0m\u001b[0m\n\u001b[0;32m-> 5465\u001b[0;31m             \u001b[0;32mreturn\u001b[0m \u001b[0mobject\u001b[0m\u001b[0;34m.\u001b[0m\u001b[0m__getattribute__\u001b[0m\u001b[0;34m(\u001b[0m\u001b[0mself\u001b[0m\u001b[0;34m,\u001b[0m \u001b[0mname\u001b[0m\u001b[0;34m)\u001b[0m\u001b[0;34m\u001b[0m\u001b[0;34m\u001b[0m\u001b[0m\n\u001b[0m\u001b[1;32m   5466\u001b[0m \u001b[0;34m\u001b[0m\u001b[0m\n\u001b[1;32m   5467\u001b[0m     \u001b[0;32mdef\u001b[0m \u001b[0m__setattr__\u001b[0m\u001b[0;34m(\u001b[0m\u001b[0mself\u001b[0m\u001b[0;34m,\u001b[0m \u001b[0mname\u001b[0m\u001b[0;34m:\u001b[0m \u001b[0mstr\u001b[0m\u001b[0;34m,\u001b[0m \u001b[0mvalue\u001b[0m\u001b[0;34m)\u001b[0m \u001b[0;34m->\u001b[0m \u001b[0;32mNone\u001b[0m\u001b[0;34m:\u001b[0m\u001b[0;34m\u001b[0m\u001b[0;34m\u001b[0m\u001b[0m\n\n\u001b[0;31mAttributeError\u001b[0m: 'Series' object has no attribute 'toList'",
       "errorSummary": "<span class='ansi-red-fg'>AttributeError</span>: 'Series' object has no attribute 'toList'",
       "errorTraceType": "ansi",
       "metadata": {},
       "type": "ipynbError"
      }
     },
     "output_type": "display_data"
    }
   ],
   "source": [
    "PageRankPDF[\"precessors\"]"
   ]
  },
  {
   "cell_type": "code",
   "execution_count": 0,
   "metadata": {
    "application/vnd.databricks.v1+cell": {
     "inputWidgets": {},
     "nuid": "9fc64df2-f513-47bf-adad-a1ba46a40c23",
     "showTitle": false,
     "title": ""
    }
   },
   "outputs": [
    {
     "data": {
      "text/plain": [
       "11986\n",
       "6416597\n"
      ]
     },
     "metadata": {
      "application/vnd.databricks.v1+output": {
       "addedWidgets": {},
       "arguments": {},
       "data": "11986\n6416597\n",
       "datasetInfos": [],
       "metadata": {},
       "removedWidgets": [],
       "type": "ansi"
      }
     },
     "output_type": "display_data"
    }
   ],
   "source": [
    "mylist = PageRankPDF[PageRankPDF.id == 925736].iloc[0,1]\n",
    "for k in mylist: \n",
    "  print(k)"
   ]
  },
  {
   "cell_type": "code",
   "execution_count": 0,
   "metadata": {
    "application/vnd.databricks.v1+cell": {
     "inputWidgets": {},
     "nuid": "3c5173ff-802b-474a-8283-a8392cdbd2d4",
     "showTitle": false,
     "title": ""
    }
   },
   "outputs": [
    {
     "data": {
      "text/plain": [
       "<class 'pyspark.sql.column.Column'>\n"
      ]
     },
     "metadata": {
      "application/vnd.databricks.v1+output": {
       "addedWidgets": {},
       "arguments": {},
       "data": "<class 'pyspark.sql.column.Column'>\n",
       "datasetInfos": [],
       "metadata": {},
       "removedWidgets": [],
       "type": "ansi"
      }
     },
     "output_type": "display_data"
    }
   ],
   "source": [
    "print(type(ReverseDF.precessors))"
   ]
  },
  {
   "cell_type": "code",
   "execution_count": 0,
   "metadata": {
    "application/vnd.databricks.v1+cell": {
     "inputWidgets": {},
     "nuid": "da29438a-de5a-46f1-b6ce-5b8f8be5ca9d",
     "showTitle": false,
     "title": ""
    }
   },
   "outputs": [
    {
     "data": {
      "text/html": [
       "<style scoped>\n",
       "  .table-result-container {\n",
       "    max-height: 300px;\n",
       "    overflow: auto;\n",
       "  }\n",
       "  table, th, td {\n",
       "    border: 1px solid black;\n",
       "    border-collapse: collapse;\n",
       "  }\n",
       "  th, td {\n",
       "    padding: 5px;\n",
       "  }\n",
       "  th {\n",
       "    text-align: left;\n",
       "  }\n",
       "</style><div class='table-result-container'><table class='table-result'><thead style='background-color: white'><tr><th>id</th><th>links</th><th>n_succesors</th></tr></thead><tbody><tr><td>340927</td><td>List(25391, 26779, 31769, 340917, 340934, 340947, 151210, 153223, 263163, 357847, 553623, 869878, 489179, 2481352, 3434750, 4980140, 3414021, 22309268)</td><td>18</td></tr><tr><td>2542615</td><td>List(15237, 56357, 201611, 173547, 1134614, 5975550)</td><td>6</td></tr><tr><td>4254040</td><td>List(128150, 10894321, 38383124, 38383124)</td><td>4</td></tr><tr><td>3509649</td><td>List(17011, 21818, 36581, 12027, 38791, 81818, 3289662, 4321490, 5334607, 4699587, 36762240, 36762240, 41618052, 41618052)</td><td>14</td></tr><tr><td>4060126</td><td>List(22512, 23014, 33116, 149349, 446206, 950398, 1439194, 2210466, 3283823, 4399928, 4014582)</td><td>11</td></tr><tr><td>7009414</td><td>List(69080, 63403, 325569, 285314, 1168864, 6143251, 8455935, 1313445)</td><td>8</td></tr><tr><td>7159975</td><td>List(192573, 192578, 167409, 7160158)</td><td>4</td></tr><tr><td>6667872</td><td>List(6667940)</td><td>1</td></tr><tr><td>10919930</td><td>List(414082, 528282, 3021828)</td><td>3</td></tr><tr><td>6572839</td><td>List(30118, 2339717, 3097027, 27283349)</td><td>4</td></tr><tr><td>9597841</td><td>List(3049, 3383, 21201, 23623, 36656, 26997, 11867, 29392, 4752, 17616, 17617, 38483, 63514, 277226, 307499, 313998, 82198, 255919, 390875, 573064, 504174, 484254, 1044496, 1046233, 1054182, 612901, 1388963, 1393385, 623636, 1852242, 1773394, 882285, 1503080, 2143658, 1788413, 3828400, 3424339, 3783970, 3788913, 5116008, 650497, 9056994, 11930181, 18694926, 14761157, 31489604, 31489604, 23747968, 25510419, 25510421, 25510426, 25510447, 25510448, 25510450, 25511413, 13136417)</td><td>56</td></tr><tr><td>6379698</td><td>List(38493, 551448, 2799672, 2774053, 12895533, 24542769, 43699347, 43699347, 54025, 54080)</td><td>10</td></tr><tr><td>20895542</td><td>List(279629, 641068, 1664986, 2830666, 2855554, 3568046, 3725280, 4646601, 5741658, 6897319, 6897363, 5930809, 12837648, 8452507, 20895497, 20895629, 1306913, 12841882, 15448945, 38261031, 27900711, 38859528, 13317535, 38261031, 38325396, 20663130, 28207726, 38325396, 38719157, 38728497, 38719157, 38728497, 32665311, 32665311)</td><td>34</td></tr><tr><td>22371574</td><td>List(21211, 30839, 6771, 8122, 735314, 606746, 1560005, 109986, 6845548, 18951490, 17144160)</td><td>11</td></tr><tr><td>22410581</td><td>List(23298, 6653, 55169, 309661, 313645, 313646, 313647, 365944, 447008, 390975, 177157, 449552, 92656, 8354382, 12531565)</td><td>15</td></tr><tr><td>39249641</td><td>List(5405, 344775, 173301, 12080970, 9316)</td><td>5</td></tr><tr><td>20482878</td><td>List(3921, 211165, 768856, 1098087, 11830601, 122418)</td><td>6</td></tr><tr><td>26036541</td><td>List(13404, 5405, 343968, 294156, 310210, 89446, 395935, 411864, 755680, 1076849, 1476899, 1595968, 1298808, 1908114, 1943900, 2167075, 2682644, 3206951, 2403283, 2497121, 3929480, 1303670, 1304753, 20092504, 12307184, 28866408)</td><td>26</td></tr><tr><td>42305636</td><td>List(53307, 66633, 638719, 3966054, 11039790, 25900414, 19827221, 23366462)</td><td>8</td></tr><tr><td>42358235</td><td>List(23235, 60919, 164455, 343524, 401880, 365378, 216932, 822249, 6646453, 12342320, 20309054)</td><td>11</td></tr><tr><td>13511010</td><td>List(6771, 124204, 5104139)</td><td>3</td></tr><tr><td>36893675</td><td>List(15797, 15831, 10128, 18091, 20315, 74200, 297654, 92633, 95840, 1450294, 2613297, 3301134, 17113262, 24590239, 35720970, 35720970, 30001783, 30001783, 35291447, 35291447)</td><td>20</td></tr><tr><td>34111854</td><td>List(48367, 87972, 216492, 1393764, 127030, 8210131, 34257580, 34202411, 34257580, 34202411)</td><td>10</td></tr><tr><td>23736968</td><td>List(23503, 4972, 5950, 150976, 315583, 169660, 735092, 1952465, 107361, 107576, 108085, 1326282, 4923658, 5576823, 138005, 5848242, 110995, 5451380, 5478023, 5943453, 8943760, 8174681, 11330258, 8500381, 20573891, 26927791, 24542030, 27985060, 14879076, 22318023, 36425416, 36425416, 37622708, 40311827, 36917687, 36917687, 40311827, 37622708, 40144918, 27274341, 29432500, 23617407, 38508080, 38508080, 47571256)</td><td>45</td></tr><tr><td>39014312</td><td>List(21433, 12491, 17867, 19167, 155023, 155025, 3462200, 8916248, 11252905, 17013058, 23151132, 39024207, 39024207)</td><td>13</td></tr><tr><td>45446916</td><td>List(19127, 17566417)</td><td>2</td></tr><tr><td>42876958</td><td>List(22308, 38173, 1397418, 5258791, 4798479, 9316, 26119592, 42877112, 42877507, 42877112, 42877507)</td><td>11</td></tr><tr><td>23255883</td><td>List(23501, 63125, 154564, 16086176, 20656228)</td><td>5</td></tr><tr><td>36575375</td><td>List(48338, 53307, 881635, 11039790, 19827221, 14624492, 23366462)</td><td>7</td></tr><tr><td>47893551</td><td>List(3383, 53307, 66633, 703270, 11039790, 19827221, 14533577, 23366462)</td><td>8</td></tr><tr><td>21885285</td><td>List(22936, 28456, 11867, 353222, 182354, 786545, 1234326, 6981602, 15130529)</td><td>9</td></tr><tr><td>13921110</td><td>List(14533, 13677, 32231, 37756, 554992, 125315, 18184846)</td><td>7</td></tr><tr><td>32367472</td><td>List()</td><td>0</td></tr><tr><td>29406590</td><td>List(32706, 25734, 27318, 27862, 12537, 13404, 5405, 49728, 50821, 56615, 64646, 166411, 343968, 645042, 180264, 143373, 1029003, 1461079, 2146364, 1827332, 11388236, 22821281, 18603746, 17306237, 21157709, 47836950, 18660332, 36902294, 34743894, 34743894)</td><td>30</td></tr><tr><td>41834571</td><td>List(14653, 448049, 7349754, 33367842, 33367842, 41833567, 41833567)</td><td>7</td></tr><tr><td>46653940</td><td>List(5489, 29032274, 42105780, 42105780, 40398954, 40398954)</td><td>6</td></tr><tr><td>15522609</td><td>List(12108, 39696, 460895, 1269180, 100410)</td><td>5</td></tr><tr><td>46508985</td><td>List(14533, 19189, 592282, 17336029, 34063244, 36496543, 43374716, 28473060)</td><td>8</td></tr><tr><td>32478441</td><td>List(7044, 11039790, 19827221, 23366462)</td><td>4</td></tr><tr><td>33441934</td><td>List(28269, 4560, 65834, 228274, 11160406, 12168152)</td><td>6</td></tr><tr><td>27035875</td><td>List(27338, 42374, 149937, 4065486, 24361918, 13054262, 27127426)</td><td>7</td></tr><tr><td>45404199</td><td>List()</td><td>0</td></tr><tr><td>32281941</td><td>List(14533, 3343, 3708, 26741, 26994, 13275, 29265, 31717, 55904, 68736, 37756, 309616, 83368, 221746, 1377362, 1982004, 5058739, 41304982, 41304982, 40334603, 40334603)</td><td>21</td></tr><tr><td>44431524</td><td>List(1455929, 7871141, 10079731, 17882982, 41111875, 41115732, 41111875, 41115732)</td><td>8</td></tr><tr><td>47670453</td><td>List(21241, 22309, 372466, 35650504, 35650504, 23631621)</td><td>6</td></tr></tbody></table></div>"
      ]
     },
     "metadata": {
      "application/vnd.databricks.v1+output": {
       "addedWidgets": {},
       "aggData": [],
       "aggError": "",
       "aggOverflow": false,
       "aggSchema": [],
       "aggSeriesLimitReached": false,
       "aggType": "",
       "arguments": {},
       "columnCustomDisplayInfos": {},
       "data": [
        [
         340927,
         [
          25391,
          26779,
          31769,
          340917,
          340934,
          340947,
          151210,
          153223,
          263163,
          357847,
          553623,
          869878,
          489179,
          2481352,
          3434750,
          4980140,
          3414021,
          22309268
         ],
         18
        ],
        [
         2542615,
         [
          15237,
          56357,
          201611,
          173547,
          1134614,
          5975550
         ],
         6
        ],
        [
         4254040,
         [
          128150,
          10894321,
          38383124,
          38383124
         ],
         4
        ],
        [
         3509649,
         [
          17011,
          21818,
          36581,
          12027,
          38791,
          81818,
          3289662,
          4321490,
          5334607,
          4699587,
          36762240,
          36762240,
          41618052,
          41618052
         ],
         14
        ],
        [
         4060126,
         [
          22512,
          23014,
          33116,
          149349,
          446206,
          950398,
          1439194,
          2210466,
          3283823,
          4399928,
          4014582
         ],
         11
        ],
        [
         7009414,
         [
          69080,
          63403,
          325569,
          285314,
          1168864,
          6143251,
          8455935,
          1313445
         ],
         8
        ],
        [
         7159975,
         [
          192573,
          192578,
          167409,
          7160158
         ],
         4
        ],
        [
         6667872,
         [
          6667940
         ],
         1
        ],
        [
         10919930,
         [
          414082,
          528282,
          3021828
         ],
         3
        ],
        [
         6572839,
         [
          30118,
          2339717,
          3097027,
          27283349
         ],
         4
        ],
        [
         9597841,
         [
          3049,
          3383,
          21201,
          23623,
          36656,
          26997,
          11867,
          29392,
          4752,
          17616,
          17617,
          38483,
          63514,
          277226,
          307499,
          313998,
          82198,
          255919,
          390875,
          573064,
          504174,
          484254,
          1044496,
          1046233,
          1054182,
          612901,
          1388963,
          1393385,
          623636,
          1852242,
          1773394,
          882285,
          1503080,
          2143658,
          1788413,
          3828400,
          3424339,
          3783970,
          3788913,
          5116008,
          650497,
          9056994,
          11930181,
          18694926,
          14761157,
          31489604,
          31489604,
          23747968,
          25510419,
          25510421,
          25510426,
          25510447,
          25510448,
          25510450,
          25511413,
          13136417
         ],
         56
        ],
        [
         6379698,
         [
          38493,
          551448,
          2799672,
          2774053,
          12895533,
          24542769,
          43699347,
          43699347,
          54025,
          54080
         ],
         10
        ],
        [
         20895542,
         [
          279629,
          641068,
          1664986,
          2830666,
          2855554,
          3568046,
          3725280,
          4646601,
          5741658,
          6897319,
          6897363,
          5930809,
          12837648,
          8452507,
          20895497,
          20895629,
          1306913,
          12841882,
          15448945,
          38261031,
          27900711,
          38859528,
          13317535,
          38261031,
          38325396,
          20663130,
          28207726,
          38325396,
          38719157,
          38728497,
          38719157,
          38728497,
          32665311,
          32665311
         ],
         34
        ],
        [
         22371574,
         [
          21211,
          30839,
          6771,
          8122,
          735314,
          606746,
          1560005,
          109986,
          6845548,
          18951490,
          17144160
         ],
         11
        ],
        [
         22410581,
         [
          23298,
          6653,
          55169,
          309661,
          313645,
          313646,
          313647,
          365944,
          447008,
          390975,
          177157,
          449552,
          92656,
          8354382,
          12531565
         ],
         15
        ],
        [
         39249641,
         [
          5405,
          344775,
          173301,
          12080970,
          9316
         ],
         5
        ],
        [
         20482878,
         [
          3921,
          211165,
          768856,
          1098087,
          11830601,
          122418
         ],
         6
        ],
        [
         26036541,
         [
          13404,
          5405,
          343968,
          294156,
          310210,
          89446,
          395935,
          411864,
          755680,
          1076849,
          1476899,
          1595968,
          1298808,
          1908114,
          1943900,
          2167075,
          2682644,
          3206951,
          2403283,
          2497121,
          3929480,
          1303670,
          1304753,
          20092504,
          12307184,
          28866408
         ],
         26
        ],
        [
         42305636,
         [
          53307,
          66633,
          638719,
          3966054,
          11039790,
          25900414,
          19827221,
          23366462
         ],
         8
        ],
        [
         42358235,
         [
          23235,
          60919,
          164455,
          343524,
          401880,
          365378,
          216932,
          822249,
          6646453,
          12342320,
          20309054
         ],
         11
        ],
        [
         13511010,
         [
          6771,
          124204,
          5104139
         ],
         3
        ],
        [
         36893675,
         [
          15797,
          15831,
          10128,
          18091,
          20315,
          74200,
          297654,
          92633,
          95840,
          1450294,
          2613297,
          3301134,
          17113262,
          24590239,
          35720970,
          35720970,
          30001783,
          30001783,
          35291447,
          35291447
         ],
         20
        ],
        [
         34111854,
         [
          48367,
          87972,
          216492,
          1393764,
          127030,
          8210131,
          34257580,
          34202411,
          34257580,
          34202411
         ],
         10
        ],
        [
         23736968,
         [
          23503,
          4972,
          5950,
          150976,
          315583,
          169660,
          735092,
          1952465,
          107361,
          107576,
          108085,
          1326282,
          4923658,
          5576823,
          138005,
          5848242,
          110995,
          5451380,
          5478023,
          5943453,
          8943760,
          8174681,
          11330258,
          8500381,
          20573891,
          26927791,
          24542030,
          27985060,
          14879076,
          22318023,
          36425416,
          36425416,
          37622708,
          40311827,
          36917687,
          36917687,
          40311827,
          37622708,
          40144918,
          27274341,
          29432500,
          23617407,
          38508080,
          38508080,
          47571256
         ],
         45
        ],
        [
         39014312,
         [
          21433,
          12491,
          17867,
          19167,
          155023,
          155025,
          3462200,
          8916248,
          11252905,
          17013058,
          23151132,
          39024207,
          39024207
         ],
         13
        ],
        [
         45446916,
         [
          19127,
          17566417
         ],
         2
        ],
        [
         42876958,
         [
          22308,
          38173,
          1397418,
          5258791,
          4798479,
          9316,
          26119592,
          42877112,
          42877507,
          42877112,
          42877507
         ],
         11
        ],
        [
         23255883,
         [
          23501,
          63125,
          154564,
          16086176,
          20656228
         ],
         5
        ],
        [
         36575375,
         [
          48338,
          53307,
          881635,
          11039790,
          19827221,
          14624492,
          23366462
         ],
         7
        ],
        [
         47893551,
         [
          3383,
          53307,
          66633,
          703270,
          11039790,
          19827221,
          14533577,
          23366462
         ],
         8
        ],
        [
         21885285,
         [
          22936,
          28456,
          11867,
          353222,
          182354,
          786545,
          1234326,
          6981602,
          15130529
         ],
         9
        ],
        [
         13921110,
         [
          14533,
          13677,
          32231,
          37756,
          554992,
          125315,
          18184846
         ],
         7
        ],
        [
         32367472,
         [],
         0
        ],
        [
         29406590,
         [
          32706,
          25734,
          27318,
          27862,
          12537,
          13404,
          5405,
          49728,
          50821,
          56615,
          64646,
          166411,
          343968,
          645042,
          180264,
          143373,
          1029003,
          1461079,
          2146364,
          1827332,
          11388236,
          22821281,
          18603746,
          17306237,
          21157709,
          47836950,
          18660332,
          36902294,
          34743894,
          34743894
         ],
         30
        ],
        [
         41834571,
         [
          14653,
          448049,
          7349754,
          33367842,
          33367842,
          41833567,
          41833567
         ],
         7
        ],
        [
         46653940,
         [
          5489,
          29032274,
          42105780,
          42105780,
          40398954,
          40398954
         ],
         6
        ],
        [
         15522609,
         [
          12108,
          39696,
          460895,
          1269180,
          100410
         ],
         5
        ],
        [
         46508985,
         [
          14533,
          19189,
          592282,
          17336029,
          34063244,
          36496543,
          43374716,
          28473060
         ],
         8
        ],
        [
         32478441,
         [
          7044,
          11039790,
          19827221,
          23366462
         ],
         4
        ],
        [
         33441934,
         [
          28269,
          4560,
          65834,
          228274,
          11160406,
          12168152
         ],
         6
        ],
        [
         27035875,
         [
          27338,
          42374,
          149937,
          4065486,
          24361918,
          13054262,
          27127426
         ],
         7
        ],
        [
         45404199,
         [],
         0
        ],
        [
         32281941,
         [
          14533,
          3343,
          3708,
          26741,
          26994,
          13275,
          29265,
          31717,
          55904,
          68736,
          37756,
          309616,
          83368,
          221746,
          1377362,
          1982004,
          5058739,
          41304982,
          41304982,
          40334603,
          40334603
         ],
         21
        ],
        [
         44431524,
         [
          1455929,
          7871141,
          10079731,
          17882982,
          41111875,
          41115732,
          41111875,
          41115732
         ],
         8
        ],
        [
         47670453,
         [
          21241,
          22309,
          372466,
          35650504,
          35650504,
          23631621
         ],
         6
        ]
       ],
       "datasetInfos": [],
       "dbfsResultPath": null,
       "isJsonSchema": true,
       "metadata": {},
       "overflow": false,
       "plotOptions": {
        "customPlotOptions": {},
        "displayType": "table",
        "pivotAggregation": null,
        "pivotColumns": null,
        "xColumns": null,
        "yColumns": null
       },
       "removedWidgets": [],
       "schema": [
        {
         "metadata": "{}",
         "name": "id",
         "type": "\"integer\""
        },
        {
         "metadata": "{}",
         "name": "links",
         "type": "{\"type\":\"array\",\"elementType\":\"long\",\"containsNull\":true}"
        },
        {
         "metadata": "{}",
         "name": "n_succesors",
         "type": "\"integer\""
        }
       ],
       "type": "table"
      }
     },
     "output_type": "display_data"
    }
   ],
   "source": [
    "if "
   ]
  },
  {
   "cell_type": "markdown",
   "metadata": {
    "application/vnd.databricks.v1+cell": {
     "inputWidgets": {},
     "nuid": "7a864f52-aa5c-4c4a-a246-724249f7a74e",
     "showTitle": false,
     "title": ""
    }
   },
   "source": [
    "# 7) Recalculate *Page Rank Table* until:\n",
    " * All the *Page Rank* values are stable\n",
    " * Reach number of iterations (sugested value: 20 iterations)\n",
    "\n",
    "Should define a PageRank function, who receives the *id* of the document, *list of links*, and current PageRank table (**PageRankPDF**)*, and returns the new PageRank of the document *id* \n",
    "The loop must use the **ReverseDF** as master of information.\n",
    "\n",
    "Now, we define a loop:\n",
    "* While the conditions of exit are false:\n",
    " * Calculate the new page ranks, invoking the PageRank function from the **ReverseDF**, creating a new Dataframe NewPageRankDF with the [id,new_pagerank] info. (Could contains more information, if you use the suggestion in section 5) )\n",
    " * Collect the new page ranks and compares it with the previous **PageRankPDF**, checking if the new Page Ranks vary more than a threshold. If not, the exit condition is complied.\n",
    " * Update the **PageRankPDF** with the new values,and update the UDF functions."
   ]
  },
  {
   "cell_type": "code",
   "execution_count": 0,
   "metadata": {
    "application/vnd.databricks.v1+cell": {
     "inputWidgets": {},
     "nuid": "18d9cdc5-a2de-4e75-9740-8a23bf738895",
     "showTitle": false,
     "title": ""
    }
   },
   "outputs": [],
   "source": [
    "def new_pagerank(list_of_ids, pagerank):\n",
    "    '''\n",
    "    1 - Iterar por los diferentes ids de los preccessors \n",
    "    2 - Hacer el sumatorio ponderado (formula de PageRank) \n",
    "    '''\n",
    "    \n",
    "    new_page_rank = 0.0\n",
    "    N= pagerank.shape[0]-1\n",
    "        \n",
    "    for k in list_of_ids: \n",
    "        temp= pagerank\n",
    "        line = temp.query(f'id== {int(k)}', inplace = False)\n",
    "        r = float(line['rank'])\n",
    "        s = float(line['n_succesors'])\n",
    "        new_page_rank += r/s \n",
    "        \n",
    "    return float(new_page_rank)"
   ]
  },
  {
   "cell_type": "code",
   "execution_count": 0,
   "metadata": {
    "application/vnd.databricks.v1+cell": {
     "inputWidgets": {},
     "nuid": "db8a40b5-a37d-4c28-8623-e9a3088dce0d",
     "showTitle": false,
     "title": ""
    }
   },
   "outputs": [],
   "source": [
    "def new_pagerank_nosuccessors(pagerank,size):\n",
    "    '''\n",
    "    Takes into account all the ids that do not have any succesor, and shares their rank with the whole dataframe  \n",
    "    '''\n",
    "\n",
    "    withNextDF = pagerank.filter(pagerank[\"n_succesors\"]!=0)\n",
    "    withoutNextDF = pagerank.filter(pagerank[\"n_succesors\"]==0)\n",
    "    \n",
    "    temp= withoutNextDF.select(\"rank\").rdd.reduce(add)\n",
    "    sum= 0.0\n",
    "    for i in temp: sum += i\n",
    "    \n",
    "    withNextDF2 = withNextDF.withColumn(\"rank\",withNextDF.rank + F.lit(sum/(size-1)))\n",
    "    UnionDF = withoutNextDF.unionByName(withNextDF2)\n",
    "    \n",
    "    return UnionDF"
   ]
  },
  {
   "cell_type": "code",
   "execution_count": 0,
   "metadata": {
    "application/vnd.databricks.v1+cell": {
     "inputWidgets": {},
     "nuid": "cfa14d03-c420-4247-9a80-f9ce2e57653d",
     "showTitle": false,
     "title": ""
    }
   },
   "outputs": [
    {
     "data": {
      "text/plain": [
       "\u001b[0;31m---------------------------------------------------------------------------\u001b[0m\n",
       "\u001b[0;31mPythonException\u001b[0m                           Traceback (most recent call last)\n",
       "\u001b[0;32m<command-4377037375310960>\u001b[0m in \u001b[0;36m<module>\u001b[0;34m\u001b[0m\n",
       "\u001b[1;32m     14\u001b[0m \u001b[0;34m\u001b[0m\u001b[0m\n",
       "\u001b[1;32m     15\u001b[0m     \u001b[0;31m# Then the contribution of the non successor pages\u001b[0m\u001b[0;34m\u001b[0m\u001b[0;34m\u001b[0m\u001b[0;34m\u001b[0m\u001b[0m\n",
       "\u001b[0;32m---> 16\u001b[0;31m     \u001b[0mNewPageRankDF_2\u001b[0m \u001b[0;34m=\u001b[0m \u001b[0mnew_pagerank_nosuccessors\u001b[0m\u001b[0;34m(\u001b[0m\u001b[0mNewPageRankDF\u001b[0m\u001b[0;34m,\u001b[0m \u001b[0msize\u001b[0m\u001b[0;34m)\u001b[0m\u001b[0;34m\u001b[0m\u001b[0;34m\u001b[0m\u001b[0m\n",
       "\u001b[0m\u001b[1;32m     17\u001b[0m     \u001b[0mPageRankPDF\u001b[0m \u001b[0;34m=\u001b[0m \u001b[0mNewPageRankDF_2\u001b[0m\u001b[0;34m.\u001b[0m\u001b[0mtoPandas\u001b[0m\u001b[0;34m(\u001b[0m\u001b[0;34m)\u001b[0m\u001b[0;34m\u001b[0m\u001b[0;34m\u001b[0m\u001b[0m\n",
       "\u001b[1;32m     18\u001b[0m \u001b[0;34m\u001b[0m\u001b[0m\n",
       "\n",
       "\u001b[0;32m<command-4377037375310959>\u001b[0m in \u001b[0;36mnew_pagerank_nosuccessors\u001b[0;34m(pagerank, size)\u001b[0m\n",
       "\u001b[1;32m      7\u001b[0m     \u001b[0mwithoutNextDF\u001b[0m \u001b[0;34m=\u001b[0m \u001b[0mpagerank\u001b[0m\u001b[0;34m.\u001b[0m\u001b[0mfilter\u001b[0m\u001b[0;34m(\u001b[0m\u001b[0mpagerank\u001b[0m\u001b[0;34m[\u001b[0m\u001b[0;34m\"n_succesors\"\u001b[0m\u001b[0;34m]\u001b[0m\u001b[0;34m==\u001b[0m\u001b[0;36m0\u001b[0m\u001b[0;34m)\u001b[0m\u001b[0;34m\u001b[0m\u001b[0;34m\u001b[0m\u001b[0m\n",
       "\u001b[1;32m      8\u001b[0m \u001b[0;34m\u001b[0m\u001b[0m\n",
       "\u001b[0;32m----> 9\u001b[0;31m     \u001b[0mtemp\u001b[0m\u001b[0;34m=\u001b[0m \u001b[0mwithoutNextDF\u001b[0m\u001b[0;34m.\u001b[0m\u001b[0mselect\u001b[0m\u001b[0;34m(\u001b[0m\u001b[0;34m\"rank\"\u001b[0m\u001b[0;34m)\u001b[0m\u001b[0;34m.\u001b[0m\u001b[0mrdd\u001b[0m\u001b[0;34m.\u001b[0m\u001b[0mreduce\u001b[0m\u001b[0;34m(\u001b[0m\u001b[0madd\u001b[0m\u001b[0;34m)\u001b[0m\u001b[0;34m\u001b[0m\u001b[0;34m\u001b[0m\u001b[0m\n",
       "\u001b[0m\u001b[1;32m     10\u001b[0m     \u001b[0msum\u001b[0m\u001b[0;34m=\u001b[0m \u001b[0;36m0.0\u001b[0m\u001b[0;34m\u001b[0m\u001b[0;34m\u001b[0m\u001b[0m\n",
       "\u001b[1;32m     11\u001b[0m     \u001b[0;32mfor\u001b[0m \u001b[0mi\u001b[0m \u001b[0;32min\u001b[0m \u001b[0mtemp\u001b[0m\u001b[0;34m:\u001b[0m \u001b[0msum\u001b[0m \u001b[0;34m+=\u001b[0m \u001b[0mi\u001b[0m\u001b[0;34m\u001b[0m\u001b[0;34m\u001b[0m\u001b[0m\n",
       "\n",
       "\u001b[0;32m/databricks/spark/python/pyspark/rdd.py\u001b[0m in \u001b[0;36mreduce\u001b[0;34m(self, f)\u001b[0m\n",
       "\u001b[1;32m   1030\u001b[0m             \u001b[0;32myield\u001b[0m \u001b[0mreduce\u001b[0m\u001b[0;34m(\u001b[0m\u001b[0mf\u001b[0m\u001b[0;34m,\u001b[0m \u001b[0miterator\u001b[0m\u001b[0;34m,\u001b[0m \u001b[0minitial\u001b[0m\u001b[0;34m)\u001b[0m\u001b[0;34m\u001b[0m\u001b[0;34m\u001b[0m\u001b[0m\n",
       "\u001b[1;32m   1031\u001b[0m \u001b[0;34m\u001b[0m\u001b[0m\n",
       "\u001b[0;32m-> 1032\u001b[0;31m         \u001b[0mvals\u001b[0m \u001b[0;34m=\u001b[0m \u001b[0mself\u001b[0m\u001b[0;34m.\u001b[0m\u001b[0mmapPartitions\u001b[0m\u001b[0;34m(\u001b[0m\u001b[0mfunc\u001b[0m\u001b[0;34m)\u001b[0m\u001b[0;34m.\u001b[0m\u001b[0mcollect\u001b[0m\u001b[0;34m(\u001b[0m\u001b[0;34m)\u001b[0m\u001b[0;34m\u001b[0m\u001b[0;34m\u001b[0m\u001b[0m\n",
       "\u001b[0m\u001b[1;32m   1033\u001b[0m         \u001b[0;32mif\u001b[0m \u001b[0mvals\u001b[0m\u001b[0;34m:\u001b[0m\u001b[0;34m\u001b[0m\u001b[0;34m\u001b[0m\u001b[0m\n",
       "\u001b[1;32m   1034\u001b[0m             \u001b[0;32mreturn\u001b[0m \u001b[0mreduce\u001b[0m\u001b[0;34m(\u001b[0m\u001b[0mf\u001b[0m\u001b[0;34m,\u001b[0m \u001b[0mvals\u001b[0m\u001b[0;34m)\u001b[0m\u001b[0;34m\u001b[0m\u001b[0;34m\u001b[0m\u001b[0m\n",
       "\n",
       "\u001b[0;32m/databricks/spark/python/pyspark/rdd.py\u001b[0m in \u001b[0;36mcollect\u001b[0;34m(self)\u001b[0m\n",
       "\u001b[1;32m    965\u001b[0m         \u001b[0;31m# Default path used in OSS Spark / for non-credential passthrough clusters:\u001b[0m\u001b[0;34m\u001b[0m\u001b[0;34m\u001b[0m\u001b[0;34m\u001b[0m\u001b[0m\n",
       "\u001b[1;32m    966\u001b[0m         \u001b[0;32mwith\u001b[0m \u001b[0mSCCallSiteSync\u001b[0m\u001b[0;34m(\u001b[0m\u001b[0mself\u001b[0m\u001b[0;34m.\u001b[0m\u001b[0mcontext\u001b[0m\u001b[0;34m)\u001b[0m \u001b[0;32mas\u001b[0m \u001b[0mcss\u001b[0m\u001b[0;34m:\u001b[0m\u001b[0;34m\u001b[0m\u001b[0;34m\u001b[0m\u001b[0m\n",
       "\u001b[0;32m--> 967\u001b[0;31m             \u001b[0msock_info\u001b[0m \u001b[0;34m=\u001b[0m \u001b[0mself\u001b[0m\u001b[0;34m.\u001b[0m\u001b[0mctx\u001b[0m\u001b[0;34m.\u001b[0m\u001b[0m_jvm\u001b[0m\u001b[0;34m.\u001b[0m\u001b[0mPythonRDD\u001b[0m\u001b[0;34m.\u001b[0m\u001b[0mcollectAndServe\u001b[0m\u001b[0;34m(\u001b[0m\u001b[0mself\u001b[0m\u001b[0;34m.\u001b[0m\u001b[0m_jrdd\u001b[0m\u001b[0;34m.\u001b[0m\u001b[0mrdd\u001b[0m\u001b[0;34m(\u001b[0m\u001b[0;34m)\u001b[0m\u001b[0;34m)\u001b[0m\u001b[0;34m\u001b[0m\u001b[0;34m\u001b[0m\u001b[0m\n",
       "\u001b[0m\u001b[1;32m    968\u001b[0m         \u001b[0;32mreturn\u001b[0m \u001b[0mlist\u001b[0m\u001b[0;34m(\u001b[0m\u001b[0m_load_from_socket\u001b[0m\u001b[0;34m(\u001b[0m\u001b[0msock_info\u001b[0m\u001b[0;34m,\u001b[0m \u001b[0mself\u001b[0m\u001b[0;34m.\u001b[0m\u001b[0m_jrdd_deserializer\u001b[0m\u001b[0;34m)\u001b[0m\u001b[0;34m)\u001b[0m\u001b[0;34m\u001b[0m\u001b[0;34m\u001b[0m\u001b[0m\n",
       "\u001b[1;32m    969\u001b[0m \u001b[0;34m\u001b[0m\u001b[0m\n",
       "\n",
       "\u001b[0;32m/databricks/spark/python/lib/py4j-0.10.9-src.zip/py4j/java_gateway.py\u001b[0m in \u001b[0;36m__call__\u001b[0;34m(self, *args)\u001b[0m\n",
       "\u001b[1;32m   1302\u001b[0m \u001b[0;34m\u001b[0m\u001b[0m\n",
       "\u001b[1;32m   1303\u001b[0m         \u001b[0manswer\u001b[0m \u001b[0;34m=\u001b[0m \u001b[0mself\u001b[0m\u001b[0;34m.\u001b[0m\u001b[0mgateway_client\u001b[0m\u001b[0;34m.\u001b[0m\u001b[0msend_command\u001b[0m\u001b[0;34m(\u001b[0m\u001b[0mcommand\u001b[0m\u001b[0;34m)\u001b[0m\u001b[0;34m\u001b[0m\u001b[0;34m\u001b[0m\u001b[0m\n",
       "\u001b[0;32m-> 1304\u001b[0;31m         return_value = get_return_value(\n",
       "\u001b[0m\u001b[1;32m   1305\u001b[0m             answer, self.gateway_client, self.target_id, self.name)\n",
       "\u001b[1;32m   1306\u001b[0m \u001b[0;34m\u001b[0m\u001b[0m\n",
       "\n",
       "\u001b[0;32m/databricks/spark/python/pyspark/sql/utils.py\u001b[0m in \u001b[0;36mdeco\u001b[0;34m(*a, **kw)\u001b[0m\n",
       "\u001b[1;32m    121\u001b[0m                 \u001b[0;31m# Hide where the exception came from that shows a non-Pythonic\u001b[0m\u001b[0;34m\u001b[0m\u001b[0;34m\u001b[0m\u001b[0;34m\u001b[0m\u001b[0m\n",
       "\u001b[1;32m    122\u001b[0m                 \u001b[0;31m# JVM exception message.\u001b[0m\u001b[0;34m\u001b[0m\u001b[0;34m\u001b[0m\u001b[0;34m\u001b[0m\u001b[0m\n",
       "\u001b[0;32m--> 123\u001b[0;31m                 \u001b[0;32mraise\u001b[0m \u001b[0mconverted\u001b[0m \u001b[0;32mfrom\u001b[0m \u001b[0;32mNone\u001b[0m\u001b[0;34m\u001b[0m\u001b[0;34m\u001b[0m\u001b[0m\n",
       "\u001b[0m\u001b[1;32m    124\u001b[0m             \u001b[0;32melse\u001b[0m\u001b[0;34m:\u001b[0m\u001b[0;34m\u001b[0m\u001b[0;34m\u001b[0m\u001b[0m\n",
       "\u001b[1;32m    125\u001b[0m                 \u001b[0;32mraise\u001b[0m\u001b[0;34m\u001b[0m\u001b[0;34m\u001b[0m\u001b[0m\n",
       "\n",
       "\u001b[0;31mPythonException\u001b[0m: An exception was thrown from a UDF: 'TypeError: cannot convert the series to <class 'float'>', from <command-1782843817264009>, line 13. Full traceback below:\n",
       "Traceback (most recent call last):\n",
       "  File \"<command-4377037375310960>\", line 11, in <lambda>\n",
       "  File \"<command-1782843817264009>\", line 13, in new_pagerank\n",
       "  File \"/databricks/python/lib/python3.8/site-packages/pandas/core/series.py\", line 141, in wrapper\n",
       "    raise TypeError(f\"cannot convert the series to {converter}\")\n",
       "TypeError: cannot convert the series to <class 'float'>\n"
      ]
     },
     "metadata": {
      "application/vnd.databricks.v1+output": {
       "arguments": {},
       "data": "\u001b[0;31m---------------------------------------------------------------------------\u001b[0m\n\u001b[0;31mPythonException\u001b[0m                           Traceback (most recent call last)\n\u001b[0;32m<command-4377037375310960>\u001b[0m in \u001b[0;36m<module>\u001b[0;34m\u001b[0m\n\u001b[1;32m     14\u001b[0m \u001b[0;34m\u001b[0m\u001b[0m\n\u001b[1;32m     15\u001b[0m     \u001b[0;31m# Then the contribution of the non successor pages\u001b[0m\u001b[0;34m\u001b[0m\u001b[0;34m\u001b[0m\u001b[0;34m\u001b[0m\u001b[0m\n\u001b[0;32m---> 16\u001b[0;31m     \u001b[0mNewPageRankDF_2\u001b[0m \u001b[0;34m=\u001b[0m \u001b[0mnew_pagerank_nosuccessors\u001b[0m\u001b[0;34m(\u001b[0m\u001b[0mNewPageRankDF\u001b[0m\u001b[0;34m,\u001b[0m \u001b[0msize\u001b[0m\u001b[0;34m)\u001b[0m\u001b[0;34m\u001b[0m\u001b[0;34m\u001b[0m\u001b[0m\n\u001b[0m\u001b[1;32m     17\u001b[0m     \u001b[0mPageRankPDF\u001b[0m \u001b[0;34m=\u001b[0m \u001b[0mNewPageRankDF_2\u001b[0m\u001b[0;34m.\u001b[0m\u001b[0mtoPandas\u001b[0m\u001b[0;34m(\u001b[0m\u001b[0;34m)\u001b[0m\u001b[0;34m\u001b[0m\u001b[0;34m\u001b[0m\u001b[0m\n\u001b[1;32m     18\u001b[0m \u001b[0;34m\u001b[0m\u001b[0m\n\n\u001b[0;32m<command-4377037375310959>\u001b[0m in \u001b[0;36mnew_pagerank_nosuccessors\u001b[0;34m(pagerank, size)\u001b[0m\n\u001b[1;32m      7\u001b[0m     \u001b[0mwithoutNextDF\u001b[0m \u001b[0;34m=\u001b[0m \u001b[0mpagerank\u001b[0m\u001b[0;34m.\u001b[0m\u001b[0mfilter\u001b[0m\u001b[0;34m(\u001b[0m\u001b[0mpagerank\u001b[0m\u001b[0;34m[\u001b[0m\u001b[0;34m\"n_succesors\"\u001b[0m\u001b[0;34m]\u001b[0m\u001b[0;34m==\u001b[0m\u001b[0;36m0\u001b[0m\u001b[0;34m)\u001b[0m\u001b[0;34m\u001b[0m\u001b[0;34m\u001b[0m\u001b[0m\n\u001b[1;32m      8\u001b[0m \u001b[0;34m\u001b[0m\u001b[0m\n\u001b[0;32m----> 9\u001b[0;31m     \u001b[0mtemp\u001b[0m\u001b[0;34m=\u001b[0m \u001b[0mwithoutNextDF\u001b[0m\u001b[0;34m.\u001b[0m\u001b[0mselect\u001b[0m\u001b[0;34m(\u001b[0m\u001b[0;34m\"rank\"\u001b[0m\u001b[0;34m)\u001b[0m\u001b[0;34m.\u001b[0m\u001b[0mrdd\u001b[0m\u001b[0;34m.\u001b[0m\u001b[0mreduce\u001b[0m\u001b[0;34m(\u001b[0m\u001b[0madd\u001b[0m\u001b[0;34m)\u001b[0m\u001b[0;34m\u001b[0m\u001b[0;34m\u001b[0m\u001b[0m\n\u001b[0m\u001b[1;32m     10\u001b[0m     \u001b[0msum\u001b[0m\u001b[0;34m=\u001b[0m \u001b[0;36m0.0\u001b[0m\u001b[0;34m\u001b[0m\u001b[0;34m\u001b[0m\u001b[0m\n\u001b[1;32m     11\u001b[0m     \u001b[0;32mfor\u001b[0m \u001b[0mi\u001b[0m \u001b[0;32min\u001b[0m \u001b[0mtemp\u001b[0m\u001b[0;34m:\u001b[0m \u001b[0msum\u001b[0m \u001b[0;34m+=\u001b[0m \u001b[0mi\u001b[0m\u001b[0;34m\u001b[0m\u001b[0;34m\u001b[0m\u001b[0m\n\n\u001b[0;32m/databricks/spark/python/pyspark/rdd.py\u001b[0m in \u001b[0;36mreduce\u001b[0;34m(self, f)\u001b[0m\n\u001b[1;32m   1030\u001b[0m             \u001b[0;32myield\u001b[0m \u001b[0mreduce\u001b[0m\u001b[0;34m(\u001b[0m\u001b[0mf\u001b[0m\u001b[0;34m,\u001b[0m \u001b[0miterator\u001b[0m\u001b[0;34m,\u001b[0m \u001b[0minitial\u001b[0m\u001b[0;34m)\u001b[0m\u001b[0;34m\u001b[0m\u001b[0;34m\u001b[0m\u001b[0m\n\u001b[1;32m   1031\u001b[0m \u001b[0;34m\u001b[0m\u001b[0m\n\u001b[0;32m-> 1032\u001b[0;31m         \u001b[0mvals\u001b[0m \u001b[0;34m=\u001b[0m \u001b[0mself\u001b[0m\u001b[0;34m.\u001b[0m\u001b[0mmapPartitions\u001b[0m\u001b[0;34m(\u001b[0m\u001b[0mfunc\u001b[0m\u001b[0;34m)\u001b[0m\u001b[0;34m.\u001b[0m\u001b[0mcollect\u001b[0m\u001b[0;34m(\u001b[0m\u001b[0;34m)\u001b[0m\u001b[0;34m\u001b[0m\u001b[0;34m\u001b[0m\u001b[0m\n\u001b[0m\u001b[1;32m   1033\u001b[0m         \u001b[0;32mif\u001b[0m \u001b[0mvals\u001b[0m\u001b[0;34m:\u001b[0m\u001b[0;34m\u001b[0m\u001b[0;34m\u001b[0m\u001b[0m\n\u001b[1;32m   1034\u001b[0m             \u001b[0;32mreturn\u001b[0m \u001b[0mreduce\u001b[0m\u001b[0;34m(\u001b[0m\u001b[0mf\u001b[0m\u001b[0;34m,\u001b[0m \u001b[0mvals\u001b[0m\u001b[0;34m)\u001b[0m\u001b[0;34m\u001b[0m\u001b[0;34m\u001b[0m\u001b[0m\n\n\u001b[0;32m/databricks/spark/python/pyspark/rdd.py\u001b[0m in \u001b[0;36mcollect\u001b[0;34m(self)\u001b[0m\n\u001b[1;32m    965\u001b[0m         \u001b[0;31m# Default path used in OSS Spark / for non-credential passthrough clusters:\u001b[0m\u001b[0;34m\u001b[0m\u001b[0;34m\u001b[0m\u001b[0;34m\u001b[0m\u001b[0m\n\u001b[1;32m    966\u001b[0m         \u001b[0;32mwith\u001b[0m \u001b[0mSCCallSiteSync\u001b[0m\u001b[0;34m(\u001b[0m\u001b[0mself\u001b[0m\u001b[0;34m.\u001b[0m\u001b[0mcontext\u001b[0m\u001b[0;34m)\u001b[0m \u001b[0;32mas\u001b[0m \u001b[0mcss\u001b[0m\u001b[0;34m:\u001b[0m\u001b[0;34m\u001b[0m\u001b[0;34m\u001b[0m\u001b[0m\n\u001b[0;32m--> 967\u001b[0;31m             \u001b[0msock_info\u001b[0m \u001b[0;34m=\u001b[0m \u001b[0mself\u001b[0m\u001b[0;34m.\u001b[0m\u001b[0mctx\u001b[0m\u001b[0;34m.\u001b[0m\u001b[0m_jvm\u001b[0m\u001b[0;34m.\u001b[0m\u001b[0mPythonRDD\u001b[0m\u001b[0;34m.\u001b[0m\u001b[0mcollectAndServe\u001b[0m\u001b[0;34m(\u001b[0m\u001b[0mself\u001b[0m\u001b[0;34m.\u001b[0m\u001b[0m_jrdd\u001b[0m\u001b[0;34m.\u001b[0m\u001b[0mrdd\u001b[0m\u001b[0;34m(\u001b[0m\u001b[0;34m)\u001b[0m\u001b[0;34m)\u001b[0m\u001b[0;34m\u001b[0m\u001b[0;34m\u001b[0m\u001b[0m\n\u001b[0m\u001b[1;32m    968\u001b[0m         \u001b[0;32mreturn\u001b[0m \u001b[0mlist\u001b[0m\u001b[0;34m(\u001b[0m\u001b[0m_load_from_socket\u001b[0m\u001b[0;34m(\u001b[0m\u001b[0msock_info\u001b[0m\u001b[0;34m,\u001b[0m \u001b[0mself\u001b[0m\u001b[0;34m.\u001b[0m\u001b[0m_jrdd_deserializer\u001b[0m\u001b[0;34m)\u001b[0m\u001b[0;34m)\u001b[0m\u001b[0;34m\u001b[0m\u001b[0;34m\u001b[0m\u001b[0m\n\u001b[1;32m    969\u001b[0m \u001b[0;34m\u001b[0m\u001b[0m\n\n\u001b[0;32m/databricks/spark/python/lib/py4j-0.10.9-src.zip/py4j/java_gateway.py\u001b[0m in \u001b[0;36m__call__\u001b[0;34m(self, *args)\u001b[0m\n\u001b[1;32m   1302\u001b[0m \u001b[0;34m\u001b[0m\u001b[0m\n\u001b[1;32m   1303\u001b[0m         \u001b[0manswer\u001b[0m \u001b[0;34m=\u001b[0m \u001b[0mself\u001b[0m\u001b[0;34m.\u001b[0m\u001b[0mgateway_client\u001b[0m\u001b[0;34m.\u001b[0m\u001b[0msend_command\u001b[0m\u001b[0;34m(\u001b[0m\u001b[0mcommand\u001b[0m\u001b[0;34m)\u001b[0m\u001b[0;34m\u001b[0m\u001b[0;34m\u001b[0m\u001b[0m\n\u001b[0;32m-> 1304\u001b[0;31m         return_value = get_return_value(\n\u001b[0m\u001b[1;32m   1305\u001b[0m             answer, self.gateway_client, self.target_id, self.name)\n\u001b[1;32m   1306\u001b[0m \u001b[0;34m\u001b[0m\u001b[0m\n\n\u001b[0;32m/databricks/spark/python/pyspark/sql/utils.py\u001b[0m in \u001b[0;36mdeco\u001b[0;34m(*a, **kw)\u001b[0m\n\u001b[1;32m    121\u001b[0m                 \u001b[0;31m# Hide where the exception came from that shows a non-Pythonic\u001b[0m\u001b[0;34m\u001b[0m\u001b[0;34m\u001b[0m\u001b[0;34m\u001b[0m\u001b[0m\n\u001b[1;32m    122\u001b[0m                 \u001b[0;31m# JVM exception message.\u001b[0m\u001b[0;34m\u001b[0m\u001b[0;34m\u001b[0m\u001b[0;34m\u001b[0m\u001b[0m\n\u001b[0;32m--> 123\u001b[0;31m                 \u001b[0;32mraise\u001b[0m \u001b[0mconverted\u001b[0m \u001b[0;32mfrom\u001b[0m \u001b[0;32mNone\u001b[0m\u001b[0;34m\u001b[0m\u001b[0;34m\u001b[0m\u001b[0m\n\u001b[0m\u001b[1;32m    124\u001b[0m             \u001b[0;32melse\u001b[0m\u001b[0;34m:\u001b[0m\u001b[0;34m\u001b[0m\u001b[0;34m\u001b[0m\u001b[0m\n\u001b[1;32m    125\u001b[0m                 \u001b[0;32mraise\u001b[0m\u001b[0;34m\u001b[0m\u001b[0;34m\u001b[0m\u001b[0m\n\n\u001b[0;31mPythonException\u001b[0m: An exception was thrown from a UDF: 'TypeError: cannot convert the series to <class 'float'>', from <command-1782843817264009>, line 13. Full traceback below:\nTraceback (most recent call last):\n  File \"<command-4377037375310960>\", line 11, in <lambda>\n  File \"<command-1782843817264009>\", line 13, in new_pagerank\n  File \"/databricks/python/lib/python3.8/site-packages/pandas/core/series.py\", line 141, in wrapper\n    raise TypeError(f\"cannot convert the series to {converter}\")\nTypeError: cannot convert the series to <class 'float'>\n",
       "errorSummary": "<span class='ansi-red-fg'>PythonException</span>: An exception was thrown from a UDF: 'TypeError: cannot convert the series to <class 'float'>', from <command-1782843817264009>, line 13. Full traceback below:\nTraceback (most recent call last):\n  File \"<command-4377037375310960>\", line 11, in <lambda>\n  File \"<command-1782843817264009>\", line 13, in new_pagerank\n  File \"/databricks/python/lib/python3.8/site-packages/pandas/core/series.py\", line 141, in wrapper\n    raise TypeError(f\"cannot convert the series to {converter}\")\nTypeError: cannot convert the series to <class 'float'>\n",
       "errorTraceType": "ansi",
       "metadata": {},
       "type": "ipynbError"
      }
     },
     "output_type": "display_data"
    }
   ],
   "source": [
    "count= 0\n",
    "temp= 2\n",
    "# broadcast_PageRankPDF= sc.broadcast(ReversePDF)\n",
    "PageRankPDF= ReversePDF\n",
    "size = PageRankPDF.shape[0]\n",
    "PrevRankPDF= PageRankPDF\n",
    "\n",
    "while (count < 1) and (temp > 0.0001):\n",
    "    conv= 0.0\n",
    "    # First we take into account the contribution of the usual pages\n",
    "    udf_new_pagerank = udf(lambda l: new_pagerank(l , PageRankPDF), FloatType())\n",
    "    NewPageRankDF = ReverseDF.select(\"id\",udf_new_pagerank(\"precessors\").alias(\"rank\"),\"n_succesors\")\n",
    "    \n",
    "    \n",
    "    # Then the contribution of the non successor pages \n",
    "    NewPageRankDF_2 = new_pagerank_nosuccessors(NewPageRankDF, size)\n",
    "    PageRankPDF = NewPageRankDF_2.toPandas() \n",
    "    \n",
    "    temp = abs(PageRankPDF[\"rank\"] - PrevRankPDF[\"rank\"]).sum()/size\n",
    "       \n",
    "    PrevRankPDF = PageRankPDF\n",
    "    count += 1 \n",
    "\n",
    "FinalPageRankDF = NewPageRankDF_2.orderBy(F.desc(\"rank\")).select(\"id\", \"rank\")"
   ]
  },
  {
   "cell_type": "code",
   "execution_count": 0,
   "metadata": {
    "application/vnd.databricks.v1+cell": {
     "inputWidgets": {},
     "nuid": "7bd193e0-169e-4fd2-93fc-316d48c7090d",
     "showTitle": false,
     "title": ""
    }
   },
   "outputs": [
    {
     "data": {
      "text/plain": [
       "\u001b[0;31m---------------------------------------------------------------------------\u001b[0m\n",
       "\u001b[0;31mPythonException\u001b[0m                           Traceback (most recent call last)\n",
       "\u001b[0;32m<command-1109003329934587>\u001b[0m in \u001b[0;36m<module>\u001b[0;34m\u001b[0m\n",
       "\u001b[0;32m----> 1\u001b[0;31m \u001b[0mNewPageRankDF\u001b[0m\u001b[0;34m.\u001b[0m\u001b[0mshow\u001b[0m\u001b[0;34m(\u001b[0m\u001b[0;34m)\u001b[0m\u001b[0;34m\u001b[0m\u001b[0;34m\u001b[0m\u001b[0m\n",
       "\u001b[0m\n",
       "\u001b[0;32m/databricks/spark/python/pyspark/sql/dataframe.py\u001b[0m in \u001b[0;36mshow\u001b[0;34m(self, n, truncate, vertical)\u001b[0m\n",
       "\u001b[1;32m    488\u001b[0m         \"\"\"\n",
       "\u001b[1;32m    489\u001b[0m         \u001b[0;32mif\u001b[0m \u001b[0misinstance\u001b[0m\u001b[0;34m(\u001b[0m\u001b[0mtruncate\u001b[0m\u001b[0;34m,\u001b[0m \u001b[0mbool\u001b[0m\u001b[0;34m)\u001b[0m \u001b[0;32mand\u001b[0m \u001b[0mtruncate\u001b[0m\u001b[0;34m:\u001b[0m\u001b[0;34m\u001b[0m\u001b[0;34m\u001b[0m\u001b[0m\n",
       "\u001b[0;32m--> 490\u001b[0;31m             \u001b[0mprint\u001b[0m\u001b[0;34m(\u001b[0m\u001b[0mself\u001b[0m\u001b[0;34m.\u001b[0m\u001b[0m_jdf\u001b[0m\u001b[0;34m.\u001b[0m\u001b[0mshowString\u001b[0m\u001b[0;34m(\u001b[0m\u001b[0mn\u001b[0m\u001b[0;34m,\u001b[0m \u001b[0;36m20\u001b[0m\u001b[0;34m,\u001b[0m \u001b[0mvertical\u001b[0m\u001b[0;34m)\u001b[0m\u001b[0;34m)\u001b[0m\u001b[0;34m\u001b[0m\u001b[0;34m\u001b[0m\u001b[0m\n",
       "\u001b[0m\u001b[1;32m    491\u001b[0m         \u001b[0;32melse\u001b[0m\u001b[0;34m:\u001b[0m\u001b[0;34m\u001b[0m\u001b[0;34m\u001b[0m\u001b[0m\n",
       "\u001b[1;32m    492\u001b[0m             \u001b[0mprint\u001b[0m\u001b[0;34m(\u001b[0m\u001b[0mself\u001b[0m\u001b[0;34m.\u001b[0m\u001b[0m_jdf\u001b[0m\u001b[0;34m.\u001b[0m\u001b[0mshowString\u001b[0m\u001b[0;34m(\u001b[0m\u001b[0mn\u001b[0m\u001b[0;34m,\u001b[0m \u001b[0mint\u001b[0m\u001b[0;34m(\u001b[0m\u001b[0mtruncate\u001b[0m\u001b[0;34m)\u001b[0m\u001b[0;34m,\u001b[0m \u001b[0mvertical\u001b[0m\u001b[0;34m)\u001b[0m\u001b[0;34m)\u001b[0m\u001b[0;34m\u001b[0m\u001b[0;34m\u001b[0m\u001b[0m\n",
       "\n",
       "\u001b[0;32m/databricks/spark/python/lib/py4j-0.10.9-src.zip/py4j/java_gateway.py\u001b[0m in \u001b[0;36m__call__\u001b[0;34m(self, *args)\u001b[0m\n",
       "\u001b[1;32m   1302\u001b[0m \u001b[0;34m\u001b[0m\u001b[0m\n",
       "\u001b[1;32m   1303\u001b[0m         \u001b[0manswer\u001b[0m \u001b[0;34m=\u001b[0m \u001b[0mself\u001b[0m\u001b[0;34m.\u001b[0m\u001b[0mgateway_client\u001b[0m\u001b[0;34m.\u001b[0m\u001b[0msend_command\u001b[0m\u001b[0;34m(\u001b[0m\u001b[0mcommand\u001b[0m\u001b[0;34m)\u001b[0m\u001b[0;34m\u001b[0m\u001b[0;34m\u001b[0m\u001b[0m\n",
       "\u001b[0;32m-> 1304\u001b[0;31m         return_value = get_return_value(\n",
       "\u001b[0m\u001b[1;32m   1305\u001b[0m             answer, self.gateway_client, self.target_id, self.name)\n",
       "\u001b[1;32m   1306\u001b[0m \u001b[0;34m\u001b[0m\u001b[0m\n",
       "\n",
       "\u001b[0;32m/databricks/spark/python/pyspark/sql/utils.py\u001b[0m in \u001b[0;36mdeco\u001b[0;34m(*a, **kw)\u001b[0m\n",
       "\u001b[1;32m    121\u001b[0m                 \u001b[0;31m# Hide where the exception came from that shows a non-Pythonic\u001b[0m\u001b[0;34m\u001b[0m\u001b[0;34m\u001b[0m\u001b[0;34m\u001b[0m\u001b[0m\n",
       "\u001b[1;32m    122\u001b[0m                 \u001b[0;31m# JVM exception message.\u001b[0m\u001b[0;34m\u001b[0m\u001b[0;34m\u001b[0m\u001b[0;34m\u001b[0m\u001b[0m\n",
       "\u001b[0;32m--> 123\u001b[0;31m                 \u001b[0;32mraise\u001b[0m \u001b[0mconverted\u001b[0m \u001b[0;32mfrom\u001b[0m \u001b[0;32mNone\u001b[0m\u001b[0;34m\u001b[0m\u001b[0;34m\u001b[0m\u001b[0m\n",
       "\u001b[0m\u001b[1;32m    124\u001b[0m             \u001b[0;32melse\u001b[0m\u001b[0;34m:\u001b[0m\u001b[0;34m\u001b[0m\u001b[0;34m\u001b[0m\u001b[0m\n",
       "\u001b[1;32m    125\u001b[0m                 \u001b[0;32mraise\u001b[0m\u001b[0;34m\u001b[0m\u001b[0;34m\u001b[0m\u001b[0m\n",
       "\n",
       "\u001b[0;31mPythonException\u001b[0m: An exception was thrown from a UDF: 'IndexError: single positional indexer is out-of-bounds', from <command-1782843817264009>, line 10. Full traceback below:\n",
       "Traceback (most recent call last):\n",
       "  File \"<command-1782843817264010>\", line 4, in <lambda>\n",
       "  File \"<command-1782843817264009>\", line 10, in new_pagerank\n",
       "  File \"/databricks/python/lib/python3.8/site-packages/pandas/core/indexing.py\", line 889, in __getitem__\n",
       "    return self._getitem_tuple(key)\n",
       "  File \"/databricks/python/lib/python3.8/site-packages/pandas/core/indexing.py\", line 1450, in _getitem_tuple\n",
       "    self._has_valid_tuple(tup)\n",
       "  File \"/databricks/python/lib/python3.8/site-packages/pandas/core/indexing.py\", line 725, in _has_valid_tuple\n",
       "    raise ValueError(\n",
       "  File \"/databricks/python/lib/python3.8/site-packages/pandas/core/indexing.py\", line 1358, in _validate_key\n",
       "    self._validate_integer(key, axis)\n",
       "  File \"/databricks/python/lib/python3.8/site-packages/pandas/core/indexing.py\", line 1444, in _validate_integer\n",
       "    raise IndexError(\"single positional indexer is out-of-bounds\")\n",
       "IndexError: single positional indexer is out-of-bounds\n"
      ]
     },
     "metadata": {
      "application/vnd.databricks.v1+output": {
       "arguments": {},
       "data": "\u001b[0;31m---------------------------------------------------------------------------\u001b[0m\n\u001b[0;31mPythonException\u001b[0m                           Traceback (most recent call last)\n\u001b[0;32m<command-1109003329934587>\u001b[0m in \u001b[0;36m<module>\u001b[0;34m\u001b[0m\n\u001b[0;32m----> 1\u001b[0;31m \u001b[0mNewPageRankDF\u001b[0m\u001b[0;34m.\u001b[0m\u001b[0mshow\u001b[0m\u001b[0;34m(\u001b[0m\u001b[0;34m)\u001b[0m\u001b[0;34m\u001b[0m\u001b[0;34m\u001b[0m\u001b[0m\n\u001b[0m\n\u001b[0;32m/databricks/spark/python/pyspark/sql/dataframe.py\u001b[0m in \u001b[0;36mshow\u001b[0;34m(self, n, truncate, vertical)\u001b[0m\n\u001b[1;32m    488\u001b[0m         \"\"\"\n\u001b[1;32m    489\u001b[0m         \u001b[0;32mif\u001b[0m \u001b[0misinstance\u001b[0m\u001b[0;34m(\u001b[0m\u001b[0mtruncate\u001b[0m\u001b[0;34m,\u001b[0m \u001b[0mbool\u001b[0m\u001b[0;34m)\u001b[0m \u001b[0;32mand\u001b[0m \u001b[0mtruncate\u001b[0m\u001b[0;34m:\u001b[0m\u001b[0;34m\u001b[0m\u001b[0;34m\u001b[0m\u001b[0m\n\u001b[0;32m--> 490\u001b[0;31m             \u001b[0mprint\u001b[0m\u001b[0;34m(\u001b[0m\u001b[0mself\u001b[0m\u001b[0;34m.\u001b[0m\u001b[0m_jdf\u001b[0m\u001b[0;34m.\u001b[0m\u001b[0mshowString\u001b[0m\u001b[0;34m(\u001b[0m\u001b[0mn\u001b[0m\u001b[0;34m,\u001b[0m \u001b[0;36m20\u001b[0m\u001b[0;34m,\u001b[0m \u001b[0mvertical\u001b[0m\u001b[0;34m)\u001b[0m\u001b[0;34m)\u001b[0m\u001b[0;34m\u001b[0m\u001b[0;34m\u001b[0m\u001b[0m\n\u001b[0m\u001b[1;32m    491\u001b[0m         \u001b[0;32melse\u001b[0m\u001b[0;34m:\u001b[0m\u001b[0;34m\u001b[0m\u001b[0;34m\u001b[0m\u001b[0m\n\u001b[1;32m    492\u001b[0m             \u001b[0mprint\u001b[0m\u001b[0;34m(\u001b[0m\u001b[0mself\u001b[0m\u001b[0;34m.\u001b[0m\u001b[0m_jdf\u001b[0m\u001b[0;34m.\u001b[0m\u001b[0mshowString\u001b[0m\u001b[0;34m(\u001b[0m\u001b[0mn\u001b[0m\u001b[0;34m,\u001b[0m \u001b[0mint\u001b[0m\u001b[0;34m(\u001b[0m\u001b[0mtruncate\u001b[0m\u001b[0;34m)\u001b[0m\u001b[0;34m,\u001b[0m \u001b[0mvertical\u001b[0m\u001b[0;34m)\u001b[0m\u001b[0;34m)\u001b[0m\u001b[0;34m\u001b[0m\u001b[0;34m\u001b[0m\u001b[0m\n\n\u001b[0;32m/databricks/spark/python/lib/py4j-0.10.9-src.zip/py4j/java_gateway.py\u001b[0m in \u001b[0;36m__call__\u001b[0;34m(self, *args)\u001b[0m\n\u001b[1;32m   1302\u001b[0m \u001b[0;34m\u001b[0m\u001b[0m\n\u001b[1;32m   1303\u001b[0m         \u001b[0manswer\u001b[0m \u001b[0;34m=\u001b[0m \u001b[0mself\u001b[0m\u001b[0;34m.\u001b[0m\u001b[0mgateway_client\u001b[0m\u001b[0;34m.\u001b[0m\u001b[0msend_command\u001b[0m\u001b[0;34m(\u001b[0m\u001b[0mcommand\u001b[0m\u001b[0;34m)\u001b[0m\u001b[0;34m\u001b[0m\u001b[0;34m\u001b[0m\u001b[0m\n\u001b[0;32m-> 1304\u001b[0;31m         return_value = get_return_value(\n\u001b[0m\u001b[1;32m   1305\u001b[0m             answer, self.gateway_client, self.target_id, self.name)\n\u001b[1;32m   1306\u001b[0m \u001b[0;34m\u001b[0m\u001b[0m\n\n\u001b[0;32m/databricks/spark/python/pyspark/sql/utils.py\u001b[0m in \u001b[0;36mdeco\u001b[0;34m(*a, **kw)\u001b[0m\n\u001b[1;32m    121\u001b[0m                 \u001b[0;31m# Hide where the exception came from that shows a non-Pythonic\u001b[0m\u001b[0;34m\u001b[0m\u001b[0;34m\u001b[0m\u001b[0;34m\u001b[0m\u001b[0m\n\u001b[1;32m    122\u001b[0m                 \u001b[0;31m# JVM exception message.\u001b[0m\u001b[0;34m\u001b[0m\u001b[0;34m\u001b[0m\u001b[0;34m\u001b[0m\u001b[0m\n\u001b[0;32m--> 123\u001b[0;31m                 \u001b[0;32mraise\u001b[0m \u001b[0mconverted\u001b[0m \u001b[0;32mfrom\u001b[0m \u001b[0;32mNone\u001b[0m\u001b[0;34m\u001b[0m\u001b[0;34m\u001b[0m\u001b[0m\n\u001b[0m\u001b[1;32m    124\u001b[0m             \u001b[0;32melse\u001b[0m\u001b[0;34m:\u001b[0m\u001b[0;34m\u001b[0m\u001b[0;34m\u001b[0m\u001b[0m\n\u001b[1;32m    125\u001b[0m                 \u001b[0;32mraise\u001b[0m\u001b[0;34m\u001b[0m\u001b[0;34m\u001b[0m\u001b[0m\n\n\u001b[0;31mPythonException\u001b[0m: An exception was thrown from a UDF: 'IndexError: single positional indexer is out-of-bounds', from <command-1782843817264009>, line 10. Full traceback below:\nTraceback (most recent call last):\n  File \"<command-1782843817264010>\", line 4, in <lambda>\n  File \"<command-1782843817264009>\", line 10, in new_pagerank\n  File \"/databricks/python/lib/python3.8/site-packages/pandas/core/indexing.py\", line 889, in __getitem__\n    return self._getitem_tuple(key)\n  File \"/databricks/python/lib/python3.8/site-packages/pandas/core/indexing.py\", line 1450, in _getitem_tuple\n    self._has_valid_tuple(tup)\n  File \"/databricks/python/lib/python3.8/site-packages/pandas/core/indexing.py\", line 725, in _has_valid_tuple\n    raise ValueError(\n  File \"/databricks/python/lib/python3.8/site-packages/pandas/core/indexing.py\", line 1358, in _validate_key\n    self._validate_integer(key, axis)\n  File \"/databricks/python/lib/python3.8/site-packages/pandas/core/indexing.py\", line 1444, in _validate_integer\n    raise IndexError(\"single positional indexer is out-of-bounds\")\nIndexError: single positional indexer is out-of-bounds\n",
       "errorSummary": "<span class='ansi-red-fg'>PythonException</span>: An exception was thrown from a UDF: 'IndexError: single positional indexer is out-of-bounds', from <command-1782843817264009>, line 10. Full traceback below:\nTraceback (most recent call last):\n  File \"<command-1782843817264010>\", line 4, in <lambda>\n  File \"<command-1782843817264009>\", line 10, in new_pagerank\n  File \"/databricks/python/lib/python3.8/site-packages/pandas/core/indexing.py\", line 889, in __getitem__\n    return self._getitem_tuple(key)\n  File \"/databricks/python/lib/python3.8/site-packages/pandas/core/indexing.py\", line 1450, in _getitem_tuple\n    self._has_valid_tuple(tup)\n  File \"/databricks/python/lib/python3.8/site-packages/pandas/core/indexing.py\", line 725, in _has_valid_tuple\n    raise ValueError(\n  File \"/databricks/python/lib/python3.8/site-packages/pandas/core/indexing.py\", line 1358, in _validate_key\n    self._validate_integer(key, axis)\n  File \"/databricks/python/lib/python3.8/site-packages/pandas/core/indexing.py\", line 1444, in _validate_integer\n    raise IndexError(\"single positional indexer is out-of-bounds\")\nIndexError: single positional indexer is out-of-bounds\n",
       "errorTraceType": "ansi",
       "metadata": {},
       "type": "ipynbError"
      }
     },
     "output_type": "display_data"
    }
   ],
   "source": [
    "FinalPageRankDF.head(15).show()\n",
    "count"
   ]
  }
 ],
 "metadata": {
  "application/vnd.databricks.v1+notebook": {
   "dashboards": [],
   "language": "python",
   "notebookMetadata": {
    "pythonIndentUnit": 2
   },
   "notebookName": "our_FinalNotebook",
   "notebookOrigID": 1782843817263948,
   "widgets": {}
  },
  "kernelspec": {
   "display_name": "Python 3 (ipykernel)",
   "language": "python",
   "name": "python3"
  },
  "language_info": {
   "codemirror_mode": {
    "name": "ipython",
    "version": 3
   },
   "file_extension": ".py",
   "mimetype": "text/x-python",
   "name": "python",
   "nbconvert_exporter": "python",
   "pygments_lexer": "ipython3",
   "version": "3.9.1"
  }
 },
 "nbformat": 4,
 "nbformat_minor": 1
}
